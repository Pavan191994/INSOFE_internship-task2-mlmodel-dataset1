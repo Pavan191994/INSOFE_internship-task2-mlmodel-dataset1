{
 "cells": [
  {
   "cell_type": "code",
   "execution_count": 2,
   "metadata": {},
   "outputs": [],
   "source": [
    "import pandas as pd\n",
    "import numpy as np\n",
    "\n",
    "from sklearn.preprocessing import StandardScaler\n",
    "from sklearn.model_selection import train_test_split\n",
    "from sklearn.metrics import confusion_matrix\n",
    "\n",
    "from sklearn import tree\n",
    "\n",
    "\n",
    "from sklearn.model_selection import GridSearchCV\n",
    "\n",
    "import graphviz\n",
    "#!conda install --yes python-graphviz\n",
    "#!conda install --yes graphviz\n",
    "\n",
    "import matplotlib.pyplot as plt"
   ]
  },
  {
   "cell_type": "code",
   "execution_count": 3,
   "metadata": {},
   "outputs": [
    {
     "name": "stderr",
     "output_type": "stream",
     "text": [
      "Using TensorFlow backend.\n"
     ]
    }
   ],
   "source": [
    "from sklearn import preprocessing\n",
    "from sklearn.impute import SimpleImputer\n",
    "from sklearn.compose import ColumnTransformer\n",
    "\n",
    "from sklearn.preprocessing import StandardScaler\n",
    "from sklearn.preprocessing import OneHotEncoder\n",
    "from sklearn.model_selection import train_test_split\n",
    "from sklearn.pipeline import Pipeline\n",
    "from sklearn.model_selection import GridSearchCV, RandomizedSearchCV\n",
    "\n",
    "from sklearn.svm import SVC\n",
    "from sklearn.linear_model import LogisticRegression\n",
    "from sklearn.metrics import confusion_matrix\n",
    "\n",
    "import matplotlib.pyplot as plt\n",
    "import seaborn as sns\n",
    "from imblearn.over_sampling import SMOTE\n",
    "from sklearn.metrics import accuracy_score, recall_score, precision_score\n",
    "\n",
    "import warnings\n",
    "warnings.filterwarnings('ignore')"
   ]
  },
  {
   "cell_type": "code",
   "execution_count": 558,
   "metadata": {},
   "outputs": [],
   "source": [
    "train_data = pd.read_csv(\"train.csv\", index_col=None, header=0,na_values=('?',''))"
   ]
  },
  {
   "cell_type": "code",
   "execution_count": 559,
   "metadata": {},
   "outputs": [],
   "source": [
    "test_data = pd.read_csv(\"test.csv\", index_col=None, header=0,na_values=('?',''))"
   ]
  },
  {
   "cell_type": "code",
   "execution_count": 560,
   "metadata": {},
   "outputs": [
    {
     "data": {
      "text/html": [
       "<div>\n",
       "<style scoped>\n",
       "    .dataframe tbody tr th:only-of-type {\n",
       "        vertical-align: middle;\n",
       "    }\n",
       "\n",
       "    .dataframe tbody tr th {\n",
       "        vertical-align: top;\n",
       "    }\n",
       "\n",
       "    .dataframe thead th {\n",
       "        text-align: right;\n",
       "    }\n",
       "</style>\n",
       "<table border=\"1\" class=\"dataframe\">\n",
       "  <thead>\n",
       "    <tr style=\"text-align: right;\">\n",
       "      <th></th>\n",
       "      <th>Id</th>\n",
       "      <th>Open Date</th>\n",
       "      <th>City</th>\n",
       "      <th>City Group</th>\n",
       "      <th>Type</th>\n",
       "      <th>P1</th>\n",
       "      <th>P2</th>\n",
       "      <th>P3</th>\n",
       "      <th>P4</th>\n",
       "      <th>P5</th>\n",
       "      <th>...</th>\n",
       "      <th>P29</th>\n",
       "      <th>P30</th>\n",
       "      <th>P31</th>\n",
       "      <th>P32</th>\n",
       "      <th>P33</th>\n",
       "      <th>P34</th>\n",
       "      <th>P35</th>\n",
       "      <th>P36</th>\n",
       "      <th>P37</th>\n",
       "      <th>revenue</th>\n",
       "    </tr>\n",
       "  </thead>\n",
       "  <tbody>\n",
       "    <tr>\n",
       "      <th>0</th>\n",
       "      <td>0</td>\n",
       "      <td>07/17/1999</td>\n",
       "      <td>İstanbul</td>\n",
       "      <td>Big Cities</td>\n",
       "      <td>IL</td>\n",
       "      <td>4</td>\n",
       "      <td>5.0</td>\n",
       "      <td>4.0</td>\n",
       "      <td>4.0</td>\n",
       "      <td>2</td>\n",
       "      <td>...</td>\n",
       "      <td>3.0</td>\n",
       "      <td>5</td>\n",
       "      <td>3</td>\n",
       "      <td>4</td>\n",
       "      <td>5</td>\n",
       "      <td>5</td>\n",
       "      <td>4</td>\n",
       "      <td>3</td>\n",
       "      <td>4</td>\n",
       "      <td>5653753.0</td>\n",
       "    </tr>\n",
       "    <tr>\n",
       "      <th>1</th>\n",
       "      <td>1</td>\n",
       "      <td>02/14/2008</td>\n",
       "      <td>Ankara</td>\n",
       "      <td>Big Cities</td>\n",
       "      <td>FC</td>\n",
       "      <td>4</td>\n",
       "      <td>5.0</td>\n",
       "      <td>4.0</td>\n",
       "      <td>4.0</td>\n",
       "      <td>1</td>\n",
       "      <td>...</td>\n",
       "      <td>3.0</td>\n",
       "      <td>0</td>\n",
       "      <td>0</td>\n",
       "      <td>0</td>\n",
       "      <td>0</td>\n",
       "      <td>0</td>\n",
       "      <td>0</td>\n",
       "      <td>0</td>\n",
       "      <td>0</td>\n",
       "      <td>6923131.0</td>\n",
       "    </tr>\n",
       "    <tr>\n",
       "      <th>2</th>\n",
       "      <td>2</td>\n",
       "      <td>03/09/2013</td>\n",
       "      <td>Diyarbakır</td>\n",
       "      <td>Other</td>\n",
       "      <td>IL</td>\n",
       "      <td>2</td>\n",
       "      <td>4.0</td>\n",
       "      <td>2.0</td>\n",
       "      <td>5.0</td>\n",
       "      <td>2</td>\n",
       "      <td>...</td>\n",
       "      <td>3.0</td>\n",
       "      <td>0</td>\n",
       "      <td>0</td>\n",
       "      <td>0</td>\n",
       "      <td>0</td>\n",
       "      <td>0</td>\n",
       "      <td>0</td>\n",
       "      <td>0</td>\n",
       "      <td>0</td>\n",
       "      <td>2055379.0</td>\n",
       "    </tr>\n",
       "    <tr>\n",
       "      <th>3</th>\n",
       "      <td>3</td>\n",
       "      <td>02/02/2012</td>\n",
       "      <td>Tokat</td>\n",
       "      <td>Other</td>\n",
       "      <td>IL</td>\n",
       "      <td>6</td>\n",
       "      <td>4.5</td>\n",
       "      <td>6.0</td>\n",
       "      <td>6.0</td>\n",
       "      <td>4</td>\n",
       "      <td>...</td>\n",
       "      <td>7.5</td>\n",
       "      <td>25</td>\n",
       "      <td>12</td>\n",
       "      <td>10</td>\n",
       "      <td>6</td>\n",
       "      <td>18</td>\n",
       "      <td>12</td>\n",
       "      <td>12</td>\n",
       "      <td>6</td>\n",
       "      <td>2675511.0</td>\n",
       "    </tr>\n",
       "    <tr>\n",
       "      <th>4</th>\n",
       "      <td>4</td>\n",
       "      <td>05/09/2009</td>\n",
       "      <td>Gaziantep</td>\n",
       "      <td>Other</td>\n",
       "      <td>IL</td>\n",
       "      <td>3</td>\n",
       "      <td>4.0</td>\n",
       "      <td>3.0</td>\n",
       "      <td>4.0</td>\n",
       "      <td>2</td>\n",
       "      <td>...</td>\n",
       "      <td>3.0</td>\n",
       "      <td>5</td>\n",
       "      <td>1</td>\n",
       "      <td>3</td>\n",
       "      <td>2</td>\n",
       "      <td>3</td>\n",
       "      <td>4</td>\n",
       "      <td>3</td>\n",
       "      <td>3</td>\n",
       "      <td>4316715.0</td>\n",
       "    </tr>\n",
       "  </tbody>\n",
       "</table>\n",
       "<p>5 rows × 43 columns</p>\n",
       "</div>"
      ],
      "text/plain": [
       "   Id   Open Date        City  City Group Type  P1   P2   P3   P4  P5  ...  \\\n",
       "0   0  07/17/1999    İstanbul  Big Cities   IL   4  5.0  4.0  4.0   2  ...   \n",
       "1   1  02/14/2008      Ankara  Big Cities   FC   4  5.0  4.0  4.0   1  ...   \n",
       "2   2  03/09/2013  Diyarbakır       Other   IL   2  4.0  2.0  5.0   2  ...   \n",
       "3   3  02/02/2012       Tokat       Other   IL   6  4.5  6.0  6.0   4  ...   \n",
       "4   4  05/09/2009   Gaziantep       Other   IL   3  4.0  3.0  4.0   2  ...   \n",
       "\n",
       "   P29  P30  P31  P32  P33  P34  P35  P36  P37    revenue  \n",
       "0  3.0    5    3    4    5    5    4    3    4  5653753.0  \n",
       "1  3.0    0    0    0    0    0    0    0    0  6923131.0  \n",
       "2  3.0    0    0    0    0    0    0    0    0  2055379.0  \n",
       "3  7.5   25   12   10    6   18   12   12    6  2675511.0  \n",
       "4  3.0    5    1    3    2    3    4    3    3  4316715.0  \n",
       "\n",
       "[5 rows x 43 columns]"
      ]
     },
     "execution_count": 560,
     "metadata": {},
     "output_type": "execute_result"
    }
   ],
   "source": [
    "train_data.head()"
   ]
  },
  {
   "cell_type": "code",
   "execution_count": 561,
   "metadata": {},
   "outputs": [
    {
     "data": {
      "text/plain": [
       "(137, 43)"
      ]
     },
     "execution_count": 561,
     "metadata": {},
     "output_type": "execute_result"
    }
   ],
   "source": [
    "train_data.shape"
   ]
  },
  {
   "cell_type": "code",
   "execution_count": 562,
   "metadata": {},
   "outputs": [
    {
     "data": {
      "text/plain": [
       "(100000, 42)"
      ]
     },
     "execution_count": 562,
     "metadata": {},
     "output_type": "execute_result"
    }
   ],
   "source": [
    "test_data.shape"
   ]
  },
  {
   "cell_type": "code",
   "execution_count": 563,
   "metadata": {},
   "outputs": [
    {
     "name": "stdout",
     "output_type": "stream",
     "text": [
      "<class 'pandas.core.frame.DataFrame'>\n",
      "RangeIndex: 137 entries, 0 to 136\n",
      "Data columns (total 43 columns):\n",
      "Id            137 non-null int64\n",
      "Open Date     137 non-null object\n",
      "City          137 non-null object\n",
      "City Group    137 non-null object\n",
      "Type          137 non-null object\n",
      "P1            137 non-null int64\n",
      "P2            137 non-null float64\n",
      "P3            137 non-null float64\n",
      "P4            137 non-null float64\n",
      "P5            137 non-null int64\n",
      "P6            137 non-null int64\n",
      "P7            137 non-null int64\n",
      "P8            137 non-null int64\n",
      "P9            137 non-null int64\n",
      "P10           137 non-null int64\n",
      "P11           137 non-null int64\n",
      "P12           137 non-null int64\n",
      "P13           137 non-null float64\n",
      "P14           137 non-null int64\n",
      "P15           137 non-null int64\n",
      "P16           137 non-null int64\n",
      "P17           137 non-null int64\n",
      "P18           137 non-null int64\n",
      "P19           137 non-null int64\n",
      "P20           137 non-null int64\n",
      "P21           137 non-null int64\n",
      "P22           137 non-null int64\n",
      "P23           137 non-null int64\n",
      "P24           137 non-null int64\n",
      "P25           137 non-null int64\n",
      "P26           137 non-null float64\n",
      "P27           137 non-null float64\n",
      "P28           137 non-null float64\n",
      "P29           137 non-null float64\n",
      "P30           137 non-null int64\n",
      "P31           137 non-null int64\n",
      "P32           137 non-null int64\n",
      "P33           137 non-null int64\n",
      "P34           137 non-null int64\n",
      "P35           137 non-null int64\n",
      "P36           137 non-null int64\n",
      "P37           137 non-null int64\n",
      "revenue       137 non-null float64\n",
      "dtypes: float64(9), int64(30), object(4)\n",
      "memory usage: 46.1+ KB\n"
     ]
    }
   ],
   "source": [
    "train_data.info()"
   ]
  },
  {
   "cell_type": "code",
   "execution_count": 564,
   "metadata": {},
   "outputs": [
    {
     "data": {
      "text/html": [
       "<div>\n",
       "<style scoped>\n",
       "    .dataframe tbody tr th:only-of-type {\n",
       "        vertical-align: middle;\n",
       "    }\n",
       "\n",
       "    .dataframe tbody tr th {\n",
       "        vertical-align: top;\n",
       "    }\n",
       "\n",
       "    .dataframe thead th {\n",
       "        text-align: right;\n",
       "    }\n",
       "</style>\n",
       "<table border=\"1\" class=\"dataframe\">\n",
       "  <thead>\n",
       "    <tr style=\"text-align: right;\">\n",
       "      <th></th>\n",
       "      <th>Id</th>\n",
       "      <th>Open Date</th>\n",
       "      <th>City</th>\n",
       "      <th>City Group</th>\n",
       "      <th>Type</th>\n",
       "      <th>P1</th>\n",
       "      <th>P2</th>\n",
       "      <th>P3</th>\n",
       "      <th>P4</th>\n",
       "      <th>P5</th>\n",
       "      <th>...</th>\n",
       "      <th>P29</th>\n",
       "      <th>P30</th>\n",
       "      <th>P31</th>\n",
       "      <th>P32</th>\n",
       "      <th>P33</th>\n",
       "      <th>P34</th>\n",
       "      <th>P35</th>\n",
       "      <th>P36</th>\n",
       "      <th>P37</th>\n",
       "      <th>revenue</th>\n",
       "    </tr>\n",
       "  </thead>\n",
       "  <tbody>\n",
       "    <tr>\n",
       "      <th>count</th>\n",
       "      <td>137.000000</td>\n",
       "      <td>137</td>\n",
       "      <td>137</td>\n",
       "      <td>137</td>\n",
       "      <td>137</td>\n",
       "      <td>137.000000</td>\n",
       "      <td>137.000000</td>\n",
       "      <td>137.000000</td>\n",
       "      <td>137.000000</td>\n",
       "      <td>137.000000</td>\n",
       "      <td>...</td>\n",
       "      <td>137.000000</td>\n",
       "      <td>137.000000</td>\n",
       "      <td>137.000000</td>\n",
       "      <td>137.000000</td>\n",
       "      <td>137.000000</td>\n",
       "      <td>137.000000</td>\n",
       "      <td>137.000000</td>\n",
       "      <td>137.000000</td>\n",
       "      <td>137.000000</td>\n",
       "      <td>1.370000e+02</td>\n",
       "    </tr>\n",
       "    <tr>\n",
       "      <th>unique</th>\n",
       "      <td>NaN</td>\n",
       "      <td>134</td>\n",
       "      <td>34</td>\n",
       "      <td>2</td>\n",
       "      <td>3</td>\n",
       "      <td>NaN</td>\n",
       "      <td>NaN</td>\n",
       "      <td>NaN</td>\n",
       "      <td>NaN</td>\n",
       "      <td>NaN</td>\n",
       "      <td>...</td>\n",
       "      <td>NaN</td>\n",
       "      <td>NaN</td>\n",
       "      <td>NaN</td>\n",
       "      <td>NaN</td>\n",
       "      <td>NaN</td>\n",
       "      <td>NaN</td>\n",
       "      <td>NaN</td>\n",
       "      <td>NaN</td>\n",
       "      <td>NaN</td>\n",
       "      <td>NaN</td>\n",
       "    </tr>\n",
       "    <tr>\n",
       "      <th>top</th>\n",
       "      <td>NaN</td>\n",
       "      <td>01/07/2000</td>\n",
       "      <td>İstanbul</td>\n",
       "      <td>Big Cities</td>\n",
       "      <td>FC</td>\n",
       "      <td>NaN</td>\n",
       "      <td>NaN</td>\n",
       "      <td>NaN</td>\n",
       "      <td>NaN</td>\n",
       "      <td>NaN</td>\n",
       "      <td>...</td>\n",
       "      <td>NaN</td>\n",
       "      <td>NaN</td>\n",
       "      <td>NaN</td>\n",
       "      <td>NaN</td>\n",
       "      <td>NaN</td>\n",
       "      <td>NaN</td>\n",
       "      <td>NaN</td>\n",
       "      <td>NaN</td>\n",
       "      <td>NaN</td>\n",
       "      <td>NaN</td>\n",
       "    </tr>\n",
       "    <tr>\n",
       "      <th>freq</th>\n",
       "      <td>NaN</td>\n",
       "      <td>2</td>\n",
       "      <td>50</td>\n",
       "      <td>78</td>\n",
       "      <td>76</td>\n",
       "      <td>NaN</td>\n",
       "      <td>NaN</td>\n",
       "      <td>NaN</td>\n",
       "      <td>NaN</td>\n",
       "      <td>NaN</td>\n",
       "      <td>...</td>\n",
       "      <td>NaN</td>\n",
       "      <td>NaN</td>\n",
       "      <td>NaN</td>\n",
       "      <td>NaN</td>\n",
       "      <td>NaN</td>\n",
       "      <td>NaN</td>\n",
       "      <td>NaN</td>\n",
       "      <td>NaN</td>\n",
       "      <td>NaN</td>\n",
       "      <td>NaN</td>\n",
       "    </tr>\n",
       "    <tr>\n",
       "      <th>mean</th>\n",
       "      <td>68.000000</td>\n",
       "      <td>NaN</td>\n",
       "      <td>NaN</td>\n",
       "      <td>NaN</td>\n",
       "      <td>NaN</td>\n",
       "      <td>4.014599</td>\n",
       "      <td>4.408759</td>\n",
       "      <td>4.317518</td>\n",
       "      <td>4.372263</td>\n",
       "      <td>2.007299</td>\n",
       "      <td>...</td>\n",
       "      <td>3.135036</td>\n",
       "      <td>2.729927</td>\n",
       "      <td>1.941606</td>\n",
       "      <td>2.525547</td>\n",
       "      <td>1.138686</td>\n",
       "      <td>2.489051</td>\n",
       "      <td>2.029197</td>\n",
       "      <td>2.211679</td>\n",
       "      <td>1.116788</td>\n",
       "      <td>4.453533e+06</td>\n",
       "    </tr>\n",
       "    <tr>\n",
       "      <th>std</th>\n",
       "      <td>39.692569</td>\n",
       "      <td>NaN</td>\n",
       "      <td>NaN</td>\n",
       "      <td>NaN</td>\n",
       "      <td>NaN</td>\n",
       "      <td>2.910391</td>\n",
       "      <td>1.514900</td>\n",
       "      <td>1.032337</td>\n",
       "      <td>1.016462</td>\n",
       "      <td>1.209620</td>\n",
       "      <td>...</td>\n",
       "      <td>1.680887</td>\n",
       "      <td>5.536647</td>\n",
       "      <td>3.512093</td>\n",
       "      <td>5.230117</td>\n",
       "      <td>1.698540</td>\n",
       "      <td>5.165093</td>\n",
       "      <td>3.436272</td>\n",
       "      <td>4.168211</td>\n",
       "      <td>1.790768</td>\n",
       "      <td>2.576072e+06</td>\n",
       "    </tr>\n",
       "    <tr>\n",
       "      <th>min</th>\n",
       "      <td>0.000000</td>\n",
       "      <td>NaN</td>\n",
       "      <td>NaN</td>\n",
       "      <td>NaN</td>\n",
       "      <td>NaN</td>\n",
       "      <td>1.000000</td>\n",
       "      <td>1.000000</td>\n",
       "      <td>0.000000</td>\n",
       "      <td>3.000000</td>\n",
       "      <td>1.000000</td>\n",
       "      <td>...</td>\n",
       "      <td>0.000000</td>\n",
       "      <td>0.000000</td>\n",
       "      <td>0.000000</td>\n",
       "      <td>0.000000</td>\n",
       "      <td>0.000000</td>\n",
       "      <td>0.000000</td>\n",
       "      <td>0.000000</td>\n",
       "      <td>0.000000</td>\n",
       "      <td>0.000000</td>\n",
       "      <td>1.149870e+06</td>\n",
       "    </tr>\n",
       "    <tr>\n",
       "      <th>25%</th>\n",
       "      <td>34.000000</td>\n",
       "      <td>NaN</td>\n",
       "      <td>NaN</td>\n",
       "      <td>NaN</td>\n",
       "      <td>NaN</td>\n",
       "      <td>2.000000</td>\n",
       "      <td>4.000000</td>\n",
       "      <td>4.000000</td>\n",
       "      <td>4.000000</td>\n",
       "      <td>1.000000</td>\n",
       "      <td>...</td>\n",
       "      <td>2.500000</td>\n",
       "      <td>0.000000</td>\n",
       "      <td>0.000000</td>\n",
       "      <td>0.000000</td>\n",
       "      <td>0.000000</td>\n",
       "      <td>0.000000</td>\n",
       "      <td>0.000000</td>\n",
       "      <td>0.000000</td>\n",
       "      <td>0.000000</td>\n",
       "      <td>2.999068e+06</td>\n",
       "    </tr>\n",
       "    <tr>\n",
       "      <th>50%</th>\n",
       "      <td>68.000000</td>\n",
       "      <td>NaN</td>\n",
       "      <td>NaN</td>\n",
       "      <td>NaN</td>\n",
       "      <td>NaN</td>\n",
       "      <td>3.000000</td>\n",
       "      <td>5.000000</td>\n",
       "      <td>4.000000</td>\n",
       "      <td>4.000000</td>\n",
       "      <td>2.000000</td>\n",
       "      <td>...</td>\n",
       "      <td>3.000000</td>\n",
       "      <td>0.000000</td>\n",
       "      <td>0.000000</td>\n",
       "      <td>0.000000</td>\n",
       "      <td>0.000000</td>\n",
       "      <td>0.000000</td>\n",
       "      <td>0.000000</td>\n",
       "      <td>0.000000</td>\n",
       "      <td>0.000000</td>\n",
       "      <td>3.939804e+06</td>\n",
       "    </tr>\n",
       "    <tr>\n",
       "      <th>75%</th>\n",
       "      <td>102.000000</td>\n",
       "      <td>NaN</td>\n",
       "      <td>NaN</td>\n",
       "      <td>NaN</td>\n",
       "      <td>NaN</td>\n",
       "      <td>4.000000</td>\n",
       "      <td>5.000000</td>\n",
       "      <td>5.000000</td>\n",
       "      <td>5.000000</td>\n",
       "      <td>2.000000</td>\n",
       "      <td>...</td>\n",
       "      <td>3.000000</td>\n",
       "      <td>4.000000</td>\n",
       "      <td>3.000000</td>\n",
       "      <td>3.000000</td>\n",
       "      <td>2.000000</td>\n",
       "      <td>3.000000</td>\n",
       "      <td>4.000000</td>\n",
       "      <td>3.000000</td>\n",
       "      <td>2.000000</td>\n",
       "      <td>5.166635e+06</td>\n",
       "    </tr>\n",
       "    <tr>\n",
       "      <th>max</th>\n",
       "      <td>136.000000</td>\n",
       "      <td>NaN</td>\n",
       "      <td>NaN</td>\n",
       "      <td>NaN</td>\n",
       "      <td>NaN</td>\n",
       "      <td>12.000000</td>\n",
       "      <td>7.500000</td>\n",
       "      <td>7.500000</td>\n",
       "      <td>7.500000</td>\n",
       "      <td>8.000000</td>\n",
       "      <td>...</td>\n",
       "      <td>7.500000</td>\n",
       "      <td>25.000000</td>\n",
       "      <td>15.000000</td>\n",
       "      <td>25.000000</td>\n",
       "      <td>6.000000</td>\n",
       "      <td>24.000000</td>\n",
       "      <td>15.000000</td>\n",
       "      <td>20.000000</td>\n",
       "      <td>8.000000</td>\n",
       "      <td>1.969694e+07</td>\n",
       "    </tr>\n",
       "  </tbody>\n",
       "</table>\n",
       "<p>11 rows × 43 columns</p>\n",
       "</div>"
      ],
      "text/plain": [
       "                Id   Open Date      City  City Group Type          P1  \\\n",
       "count   137.000000         137       137         137  137  137.000000   \n",
       "unique         NaN         134        34           2    3         NaN   \n",
       "top            NaN  01/07/2000  İstanbul  Big Cities   FC         NaN   \n",
       "freq           NaN           2        50          78   76         NaN   \n",
       "mean     68.000000         NaN       NaN         NaN  NaN    4.014599   \n",
       "std      39.692569         NaN       NaN         NaN  NaN    2.910391   \n",
       "min       0.000000         NaN       NaN         NaN  NaN    1.000000   \n",
       "25%      34.000000         NaN       NaN         NaN  NaN    2.000000   \n",
       "50%      68.000000         NaN       NaN         NaN  NaN    3.000000   \n",
       "75%     102.000000         NaN       NaN         NaN  NaN    4.000000   \n",
       "max     136.000000         NaN       NaN         NaN  NaN   12.000000   \n",
       "\n",
       "                P2          P3          P4          P5  ...         P29  \\\n",
       "count   137.000000  137.000000  137.000000  137.000000  ...  137.000000   \n",
       "unique         NaN         NaN         NaN         NaN  ...         NaN   \n",
       "top            NaN         NaN         NaN         NaN  ...         NaN   \n",
       "freq           NaN         NaN         NaN         NaN  ...         NaN   \n",
       "mean      4.408759    4.317518    4.372263    2.007299  ...    3.135036   \n",
       "std       1.514900    1.032337    1.016462    1.209620  ...    1.680887   \n",
       "min       1.000000    0.000000    3.000000    1.000000  ...    0.000000   \n",
       "25%       4.000000    4.000000    4.000000    1.000000  ...    2.500000   \n",
       "50%       5.000000    4.000000    4.000000    2.000000  ...    3.000000   \n",
       "75%       5.000000    5.000000    5.000000    2.000000  ...    3.000000   \n",
       "max       7.500000    7.500000    7.500000    8.000000  ...    7.500000   \n",
       "\n",
       "               P30         P31         P32         P33         P34  \\\n",
       "count   137.000000  137.000000  137.000000  137.000000  137.000000   \n",
       "unique         NaN         NaN         NaN         NaN         NaN   \n",
       "top            NaN         NaN         NaN         NaN         NaN   \n",
       "freq           NaN         NaN         NaN         NaN         NaN   \n",
       "mean      2.729927    1.941606    2.525547    1.138686    2.489051   \n",
       "std       5.536647    3.512093    5.230117    1.698540    5.165093   \n",
       "min       0.000000    0.000000    0.000000    0.000000    0.000000   \n",
       "25%       0.000000    0.000000    0.000000    0.000000    0.000000   \n",
       "50%       0.000000    0.000000    0.000000    0.000000    0.000000   \n",
       "75%       4.000000    3.000000    3.000000    2.000000    3.000000   \n",
       "max      25.000000   15.000000   25.000000    6.000000   24.000000   \n",
       "\n",
       "               P35         P36         P37       revenue  \n",
       "count   137.000000  137.000000  137.000000  1.370000e+02  \n",
       "unique         NaN         NaN         NaN           NaN  \n",
       "top            NaN         NaN         NaN           NaN  \n",
       "freq           NaN         NaN         NaN           NaN  \n",
       "mean      2.029197    2.211679    1.116788  4.453533e+06  \n",
       "std       3.436272    4.168211    1.790768  2.576072e+06  \n",
       "min       0.000000    0.000000    0.000000  1.149870e+06  \n",
       "25%       0.000000    0.000000    0.000000  2.999068e+06  \n",
       "50%       0.000000    0.000000    0.000000  3.939804e+06  \n",
       "75%       4.000000    3.000000    2.000000  5.166635e+06  \n",
       "max      15.000000   20.000000    8.000000  1.969694e+07  \n",
       "\n",
       "[11 rows x 43 columns]"
      ]
     },
     "execution_count": 564,
     "metadata": {},
     "output_type": "execute_result"
    }
   ],
   "source": [
    "train_data.describe(include='all')"
   ]
  },
  {
   "cell_type": "code",
   "execution_count": 565,
   "metadata": {},
   "outputs": [
    {
     "data": {
      "text/plain": [
       "Id            0\n",
       "Open Date     0\n",
       "City          0\n",
       "City Group    0\n",
       "Type          0\n",
       "P1            0\n",
       "P2            0\n",
       "P3            0\n",
       "P4            0\n",
       "P5            0\n",
       "P6            0\n",
       "P7            0\n",
       "P8            0\n",
       "P9            0\n",
       "P10           0\n",
       "P11           0\n",
       "P12           0\n",
       "P13           0\n",
       "P14           0\n",
       "P15           0\n",
       "P16           0\n",
       "P17           0\n",
       "P18           0\n",
       "P19           0\n",
       "P20           0\n",
       "P21           0\n",
       "P22           0\n",
       "P23           0\n",
       "P24           0\n",
       "P25           0\n",
       "P26           0\n",
       "P27           0\n",
       "P28           0\n",
       "P29           0\n",
       "P30           0\n",
       "P31           0\n",
       "P32           0\n",
       "P33           0\n",
       "P34           0\n",
       "P35           0\n",
       "P36           0\n",
       "P37           0\n",
       "revenue       0\n",
       "dtype: int64"
      ]
     },
     "execution_count": 565,
     "metadata": {},
     "output_type": "execute_result"
    }
   ],
   "source": [
    "train_data.isnull().sum()"
   ]
  },
  {
   "cell_type": "code",
   "execution_count": 566,
   "metadata": {},
   "outputs": [
    {
     "data": {
      "text/plain": [
       "Id            137\n",
       "Open Date     134\n",
       "City           34\n",
       "City Group      2\n",
       "Type            3\n",
       "P1              8\n",
       "P2              8\n",
       "P3              8\n",
       "P4              6\n",
       "P5              7\n",
       "P6              8\n",
       "P7              6\n",
       "P8              8\n",
       "P9              4\n",
       "P10             4\n",
       "P11             8\n",
       "P12             7\n",
       "P13             5\n",
       "P14            10\n",
       "P15             8\n",
       "P16             9\n",
       "P17             9\n",
       "P18             7\n",
       "P19             9\n",
       "P20             9\n",
       "P21             8\n",
       "P22             5\n",
       "P23             9\n",
       "P24             9\n",
       "P25             8\n",
       "P26            10\n",
       "P27             9\n",
       "P28             9\n",
       "P29             7\n",
       "P30             9\n",
       "P31            10\n",
       "P32            10\n",
       "P33             6\n",
       "P34             8\n",
       "P35             8\n",
       "P36             8\n",
       "P37             8\n",
       "revenue       137\n",
       "dtype: int64"
      ]
     },
     "execution_count": 566,
     "metadata": {},
     "output_type": "execute_result"
    }
   ],
   "source": [
    "train_data.nunique(axis=0)"
   ]
  },
  {
   "cell_type": "code",
   "execution_count": 567,
   "metadata": {},
   "outputs": [],
   "source": [
    "test_data.drop(\"Id\",axis=1,inplace=True)"
   ]
  },
  {
   "cell_type": "code",
   "execution_count": 568,
   "metadata": {},
   "outputs": [],
   "source": [
    "train_data.drop(\"Id\",axis=1,inplace=True)"
   ]
  },
  {
   "cell_type": "code",
   "execution_count": 569,
   "metadata": {
    "scrolled": true
   },
   "outputs": [
    {
     "data": {
      "text/html": [
       "<div>\n",
       "<style scoped>\n",
       "    .dataframe tbody tr th:only-of-type {\n",
       "        vertical-align: middle;\n",
       "    }\n",
       "\n",
       "    .dataframe tbody tr th {\n",
       "        vertical-align: top;\n",
       "    }\n",
       "\n",
       "    .dataframe thead th {\n",
       "        text-align: right;\n",
       "    }\n",
       "</style>\n",
       "<table border=\"1\" class=\"dataframe\">\n",
       "  <thead>\n",
       "    <tr style=\"text-align: right;\">\n",
       "      <th></th>\n",
       "      <th>P1</th>\n",
       "      <th>P2</th>\n",
       "      <th>P3</th>\n",
       "      <th>P4</th>\n",
       "      <th>P5</th>\n",
       "      <th>P6</th>\n",
       "      <th>P7</th>\n",
       "      <th>P8</th>\n",
       "      <th>P9</th>\n",
       "      <th>P10</th>\n",
       "      <th>...</th>\n",
       "      <th>P29</th>\n",
       "      <th>P30</th>\n",
       "      <th>P31</th>\n",
       "      <th>P32</th>\n",
       "      <th>P33</th>\n",
       "      <th>P34</th>\n",
       "      <th>P35</th>\n",
       "      <th>P36</th>\n",
       "      <th>P37</th>\n",
       "      <th>revenue</th>\n",
       "    </tr>\n",
       "  </thead>\n",
       "  <tbody>\n",
       "    <tr>\n",
       "      <th>P1</th>\n",
       "      <td>1.000000</td>\n",
       "      <td>0.836671</td>\n",
       "      <td>0.695928</td>\n",
       "      <td>0.677941</td>\n",
       "      <td>0.302820</td>\n",
       "      <td>0.747296</td>\n",
       "      <td>0.853753</td>\n",
       "      <td>0.760820</td>\n",
       "      <td>0.765743</td>\n",
       "      <td>0.795885</td>\n",
       "      <td>...</td>\n",
       "      <td>0.586532</td>\n",
       "      <td>0.487589</td>\n",
       "      <td>0.479175</td>\n",
       "      <td>0.552593</td>\n",
       "      <td>0.329795</td>\n",
       "      <td>0.570835</td>\n",
       "      <td>0.449182</td>\n",
       "      <td>0.554951</td>\n",
       "      <td>0.277601</td>\n",
       "      <td>0.070217</td>\n",
       "    </tr>\n",
       "    <tr>\n",
       "      <th>P2</th>\n",
       "      <td>0.836671</td>\n",
       "      <td>1.000000</td>\n",
       "      <td>0.473551</td>\n",
       "      <td>0.540322</td>\n",
       "      <td>0.203003</td>\n",
       "      <td>0.673106</td>\n",
       "      <td>0.769842</td>\n",
       "      <td>0.505116</td>\n",
       "      <td>0.481635</td>\n",
       "      <td>0.498135</td>\n",
       "      <td>...</td>\n",
       "      <td>0.322511</td>\n",
       "      <td>0.342005</td>\n",
       "      <td>0.353477</td>\n",
       "      <td>0.389376</td>\n",
       "      <td>0.234991</td>\n",
       "      <td>0.394319</td>\n",
       "      <td>0.314798</td>\n",
       "      <td>0.387938</td>\n",
       "      <td>0.161162</td>\n",
       "      <td>0.191518</td>\n",
       "    </tr>\n",
       "    <tr>\n",
       "      <th>P3</th>\n",
       "      <td>0.695928</td>\n",
       "      <td>0.473551</td>\n",
       "      <td>1.000000</td>\n",
       "      <td>0.443606</td>\n",
       "      <td>0.168891</td>\n",
       "      <td>0.570486</td>\n",
       "      <td>0.651489</td>\n",
       "      <td>0.689173</td>\n",
       "      <td>0.741967</td>\n",
       "      <td>0.764191</td>\n",
       "      <td>...</td>\n",
       "      <td>0.571525</td>\n",
       "      <td>0.473089</td>\n",
       "      <td>0.406701</td>\n",
       "      <td>0.463217</td>\n",
       "      <td>0.312269</td>\n",
       "      <td>0.501575</td>\n",
       "      <td>0.428504</td>\n",
       "      <td>0.484942</td>\n",
       "      <td>0.284065</td>\n",
       "      <td>-0.024613</td>\n",
       "    </tr>\n",
       "    <tr>\n",
       "      <th>P4</th>\n",
       "      <td>0.677941</td>\n",
       "      <td>0.540322</td>\n",
       "      <td>0.443606</td>\n",
       "      <td>1.000000</td>\n",
       "      <td>0.715406</td>\n",
       "      <td>0.595724</td>\n",
       "      <td>0.700482</td>\n",
       "      <td>0.654594</td>\n",
       "      <td>0.675336</td>\n",
       "      <td>0.685416</td>\n",
       "      <td>...</td>\n",
       "      <td>0.452364</td>\n",
       "      <td>0.387747</td>\n",
       "      <td>0.333626</td>\n",
       "      <td>0.440795</td>\n",
       "      <td>0.182820</td>\n",
       "      <td>0.434245</td>\n",
       "      <td>0.277902</td>\n",
       "      <td>0.411664</td>\n",
       "      <td>0.177916</td>\n",
       "      <td>0.035685</td>\n",
       "    </tr>\n",
       "    <tr>\n",
       "      <th>P5</th>\n",
       "      <td>0.302820</td>\n",
       "      <td>0.203003</td>\n",
       "      <td>0.168891</td>\n",
       "      <td>0.715406</td>\n",
       "      <td>1.000000</td>\n",
       "      <td>0.326524</td>\n",
       "      <td>0.446154</td>\n",
       "      <td>0.447577</td>\n",
       "      <td>0.465662</td>\n",
       "      <td>0.462299</td>\n",
       "      <td>...</td>\n",
       "      <td>0.306904</td>\n",
       "      <td>0.244032</td>\n",
       "      <td>0.112603</td>\n",
       "      <td>0.215568</td>\n",
       "      <td>0.071079</td>\n",
       "      <td>0.243040</td>\n",
       "      <td>0.173309</td>\n",
       "      <td>0.193652</td>\n",
       "      <td>0.033548</td>\n",
       "      <td>-0.028191</td>\n",
       "    </tr>\n",
       "    <tr>\n",
       "      <th>P6</th>\n",
       "      <td>0.747296</td>\n",
       "      <td>0.673106</td>\n",
       "      <td>0.570486</td>\n",
       "      <td>0.595724</td>\n",
       "      <td>0.326524</td>\n",
       "      <td>1.000000</td>\n",
       "      <td>0.738388</td>\n",
       "      <td>0.720144</td>\n",
       "      <td>0.676323</td>\n",
       "      <td>0.654594</td>\n",
       "      <td>...</td>\n",
       "      <td>0.563415</td>\n",
       "      <td>0.460618</td>\n",
       "      <td>0.477593</td>\n",
       "      <td>0.519243</td>\n",
       "      <td>0.300611</td>\n",
       "      <td>0.519635</td>\n",
       "      <td>0.413645</td>\n",
       "      <td>0.524552</td>\n",
       "      <td>0.327594</td>\n",
       "      <td>0.139094</td>\n",
       "    </tr>\n",
       "    <tr>\n",
       "      <th>P7</th>\n",
       "      <td>0.853753</td>\n",
       "      <td>0.769842</td>\n",
       "      <td>0.651489</td>\n",
       "      <td>0.700482</td>\n",
       "      <td>0.446154</td>\n",
       "      <td>0.738388</td>\n",
       "      <td>1.000000</td>\n",
       "      <td>0.751196</td>\n",
       "      <td>0.775003</td>\n",
       "      <td>0.775642</td>\n",
       "      <td>...</td>\n",
       "      <td>0.584071</td>\n",
       "      <td>0.509213</td>\n",
       "      <td>0.452471</td>\n",
       "      <td>0.531011</td>\n",
       "      <td>0.339178</td>\n",
       "      <td>0.562561</td>\n",
       "      <td>0.457721</td>\n",
       "      <td>0.543563</td>\n",
       "      <td>0.309678</td>\n",
       "      <td>0.051165</td>\n",
       "    </tr>\n",
       "    <tr>\n",
       "      <th>P8</th>\n",
       "      <td>0.760820</td>\n",
       "      <td>0.505116</td>\n",
       "      <td>0.689173</td>\n",
       "      <td>0.654594</td>\n",
       "      <td>0.447577</td>\n",
       "      <td>0.720144</td>\n",
       "      <td>0.751196</td>\n",
       "      <td>1.000000</td>\n",
       "      <td>0.919956</td>\n",
       "      <td>0.881650</td>\n",
       "      <td>...</td>\n",
       "      <td>0.754736</td>\n",
       "      <td>0.454937</td>\n",
       "      <td>0.420425</td>\n",
       "      <td>0.516617</td>\n",
       "      <td>0.256416</td>\n",
       "      <td>0.524474</td>\n",
       "      <td>0.405709</td>\n",
       "      <td>0.499777</td>\n",
       "      <td>0.308294</td>\n",
       "      <td>-0.084215</td>\n",
       "    </tr>\n",
       "    <tr>\n",
       "      <th>P9</th>\n",
       "      <td>0.765743</td>\n",
       "      <td>0.481635</td>\n",
       "      <td>0.741967</td>\n",
       "      <td>0.675336</td>\n",
       "      <td>0.465662</td>\n",
       "      <td>0.676323</td>\n",
       "      <td>0.775003</td>\n",
       "      <td>0.919956</td>\n",
       "      <td>1.000000</td>\n",
       "      <td>0.961266</td>\n",
       "      <td>...</td>\n",
       "      <td>0.789784</td>\n",
       "      <td>0.502670</td>\n",
       "      <td>0.467334</td>\n",
       "      <td>0.544749</td>\n",
       "      <td>0.326869</td>\n",
       "      <td>0.582042</td>\n",
       "      <td>0.467916</td>\n",
       "      <td>0.551953</td>\n",
       "      <td>0.330927</td>\n",
       "      <td>-0.050352</td>\n",
       "    </tr>\n",
       "    <tr>\n",
       "      <th>P10</th>\n",
       "      <td>0.795885</td>\n",
       "      <td>0.498135</td>\n",
       "      <td>0.764191</td>\n",
       "      <td>0.685416</td>\n",
       "      <td>0.462299</td>\n",
       "      <td>0.654594</td>\n",
       "      <td>0.775642</td>\n",
       "      <td>0.881650</td>\n",
       "      <td>0.961266</td>\n",
       "      <td>1.000000</td>\n",
       "      <td>...</td>\n",
       "      <td>0.789510</td>\n",
       "      <td>0.514738</td>\n",
       "      <td>0.462235</td>\n",
       "      <td>0.549238</td>\n",
       "      <td>0.320317</td>\n",
       "      <td>0.601956</td>\n",
       "      <td>0.483010</td>\n",
       "      <td>0.565068</td>\n",
       "      <td>0.313748</td>\n",
       "      <td>-0.073220</td>\n",
       "    </tr>\n",
       "    <tr>\n",
       "      <th>P11</th>\n",
       "      <td>0.542735</td>\n",
       "      <td>0.442719</td>\n",
       "      <td>0.417752</td>\n",
       "      <td>0.585285</td>\n",
       "      <td>0.435002</td>\n",
       "      <td>0.432959</td>\n",
       "      <td>0.503903</td>\n",
       "      <td>0.230823</td>\n",
       "      <td>0.398431</td>\n",
       "      <td>0.479873</td>\n",
       "      <td>...</td>\n",
       "      <td>0.292211</td>\n",
       "      <td>0.410573</td>\n",
       "      <td>0.300331</td>\n",
       "      <td>0.358379</td>\n",
       "      <td>0.244698</td>\n",
       "      <td>0.401866</td>\n",
       "      <td>0.291108</td>\n",
       "      <td>0.383485</td>\n",
       "      <td>0.158579</td>\n",
       "      <td>0.084247</td>\n",
       "    </tr>\n",
       "    <tr>\n",
       "      <th>P12</th>\n",
       "      <td>0.708360</td>\n",
       "      <td>0.428065</td>\n",
       "      <td>0.684071</td>\n",
       "      <td>0.595115</td>\n",
       "      <td>0.409181</td>\n",
       "      <td>0.637594</td>\n",
       "      <td>0.733115</td>\n",
       "      <td>0.889829</td>\n",
       "      <td>0.971593</td>\n",
       "      <td>0.930453</td>\n",
       "      <td>...</td>\n",
       "      <td>0.797455</td>\n",
       "      <td>0.433005</td>\n",
       "      <td>0.403691</td>\n",
       "      <td>0.471691</td>\n",
       "      <td>0.281619</td>\n",
       "      <td>0.519051</td>\n",
       "      <td>0.426274</td>\n",
       "      <td>0.491803</td>\n",
       "      <td>0.304963</td>\n",
       "      <td>-0.062193</td>\n",
       "    </tr>\n",
       "    <tr>\n",
       "      <th>P13</th>\n",
       "      <td>0.708896</td>\n",
       "      <td>0.410924</td>\n",
       "      <td>0.697519</td>\n",
       "      <td>0.571611</td>\n",
       "      <td>0.380722</td>\n",
       "      <td>0.558621</td>\n",
       "      <td>0.702162</td>\n",
       "      <td>0.810365</td>\n",
       "      <td>0.905105</td>\n",
       "      <td>0.966112</td>\n",
       "      <td>...</td>\n",
       "      <td>0.740722</td>\n",
       "      <td>0.466337</td>\n",
       "      <td>0.425461</td>\n",
       "      <td>0.499431</td>\n",
       "      <td>0.302684</td>\n",
       "      <td>0.555712</td>\n",
       "      <td>0.457633</td>\n",
       "      <td>0.520219</td>\n",
       "      <td>0.295972</td>\n",
       "      <td>-0.105085</td>\n",
       "    </tr>\n",
       "    <tr>\n",
       "      <th>P14</th>\n",
       "      <td>0.491638</td>\n",
       "      <td>0.365777</td>\n",
       "      <td>0.393765</td>\n",
       "      <td>0.347917</td>\n",
       "      <td>0.079245</td>\n",
       "      <td>0.422343</td>\n",
       "      <td>0.457255</td>\n",
       "      <td>0.351134</td>\n",
       "      <td>0.413468</td>\n",
       "      <td>0.420093</td>\n",
       "      <td>...</td>\n",
       "      <td>0.304980</td>\n",
       "      <td>0.812712</td>\n",
       "      <td>0.795637</td>\n",
       "      <td>0.840592</td>\n",
       "      <td>0.801055</td>\n",
       "      <td>0.853824</td>\n",
       "      <td>0.815550</td>\n",
       "      <td>0.892459</td>\n",
       "      <td>0.776719</td>\n",
       "      <td>0.006441</td>\n",
       "    </tr>\n",
       "    <tr>\n",
       "      <th>P15</th>\n",
       "      <td>0.473155</td>\n",
       "      <td>0.358841</td>\n",
       "      <td>0.379107</td>\n",
       "      <td>0.287313</td>\n",
       "      <td>0.044635</td>\n",
       "      <td>0.426646</td>\n",
       "      <td>0.429170</td>\n",
       "      <td>0.303275</td>\n",
       "      <td>0.379923</td>\n",
       "      <td>0.398334</td>\n",
       "      <td>...</td>\n",
       "      <td>0.299711</td>\n",
       "      <td>0.743738</td>\n",
       "      <td>0.798711</td>\n",
       "      <td>0.797193</td>\n",
       "      <td>0.806085</td>\n",
       "      <td>0.813125</td>\n",
       "      <td>0.819329</td>\n",
       "      <td>0.890441</td>\n",
       "      <td>0.768268</td>\n",
       "      <td>0.000742</td>\n",
       "    </tr>\n",
       "    <tr>\n",
       "      <th>P16</th>\n",
       "      <td>0.544892</td>\n",
       "      <td>0.396337</td>\n",
       "      <td>0.471427</td>\n",
       "      <td>0.379619</td>\n",
       "      <td>0.164822</td>\n",
       "      <td>0.520707</td>\n",
       "      <td>0.529988</td>\n",
       "      <td>0.456162</td>\n",
       "      <td>0.517326</td>\n",
       "      <td>0.535717</td>\n",
       "      <td>...</td>\n",
       "      <td>0.425590</td>\n",
       "      <td>0.869697</td>\n",
       "      <td>0.899675</td>\n",
       "      <td>0.928434</td>\n",
       "      <td>0.823748</td>\n",
       "      <td>0.941628</td>\n",
       "      <td>0.899202</td>\n",
       "      <td>0.981550</td>\n",
       "      <td>0.801029</td>\n",
       "      <td>-0.037997</td>\n",
       "    </tr>\n",
       "    <tr>\n",
       "      <th>P17</th>\n",
       "      <td>0.412963</td>\n",
       "      <td>0.332134</td>\n",
       "      <td>0.327644</td>\n",
       "      <td>0.235605</td>\n",
       "      <td>0.038805</td>\n",
       "      <td>0.380396</td>\n",
       "      <td>0.365565</td>\n",
       "      <td>0.294639</td>\n",
       "      <td>0.333071</td>\n",
       "      <td>0.324461</td>\n",
       "      <td>...</td>\n",
       "      <td>0.224734</td>\n",
       "      <td>0.739895</td>\n",
       "      <td>0.770449</td>\n",
       "      <td>0.772197</td>\n",
       "      <td>0.716934</td>\n",
       "      <td>0.735778</td>\n",
       "      <td>0.781719</td>\n",
       "      <td>0.812184</td>\n",
       "      <td>0.726738</td>\n",
       "      <td>0.067137</td>\n",
       "    </tr>\n",
       "    <tr>\n",
       "      <th>P18</th>\n",
       "      <td>0.478503</td>\n",
       "      <td>0.348191</td>\n",
       "      <td>0.425214</td>\n",
       "      <td>0.359393</td>\n",
       "      <td>0.193489</td>\n",
       "      <td>0.453924</td>\n",
       "      <td>0.496990</td>\n",
       "      <td>0.430591</td>\n",
       "      <td>0.488788</td>\n",
       "      <td>0.499097</td>\n",
       "      <td>...</td>\n",
       "      <td>0.420248</td>\n",
       "      <td>0.836870</td>\n",
       "      <td>0.900439</td>\n",
       "      <td>0.915038</td>\n",
       "      <td>0.861861</td>\n",
       "      <td>0.926000</td>\n",
       "      <td>0.916872</td>\n",
       "      <td>0.952266</td>\n",
       "      <td>0.833428</td>\n",
       "      <td>-0.034537</td>\n",
       "    </tr>\n",
       "    <tr>\n",
       "      <th>P19</th>\n",
       "      <td>0.802494</td>\n",
       "      <td>0.595681</td>\n",
       "      <td>0.648948</td>\n",
       "      <td>0.725829</td>\n",
       "      <td>0.509874</td>\n",
       "      <td>0.530297</td>\n",
       "      <td>0.758294</td>\n",
       "      <td>0.667079</td>\n",
       "      <td>0.717049</td>\n",
       "      <td>0.757235</td>\n",
       "      <td>...</td>\n",
       "      <td>0.417782</td>\n",
       "      <td>0.466695</td>\n",
       "      <td>0.369915</td>\n",
       "      <td>0.437442</td>\n",
       "      <td>0.298000</td>\n",
       "      <td>0.453496</td>\n",
       "      <td>0.346822</td>\n",
       "      <td>0.425475</td>\n",
       "      <td>0.226764</td>\n",
       "      <td>0.027984</td>\n",
       "    </tr>\n",
       "    <tr>\n",
       "      <th>P20</th>\n",
       "      <td>0.820953</td>\n",
       "      <td>0.668683</td>\n",
       "      <td>0.682262</td>\n",
       "      <td>0.579561</td>\n",
       "      <td>0.343363</td>\n",
       "      <td>0.664487</td>\n",
       "      <td>0.793642</td>\n",
       "      <td>0.612958</td>\n",
       "      <td>0.710714</td>\n",
       "      <td>0.730183</td>\n",
       "      <td>...</td>\n",
       "      <td>0.505358</td>\n",
       "      <td>0.593911</td>\n",
       "      <td>0.505542</td>\n",
       "      <td>0.567801</td>\n",
       "      <td>0.420983</td>\n",
       "      <td>0.610553</td>\n",
       "      <td>0.529064</td>\n",
       "      <td>0.587118</td>\n",
       "      <td>0.326929</td>\n",
       "      <td>0.014147</td>\n",
       "    </tr>\n",
       "    <tr>\n",
       "      <th>P21</th>\n",
       "      <td>0.654138</td>\n",
       "      <td>0.522294</td>\n",
       "      <td>0.559543</td>\n",
       "      <td>0.545285</td>\n",
       "      <td>0.342726</td>\n",
       "      <td>0.427613</td>\n",
       "      <td>0.604106</td>\n",
       "      <td>0.420807</td>\n",
       "      <td>0.559405</td>\n",
       "      <td>0.626075</td>\n",
       "      <td>...</td>\n",
       "      <td>0.267466</td>\n",
       "      <td>0.482010</td>\n",
       "      <td>0.429568</td>\n",
       "      <td>0.481878</td>\n",
       "      <td>0.373014</td>\n",
       "      <td>0.525638</td>\n",
       "      <td>0.437753</td>\n",
       "      <td>0.501181</td>\n",
       "      <td>0.273409</td>\n",
       "      <td>0.097411</td>\n",
       "    </tr>\n",
       "    <tr>\n",
       "      <th>P22</th>\n",
       "      <td>0.389116</td>\n",
       "      <td>0.476538</td>\n",
       "      <td>0.243983</td>\n",
       "      <td>0.076177</td>\n",
       "      <td>-0.198689</td>\n",
       "      <td>0.206913</td>\n",
       "      <td>0.270211</td>\n",
       "      <td>0.045803</td>\n",
       "      <td>0.055999</td>\n",
       "      <td>0.096495</td>\n",
       "      <td>...</td>\n",
       "      <td>-0.148172</td>\n",
       "      <td>0.170901</td>\n",
       "      <td>0.181702</td>\n",
       "      <td>0.169877</td>\n",
       "      <td>0.178341</td>\n",
       "      <td>0.143249</td>\n",
       "      <td>0.156648</td>\n",
       "      <td>0.165467</td>\n",
       "      <td>0.108030</td>\n",
       "      <td>0.083562</td>\n",
       "    </tr>\n",
       "    <tr>\n",
       "      <th>P23</th>\n",
       "      <td>0.702120</td>\n",
       "      <td>0.513936</td>\n",
       "      <td>0.602325</td>\n",
       "      <td>0.559099</td>\n",
       "      <td>0.354058</td>\n",
       "      <td>0.486043</td>\n",
       "      <td>0.651876</td>\n",
       "      <td>0.512021</td>\n",
       "      <td>0.621546</td>\n",
       "      <td>0.697081</td>\n",
       "      <td>...</td>\n",
       "      <td>0.393031</td>\n",
       "      <td>0.475536</td>\n",
       "      <td>0.367508</td>\n",
       "      <td>0.433061</td>\n",
       "      <td>0.316115</td>\n",
       "      <td>0.470396</td>\n",
       "      <td>0.399514</td>\n",
       "      <td>0.448681</td>\n",
       "      <td>0.216329</td>\n",
       "      <td>0.045507</td>\n",
       "    </tr>\n",
       "    <tr>\n",
       "      <th>P24</th>\n",
       "      <td>0.425720</td>\n",
       "      <td>0.354225</td>\n",
       "      <td>0.337895</td>\n",
       "      <td>0.213535</td>\n",
       "      <td>0.020124</td>\n",
       "      <td>0.461674</td>\n",
       "      <td>0.375711</td>\n",
       "      <td>0.323116</td>\n",
       "      <td>0.339668</td>\n",
       "      <td>0.342099</td>\n",
       "      <td>...</td>\n",
       "      <td>0.247974</td>\n",
       "      <td>0.732452</td>\n",
       "      <td>0.823207</td>\n",
       "      <td>0.787841</td>\n",
       "      <td>0.770173</td>\n",
       "      <td>0.763692</td>\n",
       "      <td>0.813077</td>\n",
       "      <td>0.830078</td>\n",
       "      <td>0.787741</td>\n",
       "      <td>0.014222</td>\n",
       "    </tr>\n",
       "    <tr>\n",
       "      <th>P25</th>\n",
       "      <td>0.472057</td>\n",
       "      <td>0.378042</td>\n",
       "      <td>0.358244</td>\n",
       "      <td>0.285547</td>\n",
       "      <td>0.042141</td>\n",
       "      <td>0.485535</td>\n",
       "      <td>0.404787</td>\n",
       "      <td>0.358971</td>\n",
       "      <td>0.379653</td>\n",
       "      <td>0.370928</td>\n",
       "      <td>...</td>\n",
       "      <td>0.269835</td>\n",
       "      <td>0.760051</td>\n",
       "      <td>0.850616</td>\n",
       "      <td>0.849365</td>\n",
       "      <td>0.765023</td>\n",
       "      <td>0.792694</td>\n",
       "      <td>0.781572</td>\n",
       "      <td>0.870674</td>\n",
       "      <td>0.809613</td>\n",
       "      <td>0.036365</td>\n",
       "    </tr>\n",
       "    <tr>\n",
       "      <th>P26</th>\n",
       "      <td>0.505437</td>\n",
       "      <td>0.409526</td>\n",
       "      <td>0.393404</td>\n",
       "      <td>0.288684</td>\n",
       "      <td>0.052430</td>\n",
       "      <td>0.524207</td>\n",
       "      <td>0.437787</td>\n",
       "      <td>0.396246</td>\n",
       "      <td>0.412378</td>\n",
       "      <td>0.417413</td>\n",
       "      <td>...</td>\n",
       "      <td>0.308637</td>\n",
       "      <td>0.790324</td>\n",
       "      <td>0.864259</td>\n",
       "      <td>0.859348</td>\n",
       "      <td>0.764947</td>\n",
       "      <td>0.834661</td>\n",
       "      <td>0.817260</td>\n",
       "      <td>0.888330</td>\n",
       "      <td>0.778074</td>\n",
       "      <td>-0.007650</td>\n",
       "    </tr>\n",
       "    <tr>\n",
       "      <th>P27</th>\n",
       "      <td>0.280761</td>\n",
       "      <td>0.195660</td>\n",
       "      <td>0.257228</td>\n",
       "      <td>0.109555</td>\n",
       "      <td>0.008393</td>\n",
       "      <td>0.334761</td>\n",
       "      <td>0.279604</td>\n",
       "      <td>0.319507</td>\n",
       "      <td>0.308448</td>\n",
       "      <td>0.296928</td>\n",
       "      <td>...</td>\n",
       "      <td>0.270460</td>\n",
       "      <td>0.654312</td>\n",
       "      <td>0.675237</td>\n",
       "      <td>0.649870</td>\n",
       "      <td>0.748135</td>\n",
       "      <td>0.661309</td>\n",
       "      <td>0.723519</td>\n",
       "      <td>0.689364</td>\n",
       "      <td>0.805824</td>\n",
       "      <td>-0.013680</td>\n",
       "    </tr>\n",
       "    <tr>\n",
       "      <th>P28</th>\n",
       "      <td>0.843738</td>\n",
       "      <td>0.732712</td>\n",
       "      <td>0.643420</td>\n",
       "      <td>0.641971</td>\n",
       "      <td>0.323253</td>\n",
       "      <td>0.729083</td>\n",
       "      <td>0.739868</td>\n",
       "      <td>0.630284</td>\n",
       "      <td>0.635144</td>\n",
       "      <td>0.669822</td>\n",
       "      <td>...</td>\n",
       "      <td>0.331344</td>\n",
       "      <td>0.438447</td>\n",
       "      <td>0.369772</td>\n",
       "      <td>0.457892</td>\n",
       "      <td>0.264879</td>\n",
       "      <td>0.448928</td>\n",
       "      <td>0.341164</td>\n",
       "      <td>0.454263</td>\n",
       "      <td>0.215078</td>\n",
       "      <td>0.155534</td>\n",
       "    </tr>\n",
       "    <tr>\n",
       "      <th>P29</th>\n",
       "      <td>0.586532</td>\n",
       "      <td>0.322511</td>\n",
       "      <td>0.571525</td>\n",
       "      <td>0.452364</td>\n",
       "      <td>0.306904</td>\n",
       "      <td>0.563415</td>\n",
       "      <td>0.584071</td>\n",
       "      <td>0.754736</td>\n",
       "      <td>0.789784</td>\n",
       "      <td>0.789510</td>\n",
       "      <td>...</td>\n",
       "      <td>1.000000</td>\n",
       "      <td>0.356722</td>\n",
       "      <td>0.371893</td>\n",
       "      <td>0.425120</td>\n",
       "      <td>0.249646</td>\n",
       "      <td>0.490329</td>\n",
       "      <td>0.384401</td>\n",
       "      <td>0.457660</td>\n",
       "      <td>0.296405</td>\n",
       "      <td>-0.114846</td>\n",
       "    </tr>\n",
       "    <tr>\n",
       "      <th>P30</th>\n",
       "      <td>0.487589</td>\n",
       "      <td>0.342005</td>\n",
       "      <td>0.473089</td>\n",
       "      <td>0.387747</td>\n",
       "      <td>0.244032</td>\n",
       "      <td>0.460618</td>\n",
       "      <td>0.509213</td>\n",
       "      <td>0.454937</td>\n",
       "      <td>0.502670</td>\n",
       "      <td>0.514738</td>\n",
       "      <td>...</td>\n",
       "      <td>0.356722</td>\n",
       "      <td>1.000000</td>\n",
       "      <td>0.840158</td>\n",
       "      <td>0.881481</td>\n",
       "      <td>0.790581</td>\n",
       "      <td>0.918200</td>\n",
       "      <td>0.874635</td>\n",
       "      <td>0.904491</td>\n",
       "      <td>0.736656</td>\n",
       "      <td>-0.066203</td>\n",
       "    </tr>\n",
       "    <tr>\n",
       "      <th>P31</th>\n",
       "      <td>0.479175</td>\n",
       "      <td>0.353477</td>\n",
       "      <td>0.406701</td>\n",
       "      <td>0.333626</td>\n",
       "      <td>0.112603</td>\n",
       "      <td>0.477593</td>\n",
       "      <td>0.452471</td>\n",
       "      <td>0.420425</td>\n",
       "      <td>0.467334</td>\n",
       "      <td>0.462235</td>\n",
       "      <td>...</td>\n",
       "      <td>0.371893</td>\n",
       "      <td>0.840158</td>\n",
       "      <td>1.000000</td>\n",
       "      <td>0.934778</td>\n",
       "      <td>0.803785</td>\n",
       "      <td>0.864144</td>\n",
       "      <td>0.823262</td>\n",
       "      <td>0.901940</td>\n",
       "      <td>0.787904</td>\n",
       "      <td>-0.040418</td>\n",
       "    </tr>\n",
       "    <tr>\n",
       "      <th>P32</th>\n",
       "      <td>0.552593</td>\n",
       "      <td>0.389376</td>\n",
       "      <td>0.463217</td>\n",
       "      <td>0.440795</td>\n",
       "      <td>0.215568</td>\n",
       "      <td>0.519243</td>\n",
       "      <td>0.531011</td>\n",
       "      <td>0.516617</td>\n",
       "      <td>0.544749</td>\n",
       "      <td>0.549238</td>\n",
       "      <td>...</td>\n",
       "      <td>0.425120</td>\n",
       "      <td>0.881481</td>\n",
       "      <td>0.934778</td>\n",
       "      <td>1.000000</td>\n",
       "      <td>0.760670</td>\n",
       "      <td>0.930014</td>\n",
       "      <td>0.837858</td>\n",
       "      <td>0.958152</td>\n",
       "      <td>0.758060</td>\n",
       "      <td>-0.065857</td>\n",
       "    </tr>\n",
       "    <tr>\n",
       "      <th>P33</th>\n",
       "      <td>0.329795</td>\n",
       "      <td>0.234991</td>\n",
       "      <td>0.312269</td>\n",
       "      <td>0.182820</td>\n",
       "      <td>0.071079</td>\n",
       "      <td>0.300611</td>\n",
       "      <td>0.339178</td>\n",
       "      <td>0.256416</td>\n",
       "      <td>0.326869</td>\n",
       "      <td>0.320317</td>\n",
       "      <td>...</td>\n",
       "      <td>0.249646</td>\n",
       "      <td>0.790581</td>\n",
       "      <td>0.803785</td>\n",
       "      <td>0.760670</td>\n",
       "      <td>1.000000</td>\n",
       "      <td>0.797647</td>\n",
       "      <td>0.867296</td>\n",
       "      <td>0.816293</td>\n",
       "      <td>0.879400</td>\n",
       "      <td>-0.032426</td>\n",
       "    </tr>\n",
       "    <tr>\n",
       "      <th>P34</th>\n",
       "      <td>0.570835</td>\n",
       "      <td>0.394319</td>\n",
       "      <td>0.501575</td>\n",
       "      <td>0.434245</td>\n",
       "      <td>0.243040</td>\n",
       "      <td>0.519635</td>\n",
       "      <td>0.562561</td>\n",
       "      <td>0.524474</td>\n",
       "      <td>0.582042</td>\n",
       "      <td>0.601956</td>\n",
       "      <td>...</td>\n",
       "      <td>0.490329</td>\n",
       "      <td>0.918200</td>\n",
       "      <td>0.864144</td>\n",
       "      <td>0.930014</td>\n",
       "      <td>0.797647</td>\n",
       "      <td>1.000000</td>\n",
       "      <td>0.917651</td>\n",
       "      <td>0.970234</td>\n",
       "      <td>0.741039</td>\n",
       "      <td>-0.072343</td>\n",
       "    </tr>\n",
       "    <tr>\n",
       "      <th>P35</th>\n",
       "      <td>0.449182</td>\n",
       "      <td>0.314798</td>\n",
       "      <td>0.428504</td>\n",
       "      <td>0.277902</td>\n",
       "      <td>0.173309</td>\n",
       "      <td>0.413645</td>\n",
       "      <td>0.457721</td>\n",
       "      <td>0.405709</td>\n",
       "      <td>0.467916</td>\n",
       "      <td>0.483010</td>\n",
       "      <td>...</td>\n",
       "      <td>0.384401</td>\n",
       "      <td>0.874635</td>\n",
       "      <td>0.823262</td>\n",
       "      <td>0.837858</td>\n",
       "      <td>0.867296</td>\n",
       "      <td>0.917651</td>\n",
       "      <td>1.000000</td>\n",
       "      <td>0.904110</td>\n",
       "      <td>0.797640</td>\n",
       "      <td>-0.050156</td>\n",
       "    </tr>\n",
       "    <tr>\n",
       "      <th>P36</th>\n",
       "      <td>0.554951</td>\n",
       "      <td>0.387938</td>\n",
       "      <td>0.484942</td>\n",
       "      <td>0.411664</td>\n",
       "      <td>0.193652</td>\n",
       "      <td>0.524552</td>\n",
       "      <td>0.543563</td>\n",
       "      <td>0.499777</td>\n",
       "      <td>0.551953</td>\n",
       "      <td>0.565068</td>\n",
       "      <td>...</td>\n",
       "      <td>0.457660</td>\n",
       "      <td>0.904491</td>\n",
       "      <td>0.901940</td>\n",
       "      <td>0.958152</td>\n",
       "      <td>0.816293</td>\n",
       "      <td>0.970234</td>\n",
       "      <td>0.904110</td>\n",
       "      <td>1.000000</td>\n",
       "      <td>0.805416</td>\n",
       "      <td>-0.050534</td>\n",
       "    </tr>\n",
       "    <tr>\n",
       "      <th>P37</th>\n",
       "      <td>0.277601</td>\n",
       "      <td>0.161162</td>\n",
       "      <td>0.284065</td>\n",
       "      <td>0.177916</td>\n",
       "      <td>0.033548</td>\n",
       "      <td>0.327594</td>\n",
       "      <td>0.309678</td>\n",
       "      <td>0.308294</td>\n",
       "      <td>0.330927</td>\n",
       "      <td>0.313748</td>\n",
       "      <td>...</td>\n",
       "      <td>0.296405</td>\n",
       "      <td>0.736656</td>\n",
       "      <td>0.787904</td>\n",
       "      <td>0.758060</td>\n",
       "      <td>0.879400</td>\n",
       "      <td>0.741039</td>\n",
       "      <td>0.797640</td>\n",
       "      <td>0.805416</td>\n",
       "      <td>1.000000</td>\n",
       "      <td>-0.019051</td>\n",
       "    </tr>\n",
       "    <tr>\n",
       "      <th>revenue</th>\n",
       "      <td>0.070217</td>\n",
       "      <td>0.191518</td>\n",
       "      <td>-0.024613</td>\n",
       "      <td>0.035685</td>\n",
       "      <td>-0.028191</td>\n",
       "      <td>0.139094</td>\n",
       "      <td>0.051165</td>\n",
       "      <td>-0.084215</td>\n",
       "      <td>-0.050352</td>\n",
       "      <td>-0.073220</td>\n",
       "      <td>...</td>\n",
       "      <td>-0.114846</td>\n",
       "      <td>-0.066203</td>\n",
       "      <td>-0.040418</td>\n",
       "      <td>-0.065857</td>\n",
       "      <td>-0.032426</td>\n",
       "      <td>-0.072343</td>\n",
       "      <td>-0.050156</td>\n",
       "      <td>-0.050534</td>\n",
       "      <td>-0.019051</td>\n",
       "      <td>1.000000</td>\n",
       "    </tr>\n",
       "  </tbody>\n",
       "</table>\n",
       "<p>38 rows × 38 columns</p>\n",
       "</div>"
      ],
      "text/plain": [
       "               P1        P2        P3        P4        P5        P6        P7  \\\n",
       "P1       1.000000  0.836671  0.695928  0.677941  0.302820  0.747296  0.853753   \n",
       "P2       0.836671  1.000000  0.473551  0.540322  0.203003  0.673106  0.769842   \n",
       "P3       0.695928  0.473551  1.000000  0.443606  0.168891  0.570486  0.651489   \n",
       "P4       0.677941  0.540322  0.443606  1.000000  0.715406  0.595724  0.700482   \n",
       "P5       0.302820  0.203003  0.168891  0.715406  1.000000  0.326524  0.446154   \n",
       "P6       0.747296  0.673106  0.570486  0.595724  0.326524  1.000000  0.738388   \n",
       "P7       0.853753  0.769842  0.651489  0.700482  0.446154  0.738388  1.000000   \n",
       "P8       0.760820  0.505116  0.689173  0.654594  0.447577  0.720144  0.751196   \n",
       "P9       0.765743  0.481635  0.741967  0.675336  0.465662  0.676323  0.775003   \n",
       "P10      0.795885  0.498135  0.764191  0.685416  0.462299  0.654594  0.775642   \n",
       "P11      0.542735  0.442719  0.417752  0.585285  0.435002  0.432959  0.503903   \n",
       "P12      0.708360  0.428065  0.684071  0.595115  0.409181  0.637594  0.733115   \n",
       "P13      0.708896  0.410924  0.697519  0.571611  0.380722  0.558621  0.702162   \n",
       "P14      0.491638  0.365777  0.393765  0.347917  0.079245  0.422343  0.457255   \n",
       "P15      0.473155  0.358841  0.379107  0.287313  0.044635  0.426646  0.429170   \n",
       "P16      0.544892  0.396337  0.471427  0.379619  0.164822  0.520707  0.529988   \n",
       "P17      0.412963  0.332134  0.327644  0.235605  0.038805  0.380396  0.365565   \n",
       "P18      0.478503  0.348191  0.425214  0.359393  0.193489  0.453924  0.496990   \n",
       "P19      0.802494  0.595681  0.648948  0.725829  0.509874  0.530297  0.758294   \n",
       "P20      0.820953  0.668683  0.682262  0.579561  0.343363  0.664487  0.793642   \n",
       "P21      0.654138  0.522294  0.559543  0.545285  0.342726  0.427613  0.604106   \n",
       "P22      0.389116  0.476538  0.243983  0.076177 -0.198689  0.206913  0.270211   \n",
       "P23      0.702120  0.513936  0.602325  0.559099  0.354058  0.486043  0.651876   \n",
       "P24      0.425720  0.354225  0.337895  0.213535  0.020124  0.461674  0.375711   \n",
       "P25      0.472057  0.378042  0.358244  0.285547  0.042141  0.485535  0.404787   \n",
       "P26      0.505437  0.409526  0.393404  0.288684  0.052430  0.524207  0.437787   \n",
       "P27      0.280761  0.195660  0.257228  0.109555  0.008393  0.334761  0.279604   \n",
       "P28      0.843738  0.732712  0.643420  0.641971  0.323253  0.729083  0.739868   \n",
       "P29      0.586532  0.322511  0.571525  0.452364  0.306904  0.563415  0.584071   \n",
       "P30      0.487589  0.342005  0.473089  0.387747  0.244032  0.460618  0.509213   \n",
       "P31      0.479175  0.353477  0.406701  0.333626  0.112603  0.477593  0.452471   \n",
       "P32      0.552593  0.389376  0.463217  0.440795  0.215568  0.519243  0.531011   \n",
       "P33      0.329795  0.234991  0.312269  0.182820  0.071079  0.300611  0.339178   \n",
       "P34      0.570835  0.394319  0.501575  0.434245  0.243040  0.519635  0.562561   \n",
       "P35      0.449182  0.314798  0.428504  0.277902  0.173309  0.413645  0.457721   \n",
       "P36      0.554951  0.387938  0.484942  0.411664  0.193652  0.524552  0.543563   \n",
       "P37      0.277601  0.161162  0.284065  0.177916  0.033548  0.327594  0.309678   \n",
       "revenue  0.070217  0.191518 -0.024613  0.035685 -0.028191  0.139094  0.051165   \n",
       "\n",
       "               P8        P9       P10  ...       P29       P30       P31  \\\n",
       "P1       0.760820  0.765743  0.795885  ...  0.586532  0.487589  0.479175   \n",
       "P2       0.505116  0.481635  0.498135  ...  0.322511  0.342005  0.353477   \n",
       "P3       0.689173  0.741967  0.764191  ...  0.571525  0.473089  0.406701   \n",
       "P4       0.654594  0.675336  0.685416  ...  0.452364  0.387747  0.333626   \n",
       "P5       0.447577  0.465662  0.462299  ...  0.306904  0.244032  0.112603   \n",
       "P6       0.720144  0.676323  0.654594  ...  0.563415  0.460618  0.477593   \n",
       "P7       0.751196  0.775003  0.775642  ...  0.584071  0.509213  0.452471   \n",
       "P8       1.000000  0.919956  0.881650  ...  0.754736  0.454937  0.420425   \n",
       "P9       0.919956  1.000000  0.961266  ...  0.789784  0.502670  0.467334   \n",
       "P10      0.881650  0.961266  1.000000  ...  0.789510  0.514738  0.462235   \n",
       "P11      0.230823  0.398431  0.479873  ...  0.292211  0.410573  0.300331   \n",
       "P12      0.889829  0.971593  0.930453  ...  0.797455  0.433005  0.403691   \n",
       "P13      0.810365  0.905105  0.966112  ...  0.740722  0.466337  0.425461   \n",
       "P14      0.351134  0.413468  0.420093  ...  0.304980  0.812712  0.795637   \n",
       "P15      0.303275  0.379923  0.398334  ...  0.299711  0.743738  0.798711   \n",
       "P16      0.456162  0.517326  0.535717  ...  0.425590  0.869697  0.899675   \n",
       "P17      0.294639  0.333071  0.324461  ...  0.224734  0.739895  0.770449   \n",
       "P18      0.430591  0.488788  0.499097  ...  0.420248  0.836870  0.900439   \n",
       "P19      0.667079  0.717049  0.757235  ...  0.417782  0.466695  0.369915   \n",
       "P20      0.612958  0.710714  0.730183  ...  0.505358  0.593911  0.505542   \n",
       "P21      0.420807  0.559405  0.626075  ...  0.267466  0.482010  0.429568   \n",
       "P22      0.045803  0.055999  0.096495  ... -0.148172  0.170901  0.181702   \n",
       "P23      0.512021  0.621546  0.697081  ...  0.393031  0.475536  0.367508   \n",
       "P24      0.323116  0.339668  0.342099  ...  0.247974  0.732452  0.823207   \n",
       "P25      0.358971  0.379653  0.370928  ...  0.269835  0.760051  0.850616   \n",
       "P26      0.396246  0.412378  0.417413  ...  0.308637  0.790324  0.864259   \n",
       "P27      0.319507  0.308448  0.296928  ...  0.270460  0.654312  0.675237   \n",
       "P28      0.630284  0.635144  0.669822  ...  0.331344  0.438447  0.369772   \n",
       "P29      0.754736  0.789784  0.789510  ...  1.000000  0.356722  0.371893   \n",
       "P30      0.454937  0.502670  0.514738  ...  0.356722  1.000000  0.840158   \n",
       "P31      0.420425  0.467334  0.462235  ...  0.371893  0.840158  1.000000   \n",
       "P32      0.516617  0.544749  0.549238  ...  0.425120  0.881481  0.934778   \n",
       "P33      0.256416  0.326869  0.320317  ...  0.249646  0.790581  0.803785   \n",
       "P34      0.524474  0.582042  0.601956  ...  0.490329  0.918200  0.864144   \n",
       "P35      0.405709  0.467916  0.483010  ...  0.384401  0.874635  0.823262   \n",
       "P36      0.499777  0.551953  0.565068  ...  0.457660  0.904491  0.901940   \n",
       "P37      0.308294  0.330927  0.313748  ...  0.296405  0.736656  0.787904   \n",
       "revenue -0.084215 -0.050352 -0.073220  ... -0.114846 -0.066203 -0.040418   \n",
       "\n",
       "              P32       P33       P34       P35       P36       P37   revenue  \n",
       "P1       0.552593  0.329795  0.570835  0.449182  0.554951  0.277601  0.070217  \n",
       "P2       0.389376  0.234991  0.394319  0.314798  0.387938  0.161162  0.191518  \n",
       "P3       0.463217  0.312269  0.501575  0.428504  0.484942  0.284065 -0.024613  \n",
       "P4       0.440795  0.182820  0.434245  0.277902  0.411664  0.177916  0.035685  \n",
       "P5       0.215568  0.071079  0.243040  0.173309  0.193652  0.033548 -0.028191  \n",
       "P6       0.519243  0.300611  0.519635  0.413645  0.524552  0.327594  0.139094  \n",
       "P7       0.531011  0.339178  0.562561  0.457721  0.543563  0.309678  0.051165  \n",
       "P8       0.516617  0.256416  0.524474  0.405709  0.499777  0.308294 -0.084215  \n",
       "P9       0.544749  0.326869  0.582042  0.467916  0.551953  0.330927 -0.050352  \n",
       "P10      0.549238  0.320317  0.601956  0.483010  0.565068  0.313748 -0.073220  \n",
       "P11      0.358379  0.244698  0.401866  0.291108  0.383485  0.158579  0.084247  \n",
       "P12      0.471691  0.281619  0.519051  0.426274  0.491803  0.304963 -0.062193  \n",
       "P13      0.499431  0.302684  0.555712  0.457633  0.520219  0.295972 -0.105085  \n",
       "P14      0.840592  0.801055  0.853824  0.815550  0.892459  0.776719  0.006441  \n",
       "P15      0.797193  0.806085  0.813125  0.819329  0.890441  0.768268  0.000742  \n",
       "P16      0.928434  0.823748  0.941628  0.899202  0.981550  0.801029 -0.037997  \n",
       "P17      0.772197  0.716934  0.735778  0.781719  0.812184  0.726738  0.067137  \n",
       "P18      0.915038  0.861861  0.926000  0.916872  0.952266  0.833428 -0.034537  \n",
       "P19      0.437442  0.298000  0.453496  0.346822  0.425475  0.226764  0.027984  \n",
       "P20      0.567801  0.420983  0.610553  0.529064  0.587118  0.326929  0.014147  \n",
       "P21      0.481878  0.373014  0.525638  0.437753  0.501181  0.273409  0.097411  \n",
       "P22      0.169877  0.178341  0.143249  0.156648  0.165467  0.108030  0.083562  \n",
       "P23      0.433061  0.316115  0.470396  0.399514  0.448681  0.216329  0.045507  \n",
       "P24      0.787841  0.770173  0.763692  0.813077  0.830078  0.787741  0.014222  \n",
       "P25      0.849365  0.765023  0.792694  0.781572  0.870674  0.809613  0.036365  \n",
       "P26      0.859348  0.764947  0.834661  0.817260  0.888330  0.778074 -0.007650  \n",
       "P27      0.649870  0.748135  0.661309  0.723519  0.689364  0.805824 -0.013680  \n",
       "P28      0.457892  0.264879  0.448928  0.341164  0.454263  0.215078  0.155534  \n",
       "P29      0.425120  0.249646  0.490329  0.384401  0.457660  0.296405 -0.114846  \n",
       "P30      0.881481  0.790581  0.918200  0.874635  0.904491  0.736656 -0.066203  \n",
       "P31      0.934778  0.803785  0.864144  0.823262  0.901940  0.787904 -0.040418  \n",
       "P32      1.000000  0.760670  0.930014  0.837858  0.958152  0.758060 -0.065857  \n",
       "P33      0.760670  1.000000  0.797647  0.867296  0.816293  0.879400 -0.032426  \n",
       "P34      0.930014  0.797647  1.000000  0.917651  0.970234  0.741039 -0.072343  \n",
       "P35      0.837858  0.867296  0.917651  1.000000  0.904110  0.797640 -0.050156  \n",
       "P36      0.958152  0.816293  0.970234  0.904110  1.000000  0.805416 -0.050534  \n",
       "P37      0.758060  0.879400  0.741039  0.797640  0.805416  1.000000 -0.019051  \n",
       "revenue -0.065857 -0.032426 -0.072343 -0.050156 -0.050534 -0.019051  1.000000  \n",
       "\n",
       "[38 rows x 38 columns]"
      ]
     },
     "execution_count": 569,
     "metadata": {},
     "output_type": "execute_result"
    }
   ],
   "source": [
    "train_data.corr()   #directly can see multicollinearity"
   ]
  },
  {
   "cell_type": "code",
   "execution_count": 570,
   "metadata": {},
   "outputs": [
    {
     "data": {
      "application/javascript": [
       "/* Put everything inside the global mpl namespace */\n",
       "window.mpl = {};\n",
       "\n",
       "\n",
       "mpl.get_websocket_type = function() {\n",
       "    if (typeof(WebSocket) !== 'undefined') {\n",
       "        return WebSocket;\n",
       "    } else if (typeof(MozWebSocket) !== 'undefined') {\n",
       "        return MozWebSocket;\n",
       "    } else {\n",
       "        alert('Your browser does not have WebSocket support. ' +\n",
       "              'Please try Chrome, Safari or Firefox ≥ 6. ' +\n",
       "              'Firefox 4 and 5 are also supported but you ' +\n",
       "              'have to enable WebSockets in about:config.');\n",
       "    };\n",
       "}\n",
       "\n",
       "mpl.figure = function(figure_id, websocket, ondownload, parent_element) {\n",
       "    this.id = figure_id;\n",
       "\n",
       "    this.ws = websocket;\n",
       "\n",
       "    this.supports_binary = (this.ws.binaryType != undefined);\n",
       "\n",
       "    if (!this.supports_binary) {\n",
       "        var warnings = document.getElementById(\"mpl-warnings\");\n",
       "        if (warnings) {\n",
       "            warnings.style.display = 'block';\n",
       "            warnings.textContent = (\n",
       "                \"This browser does not support binary websocket messages. \" +\n",
       "                    \"Performance may be slow.\");\n",
       "        }\n",
       "    }\n",
       "\n",
       "    this.imageObj = new Image();\n",
       "\n",
       "    this.context = undefined;\n",
       "    this.message = undefined;\n",
       "    this.canvas = undefined;\n",
       "    this.rubberband_canvas = undefined;\n",
       "    this.rubberband_context = undefined;\n",
       "    this.format_dropdown = undefined;\n",
       "\n",
       "    this.image_mode = 'full';\n",
       "\n",
       "    this.root = $('<div/>');\n",
       "    this._root_extra_style(this.root)\n",
       "    this.root.attr('style', 'display: inline-block');\n",
       "\n",
       "    $(parent_element).append(this.root);\n",
       "\n",
       "    this._init_header(this);\n",
       "    this._init_canvas(this);\n",
       "    this._init_toolbar(this);\n",
       "\n",
       "    var fig = this;\n",
       "\n",
       "    this.waiting = false;\n",
       "\n",
       "    this.ws.onopen =  function () {\n",
       "            fig.send_message(\"supports_binary\", {value: fig.supports_binary});\n",
       "            fig.send_message(\"send_image_mode\", {});\n",
       "            if (mpl.ratio != 1) {\n",
       "                fig.send_message(\"set_dpi_ratio\", {'dpi_ratio': mpl.ratio});\n",
       "            }\n",
       "            fig.send_message(\"refresh\", {});\n",
       "        }\n",
       "\n",
       "    this.imageObj.onload = function() {\n",
       "            if (fig.image_mode == 'full') {\n",
       "                // Full images could contain transparency (where diff images\n",
       "                // almost always do), so we need to clear the canvas so that\n",
       "                // there is no ghosting.\n",
       "                fig.context.clearRect(0, 0, fig.canvas.width, fig.canvas.height);\n",
       "            }\n",
       "            fig.context.drawImage(fig.imageObj, 0, 0);\n",
       "        };\n",
       "\n",
       "    this.imageObj.onunload = function() {\n",
       "        fig.ws.close();\n",
       "    }\n",
       "\n",
       "    this.ws.onmessage = this._make_on_message_function(this);\n",
       "\n",
       "    this.ondownload = ondownload;\n",
       "}\n",
       "\n",
       "mpl.figure.prototype._init_header = function() {\n",
       "    var titlebar = $(\n",
       "        '<div class=\"ui-dialog-titlebar ui-widget-header ui-corner-all ' +\n",
       "        'ui-helper-clearfix\"/>');\n",
       "    var titletext = $(\n",
       "        '<div class=\"ui-dialog-title\" style=\"width: 100%; ' +\n",
       "        'text-align: center; padding: 3px;\"/>');\n",
       "    titlebar.append(titletext)\n",
       "    this.root.append(titlebar);\n",
       "    this.header = titletext[0];\n",
       "}\n",
       "\n",
       "\n",
       "\n",
       "mpl.figure.prototype._canvas_extra_style = function(canvas_div) {\n",
       "\n",
       "}\n",
       "\n",
       "\n",
       "mpl.figure.prototype._root_extra_style = function(canvas_div) {\n",
       "\n",
       "}\n",
       "\n",
       "mpl.figure.prototype._init_canvas = function() {\n",
       "    var fig = this;\n",
       "\n",
       "    var canvas_div = $('<div/>');\n",
       "\n",
       "    canvas_div.attr('style', 'position: relative; clear: both; outline: 0');\n",
       "\n",
       "    function canvas_keyboard_event(event) {\n",
       "        return fig.key_event(event, event['data']);\n",
       "    }\n",
       "\n",
       "    canvas_div.keydown('key_press', canvas_keyboard_event);\n",
       "    canvas_div.keyup('key_release', canvas_keyboard_event);\n",
       "    this.canvas_div = canvas_div\n",
       "    this._canvas_extra_style(canvas_div)\n",
       "    this.root.append(canvas_div);\n",
       "\n",
       "    var canvas = $('<canvas/>');\n",
       "    canvas.addClass('mpl-canvas');\n",
       "    canvas.attr('style', \"left: 0; top: 0; z-index: 0; outline: 0\")\n",
       "\n",
       "    this.canvas = canvas[0];\n",
       "    this.context = canvas[0].getContext(\"2d\");\n",
       "\n",
       "    var backingStore = this.context.backingStorePixelRatio ||\n",
       "\tthis.context.webkitBackingStorePixelRatio ||\n",
       "\tthis.context.mozBackingStorePixelRatio ||\n",
       "\tthis.context.msBackingStorePixelRatio ||\n",
       "\tthis.context.oBackingStorePixelRatio ||\n",
       "\tthis.context.backingStorePixelRatio || 1;\n",
       "\n",
       "    mpl.ratio = (window.devicePixelRatio || 1) / backingStore;\n",
       "\n",
       "    var rubberband = $('<canvas/>');\n",
       "    rubberband.attr('style', \"position: absolute; left: 0; top: 0; z-index: 1;\")\n",
       "\n",
       "    var pass_mouse_events = true;\n",
       "\n",
       "    canvas_div.resizable({\n",
       "        start: function(event, ui) {\n",
       "            pass_mouse_events = false;\n",
       "        },\n",
       "        resize: function(event, ui) {\n",
       "            fig.request_resize(ui.size.width, ui.size.height);\n",
       "        },\n",
       "        stop: function(event, ui) {\n",
       "            pass_mouse_events = true;\n",
       "            fig.request_resize(ui.size.width, ui.size.height);\n",
       "        },\n",
       "    });\n",
       "\n",
       "    function mouse_event_fn(event) {\n",
       "        if (pass_mouse_events)\n",
       "            return fig.mouse_event(event, event['data']);\n",
       "    }\n",
       "\n",
       "    rubberband.mousedown('button_press', mouse_event_fn);\n",
       "    rubberband.mouseup('button_release', mouse_event_fn);\n",
       "    // Throttle sequential mouse events to 1 every 20ms.\n",
       "    rubberband.mousemove('motion_notify', mouse_event_fn);\n",
       "\n",
       "    rubberband.mouseenter('figure_enter', mouse_event_fn);\n",
       "    rubberband.mouseleave('figure_leave', mouse_event_fn);\n",
       "\n",
       "    canvas_div.on(\"wheel\", function (event) {\n",
       "        event = event.originalEvent;\n",
       "        event['data'] = 'scroll'\n",
       "        if (event.deltaY < 0) {\n",
       "            event.step = 1;\n",
       "        } else {\n",
       "            event.step = -1;\n",
       "        }\n",
       "        mouse_event_fn(event);\n",
       "    });\n",
       "\n",
       "    canvas_div.append(canvas);\n",
       "    canvas_div.append(rubberband);\n",
       "\n",
       "    this.rubberband = rubberband;\n",
       "    this.rubberband_canvas = rubberband[0];\n",
       "    this.rubberband_context = rubberband[0].getContext(\"2d\");\n",
       "    this.rubberband_context.strokeStyle = \"#000000\";\n",
       "\n",
       "    this._resize_canvas = function(width, height) {\n",
       "        // Keep the size of the canvas, canvas container, and rubber band\n",
       "        // canvas in synch.\n",
       "        canvas_div.css('width', width)\n",
       "        canvas_div.css('height', height)\n",
       "\n",
       "        canvas.attr('width', width * mpl.ratio);\n",
       "        canvas.attr('height', height * mpl.ratio);\n",
       "        canvas.attr('style', 'width: ' + width + 'px; height: ' + height + 'px;');\n",
       "\n",
       "        rubberband.attr('width', width);\n",
       "        rubberband.attr('height', height);\n",
       "    }\n",
       "\n",
       "    // Set the figure to an initial 600x600px, this will subsequently be updated\n",
       "    // upon first draw.\n",
       "    this._resize_canvas(600, 600);\n",
       "\n",
       "    // Disable right mouse context menu.\n",
       "    $(this.rubberband_canvas).bind(\"contextmenu\",function(e){\n",
       "        return false;\n",
       "    });\n",
       "\n",
       "    function set_focus () {\n",
       "        canvas.focus();\n",
       "        canvas_div.focus();\n",
       "    }\n",
       "\n",
       "    window.setTimeout(set_focus, 100);\n",
       "}\n",
       "\n",
       "mpl.figure.prototype._init_toolbar = function() {\n",
       "    var fig = this;\n",
       "\n",
       "    var nav_element = $('<div/>');\n",
       "    nav_element.attr('style', 'width: 100%');\n",
       "    this.root.append(nav_element);\n",
       "\n",
       "    // Define a callback function for later on.\n",
       "    function toolbar_event(event) {\n",
       "        return fig.toolbar_button_onclick(event['data']);\n",
       "    }\n",
       "    function toolbar_mouse_event(event) {\n",
       "        return fig.toolbar_button_onmouseover(event['data']);\n",
       "    }\n",
       "\n",
       "    for(var toolbar_ind in mpl.toolbar_items) {\n",
       "        var name = mpl.toolbar_items[toolbar_ind][0];\n",
       "        var tooltip = mpl.toolbar_items[toolbar_ind][1];\n",
       "        var image = mpl.toolbar_items[toolbar_ind][2];\n",
       "        var method_name = mpl.toolbar_items[toolbar_ind][3];\n",
       "\n",
       "        if (!name) {\n",
       "            // put a spacer in here.\n",
       "            continue;\n",
       "        }\n",
       "        var button = $('<button/>');\n",
       "        button.addClass('ui-button ui-widget ui-state-default ui-corner-all ' +\n",
       "                        'ui-button-icon-only');\n",
       "        button.attr('role', 'button');\n",
       "        button.attr('aria-disabled', 'false');\n",
       "        button.click(method_name, toolbar_event);\n",
       "        button.mouseover(tooltip, toolbar_mouse_event);\n",
       "\n",
       "        var icon_img = $('<span/>');\n",
       "        icon_img.addClass('ui-button-icon-primary ui-icon');\n",
       "        icon_img.addClass(image);\n",
       "        icon_img.addClass('ui-corner-all');\n",
       "\n",
       "        var tooltip_span = $('<span/>');\n",
       "        tooltip_span.addClass('ui-button-text');\n",
       "        tooltip_span.html(tooltip);\n",
       "\n",
       "        button.append(icon_img);\n",
       "        button.append(tooltip_span);\n",
       "\n",
       "        nav_element.append(button);\n",
       "    }\n",
       "\n",
       "    var fmt_picker_span = $('<span/>');\n",
       "\n",
       "    var fmt_picker = $('<select/>');\n",
       "    fmt_picker.addClass('mpl-toolbar-option ui-widget ui-widget-content');\n",
       "    fmt_picker_span.append(fmt_picker);\n",
       "    nav_element.append(fmt_picker_span);\n",
       "    this.format_dropdown = fmt_picker[0];\n",
       "\n",
       "    for (var ind in mpl.extensions) {\n",
       "        var fmt = mpl.extensions[ind];\n",
       "        var option = $(\n",
       "            '<option/>', {selected: fmt === mpl.default_extension}).html(fmt);\n",
       "        fmt_picker.append(option);\n",
       "    }\n",
       "\n",
       "    // Add hover states to the ui-buttons\n",
       "    $( \".ui-button\" ).hover(\n",
       "        function() { $(this).addClass(\"ui-state-hover\");},\n",
       "        function() { $(this).removeClass(\"ui-state-hover\");}\n",
       "    );\n",
       "\n",
       "    var status_bar = $('<span class=\"mpl-message\"/>');\n",
       "    nav_element.append(status_bar);\n",
       "    this.message = status_bar[0];\n",
       "}\n",
       "\n",
       "mpl.figure.prototype.request_resize = function(x_pixels, y_pixels) {\n",
       "    // Request matplotlib to resize the figure. Matplotlib will then trigger a resize in the client,\n",
       "    // which will in turn request a refresh of the image.\n",
       "    this.send_message('resize', {'width': x_pixels, 'height': y_pixels});\n",
       "}\n",
       "\n",
       "mpl.figure.prototype.send_message = function(type, properties) {\n",
       "    properties['type'] = type;\n",
       "    properties['figure_id'] = this.id;\n",
       "    this.ws.send(JSON.stringify(properties));\n",
       "}\n",
       "\n",
       "mpl.figure.prototype.send_draw_message = function() {\n",
       "    if (!this.waiting) {\n",
       "        this.waiting = true;\n",
       "        this.ws.send(JSON.stringify({type: \"draw\", figure_id: this.id}));\n",
       "    }\n",
       "}\n",
       "\n",
       "\n",
       "mpl.figure.prototype.handle_save = function(fig, msg) {\n",
       "    var format_dropdown = fig.format_dropdown;\n",
       "    var format = format_dropdown.options[format_dropdown.selectedIndex].value;\n",
       "    fig.ondownload(fig, format);\n",
       "}\n",
       "\n",
       "\n",
       "mpl.figure.prototype.handle_resize = function(fig, msg) {\n",
       "    var size = msg['size'];\n",
       "    if (size[0] != fig.canvas.width || size[1] != fig.canvas.height) {\n",
       "        fig._resize_canvas(size[0], size[1]);\n",
       "        fig.send_message(\"refresh\", {});\n",
       "    };\n",
       "}\n",
       "\n",
       "mpl.figure.prototype.handle_rubberband = function(fig, msg) {\n",
       "    var x0 = msg['x0'] / mpl.ratio;\n",
       "    var y0 = (fig.canvas.height - msg['y0']) / mpl.ratio;\n",
       "    var x1 = msg['x1'] / mpl.ratio;\n",
       "    var y1 = (fig.canvas.height - msg['y1']) / mpl.ratio;\n",
       "    x0 = Math.floor(x0) + 0.5;\n",
       "    y0 = Math.floor(y0) + 0.5;\n",
       "    x1 = Math.floor(x1) + 0.5;\n",
       "    y1 = Math.floor(y1) + 0.5;\n",
       "    var min_x = Math.min(x0, x1);\n",
       "    var min_y = Math.min(y0, y1);\n",
       "    var width = Math.abs(x1 - x0);\n",
       "    var height = Math.abs(y1 - y0);\n",
       "\n",
       "    fig.rubberband_context.clearRect(\n",
       "        0, 0, fig.canvas.width, fig.canvas.height);\n",
       "\n",
       "    fig.rubberband_context.strokeRect(min_x, min_y, width, height);\n",
       "}\n",
       "\n",
       "mpl.figure.prototype.handle_figure_label = function(fig, msg) {\n",
       "    // Updates the figure title.\n",
       "    fig.header.textContent = msg['label'];\n",
       "}\n",
       "\n",
       "mpl.figure.prototype.handle_cursor = function(fig, msg) {\n",
       "    var cursor = msg['cursor'];\n",
       "    switch(cursor)\n",
       "    {\n",
       "    case 0:\n",
       "        cursor = 'pointer';\n",
       "        break;\n",
       "    case 1:\n",
       "        cursor = 'default';\n",
       "        break;\n",
       "    case 2:\n",
       "        cursor = 'crosshair';\n",
       "        break;\n",
       "    case 3:\n",
       "        cursor = 'move';\n",
       "        break;\n",
       "    }\n",
       "    fig.rubberband_canvas.style.cursor = cursor;\n",
       "}\n",
       "\n",
       "mpl.figure.prototype.handle_message = function(fig, msg) {\n",
       "    fig.message.textContent = msg['message'];\n",
       "}\n",
       "\n",
       "mpl.figure.prototype.handle_draw = function(fig, msg) {\n",
       "    // Request the server to send over a new figure.\n",
       "    fig.send_draw_message();\n",
       "}\n",
       "\n",
       "mpl.figure.prototype.handle_image_mode = function(fig, msg) {\n",
       "    fig.image_mode = msg['mode'];\n",
       "}\n",
       "\n",
       "mpl.figure.prototype.updated_canvas_event = function() {\n",
       "    // Called whenever the canvas gets updated.\n",
       "    this.send_message(\"ack\", {});\n",
       "}\n",
       "\n",
       "// A function to construct a web socket function for onmessage handling.\n",
       "// Called in the figure constructor.\n",
       "mpl.figure.prototype._make_on_message_function = function(fig) {\n",
       "    return function socket_on_message(evt) {\n",
       "        if (evt.data instanceof Blob) {\n",
       "            /* FIXME: We get \"Resource interpreted as Image but\n",
       "             * transferred with MIME type text/plain:\" errors on\n",
       "             * Chrome.  But how to set the MIME type?  It doesn't seem\n",
       "             * to be part of the websocket stream */\n",
       "            evt.data.type = \"image/png\";\n",
       "\n",
       "            /* Free the memory for the previous frames */\n",
       "            if (fig.imageObj.src) {\n",
       "                (window.URL || window.webkitURL).revokeObjectURL(\n",
       "                    fig.imageObj.src);\n",
       "            }\n",
       "\n",
       "            fig.imageObj.src = (window.URL || window.webkitURL).createObjectURL(\n",
       "                evt.data);\n",
       "            fig.updated_canvas_event();\n",
       "            fig.waiting = false;\n",
       "            return;\n",
       "        }\n",
       "        else if (typeof evt.data === 'string' && evt.data.slice(0, 21) == \"data:image/png;base64\") {\n",
       "            fig.imageObj.src = evt.data;\n",
       "            fig.updated_canvas_event();\n",
       "            fig.waiting = false;\n",
       "            return;\n",
       "        }\n",
       "\n",
       "        var msg = JSON.parse(evt.data);\n",
       "        var msg_type = msg['type'];\n",
       "\n",
       "        // Call the  \"handle_{type}\" callback, which takes\n",
       "        // the figure and JSON message as its only arguments.\n",
       "        try {\n",
       "            var callback = fig[\"handle_\" + msg_type];\n",
       "        } catch (e) {\n",
       "            console.log(\"No handler for the '\" + msg_type + \"' message type: \", msg);\n",
       "            return;\n",
       "        }\n",
       "\n",
       "        if (callback) {\n",
       "            try {\n",
       "                // console.log(\"Handling '\" + msg_type + \"' message: \", msg);\n",
       "                callback(fig, msg);\n",
       "            } catch (e) {\n",
       "                console.log(\"Exception inside the 'handler_\" + msg_type + \"' callback:\", e, e.stack, msg);\n",
       "            }\n",
       "        }\n",
       "    };\n",
       "}\n",
       "\n",
       "// from http://stackoverflow.com/questions/1114465/getting-mouse-location-in-canvas\n",
       "mpl.findpos = function(e) {\n",
       "    //this section is from http://www.quirksmode.org/js/events_properties.html\n",
       "    var targ;\n",
       "    if (!e)\n",
       "        e = window.event;\n",
       "    if (e.target)\n",
       "        targ = e.target;\n",
       "    else if (e.srcElement)\n",
       "        targ = e.srcElement;\n",
       "    if (targ.nodeType == 3) // defeat Safari bug\n",
       "        targ = targ.parentNode;\n",
       "\n",
       "    // jQuery normalizes the pageX and pageY\n",
       "    // pageX,Y are the mouse positions relative to the document\n",
       "    // offset() returns the position of the element relative to the document\n",
       "    var x = e.pageX - $(targ).offset().left;\n",
       "    var y = e.pageY - $(targ).offset().top;\n",
       "\n",
       "    return {\"x\": x, \"y\": y};\n",
       "};\n",
       "\n",
       "/*\n",
       " * return a copy of an object with only non-object keys\n",
       " * we need this to avoid circular references\n",
       " * http://stackoverflow.com/a/24161582/3208463\n",
       " */\n",
       "function simpleKeys (original) {\n",
       "  return Object.keys(original).reduce(function (obj, key) {\n",
       "    if (typeof original[key] !== 'object')\n",
       "        obj[key] = original[key]\n",
       "    return obj;\n",
       "  }, {});\n",
       "}\n",
       "\n",
       "mpl.figure.prototype.mouse_event = function(event, name) {\n",
       "    var canvas_pos = mpl.findpos(event)\n",
       "\n",
       "    if (name === 'button_press')\n",
       "    {\n",
       "        this.canvas.focus();\n",
       "        this.canvas_div.focus();\n",
       "    }\n",
       "\n",
       "    var x = canvas_pos.x * mpl.ratio;\n",
       "    var y = canvas_pos.y * mpl.ratio;\n",
       "\n",
       "    this.send_message(name, {x: x, y: y, button: event.button,\n",
       "                             step: event.step,\n",
       "                             guiEvent: simpleKeys(event)});\n",
       "\n",
       "    /* This prevents the web browser from automatically changing to\n",
       "     * the text insertion cursor when the button is pressed.  We want\n",
       "     * to control all of the cursor setting manually through the\n",
       "     * 'cursor' event from matplotlib */\n",
       "    event.preventDefault();\n",
       "    return false;\n",
       "}\n",
       "\n",
       "mpl.figure.prototype._key_event_extra = function(event, name) {\n",
       "    // Handle any extra behaviour associated with a key event\n",
       "}\n",
       "\n",
       "mpl.figure.prototype.key_event = function(event, name) {\n",
       "\n",
       "    // Prevent repeat events\n",
       "    if (name == 'key_press')\n",
       "    {\n",
       "        if (event.which === this._key)\n",
       "            return;\n",
       "        else\n",
       "            this._key = event.which;\n",
       "    }\n",
       "    if (name == 'key_release')\n",
       "        this._key = null;\n",
       "\n",
       "    var value = '';\n",
       "    if (event.ctrlKey && event.which != 17)\n",
       "        value += \"ctrl+\";\n",
       "    if (event.altKey && event.which != 18)\n",
       "        value += \"alt+\";\n",
       "    if (event.shiftKey && event.which != 16)\n",
       "        value += \"shift+\";\n",
       "\n",
       "    value += 'k';\n",
       "    value += event.which.toString();\n",
       "\n",
       "    this._key_event_extra(event, name);\n",
       "\n",
       "    this.send_message(name, {key: value,\n",
       "                             guiEvent: simpleKeys(event)});\n",
       "    return false;\n",
       "}\n",
       "\n",
       "mpl.figure.prototype.toolbar_button_onclick = function(name) {\n",
       "    if (name == 'download') {\n",
       "        this.handle_save(this, null);\n",
       "    } else {\n",
       "        this.send_message(\"toolbar_button\", {name: name});\n",
       "    }\n",
       "};\n",
       "\n",
       "mpl.figure.prototype.toolbar_button_onmouseover = function(tooltip) {\n",
       "    this.message.textContent = tooltip;\n",
       "};\n",
       "mpl.toolbar_items = [[\"Home\", \"Reset original view\", \"fa fa-home icon-home\", \"home\"], [\"Back\", \"Back to previous view\", \"fa fa-arrow-left icon-arrow-left\", \"back\"], [\"Forward\", \"Forward to next view\", \"fa fa-arrow-right icon-arrow-right\", \"forward\"], [\"\", \"\", \"\", \"\"], [\"Pan\", \"Pan axes with left mouse, zoom with right\", \"fa fa-arrows icon-move\", \"pan\"], [\"Zoom\", \"Zoom to rectangle\", \"fa fa-square-o icon-check-empty\", \"zoom\"], [\"\", \"\", \"\", \"\"], [\"Download\", \"Download plot\", \"fa fa-floppy-o icon-save\", \"download\"]];\n",
       "\n",
       "mpl.extensions = [\"eps\", \"jpeg\", \"pdf\", \"png\", \"ps\", \"raw\", \"svg\", \"tif\"];\n",
       "\n",
       "mpl.default_extension = \"png\";var comm_websocket_adapter = function(comm) {\n",
       "    // Create a \"websocket\"-like object which calls the given IPython comm\n",
       "    // object with the appropriate methods. Currently this is a non binary\n",
       "    // socket, so there is still some room for performance tuning.\n",
       "    var ws = {};\n",
       "\n",
       "    ws.close = function() {\n",
       "        comm.close()\n",
       "    };\n",
       "    ws.send = function(m) {\n",
       "        //console.log('sending', m);\n",
       "        comm.send(m);\n",
       "    };\n",
       "    // Register the callback with on_msg.\n",
       "    comm.on_msg(function(msg) {\n",
       "        //console.log('receiving', msg['content']['data'], msg);\n",
       "        // Pass the mpl event to the overridden (by mpl) onmessage function.\n",
       "        ws.onmessage(msg['content']['data'])\n",
       "    });\n",
       "    return ws;\n",
       "}\n",
       "\n",
       "mpl.mpl_figure_comm = function(comm, msg) {\n",
       "    // This is the function which gets called when the mpl process\n",
       "    // starts-up an IPython Comm through the \"matplotlib\" channel.\n",
       "\n",
       "    var id = msg.content.data.id;\n",
       "    // Get hold of the div created by the display call when the Comm\n",
       "    // socket was opened in Python.\n",
       "    var element = $(\"#\" + id);\n",
       "    var ws_proxy = comm_websocket_adapter(comm)\n",
       "\n",
       "    function ondownload(figure, format) {\n",
       "        window.open(figure.imageObj.src);\n",
       "    }\n",
       "\n",
       "    var fig = new mpl.figure(id, ws_proxy,\n",
       "                           ondownload,\n",
       "                           element.get(0));\n",
       "\n",
       "    // Call onopen now - mpl needs it, as it is assuming we've passed it a real\n",
       "    // web socket which is closed, not our websocket->open comm proxy.\n",
       "    ws_proxy.onopen();\n",
       "\n",
       "    fig.parent_element = element.get(0);\n",
       "    fig.cell_info = mpl.find_output_cell(\"<div id='\" + id + \"'></div>\");\n",
       "    if (!fig.cell_info) {\n",
       "        console.error(\"Failed to find cell for figure\", id, fig);\n",
       "        return;\n",
       "    }\n",
       "\n",
       "    var output_index = fig.cell_info[2]\n",
       "    var cell = fig.cell_info[0];\n",
       "\n",
       "};\n",
       "\n",
       "mpl.figure.prototype.handle_close = function(fig, msg) {\n",
       "    var width = fig.canvas.width/mpl.ratio\n",
       "    fig.root.unbind('remove')\n",
       "\n",
       "    // Update the output cell to use the data from the current canvas.\n",
       "    fig.push_to_output();\n",
       "    var dataURL = fig.canvas.toDataURL();\n",
       "    // Re-enable the keyboard manager in IPython - without this line, in FF,\n",
       "    // the notebook keyboard shortcuts fail.\n",
       "    IPython.keyboard_manager.enable()\n",
       "    $(fig.parent_element).html('<img src=\"' + dataURL + '\" width=\"' + width + '\">');\n",
       "    fig.close_ws(fig, msg);\n",
       "}\n",
       "\n",
       "mpl.figure.prototype.close_ws = function(fig, msg){\n",
       "    fig.send_message('closing', msg);\n",
       "    // fig.ws.close()\n",
       "}\n",
       "\n",
       "mpl.figure.prototype.push_to_output = function(remove_interactive) {\n",
       "    // Turn the data on the canvas into data in the output cell.\n",
       "    var width = this.canvas.width/mpl.ratio\n",
       "    var dataURL = this.canvas.toDataURL();\n",
       "    this.cell_info[1]['text/html'] = '<img src=\"' + dataURL + '\" width=\"' + width + '\">';\n",
       "}\n",
       "\n",
       "mpl.figure.prototype.updated_canvas_event = function() {\n",
       "    // Tell IPython that the notebook contents must change.\n",
       "    IPython.notebook.set_dirty(true);\n",
       "    this.send_message(\"ack\", {});\n",
       "    var fig = this;\n",
       "    // Wait a second, then push the new image to the DOM so\n",
       "    // that it is saved nicely (might be nice to debounce this).\n",
       "    setTimeout(function () { fig.push_to_output() }, 1000);\n",
       "}\n",
       "\n",
       "mpl.figure.prototype._init_toolbar = function() {\n",
       "    var fig = this;\n",
       "\n",
       "    var nav_element = $('<div/>');\n",
       "    nav_element.attr('style', 'width: 100%');\n",
       "    this.root.append(nav_element);\n",
       "\n",
       "    // Define a callback function for later on.\n",
       "    function toolbar_event(event) {\n",
       "        return fig.toolbar_button_onclick(event['data']);\n",
       "    }\n",
       "    function toolbar_mouse_event(event) {\n",
       "        return fig.toolbar_button_onmouseover(event['data']);\n",
       "    }\n",
       "\n",
       "    for(var toolbar_ind in mpl.toolbar_items){\n",
       "        var name = mpl.toolbar_items[toolbar_ind][0];\n",
       "        var tooltip = mpl.toolbar_items[toolbar_ind][1];\n",
       "        var image = mpl.toolbar_items[toolbar_ind][2];\n",
       "        var method_name = mpl.toolbar_items[toolbar_ind][3];\n",
       "\n",
       "        if (!name) { continue; };\n",
       "\n",
       "        var button = $('<button class=\"btn btn-default\" href=\"#\" title=\"' + name + '\"><i class=\"fa ' + image + ' fa-lg\"></i></button>');\n",
       "        button.click(method_name, toolbar_event);\n",
       "        button.mouseover(tooltip, toolbar_mouse_event);\n",
       "        nav_element.append(button);\n",
       "    }\n",
       "\n",
       "    // Add the status bar.\n",
       "    var status_bar = $('<span class=\"mpl-message\" style=\"text-align:right; float: right;\"/>');\n",
       "    nav_element.append(status_bar);\n",
       "    this.message = status_bar[0];\n",
       "\n",
       "    // Add the close button to the window.\n",
       "    var buttongrp = $('<div class=\"btn-group inline pull-right\"></div>');\n",
       "    var button = $('<button class=\"btn btn-mini btn-primary\" href=\"#\" title=\"Stop Interaction\"><i class=\"fa fa-power-off icon-remove icon-large\"></i></button>');\n",
       "    button.click(function (evt) { fig.handle_close(fig, {}); } );\n",
       "    button.mouseover('Stop Interaction', toolbar_mouse_event);\n",
       "    buttongrp.append(button);\n",
       "    var titlebar = this.root.find($('.ui-dialog-titlebar'));\n",
       "    titlebar.prepend(buttongrp);\n",
       "}\n",
       "\n",
       "mpl.figure.prototype._root_extra_style = function(el){\n",
       "    var fig = this\n",
       "    el.on(\"remove\", function(){\n",
       "\tfig.close_ws(fig, {});\n",
       "    });\n",
       "}\n",
       "\n",
       "mpl.figure.prototype._canvas_extra_style = function(el){\n",
       "    // this is important to make the div 'focusable\n",
       "    el.attr('tabindex', 0)\n",
       "    // reach out to IPython and tell the keyboard manager to turn it's self\n",
       "    // off when our div gets focus\n",
       "\n",
       "    // location in version 3\n",
       "    if (IPython.notebook.keyboard_manager) {\n",
       "        IPython.notebook.keyboard_manager.register_events(el);\n",
       "    }\n",
       "    else {\n",
       "        // location in version 2\n",
       "        IPython.keyboard_manager.register_events(el);\n",
       "    }\n",
       "\n",
       "}\n",
       "\n",
       "mpl.figure.prototype._key_event_extra = function(event, name) {\n",
       "    var manager = IPython.notebook.keyboard_manager;\n",
       "    if (!manager)\n",
       "        manager = IPython.keyboard_manager;\n",
       "\n",
       "    // Check for shift+enter\n",
       "    if (event.shiftKey && event.which == 13) {\n",
       "        this.canvas_div.blur();\n",
       "        event.shiftKey = false;\n",
       "        // Send a \"J\" for go to next cell\n",
       "        event.which = 74;\n",
       "        event.keyCode = 74;\n",
       "        manager.command_mode();\n",
       "        manager.handle_keydown(event);\n",
       "    }\n",
       "}\n",
       "\n",
       "mpl.figure.prototype.handle_save = function(fig, msg) {\n",
       "    fig.ondownload(fig, null);\n",
       "}\n",
       "\n",
       "\n",
       "mpl.find_output_cell = function(html_output) {\n",
       "    // Return the cell and output element which can be found *uniquely* in the notebook.\n",
       "    // Note - this is a bit hacky, but it is done because the \"notebook_saving.Notebook\"\n",
       "    // IPython event is triggered only after the cells have been serialised, which for\n",
       "    // our purposes (turning an active figure into a static one), is too late.\n",
       "    var cells = IPython.notebook.get_cells();\n",
       "    var ncells = cells.length;\n",
       "    for (var i=0; i<ncells; i++) {\n",
       "        var cell = cells[i];\n",
       "        if (cell.cell_type === 'code'){\n",
       "            for (var j=0; j<cell.output_area.outputs.length; j++) {\n",
       "                var data = cell.output_area.outputs[j];\n",
       "                if (data.data) {\n",
       "                    // IPython >= 3 moved mimebundle to data attribute of output\n",
       "                    data = data.data;\n",
       "                }\n",
       "                if (data['text/html'] == html_output) {\n",
       "                    return [cell, data, j];\n",
       "                }\n",
       "            }\n",
       "        }\n",
       "    }\n",
       "}\n",
       "\n",
       "// Register the function which deals with the matplotlib target/channel.\n",
       "// The kernel may be null if the page has been refreshed.\n",
       "if (IPython.notebook.kernel != null) {\n",
       "    IPython.notebook.kernel.comm_manager.register_target('matplotlib', mpl.mpl_figure_comm);\n",
       "}\n"
      ],
      "text/plain": [
       "<IPython.core.display.Javascript object>"
      ]
     },
     "metadata": {},
     "output_type": "display_data"
    },
    {
     "data": {
      "text/html": [
       "<img src=\"data:image/png;base64,iVBORw0KGgoAAAANSUhEUgAACcQAAAPoCAYAAAD6bW8+AAAgAElEQVR4XuzdCfB31fwH8NvirwmVNCEqLRKS0mIJhURlSEQZS42skWyhbBUiQtMmo0mECEPZl7JmSUy2UppQCjWWQhT1n3Nnvs88pZ7n/E5n+97f6zvzjOl5zrmfc1+fa+bMnPfcu8KNN9544+BHgAABAgQIECBAgAABAgQIECBAgAABAgQIECBAgAABAgQIECBAgAABAgTmXGAFgbg576DlEyBAgAABAgQIECBAgAABAgQIECBAgAABAgQIECBAgAABAgQIECBAgMAoIBDnQSBAgAABAgQIECBAgAABAgQIECBAgAABAgQIECBAgAABAgQIECBAgACBSQgIxE2ijW6CAAECBAgQIECAAAECBAgQIECAAAECBAgQIECAAAECBAgQIECAAAECBATiPAMECBAgQIAAAQIECBAgQIAAAQIECBAgQIAAAQIECBAgQIAAAQIECBAgMAkBgbhJtNFNECBAgAABAgQIECBAgAABAgQIECBAgAABAgQIECBAgAABAgQIECBAgIBAnGeAAAECBAgQIECAAAECBAgQIECAAAECBAgQIECAAAECBAgQIECAAAECBCYhIBA3iTa6CQIECBAgQIAAAQIECBAgQIAAAQIECBAgQIAAAQIECBAgQIAAAQIECBAQiPMMECBAgAABAgQIECBAgAABAgQIECBAgAABAgQIECBAgAABAgQIECBAgMAkBATiJtFGN0GAAAECBAgQIECAAAECBAgQIECAAAECBAgQIECAAAECBAgQIECAAAECAnGeAQIECBAgQIAAAQIECBAgQIAAAQIECBAgQIAAAQIECBAgQIAAAQIECBCYhIBA3CTa6CYIECBAgAABAgQIECBAgAABAgQIECBAgAABAgQIECBAgAABAgQIECBAQCDOM0CAAAECBAgQIECAAAECBAgQIECAAAECBAgQIECAAAECBAgQIECAAAECkxAQiJtEG90EAQIECBAgQIAAAQIECBAgQIAAAQIECBAgQIAAAQIECBAgQIAAAQIECAjEeQYIECBAgAABAgQIECBAgAABAgQIECBAgAABAgQIECBAgAABAgQIECBAYBICAnGTaKObIECAAAECBAgQIECAAAECBAgQIECAAAECBAgQIECAAAECBAgQIECAAAGBOM8AAQIECBAgQIAAAQIECBAgQIAAAQIECBAgQIAAAQIECBAgQIAAAQIECExCQCBuEm10EwQIECBAgAABAgQIECBAgAABAgQIECBAgAABAgQIECBAgAABAgQIECAgEOcZIECAAAECBAgQIECAAAECBAgQIECAAAECBAgQIECAAAECBAgQIECAAIFJCAjETaKNboIAAQIECBAgQIAAAQIECBAgQIAAAQIECBAgQIAAAQIECBAgQIAAAQIEBOI8AwQIECBAgAABAgQIECBAgAABAgQIECBAgAABAgQIECBAgAABAgQIECAwCQGBuEm00U0QIECAAAECBAgQIECAAAECBAgQIECAAAECBAgQIECAAAECBAgQIECAgECcZ4AAAQIECBAgQIAAAQIECBAgQIAAAQIECBAgQIAAAQIECBAgQIAAAQIEJiEgEDeJNroJAgQIECBAgAABAgQIECBAgAABAgQIECBAgAABAgQIECBAgAABAgQIEBCI8wwQIECAAAECBAgQIECAAAECBAgQIECAAAECBAgQIECAAAECBAgQIECAwCQEBOIm0UY3QYAAAQIECBAgQIAAAQIECBAgQIAAAQIECBAgQIAAAQIECBAgQIAAAQICcZ4BAgQIECBAgAABAgQIECBAgAABAgQIECBAgAABAgQIECBAgAABAgQIEJiEgEDcJNroJggQIECAAAECBAgQIECAAAECBAgQIECAAAECBAgQIECAAAECBAgQIEBAIM4zQIAAAQIECBAgQIAAAQIECBAgQIAAAQIECBAgQIAAAQIECBAgQIAAAQKTEBCIm0Qb3QQBAgQIECBAgAABAgQIECBAgAABAgQIECBAgAABAgQIECBAgAABAgQICMR5BggQIECAAAECBAgQIECAAAECBAgQIECAAAECBAgQIECAAAECBAgQIEBgEgICcZNoo5sgQIAAAQIECBAgQIAAAQIECBAgQIAAAQIECBAgQIAAAQIECBAgQIAAAYE4zwABAgQIECBAgAABAgQIECBAgAABAgQIECBAgAABAgQIECBAgAABAgQITEJAIG4SbXQTBAgQIECAAAECBAgQIECAAAECBAgQIECAAAECBAgQIECAAAECBAgQICAQ5xkgQIAAAQIECBAgQIAAAQIECBAgQIAAAQIECBAgQIAAAQIECBAgQIAAgUkICMRNoo1uggABAgQIECBAgAABAgQIECBAgAABAgQIECBAgAABAgQIECBAgAABAgQE4jwDBAgQIECAAAECBAgQIECAAAECBAgQIECAAAECBAgQIECAAAECBAgQIDAJAYG4SbTRTRAgQIAAAQIECBAgQIAAAQIECBAgQIAAAQIECBAgQIAAAQIECBAgQICAQJxngAABAgQIECBAgAABAgQIECBAgAABAgQIECBAgAABAgQIECBAgAABAgQmISAQN4k2ugkCBAgQIECAAAECBAgQIECAAAECBAgQIECAAAECBAgQIECAAAECBAgQEIjzDBAgQIAAAQIECBAgQIAAAQIECBAgQIAAAQIECBAgQIAAAQIECBAgQIDAJAQE4ibRRjdBgAABAgQIECBAgAABAgQIECBAgAABAgQIECBAgAABAgQIECBAgAABAgJxngECBAgQIECAAAECBAgQIECAAAECBAgQIECAAAECBAgQIECAAAECBAgQmISAQNwk2ugmCBAgQIAAAQIECBAgQIAAAQIECBAgQIAAAQIECBAgQIAAAQIECBAgQEAgzjNAgAABAgQIECBAgAABAgQIECBAgAABAgQIECBAgAABAgQIECBAgAABApMQEIibRBvdBAECBAgQIECAAAECBAgQIECAAAECBAgQIECAAAECBAgQIECAAAECBAgIxHkGCBAgQIAAAQIECBAgQIAAAQIECBAgQIAAAQIECBAgQIAAAQIECBAgQGASAgJxk2ijmyBAgAABAgQIECBAgAABAgQIECBAgAABAgQIECBAgAABAgQIECBAgAABgTjPAAECBAgQIECAAAECBAgQIECAAAECBAgQIECAAAECBAgQIECAAAECBAhMQkAgbhJtdBMECBAgQIAAAQIECBAgQIAAAQIECBAgQIAAAQIECBAgQIAAAQIECBAgIBDnGSBAgAABAgQIECBAgAABAgQIECBAgAABAgQIECBAgAABAgQIECBAgACBSQgIxE2ijW6CAAECBAgQIECAAAECBAgQIECAAAECBAgQIECAAAECBAgQIECAAAECBATiPAMECBAgQIAAAQIECBAgQIAAAQIECBAgQIAAAQIECBAgQIAAAQIECBAgMAkBgbhJtNFNECBAgAABAgQIECBAgAABAgQIECBAgAABAgQIECBAgAABAgQIECBAgIBAnGeAAAECBAgQIECAAAECBAgQIECAAAECBAgQIECAAAECBAgQIECAAAECBCYhIBA3iTa6CQIECBAgQIAAAQIECBAgQIAAAQIECBAgQIAAAQIECBAgQIAAAQIECBAQiPMMECBAgAABAgQIECBAgAABAgQIECBAgAABAgQIECBAgAABAgQIECBAgMAkBATiJtFGN0GAAAECBAgQIECAAAECBAgQIECAAAECBAgQIECAAAECBAgQIECAAAECAnGeAQIECBAgQIAAAQIECBAgQIAAAQIECBAgQIAAAQIECBAgQIAAAQIECBCYhIBA3CTa6CYIECBAgAABAgQIECBAgAABAgQIECBAgAABAgQIECBAgAABAgQIECBAQCDOM0CAAAECBAgQIECAAAECBAgQIECAAAECBAgQIECAAAECBAgQIECAAAECkxAQiJtEG90EAQIECBAgQIAAAQIECBAgQIAAAQIECBAgQIAAAQIECBAgQIAAAQIECAjEeQYIECBAgAABAgQIECBAgAABAgQIECBAgAABAgQIECBAgAABAgQIECBAYBICAnGTaKObIECAAAECBAgQIECAAAECBAgQIECAAAECBAgQIECAAAECBAgQIECAAAGBOM8AAQIECBAgQIAAAQIECBAgQIAAAQIECBAgQIAAAQIECBAgQIAAAQIECExCQCBuEm10EwQIECBAgAABAgQIECBAgAABAgQIECBAgAABAgQIECBAgAABAgQIECAgEOcZIECAAAECBAgQIECAAAECBAgQIECAAAECBAgQIECAAAECBAgQIECAAIFJCAjETaKNboIAAQIECBAgQIAAAQIECBAgQIAAAQIECBAgQIAAAQIECBAgQIAAAQIEBOI8AwQIECBAgAABAgQIECBAgAABAgQIECBAgAABAgQIECBAgAABAgQIECAwCQGBuEm00U0QIECAAAECBAgQIECAAAECBAgQIECAAAECBAgQIECAAAECBAgQIECAgECcZ4AAAQIECBAgQIAAAQIECBAgQIAAAQIECBAgQIAAAQIECBAgQIAAAQIEJiEgEDeJNroJAgQIECBAgAABAgQIECBAgAABAgQIECBAgAABAgQIECBAgAABAgQIEBCI8wwQIECAAAECBAgQIECAAAECBAgQIECAAAECBAgQIECAAAECBAgQIECAwCQEBOIm0UY3QYAAAQIECBAgQIAAAQIECBAgQIAAAQIECBAgQIAAAQIECBAgQIAAAQICcZ4BAgQIECBAgAABAgQIECBAgAABAgQIECBAgAABAgQIECBAgAABAgQIEJiEgEDcJNroJggQIECAAAECBAgQIECAAAECBAgQIECAAAECBAgQIECAAAECBAgQIEBAIM4zQIAAAQIECBAgQIAAAQIECBAgQIAAAQIECBAgQIAAAQIECBAgQIAAAQKTEBCIm0Qb3QQBAgQIECBAgAABAgQIECBAgAABAgQIECBAgAABAgQIECBAgAABAgQICMR5BggQIECAAAECBAgQIECAAAECBAgQIECAAAECBAgQIECAAAECBAgQIEBgEgICcZNoo5sgQIAAAQIECBAgQIAAAQIECBAgQIAAAQIECBAgQIAAAQIECBAgQIAAAYE4zwABAgQIECBAgAABAgQIECBAgAABAgQIECBAgAABAgQIECBAgAABAgQITEJAIG4SbXQTBAgQIECAAAECBAgQIECAAAECBAgQIECAAAECBAgQIECAAAECBAgQICAQ5xkgQIAAAQIECBAgQIAAAQIECBAgQIAAAQIECBAgQIAAAQIECBAgQIAAgUkICMRNoo1uggABAgQIECBAgAABAgQIECBAgAABAgQIECBAgAABAgQIECBAgAABAgQE4jwDBAgQIECAAAECBAgQIECAAAECBAgQIECAAAECBAgQIECAAAECBAgQIDAJAYG4SbTRTRAgQIAAAQIECBAgQIAAAQIECBAgQIAAAQIECBAgQIAAAQIECBAgQICAQJxngAABAgQIECBAgAABAgQIECBAgAABAgQIECBAgAABAgQIECBAgAABAgQmISAQN4k2ugkCBAgQIECAAAECBAgQIECAAAECBAgQIECAAAECBAgQIECAAAECBAgQEIjzDBAgQIAAAQIECBAgQIAAAQIECBAgQIAAAQIECBAgQIAAAQIECBAgQIDAJAQE4ibRRjdBgAABAgQIECBAgAABAgQIECBAgAABAgQIECBAgAABAgQIECBAgAABAgJxngECBAgQIECAAAECBAgQIECAAAECBAgQIECAAAECBAgQIECAAAECBAgQmISAQNwk2ugmCBAgQIAAAQIECBAgQIAAAQIECBAgQIAAAQIECBAgQIAAAQIECBAgQEAgzjNAgAABAgQIECBAgAABAgQIECBAgAABAgQIECBAgAABAgQIECBAgAABApMQEIibRBvdBAECBAgQIECAAAECBAgQIECAAAECBAgQIECAAAECBAgQIECAAAECBAgIxHkGCBAgQIAAAQIECBAgQIAAAQIECBAgQIAAAQIECBAgQIAAAQIECBAgQGASAgJxk2ijmyBAgAABAgQIECBAgAABAgQIECBAgAABAgQIECBAgAABAgQIECBAgAABgTjPAAECBAgQIECAAAECBAgQIECAAAECBAgQIECAAAECBAgQIECAAAECBAhMQkAgbhJtdBMECBAgQIAAAQIECBAgQIAAAQIECBAgQIAAAQIECBAgQIAAAQIECBAgIBDnGSBAgAABAgQIECBAgAABAgQIECBAgAABAgQIECBAgAABAgQIECBAgACBSQgIxE2ijW6CAAECBAgQIECAAAECBAgQIECAAAECBAgQIECAAAECBAgQIECAAAECBATiPAMECBAgQIAAAQIECBAgQIAAAQLdCHzwgx8c9tlnn1tczytf+crhXe96V5G1nn322cNXvvKV4YADDhjWWGONIjVuy0Xvda97DZttttnwuc997rZcptncyy+/fHj/+98/7LbbbsMWW2zRbB0KEyBAgAABAgQIECBAgAABAgQITF9AIG76PXaHBAgQIECAAAECBAgQIECAAIG5EZgF4k466aRh0003vcm611lnnWG99dYrci8haPfqV796uOSSS4YQPuvtN++BuB/96EfDNttsM4S+7r333r3xWg8BAgQIECBAgAABAgQIECBAgMCEBATiJtRMt0KAAAECBAgQIECAAAECBAgQmHeBWSDunHPOGbbeeutqt1MqEHfttdcOq6yyyrDCCivcpnuZ10Dcf//73+E///nP8LOf/Uwg7jY9ASYTIECAAAECBAgQIECAAAECBAjECgjExUoZR4AAAQIECBAgQIAAAQIECBAgUFwgNhB34403Dscff/z4Gc5f/epXY+jsMY95zHDEEUcMG2644ZJ1fvWrXx2OOeaY4dxzzx2uuuqq4Z73vOc47q1vfeuw1lprjePe/OY3D4cccsj/3NtZZ5017LDDDmOY7U1vetM4bulfCKmFfw9rDr/Z2r/85S8Pp5566nDGGWeMNWehuIsuumi8zte+9rXhb3/727jOl7zkJcN+++23XNebB+J+85vfDBtssMF4vzfccMNo8cc//nF48IMfPJqEf3vDG94wfOhDHxr+8Y9/DI9+9KOHE044YVh77bWX1Jpd87nPfe64rgsvvHAIb+ELn43df//9b7Km3/3ud8NBBx00flZ2tvZ99913ePnLXz6suOKK49jZmt7xjncM11133XDiiScOl1566fiZ15133vl/7nFmGt4eFwKJ3//+98d7uOtd7zo89KEPHd7+9rcP66+//pJ5M98zzzxz+MQnPjGcdtppQ3gOtt9++7HHYe1L/z760Y8ORx999BjGC7+NN954eOlLXzqE+539Qi8OP/zwIQQwQ3Bvyy23HA499NDxGZn9rrzyyuHggw8evvjFLw5/+tOfhtVWW23YZJNNxmdmxx13XG7vDCBAgAABAgQIECBAgAABAgQIEKgrIBBX11s1AgQIECBAgAABAgQIECBAgACBZQjMQk8hHLXVVlvdZOTKK6+85L+f//znjwG0ENx67GMfO/z5z38eg0x/+ctfhvPOO28MVYXf+973vuGvf/3rcP/7339YffXVx9DWu9/97uFf//rXGJS63e1uN1x22WVjsCyEpz796U8Pd7/73ce597vf/cbw00IDcfe4xz2GXXfddXjyk588htF22223MbT3sIc9bPzka/g0693udrchBOfe8573DG984xvHQNqyfrcWiAuBsc0333x4wQteMN7nK1/5yvE+QzAu3Nsee+wx/Pa3vx1e9apXDY961KOG008/fUmZcM0QAltppZXGsF9Y00c+8pHxzzvf+c5xTviFQFgIioWQ22GHHTZ+UjaE3EII7UUvetFw3HHHjeNmgbhw/yEwFoJ+wS/04sc//vGwzz77DK9//etHm/AL4cTw55Of/OTYi1BjzTXXHK644oox4PfLX/5y/DMLLs6ejRAkDNd4whOeMAbugucWW2wxhKDc7BdMw1p33333Ya+99hpNfv7zn4/PR3hOwu+UU04Znv3sZw9PetKTxv8NXiE0GIJvoTezUNzjH//4cf0hRBnuKziH/w7Px9Of/nT/fyZAgAABAgQIECBAgAABAgQIEOhMQCCus4ZYDgECBAgQIECAAAECBAgQIEBgMQvMQk+3ZHD99dcPIRQXwnLhDWJHHnnk8IpXvGLJ0BBsC4Gl8Baw8Jaym//C28TCJzwvv/zy8c1jn/3sZ4cnPvGJ47BlfTJ1oYG4EK46+eSTb1I+hKp+8YtfjH9CSGz2C2v9wAc+MK7pzne+8622/tYCcQ984APHcNbsLW1HHXXU+Ia3cF/h/ma/8Ca39773vePb3Wb1wzXDm99+8pOfDOE6s99OO+00/OAHPxiDaauuuurwute9bnxbW/i7bbfddsm4F7/4xWPg8IILLhjdZ4G4jTbaaDj//PPHgNnsF94Ct8022wwnnXTSsPfeey/zEQ89CoHFEKR729vetuRtdbNnI9Q99thjl1wjhPcOPPDAcb0h1HfJJZcM9773vYc999xzDL3d0u+f//znsO666w7bbbfdTUKC4W17D3rQg4bb3/724/2G353udKchvA0vhBf9CBAgQIAAAQIECBAgQIAAAQIE+hcQiOu/R1ZIgAABAgQIECBAgAABAgQIEFg0ArPQU/jU533ve9+b3PfWW289/nd4y1gISv3hD38Y3yi29O8Rj3jE+AnRWZgpfOIyvC3s85///Bg6C/82+4WQ12te85rxP3MG4pYO2oVrh3BXCFWFt6mFt9Mt/QufdN1ll12GL3zhC7f4WdHZ2FsLxIWwWrCY/cInTR/3uMeNbzoLb9Gb/cJnVMNb5MKb2DbbbLPxr8M1w7pmnxSdjZ314Nvf/vbw8Ic/fHzb3N///vcxzLf074c//OH4b+Ftbi984QuXBOJC+O7m97msQFy4dnib26c+9anxGiEQN/uF64brh99sXV/60pfGe5z9wtvcQuAwBCVnn4wN93r22WePwclb+oVPpYY3C4a304U3xC39C89XeGPgNddcM9zhDncY3xQXQofh7XvhE6nhzYVLh/1usYC/JECAAAECBAgQIECAAAECBAgQaCYgENeMXmECBAgQIECAAAECBAgQIECAAIGbC8xCT+ecc84wC8DdfMzznve88a1qt/YLn9S8+OKLx/BbeNtXCMK94Q1vGB7wgAeMAafw9w95yEPGz5SGT4WGX85AXAiKhbehzX6///3vx0+DLusXAoDPetazbnXIrQXilv60aZj8jW98Y/w06mmnnTY89alPXXK9W3IN1wxvUguhvKV/IXC28847D5/5zGfGsNjGG288hudCiGzpX3gjX3jL2lve8pbh4IMPXhKIC2Gy8BnTpX/LCsSFt9l9/etfH3sU3GafqQ1BwfAnrD38bu3ZmN3zWWedNeywww7jp01DqC28/S6s75Z+4bOwz3zmM5fZk9n8q666arzH4BE+P3vHO95x/BxuuM/wRjo/AgQIECBAgAABAgQIECBAgACBvgQE4vrqh9UQIECAAAECBAgQIECAAAECBBa1QEwgLrwVLXwSNbzBLHza8ua/8Hch/PbTn/50/BRouOZznvOcJcN+/etfj0Gw2EDcKqusMoS3nh1++OE3KRXervaUpzxluYGt8HnOEPIKgbf99tvvFvu7wQYbDHe5y11utfelAnE53hAXPpsa3sg2+2TqzUN64aZuLRAXPuEaPhUbehH+zH7//ve/x/BiCK0tNBA3exvest4QN3ur3NFHHz2GI2/pt/nmmw//93//d5N/CiG5008/fXjta187vj0vhAf9CBAgQIAAAQIECBAgQIAAAQIE+hIQiOurH1ZDgAABAgQIECBAgAABAgQIEFjUAjGBuO9+97tjGOnjH//48LSnPe1WvcKnQEOo6WMf+9iw5557LhkX3l4W3gi3dCAuBKP233//4Ze//OX/fKp10003HTbaaKPxs6uz35lnnjl+SjME7ZYX2Apzwuc5r7zyyiG8Pe7mIauYhpcKxIWA109+8pMxODj77bTTTuPnR8MnaVddddXhoIMOGsOA55577vjGvdnvJS95yXDccccNF1xwwbDJJpssMxA360UYHz4dO/tdffXVw+qrrz5eP4TMZr9jjz12CNeP8b35G+JCMC+81e4Zz3jGEN68d0u/8JnW8Pa4vfbaa7yHhf7CG+LCcxg+yetHgAABAgQIECBAgAABAgQIECDQl4BAXF/9sBoCBAgQIECAAAECBAgQIECAwKIWiAnEBaDwRrJTTjllfOPaIx/5yPFtYldcccXwne98Z3w7XAhdXX/99WO47T//+c8YuFpzzTWHM844Y/xE6IUXXniTQNwsVBWuG0JYt7vd7Yb73Oc+Q3iDWvgEZ/icZ/gM5/bbbz+G5o455pjhj3/847DbbrtFBeLCnBDiC2+mC2sLAbdrrrlmCG+rC2sKAbtl/UoF4oLNSiutNH469u53v/toGj4nGt7Ad+CBB45LCkG+Lbfccvjvf/87HHroocP6668/hgNDiDDcSwivhd+y3hAX3pK31lprjYG68PnR8NnRddZZZ/wTTH/+85+PNcN9fvOb3xxOPPHE4dprrx0/2bq8wOHNA3FhLW984xuHww47bPxsbAi9hdBd6EH4/Okhhxwyrjfca+j1HnvsMY5be+21x3s977zzxv89/vjjh/AGu/AJ2hCuC8HI8DyEz/mG52H33XcfrfwIECBAgAABAgQIECBAgAABAgT6EhCI66sfVkOAAAECBAgQIECAAAECBAgQWNQCsYG4gHTSSScNJ5xwwhimuuGGG8Zw1XbbbTe+6W2rrbYaHc8///zhZS972fjGs5VXXnnYcccdhyOPPHJYb731bhKIC2PDm9BOPvnk8ehKQAwAACAASURBVM1o4XpnnXXWsMMOOwzXXXfdGIAKb5oLgaptt912OOqoo8awVvj35QW2Zg0NgbEQ0gqf6wxvFltjjTXGgNwuu+wyHHzwwcvse6lA3GabbTbss88+o8VFF100Gga/8InYpX/hTXLhU7Vh7eGtbhtuuOGw7777Dq94xSuGFVdccRy6rEBc+PdTTz11DKNdfPHFY1hx9oa+3//+92OPQigwBPRCD8Mb/Hbdddco31sKxIV6H/7wh8fQXng7Xeh9sA73tvfeey+5tW9961vDEUccMXzve98bA4ohFLfFFluMY0JILny69YADDhjC51fD/YV1h2cnvHEwBAbDG/T8CBAgQIAAAQIECBAgQIAAAQIE+hIQiOurH1ZDgAABAgQIECBAgAABAgQIECBAoIrAzUN2VYoqQoAAAQIECBAgQIAAAQIECBAgQKCwgEBcYWCXJ0CAAAECBAgQIECAAAECBAgQINCjgEBcj12xJgIECBAgQIAAAQIECBAgQIAAgdsqIBB3WwXNJ0CAAAECBAgQIECAAAECBAgQIDCHAgJxc9g0SyZAgAABAgQIECBAgAABAgQIEFiugEDccokMIECAAAECBAgQIECAAAECBAgQIECAAAECBAgQIECAAAECBAgQIECAAIF5EBCIm4cuWSMBAgQIECBAgAABAgQIECBAgAABAgQIECBAgAABAgQIECBAgAABAgQILFdAIG65RAYQIECAAAECBAgQIECAAAECBAgQIECAAAECBAgQIECAAAECBAgQIECAwDwICMTNQ5eskQABAgQIECBAgAABAgQIECBAgAABAgQIECBAgAABAgQIECBAgAABAgSWKyAQt1wiAwgQmFeBG264Ybj88suHO93pTsMKK6wwr7dh3QQIECBAgAABAgQIECBAgAABAgQIECBAgAABAgQIECCQQeDGG28crrnmmmGdddYZVlxxxQxXdAkCBHoUEIjrsSvWRIBAFoHLLrtsWHfddbNcy0UIECBAgAABAgQIECBAgAABAgQIECBAgAABAgQIECBAYBoCl1566XDPe95zGjfjLggQ+B8BgTgPBQECkxX429/+NqyxxhpD2Mysttpqk71PN0aAAAECBAgQIECAAAECBAgQIECAAAECBAgQIECAAAECyxe4+uqrx5eq/PWvfx1WX3315U8wggCBuRQQiJvLtlk0AQIxAmEzEzYxIRgnEBcjZgwBAgQIECBAgAABAgQIECBAgAABAgQIECBAgAABAgSmK+AMebq9dWcElhYQiPM8ECAwWQGbmcm21o0RIECAAAECBAgQIECAAAECBAgQIECAAAECBAgQIEBgwQLOkBdMZgKBuRQQiJvLtlk0AQIxAjYzMUrGECBAgAABAgQIECBAgAABAgQIECBAgAABAgQIECBAYHEIOENeHH12lwQE4jwDBAhMVsBmZrKtdWMECBAgQIAAAQIECBAgQIAAAQIECBAgQIAAAQIECBBYsIAz5AWTmUBgLgUE4uaybRZNgECMgM1MjJIxBAgQIECAAAECBAgQIECAAAECBAgQIECAAAECBAgQWBwCzpAXR5/dJQGBOM8AAQKTFbCZmWxr3RgBAgQIECBAgAABAgQIECBAgAABAgQIECBAgAABAgQWLOAMecFkJhCYSwGBuLlsm0UTIBAjYDMTo2QMAQIECBAgQIAAAQIECBAgQIAAAQIECBAgQIAAAQIEFoeAM+TF0Wd3SUAgzjNAgMBkBWxmJttaN0aAAAECBAgQIECAAAECBAgQIECAAAECBAgQIECAAIEFCzhDXjCZCQTmUkAgbi7bZtEECMQI2MzEKBlDgAABAgQIECBAgAABAgQIECBAgAABAgQIECBAgACBxSHgDHlx9NldEhCI8wwQIDBZAZuZybbWjREgQIAAAQIECBAgQIAAAQIECBAgQIAAAQIECBAgQGDBAs6QF0xmAoG5FBCIm8u2WTQBAjECNjMxSsYQIECAAAECBAgQIECAAAECBAgQIECAAAECBAgQIEBgcQg4Q14cfXaXBATiPAMECExWwGZmsq11YwQIECBAgAABAgQIECBAgAABAgQIECBAgAABAgQIEFiwgDPkBZOZQGAuBQTi5rJtFk2AQIyAzUyMkjEECBAgQIAAAQIECBAgQIAAAQIECBAgQIAAAQIECBBYHALOkBdHn90lAYE4zwABApMVsJmZbGvdGAECBAgQIECAAAECBAgQIECAAAECBAgQIECAAAECBBYs4Ax5wWQmEJhLAYG4uWybRRMgECNgMxOjZAwBAgQIECBAgAABAgQIECBAgAABAgQIECBAgAABAgQWh4Az5MXRZ3dJQCDOM0CAwGQFbGYm21o3RoAAAQIECBAgQIAAAQIECBAgQIAAAQIECBAgQIAAgQULOENeMJkJBOZSQCBuLttm0QQIxAjYzMQoGUOAAAECBAgQIECAAAECBAgQIECAAAECBAgQIECAAIHFIeAMeXH02V0SEIjzDBAgMFkBm5nJttaNESBAgAABAgQIECBAgAABAgQIECBAgAABAgQIECBAYMECzpAXTGYCgbkUEIiby7ZZNAECMQI2MzFKxhAgQIAAAQIECBAgQIAAAQIECBAgQIAAAQIECBAgQGBxCDhDXhx9dpcEBOI8AwQITFbAZmayrXVjBAgQIECAAAECBAgQIECAAAECBAgQIECAAAECBAgQWLCAM+QFk5lAYC4FBOLmsm0WTYBAjIDNTIySMQQIECBAgAABAgQIECBAgAABAgQIECBAgAABAgQIEFgcAs6QF0ef3SUBgTjPAAECkxWwmZlsa90YAQIECBAgQIAAAQIECBAgQIAAAQIECBAgQIAAAQIEFizgDHnBZCYQmEsBgbi5bJtFEyAQI2AzE6NkDAECBAgQIECAAAECBAgQIECAAAECBAgQIECAAAECBBaHgDPkxdFnd0lAIM4zQIDAZAVsZibbWjdGgAABAgQIECBAgAABAgQIECBAgAABAgQIECBAgACBBQs4Q14wmQkE5lJAIG4u22bRBAjECNjMxCgZQ4AAAQIECBAgQIAAAQIECBAgQIAAAQIECBAgQIAAgcUh4Ax5cfTZXRIQiPMMECAwWQGbmcm21o0RIECAAAECBAgQIECAAAECBAgQIECAAAECBAgQIEBgwQLOkBdMZgKBuRQQiJvLtlk0AQIxAjYzMUrGECBAgAABAgQIECBAgAABAgQIECBAgAABAgQIECBAYHEIOENeHH12lwQE4jwDBAhMVsBmZrKtdWMECBAgQIAAAQIECBAgQIAAAQIECBAgQIAAAQIECBBYsIAz5AWTmUBgLgUE4uaybRZNgECMgM1MjJIxBAgQIECAAAECBAgQIECAAAECBAgQIECAAAECBAgQWBwCzpAXR5/dJQGBOM8AAQKTFbCZmWxr3RgBAgQIECBAgAABAgQIECBAgAABAgQIECBAgAABAgQWLOAMecFkJhCYSwGBuLlsm0UTIBAjYDMTo2QMAQIECBAgQIAAAQIECBAgQIAAAQIECBAgQIAAAQIEFoeAM+TF0Wd3SUAgzjNAgMBkBWxmJttaN0aAAAECBAgQIECAAAECBAgQIECAAAECBAgQIECAAIEFCzhDXjCZCQTmUkAgbi7bZtEECMQI2MzEKBlDgAABAgQIECBAgAABAgQIECBAgAABAgQIECBAgACBxSHgDHlx9NldEhCI8wwQIDBZAZuZ8q2912s/X77Ibazwm7fvehuvYDoBAgQIECBAgAABAgQIECBAgAABAgQIECBAgAABAlMQcIY8hS66BwLLFxCIW76REQQIzKmAzUz5xgnElTdWgQABAgQIECBAgAABAgQIECBAgAABAgQIECBAgACBPALOkPM4ugqB3gUE4nrvkPURIJAsYDOTTBc9USAumspAAgQIECBAgAABAgQIECBAgAABAgQIECBAgAABAgQaCzhDbtwA5QlUEhCIqwStDAEC9QVsZsqbC8SVN1aBAAECBAgQIECAAAECBAgQIECAAAECBAgQIECAAIE8As6Q8zi6CoHeBQTieu+Q9REgkCxgM5NMFz1RIC6aykACBAgQIECAAAECBAgQIECAAAECBAgQIECAAAECBBoLOENu3ADlCVQSEIirBK0MAQL1BWxmypsLxJU3VoEAAQIECBAgQIAAAQIECBAgQIAAAQIECBAgQIAAgTwCzpDzOLoKgd4FBOJ675D1ESCQLGAzk0wXPVEgLprKQAIECBAgQIAAAQIECBAgQIAAAQIECBAgQIAAAQIEGgs4Q27cAOUJVBIQiKsErQwBAvUFbGbKmwvElTdWgQABAgQIECBAgAABAgQIECBAgAABAgQIECBAgACBPALOkPM4ugqB3gUE4nrvkPURIJAsYDOTTBc9USAumspAAgQIECBAgAABAgQIECBAgAABAgQIECBAgAABAgQaCzhDbtwA5QlUEhCIqwStDAEC9QVsZsqbC8SVN1aBAAECBAgQIECAAAECBAgQIECAAAECBAgQIECAAIE8As6Q8zi6CoHeBQTieu+Q9REgkCxgM5NMFz1RIC6aykACBAgQIECAAAECBAgQIECAAAECBAgQIECAAAECBBoLOENu3ADlCVQSEIirBK0MAQL1BWxmypsLxJU3VoEAAQIECBAgQIAAAQIECBAgQIAAAQIECBAgQIAAgTwCzpDzOLoKgd4FBOJ675D1ESCQLGAzk0wXPVEgLprKQAIECBAgQIAAAQIECBAgQIAAAQIECBAgQIAAAQIEGgs4Q27cAOUJVBIQiKsErQwBAvUFbGbKmwvElTdWgQABAgQIECBAgAABAgQIECBAgAABAgQIECBAgACBPALOkPM4ugqB3gUE4nrvkPURIJAsYDOTTBc9USAumspAAgQIECBAgAABAgQIECBAgAABAgQIECBAgAABAgQaCzhDbtwA5QlUEhCIqwStDAEC9QVsZsqbC8SVN1aBAAECBAgQIECAAAECBAgQIECAAAECBAgQIECAAIE8As6Q8zi6CoHeBQTieu+Q9REgkCxgM5NMFz1RIC6aykACBAgQIECAAAECBAgQIECAAAECBAgQIECAAAECBBoLOENu3ADlCVQSEIirBK0MAQL1BWxmypsLxJU3VoEAAQIECBAgQIAAAQIECBAgQIAAAQIECBAgQIAAgTwCzpDzOLoKgd4FBOJ675D1ESCQLGAzk0wXPVEgLprKQAIECBAgQIAAAQIECBAgQIAAAQIECBAgQIAAAQIEGgs4Q27cAOUJVBIQiKsErQwBAvUFbGbKmwvElTdWgQABAgQIECBAgAABAgQIECBAgAABAgQIECBAgACBPALOkPM4ugqB3gUE4nrvkPURIJAsYDOTTBc9USAumspAAgQIECBAgAABAgQIECBAgAABAgQIECBAgAABAgQaCzhDbtwA5QlUEhCIqwStDAEC9QVsZsqbC8SVN1aBAAECBAgQIECAAAECBAgQIECAAAECBAgQIECAAIE8As6Q8zi6CoHeBQTieu+Q9REgkCxgM5NMFz1RIC6aykACBAgQIECAAAECBAgQIECAAAECBAgQIECAAAECBBoLOENu3ADlCVQSEIirBK0MAQL1BWxmypsLxJU3VoEAAQIECBAgQIAAAQIECBAgQIAAAQIECBAgQIAAgTwCzpDzOLoKgd4FBOJ675D1ESCQLGAzk0wXPVEgLprKQAIECBAgQIAAAQIECBAgQIAAAQIECBAgQIAAAQIEGgs4Q27cAOUJVBIQiKsErQwBAvUFbGbKmwvElTdWgQABAgQIECBAgAABAgQIECBAgAABAgQIECBAgACBPALOkPM4ugqB3gUE4nrvkPURIJAsYDOTTBc9USAumspAAgQIECBAgAABAgQIECBAgAABAgQIECBAgAABAgQaCzhDbtwA5QlUEhCIqwStDAEC9QVsZsqbC8SVN1aBAAECBAgQIECAAAECBAgQIECAAAECBAgQIECAAIE8As6Q8zi6CoHeBQTieu+Q9REgkCxgM5NMFz1RIC6aykACBAgQIECAAAECBAgQIECAAAECBAgQIECAAAECBBoLOENu3ADlCVQSEIirBK0MAQL1BWxmypsLxJU3VoEAAQIECBAgQIAAAQIECBAgQIAAAQIECBAgQIAAgTwCzpDzOLoKgd4FBOJ675D1ESCQLGAzk0wXPVEgLprKQAIECBAgQIAAAQIECBAgQIAAAQIECBAgQIAAAQIEGgs4Q27cAOUJVBIQiKsErQwBAvUFbGbKmwvElTdWgQABAgQIECBAgAABAgQIECBAgAABAgQIECBAgACBPALOkPM4ugqB3gUE4nrvkPURIJAsYDOTTBc9USAumspAAgQIECBAgAABAgQIECBAgAABAgQIECBAgAABAgQaCzhDbtwA5QlUEhCIqwStDAEC9QVsZsqbC8SVN1aBAAECBAgQIECAAAECBAgQIECAAAECBAgQIECAAIE8As6Q8zi6CoHeBQTieu+Q9REgkCxgM5NMFz1RIC6aykACBAgQIECAAAECBAgQIECAAAECBAgQIECAAAECBBoLOENu3ADlCVQSEIirBK0MAQL1BWxmypsLxJU3VoEAAQIECBAgQIAAAQIECBAgQIAAAQIECBAgQIAAgTwCzpDzOLoKgd4FBOJ675D1ESCQLGAzk0wXPVEgLprKQAIECBAgQIAAAQIECBAgQIAAAQIECBAgQIAAAQIEGgs4Q27cAOUJVBIQiKsErQwBAvUFbGbKmwvElTdWgQABAgQIECBAgAABAgQIECBAgAABAgQIECBAgACBPALOkPM4ugqB3gUE4nrvkPURIJAsYDOTTBc9USAumspAAgQIECBAgAABAgQIECBAgAABAgQIECBAgAABAgQaCzhDbtwA5QlUEhCIqwStDAEC9QVsZsqbC8SVN1aBAAECBAgQIECAAAECBAgQIECAAAECBAgQIECAAIE8As6Q8zi6CoHeBQTieu+Q9REgkCxgM5NMFz1RIC6aykACBAgQIECAAAECBAgQIECAAAECBAgQIECAAAECBBoLOENu3ADlCVQSEIirBK0MAQL1BWxmypsLxJU3VoEAAQIECBAgQIAAAQIECBAgQIAAAQIECBAgQIAAgTwCzpDzOLoKgd4FBOJ675D1ESCQLGAzk0wXPVEgLprKQAIECBAgQIAAAQIECBAgQIAAAQIECBAgQIAAAQIEGgs4Q27cAOUJVBIQiKsErQwBAvUFbGbKmwvElTdWgQABAgQIECBAgAABAgQIECBAgAABAgQIECBAgACBPALOkPM4ugqB3gUE4nrvkPURIJAsYDOTTBc9USAumspAAgQIECBAgAABAgQIECBAgAABAgQIECBAgAABAgQaCzhDbtwA5QlUEhCIqwStDAEC9QVsZsqbC8SVN1aBAAECBAgQIECAAAECBAgQIECAAAECBAgQIECAAIE8As6Q8zi6CoHeBQTieu+Q9REgkCxgM5NMFz1RIC6aykACBAgQIECAAAECBAgQIECAAAECBAgQIECAAAECBBoLOENu3ADlCVQSEIirBK0MAQL1BWxmypsLxJU3VoEAAQIECBAgQIAAAQIECBAgQIAAAQIECBAgQIAAgTwCzpDzOLoKgd4FBOJ675D1ESCQLGAzk0wXPVEgLprKQAIECBAgQIAAAQIECBAgQIAAAQIECBAgQIAAAQIEGgs4Q27cAOUJVBIQiKsErQwBAvUFbGbKmwvElTdWgQABAgQIECBAgAABAgQIECBAgAABAgQIECBAgACBPALOkPM4ugqB3gUE4nrvkPURIJAsYDOTTBc9USAumspAAgQIECBAgAABAgQIECBAgAABAgQIECBAgAABAgQaCzhDbtwA5QlUEhCIqwStDAEC9QVsZsqbC8SVN1aBAAECBAgQIECAAAECBAgQIECAAAECBAgQIECAAIE8As6Q8zi6CoHeBQTieu+Q9REgkCxgM5NMFz1RIC6aykACBAgQIECAAAECBAgQIECAAAECBAgQIECAAAECBBoLOENu3ADlCVQSEIirBK0MAQL1BWxmypsLxJU3VoEAAQIECBAgQIAAAQIECBAgQIAAAQIECBAgQIAAgTwCzpDzOLoKgd4FBOJ675D1ESCQLGAzk0wXPVEgLprKQAIECBAgQIAAAQIECBAgQIAAAQIECBAgQIAAAQIEGgs4Q27cAOUJVBIQiKsErQwBAvUFbGbKmwvElTdWgQABAgQIECBAgAABAgQIECBAgAABAgQIECBAgACBPALOkPM4ugqB3gUE4nrvkPURIJAsYDOTTBc9USAumspAAgQIECBAgAABAgQIECBAgAABAgQIECBAgAABAgQaCzhDbtwA5QlUEhCIqwStDAEC9QVsZsqbC8SVN1aBAAECBAgQIECAAAECBAgQIECAAAECBAgQIECAAIE8As6Q8zi6CoHeBQTieu+Q9REgkCxgM5NMFz1RIC6aykACBAgQIECAAAECBAgQIECAAAECBAgQIECAAAECBBoLOENu3ADlCVQSEIirBK0MAQL1BWxmypsLxJU3VoEAAQIECBAgQIAAAQIECBAgQIAAAQIECBAgQIAAgTwCzpDzOLoKgd4FBOJ675D1ESCQLGAzk0wXPVEgLprKQAIECBAgQIAAAQIECBAgQIAAAQIECBAgQIAAAQIEGgs4Q27cAOUJVBIQiKsErQwBAvUFbGbKmwvElTdWgQABAgQIECBAgAABAgQIECBAgAABAgQIECBAgACBPALOkPM4ugqB3gUE4nrvkPURIJAsYDOTTBc9USAumspAAgQIECBAgAABAgQIECBAgAABAgQIECBAgAABAgQaCzhDbtwA5QlUEhCIqwStDAEC9QVsZsqbC8SVN1aBAAECBAgQIECAAAECBAgQIECAAAECBAgQIECAAIE8As6Q8zi6CoHeBQTieu+Q9REgkCxgM5NMFz1RIC6aykACBAgQIECAAAECBAgQIECAAAECBAgQIECAAAECBBoLOENu3ADlCVQSEIirBK0MAQL1BWxmypsLxJU3VoEAAQIECBAgQIAAAQIECBAgQIAAAQIECBAgQIAAgTwCzpDzOLoKgd4FBOJ675D1ESCQLGAzk0wXPVEgLprKQAIECBAgQIAAAQIECBAgQIAAAQIECBAgQIAAAQIEGgs4Q27cAOUJVBIQiKsErQwBAvUFbGbKmwvElTdWgQABAgQIECBAgAABAgQIECBAgAABAgQIECBAgACBPALOkPM4ugqB3gUE4nrvkPURIJAsYDOTTBc9USAumspAAgQIECBAgAABAgQIECBAgAABAgQIECBAgAABAgQaCzhDbtwA5QlUEhCIqwStDAEC9QVsZsqbC8SVN1aBAAECBAgQIECAAAECBAgQIECAAAECBAgQIECAAIE8As6Q8zi6CoHeBQTieu+Q9REgkCxgM5NMFz1RIC6aykACBAgQIECAAAECBAgQIECAAAECBAgQIECAAAECBBoLOENu3ADlCVQSEIirBK0MAQL1BWxmypsLxJU3VoEAAQIECBAgQIAAAQIECBAgQIAAAQIECBAgQIAAgTwCzpDzOLoKgd4FBOJ675D1ESCQLGAzk0wXPVEgLprKQAIECBAgQIAAAQIECBAgQIAAAQIECBAgQIAAAQIEGgs4Q27cAOUJVBIQiKsErQwBAvUFbGbKmwvElTdWgQABAgQIECBAgAABAgQIECBAgAABAgQIECBAgACBPALOkPM4ugqB3gUE4nrvkPURIJAsYDOTTBc9USAumspAAgQIECBAgAABAgQIECBAgAABAgQIECBAgAABAgQaCzhDbtwA5QlUEhCIqwStDAEC9QVsZsqbC8SVN1aBAAECBAgQIECAAAECBAgQIECAAAECBAgQIECAAIE8As6Q8zi6CoHeBQTieu+Q9REgkCxgM5NMFz1RIC6aykACBAgQIECAAAECBAgQIECAAAECBAgQIECAAAECBBoLOENu3ADlCVQSEIirBK0MAQL1BWxmypsLxJU3VoEAAQIECBAgQIAAAQIECBAgQIAAAQIECBAgQIAAgTwCzpDzOLoKgd4FBOJ675D1ESCQLGAzk0wXPVEgLprKQAIECBAgQIAAAQIECBAgQIAAAQIECBAgQIAAAQIEGgs4Q27cAOUJVBIQiKsErQwBAvUFbGbKmwvElTdWgQABAgQIECBAgAABAgQIECBAgAABAgQIECBAgACBPALOkPM4ugqB3gUE4nrvkPURIJAsYDOTTBc9USAumspAAgQIECBAgAABAgQIECBAgAABAgQIECBAgAABAgQaCzhDbtwA5QlUEhCIqwStDAEC9QVsZsqbC8SVN1aBAAECBAgQIECAAAECBAgQIECAAAECBAgQIECAAIE8As6Q8zi6CoHeBQTieu+Q9REgkCxgM5NMFz1RIC6aykACBAgQIECAAAECBAgQIECAAAECBAgQIECAAAECBBoLOENu3ADlCVQSEIirBK0MAQL1BWxmypsLxJU3VoEAAQIECBAgQIAAAQIECBAgQIAAAQIECBAgQIAAgTwCzpDzOLoKgd4FBOJ675D1ESCQLGAzk0wXPVEgLprKQAIECBAgQIAAAQIECBAgQIAAAQIECBAgQIAAAQIEGgs4Q27cAOUJVBIQiKsErQwBAvUFbGbKmwvElTdWgQABAgQIECBAgAABAgQIECBAgAABAgQIECBAgACBPALOkPM4ugqB3gUE4nrvkPURIJAsYDOTTBc9USAumspAAgQIECBAgAABAgQIECBAgAABAgQIECBAgAABAgQaCzhDbtwA5QlUEhCIqwStDAEC9QVsZsqbC8SVN1aBAAECBAgQIECAAAECBAgQIECAAAECBAgQIECAAIE8As6Q8zi6CoHeBQTieu+Q9REgkCxgM5NMFz1RIC6aykACBAgQIECAAAECBAgQIECAAAECBAgQeXdLEQAAIABJREFUIECAAAECBBoLOENu3ADlCVQSEIirBK0MAQL1BWxmypsLxJU3VoEAAQIECBAgQIAAAQIECBAgQIAAAQIECBAgQIAAgTwCzpDzOLoKgd4FBOJ675D1ESCQLGAzk0wXPVEgLprKQAIECBAgQIAAAQIECBAgQIAAAQIECBAgQIAAAQIEGgs4Q27cAOUJVBIQiKsErQwBAvUFbGbKmwvElTdWgQABAgQIECBAgAABAgQIECBAgAABAgQIECBAgACBPALOkPM4ugqB3gUE4nrvkPURIJAsYDOTTBc9USAumspAAgQIECBAgAABAgQIECBAgAABAgQIECBAgAABAgQaCzhDbtwA5QlUEhCIqwStDAEC9QVsZsqbC8SVN1aBAAECBAgQIECAAAECBAgQIECAAAECBAgQIECAAIE8As6Q8zi6CoHeBQTieu+Q9REgkCxgM5NMFz1RIC6aykACBAgQIECAAAECBAgQIECAAAECBAgQIECAAAECBBoLOENu3ADlCVQSEIirBK0MAQL1BWxmypsLxJU3VoEAAQIECBAgQIAAAQIECBAgQIAAAQIECBAgQIAAgTwCzpDzOLoKgd4FBOJ675D1ESCQLGAzk0wXPVEgLprKQAIECBAgQIAAAQIECBAgQIAAAQIECBAgQIAAAQIEGgs4Q27cAOUJVBIQiKsErQwBAvUFbGbKmwvElTdWgQABAgQIECBAgAABAgQIECBAgAABAgQIECBAgACBPALOkPM4ugqB3gUE4nrvkPURIJAsYDOTTBc9USAumspAAgQIECBAgAABAgQIECBAgAABAgQIECBAgAABAgQaCzhDbtwA5QlUEhCIqwStDAEC9QVsZsqbC8SVN1aBAAECBAgQIECAAAECBAgQIECAAAECBAgQIECAAIE8As6Q8zi6CoHeBQTieu+Q9REgkCxgM5NMFz1RIC6aykACBAgQIECAAAECBAgQIECAAAECBAgQIECAAAECBBoLOENu3ADlCVQSEIirBK0MAQL1BWxmypsLxJU3VoEAAQIECBAgQIAAAQIECBAgQIAAAQIECBAgQIAAgTwCzpDzOLoKgd4FBOJ675D1ESCQLGAzk0wXPVEgLprKQAIECBAgQIAAAQIECBAgQIAAAQIECBAgQIAAAQIEGgs4Q27cAOUJVBIQiKsErQwBAvUFbGbKmwvElTdWgQABAgQIECBAgAABAgQIECBAgAABAgQIECBAgACBPALOkPM4ugqB3gUE4nrvkPURIJAsYDOTTBc9USAumspAAgQIECBAgAABAgQIECBAgAABAgQIECBAgAABAgQaCzhDbtwA5QlUEhCIqwStDAEC9QVsZsqbC8SVN1aBAAECBAgQIECAAAECBAgQIECAAAECBAgQIECAAIE8As6Q8zi6CoHeBQTieu+Q9REgkCxgM5NMFz1RIC6aykACBAgQIECAAAECBAgQIECAAAECBAgQIECAAAECBBoLOENu3ADlCVQSEIirBK0MAQL1BWxmypsLxJU3VoEAAQIECBAgQIAAAQIECBAgQIAAAQIECBAgQIAAgTwCzpDzOLoKgd4FBOJ675D1ESCQLGAzk0wXPVEgLprKQAIECBAgQIAAAQIECBAgQIAAAQIECBAgQIAAAQIEGgs4Q27cAOUJVBIQiKsErQwBAvUFbGbKmwvElTdWgQABAgQIECBAgAABAgQIECBAgAABAgQIECBAgACBPALOkPM4ugqB3gUE4nrvkPURIJAsYDOTTBc9USAumspAAgQIECBAgAABAgQIECBAgAABAgQIECBAgAABAgQaCzhDbtwA5QlUEhCIqwStDAEC9QVsZsqbC8SVN1aBAAECBAgQIECAAAECBAgQIECAAAECBAgQIECAAIE8As6Q8zi6CoHeBQTieu+Q9REgkCxgM5NMFz1RIC6aykACBAgQIECAAAECBAgQIECAAAECBAgQIECAAAECBBoLOENu3ADlCVQSEIirBK0MAQL1BWxmypsLxJU3VoEAAQIECBAgQIAAAQIECBAgQIAAAQIECBAgQIAAgTwCzpDzOLoKgd4FBOJ675D1ESCQLGAzk0wXPVEgLprKQAIECBAgQIAAAQIECBAgQIAAAQIECBAgQIAAAQIEGgs4Q27cAOUJVBIQiKsErQwBAvUFbGbKmwvElTdWgQABAgQIECBAgAABAgQIECBAgAABAgQIECBAgACBPALOkPM4ugqB3gUE4nrvkPURIJAsYDOTTBc9USAumspAAgQIECBAgAABAgQIECBAgAABAgQIECBAgAABAgQaCzhDbtwA5QlUEhCIqwStDAEC9QVsZsqbC8SVN1aBAAECBAgQIECAAAECBAgQIECAAAECBAgQIECAAIE8As6Q8zi6CoHeBQTieu+Q9REgkCxgM5NMFz1RIC6aykACBAgQIECAAAECBAgQIECAAAECBAgQIECAAAECBBoLOENu3ADlCVQSEIirBK0MAQL1BWxmypsLxJU3VoEAAQIECBAgQIAAAQIECBAgQIAAAQIECBAgQIAAgTwCzpDzOLoKgd4FBOJ675D1ESCQLGAzk0wXPVEgLprKQAIECBAgQIAAAQIECBAgQIAAAQIECBAgQIAAAQIEGgs4Q27cAOUJVBIQiKsErQwBAvUFbGbKmwvElTdWgQABAgQIECBAgAABAgQIECBAgAABAgQIECBAgACBPALOkPM4ugqB3gUE4nrvkPURIJAsYDOTTBc9USAumspAAgQIECBAgAABAgQIECBAgAABAgQIECBAgAABAgQaCzhDbtwA5QlUEhCIqwStDAEC9QVsZsqbC8SVN1aBAAECBAgQIECAAAECBAgQIECAAAECBAgQIECAAIE8As6Q8zi6CoHeBQTieu+Q9REgkCxgM5NMFz1RIC6aykACBAgQIECAAAECBAgQIECAAAECBAgQIECAAAECBBoLOENu3ADlCVQSEIirBK0MAQL1BWxmypsLxJU3VoEAAQIECBAgQIAAAQIECBAgQIAAAQIECBAgQIAAgTwCzpDzOLoKgd4FBOJ675D1ESCQLGAzk0wXPVEgLprKQAIECBAgQIAAAQIECBAgQIAAAQIECBAgQIAAAQIEGgs4Q27cAOUJVBIQiKsErQwBAvUFbGbKmwvElTdWgQABAgQIECBAgAABAgQIECBAgAABAgQIECBAgACBPALOkPM4ugqB3gUE4nrvkPURIJAsYDOTTBc9USAumspAAgQIECBAgAABAgQIECBAgAABAgQIECBAgAABAgQaCzhDbtwA5QlUEhCIqwStDAEC9QVsZsqbC8SVN1aBAAECBAgQIECAAAECBAgQIECAAAECBAgQIECAAIE8As6Q8zi6CoHeBQTieu+Q9REgkCxgM5NMFz1RIC6aykACBAgQIECAAAECBAgQIECAAAECBAgQIECAAAECBBoLOENu3ADlCVQSEIirBK0MAQL1BWxmypsLxJU3VoEAAQIECBAgQIAAAQIECBAgQIAAAQIECBAgQIAAgTwCzpDzOLoKgd4FBOJ675D1ESCQLGAzk0wXPVEgLprKQAIECBAgQIAAAQIECBAgQIAAAQIECBAgQIAAAQIEGgs4Q27cAOUJVBIQiKsErQwBAvUFbGbKmwvElTdWgQABAgQIECBAgAABAgQIECBAgAABAgQIECBAgACBPALOkPM4ugqB3gUE4nrvkPURIJAsYDOTTBc9USAumspAAgQIECBAgAABAgQIECBAgAABAgQIECBAgAABAgQaCzhDbtwA5QlUEhCIqwStDAEC9QVsZsqbC8SVN1aBAAECBAgQIECAAAECBAgQIECAAAECBAgQIECAAIE8As6Q8zi6CoHeBQTieu+Q9REgkCxgM5NMFz1RIC6aykACBAgQIECAAAECBAgQIECAAAECBAgQIECAAAECBBoLOENu3ADlCVQSEIirBK0MAQL1BWxmypsLxJU3VoEAAQIECBAgQIAAAQIECBAgQIAAAQIECBAgQIAAgTwCzpDzOLoKgd4FBOJ675D1ESCQLGAzk0wXPVEgLprKQAIECBAgQIAAAQIECBAgQIAAAQIECBAgQIAAAQIEGgs4Q27cAOUJVBIQiKsErQwBAvUFbGbKmwvElTdWgQABAgQIECBAgAABAgQIECBAgAABAgQIECBAgACBPALOkPM4ugqB3gUE4nrvkPURIJAsYDOTTBc9USAumspAAgQIECBAgAABAgQIECBAgAABAgQIECBAgAABAgQaCzhDbtwA5QlUEhCIqwStDAEC9QVsZsqbC8SVN1aBAAECBAgQIECAAAECBAgQIECAAAECBAgQIECAAIE8As6Q8zi6CoHeBQTieu+Q9REgkCxgM5NMFz1RIC6aykACBAgQIECAAAECBAgQIECAAAECBAgQIECAAAECBBoLOENu3ADlCVQSEIirBK0MAQL1BWxmypsLxJU3VoEAAQIECBAgQIAAAQIECBAgQIAAAQIECBAgQIAAgTwCzpDzOLoKgd4FBOJ675D1ESCQLGAzk0wXPVEgLprKQAIECBAgQIAAAQIECBAgQIAAAQIECBAgQIAAAQIEGgs4Q27cAOUJVBIQiKsErQwBAvUFbGbKmwvElTdWgQABAgQIECBAgAABAgQIECBAgAABAgQIECBAgACBPALOkPM4ugqB3gUE4nrvkPURIJAsYDOTTBc9USAumspAAgQIECBAgAABAgQIECBAgAABAgQIECBAgAABAgQaCzhDbtwA5QlUEhCIqwStDAEC9QVsZsqbC8SVN1aBAAECBAgQIECAAAECBAgQIECAAAECBAgQIECAAIE8As6Q8zi6CoHeBQTieu+Q9REgkCxgM5NMFz1RIC6aykACBAgQIECAAAECBAgQIECAAAECBAgQIECAAAECBBoLOENu3ADlCVQSEIirBK0MAQL1BWxmypsLxJU3VoEAAQIECBAgQIAAAQIECBAgQIAAAQIECBAgQIAAgTwCzpDzOLoKgd4FBOJ675D1ESCQLGAzk0wXPVEgLprKQAIECBAgQIAAAQIECBAgQIAAAQIECBAgQIAAAQIEGgs4Q27cAOUJVBIQiKsErQwBAvUFbGbKmwvElTdWgQABAgQIECBAgAABAgQIECBAgAABAgQIECBAgACBPALOkPM4ugqB3gUE4nrvkPURIJAsYDOTTBc9USAumspAAgQIECBAgAABAgQIECBAgAABAgQIECBAgAABAgQaCzhDbtwA5QlUEhCIqwStDAEC9QVsZsqbC8SVN1aBAAECBAgQIECAAAECBAgQIECAAAECBAgQIECAAIE8As6Q8zi6CoHeBQTieu+Q9REgkCxgM5NMFz1RIC6aykACBAgQIECAAAECBAgQIECAAAECBAgQIECAAAECBBoLOENu3ADlCVQSEIirBK0MAQL1BWxmypsLxJU3VoEAAQIECBAgQIAAAQIECBAgQIAAAQIECBAgQIAAgTwCzpDzOLoKgd4FBOJ675D1ESCQLGAzk0wXPVEgLprKQAIECBAgQIAAAQIECBAgQIAAAQIECBAgQIAAAQIEGgs4Q27cAOUJVBIQiKsErQwBAvUFbGbKmwvElTdWgQABAgQIECBAgAABAgQIECBAgAABAgQIECBAgACBPALOkPM4ugqB3gUE4nrvkPURIJAsYDOTTBc9USAumspAAgQIECBAgAABAgQIECBAgAABAgQIECBAgAABAgQaCzhDbtwA5QlUEhCIqwStDAEC9QVsZsqbC8SVN1aBAAECBAgQIECAAAECBAgQIECAAAECBAgQIECAAIE8As6Q8zi6CoHeBQTieu+Q9REgkCxgM5NMFz1RIC6aykACBAgQIECAAAECBAgQIECAAAECBAgQIECAAAECBBoLOENu3ADlCVQSEIirBK0MAQL1BWxmypsLxJU3VoEAAQIECBAgQIAAAQIECBAgQIAAAQIECBAgQIAAgTwCzpDzOLoKgd4FBOJ675D1ESCQLGAzk0wXPVEgLprKQAIECBAgQIAAAQIECBAgQIAAAQIECBAgQIAAAQIEGgs4Q27cAOUJVBIQiKsErQwBAvUFbGbKmwvElTdWgQABAgQIECBAgAABAgQIECBAgAABAgQIECBAgACBPALOkPM4ugqB3gUE4nrvkPURIJAsYDOTTBc9USAumspAAgQIECBAgAABAgQIECBAgAABAgQIECBAgAABAgQaCzhDbtwA5QlUEhCIqwStDAEC9QVsZsqbC8SVN1aBAAECBAgQIECAAAECBAgQIECAAAECBAgQIECAAIE8As6Q8zi6CoHeBQTieu+Q9REgkCxgM5NMFz1RIC6aykACBAgQIECAAAECBAgQIECAAAECBAgQIECAAAECBBoLOENu3ADlCVQSEIirBK0MAQL1BWxmypsLxJU3VoEAAQIECBAgQIAAAQIECBAgQIAAAQIECBAgQIAAgTwCzpDzOLoKgd4FBOJ675D1ESCQLGAzk0wXPVEgLprKQAIECBAgQIAAAQIECBAgQIAAAQIECBAgQIAAAQIEGgs4Q27cAOUJVBIQiKsErQwBAvUFbGbKmwvElTdWgQABAgQIECBAgAABAgQIECBAgAABAgQIECBAgACBPALOkPM4ugqB3gUE4nrvkPURIJAsYDOTTBc9USAumspAAgQIECBAgAABAgQIECBAgAABAgQIECBAgAABAgQaCzhDbtwA5QlUEhCIqwStDAEC9QVsZsqbC8SVN1aBAAECBAgQIECAAAECBAgQIECAAAECBAgQIECAAIE8As6Q8zi6CoHeBQTieu+Q9REgkCxgM5NMFz1RIC6aykACBAgQIECAAAECBAgQIECAAAECBAgQIECAAAECBBoLOENu3ADlCVQSEIirBK0MAQL1BWxmypsLxJU3VoEAAQIECBAgQIAAAQIECBAgQIAAAQIECBAgQIAAgTwCzpDzOLoKgd4FBOJ675D1ESCQLGAzk0wXPVEgLprKQAIECBAgQIAAAQIECBAgQIAAAQIECBAgQIAAAQIEGgs4Q27cAOUJVBIQiKsErQwBAvUFbGbKmwvElTdWgQABAgQIECBAgAABAgQIECBAgAABAgQIECBAgACBPALOkPM4ugqB3gUE4nrvkPURIJAsYDOTTBc9USAumspAAgQIECBAgAABAgQIECBAgAABAgQIECBAgAABAgQaCzhDbtwA5QlUEhCIqwStDAEC9QVsZsqbC8SVN1aBAAECBAgQIECAAAECBAgQIECAAAECBAgQIECAAIE8As6Q8zi6CoHeBQTieu+Q9REgkCxgM5NMFz1RIC6aykACBAgQIECAAAECBAgQIECAAAECBAgQIECAAAECBBoLOENu3ADlCVQSEIirBK0MAQL1BWxmypsLxJU3VoEAAQIECBAgQIAAAQIECBAgQIAAAQIECBAgQIAAgTwCzpDzOLoKgd4FBOJ675D1ESCQLGAzk0wXPVEgLprKQAIECBAgQIAAAQIECBAgQIAAAQIECBAgQIAAAQIEGgs4Q27cAOUJVBIQiKsErQwBAvUFbGbKmwvElTdWgQABAgQIECBAgAABAgQIECBAgAABAgQIECBAgACBPALOkPM4ugqB3gUE4nrvkPURIJAsYDOTTBc9USAumspAAgQIECBAgAABAgQIECBAgAABAgQIECBAgAABAgQaCzhDbtwA5QlUEhCIqwStDAEC9QVsZsqbC8SVN1aBAAECBAgQIECAAAECBAgQIECAAAECBAgQIECAAIE8As6Q8zi6CoHeBQTieu+Q9REgkCxgM5NMFz1RIC6aykACBAgQIECAAAECBAgQIECAAAECBAgQIECAAAECBBoLOENu3ADlCVQSEIirBK0MAQL1BWxmypsLxJU3VoEAAQIECBAgQIAAAQIECBAgQIAAAQIECBAgQIAAgTwCzpDzOLoKgd4FBOJ675D1ESCQLGAzk0wXPVEgLprKQAIECBAgQIAAAQIECBAgQIAAAQIECBAgQIAAAQIEGgs4Q27cAOUJVBIQiKsErQwBAvUFbGbKmwvElTdWgQABAgQIECBAgAABAgQIECBAgAABAgQIECBAgACBPALOkPM4ugqB3gUE4nrvkPURIJAsYDOTTBc9USAumspAAgQIECBAgAABAgQIECBAgAABAgQIECBAgAABAgQaCzhDbtwA5QlUEhCIqwStDAEC9QVsZsqbC8SVN1aBAAECBAgQIECAAAECBAgQIECAAAECBAgQIECAAIE8As6Q8zi6CoHeBQTieu+Q9REgkCxgM5NMFz1RIC6aykACBAgQIECAAAECBAgQIECAAAECBAgQIECAAAECBBoLOENu3ADlCVQSEIirBK0MAQL1BWxmypsLxJU3VoEAAQIECBAgQIAAAQL/z64dZVuO4goCffPrifUweyi9/FUrI+tlAgcJhPZ3+FhoC9vckAgQIECAAAECBAgQIECAAAECewT0kPc4uguB2wUMxN1eIesjQGBZwGFmmW74hwbihqlcSIAAAQIECBAgQIAAAQIECBAgQIAAAQIECBAgQIDAYQE95MMFEJ5AkoCBuCRoYQgQyBdwmIk3NxAXbywCAQIECBAgQIAAAQIECBAgQIAAAQIECBAgQIAAAQJ7BPSQ9zi6C4HbBQzE3V4h6yNAYFnAYWaZbviHBuKGqVxIgAABAgQIECBAgAABAgQIECBAgAABAgQIECBAgMBhAT3kwwUQnkCSgIG4JGhhCBDIF3CYiTc3EBdvLAIBAgQIECBAgAABAgQIECBAgAABAgQIECBAgAABAnsE9JD3OLoLgdsFDMTdXiHrI0BgWcBhZplu+IcG4oapXEiAAAECBAgQIECAAAECBAgQIECAAAECBAgQIECAwGEBPeTDBRCeQJKAgbgkaGEIEMgXcJiJNzcQF28sAgECBAgQIECAAAECBAgQIECAAAECBAgQIECAAAECewT0kPc4uguB2wUMxN1eIesjQGBZwGFmmW74hwbihqlcSIAAAQIECBAgQIAAAQIECBAgQIAAAQIECBAgQIDAYQE95MMFEJ5AkoCBuCRoYQgQyBdwmIk3NxAXbywCAQIECBAgQIAAAQIECBAgQIAAAQIECBAgQIAAAQJ7BPSQ9zi6C4HbBQzE3V4h6yNAYFnAYWaZbviHBuKGqVxIgAABAgQIECBAgAABAgQIECBAgAABAgQIECBAgMBhAT3kwwUQnkCSgIG4JGhhCBDIF3CYiTc3EBdvLAIBAgQIECBAgAABAgQIECBAgAABAgQIECBAgAABAnsE9JD3OLoLgdsFDMTdXiHrI0BgWcBhZplu+IcG4oapXEiAAAECBAgQIECAAAECBAgQIECAAAECBAgQIECAwGEBPeTDBRCeQJKAgbgkaGEIEMgXcJiJNzcQF28sAgECBAgQIECAAAECBAgQIECAAAECBAgQIECAAAECewT0kPc4uguB2wUMxN1eIesjQGBZwGFmmW74hwbihqlcSIAAAQIECBAgQIAAAQIECBAgQIAAAQIECBAgQIDAYQE95MMFEJ5AkoCBuCRoYQgQyBdwmIk3NxAXbywCAQIECBAgQIAAAQIECBAgQIAAAQIECBAgQIAAAQJ7BPSQ9zi6C4HbBQzE3V4h6yNAYFnAYWaZbviHBuKGqVxIgAABAgQIECBAgAABAgQIECBAgAABAgQIECBAgMBhAT3kwwUQnkCSgIG4JGhhCBDIF3CYiTc3EBdvLAIBAgQIECBAgAABAgQIECBAgAABAgQIECBAgAABAnsE9JD3OLoLgdsFDMTdXiHrI0BgWcBhZplu+IcG4oapXEiAAAECBAgQIECAAAECBAgQIECAAAECBAgQIECAwGEBPeTDBRCeQJKAgbgkaGEIEMgXcJiJNzcQF28sAgECBAgQIECAAAECBAgQIECAAAECBAgQIECAAAECewT0kPc4uguB2wUMxN1eIesjQGBZwGFmmW74hwbihqlcSIAAAQIECBAgQIAAAQIECBAgQIAAAQIECBAgQIDAYQE95MMFEJ5AkoCBuCRoYQgQyBdwmIk3NxAXbywCAQIECBAgQIAAAQIECBAgQIAAAQIECBAgQIAAAQJ7BPSQ9zi6C4HbBQzE3V4h6yNAYFnAYWaZbviHBuKGqVxIgAABAgQIECBAgAABAgQIECBAgAABAgQIECBAgMBhAT3kwwUQnkCSgIG4JGhhCBDIF3CYiTc3EBdvLAIBAgQIECBAgAABAgQIECBAgAABAgQIECBAgAABAnsE9JD3OLoLgdsFDMTdXiHrI0BgWcBhZplu+IcG4oapXEiAAAECBAgQIECAAAECBAgQIECAAAECBAgQIECAwGEBPeTDBRCeQJKAgbgkaGEIEMgXcJiJNzcQF28sAgECBAgQIECAAAECBAgQIECAAAECBAgQIECAAAECewT0kPc4uguB2wUMxN1eIesjQGBZwGFmmW74hwbihqlcSIAAAQIECBAgQIAAAQIECBAgQIAAAQIECBAgQIDAYQE95MMFEJ5AkoCBuCRoYQgQyBdwmIk3NxAXbywCAQIECBAgQIAAAQIECBAgQIAAAQIECBAgQIAAAQJ7BPSQ9zi6C4HbBQzE3V4h6yNAYFnAYWaZbviHBuKGqVxIgAABAgQIECBAgAABAgQIECBAgAABAgQIECBAgMBhAT3kwwUQnkCSgIG4JGhhCBDIF3CYiTc3EBdvLAIBAgQIECBAgAABAgQIECBAgAABAgQIECBAgAABAnsE9JD3OLoLgdsFDMTdXiHrI0BgWcBhZplu+IcG4oapXEiAAAECBAgQIECAAAECBAgQIECAAAECBAgQIECAwGEBPeTDBRCeQJKAgbgkaGEIEMgXcJiJNzcQF28sAgECBAgQIECAAAECBAgQIECAAAECBAgQIECAAAECewT0kPc4uguB2wUMxN1eIesjQGBZwGFmmW74hwbihqlcSIATA/8fAAAgAElEQVQAAQIECBAgQIAAAQIECBAgQIAAAQIECBAgQIDAYQE95MMFEJ5AkoCBuCRoYQgQyBdwmIk3NxAXbywCAQIECBAgQIAAAQIECBAgQIAAAQIECBAgQIAAAQJ7BPSQ9zi6C4HbBQzE3V4h6yNAYFnAYWaZbviHBuKGqVxIgAABAgQIECBAgAABAgQIECBAgAABAgQIECBAgMBhAT3kwwUQnkCSgIG4JGhhCBDIF3CYiTc3EBdvLAIBAgQIECBAgAABAgQIECBAgAABAgQIECBAgAABAnsE9JD3OLoLgdsFDMTdXiHrI0BgWcBhZplu+IcG4oapXEiAAAECBAgQIECAAAECBAgQIECAAAECBAgQIECAwGEBPeTDBRCeQJKAgbgkaGEIEMgXcJiJNzcQF28sAgECBAgQIECAAAECBAgQIECAAAECBAgQIECAAAECewT0kPc4uguB2wUMxN1eIesjQGBZwGFmmW74hwbihqlcSIAAAQIECBAgQIAAAQIECBAgQIAAAQIECBAgQIDAYQE95MMFEJ5AkoCBuCRoYQgQyBdwmIk3NxAXbywCAQIECBAgQIAAAQIECBAgQIAAAQIECBAgQIAAAQJ7BPSQ9zi6C4HbBQzE3V4h6yNAYFnAYWaZbviHBuKGqVxIgAABAgQIECBAgAABAgQIECBAgAABAgQIECBAgMBhAT3kwwUQnkCSgIG4JGhhCBDIF3CYiTc3EBdvLAIBAgQIECBAgAABAgQIECBAgAABAgQIECBAgAABAnsE9JD3OLoLgdsFDMTdXiHrI0BgWcBhZplu+IcG4oapXEiAAAECBAgQIECAAAECBAgQIECAAAECBAgQIECAwGEBPeTDBRCeQJKAgbgkaGEIEMgXcJiJNzcQF28sAgECBAgQIECAAAECBAgQIECAAAECBAgQIECAAAECewT0kPc4uguB2wUMxN1eIesjQGBZwGFmmW74hwbihqlcSIAAAQIECBAgQIAAAQIECBAgQIAAAQIECBAgQIDAYQE95MMFEJ5AkoCBuCRoYQgQyBdwmIk3NxAXbywCAQIECBAgQIAAAQIECBAgQIAAAQIECBAgQIAAAQJ7BPSQ9zi6C4HbBQzE3V4h6yNAYFnAYWaZbviHBuKGqVxIgAABAgQIECBAgAABAgQIECBAgAABAgQIECBAgMBhAT3kwwUQnkCSgIG4JGhhCBDIF3CYiTc3EBdvLAIBAgQIECBAgAABAgQIECBAgAABAgQIECBAgAABAnsE9JD3OLoLgdsFDMTdXiHrI0BgWcBhZplu+IcG4oapXEiAAAECBAgQIECAAAECBAgQIECAAAECBAgQIECAwGEBPeTDBRCeQJKAgbgkaGEIEMgXcJiJNzcQF28sAgECBAgQIECAAAECBAgQIECAAAECBAgQIECAAAECewT0kPc4uguB2wUMxN1eIesjQGBZwGFmmW74hwbihqlcSIAAAQIECBAgQIAAAQIECBAgQIAAAQIECBAgQIDAYQE95MMFEJ5AkoCBuCRoYQgQyBdwmIk3NxAXbywCAQIECBAgQIAAAQIECBAgQIAAAQIECBAgQIAAAQJ7BPSQ9zi6C4HbBQzE3V4h6yNAYFnAYWaZbviHBuKGqVxIgAABAgQIECBAgAABAgQIECBAgAABAgQIECBAgMBhAT3kwwUQnkCSgIG4JGhhCBDIF3CYiTc3EBdvLAIBAgQIECBAgAABAgQIECBAgAABAgQIECBAgAABAnsE9JD3OLoLgdsFDMTdXiHrI0BgWcBhZplu+IcG4oapXEiAAAECBAgQIECAAAECBAgQIECAAAECBAgQIECAwGEBPeTDBRCeQJKAgbgkaGEIEMgXcJiJNzcQF28sAgECBAgQIECAAAECBAgQIECAAAECBAgQIECAAAECewT0kPc4uguB2wUMxN1eIesjQGBZwGFmmW74hwbihqlcSIAAAQIECBAgQIAAAQIECBAgQIAAAQIECBAgQIDAYQE95MMFEJ5AkoCBuCRoYQgQyBdwmIk3NxAXbywCAQIECBAgQIAAAQIECBAgQIAAAQIECBAgQIAAAQJ7BPSQ9zi6C4HbBQzE3V4h6yNAYFnAYWaZbviHBuKGqVxIgAABAgQIECBAgAABAgQIECBAgAABAgQIECBAgMBhAT3kwwUQnkCSgIG4JGhhCBDIF3CYiTc3EBdvLAIBAgQIECBAgAABAgQIECBAgAABAgQIECBAgAABAnsE9JD3OLoLgdsFDMTdXiHrI0BgWcBhZplu+IcG4oapXEiAAAECBAgQIECAAAECBAgQIECAAAECBAgQIECAwGEBPeTDBRCeQJKAgbgkaGEIEMgXcJiJNzcQF28sAgECBAgQIECAAAECBAgQIECAAAECBAgQIECAAAECewT0kPc4uguB2wUMxN1eIesjQGBZwGFmmW74hwbihqlcSIAAAQIECBAgQIAAAQIECBAgQIAAAQIECBAgQIDAYQE95MMFEJ5AkoCBuCRoYQgQyBdwmIk3NxAXbywCAQIECBAgQIAAAQIECBAgQIAAAQIECBAgQIAAAQJ7BPSQ9zi6C4HbBQzE3V4h6yNAYFnAYWaZbviHBuKGqVxIgAABAgQIECBAgAABAgQIECBAgAABAgQIECBAgMBhAT3kwwUQnkCSgIG4JGhhCBDIF3CYiTc3EBdvLAIBAgQIECBAgAABAgQIECBAgAABAgQIECBAgAABAnsE9JD3OLoLgdsFDMTdXiHrI0BgWcBhZplu+IcG4oapXEiAAAECBAgQIECAAAECBAgQIECAAAECBAgQIECAwGEBPeTDBRCeQJKAgbgkaGEIEMgXcJiJNzcQF28sAgECBAgQIECAAAECBAgQIECAAAECBAgQIECAAAECewT0kPc4uguB2wUMxN1eIesjQGBZwGFmmW74hwbihqlcSIAAAQIECBAgQIAAAQIECBAgQIAAAQIECBAgQIDAYQE95MMFEJ5AkoCBuCRoYQgQyBdwmIk3NxAXbywCAQIECBAgQIAAAQIECBAgQIAAAQIECBAgQIAAAQJ7BPSQ9zi6C4HbBQzE3V4h6yNAYFnAYWaZbviHBuKGqVxIgAABAgQIECBAgAABAgQIECBAgAABAgQIECBAgMBhAT3kwwUQnkCSgIG4JGhhCBDIF3CYiTc3EBdvLAIBAgQIECBAgAABAgQIECBAgAABAgQIECBAgAABAnsE9JD3OLoLgdsFDMTdXiHrI0BgWcBhZplu+IcG4oapXEiAAAECBAgQIECAAAECBAgQIECAAAECBAgQIECAwGEBPeTDBRCeQJKAgbgkaGEIEMgXcJiJNzcQF28sAgECBAgQIECAAAECBAgQIECAAAECBAgQIECAAAECewT0kPc4uguB2wUMxN1eIesjQGBZwGFmmW74hwbihqlcSIAAAQIECBAgQIAAAQIECBAgQIAAAQIECBAgQIDAYQE95MMFEJ5AkoCBuCRoYQgQyBdwmIk3NxAXbywCAQIECBAgQIAAAQIECBAgQIAAAQIECBAgQIAAAQJ7BPSQ9zi6C4HbBQzE3V4h6yNAYFnAYWaZbviHBuKGqVxIgAABAgQIECBAgAABAgQIECBAgAABAgQIECBAgMBhAT3kwwUQnkCSgIG4JGhhCBDIF3CYiTc3EBdvLAIBAgQIECBAgAABAgQIECBAgAABAgQIECBAgAABAnsE9JD3OLoLgdsFDMTdXiHrI0BgWcBhZplu+IcG4oapXEiAAAECBAgQIECAAAECBAgQIECAAAECBAgQIECAwGEBPeTDBRCeQJKAgbgkaGEIEMgXcJiJNzcQF28sAgECBAgQIECAAAECBAgQIECAAAECBAgQIECAAAECewT0kPc4uguB2wUMxN1eIesjQGBZwGFmmW74hwbihqlcSIAAAQIECBAgQIAAAQIECBAgQIAAAQIECBAgQIDAYQE95MMFEJ5AkoCBuCRoYQgQyBdwmIk3NxAXbywCAQIECBAgQIAAAQIECBAgQIAAAQIECBAgQIAAAQJ7BPSQ9zi6C4HbBQzE3V4h6yNAYFnAYWaZbviHBuKGqVxIgAABAgQIECBAgAABAgQIECBAgAABAgQIECBAgMBhAT3kwwUQnkCSgIG4JGhhCBDIF3CYiTc3EBdvLAIBAgQIECBAgAABAgQIECBAgAABAgQIECBAgAABAnsE9JD3OLoLgdsFDMTdXiHrI0BgWcBhZplu+IcG4oapXEiAAAECBAgQIECAAAECBAgQIECAAAECBAgQIECAwGEBPeTDBRCeQJKAgbgkaGEIEMgXcJiJNzcQF28sAgECBAgQIECAAAECBAgQIECAAAECBAgQIECAAAECewT0kPc4uguB2wUMxN1eIesjQGBZwGFmmW74hwbihqlcSIAAAQIECBAgQIAAAQIECBAgQIAAAQIECBAgQIDAYQE95MMFEJ5AkoCBuCRoYQgQyBdwmIk3NxAXbywCAQIECBAgQIAAAQIECBAgQIAAAQIECBAgQIAAAQJ7BPSQ9zi6C4HbBQzE3V4h6yNAYFnAYWaZbviHBuKGqVxIgAABAgQIECBAgAABAgQIECBAgAABAgQIECBAgMBhAT3kwwUQnkCSgIG4JGhhCBDIF3CYiTc3EBdvLAIBAgQIECBAgAABAgQIECBAgAABAgQIECBAgAABAnsE9JD3OLoLgdsFDMTdXiHrI0BgWcBhZplu+IcG4oapXEiAAAECBAgQIECAAAECBAgQIECAAAECBAgQIECAwGEBPeTDBRCeQJKAgbgkaGEIEMgXcJiJNzcQF28sAgECBAgQIECAAAECBAgQIECAAAECBAgQIECAAAECewT0kPc4uguB2wUMxN1eIesjQGBZwGFmmW74hwbihqlcSIAAAQIECBAgQIAAAQIECBAgQIAAAQIECBAgQIDAYQE95MMFEJ5AkoCBuCRoYQgQyBdwmIk3NxAXbywCAQIECBAgQIAAAQIECBAgQIAAAQIECBAgQIAAAQJ7BPSQ9zi6C4HbBQzE3V4h6yNAYFnAYWaZbviHBuKGqVxIgAABAgQIECBAgAABAgQIECBAgAABAgQIECBAgMBhAT3kwwUQnkCSgIG4JGhhCBDIF3CYiTc3EBdvLAIBAgQIECBAgAABAgQIECBAgAABAgQIECBAgAABAnsE9JD3OLoLgdsFDMTdXiHrI0BgWcBhZplu+IcG4oapXEiAAAECBAgQIECAAAECBAgQIECAAAECBAgQIECAwGEBPeTDBRCeQJKAgbgkaGEIEMgXcJiJNzcQF28sAgECBAgQIECAAAECBAgQIECAAAECBAgQIECAAAECewT0kPc4uguB2wUMxN1eIesjQGBZwGFmmW74hwbihqlcSIAAAQIECBAgQIAAAQIECBAgQIAAAQIECBAgQIDAYQE95MMFEJ5AkoCBuCRoYQgQyBdwmIk3NxAXbywCAQIECBAgQIAAAQIECBAgQIAAAQIECBAgQIAAAQJ7BPSQ9zi6C4HbBQzE3V4h6yNAYFnAYWaZbviHBuKGqVxIgAABAgQIECBAgAABAgQIECBAgAABAgQIECBAgMBhAT3kwwUQnkCSgIG4JGhhCBDIF3CYiTc3EBdvLAIBAgQIECBAgAABAgQIECBAgAABAgQIECBAgAABAnsE9JD3OLoLgdsFDMTdXiHrI0BgWcBhZplu+IcG4oapXEiAAAECBAgQIECAAAECBAgQIECAAAECBAgQIECAwGEBPeTDBRCeQJKAgbgkaGEIEMgXcJiJNzcQF28sAgECBAgQIECAAAECBAgQIECAAAECBAgQIECAAAECewT0kPc4uguB2wUMxN1eIesjQGBZwGFmmW74hwbihqlcSIAAAQIECBAgQIAAAQIECBAgQIAAAQIECBAgQIDAYQE95MMFEJ5AkoCBuCRoYQgQyBdwmIk3NxAXbywCAQIECBAgQIAAAQIECBAgQIAAAQIECBAgQIAAAQJ7BPSQ9zi6C4HbBQzE3V4h6yNAYFnAYWaZbviHBuKGqVxIgAABAgQIECBAgAABAgQIECBAgAABAgQIECBAgMBhAT3kwwUQnkCSgIG4JGhhCBDIF3CYiTc3EBdvLAIBAgQIECBAgAABAgQIECBAgAABAgQIECBAgAABAnsE9JD3OLoLgdsFDMTdXiHrI0BgWcBhZplu+IcG4oapXEiAAAECBAgQIECAAAECBAgQIECAAAECBAgQIECAwGEBPeTDBRCeQJKAgbgkaGEIEMgXcJiJNzcQF28sAgECBAgQIECAAAECBAgQIECAAAECBAgQIECAAAECewT0kPc4uguB2wUMxN1eIesjQGBZwGFmmW74hwbihqlcSIAAAQIECBAgQIAAAQIECBAgQIAAAQIECBAgQIDAYQE95MMFEJ5AkoCBuCRoYQgQyBdwmIk3NxAXbywCAQIECBAgQIAAAQIECBAgQIAAAQIECBAgQIAAAQJ7BPSQ9zi6C4HbBQzE3V4h6yNAYFnAYWaZbviHBuKGqVxIgAABAgQIECBAgAABAgQIECBAgAABAgQIECBAgMBhAT3kwwUQnkCSgIG4JGhhCBDIF3CYiTc3EBdvLAIBAgQIECBAgAABAgQIECBAgAABAgQIECBAgAABAnsE9JD3OLoLgdsFDMTdXiHrI0BgWcBhZplu+IcG4oapXEiAAAECBAgQIECAAAECBAgQIECAAAECBAgQIECAwGEBPeTDBRCeQJKAgbgkaGEIEMgXcJiJNzcQF28sAgECBAgQIECAAAECBAgQIECAAAECBAgQIECAAAECewT0kPc4uguB2wUMxN1eIesjQGBZwGFmmW74hwbihqlcSIAAAQIECBAgQIAAAQIECBAgQIAAAQIECBAgQIDAYQE95MMFEJ5AkoCBuCRoYQgQyBdwmIk3NxAXbywCAQIECBAgQIAAAQIECBAgQIAAAQIECBAgQIAAAQJ7BPSQ9zi6C4HbBQzE3V4h6yNAYFnAYWaZbviHBuKGqVxIgAABAgQIECBAgAABAgQIECBAgAABAgQIECBAgMBhAT3kwwUQnkCSgIG4JGhhCBDIF3CYiTc3EBdvLAIBAgQIECBAgAABAgQIECBAgAABAgQIECBAgAABAnsE9JD3OLoLgdsFDMTdXiHrI0BgWcBhZplu+IcG4oapXEiAAAECBAgQIECAAAECBAgQIECAAAECBAgQIECAwGEBPeTDBRCeQJKAgbgkaGEIEMgXcJiJNzcQF28sAgECBAgQIECAAAECBAgQIECAAAECBAgQIECAAAECewT0kPc4uguB2wUMxN1eIesjQGBZwGFmmW74hwbihqlcSIAAAQIECBAgQIAAAQIECBAgQIAAAQIECBAgQIDAYQE95MMFEJ5AkoCBuCRoYQgQyBdwmIk3NxAXbywCAQIECBAgQIAAAQIECBAgQIAAAQIECBAgQIAAAQJ7BPSQ9zi6C4HbBQzE3V4h6yNAYFnAYWaZbviHBuKGqVxIgAABAgQIECBAgAABAgQIECBAgAABAgQIECBAgMBhAT3kwwUQnkCSgIG4JGhhCBDIF3CYiTc3EBdvLAIBAgQIECBAgAABAgQIECBAgAABAgQIECBAgAABAnsE9JD3OLoLgdsFDMTdXiHrI0BgWcBhZplu+IcG4oapXEiAAAECBAgQIECAAAECBAgQIECAAAECBAgQIECAwGEBPeTDBRCeQJKAgbgkaGEIEMgXcJiJNzcQF28sAgECBAgQIECAAAECBAgQIECAAAECBAgQIECAAAECewT0kPc4uguB2wUMxN1eIesjQGBZwGFmmW74hwbihqlcSIAAAQIECBAgQIAAAQIECBAgQIAAAQIECBAgQIDAYQE95MMFEJ5AkoCBuCRoYQgQyBdwmIk3NxAXbywCAQIECBAgQIAAAQIECBAgQIAAAQIECBAgQIAAAQJ7BPSQ9zi6C4HbBQzE3V4h6yNAYFnAYWaZbviHBuKGqVxIgAABAgQIECBAgAABAgQIECBAgAABAgQIECBAgMBhAT3kwwUQnkCSgIG4JGhhCBDIF3CYiTc3EBdvLAIBAgQIECBAgAABAgQIECBAgAABAgQIECBAgAABAnsE9JD3OLoLgdsFDMTdXiHrI0BgWcBhZplu+IcG4oapXEiAAAECBAgQIECAAAECBAgQIECAAAECBAgQIECAwGEBPeTDBRCeQJKAgbgkaGEIEMgXcJiJNzcQF28sAgECBAgQIECAAAECBAgQIECAAAECBAgQIECAAAECewT0kPc4uguB2wUMxN1eIesjQGBZwGFmmW74hwbihqlcSIAAAQIECBAgQIAAAQIECBAgQIAAAQIECBAgQIDAYQE95MMFEJ5AkoCBuCRoYQgQyBdwmIk3NxAXbywCAQIECBAgQIAAAQIECBAgQIAAAQIECBAgQIAAAQJ7BPSQ9zi6C4HbBQzE3V4h6yNAYFnAYWaZbviHBuKGqVxIgAABAgQIECBAgAABAgQIECBAgAABAgQIECBAgMBhAT3kwwUQnkCSgIG4JGhhCBDIF3CYiTc3EBdvLAIBAgQIECBAgAABAgQIECBAgAABAgQIECBAgAABAnsE9JD3OLoLgdsFDMTdXiHrI0BgWcBhZplu+IcG4oapXEiAAAECBAgQIECAAAECBAgQIECAAAECBAgQIECAwGEBPeTDBRCeQJKAgbgkaGEIEMgXcJiJNzcQF28sAgECBAgQIECAAAECBAgQIECAAAECBAgQIECAAAECewT0kPc4uguB2wUMxN1eIesjQGBZwGFmmW74hwbihqlcSIAAAQIECBAgQIAAAQIECBAgQIAAAQIECBAgQIDAYQE95MMFEJ5AkoCBuCRoYQgQyBdwmIk3NxAXbywCAQIECBAgQIAAAQIECBAgQIAAAQIECBAgQIAAAQJ7BPSQ9zi6C4HbBQzE3V4h6yNAYFnAYWaZbviHBuKGqVxIgAABAgQIECBAgAABAgQIECBAgAABAgQIECBAgMBhAT3kwwUQnkCSgIG4JGhhCBDIF3CYiTc3EBdvLAIBAgQIECBAgAABAgQIECBAgAABAgQIECBAgAABAnsE9JD3OLoLgdsFDMTdXiHrI0BgWcBhZplu+IcG4oapXEiAAAECBAgQIECAAAECBAgQIECAAAECBAgQIECAwGEBPeTDBRCeQJKAgbgkaGEIEMgXcJiJNzcQF28sAgECBAgQIECAAAECBAgQIECAAAECBAgQIECAAAECewT0kPc4uguB2wUMxN1eIesjQGBZwGFmmW74hwbihqlcSIAAAQIECBAgQIAAAQIECBAgQIAAAQIECBAgQIDAYQE95MMFEJ5AkoCBuCRoYQgQyBdwmIk3NxAXbywCAQIECBAgQIAAAQIECBAgQIAAAQIECBAgQIAAAQJ7BPSQ9zi6C4HbBQzE3V4h6yNAYFnAYWaZbviHBuKGqVxIgAABAgQIECBAgAABAgQIECBAgAABAgQIECBAgMBhAT3kwwUQnkCSgIG4JGhhCBDIF3CYiTc3EBdvLAIBAgQIECBAgAABAgQIECBAgAABAgQIECBAgAABAnsE9JD3OLoLgdsFDMTdXiHrI0BgWcBhZplu+IcG4oapXEiAAAECBAgQIECAAAECBAgQIECAAAECBAgQIECAwGEBPeTDBRCeQJKAgbgkaGEIEMgXcJiJNzcQF28sAgECBAgQIECAAAECBAgQIECAAAECBAgQIECAAAECewT0kPc4uguB2wUMxN1eIesjQGBZwGFmmW74hwbihqlcSIAAAQIECBAgQIAAAQIECBAgQIAAAQIECBAgQIDAYQE95MMFEJ5AkoCBuCRoYQgQyBdwmIk3NxAXbywCAQIECBAgQIAAAQIECBAgQIAAAQIECBAgQIAAAQJ7BPSQ9zi6C4HbBQzE3V4h6yNAYFnAYWaZbviHBuKGqVxIgAABAgQIECBAgAABAgQIECBAgAABAgQIECBAgMBhAT3kwwUQnkCSgIG4JGhhCBDIF3CYiTc3EBdvLAIBAgQIECBAgAABAgQIECBAgAABAgQIECBAgAABAnsE9JD3OLoLgdsFDMTdXiHrI0BgWcBhZplu+IcG4oapXEiAAAECBAgQIECAAAECBAgQIECAAAECBAgQIECAwGEBPeTDBRCeQJKAgbgkaGEIEMgXcJiJNzcQF28sAgECBAgQIECAAAECBAgQIECAAAECBAgQIECAAAECewT0kPc4uguB2wUMxN1eIesjQGBZwGFmmW74hwbihqlcSIAAAQIECBAgQIAAAQIECBAgQIAAAQIECBAgQIDAYQE95MMFEJ5AkoCBuCRoYQgQyBdwmIk3NxAXbywCAQIECBAgQIAAAQIECBAgQIAAAQIECBAgQIAAAQJ7BPSQ9zi6C4HbBQzE3V4h6yNAYFnAYWaZbviHBuKGqVxIgAABAgQIECBAgAABAgQIECBAgAABAgQIECBAgMBhAT3kwwUQnkCSgIG4JGhhCBDIF3CYiTc3EBdvLAIBAgQIECBAgAABAgQIECBAgAABAgQIECBAgAABAnsE9JD3OLoLgdsFDMTdXiHrI0BgWcBhZplu+IcG4oapXEiAAAECBAgQIECAAAECBAgQIECAAAECBAgQIECAwGEBPeTDBRCeQJKAgbgkaGEIEMgXcJiJNzcQF28sAgECBAgQIECAAAECBAgQIECAAAECBAgQIECAAAECewT0kPc4uguB2wUMxN1eIesjQGBZwGFmmW74hwbihqlcSIAAAQIECBAgQIAAAQIECBAgQIAAAQIECBAgQIDAYQE95MMFEJ5AkoCBuCRoYQgQyBdwmIk3NxAXbywCAQIECBAgQIAAAQIECBAgQIAAAQIECBAgQIAAAQJ7BPSQ9zi6C4HbBQzE3V4h6yNAYFnAYWaZbviHBuKGqVxIgAABAgQIECBAgAABAgQIECBAgAeKTGwAACAASURBVAABAgQIECBAgMBhAT3kwwUQnkCSgIG4JGhhCBDIF3CYiTc3EBdvLAIBAgQIECBAgAABAgQIECBAgAABAgQIECBAgAABAnsE9JD3OLoLgdsFDMTdXiHrI0BgWcBhZplu+IcG4oapXEiAAAECBAgQIECAAAECBAgQIECAAAECBAgQIECAwGEBPeTDBRCeQJKAgbgkaGEIEMgXcJiJNzcQF28sAgECBAgQIECAAAECBAgQIECAAAECBAgQIECAAAECewT0kPc4uguB2wUMxN1eIesjQGBZwGFmmW74hwbihqlcSIAAAQIECBAgQIAAAQIECBAgQIAAAQIECBAgQIDAYQE95MMFEJ5AkoCBuCRoYQgQyBdwmIk3NxAXbywCAQIECBAgQIAAAQIECBAgQIAAAQIECBAgQIAAAQJ7BPSQ9zi6C4HbBQzE3V4h6yNAYFnAYWaZbviHBuKGqVxIgAABAgQIECBAgAABAgQIECBAgAABAgQIECBAgMBhAT3kwwUQnkCSgIG4JGhhCBDIF3CYiTc3EBdvLAIBAgQIECBAgAABAgQIECBAgAABAgQIECBAgAABAnsE9JD3OLoLgdsFDMTdXiHrI0BgWcBhZplu+IcG4oapXEiAAAECBAgQIECAAAECBAgQIECAAAECBAgQIECAwGEBPeTDBRCeQJKAgbgkaGEIEMgXcJiJNzcQF28sAgECBAgQIECAAAECBAgQIECAAAECBAgQIECAAAECewT0kPc4uguB2wUMxN1eIesjQGBZwGFmmW74hwbihqlcSIAAAQIECBAgQIAAAQIECBAgQIAAAQIECBAgQIDAYQE95MMFEJ5AkoCBuCRoYQgQyBdwmIk3NxAXbywCAQIECBAgQIAAAQIECBAgQIAAAQIECBAgQIAAAQJ7BPSQ9zi6C4HbBQzE3V4h6yNAYFnAYWaZbviHBuKGqVxIgAABAgQIECBAgAABAgQIECBAgAABAgQIECBAgMBhAT3kwwUQnkCSgIG4JGhhCBDIF3CYiTc3EBdvLAIBAgQIECBAgAABAgQIECBAgAABAgQIECBAgAABAnsE9JD3OLoLgdsFDMTdXiHrI0BgWcBhZplu+IcG4oapXEiAAAECBAgQIECAAAECBAgQIECAAAECBAgQIECAwGEBPeTDBRCeQJKAgbgkaGEIEMgXcJiJNzcQF28sAgECBAj0EPBN7VFnWRIgQIAAAQIECBAgQIAAAQIECBAgcFZAD/msv+gEsgQMxGVJi0OAQLqAw0w8ueZ9vLEIBAgQINBDwDe1R51lSYAAAQIECBAgQIAAAQIECBAgQIDAWQE95LP+ohPIEjAQlyUtDgEC6QIOM/HkmvfxxiIQIECAQA8B39QedZYlAQIECBAgQIAAAQIECBAgQIAAAQJnBfSQz/qLTiBLwEBclrQ4BAikCzjMxJNr3scbi0CAAAECPQR8U3vUWZYECBAgQIAAAQIECBAgQIAAAQIECJwV0EM+6y86gSwBA3FZ0uIQIJAu4DATT655H28sAgECBAj0EPBN7VFnWRIgQIAAAQIECBAgQIAAAQIECBAgcFZAD/msv+gEsgQMxGVJi0OAQLqAw0w8ueZ9vLEIBAgQINBDwDe1R51lSYAAAQIECBAgQIAAAQIECBAgQIDAWQE95LP+ohPIEjAQlyUtDgEC6QIOM/HkmvfxxiIQIECAQA8B39QedZYlAQIECBAgQIAAAQIECBAgQIAAAQJnBfSQz/qLTiBLwEBclrQ4BAikCzjMxJNr3scbi0CAAAECPQR8U3vUWZYECBAgQIAAAQIECBAgQIAAAQIECJwV0EM+6y86gSwBA3FZ0uIQIJAu4DATT655H28sAgECBAj0EPBN7VFnWRIgQIAAAQIECBAgQIAAAQIECBAgcFZAD/msv+gEsgQMxGVJi0OAQLqAw0w8ueZ9vLEIBAgQINBDwDe1R51lSYAAAQIECBAgQIAAAQIECBAgQIDAWQE95LP+ohPIEjAQlyUtDgEC6QIOM/HkmvfxxiIQIECAQA8B39QedZYlAQIECBAgQIAAAQIECBAgQIAAAQJnBfSQz/qLTiBLwEBclrQ4BAikCzjMxJNr3scbi0CAAAECPQR8U3vUWZYECBAgQIAAAQIECBAgQIAAAQIECJwV0EM+6y86gSwBA3FZ0uIQIJAu4DATT655H28sAgECBAj0EPBN7VFnWRIgQIAAAQIECBAgQIAAAQIECBAgcFZAD/msv+gEsgQMxGVJi0OAQLqAw0w8ueZ9vLEIBAgQINBDwDe1R51lSYAAAQIECBAgQIAAAQIECBAgQIDAWQE95LP+ohPIEjAQlyUtDgEC6QIOM/HkmvfxxiIQIECAQA8B39QedZYlAQIECBAgQIAAAQIECBAgQIAAAQJnBfSQz/qLTiBLwEBclrQ4BAikCzjMxJNr3scbi0CAAAECPQR8U3vUWZYECBAgQIAAAQIECBAgQIAAAQIECJwV0EM+6y86gSwBA3FZ0uIQIJAu4DATT655H28sAgECBAj0EPBN7VFnWRIgQIAAAQIECBAgQIAAAQIECBAgcFZAD/msv+gEsgQMxGVJi0OAQLqAw0w8ueZ9vLEIBAgQINBDwDe1R51lSYAAAQIECBAgQIAAAQIECBAgQIDAWQE95LP+ohPIEjAQlyUtDgEC6QIOM/HkmvfxxiIQIECAQA8B39QedZYlAQIECBAgQIAAAQIECBAgQIAAAQJnBfSQz/qLTiBLwEBclrQ4BAikCzjMxJNr3scbi0CAAAECPQR8U3vUWZYECBAgQIAAAQIECBAgQIAAAQIECJwV0EM+6y86gSwBA3FZ0uIQIJAu4DATT655H28sAgECBAj0EPBN7VFnWRIgQIAAAQIECBAgQIAAAQIECBAgcFZAD/msv+gEsgQMxGVJi0OAQLqAw0w8ueZ9vLEIBAgQINBDwDe1R51lSYAAAQIECBAgQIAAAQIECBAgQIDAWQE95LP+ohPIEjAQlyUtDgEC6QIOM/HkmvfxxiIQIECAQA8B39QedZYlAQIECBAgQIAAAQIECBAgQIAAAQJnBfSQz/qLTiBLwEBclrQ4BAikCzjMxJNr3scbi0CAAAECPQR8U3vUWZYECBAgQIAAAQIECBAgQIAAAQIECJwV0EM+6y86gSwBA3FZ0uIQIJAu4DATT655H28sAgECBAj0EPBN7VFnWRIgQIAAAQIECBAgQIAAAQIECBAgcFZAD/msv+gEsgQMxGVJi0OAQLqAw0w8ueZ9vLEIBAgQINBDwDe1R51lSYAAAQIECBAgQIAAAQIECBAgQIDAWQE95LP+ohPIEjAQlyUtDgEC6QIOM/HkmvfxxiIQIECAQA8B39QedZYlAQIECBAgQIAAAQIECBAgQIAAAQJnBfSQz/qLTiBLwEBclrQ4BAikCzjMxJNr3scbi0CAAAECPQR8U3vUWZYECBAgQIAAAQIECBAgQIAAAQIECJwV0EM+6y86gSwBA3FZ0uIQIJAu4DATT655H28sAgECBAj0EPBN7VFnWRIgQIAAAQIECBAgQIAAAQIECBAgcFZAD/msv+gEsgQMxGVJi0OAQLqAw0w8ueZ9vLEIBAgQINBDwDe1R51lSYAAAQIECBAgQIAAAQIECBAgQIDAWQE95LP+ohPIEjAQlyUtDgEC6QIOM/HkmvfxxiIQIECAQA8B39QedZYlAQIECBAgQIAAAQIECBAgQIAAAQJnBfSQz/qLTiBLwEBclrQ4BAikCzjMxJNr3scbi0CAAAECPQR8U3vUWZYECBAgQIAAAQIECBAgQIAAAQIECJwV0EM+6y86gSwBA3FZ0uIQIJAu4DATT655H28sAgECBAj0EPBN7VFnWRIgQIAAAQIECBAgQIAAAQIECBAgcFZAD/msv+gEsgQMxGVJi0OAQLqAw0w8ueZ9vLEIBAgQINBDwDe1R51lSYAAAQIECBAgQIAAAQIECBAgQIDAWQE95LP+ohPIEjAQlyUtDgEC6QIOM/HkmvfxxiIQIECAQA8B39QedZYlAQIECBAgQIAAAQIECBAgQIAAAQJnBfSQz/qLTiBLwEBclrQ4BAikCzjMxJNr3scbi0CAAAECPQR8U3vUWZYECBAgQIAAAQIECBAgQIAAAQIECJwV0EM+6y86gSwBA3FZ0uIQIJAu4DATT655H28sAgECBAj0EPBN7VFnWRIgQIAAAQIECBAgQIAAAQIECBAgcFZAD/msv+gEsgQMxGVJi0OAQLqAw0w8ueZ9vLEIBAgQINBDwDe1R51lSYAAAQIECBAgQIAAAQIECBAgQIDAWQE95LP+ohPIEjAQlyUtDgEC6QIOM/HkmvfxxiIQIECAQA8B39QedZYlAQIECBAgQIAAAQIECBAgQIAAAQJnBfSQz/qLTiBLwEBclrQ4BAikCzjMxJNr3scbi0CAAAECPQR8U3vUWZYECBAgQIAAAQIECBAgQIAAAQIECJwV0EM+6y86gSwBA3FZ0uIQIJAu4DATT655H28sAgECBAj0EPBN7VFnWRIgQIAAAQIECBAgQIAAAQIECBAgcFZAD/msv+gEsgQMxGVJi0OAQLqAw0w8ueZ9vLEIBAgQINBDwDe1R51lSYAAAQIECBAgQIAAAQIECBAgQIDAWQE95LP+ohPIEjAQlyUtDgEC6QIOM/HkmvfxxiIQIECAQA8B39QedZYlAQIECBAgQIAAAQIECBAgQIAAAQJnBfSQz/qLTiBLwEBclrQ4BAikCzjMxJNr3scbi0CAAAECPQR8U3vUWZYECBAgQIAAAQIECBAgQIAAAQIECJwV0EM+6y86gSwBA3FZ0uIQIJAu4DATT655H28sAgECBAj0EPBN7VFnWRIgQIAAAQIECBAgQIAAAQIECBAgcFZAD/msv+gEsgQMxGVJi0OAQLqAw0w8ueZ9vLEIBAgQINBDwDe1R51lSYAAAQIECBAgQIAAAQIECBAgQIDAWQE95LP+ohPIEjAQlyUtDgEC6QIOM/HkmvfxxiIQIECAQA8B39QedZYlAQIECBAgQIAAAQIECBAgQIAAAQJnBfSQz/qLTiBLwEBclrQ4BAikCzjMxJNr3scbi0CAAAECPQR8U3vUWZYECBAgQIAAAQIECBAgQIAAAQIECJwV0EM+6y86gSwBA3FZ0uIQIJAu4DATT655H28sAgECBAj0EPBN7VFnWRIgQIAAAQIECBAgQIAAAQIECBAgcFZAD/msv+gEsgQMxGVJi0OAQLqAw0w8ueZ9vLEIBAgQINBDwDe1R51lSYAAAQIECBAgQIAAAQIECBAgQIDAWQE95LP+ohPIEjAQlyUtDgEC6QIOM/HkmvfxxiIQIECAQA8B39QedZYlAQIECBAgQIAAAQIECBAgQIAAAQJnBfSQz/qLTiBLwEBclrQ4BAikCzjMxJNr3scbi0CAAAECPQR8U3vUWZYECBAgQIAAAQIECBAgQIAAAQIECJwV0EM+6y86gSwBA3FZ0uIQIJAu4DATT655H28sAgECBAj0EPBN7VFnWRIgQIAAAQIECBAgQIAAAQIECBAgcFZAD/msv+gEsgQMxGVJi0OAQLqAw0w8ueZ9vLEIBAgQINBDwDe1R51lSYAAAQIECBAgQIAAAQIECBAgQIDAWQE95LP+ohPIEjAQlyUtDgEC6QIOM/HkmvfxxiIQIECAQA8B39QedZYlAQIECBAgQIAAAQIECBAgQIAAAQJnBfSQz/qLTiBLwEBclrQ4BAikCzjMxJNr3scbi0CAAAECPQR8U3vUWZYECBAgQIAAAQIECBAgQIAAAQIECJwV0EM+6y86gSwBA3FZ0uIQIJAu4DATT655H28sAgECBAj0EPBN7VFnWRIgQIAAAQIECBAgQIAAAQIECBAgcFZAD/msv+gEsgQMxGVJi0OAQLqAw0w8ueZ9vLEIBAgQINBDwDe1R51lSYAAAQIECBAgQIAAAQIECBAgQIDAWQE95LP+ohPIEjAQlyUtDgEC6QIOM/HkmvfxxiIQIECAQA8B39QedZYlAQIECBAgQIAAAQIECBAgQIAAAQJnBfSQz/qLTiBLwEBclrQ4BAikCzjMxJNr3scbi0CAAAECfxeo8P35Vv3//u//GS5fhZxm8hlO3IUECBAgQIAAAQIECBAgQIAAAQIECBBIFNBDTsQWisBBAQNxB/GFJkAgVsBhJtb3u7vmfbyxCAQIECDwd4EK359v1TMDZBVymsnHviVAgAABAgQIECBAgAABAgQIECBAgMCNAnrIN1bFmgjsFzAQt9/UHQkQuETAYSa+EJr38cYiECBAgMDfBSp8f75VzwyQVchpJh/7lgABAgQIECBAgAABAgQIECBAgAABAjcK6CHfWBVrIrBfwEDcflN3JEDgEgGHmfhCaN7HG4tAgAABAn8XqPD9+VY9M0BWIaeZfOxbAgQIECBAgAABAgQIECBAgAABAgQI3Cigh3xjVayJwH4BA3H7Td2RAIFLBBxm4guheR9vLAIBAgQI/F2gwvfnW/XMAFmFnGbysW8JECBAgAABAgQIECBAgAABAgQIECBwo4Ae8o1VsSYC+wUMxO03dUcCBC4RcJiJL4TmfbyxCAQIECDwd4EK359v1TMDZBVymsnHviVAgAABAgQIECBAgAABAgQIECBAgMCNAnrIN1bFmgjsFzAQt9/UHQkQuETAYSa+EJr38cYiECBAgMDfBSp8f75VzwyQVchpJh/7lgABAgQIECBAgAABAgQIECBAgAABAjcK6CHfWBVrIrBfwEDcflN3JEDgEgGHmfhCaN7HG4tAgAABAn8XqPD9+VY9M0BWIaeZfOxbAgQIECBAgAABAgQIECBAgAABAgQI3Cigh3xjVayJwH4BA3H7Td2RAIFLBBxm4guheR9vLAIBAgQI/F2gwvfnW/XMAFmFnGbysW8JECBAgAABAgQIECBAgAABAgQIECBwo4Ae8o1VsSYC+wUMxO03dUcCBC4RcJiJL4TmfbyxCAQIECDwd4EK359v1TMDZBVymsnHviVAgAABAgQIECBAgAABAgQIECBAgMCNAnrIN1bFmgjsFzAQt9/UHQkQuETAYSa+EJr38cYiECBAgMDfBSp8f75VzwyQVchpJh/7lgABAgQIECBAgAABAgQIECBAgAABAjcK6CHfWBVrIrBfwEDcflN3JEDgEgGHmfhCaN7HG4tAgAABAn8XqPD9+VY9M0BWIaeZfOxbAgQIECBAgAABAgQIECBAgAABAgQI3Cigh3xjVayJwH4BA3H7Td2RAIFLBBxm4guheR9vLAIBAgQI/F2gwvfnW/XMAFmFnGbysW8JECBAgAABAgQIECBAgAABAgQIECBwo4Ae8o1VsSYC+wUMxO03dUcCBC4RcJiJL4TmfbyxCAQIECDwd4EK359v1TMDZBVymsnHviVAgAABAgQIECBAgAABAgQIECBAgMCNAnrIN1bFmgjsFzAQt9/UHQkQuETAYSa+EJr38cYiECBAgMDfBSp8f75VzwyQVchpJh/79m6BCvtt9hm6W9zqCBAgQIAAAQIECBAgQIAAAQIEbhHQQ76lEtZBIFbAQFysr7sTIHBQwGEmHr9CM1XzPn4fiECAAIFsgQrfn89k5htUIaeZfLL3hHhzAhX22+wzNCfgagIECBAgQIAAAQIECBAgQIAAga4CeshdKy/vbgIG4rpVXL4EGgk4zMQXu0IzVfM+fh+IQIAAgWyBCt+fz2TmG1Qhp5l8sveEeHMCFfbb7DM0J+BqAgQIECBAgAABAgQIECBAgACBrgJ6yF0rL+9uAgbiulVcvgQaCTjMxBe7QjNV8z5+H4hAgACBbIEK35/PZOYbVCGnmXyy94R4cwIV9tvsMzQn4GoCBAgQIECAAAECBAgQIECAAIGuAnrIXSsv724CBuK6VVy+BBoJOMzEF7tCM1XzPn4fiECAAIFsgQrfn89k5htUIaeZfLL3hHhzAhX22+wzNCfgagIECBAgQIAAAQIECBAgQIAAga4CeshdKy/vbgIG4rpVXL4EGgk4zMQXu0IzVfM+fh+IQIAAgWyBCt+fz2TmG1Qhp5l8sveEeHMCFfbb7DM0J+BqAgQIECBAgAABAgQIECBAgACBrgJ6yF0rL+9uAgbiulVcvgQaCTjMxBe7QjNV8z5+H4hAgACBbIEK35/PZOYbVCGnmXyy94R4cwIV9tvsMzQn4GoCBAgQIECAAAECBAgQIECAAIGuAnrIXSsv724CBuK6VVy+BBoJOMzEF7tCM1XzPn4fiECAAIFsgQrfn89k5htUIaeZfLL3hHhzAhX22+wzNCfgagIECBAgQIAAAQIECBAgQIAAga4CeshdKy/vbgIG4rpVXL4EGgk4zMQXu0IzVfM+fh+IQIAAgWyBCt+fz2TmG1Qhp5l8sveEeHMCFfbb7DM0J+BqAgQIECBAgAABAgQIECBAgACBrgJ6yF0rL+9uAgbiulVcvgQaCTjMxBe7QjNV8z5+H4hAgACBbIEK35/PZOYbVCGnmXyy94R4cwIV9tvsMzQn4GoCBAgQIECAAAECBAgQIECAAIGuAnrIXSsv724CBuK6VVy+BBoJOMzEF7tCM3Wmef9aPvE7QAQCBAicEajwvv5kfIPO7A9R/13gxWfo37N2BQECBAgQIECAAAECBAgQIECAAIH/+R89ZLuAQA8BA3E96ixLAi0FHGbiy16hmWoYIX4fiECAAIFsgQrfn8/ENyh7Z4g3KvDiMzSau+sIECBAgAABAgQIECBAgAABAgR6C+gh966/7PsIGIjrU2uZEmgn4DATX/IKzVTDCPH7QAQCBAhkC1T4/nwmvkHZO0O8UYEXn6HR3F1HgAABAgQIECBAgAABAgQIECDQW0APuXf9Zd9HwEBcn1rLlEA7AYeZ+JJXaKYaRojfByIQIEAgW6DC9+cz8Q3K3hnijQq8+AyN5u46AgQIECBAgAABAgQIECBAgACB3gJ6yL3rL/s+Agbi+tRapgTaCTjMxJe8QjPVMEL8PhCBAAEC2QIVvj+fiW9Q9s4Qb1TgxWdoNHfXESBAgAABAgQIECBAgAABAgQI9BbQQ+5df9n3ETAQ16fWMiXQTsBhJr7kFZqphhHi94EIBAgQyBao8P35THyDsneGeKMCLz5Do7m7jgABAgQIECBAgAABAgQIECBAoLeAHnLv+su+j4CBuD61limBdgIOM/Elr9BMNYwQvw9EIECAQLZAhe/PZ+IblL0zxBsVePEZGs3ddQQIECBAgAABAgQIECBAgAABAr0F9JB711/2fQQMxPWptUwJtBNwmIkveYVmqmGE+H0gAgECBLIFKnx/PhPfoOydId6owIvP0GjuriNAgAABAgQIECBAgAABAgQIEOgtoIfcu/6y7yNgIK5PrWVKoJ2Aw0x8ySs0Uw0jxO8DEQgQIJAtUOH785n4BmXvDPFGBV58hkZzdx0BAgQIECBAgAABAgQIECBAgEBvAT3k3vWXfR8BA3F9ai1TAu0EHGbiS16hmWoYIX4fiECAAIFsgQrfn8/ENyh7Z4g3KvDiMzSau+sIECBAgAABAgQIECBAgAABAgR6C+gh966/7PsIGIjrU2uZEmgn4DATX/IKzVTDCPH7QAQCBAhkC1T4/nwmvkHZO0O8UYEXn6HR3F1HgAABAgQIECBAgAABAgQIECDQW0APuXf9Zd9HwEBcn1rLlEA7AYeZ+JJXaKYaRojfByIQIEAgW6DC9+cz8Q3K3hnijQq8+AyN5u46AgQIECBAgAABAgQIECBAgACB3gJ6yL3rL/s+Agbi+tRapgTaCTjMxJe8QjPVMEL8PhCBAAEC2QIVvj+fiW9Q9s4Qb1TgxWdoNHfXESBAgAABAgQIECBAgAABAgQI9BbQQ+5df9n3ETAQ16fWMiXQTsBhJr7kFZqphhHi94EIBAgQyBao8P35THyDsneGeKMCLz5Do7m7jgABAgQIECBAgAABAgQIECBAoLeAHnLv+su+j4CBuD61limBdgIOM/Elr9BMNYwQvw9EIECAQLZAhe/PZ+IblL0zxBsVePEZGs3ddQQIECBAgAABAgQIECBAgAABAr0F9JB711/2fQQMxPWptUwJtBNwmIkveYVmqmGE+H0gAgECBLIFKnx/PhPfoOydId6owIvP0GjuriNAgAABAgQIECBAgAABAgQIEOgtoIfcu/6y7yNgIK5PrWVKoJ2Aw0x8ySs0Uw0jxO8DEQgQIJAtUOH785n4BmXvDPFGBV58hkZzdx0BAgQIECBAgAABAgQIECBAgEBvAT3k3vWXfR8BA3F9ai1TAu0EHGbiS16hmWoYIX4fiECAAIFsgQrfn8/ENyh7Z4g3KvDiMzSau+sIECBAgAABAgQIECBAgAABAgR6C+gh966/7PsIGIjrU2uZEmgn4DATX/IKzdTOwwiv1Sd+R4tAgEAVgQrvt8+y8zeoyl7qus4Xn6GutZQ3AQIECBAgQIAAAQIECBAgQIDAnIAe8pyXqwlUFTAQV7Vy1k2AwL8KOMz8K9HPF1RopnYeRnitPj9vWDcgQOAZgQrvtw+78zfomc32aCIvPkOPlkpaBAgQIECAAAECBAgQIECAAAECmwX0kDeDuh2BSwUMxF1aGMsiQOB3AYeZ3w3/7Q4VmqmdhxFeq8+/7Uf/ToBAH4EK77evGp2/QX12Y81MX3yGalbCqgkQIECAAAECBAgQIECAAAECBLIF9JCzxcUjcEbAQNwZd1EJEEgQcJiJR67QTO08jPBafeJ3tAgECFQRqPB++yw7f4Oq7KWu63zxGepaS3kTIECAAAECBAgQIECAAAECBAjMCeghz3m5mkBVAQNxVStn3QQI/KuAw8y/Ev18QYVmaudhhNfq8/OGdQMCBJ4RqPB++7A7f4Oe2WyPJvLiM/RoqaR1oYDn58KiWBIBAgQIECBAgAABAgQIEJgQaub+pgAAIABJREFU0EOewHIpgcICBuIKF8/SCRD4ZwGHmfgdUqEZ1HkY4bX6xO9oEQgQqCJQ4f32WXb+BlXZS13X+eIz1LWW8s4X8Pzkm4tIgAABAgQIECBAgAABAgR2Cugh79R0LwL3ChiIu7c2VkaAwI8CDjM/Ag78vEIzqPMwwmv1GdiSLiFAoIlAhffbV4rO36AmW7Fsmi8+Q2WLYeHlBDw/5UpmwQQIECBAgAABAgQIECBA4C8Cesg2BIEeAgbietRZlgRaCjjMxJe9QjOo8zDCa/WJ39EiECBQRaDC++2z7PwNqrKXuq7zxWeoay3lnS/g+ck3F5EAAQIECBAgQIAAAQIECOwU0EPeqeleBO4VMBB3b22sjACBHwUcZn4EHPh5hWZQ52GE1+ozsCVdQoBAE4EK77evFJ2/QU22Ytk0X3yGyhbDwssJeH7KlcyCCRAgQIAAAQIECBAgQIDAXwT0kG0IAj0EDMT1qLMsCbQUcJiJL3uFZlDnYYTX6hO/o0UgQKCKQIX322fZ+RtUZS91XeeLz1DXWso7X8Dzk28uIgECBAgQIECAAAECBAgQ2Cmgh7xT070I3CtgIO7e2lgZAQI/CjjM/Ag48PMKzaDOwwiv1WdgS7qEAIEmAhXeb18pOn+DmmzFsmm++AyVLYaFlxPw/JQrmQUTIECAAAECBAgQIECAAIG/COgh2xAEeggYiOtRZ1kSaCngMBNf9grNoM7DCK/VJ35Hi0CAQBWBCu+3z7LzN6jKXuq6zhefoa61lHe+gOcn31xEAgQIECBAgAABAgQIECCwU0APeaemexG4V8BA3L21sTICBH4UcJj5EXDg5xWaQZ2HEV6rz8CWdAkBAk0EKrzfvlJ0/gY12Ypl03zxGSpbDAsvJ+D5KVcyCyZAgAABAgQIECBAgAABAn8R0EO2IQj0EDAQ16POsiTQUsBhJr7sFZpBnYcRXqtP/I4WgQCBKgIV3m+fZedvUJW91HWdLz5DXWsp73wBz0++uYgECBAgQIAAAQIECBAgQGCngB7yTk33InCvgIG4e2tjZQQI/CjgMPMj4MDPKzSDOg8jvFafgS3pEgIEmghUeL99pej8DWqyFcum+eIzVLYYFl5OwPNTrmQWTIAAAQIECBAgQIAAAQIE/iKgh2xDEOghYCCuR51lSaClgMNMfNkrNIM6DyO8Vp/4HS0CAQJVBCq83z7Lzt+gKnup6zpffIa61lLe+QKen3xzEQkQIECAAAECBAgQIECAwE4BPeSdmu5F4F4BA3H31sbKCBD4UcBh5kfAgZ9XaAZ1HkZ4rT4DW9IlBAg0EajwfvtK0fkb1GQrlk3zxWeobDEsvJyA56dcySyYAAECBAgQIECAAAECBAj8RUAP2YYg0EPAQFyPOsuSQEsBh5n4sldoBnUeRnitPvE7WgQCBKoIVHi/fZadv0FV9lLXdb74DHWtpbzzBTw/+eYiEiBAgAABAgQIECBAgACBnQJ6yDs13YvAvQIG4u6tjZURIPCjgMPMj4ADP6/QDOo8jPBafQa2pEsIEGgiUOH99pWi8zeoyVYsm+aLz1DZYlh4OQHPT7mSWTABAgQIECBAgAABAgQIEPiLgB6yDUGgh4CBuB51liWBlgIOM/Flr9AM6jyM8Fp94ne0CAQIVBGo8H77LDt/g6rspa7rfPEZ6lpLeecLeH7yzUUkQIAAAQIECBAgQIAAAQI7BfSQd2q6F4F7BQzE3VsbKyNA4EcBh5kfAQd+XqEZ1HkY4bX6DGxJlxAg0ESgwvvtK0Xnb1CTrVg2zRefobLFsPByAp6fciWzYAIECBAgQIAAAQIECBAg8BcBPWQbgkAPAQNxPeosSwItBRxm4steoRnUeRjhtfrE72gRCBCoIlDh/fZZdv4GVdlLXdf54jPUtZbyzhfw/OSbi0iAAAECBAgQIECAAAECBHYK6CHv1HQvAvcKGIi7tzZWRoDAjwIOMz8CDvy8QjOo8zDCa/UZ2JIuIUCgiUCF99tXis7foCZbsWyaLz5DZYth4eUEPD/lSmbBBAgQIECAAAECBNIF/N2QTi4ggSkBPeQpLhcTKCtgIK5s6SycAIF/E3CY+Teh3/+9wh91nYcRXqvP7zvWHQgQeEWgwvvts+78DXplr72ax4vP0Ku1ktd9Ap6f+2piRQQIECBAgAABAgRuE/B3w20VsR4CfxXQQ7YjCPQQMBDXo86yJNBSwGEmvuwV/qjrPIzwWn3id7QIBAhUEajwfvssO3+Dquylrut88RnqWkt55wt4fvLNRSRAgAABAgQIECBQTcDfDdUqZr3dBPSQu1Vcvl0FDMR1rby8CTQQcJiJL3KFP+o6DyO8Vp/4HS0CAQJVBCq83z7Lzt+gKnup6zpffIa61lLe+QKen3xzEQkQIECAAAECBAhUE/B3Q7WKWW83AT3kbhWXb1cBA3FdKy9vAg0EHGbii1zhj7rOwwiv1Sd+R4tAgEAVgQrvt8+y8zeoyl7qus4Xn6GutZR3voDnJ99cRAIECBAgQIAAAQLVBPzdUK1i1ttNQA+5W8Xl21XAQFzXysubQAMBh5n4Ilf4o67zMMJr9Ynf0SIQIFBFoML77bPs/A2qspe6rvPFZ6hrLeWdL+D5yTcXkQABAgQIECBAgEA1AX83VKuY9XYT0EPuVnH5dhUwENe18vIm0EDAYSa+yBX+qOs8jPBafeJ3tAgECFQRqPB++yw7f4Oq7KWu63zxGepaS3nnC3h+8s1FJECAAAECBAgQIFBNwN8N1Spmvd0E9JC7VVy+XQUMxHWtvLwJNBBwmIkvcoU/6joPI7xWn/gdLQIBAlUEKrzfPsvO36Aqe6nrOl98hrrWskLer+231/KpsIeskQABAgQIECBAgEA1AX83VKuY9XYT0EPuVnH5dhUwENe18vIm0EDAYSa+yBX+qOs8jPBafeJ3tAgECFQRqPB++yw7f4Oq7KWu63zxGepaywp5v7bfXsunwh6yRgIECBAgQIAAAQLVBPzdUK1i1ttNQA+5W8Xl21XAQFzXysubQAMBh5n4Ilf4o67zMMJr9Ynf0SIQIFBFoML77bPs/A2qspe6rvPFZ6hrLSvk/dp+ey2fCnvIGgkQIECAAAECBAhUE/B3Q7WKWW83AT3kbhWXb1cBA3FdKy9vAg0EHGbii1zhj7rOwwiv1Sd+R4tAgEAVgQrvt8+y8zeoyl4aXWeFPffafpt9hkZr6bp8gQrPz8x+ey2f/B0hIgECBAgQIECAAIH3Bfzd8H6NZVhbQA+5dv2snsCogIG4USnXESBQTsBhJr5kFf6oe6053Dmf+B0tAgECVQQqfH9mhiu+ayvkNPMNqrKXRtf5Wn0q5DP7DI3W0nX5Aq/tt9fyyd8RIhIgQIAAAQIECBB4X8DfDe/XWIa1BfSQa9fP6gmMChiIG5VyHQEC5QQcZuJLVuGPupnmvXzi98yfEWbqk786EQkQuFWgwvv6s5t5x1XIaSafW/fO6rpeq0+FfGafodXa+l28wGv77bV84neACAQIECBAgAABAgT6Cfi7oV/NZVxLQA+5Vr2slsCqgIG4VTm/I0DgegGHmfgSVfijbqZ5L5/4PfNnhJn65K9OxM4CFd4HX326PkMv1qdCTl332/esvVafCvl0fse99v19bb+9ls9r+00+BAgQIECAAAECBG4Q8HfDDVWwBgL/u4Aest1BoIeAgbgedZYlgZYCDjPxZa/wR91M814+8Xvmzwgz9clfnYidBSq8DzoPi7xYnwo5dX5nv1afCvl0fse99v19bb+9ls9r+00+BAgQIECAAAECBG4Q8HfDDVWwBgIG4uwBAt0FDMR13wHyJ/CwgIG4+OJW+KNupnkvn/g9YyAu31jENYEK74POwyIv1qdCTjPf1LUn795fvVafCvl0fsfd+ySsrey1/fZaPmtV9SsCBAgQIECAAAECBP5JwN8N9geBuwX0kO+uj9UR2CVgIG6XpPsQIHCdgMNMfEkq/FE307yXT/ye+TPCTH3yVydiZ4EK74OvPl2foRfrUyGnrvvte9Zeq0+FfDq/4177/r62317L57X9Jh8CBAgQIECAAAECNwj4u+GGKlgDgf9dQA/Z7iDQQ8BAXI86y5JASwGHmfiyV/ijbqZ5L5/4PfNnhJn65K9OxM4CFd4HnYdFXqxPhZw6v7Nfq0+FfDq/4177/r62317L57X9Jh8CBAgQIECAAAECNwj4u+GGKlgDAQNx9gCB7gIG4rrvAPkTeFjAQFx8cSv8UTfTvJdP/J4xEJdvLOKaQIX3QedhkRfrUyEn39S190nWr16rT+d3XNaeyYpT4f02s99eyydrH4hDgAABAgQIECBAoJOAvxs6VVuuFQX0kCtWzZoJzAsYiJs38wsCBIoIOMzEF6rCH3WvNYc75xO/o0Ug8B+BCu+3meb9a7V9sT4Vcur8DVKfM2+RmT13ZoWijghUeH5mvqmv5TNSQ9cQIECAAAECBAgQIDAn4O+GOS9XE8gW0EPOFhePwBkBA3Fn3EUlQCBBwGEmHrnCH3UzjVT5xO+ZPyPM1Cd/dSJ2FqjwPvjq0/UZerE+FXKa2W/yyX+Dvlafzu+4/N0TG7HC+2Bmv72WT2z13Z0AAQIECBAgQIBATwF/N/Ssu6zrCOgh16mVlRL4RcBA3C96fkuAwNUCDjPx5anwR91rzeHO+cTvaBEI/Eegwvttpnn/Wm1frE+FnDp/g9TnzFtkZs+dWaGoIwIVnp+Zb+pr+YzU0DUECBAgQIAAAQIECMwJ+LthzsvVBLIF9JCzxcUjcEbAQNwZd1EJEEgQcJiJR67wR91MI1U+8Xvmzwgz9clfnYidBSq8D776dH2GXqxPhZxm9pt88t+gr9Wn8zsuf/fERqzwPpjZb6/lE1t9dydAgAABAgQIECDQU8DfDT3rLus6AnrIdWplpQR+ETAQ94ue3xIgcLWAw0x8eSr8Ufdac7hzPvE7WgQC/xGo8H6bad6/VtsX61Mhp87fIPU58xaZ2XNnVijqiECF52fmm/paPiM1dA0BAgQIECBAgAABAnMC/m6Y83I1gWwBPeRscfEInBEwEHfGXVQCBBIEHGbikSv8UTfTSJVP/J75M8JMffJXJ2JngQrvg68+XZ+hF+tTIaeZ/Saf/Dfoa/Xp/I7L3z2xESu8D2b222v5xFbf3QkQIECAAAECBAj0FPB3Q8+6y7qOgB5ynVpZKYFfBAzE/aLntwQIXC3gMBNfngp/1L3WHO6cT/yOFoHAfwQqvN9mmvev1fbF+lTIqfM3SH3OvEVm9tyZFYo6IlDh+Zn5pr6Wz0gNXUOAAAECBAgQIECAwJyAvxvmvFxNIFtADzlbXDwCZwQMxJ1xF5UAgQQBh5l45Ap/1M00UuUTv2f+jDBTn/zVidhZoML74KtP12foxfpUyGlmv8kn/w36Wn06v+Pyd09sxArvg5n99lo+sdV3dwIECBAgQIAAAQI9Bfzd0LPusq4joIdcp1ZWSuAXAQNxv+j5LQECVws4zMSXp8Ifda81hzvnE7+jRSDwH4EK77eZ5v1rtX2xPhVy6vwNUp8zb5GZPXdmhaKOCFR4fma+qa/lM1JD1xAgQIAAAQIECBAgMCfg74Y5L1cTyBbQQ84WF4/AGQEDcWfcRSVAIEHAYSYeucIfdTONVPnE75k/I8zUJ391InYWqPA++OrT9Rl6sT4VcprZb/LJf4O+Vp/O77j83RMbscL7YGa/vZZPbPXdnQABAgQIECBAgEBPAX839Ky7rOsI6CHXqZWVEvhFwEDcL3p+S4DA1QIOM/HlqfBH3WvN4c75xO9oEQj8R6DC+22mef9abV+sT4WcOn+D1OfMW2Rmz51ZoagjAhWen5lv6mv5jNTQNQQIECBAgAABAgQIzAn4u2HOy9UEsgX0kLPFxSNwRsBA3Bl3UQkQSBBwmIlHrvBH3UwjVT7xe+bPCDP1yV+diDMCFZ6fL5/RPfdaPjO1rHDti/WpkNPo8/PtIfnkP0mv1WfmnZ2vLeKMQIX3wcx+ey2fmVq6lgABAgQIECBAgACBMQF/N4w5uYrAKQE95FPy4hLIFTAQl+stGgECiQIOM/HYFf6oe6053Dmf+B0twi8CFd4Hmt2/VPiu37623z7dCjl1/gapz5l3wMyeO7NCUUcEKjw/zggjlXQNAQIECBAgQIAAAQKjAq/9HTSat+sIVBHQQ65SKesk8JuAgbjf/PyaAIGLBRxm4otT4Y+6mUaqfOL3zJ8RZuqTvzoRZwQqPD9fPqN77rV8ZmpZ4doX61Mhp9Hn59tD8sl/kl6rz8w7O19bxBmBCu+Dmf0mn5nq77t25h23L6o7ESBAgAABAgQIEFgTeO3vhjUFvyJwr4Ae8r21sTICOwUMxO3UdC8CBK4ScJiJL0eFP+pmGifyid8zf0aYqU/+6kScEajw/Hz5jO651/KZqWWFa1+sT4WcRp+fbw/JJ/9Jeq0+M+/sfG0RZwQqvA9m9pt8Zqq/79qZd9y+qO5EgAABAgQIECBAYE3gtb8b1hT8isC9AnrI99bGygjsFDAQt1PTvQgQuErAYSa+HBX+qJtpnMgnfs/8GWGmPvmrE3FGoMLz8+Uzuudey2emlhWufbE+FXIafX6+PSSf/CfptfrMvLPztUWcEajwPpjZb/KZqf6+a2fecfuiuhMBAgQIECBAgACBNYHX/m5YU/ArAvcK6CHfWxsrI7BTwEDcTk33IkDgKgGHmfhyVPijbqZxIp/4PfNnhJn65K9OxBmBCs/Pl8/onnstn5laVrj2xfpUyGn0+fn2kHzyn6TX6jPzzs7XFnFGoML7YGa/yWem+vuunXnH7YvqTgQIECBAgAABAgTWBF77u2FNwa8I3Cugh3xvbayMwE4BA3E7Nd2LAIGrBBxm4stR4Y+6mcaJfOL3zJ8RZuqTvzoRZwQqPD9fPqN77rV8ZmpZ4doX61Mhp9Hn59tD8sl/kl6rz8w7O19bxBmBCu+Dmf0mn5nq77t25h23L6o7ESBAgAABAgQIEFgTeO3vhjUFvyJwr4Ae8r21sTICOwUMxO3UdC8CBK4ScJiJL0eFP+pmGifyid8zf0aYqU/+6kScEajw/Hz5jO651/KZqWWFa1+sT4WcRp+fbw/JJ/9Jeq0+M+/sfG0RZwQqvA9m9pt8Zqq/79qZd9y+qO5EgAABAgTGBV47I4xn7koCBP6bgHeCfUHgbgE95LvrY3UEdgkYiNsl6T4ECFwn4DATX5IKf9TNNE7kE79n/owwU5/81Yk4I1Dh+fnyGd1zr+UzU8sK175Ynwo5jT4/3x6ST/6T9Fp9Zt7Z+doizghUeB/M7Df5zFR/37Uz77h9Ud2JAAECBAiMC7x2RhjP3JUECPw3Ae8E+4LA3QJ6yHfXx+oI7BIwELdL0n0IELhOwGEmviQV/qibaZzIJ37P/Blhpj75qxNxRqDC8/PlM7rnXstnppYVrn2xPhVyGn1+vj0kn/wn6bX6zLyz87VFnBGo8D6Y2W/yman+vmtn3nH7oroTAQIECBAYF3jtjDCeuSsJEPhvAt4J9gWBuwX0kO+uj9UR2CVgIG6XpPsQIHCdgMNMfEkq/FE30ziRT/ye+TPCTH3yVyfijECF5+fLZ3TPvZbPTC0rXPtifSrkNPr8fHtIPvlP0mv1mXln52uLOCNQ4X0ws9/kM1P9fdfOvOP2RXUnAgQIECAwLvDaGWE8c1cSIPDfBLwT7AsCdwvoId9dH6sjsEvAQNwuSfchQOA6AYeZ+JJU+KNupnEin/g982eEmfrkr07EGYEKz8+Xz+ieey2fmVpWuPbF+lTIafT5+faQfPKfpNfqM/POztcWcUagwvtgZr/JZ6b6+66decfti+pOEQIVniH7LaLy7kngfYEK77eZM8/7FZMhgVgB74RYX3cn8KuAHvKvgn5PoIaAgbgadbJKAgQWBBxmFtAmf1Lhj7qZ/8iWz+QG2HD5TH02hHOLQIEKz8/Mf/y+lk9g6Y/c+sX6VMhp5p0tn/xH47X6zLyz87VFnBGo8D6Y2W/yman+vmtn3nH7orpThECFZ8h+i6i8exJ4X6DC+23mzPN+xWRIIFbAOyHW190J/Cqgh/yroN8TqCFgIK5GnaySAIEFAYeZBbTJn1T4o27mP7LlM7kBNlw+U58N4dwiUKDC8zPzH7+v5RNY+iO3frE+FXKaeWfLJ//ReK0+M+/sfG0RZwQqvA9m9pt8Zqq/79qZd9y+qO4UIVDhGbLfIirvngTeF6jwfps587xfMRkSiBXwToj1dXcCvwroIf8q6PcEaggYiKtRJ6skQGBBwGFmAW3yJxX+qJv5j2z5TG6ADZfP1GdDOLcIFKjw/Mz8x+9r+QSW/sitX6xPhZxm3tnyyX80XqvPzDs7X1vEGYEK74OZ/Safmervu3bmHbcvqjtFCFR4huy3iMq7J4H3BSq832bOPO9XTIYEYgW8E2J93Z3ArwJ6yL8K+j2BGgIG4mrUySoJEFgQcJhZQJv8SYU/6mb+I1s+kxtgw+Uz9dkQzi0CBSo8PzP/8ftaPoGlP3LrF+tTIaeZd7Z88h+N1+oz887O1xZxRqDC+2Bmv8lnpvr7rp15x+2L6k4RAhWeIfstovLuSeB9gQrvt5kzz/sVkyGBWAHvhFhfdyfwq4Ae8q+Cfk+ghoCBuBp1skoCBBYEHGYW0CZ/UuGPupn/yJbP5AbYcPlMfTaEc4tAgQrPz8x//L6WT2Dpj9z6xfpUyGnmnS2f/EfjtfrMvLPztUWcEajwPpjZb/KZqf6+a2fecfuiulOEQIVnyH6LqLx7EnhfoML7bebM837FZEggVsA7IdbX3Qn8KqCH/Kug3xOoIWAgrkadrJIAgQUBh5kFtMmfVPijbuY/suUzuQE2XD5Tnw3h3CJQoMLzM/Mfv6/lE1j6I7d+sT4Vcpp5Z8sn/9F4rT4z7+x8bRFnBCq8D2b2m3xmqr/v2pl33L6o7hQhUOEZst8iKu+eBN4XqPB+mznzvF8xGRKIFfBOiPV1dwK/Cugh/yro9wRqCBiIq1EnqyRAYEHAYWYBbfInFf6om/mPbPlMboANl8/UZ0M4twgUqPD8zPzH72v5BJb+yK1frE+FnGbe2fLJfzReq8/MOztfW8QZgQrvg5n9Jp+Z6u+7duYdty+qO0UIVHiG7LeIyrsngfcFKrzfZs4871dMhgRiBbwTYn3dncCvAnrIvwr6PYEaAgbiatTJKgkQWBBwmFlAm/xJhT/qZv4jWz6TG2DD5TP12RDOLQIFKjw/M//x+1o+gaU/cusX61Mhp5l3tnzyH43X6jPzzs7XFnFGoML7YGa/yWem+vuunXnH7YvqThECFZ4h+y2i8u65Q6DC8zPzTd1hctM91OemalgLgfMC3gnna2AFBP5JQA/Z/iDQQ8BAXI86y5JASwGHmfiyV/ijbuY/suUTv2f+jDBTn/zViTgjUOH5mfmP+dfymallhWtfrE+FnGbe2fLJf5Jeq8/MOztfW8QZgQrvg5n9Jp+Z6u+7duYdty+qO0UIVHiG7LeIyrvnDoEKz8/MN3WHyU33UJ+bqmEtBM4LeCecr4EVEPgnAT1k+4NADwEDcT3qLEsCLQUcZuLLXuGPupn/yJZP/J75M8JMffJXJ+KMQIXnZ+Y/5l/LZ6aWFa59sT4Vcpp5Z8sn/0l6rT4z7+x8bRFnBCq8D2b2m3xmqr/v2pl33L6o7hQhUOEZst8iKu+eOwQqPD8z39QdJjfdQ31uqoa1EDgv4J1wvgZWQOCfBPSQ7Q8CPQQMxPWosywJtBRwmIkve4U/6mb+I1s+8Xvmzwgz9clfnYgzAhWen5n/mH8tn5laVrj2xfpUyGnmnS2f/CfptfrMvLPztUWcEajwPpjZb/KZqf6+a2fecfuiulOEQIVnyH6LqLx77hCo8PzMfFN3mNx0D/W5qRrWQuC8gHfC+RpYAYF/EtBDtj8I9BAwENejzrIk0FLAYSa+7BX+qJv5j2z5xO+ZPyPM1Cd/dbERK+y3mf/Ilk/sfvnf7t71GXptv331rZDTzH6TT/474bX6zHyD8rVFnBGo8D6Y2W/yman+vmtn3nH7orpThECFZ8h+i6i8e+4QqPD8zHxTd5jcdA/1uaka1kLgvIB3wvkaWAGBfxLQQ7Y/CPQQMBDXo86yJNBSwGEmvuwV/qib+Y9s+cTvmT8jzNQnf3WxESvst5n/yJZP7H753+7e9Rl6bb999a2Q08x+k0/+O+G1+sx8g/K1RZwRqPA+mNlv8pmp/r5rZ95x+6K6U4RAhWfIfouovHvuEKjw/Mx8U3eY3HQP9bmpGtZSUeC1Z+i1fP4/e2cCdv821v3f4Rgyj5llOCGRg1KGXopISVERJXSQMRUylSQypURJJbNIpghNpEKRQplnhwwlQ8ZjfK/vPtfv32OfvZ993/tZ91q/e63Pvi7X+3b+a697rc/3u+41Ps+T0VO0GQKHEeAOGX9AYAwCPIgbQ2d6CYEhCbCYiZc9w6bOc5BNf+I9sx7Bo0/91sVGzOA3z0E2/Yn1y7baRx1DvflN+mbok8dv9Kd+TuhNH88cVJ82ET0EMuQDj9/oj0f9cmU9Oa5cVGqKIJBhDOG3COWpswSBDOPHM6eWYLKkOtBnSWrQlowEehtDvfUno6doMwQOI8AdMv6AwBgEeBA3hs70EgJDEmAxEy97hk2d5yCb/sR7Zj2CR5/6rYuNmMFvnoNs+hPrl221jzqGevOb9M3QJ4/f6E/9nNCbPp45qD5tInoIZMgHHr/RH4/65cp6cly5qNQUQSDDGMJvEcpTZwkCGcaPZ04twWRJdaDPktSgLRkJ9DaGeutPRk/RZggcRoA7ZPwBgTEI8CBuDJ3pJQSGJMBiJl72DJs6z0E2/Yn3zHoEjz71WxcbMYPfPAfZ9CfWL9tqH3UM9eY36ZuhTx6/0Z/6OaE3fTxzUH3aRPQQyJAPPH6jPx71y5X15LhyUalhHV6jAAAgAElEQVQpgkCGMYTfIpSnzhIEMowfz5xagsmS6kCfJalBWzIS6G0M9dafjJ6izRA4jAB3yPgDAmMQ4EHcGDrTSwgMSYDFTLzsGTZ1noNs+hPvmfUIHn3qty42Yga/eQ6y6U+sX7bVPuoY6s1v0jdDnzx+oz/1c0Jv+ow8B9V3T2zEDPlgZL/1pk+sm6m9BIEMnvPMqSWYUAcErAQyjB/PnGrtd5Zy6JNFKdq5VAK9jaHe+rNU39AuCOxLgDvkfcnxPQjkIsCDuFx60VoIQMBBgMWMA9aeRTNs6jwH2fRnTyMc4WsefY4QZpFfzeA3z0E2/Wljs1HHUG9+k3sy9MnjN/pTPyf0ps/Ic1B998RGzJAPRvZbb/rEupnaSxDI4DnPnFqCCXVAwEogw/jxzKnWfmcphz5ZlKKdSyXQ2xjqrT9L9Q3tgsC+BLhD3pcc34NALgI8iMulF62FAAQcBFjMOGDtWTTDps5zkE1/9jTCEb7m0ecIYRb51Qx+8xxk0582Nht1DPXmN7knQ588fqM/9XNCb/qMPAfVd09sxAz5YGS/9aZPrJupvQSBDJ7zzKklmFAHBKwEMowfz5xq7XeWcuiTRSnauVQCvY2h3vqzVN/QLgjsS4A75H3J8T0I5CLAg7hcetFaCEDAQYDFjAPWnkUzbOo8B9n0Z08jHOFrHn2OEGaRX83gN89BNv1pY7NRx1BvfpN7MvTJ4zf6Uz8n9KbPyHNQfffERsyQD0b2W2/6xLqZ2ksQyOA5z5xaggl1QMBKIMP48cyp1n5nKdejPhn6RM7OMkJ2tzOD3zw5rrf+7FaQEhDIRYA75Fx60VoI7EuAB3H7kuN7EIDA4gmwmImXKMOmznMoQn/iPbMewaNP/dbFRszgt5EPeXrTJ9bN9WvvUZ8MffLkbPpTf1z0ps/Ic1B998RGzJAPRvZbb/rEupnaSxDI4DnPnFqCCXVAwEogw/jxzKnWfmcp16M+GfpEzs4yQna3M4PfPDmut/7sVpASEMhFgDvkXHrRWgjsS4AHcfuS43sQgMDiCbCYiZcow6bOcyhCf+I9sx7Bo0/91sVGzOC3kQ95etMn1s31a+9Rnwx98uRs+lN/XPSmz8hzUH33xEbMkA9G9ltv+sS6mdpLEMjgOc+cWoIJdUDASiDD+PHMqdZ+ZynXoz4Z+kTOzjJCdrczg988OY7+7NY8ogQ5IYJqn3Vyh9ynrvQKAusEeBCHJyAAgW4JsJiJlzbDps6zAaI/8Z5Zj+DRp37rYiNm8BuHPLEeKFH7qGOot/EjL2Tok8dv9KfECPfV0Zs+I89BPuWXXzpDPhjZb73ps/wRQQszeM4zp6IoBGoSyDB+PHNqTXY1YvWoT4Y+kbNruLtOjAx+8+Q4+lPHN9w3tOHcQ1TukHtQkT5AYDcBHsTtZkQJCEAgKQEWM/HCZdjUeQ5F6E+8Z9ig/h+BDH7jkKf+mPBG9OQ4b91LLt/b+BHrDH3y+I3+1B9Bvekz8hxU3z2xETPkg5H91ps+sW6m9hIEMnjOM6eWYEIdELASyDB+PHOqtd9ZyvWoT4Y+kbOzjJDd7czgN0+Ooz+7NY8oQU6IoNpnndwh96krvYLAOgEexOEJCECgWwIsZuKlzbCp82yA6E+8Z9YjePSp37rYiBn8xiFPrAdK1D7qGOpt/MgLGfrk8Rv9KTHCfXX0ps/Ic5BP+eWXzpAPRvZbb/osf0TQwgye88ypKAqBmgQyjB/PnFqTXY1YPeqToU/k7BrurhMjg988OY7+1PEN9w1tOPcQlTvkHlSkDxDYTYAHcbsZUQICEEhKgMVMvHAZNnWeQxH6E+8ZNqj/RyCD3zjkqT8mvBE9Oc5b95LL9zZ+xDpDnzx+oz/1R1Bv+ow8B9V3T2zEDPlgZL/1pk+sm6m9BIEMnvPMqSWYUAcErAQyjB/PnGrtd5ZyPeqToU/k7CwjZHc7M/jNk+Poz27NI0qQEyKo9lknd8h96kqvILBOgAdxeAICEOiWAIuZeGkzbOo8GyD6E++Z9Qgefeq3LjZiBr9xyBPrgRK1jzqGehs/8kKGPnn8Rn9KjHBfHb3pM/Ic5FN++aUz5IOR/dabPssfEbQwg+c8cyqKQqAmgQzjxzOn1mRXI1aP+mToEzm7hrvrxMjgN0+Ooz91fMN9QxvOPUTlDrkHFekDBHYT4EHcbkaUgAAEkhJgMRMvXIZNnedQhP7Ee4YN6v8RyOA3DnnqjwlvRE+O89a95PK9jR+xztAnj9/oT/0R1Js+I89B9d0TGzFDPhjZb73pE+tmai9BIIPnPHNqCSbUAQErgQzjxzOnWvudpVyP+mToEzk7ywjZ3c4MfvPkOPqzW/OIEuSECKp91skdcp+60isIrBPgQRyegAAEuiXAYiZe2gybOs8GiP7Ee2Y9gkef+q2LjZjBbxzyxHqgRO2jjqHexo+8kKFPHr/RnxIj3FdHb/qMPAf5lF9+6Qz5YGS/9abP8kcELczgOc+ciqIQqEkgw/jxzKk12dWI1aM+GfpEzq7h7joxMvjNk+PoTx3fcN/QhnMPUblD7kFF+gCB3QR4ELebESUgAIGkBFjMxAuXYVPnORShP/GeYYP6fwQy+I1DnvpjwhvRk+O8dS+5fG/jR6wz9MnjN/pTfwT1ps/Ic1B998RGzJAPRvZbb/rEupnaSxDI4DnPnFqCCXXEEcjgt5HnoDjl29Tcm9963Ke2cQZRrQR6G0P0x6p82XKs48ry7Lk27pB7Vpe+QeD/CPAgDjdAAALdEmAxEy9thk2dZwNEf+I9sx7Bo0/91sVGzOC3kQ/me9Mn1s31a+9Rnwx98uRs+lN/XPSmz8hzUH33xEbMkA9G9ltv+sS6mdpLEMjgOc+cWoIJdcQRyOC3keegOOXb1Nyb30QxQ5/I2W38HhE1g99Gztm96RPhYerMRYA75Fx60VoI7EuAB3H7kuN7EIDA4gmwmImXKMMmyHMoQn/iPbMewaNP/dbFRszgNw55Yj1QonbrGMJvJWj767Dq0+NFQwbPoY/f07W/YdUog988c2ptztHxetOH/kQ7ZnP91nzQpnVE9RDIMIbwm0fRZZfN4DfPGqG3/izbPf7W9ahPhj6Rs/1eXeo3Mvht5Jzdmz5LHQe0qx4B7pDrsSYSBFoS4EFcS/rEhgAEQgmwmAnFu6o8wybIcyhCf+I9sx7Bo0/91sVGzOA3DnliPVCidusYwm8laPvrsOrDnOpnW+Ib6FOCYmwdVo16y3GxVOvX3ps+9Ke+hzxr0jatI6qHQIYxZJ1/PP2mbBsCGfzmyXG99aeNK+Ki9qhPhj6Rs+M8XbvmDH4bOWf3pk9tfxNveQS4Q16eJrQIAhEEeBAXQZU6IQCBRRBgMRMvQ4ZNkOdQhP7Ee2Y9gkef+q2LjZjBbxzyxHqgRO3WMYTfStD212HVRzVn0Ij++D1Q8xu96TPyHFTTNzViZchvI/utN31qeJoYRyOQwXOeOfVoNPh2NIEMfht5DorWv3b9vfmtx31qbU8Qz0egtzFEf3z6lyrNOq4Uyf7r4Q65f43pIQREgAdx+AACEOiWAIuZeGkzbOo8GyD6E++Z9Qgefeq3LjZiBr+NfDCPPrH+31a7NSf0pk+PFw0ZNLL6DX3a5IOR56B2xGMiZ8gHI/utN31iXEytJQlk8JxnjVCSDXWVJ5DBbyPPQeUVb1tjb37rcR/U1iFE30WgtzFEf3YpHvPvrONiuPZYK3fIPapKnyBwWgI8iMMVEIBAtwRYzMRLm2FT59kA0Z94z6xH8OhTv3WxETP4beSDefSJ9f+22q05oTd9erxoyKCR1W/o0yYfjDwHtSMeEzlDPhjZb73pE+Niai1JIIPnPGuEkmyoqzyBDH4beQ4qr3jbGnvzW4/7oLYOIfouAr2NIfqzS/GYf2cdF8O1x1q5Q+5RVfoEgdMS4EEcroAABLolwGImXtoMmzrPBoj+xHtmPYJHn/qti42YwW8jH8yjT6z/t9VuzQm96dPjRUMGjax+Q582+WDkOagd8ZjIGfLByH7rTZ8YF1NrSQIZPOdZI5RkQ13lCWTw28hzUHnF29bYm9963Ae1dQjRdxHobQzRn12Kx/w767gYrj3Wyh1yj6rSJwiclgAP4nAFBCDQLQEWM/HSZtjUeTZA9CfeM+sRPPrUb11sxAx+G/lgHn1i/b+tdmtO6E2fHi8aMmhk9Rv6tMkHI89B7YjHRM6QD0b2W2/6xLiYWksSyOA5zxqhJBvqKk8gg99GnoPKK962xt781uM+qK1DiL6LQG9jiP7sUjzm31nHxXDtsVbukHtUlT5B4LQEeBCHKyAAgW4JsJiJlzbDps6zAaI/8Z5Zj+DRp37rYiNm8NvIB/PoE+v/bbVbc0Jv+vR40ZBBI6vf0KdNPhh5DmpHPCZyhnwwst960yfGxdRakkAGz3nWCCXZUFd5Ahn8NvIcVF7xtjX25rce90FtHUL0XQR6G0P0Z5fiMf/OOi6Ga4+1cofco6r0CQKnJcCDOFwBAQh0S4DFTLy0GTZ1ng0Q/Yn3zHoEjz71WxcbMYPfRj6YR59Y/2+r3ZoTetOnx4uGDBpZ/YY+bfLByHNQO+IxkTPkg5H91ps+MS6m1pIEMnjOs0YoyYa6yhPI4LeR56DyiretsTe/9bgPausQou8i0NsYoj+7FI/5d9ZxMVx7rJU75B5VpU8QOC0BHsThCghAoFsCLGbipc2wqfNsgOhPvGfWI3j0qd+62IgZ/DbywTz6xPp/W+3WnNCbPj1eNGTQyOo39GmTD0aeg9oRj4mcIR+M7Lfe9IlxMbWWJJDBc541Qkk21FWeQAa/jTwHlVe8bY29+a3HfVBbhxB9F4HexhD92aV4zL+zjovh2mOt3CH3qCp9gsBpCfAgDldAAALdEmAxEy9thk2dZwNEf+I9sx7Bo0/91sVGzOC3kQ/m0SfW/9tqt+aE3vTp8aIhg0ZWv6FPm3ww8hzUjnhM5Az5YGS/9aZPjIuptSSBDJ7zrBFKsllCXRn0IWcvwSmHt2HUMdTb+OlxH7T80TN2C3sbQ/SnjZ9HnYPa0M4dlTvk3PrReghYCfAgzkqKchCAQDoCLGbiJcuwqfNsgOhPvGfWI3j0qd+62IgZ/MZFQ6wHStRuHUP4rQRtfx1WfXq8aMjgOfTxe7r2N6waZfCbZ06tzTk6Xm/60J9ox2yu35oP2rSOqB4CGcbQyH7LoI9nTqU/ntFZruyoY6g3v/W4Ty3ncmqKINDbGKI/ES7ZXeeoc9BuMpRYJ8AdMp6AwBgEeBA3hs70EgJDEmAxEy97hk2dZwNEf+I9sx7Bo0/91sVGzOA3LhpiPVCidusYwm8laPvrsOrT40VDBs+hj9/Ttb9h1SiD3zxzam3O0fF604f+RDtmc/3WfNCmdUT1EMgwhkb2WwZ9PHMq/fGMznJlRx1Dvfmtx31qOZdTUwSB3sYQ/Ylwye46R52DdpOhxDoB7pDxBATGIMCDuDF0ppcQGJIAi5l42TNs6jwbIPoT75n1CB596rcuNmIGv3HREOuBErVbxxB+K0HbX4dVnx4vGjJ4Dn38nq79DatGGfzmmVNrc46O15s+9CfaMZvrt+aDNq0jqodAhjE0st8y6OOZU+mPZ3SWKzvqGOrNbz3uU8u5nJoiCPQ2huhPhEt212mdg3rTZzcZSqwT4A4ZT0BgDAI8iBtDZ3oJgSEJsJiJlz3DpsG6AerxkKc3feIdXTdCBn24aKjriX2iWXMcftuH7tG/Y9WHOejorPepAX32oVb3O1aNestxdSnHR+tNH/oT75lNEaz5oE3riOohkGEMjey3DPqwT/WMuDZlRx1DvY2fHvepbUYEUa0EehtD9MeqfNly1jmoN33KUhyjNu6Qx9CZXkKAB3F4AAIQ6JYAi5l4aTNsGqwboB4PeXrTJ97RdSNk0IeLhrqe2CeaNcfht33oHv07Vn2Yg47Oep8a0GcfanW/Y9WotxxXl3J8tN70oT/xntkUwZoP2rSOqB4CGcbQyH7LoA/7VM+Ia1N21DHU2/jpcZ/aZkQQ1UqgtzFEf6zKly1nnYN606csxTFq4w55DJ3pJQR4EIcHIACBbgmwmImXNsOmwboB6vGQpzd94h1dN0IGfbhoqOuJfaJZcxx+24fu0b9j1Yc56Ois96kBffahVvc7Vo16y3F1KcdH600f+hPvmU0RrPmgTeuI6iGQYQyN7LcM+rBP9Yy4NmVHHUO9jZ8e96ltRgRRrQR6G0P0x6p82XLWOag3fcpSHKM27pDH0JleQoAHcXgAAhDolgCLmXhpM2warBugHg95etMn3tF1I2TQh4uGup7YJ5o1x+G3fege/TtWfZiDjs56nxrQZx9qdb9j1YgcV1eXORr6tOFujTqqPj3OqVbNs5TLkLOt4ycLc087M+jDPtWjaJuyo46h3sYPc2qb8TNy1N7GEP1p42brHNSbPm1o547KHXJu/Wg9BKwEeBBnJUU5CEAgHQEWM/GSZdg0WDdAPR7y9KZPvKPrRsigDxcNdT2xTzRrjsNv+9A9+nes+jAHHZ31PjWgzz7U6n7HqhE5rq4uczT0acPdGnVUfXqcU62aZymXIWdbx08W5p52ZtCHfapH0TZlRx1DvY0f5tQ242fkqL2NIfrTxs3WOag3fdrQzh2VO+Tc+tF6CFgJ8CDOSopyEIBAOgIsZuIly7BpsG6Aejzk6U2feEfXjZBBHy4a6npin2jWHIff9qF79O9Y9WEOOjrrfWpAn32o1f2OVSNyXF1d5mjo04a7Neqo+vQ4p1o1z1IuQ862jp8szD3tzKAP+1SPom3KjjqGehs/zKltxs/IUXsbQ/SnjZutc1Bv+rShnTsqd8i59aP1ELAS4EGclRTlIACBdARYzMRLlmHTYN0A9XjI05s+8Y6uGyGDPlw01PXEPtGsOQ6/7UP36N+x6sMcdHTW+9SAPvtQq/sdq0bkuLq6zNHQpw13a9RR9elxTrVqnqVchpxtHT9ZmHvamUEf9qkeRduUHXUM9TZ+mFPbjJ+Ro/Y2huhPGzdb56De9GlDO3dU7pBz60frIWAlwIM4KynKQQAC6QiwmImXLMOmwboB6vGQpzd94h1dN0IGfbhoqOuJfaJZcxx+24fu0b9j1Yc56Ois96kBffahVvc7Vo3IcXV1maOhTxvu1qij6tPjnGrVPEu5DDnbOn6yMPe0M4M+7FM9irYpO+oY6m38MKe2GT8jR+1tDNGfNm62zkG96dOGdu6o3CHn1o/WQ8BKgAdxVlKUgwAE0hFgMRMvWYZNg3UD1OMhT2/6xDu6boQM+nDRUNcT+0Sz5jj8tg/do3/Hqg9z0NFZ71MD+uxDre53rBqR4+rqMkdDnzbcrVFH1afHOdWqeZZyGXK2dfxkYe5pZwZ92Kd6FG1TdtQx1Nv4YU5tM35GjtrbGKI/bdxsnYN606cN7dxRuUPOrR+th4CVAA/irKQoBwEIpCPAYiZesgybBusGqMdDnt70iXd03QgZ9OGioa4n9olmzXH4bR+6R/+OVR/moKOz3qcG9NmHWt3vWDUix9XVZY6GPm24W6OOqk+Pc6pV8yzlMuRs6/jJwtzTzgz6sE/1KNqm7KhjqLfxw5zaZvyMHLW3MUR/2rjZOgf1pk8b2rmjcoecWz9aDwErAR7EWUlRDgIQSEeAxUy8ZBk2DdYNUI+HPL3pE+/ouhEy6MNFQ11P7BPNmuPw2z50j/4dqz7MQUdnvU8N6LMPtbrfsWpEjquryxwNfdpwt0YdVZ8e51Sr5lnKZcjZ1vGThbmnnRn0YZ/qUbRN2VHHUG/jhzm1zfgZOWpvY4j+tHGzdQ7qTZ82tHNH5Q45t360HgJWAjyIs5KiHAQgkI4Ai5l4yTJsGqwboB4PeXrTJ97RdSNk0IeLhrqe2CeaNcfht33oHv07Vn2Yg47Oep8a0GcfanW/Y9WIHFdXlzka+rThbo06qj49zqlWzbOUy5CzreMnC3NPOzPowz7Vo2ibsqOOod7GD3Nqm/EzctTexhD9aeNm6xzUmz5taOeOyh1ybv1oPQSsBHgQZyVFOQhAIB0BFjPxkmXYNFg3QD0e8vSmT7yj60bIoA8XDXU9sU80a47Db/vQPfp3rPowBx2d9T41oM8+1Op+x6oROa6uLnM09GnD3Rp1VH16nFOtmmcplyFnW8dPFuaedmbQh32qR9E2ZUcdQ72NH+bUNuNn5Ki9jSH608bN1jmoN33a0M4dlTvk3PrReghYCfAgzkqKchCAQDoCLGbiJcuwabBugHo85OlNn3hH142QQR8uGup6Yp9o1hyH3/ahe/TvWPVhDjo6631qQJ99qNX9jlUjclxdXeZo6NOGuzXqqPr0OKdaNc9SLkPOto6fLMw97cygD/tUj6Jtyo46hnobP8ypbcaPJ2oGz3nyQYb+MAd5HNqmrNVzvfmtDe3cUblDzq0frYeAlQAP4qykKAcBCKQjwGImXrIMmwbrBqjHQ57e9Il3dN0IGfThkKeuJ/aJZs1x+G0fukf/jlUf5qCjs96nBvTZh1rd71g1IsfV1WWOhj5tuFujjqpPj3OqVfMs5TLkbOv4ycLc084M+rBP9SjapuyoY6i38dPjnJpBI8/4oT/LznEZ9GFObeMhT1RPTvDUS9lp4g4ZF0BgDAI8iBtDZ3oJgSEJsJiJlz3Dps6zYaA/8Z5Zj+DRp37rYiNm8BuHIrEeKFG7dQzhtxK0/XVY9eGiwc+2xDfQpwTF2DqsGpHjYnXYVjv6tOFujTqqPj3OqVbNs5TLkLOt4ycLc087M+jDPtWjaJuyo46h3sZPj3NqBo0844f+LDvHZdCHObWNhzxRPTnBUy9leRCHByAwCgEexI2iNP2EwIAEeBAXL3qGTZ1nw0B/4j2zHsGjT/3WxUbM4DcORWI9UKJ26xjCbyVo++uw6sNFg59tiW+gTwmKsXVYNSLHxeqwrXb0acPdGnVUfXqcU62aZymXIWdbx08W5p52ZtCHfapH0TZlRx1DvY2fHufUDBp5xg/9WXaOy6APc2obD3mienKCp17K8iAOD0BgFAI8iBtFafoJgQEJ8CAuXvQMmzrPhoH+xHtmPYJHn/qti42YwW8cisR6oETt1jGE30rQ9tdh1YeLBj/bEt9AnxIUY+uwakSOi9VhW+3o04a7Neqo+vQ4p1o1z1IuQ862jp8szD3tzKAP+1SPom3KjjqGehs/Pc6pGTTyjB/6s+wcl0Ef5tQ2HvJE9eQET72U5UEcHoDAKAR4EDeK0vQTAgMS4EFcvOgZNnWeDQP9iffMegSPPvVbFxsxg984FIn1QInarWMIv5Wg7a/Dqg8XDX62Jb6BPiUoxtZh1YgcF6vDttrRpw13a9RR9elxTrVqnqVchpxtHT9ZmHvamUEf9qkeRduUHXUM9TZ+epxTM2jkGT/0Z9k5LoM+zKltPOSJ6skJnnopy4M4PACBUQjwIG4UpeknBAYkwIO4eNEzbOo8Gwb6E++Z9Qgefeq3LjZiBr9xKBLrgRK1W8cQfitB21+HVR8uGvxsS3wDfUpQjK3DqhE5LlaHbbWjTxvu1qij6tPjnGrVPEu5DDnbOn6yMPe0M4M+7FM9irYpO+oY6m389DinZtDIM37oz7JzXAZ9mFPbeMgT1ZMTPPVSlgdxeAACoxDgQdwoStNPCAxIgAdx8aJn2NR5Ngz0J94z6xE8+tRvXWzEDH7jUCTWAyVqt44h/FaCtr8Oqz5cNPjZlvgG+pSgGFuHVSNyXKwO22pHnzbcrVFH1afHOdWqeZZyGXK2dfxkYe5pZwZ92Kd6FG1TdtQx1Nv46XFOzaCRZ/zQn2XnuAz6MKe28ZAnqicneOqlLA/i8AAERiHAg7hRlKafEBiQAA/i4kXPsKnzbBjoT7xn1iN49KnfutiIGfzGoUisB0rUbh1D+K0EbX8dVn24aPCzLfEN9ClBMbYOq0bkuFgdttWOPm24W6OOqk+Pc6pV8yzlMuRs6/jJwtzTzgz6sE/1KNqm7KhjqLfx0+OcmkEjz/ihP8vOcRn0YU5t4yFPVE9O8NRLWR7E4QEIjEKAB3GjKE0/ITAgAR7ExYueYVPn2TDQn3jPrEfw6FO/dbERM/iNQ5FYD5So3TqG8FsJ2v46rPpw0eBnW+Ib6FOCYmwdVo3IcbE6bKsdfdpwt0YdVZ8e51Sr5lnKZcjZ1vGThbmnnRn0YZ/qUbRN2VHHUG/jp8c5NYNGnvFDf5ad4zLow5zaxkOeqJ6c4KmXsjyIwwMQGIUAD+JGUZp+QmBAAjyIixc9w6bOs2GgP/GeWY/g0ad+62IjZvAbhyKxHihRu3UM4bcStP11WPXhosHPtsQ30KcExdg6rBqR42J12FY7+rThbo06qj49zqlWzbOUy5CzreMnC3NPOzPowz7Vo2ibsqOOod7GT49zagaNPOOH/iw7x2XQhzm1jYc8UT05wVMvZXkQhwcgMAoBHsSNojT9hMCABHgQFy96hk2dZ8NAf+I9sx6hN304RKjvIW9Eq+cy5AP85lW/fnmr37hoqK+NZ/ygTxt9PBqRs9toZM1x6IM+JQhY/dZjzi7Bb0l1ZMgJHr8tiW2JtmTQhzVCCaVj6xh1DPU2fnqcUzNo5Bk/9Cc2l22r3apRBn2YU9t4yBPV6jdPnZQ9lQB3yDgBAmMQ4EHcGDrTSwgMSYDFTLzsGTZ1ng0D/Yn3zHqE3vThEKG+h7wRrZ7LkA/wm1f9+uWtfuOiob42nvGDPm308WhEzm6jkTXHoQ/6lCBg9VuPObsEvyXVkSEnePy2JLYl2pJBH9YIJZSOrWPUMdTb+OlxTs2gkWf80J/YXLatdqtGGfRhTm3jIU9Uq988dVL2VALcIeMECIxBgAdxY+hMLyEwJAEWM/GyZ9jUeTYM9CfeM+sRetOHQ4T6HvJGtHouQz7Ab17165e3+o2LhvraeMYP+rTRx6MRObuNRtYchz7oU4KA1W895uwS/JZUR6IDxCkAACAASURBVIac4PHbktiWaEsGfVgjlFA6to5Rx1Bv46fHOTWDRp7xQ39ic9m22q0aZdCHObWNhzxRrX7z1EnZUwlwh4wTIDAGAR7EjaEzvYTAkARYzMTLnmFT59kw0J94z6xH6E0fDhHqe8gb0eq5DPkAv3nVr1/e6jcuGupr4xk/6NNGH49G5Ow2GllzHPqgTwkCVr/1mLNL8FtSHRlygsdvS2Jboi0Z9GGNUELp2DpGHUO9jZ8e59QMGnnGD/2JzWXbardqlEEf5tQ2HvJEtfrNUydlTyXAHTJOgMAYBHgQN4bO9BICQxJgMRMve4ZNnWfDQH/iPbMeoTd9OESo7yFvRKvnMuQD/OZVv355q9+4aKivjWf8oE8bfTwakbPbaGTNceiDPiUIWP3WY84uwW9JdWTICR6/LYltibZk0Ic1QgmlY+sYdQz1Nn56nFMzaOQZP/QnNpdtq92qUQZ9mFPbeMgT1eo3T52UPZUAd8g4AQJjEOBB3Bg600sIDEmAxUy87Bk2dZ4NA/2J98x6hN704RChvoe8Ea2ey5AP8JtX/frlrX7joqG+Np7xgz5t9PFoRM5uo5E1x6EP+pQgYPVbjzm7BL8l1ZEhJ3j8tiS2JdqSQR/WCCWUjq1j1DHU2/jpcU7NoJFn/NCf2Fy2rXarRhn0YU5t4yFPVKvfPHVS9lQC3CHjBAiMQYAHcWPoTC8hMCQBFjPxsmfY1Hk2DPQn3jPrEXrTh0OE+h7yRrR6LkM+wG9e9euXt/qNi4b62njGD/q00cejETm7jUbWHIc+6FOCgNVvPebsEvyWVEeGnODx25LYlmhLBn1YI5RQOraOUcdQb+Onxzk1g0ae8UN/YnPZttqtGmXQhzm1jYc8Ua1+89RJ2VMJcIeMEyAwBgEexI2hM72EwJAEWMzEy55hU+fZMNCfeM+sR+hNHw4R6nvIG9HquQz5AL951a9f3uo3Lhrqa+MZP+jTRh+PRuTsNhpZcxz6oE8JAla/9ZizS/BbUh0ZcoLHb0tiW6ItGfRhjVBC6dg6Rh1DvY2fHufUDBp5xg/9ic1l22q3apRBH+bUNh7yRLX6zVMnZU8lwB0yToDAGAR4EDeGzvQSAkMSYDETL3uGTZ1nw0B/4j2zHqE3fThEqO8hb0Sr5zLkA/zmVb9+eavfuGior41n/KBPG308GpGz22hkzXHogz4lCFj91mPOLsFvSXVkyAkevy2JbYm2ZNCHNUIJpWPrGHUM9TZ+epxTM2jkGT/0JzaXbavdqlEGfZhT23jIE9XqN0+dlD2VAHfIOAECYxDgQdwYOtNLCAxJgMVMvOwZNnWeDQP9iffMeoTe9OEQob6HvBGtnsuQD/CbV/365a1+46Khvjae8YM+bfTxaETObqORNcehD/qUIGD1W485uwS/JdWRISd4/LYktiXakkEf1ggllI6tY9Qx1Nv46XFOzaCRZ/zQn9hctq12q0YZ9GFObeMhT1Sr3zx1UvZUAtwh4wQIjEGAB3Fj6EwvITAkARYz8bJn2NR5Ngz0J94z6xF604dDhPoe8ka0ei5DPsBvXvXrl7f6jYuG+tp4xg/6tNHHoxE5u41G1hyHPuhTgoDVbz3m7BL8llRHhpzg8duS2JZoSwZ9WCOUUDq2jlHHUG/jp8c5NYNGnvFDf2Jz2bbarRpl0Ic5tY2HPFGtfvPUSdlTCXCHjBMgMAYBHsSNoTO9hMCQBFjMxMueYVPn2TDQn3jPrEfoTR8OEep7yBvR6rkM+QC/edWvX97qNy4a6mvjGT/o00Yfj0bk7DYaWXMc+qBPCQJWv/WYs0vwW1IdGXKCx29LYluiLRn0YY1QQunYOkYdQ72Nnx7n1AwaecYP/YnNZdtqt2qUQR/m1DYe8kS1+s1TJ2VPJcAdMk6AwBgEeBA3hs70EgJDEmAxEy97hk2dZ8NAf+I9sx6hN304RKjvIW9Eq+cy5AP85lW/fnmr37hoqK+NZ/ygTxt9PBqRs9toZM1x6IM+JQhY/dZjzi7Bb0l1ZMgJHr8tiW2JtmTQhzVCCaVj67COIfwWq8O22q369DinZvAc+rQZF56oVo0y+I051aN8m7JWv7VpXe6o3CHn1o/WQ8BKgAdxVlKUgwAE0hFgMRMvWYZNnWfDQH/iPbMeoTd9OESo7yFvRKvnMuQD/OZVv355q9+4aKivjWf8oE8bfTwakbPbaGTNceiDPiUIWP3WY84uwW9JdWTICR6/LYltibZk0Ic1QgmlY+uwjiH8FqvDttqt+vQ4p2bwHPq0GReeqFaNMviNOdWjfJuyVr+1aV3uqNwh59aP1kPASoAHcVZSlIMABNIRYDETL1mGTZ1nw0B/4j2zHqE3fThEqO8hb0Sr5zLkA/zmVb9+eavfuGior41n/KBPG308GpGz22hkzXHogz4lCFj91mPOLsFvSXVkyAkevy2JbYm2ZNCHNUIJpWPrsI4h/Barw7barfr0OKdm8Bz6tBkXnqhWjTL4jTnVo3ybsla/tWld7qjcIefWj9ZDwEqAB3FWUpSDAATSEWAxEy9Zhk2dZ8NAf+I9sx6hN304RKjvIW9Eq+cy5AP85lW/fnmr37hoqK+NZ/ygTxt9PBqRs9toZM1x6IM+JQhY/dZjzi7Bb0l1ZMgJHr8tiW2JtmTQhzVCCaVj67COIfwWq8O22q369DinZvAc+rQZF56oVo0y+I051aN8m7JWv7VpXe6o3CHn1o/WQ8BKgAdxVlKUgwAE0hFgMRMvWYZNnWfDQH/iPbMeoTd9OESo7yFvRKvnMuQD/OZVv355q9+4aKivjWf8oE8bfTwakbPbaGTNceiDPiUIWP3WY84uwW9JdWTICR6/LYltibZk0Ic1QgmlY+uwjiH8FqvDttqt+vQ4p2bwHPq0GReeqFaNMviNOdWjfJuyVr+1aV3uqNwh59aP1kPASoAHcVZSlIMABNIRYDETL1mGTZ1nw0B/4j2zHqE3fThEqO8hb0Sr5zLkA/zmVb9+eavfuGior41n/KBPG308GpGz22hkzXHogz4lCFj91mPOLsFvSXVkyAkevy2JbYm2ZNCHNUIJpWPrsI4h/Barw7barfr0OKdm8Bz6tBkXnqhWjTL4jTnVo3ybsla/tWld7qjcIefWj9ZDwEqAB3FWUpSDAATSEWAxEy9Zhk2dZ8NAf+I9sx6hN304RKjvIW9Eq+cy5AP85lW/fnmr37hoqK+NZ/ygTxt9PBqRs9toZM1x6IM+JQhY/dZjzi7Bb0l1ZMgJHr8tiW2JtmTQhzVCCaVj67COIfwWq8O22q369DinZvAc+rQZF56oVo0y+I051aN8m7JWv7VpXe6o3CHn1o/WQ8BKgAdxVlKUgwAE0hFgMRMvWYZNnWfDQH/iPbMeoTd9OESo7yFvRKvnMuQD/OZVv355q9+4aKivjWf8oE8bfTwakbPbaGTNceiDPiUIWP3WY84uwW9JdWTICR6/LYltibZk0Ic1QgmlY+uwjiH8FqvDttqt+vQ4p2bwHPq0GReeqFaNMviNOdWjfJuyVr+1aV3uqNwh59aP1kPASoAHcVZSlIMABNIRYDETL1mGTZ1nw0B/4j2zHqE3fThEqO8hb0Sr5zLkA/zmVb9+eavfuGior41n/KBPG308GpGz22hkzXHogz4lCFj91mPOLsFvSXVkyAkevy2JbYm2ZNCHNUIJpWPrsI4h/Barw7barfr0OKdm8Bz6tBkXnqhWjTL4jTnVo3ybsla/tWld7qjcIefWj9ZDwEqAB3FWUpSDAATSEWAxEy9Zhk2dZ8NAf+I9sx6hN304RKjvIW9Eq+cy5AP85lW/fnmr37hoqK+NZ/ygTxt9PBqRs9toZM1x6IM+JQhY/dZjzi7Bb0l1ZMgJHr8tiW2JtmTQhzVCCaVj67COIfwWq8O22q369DinZvAc+rQZF56oVo0y+I051aN8m7JWv7VpXe6o3CHn1o/WQ8BKgAdxVlKUgwAE0hFgMRMvWYZNnWfDQH/iPbMeoTd9OESo7yFvRKvnMuQD/OZVv355q9+4aKivjWf8oE8bfTwakbPbaGTNceiDPiUIWP3WY84uwW9JdWTICR6/LYltibZk0Ic1QgmlY+uwjiH8FqvDttqt+vQ4p2bwHPq0GReeqFaNMviNOdWjfJuyVr+1aV3uqNwh59aP1kPASoAHcVZSlIMABNIRYDETL1mGTZ1nw0B/4j2zHqE3fThEqO8hb0Sr5zLkA/zmVb9+eavfuGior41n/KBPG308GpGz22hkzXHogz4lCFj91mPOLsFvSXVkyAkevy2JbYm2ZNCHNUIJpWPrsI4h/Barw7barfr0OKdm8Bz6tBkXnqhWjTL4jTnVo3ybsla/tWld7qjcIefWj9ZDwEqAB3FWUpSDAATSEWAxEy9Zhk2dZ8NAf+I9sx6hN304RKjvIW9Eq+cy5AP85lW/fnmr37hoqK+NZ/ygTxt9PBqRs9toZM1x6IM+JQhY/dZjzi7Bb0l1ZMgJHr8tiW2JtmTQhzVCCaVj67COIfwWq8O22q369DinZvAc+rQZF56oVo0y+I051aN8m7JWv7VpXe6o3CHn1o/WQ8BKgAdxVlKUgwAE0hFgMRMvWYZNnWfDQH/iPbMeoTd9OESo7yFvRKvnMuQD/OZVv355q9+4aKivjWf8oE8bfTwakbPbaGTNceiDPiUIWP3WY84uwW9JdWTICR6/LYltibZk0Ic1QgmlY+uwjiH8FqvDttqt+vQ4p2bwHPq0GReeqFaNMviNOdWjfJuyVr+1aV3uqNwh59aP1kPASoAHcVZSlIMABNIRYDETL1mGTZ1nw0B/4j2zHqE3fThEqO8hb0Sr5zLkA/zmVb9+eavfuGior41n/KBPG308GpGz22hkzXHogz4lCFj91mPOLsFvSXVkyAkevy2JbYm2ZNCHNUIJpWPrsI4h/Barw7barfr0OKdm8Bz6tBkXnqhWjTL4jTnVo3ybsla/tWld7qjcIefWj9ZDwEqAB3FWUpSDAATSEWAxEy9Zhk2dZ8NAf+I9sx6hN304RKjvIW9Eq+cy5AP85lW/fnmr37hoqK+NZ/ygTxt9PBqRs9toZM1x6IM+JQhY/dZjzi7Bb0l1ZMgJHr8tiW2JtmTQhzVCCaVj67COIfwWq8O22q369DinZvAc+rQZF56oVo0y+I051aN8m7JWv7VpXe6o3CHn1o/WQ8BKgAdxVlKUgwAE0hFgMRMvWYZNnWfDQH/iPbMeoTd9OESo7yFvRKvnMuQD/OZVv355q9+4aKivjWf8oE8bfTwakbPbaGTNceiDPiUIWP3WY84uwW9JdWTICR6/LYltibZk0Ic1QgmlY+uwjiH8FqvDttqt+vQ4p2bwHPq0GReeqFaNMviNOdWjfJuyVr+1aV3uqNwh59aP1kPASoAHcVZSlIMABNIRYDETL1mGTZ1nw0B/4j2zHqE3fThEqO8hb0Sr5zLkA/zmVb9+eavfuGior41n/KBPG308GpGz22hkzXHogz4lCFj91mPOLsFvSXVkyAkevy2JbYm2ZNCHNUIJpWPrsI4h/Barw7barfr0OKdm8Bz6tBkXnqhWjTL4jTnVo3ybsla/tWld7qjcIefWj9ZDwEqAB3FWUpSDAATSEWAxEy9Zhk2dZ8NAf+I9sx6hN304RKjvIW9Eq+cy5AP85lW/fnmr37hoqK+NZ/ygTxt9PBqRs9toZM1x6IM+JQhY/dZjzi7Bb0l1ZMgJHr8tiW2JtmTQhzVCCaVj67COIfwWq8O22q369DinZvAc+rQZF56oVo0y+I051aN8m7JWv7VpXe6o3CHn1o/WQ8BKgAdxVlKUgwAE0hFgMRMvWYZNnWfDQH/iPbMeoTd9OESo7yFvRKvnMuQD/OZVv355q9+4aKivjWf8oE8bfTwakbPbaGTNceiDPiUIWP3WY84uwW9JdWTICR6/LYltibZk0Ic1QgmlY+uwjiH8FqvDttqt+vQ4p2bwHPq0GReeqFaNMviNOdWjfJuyVr+1aV3uqNwh59aP1kPASoAHcVZSlIMABNIRYDETL1mGTZ1nw0B/4j2zHqE3fThEqO8hb0Sr5zLkA/zmVb9+eavfuGior41n/KBPG308GpGz22hkzXHogz4lCFj9Rs4uQdtfx8j6+Gkt+xvk7Db6WMcQ+qBPCQJWvzGnlqDtrwN9/Mxqf8OqETm7tjKnxhtVnza0c0flDjm3frQeAlYCPIizkqIcBCCQjgCLmXjJMmzqrBsgDnni/bIpQm/6jLzpzpAP0KfNOPdEteaE3vzGHORxSbmyVr+hTznm3pqsGvWWE+iP1yllyuO3MhyjarHqQ86OUuDwekfWpw3xuKjMQXFsD6vZOobQB31KELD6jTm1BG1/HejjZ1b7G1aNyNm1lTk13qj6tKGdOyp3yLn1o/UQsBLgQZyVFOUgAIF0BFjMxEuWYVNn3QBxyBPvl00RetNn5E13hnyAPm3GuSeqNSf05jfmII9LypW1+g19yjH31mTVqLecQH+8TilTHr+V4RhVi1UfcnaUAofXO7I+bYjHRWUOimN7WM3WMYQ+6FOCgNVvzKklaPvrQB8/s9rfsGpEzq6tzKnxRtWnDe3cUblDzq0frYeAlQAP4qykKAcBCKQjwGImXrIMmzrrBohDnni/bIrQmz4jb7oz5AP0aTPOPVGtOaE3vzEHeVxSrqzVb+hTjrm3JqtGveUE+uN1Spny+K0Mx6harPqQs6MUOLzekfVpQzwuKnNQHNvDaraOIfRBnxIErH5jTi1B218H+viZ1f6GVSNydm1lTo03qj5taOeOyh1ybv1oPQSsBHgQZyVFOQhAIB0BFjPxkmXY1Fk3QBzyxPtlU4Te9Bl5050hH6BPm3HuiWrNCb35jTnI45JyZa1+Q59yzL01WTXqLSfQH69TypTHb2U4RtVi1YecHaXA4fWOrE8b4nFRmYPi2B5Ws3UMoQ/6lCBg9Rtzagna/jrQx8+s9jesGpGzaytzarxR9WlDO3dU7pBz60frIWAlwIM4KynKQQAC6QiwmImXLMOmzroB4pAn3i+bIvSmz8ib7gz5AH3ajHNPVGtO6M1vzEEel5Qra/Ub+pRj7q3JqlFvOYH+eJ1Spjx+K8MxqharPuTsKAUOrxd92nD3RLVqxBzkoVquLPqUYxlR06j6MKdGuGl3nVa/oc9ullElrBoxp0YpUGZd2ps+bWjnjsodcm79aD0ErAR4EGclRTkIQCAdARYz8ZJl2DRYN6gcIsT7ZVOE3vRRH619yjB+6E+bceGJit88tOqXterDHFRfG09+Q582+ng0Yk5to5E1x6EP+pQgYPUbObsEbX8d6ONnVvsbVo3I2bWVOTUe+rThbo06qj7MqVaHlC1n9Rv6lOXuqc2qEXOqh2q5sqPqU47gODVxhzyO1vR0bAI8iBtbf3oPga4JsJiJlzfDps66AeIQId4vmyL0pg8H2W185Ilq9VyG/IbfPMq3KWv1G3MQ+pQg0JvfyHElXBFbh9VzzKmxOmyrfVR9mFOX7Tf0aaMPc2o77tbIo+Zs1ghWh5QtZ/UbObssd2tt6GMl1a6cVSNyXBuNRtWnDe3cUblDzq0frYeAlQAP4qykKAcBCKQjwGImXrIMmzrrBohDnni/bIrQmz5cNLTxkSeq1XMZ8ht+8yjfpqzVb8xB6FOCQG9+I8eVcEVsHVbPMafG6rCt9lH1YU5dtt/Qp40+zKntuFsjj5qzWSNYHVK2nNVv5Oyy3K21oY+VVLtyVo3IcW00GlWfNrRzR+UOObd+tB4CVgI8iLOSohwEIJCOAIuZeMkybOqsGyAOeeL9silCb/pw0dDGR56oVs9lyG/4zaN8m7JWvzEHoU8JAr35jRxXwhWxdVg9x5waq8O22kfVhzl12X5Dnzb6MKe2426NPGrOZo1gdUjZcla/kbPLcrfWhj5WUu3KWTUix7XRaFR92tDOHZU75Nz60XoIWAnwIM5KinIQgEA6Aixm4iXLsKmzboA45In3y6YIvenDRUMbH3miWj2XIb/hN4/ybcpa/cYchD4lCPTmN3JcCVfE1mH1HHNqrA7bah9VH+bUZfsNfdrow5zajrs18qg5mzWC1SFly1n9Rs4uy91aG/pYSbUrZ9WIHNdGo1H1aUM7d1TukHPrR+shYCXAgzgrKcpBAALpCLCYiZcsw6bOugHikCfeL5si9KYPFw1tfOSJavVchvyG3zzKtylr9RtzEPqUINCb38hxJVwRW4fVc8ypsTpsq31UfZhTl+039GmjD3NqO+7WyKPmbNYIVoeULWf1Gzm7LHdrbehjJdWunFUjclwbjUbVpw3t3FG5Q86tH62HgJUAD+KspCgHAQikI8BiJl6yDJs66waIQ554v2yK0Js+XDS08ZEnqtVzGfIbfvMo36as1W/MQehTgkBvfiPHlXBFbB1WzzGnxuqwrfZR9WFOXbbf0KeNPsyp7bhbI4+as1kjWB1StpzVb+TsstyttaGPlVS7claNyHFtNBpVnza0c0flDjm3frQeAlYCPIizkqIcBCCQjgCLmXjJMmzqrBsgDnni/bIpQm/6cNHQxkeeqFbPZchv+M2jfJuyVr8xB6FPCQK9+Y0cV8IVsXVYPcecGqvDttpH1Yc5ddl+Q582+jCntuNujTxqzmaNYHVI2XJWv5Gzy3K31oY+VlLtylk1Ise10WhUfdrQzh2VO+Tc+tF6CFgJ8CDOSopyEIBAOgIsZuIly7Cps26AOOSJ98umCL3pw0VDGx95olo9lyG/4TeP8m3KWv3GHIQ+JQj05jdyXAlXxNZh9RxzaqwO22ofVR/m1GX7DX3a6MOc2o67NfKoOZs1gtUhZctZ/UbOLsvdWhv6WEm1K2fViBzXRqNR9WlDO3dU7pBz60frIWAlwIM4KynKQQAC6QiwmImXLMOmzroB4pAn3i+bIvSmDxcNbXzkiWr1XIb8ht88yrcpa/UbcxD6lCDQm9/IcSVcEVuH1XPMqbE6bKt9VH2YU5ftN/Rpow9zajvu1sij5mzWCFaHlC1n9Rs5uyx3a23oYyXVrpxVI3JcG41G1acN7dxRuUPOrR+th4CVAA/irKQoBwEIpCPAYiZesgybOusGiEOeeL9sitCbPlw0tPGRJ6rVcxnyG37zKN+mrNVvzEHoU4JAb34jx5VwRWwdVs8xp8bqsK32UfVhTl2239CnjT7Mqe24WyOPmrNZI1gdUrac1W/k7LLcrbWhj5VUu3JWjchxbTQaVZ82tHNH5Q45t360HgJWAjyIs5KiHAQgkI4Ai5l4yTJs6qwbIA554v2yKUJv+nDR0MZHnqhWz2XIb/jNo3ybsla/MQehTwkCvfmNHFfCFbF1WD3HnBqrw7baR9WHOXXZfkOfNvowp7bjbo08as5mjWB1SNlyVr+Rs8tyt9aGPlZS7cpZNSLHtdFoVH3a0M4dlTvk3PrReghYCfAgzkqKchCAQDoCLGbiJcuwqbNugDjkiffLpgi96cNFQxsfeaJaPZchv+E3j/Jtylr9xhyEPiUI9OY3clwJV8TWYfUcc2qsDttqH1Uf5tRl+w192ujDnNqOuzXyqDmbNYLVIWXLWf1Gzi7L3Vob+lhJtStn1Ygc10ajUfVpQzt3VO6Qc+tH6yFgJcCDOCspykEAAukIsJiJlyzDps66AeKQJ94vmyL0pg8XDW185Ilq9VyG/IbfPMq3KWv1G3MQ+pQg0JvfyHElXBFbh9VzzKmxOmyrfVR9mFOX7Tf0aaMPc2o77tbIo+Zs1ghWh5QtZ/UbObssd2tt6GMl1a6cVSNyXBuNRtWnDe3cUblDzq0frYeAlQAP4qykKAcBCKQjwGImXrIMmzrrBohDnni/bIrQmz5cNLTxkSeq1XMZ8ht+8yjfpqzVb8xB6FOCQG9+I8eVcEVsHVbPMafG6rCt9lH1YU5dtt/Qp40+zKntuFsjj5qzWSNYHVK2nNVv5Oyy3K21oY+VVLtyVo3IcW00GlWfNrRzR+UOObd+tB4CVgI8iLOSohwEIJCOAIuZeMkybOqsGyAOeeL9silCb/pw0dDGR56oVs9lyG/4zaN8m7JWvzEHoU8JAr35jRxXwhWxdVg9x5waq8O22kfVhzl12X5Dnzb6MKe2426NPGrOZo1gdUjZcla/kbPLcrfWhj5WUu3KWTUix7XRaFR92tDOHZU75Nz60XoIWAnwIM5KinIQgEA6Aixm4iXLsKmzboA45In3y6YIvenDRUMbH3miWj2XIb/hN4/ybcpa/cYchD4lCPTmN3JcCVfE1mH1HHNqrA7bah9VH+bUZfsNfdrow5zajrs18qg5mzWC1SFly1n9Rs4uy91aG/pYSbUrZ9WIHNdGo1H1aUM7d1TukHPrR+shYCXAgzgrKcpBAALpCLCYiZcsw6bOugHikCfeL5si9KYPFw1tfOSJavVchvyG3zzKtylr9RtzEPqUINCb38hxJVwRW4fVc8ypsTpsq31UfZhTl+039GmjD3NqO+7WyKPmbNYIVoeULWf1Gzm7LHdrbehjJdWunFUjclwbjUbVpw3t3FG5Q86tH62HgJUAD+KspCgHAQikI8BiJl6yDJs66waIQ554v2yK0Js+XDS08ZEnqtVzGfIbfvMo36as1W/MQehTgkBvfiPHlXBFbB1WzzGnxuqwrfZR9WFOXbbf0KeNPsyp7bhbI4+as1kjWB1StpzVb+TsstyttaGPlVS7claNyHFtNBpVnza0c0flDjm3frQeAlYCPIizkqIcBCCQjgCLmXjJMmzqrBsgDnni/bIpQm/6cNHQxkeeqFbPZchv+M2jfJuyVr8xB6FPCQK9+Y0cV8IVsXVYPcecGqvDttpH1Yc5ddl+Q582+jCntuNujTxqzmaNYHVI2XJWv5Gzy3K31oY+VlLtylk1Ise10WhUfdrQzh2VO+Tc+tF6CFgJ8CDOSopyEIBAOgIsZuIly7Cps26AOOSJ98umCL3pNhFpmAAAIABJREFUw0VDGx95olo9lyG/4TeP8m3KWv3GHIQ+JQj05jdyXAlXxNZh9RxzaqwO22ofVR/m1GX7DX3a6MOc2o67NfKoOZs1gtUhZctZ/UbOLsvdWhv6WEm1K2fViBzXRqNR9WlDO3dU7pBz60frIWAlwIM4KynKQQAC6QiwmImXLMOmzroB4pAn3i+bIvSmDxcNbXzkiWr1XIb8ht88yrcpa/UbcxD6lCDQm9/IcSVcEVuH1XPMqbE6bKt9VH2YU5ftN/Rpow9zajvu1sij5mzWCFaHlC1n9Rs5uyx3a23oYyXVrpxVI3JcG41G1acN7dxRuUPOrR+th4CVAA/irKQoBwEIpCPAYiZesgybOusGiEOeeL9sitCbPlw0tPGRJ6rVcxnyG37zKN+mrNVvzEHoU4JAb34jx5VwRWwdVs8xp8bqsK32UfVhTl2239CnjT7Mqe24WyOPmrNZI1gdUrac1W/k7LLcrbWhj5VUu3JWjchxbTQaVZ82tHNH5Q45t360HgJWAjyIs5KiHAQgkI4Ai5l4yTJs6qwbIA554v2yKUJv+nDR0MZHnqhWz2XIb/jNo3ybsla/MQehTwkCvfmNHFfCFbF1WD3HnBqrw7baR9WHOXXZfkOfNvowp7bjbo08as5mjWB1SNlyVr+Rs8tyt9aGPlZS7cpZNSLHtdFoVH3a0M4dlTvk3PrReghYCfAgzkqKchCAQDoCLGbiJcuwqbNugDjkiffLpgi96cNFQxsfeaJaPZchv+E3j/Jtylr9xhyEPiUI9OY3clwJV8TWYfUcc2qsDttqH1Uf5tRl+w192ujDnNqOuzXyqDmbNYLVIWXLWf1Gzi7L3Vob+lhJtStn1Ygc10ajUfVpQzt3VO6Qc+tH6yFgJcCDOCspykEAAukIsJiJlyzDps66AeKQJ94vmyL0pg8XDW185Ilq9VyG/IbfPMq3KWv1G3MQ+pQg0JvfyHElXBFbh9VzzKmxOmyrfVR9mFOX7Tf0aaMPc2o77tbIo+Zs1ghWh5QtZ/UbObssd2tt6GMl1a6cVSNyXBuNRtWnDe3cUblDzq0frYeAlQAP4qykKAcBCKQjwGImXrIMmzrrBohDnni/bIrQmz5cNLTxkSeq1XMZ8ht+8yjfpqzVb8xB6FOCQG9+I8eVcEVsHVbPMafG6rCt9lH1YU5dtt/Qp40+zKntuFsjj5qzWSNYHVK2nNVv5Oyy3K21oY+VVLtyVo3IcW00GlWfNrRzR+UOObd+tB4CVgI8iLOSohwEIJCOAIuZeMkybOqsGyAOeeL9silCb/pw0dDGR56oVs9lyG/4zaN8m7JWvzEHoU8JAr35jRxXwhWxdVg9x5waq8O22kfVhzl12X5Dnzb6MKe2426NPGrOZo1gdUjZcla/kbPLcrfWhj5WUu3KWTUix7XRaFR92tDOHZU75Nz60XoIWAnwIM5KinIQgEA6Aixm4iXLsKmzboA45In3y6YIvenDRUMbH3miWj2XIb/hN4/ybcpa/cYchD4lCPTmN3JcCVfE1mH1HHNqrA7bah9VH+bUZfsNfdrow5zajrs18qg5mzWC1SFly1n9Rs4uy91aG/pYSbUrZ9WIHNdGo1H1aUM7d1TukHPrR+shYCXAgzgrKcpBAALpCLCYiZcsw6bOugHikCfeL5si9KYPFw1tfOSJavVchvyG3zzKtylr9RtzEPqUINCb38hxJVwRW4fVc8ypsTpsq31UfZhTl+039GmjD3NqO+7WyKPmbNYIVoeULWf1Gzm7LHdrbehjJdWunFUjclwbjUbVpw3t3FG5Q86tH62HgJUAD+KspCgHAQikI8BiJl6yDJs66waIQ554v2yK0Js+XDS08ZEnqtVzGfIbfvMo36as1W/MQehTgkBvfiPHlXBFbB1WzzGnxuqwrfZR9WFOXbbf0KeNPsyp7bhbI4+as1kjWB1StpzVb+TsstyttaGPlVS7claNyHFtNBpVnza0c0flDjm3frQeAlYCPIizkqIcBCCQjgCLmXjJMmzqrBsgDnni/bIpQm/6cNHQxkeeqFbPZchv+M2jfJuyVr8xB6FPCQK9+Y0cV8IVsXVYPcecGqvDttpH1Yc5ddl+Q582+jCntuNujTxqzmaNYHVI2XJWv5Gzy3K31oY+VlLtylk1Ise10WhUfdrQzh2VO+Tc+tF6CFgJ8CDOSopyEIBAOgIsZuIly7Cps26AOOSJ98umCL3pw0VDGx95olo9lyG/4TeP8m3KWv3GHIQ+JQj05jdyXAlXxNZh9RxzaqwO22ofVR/m1GX7DX3a6MOc2o67NfKoOZs1gtUhZctZ/UbOLsvdWhv6WEm1K2fViBzXRqNR9WlDO3dU7pBz60frIWAlwIM4KynKQQAC6QiwmImXLMOmzroB4pAn3i+bIvSmDxcNbXzkiWr1XIb8ht88yrcpa/UbcxD6lCDQm9/IcSVcEVuH1XPMqbE6bKt9VH2YU5ftN/Rpow9zajvu1sij5mzWCFaHlC1n9Rs5uyx3a23oYyXVrpxVI3JcG41G1acN7dxRuUPOrR+th4CVAA/irKQoBwEIpCPAYiZesgybOusGiEOeeL9sitCbPlw0tPGRJ6rVcxnyG37zKN+mrNVvzEHoU4JAb34jx5VwRWwdVs8xp8bqsK32UfVhTl2239CnjT7Mqe24WyOPmrNZI1gdUrac1W/k7LLcrbWhj5VUu3JWjchxbTQaVZ82tHNH5Q45t360HgJWAjyIs5KiHAQgkI4Ai5l4yTJs6qwbIA554v2yKUJv+nDR0MZHnqhWz2XIb/jNo3ybsla/MQehTwkCvfmNHFfCFbF1WD3HnBqrw7baR9WHOXXZfkOfNvowp7bjbo08as5mjWB1SNlyVr+Rs8tyt9aGPlZS7cpZNSLHtdFoVH3a0M4dlTvk3PrReghYCfAgzkqKchCAQDoCLGbiJcuwqbNugDjkiffLpgi96cNFQxsfeaJaPZchv+E3j/Jtylr9xhyEPiUI9OY3clwJV8TWYfUcc2qsDttqH1Uf5tRl+w192ujDnNqOuzXyqDmbNYLVIWXLWf1Gzi7L3Vob+lhJtStn1Ygc10ajUfVpQzt3VO6Qc+tH6yFgJcCDOCspykEAAukIsJiJlyzDps66AeKQJ94vmyL0pg8XDW185Ilq9VyG/IbfPMq3KWv1G3MQ+pQg0JvfyHElXBFbh9VzzKmxOmyrfVR9mFOX7Tf0aaMPc2o77tbIo+Zs1ghWh5QtZ/UbObssd2tt6GMl1a6cVSNyXBuNRtWnDe3cUblDzq0frYeAlQAP4qykKAcBCKQjwGImXrIMmzrrBohDnni/bIrQmz5cNLTxkSeq1XMZ8ht+8yjfpqzVb8xB6FOCQG9+I8eVcEVsHVbPMafG6rCt9lH1YU5dtt/Qp40+zKntuFsjj5qzWSNYHVK2nNVv5Oyy3K21oY+VVLtyVo3IcW00GlWfNrRzR+UOObd+tB4CVgI8iLOSohwEIJCOAIuZeMkybOqsGyAOeeL9silCb/pw0dDGR56oVs9lyG/4zaN8m7JWvzEHoU8JAr35jRxXwhWxdVg9x5waq8O22kfVhzl12X5Dnzb6MKe2426NPGrOZo1gdUjZcla/kbPLcrfWhj5WUu3KWTUix7XRaFR92tDOHZU75Nz60XoIWAnwIM5KinIQgEA6Aixm4iXLsKmzboA45In3y6YIvenDRUMbH3miWj2XIb/hN4/ybcpa/cYchD4lCPTmN3JcCVfE1mH1HHNqrA7bah9VH+bUZfsNfdrow5zajrs18qg5mzWC1SFly1n9Rs4uy91aG/pYSbUrZ9WIHNdGo1H1aUM7d1TukHPrR+shYCXAgzgrKcpBAALpCLCYiZcsw6bOugHikCfeL5si9KYPFw1tfOSJavVchvyG3zzKtylr9RtzEPqUINCb38hxJVwRW4fVc8ypsTpsq31UfZhTl+039GmjD3NqO+7WyKPmbNYIVoeULWf1Gzm7LHdrbehjJdWunFUjclwbjUbVpw3t3FG5Q86tH62HgJUAD+KspCgHAQikI8BiJl6yDJs66waIQ554v2yK0Js+XDS08ZEnqtVzGfIbfvMo36as1W/MQehTgkBvfiPHlXBFbB1WzzGnxuqwrfZR9WFOXbbf0KeNPsyp7bhbI4+as1kjWB1StpzVb+TsstyttaGPlVS7claNyHFtNBpVnza0c0flDjm3frQeAlYCPIizkqIcBCCQjgCLmXjJMmzqrBsgDnni/bIpQm/6cNHQxkeeqFbPZchv+M2jfJuyVr8xB6FPCQK9+Y0cV8IVsXVYPcecGqvDttpH1Yc5ddl+Q582+jCntuNujTxqzmaNYHVI2XJWv5Gzy3K31oY+VlLtylk1Ise10WhUfdrQzh2VO+Tc+tF6CFgJ8CDOSopyEIBAOgIsZuIly7Cps26AOOSJ98umCL3pw0VDGx95olo9lyG/4TeP8m3KWv3GHIQ+JQj05jdyXAlXxNZh9RxzaqwO22ofVR/m1GX7DX3a6MOc2o67NfKoOZs1gtUhZctZ/UbOLsvdWhv6WEm1K2fViBzXRqNR9WlDO3dU7pBz60frIWAlwIM4KynKQQAC6QiwmImXLMOmzroB4pAn3i+bIvSmDxcNbXzkiWr1XIb8ht88yrcpa/UbcxD6lCDQm9/IcSVcEVuH1XPMqbE6bKt9VH2YU5ftN/Rpow9zajvu1sij5mzWCFaHlC1n9Rs5uyx3a23oYyXVrpxVI3JcG41G1acN7dxRuUPOrR+th4CVAA/irKQoBwEIpCPAYiZesgybOusGiEOeeL9sitCbPlw0tPGRJ6rVcxnyG37zKN+mrNVvzEHoU4JAb34jx5VwRWwdVs8xp8bqsK32UfVhTl2239CnjT7Mqe24WyOPmrNZI1gdUrac1W/k7LLcrbWhj5VUu3JWjchxbTQaVZ82tHNH5Q45t360HgJWAjyIs5KiHAQgkI4Ai5l4yTJs6qwbIA554v2yKUJv+nDR0MZHnqhWz2XIb/jNo3ybsla/MQehTwkCvfmNHFfCFbF1WD3HnBqrw7baR9WHOXXZfkOfNvowp7bjbo08as5mjWB1SNlyVr+Rs8tyt9aGPlZS7cpZNSLHtdFoVH3a0M4dlTvk3PrReghYCfAgzkqKchCAQDoCLGbiJcuwqbNugDjkiffLpgi96cNFQxsfeaJaPZchv+E3j/Jtylr9xhyEPiUI9OY3clwJV8TWYfUcc2qsDttqH1Uf5tRl+w192ujDnNqOuzXyqDmbNYLVIWXLWf1Gzi7L3Vob+lhJtStn1Ygc10ajUfVpQzt3VO6Qc+tH6yFgJcCDOCspykEAAukIsJiJlyzDps66AeKQJ94vmyL0pg8XDW185Ilq9VyG/IbfPMq3KWv1G3MQ+pQg0JvfyHElXBFbh9VzzKmxOmyrfVR9mFOX7Tf0aaMPc2o77tbIo+Zs1ghWh5QtZ/UbObssd2tt6GMl1a6cVSNyXBuNRtWnDe3cUblDzq0frYeAlQAP4qykKAcBCKQjwGImXrIMmzrrBohDnni/bIrQmz5cNLTxkSeq1XMZ8ht+8yjfpqzVb8xB6FOCQG9+I8eVcEVsHVbPMafG6rCt9lH1YU5dtt/Qp40+zKntuFsjj5qzWSNYHVK2nNVv5Oyy3K21oY+VVLtyVo3IcW00GlWfNrRzR+UOObd+tB4CVgI8iLOSohwEIJCOAIuZeMkybOqsGyAOeeL9silCb/pw0dDGR56oVs9lyG/4zaN8m7JWvzEHoU8JAr35jRxXwhWxdVg9x5waq8O22kfVhzl12X5Dnzb6MKe2426NPGrOZo1gdUjZcla/kbPLcrfWhj5WUu3KWTUix7XRaFR92tDOHZU75Nz60XoIWAnwIM5KinIQ6JzAbW5zm+mTn/zk9IIXvGCvnl7nOteZTjzxxOnRj370dNxxx22s4yEPecj0/Oc/f3rd61638d+vetWrTg9/+MOn613velvbcMYznnE65ZRTTG1kMWPCdKRCGTZ11g0QhzxHssLeX+5NHy4a9rZCtS9aPZchv+G3arbZO5DVb8xBeyM+0hfR50j4qnzZqhE5u4ocpwmCPm24W6OOqg9zqtUhZctZ/YY+Zbl7arNqxJzqoVquLPqUYxlR06j6kLMj3LS7Tqvf0Gc3y6gSVo2YU6MUOLzeUfVpQzt3VO6Qc+tH6yFgJcCDOCspykGgAYGDj8ys4ff5juqOeBB3rWtda/XI7k1vetOx5p/5zGeevvCFL2ztzqUudanpPe95z6Hdfc1rXjNd7WpX24mExcxOREcukGFTZ90AcYhwZDvsVUFv+giCtU8Zxg/92cvWVb+E36ridgez6sMc5EZb5AvoUwRjaCVWjZhTQ2XYWjn6tOFujTqqPsypVoeULWf1G/qU5e6pzaoRc6qHarmy6FOOZURNo+pDzo5w0+46rX5Dn90so0pYNWJOjVLg8HpH1acN7dxRuUPOrR+th4CVAA/irKQoB4EGBPZ53LbPd9S1iAdxX/va145Rm39r3PzfTjjhhOnd7373aaiq3MHvbcJ+jWtcY3rVq161UxEWMzsRHblAhk2ddQPEIcKR7bBXBb3pIwjWPmUYP/RnL1tX/RJ+q4rbHcyqD3OQG22RL6BPEYyhlVg1Yk4NlWFr5ejThrs16qj6MKdaHVK2nNVv6FOWu6c2q0bMqR6q5cqiTzmWETWNqg85O8JNu+u0+g19drOMKmHViDk1SoHD6x1Vnza0c0flDjm3frQeAlYCPIizkqIcBCoT0AO1pzzlKV8X9b3vfe/0/ve/f7rXve41vfGNb5zOc57zTLe+9a2nBz/4wdPxxx+/etS26TsXu9jFpjvc4Q7Ty1/+8ukjH/nIdPGLX3y6853vPN397nc/Vr/nQdxnP/vZ6U53utP0vOc9bzr72c8+3fOe95xe9KIXneZPpupPoL797W+fznrWs04f/ehHV7H02E3/058+/fKXv7wX1XOe85yr3zy368NiZheho/97hk2ddQPEIcLR/bBPDb3pIwbWPmUYP/RnH1fX/Q5+q8vbG82qD3OQl2yZ8uhThmNkLVaNmFMjVdheN/q04W6NOqo+zKlWh5QtZ/Ub+pTl7qnNqhFzqodqubLoU45lRE2j6kPOjnDT7jqtfkOf3SyjSlg1Yk6NUuDwekfVpw3t3FG5Q86tH62HgJUAD+KspCgHgcoEPvWpT003vOENpytc4QrTgx70oFX0r3zlK9NlLnOZ1cO3u93tbtPb3va26fa3v/10l7vcZXrgAx84bfrO+c9//umrX/3q6tHcjW50o+l85zvf9OpXv3r1QO5JT3rSdLOb3WxVt+dBnB7T6QHcE5/4xOmCF7zgdL/73W96xSteMZ100knTox/96Gn+bXAveclLpste9rLT5S53uelLX/rSKs7829/mMutYT3/606/6edjnDGc4w/TFL37xNEUU613vetex/z4/vhOXc5zjHJUVHCNchk2ddQPEIUIbz/amjyha+5Rh/NCfNuPCExW/eWjVL2vVhzmovjae/IY+bfTxaMSc2kYja45DH/QpQcDqN3J2Cdr+OtDHz6z2N6wakbNrK3NqPPRpw90adVR9mFOtDilbzuo39CnL3VObVSPmVA/VcmVH1accwXFq4kHcOFrT07EJ8CBubP3p/cIJrP/50/vf//7Tc5/73Omtb33rsUdnj3vc46Z73/veq8dwpzvd6Sbrn0zVIzr91rbnPOc5KwrWB3Gf+cxnpvOe97zTU5/61OnmN7/56rsf//jHp4te9KKrR3YHH8RtwvvpT396OtvZzrb6zXKqa/2jB4BvetObDlVGv13ulFNOOU2ZbY/seBC3cKPTPAhAAAIQgAAEIAABCEAAAhCAAAQgAAEIQAACEIAABCAAAQhAAAIVCPAgrgJkQkBgAQR4ELcAEWgCBLYRWH/cdtOb3nTSnwvVb3abP/rTqSeeeOLqT6nqT6FuexD3+Mc/fnrCE56wKvf5z39+9RvW9L3Xvva1q6qsD+LW483tuPKVrzxd+9rX/roHcfOfRdVvqDvLWc4yfe5zn5ve/OY3T5e//OVXf0ZV//f652pXu9qxNh3mDP25Vf02uYMffkMcYwkCEIAABCAAAQhAAAIQgAAEIAABCEAAAhCAAAQgAAEIQAACEIAABLYR4EEc3oDAGAR4EDeGzvQyKYH1x203uclNpnOf+9yrP1U6f97whjdMeox28sknTxe72MU2Poh79rOfPd361reeHvWoR01Xv/rVV7+d7ZGPfOT0mte8ZtL39bE+iJvjzQ/w5nZsehB3y1vecrrjHe846c+2qn03uMENpte//vWrP7H60pe+dKMqz3/+8yf187DPNa95zemVr3zlTlVZzOxERAEIQAACEIAABCAAAQhAAAIQgAAEIAABCEAAAhCAAAQgAAEIQAACwxDgDnkYqeno4AR4EDe4Aej+sglc//rXn/Rbzx772MeuGrrtT6be5z73mT75yU+u/mTq+nf0vbvd7W7TW97ylullL3vZsQ5f73rXmz72sY+5H8Tpz5ye5zznmZ7+9KdPN7vZzVb1feITn1j9ydTb3/72X/cb4uZHeiqj8re61a2mc53rXKu2bvtc6UpXmvRb6A77vPOd75xOOOGEneKxmNmJiAIQgAAEIAABCEAAAhCAAAQgAAEIQAACEIAABCAAAQhAAAIQgAAEhiHAHfIwUtPRwQnwIG5wA9D9ZRO4wx3usHqwpt/wdraznW065ZRTpstc5jLTbW972+mud73r9Pa3v3263e1uN93lLneZHvjAB646s/4dPV7Tg7oHPOABq3oueclLTk972tOmxzzmMav/v/c3xCnGne50p+klL3nJ6jfVXeACF1g91Hv5y18+nXTSSV/3IO5e97rX6jfEvelNb5r0/3/HO95xZOB69PeVr3zFVA+LGRMmCkEAAhCAAAQgAAEIQAACEIAABCAAAQhAAAIQgAAEIAABCEAAAhAYggB3yEPITCchMPEgDhNAYMEE9IBMf+pUvzHt85///PTe97530p8q1eMy/Tc9dtO/P/jBD56OP/74VU82fedCF7rQ6mGa/hzpcccdN93iFreYznnOc67+bOk+D+L0W+L0KO55z3ve6s+v3uMe95he/OIXTyeeeOLqQZw+z3zmM1d/GvXDH/7wdJWrXGW6733vO934xjde/clUlZs/73nPe6ZLX/rS0yMe8YhVv+bPC17wgulhD3vY9Na3vnX1AO6KV7ziqp/Xve51zYqxmDGjoiAEIAABCEAAAhCAAAQgAAEIQAACEIAABCAAAQhAAAIQgAAEIACB7glwh9y9xHQQAisCPIjDCBCAQFMCr3rVq6brXOc60wc/+MHVb5sr+WExU5ImdUEAAhCAAAQgAAEIQAACEIAABCAAAQhAAAIQgAAEIAABCEAAAhDITYA75Nz60XoIWAnwIM5KinIQgEBRAvrzrx/4wAdWf+JVv8HuGc94RtH6VRmLmeJIqRACEIAABCAAAQhAAAIQgAAEIAABCEAAAhCAAAQgAAEIQAACEIBAWgLcIaeVjoZDwEWAB3EuXBSGQP8ETj755Onyl7/81o6+5S1vmS5+8YsfGcSTn/zk6aSTTlr9+dQXvvCF00UucpEj17leAYuZ4kipEAIQgAAEIAABCEAAAhCAAAQgAAEIQAACEIAABCAAAQhAAAIQgEBaAtwhp5WOhkPARYAHcS5cFIZA/wS+/OUvT+973/u2dvQSl7jEdPzxx6cAwWImhUw0EgIQgAAEIAABCEAAAhCAAAQgAAEIQAACEIAABCAAAQhAAAIQgEAVAtwhV8FMEAg0J8CDuOYS0AAIQCCKAIuZKLLUCwEIQAACEIAABCAAAQhAAAIQgAAEIAABCEAAAhCAAAQgAAEIQCAfAe6Q82lGiyGwDwEexO1Dje9AAAIpCLCYSSETjYQABCAAAQhAAAIQgAAEIAABCEAAAhCAAAQgAAEIQAACEIAABCBQhQB3yFUwEwQCzQnwIK65BDQAAhCIIsBiJoos9UIAAhCAAAQgAAEIQAACEIAABCAAAQhAAAIQgAAEIAABCEAAAhDIR4A75Hya0WII7EOAB3H7UOM7EIBACgIsZlLIRCMhAAEIQAACEIAABCAAAQhAAAIQgAAEIAABCEAAAhCAAAQgAAEIVCHAHXIVzASBQHMCPIhrLgENgAAEogiwmIkiS70QgAAEIAABCEAAAhCAAAQgAAEIQAACEIAABCAAAQhAAAIQgAAE8hHgDjmfZrQYAvsQ4EHcPtT4DgQgkIIAi5kUMtFICEAAAhCAAAQgAAEIQAACEIAABCAAAQhAAAIQgAAEIAABCEAAAlUIcIdcBTNBINCcAA/imktAAyAAgSgCLGaiyFIvBCAAAQhAAAIQgAAEIAABCEAAAhCAAAQgAAEIQAACEIAABCAAgXwEuEPOpxkthsA+BHgQtw81vgMBCKQgwGImhUw0EgIQgAAEIAABCEAAAhCAAAQgAAEIQAACEIAABCAAAQhAAAIQgEAVAtwhV8FMEAg0J8CDuOYS0AAIQCCKAIuZKLLUCwEIQAACEIAABCAAAQhAAAIQgAAEIAABCEAAAhCAAAQgAAEIQCAfAe6Q82lGiyGwDwEexO1Dje9AAAIpCLCYSSETjYQABCAAAQhAAAIQgAAEIAABCEAAAhCAAAQgAAEIQAACEIAABCBQhQB3yFUwEwQCzQnwIK65BDQAAhCIIsBiJoos9UIAAhCAAAQgAAEIQAACEIAABCAAAQhAAAIQgAAEIAABCEAAAhDIR4A75Hya0WII7EOAB3H7UOM7EIBACgIsZlLIRCMhAAEIQAACEIAABCAAAQhAAAIQgAAEIAABCEAAAhCAAAQgAAEIVCHAHXIVzASBQHMCPIhrLgENgAAEogiwmIkiS70QgAAEIAABCEAAAhCAAAQgAAEIQAACEIAABCAAAQhAAALCwiUZAAAgAElEQVQQgAAE8hHgDjmfZrQYAvsQ4EHcPtT4DgQgkIIAi5kUMtFICEAAAhCAAAQgAAEIQAACEIAABCAAAQhAAAIQgAAEIAABCEAAAlUIcIdcBTNBINCcAA/imktAAyAAgSgCLGaiyFIvBCAAAQhAAAIQgAAEIAABCEAAAhCAAAQgAAEIQAACEIAABCAAgXwEuEPOpxkthsA+BHgQtw81vgMBCKQgwGImhUw0EgIQgAAEIAABCEAAAhCAAAQgAAEIQAACEIAABCAAAQhAAAIQgEAVAtwhV8FMEAg0J8CDuOYS0AAIQCCKAIuZKLLUCwEIQAACEIAABCAAAQhAAAIQgAAEIAABCEAAAhCAAAQgAAEIQCAfAe6Q82lGiyGwDwEexO1Dje9AAAIpCLCYSSETjYQABCAAAQhAAAIQgAAEIAABCEAAAhCAAAQgAAEIQAACEIAABCBQhQB3yFUwEwQCzQnwIK65BDQAAhCIIsBiJoos9UIAAhCAAAQgAAEIQAACEIAABCAAAQhAAAIQgAAEIAABCEAAAhDIR4A75Hya0WII7EOAB3H7UOM7EIBACgIsZlLIRCMhAAEIQAACEIAABCAAAQhAAAIQgAAEIAABCEAAAhCAAAQgAAEIVCHAHXIVzASBQHMCPIhrLgENgAAEogiwmIkiS70QgAAEIAABCEAAAhCAAAQgAAEIQAACEIAABCAAAQhAAAIQgAAE8hHgDjmfZrQYAvsQ4EHcPtT4DgQgkIIAi5kUMtFICEAAAhCAAAQgAAEIQAACEIAABCAAAQhAAAIQgAAEIAABCEAAAlUIcIdcBTNBINCcAA/imktAAyAAgSgCLGaiyFIvBCAAAQhAAAIQgAAEIAABCEAAAhCAAAQgAAEIQAACEIAABCAAgXwEuEPOpxkthsA+BHgQtw81vgMBCKQgwGImhUw0EgIQgAAEIAABCEAAAhCAAAQgAAEIQAACEIAABCAAAQhAAAIQgEAVAtwhV8FMEAg0J8CDuOYS0AAIQCCKwKc+9anpXOc61/SBD3xgOsc5zhEVhnohAAEIQAACEIAABCAAAQhAAAIQgAAEIAABCEAAAhCAAAQgAAEIQCABAT2Iu9jFLjZ98pOfnM55znMmaDFNhAAE9iHAg7h9qPEdCEAgBYEPfvCDq8UMHwhAAAIQgAAEIAABCEAAAhCAAAQgAAEIQAACEIAABCAAAQhAAAIQgMBMQL9U5aIXvShAIACBTgnwIK5TYekWBCAwTV/96lenD33oQ9PZz3726bjjjgPJwgnMP43R02/0661P9GfZgwh90KcmAfxWk7Y/Vm/6iEBvfaI/fl/X/Ab61KTtj4U+fmY1v4E+NWnvFwuN9uNW61voU4v0fnHQZz9utb6FPrVI7xenN33Yp+7ng5rf6s1z9Keme/yxetPHTyDfN772ta9Nn/70p6cLX/jC0+lOd7p8HaDFEICAiQAP4kyYKAQBCEAAAtEEtGHQryXWn7rt5U/c9tYn+hM9Co5WP/ocjV/0t9EnmvDR6kefo/Gr8W00qkF5/xjosz+7Gt9EnxqU94+BPvuzq/HN3vQRs976RH9qjIT9Y6DP/uxqfBN9alDePwb67M+u1jfRqBbp/eKgz37can0LfWqRJg4EIACBsQnwIG5s/ek9BCAAgcUQ6G0DxEXDYqy1tSG9eY7+LNtz6IM+NQn05jfm1Jru2S9Wb56jP/v5oNa30KcW6f3ioM9+3Gp+C41q0vbHQh8/s5rfQJ+atP2x0MfPrOY3etOHfWpN9+wXqzfP0Z/9fFDrW73pU4sbcSAAAQhEE+BBXDRh6ocABCAAAROBHjcMvfWJ/pis3KwQ+jRDbwqMPiZMzQqhTzP05sBoZEbVpCD6NMFuDoo+ZlRNCqJPE+zmoL3po4731if6Y7Zzk4Lo0wS7OSj6mFE1KYg+TbC7gqKRC1f1wuhTHbkrIPq4cFEYAhCAAAT2JMCDuD3B8TUIQAACEChL4JRTTpke+tCHTve9732nM53pTGUrb1Rbb32iP42MZAyLPkZQjYqhTyPwxrDoYwTVsBgaNYRvCI0+BkgNi6BPQ/iG0OhjgNSwSG/6CGVvfaI/DQeIITT6GCA1LII+DeEbQqOPAVLjImjUWIAd4dEHfWoS6M1vNdkRCwIQgEAkAR7ERdKlbghAAAIQgAAEIAABCEAAAhCAAAQgAAEIQAACEIAABCAAAQhAAAIQgAAEIAABCEAAAhCoRoAHcdVQEwgCEIAABCAAAQhAAAIQgAAEIAABCEAAAhCAAAQgAAEIQAACEIAABCAAAQhAAAIQgAAEIgnwIC6SLnVDAAIQ6ITAHe94x+lTn/rU9MxnPrOTHtENCEAAAhCAwPIJMP8uXyNaCAEIQAACEIAABCAAAQhAAAIQgAAEIAABCEAAAhCAwPII8CBueZrQIghAAAKLI/Bf//Vf01e/+tXpghe84OLaRoMgAAEIQAACvRJg/u1VWfoFAQhAAAIQgAAEIAABCEAAAhCAAAQgAAEIQAACEIBAJAEexEXSpW4IQAACEChG4DrXuc504oknTo9+9KP3rvN973vfdMlLXnJ6/etfv6qr1OeBD3zg9IIXvGB6wxveUKrKveo57rjjpuc///nTj/zIj+z1feuXSvW3Vns39esnfuInVv/5Wc96lrXbiyhXgtmrXvWqSb916m1ve9v0gz/4gyvv1viUGMP7tvM2t7nN9MlPfvLQvl7iEpeYfv7nf371v30/B/WJyjf7tm3J33vyk5+84i6N9CmVY5bc56W0rYTvj9qXdf2PWl/L75fI0Ye1/3//93+nq1zlKtM///M/T//93/893eAGN5hOPvnkll0Oj31Uf+zyeMm56RWveMX0Pd/zPdMnPvGJ6VznOtdGNjXzm2Xu21dArR3uec97Tu9973unu93tbkdan+/bhmzfs/gjW5/2ae9Rx/Q+MfnO/gRK5sj9W2H/5nd+53dOv/d7vzedcMIJk9r+9Kc/fbrCFa6wqqD12nzXGmHXfGWncHjJdQ7kpqOTtc6383jSWuDc5z739Hd/93crn86fXR6xtnTXWcd97nOfSbprPen96Idk1X6dJ1g///Iv/zIp5p//+Z9POot48IMfPP3jP/6j9evFynny2fp6zaqxp7G71oSe9nrilvbbPrEPfufLX/7ydIYznGF60YteNN3oRjc6anVDf/+gT7UX0fm5/ttRP9FePGr7vN+PGM/eNnjLf9d3fddqvnjYwx7m/SrlkxGotR5MhoXmQgACEDgyAR7EHRkhFUAAAhDon4B1s2gttw+xEhvwww7BX/3qV0/f/d3fPX3f933f9Jd/+ZeuJu46yHJVtqGwuD7lKU9Z/cvxxx8/nec855m+7du+bbrFLW6xOtw43elOt/q3j3zkI6uD1TOd6UxHDXno90v1d58DX33nsM+tb33rSRdtuz67Dol3fV//vn4YLP4PfehDpxe/+MXTBz/4wemc5zzn9M3f/M3TT/3UT00//dM/PZ3lLGexVHtoGavGh/lZF0WXucxlVm0929nOtnpAedTHppaOlRjDljibylhykx6XnPWsZz2m08Fxd7BOPUDZliMOevorX/nK6sHK+c53vtW4bfXZ1PfnPOc5K18+6EEPmn7pl36pVdOOxV2/HP/MZz4znXLKKdN5z3teU9vWtVKO/I7v+I7pEY94xCpXZv5YvHuU/q37fp+69FvsfuVXfmV66UtfOn30ox9dzUNXutKVVpdlV7/61XdWmelxxK68sM+8thPQWgE9Qvqt3/qtVV551KMetXqMZPlkyAWb+vH5z39+uu1tbzv96Z/+6Wn++bB8PBfedaD88Y9/fHUJd/azn92C8dAylkcFc37THHGUcWNpbGT+uMAFLrDS5ed+7udW7A7yO2pOsPRtKWU8+weLP2r3y9P+9bbtux+w5PzofLUrL9TWYd9429bWerB6k5vcZPra1762b9XHvhe5fp/n1J/92Z+dHv/4x39dW+985ztPv//7vz9Z93bzl//sz/5slZs++9nPTtrvPfOZzzxW774P4kr5cdcaoZYv1zl88YtfnDQXKq8f3GuX6veRTWisoGV7rfPtvObQHlxrZu1ZznjGMx7rYa2zDq1FpLviez/7PIjTX5u46U1vunoQp/XCM57xjOmHfuiHVqGtZ13edm4q71nzrc9xn/rUp1Y5df6BhxL7z13zaGT+FR/r2dImlkdZP6zXV+NBXMn2lvDiPnVYctxBn2o9rvH2Dd/wDcfC7TvPRHvRw6PE2LPmbE+7SuXvbTGX8CAugpuHscpa9hEq94EPfGB1HqUzqo997GPThS50odXZ9wMe8ADzOaO3baXKlzijK9UW6oEABCDQEwEexPWkJn2BAAQgEETAuumxltunmSU24Icdgt/udrdbPQ56whOeML3lLW+ZLn7xi5ubuesgy1zRgYI6oJwPR8VVB6ZPetKTJl2g6v+vBzl60KRHfC984QurPLjRAaDi6yd6S/xGvF2XApu46dBu/vzJn/zJ9Gu/9mvT29/+9mP/TYc9eoi261P6Qdx73vOe6ZrXvObqgFRtuuIVrzjpYO8d73jH9MQnPnHSRc+Nb3zjXc0q9u+H+VkPtB75yEeuLov0KTG2LA2PiPOlL31p9ZBh12ef3HRw3B2sXw9O9eBn02ebp+exc/Bh3Kb/tqsf+/z7et+V4+5yl7usfnuGfLKEj/VQa1tb17VSnvjlX/7l6d///d/3/u1ZynXSc35w3IrTPt4t2VbLGNM8pHKaky51qUut5qiXvexlq8eI+i2Uuz5H1X9T/Qfn0F3xPf++Ky/sM6954s9l9Ujs9Kc//dddou6qJ0MuWO/D7L9d3A/r+74XP7t4bvp3z4OnbePmW77lW4r9pt+I/CFN9GBZF2wvf/nLV78Rb/1z1JywD/tW3/HsHzz+qNUfT/vX27Tv/seS86PzVc28EKllDw/ilEf0208//OEPH7u0/8IXvrC6uDzHOc6xyjGWH3Y6yFlrONWhH3Q5+Cn1IM67lp7XJLvWCEf1pXXtauUQPQ5Lj42I9lrWwepHqflWHtHZwQ1veMPVDwLo4r7FWcdh6+h9HsTNWushns5rtIadP0s56/LOcSX2n7vm0YjzE8+4O8z/R1k/rLehxoO4ku31MCxZtkSO23eeae3FgxxLjL1SOftguw6eVXvyt3We4UHctDpz0oPqg39dYtMY0/m8fjBTPwiu+wv9paA3v/nN073uda/VY3D9dtR9HoSXHM/UBQEIQAAC9QnwIK4+cyJCAAIQSEfg4GZRv1lID37e9a53rX6T0pWvfOXVT3rqgY3++8HP/Ccg7n3ve6/+lKd+a5YO0H7yJ39ydbg3P2SZD4LucY97rH5bhv7UlA4B/+iP/ujYb5zQBnz+cyf60yc6RLvTne40/fqv//qxn2TedMh88NfEbzv81U+Q69Bdf8rhV3/1V6fLX/7yq/bpM19e/e3f/u2kfuixnH6blh6nXfayl12VWT/I0p+P0m+a0//06ET9uetd77r6sxD6qdRLX/rS0/3ud7/Vb3ibP3P/9AjuqU996vSt3/qt09///d+vfguM+vjpT3961Ub9JK1+65Ee7+kC4brXve6Kkw54Dvb/e7/3e1f9+N3f/d1jMf7nf/5nuvCFL7z6CSn9uzjqV+jrkFUXBvpv+r+/8Ru/8ev6rsd397///VePS/7qr/5q1S49iBN/bS5Vrx49qB3zT8yKpfqoP0+rTauY/fZv//bqT73Nn3W99NuqxEsxVH79sEbl9ZsC1H7pcb3rXW/VlvnPLB70nuJqk/ya17xm5aEf//EfX/0mnfmnI9cfxGlDrD6ozfKh/pyoNsv6vh4eSA/9avr5T5roMEL/drAvF7nIRVbfW798URk9flL7pae8ow26NuAH9VQ51a8+rX/kKfFYZ7ZpbKn9etApDX70R3909dNwGp/3ve99p//8z//8uqqvcY1rTPpp2YMfxdJhtR6z6FL7X//1X6czn/nMK3byr8be93//96/G86ynLoZ0kCmGb3zjG7eO4YO/iU6+uvnNbz499rGPXf0GPatnDnpAvylJY/UOd7jDajzoEEp912+VuPvd736sW3MOu9a1rrXygQ5B5AH5fc5D635TW/WgUZdL+k1lP/ZjPzY95jGPWdWpsSM/vPWtb530E++6sBODm93sZqtcp3EwPxLQ4wbly4c//OHTL/7iL64es24aT4flP/lHGuq3Z+jCUAc7ypVq067Pwfyt3CFeOkSSN/RR+zWO//AP/3D1G+3UXvVNGs8faS3Wf/3Xf716CKEyGqv6bYPvfve7V/3SGFIu1b/pYZTG5/wRbz1QU1yNV+Vy8ZjH01H/ZOqmA03l2//3//7fpJ+M1uHX+p8x1J+41vw1j625DdJWvzVP2r/zne+c3v/+96/+b9UhrygX6DHuN33TN5n6vkufXf8+901e1UHe+ufa1772ap462H55ST8R+wM/8AOr3y6qeVtzm35iXL8ZUHXNF1G78qx0X5/bD7ZBeuqBqNqgtmz67Mp76/prTtEaQOuFZz/72Svu1jEuTyqnaC79mZ/5mUm/KeY//uM/vq5ZV73qVVe5SnOOJe8c/PKuw3NLjj64/hF/eWz9ozG/ac2iB/DSV2NS85Dao/8d9ic657p35YJdLMRT4+kv/uIvjjVXef+iF73o9Bu/8Rsr3tvWiPO8qPlPeWged/rtYsrX+sz91QXC4x73uFVOUb4XU+kvP2/7E99ah+kCWY8x1/P1usfVBq0P1Fat09YveBRb6xWNIT2w1zyosvrsysXWNeNzn/vc6U1vetNq3Kg9GkcHvSsW1nEjXuqP2qs5TvVpvajPul/X+2pdN69rIq0PfrTe1w8CaK2rNYzmKeWrhzzkIV+31p2/Y+2b8rEnnx2m3aYLQM3z+k0B8o8+4qG1rH7Tr9aiWtdpzbDtBxoO2z+ovpe85CXHtNF41W+60g8jzONVuc6yP9B6TOswrTOU2/Rn6uY2K84untvmmaPsf5S35x+smOuX9+S5Xe05mPPldT2kfu1rXzt9+7d/+7Gmajwod6uNWi9oDaF1s/ZDWufpT6ppX3LYPmNbXti01tbYtuohr2sO1fwqPbRP095WWipXaB+l/ZfmsfmjcaF9hdbI6oe8oLXX/IMSatNhOm+aD+b5V+u5OUfN8Q7+hjjFVI543etet/K4fnv1H/zBH6x4W/t82Pp91zrmsH+fc5T2RdrTiKM+WmdpLSpvaE0tz1jGsPZh2hOrr/qu1u3K81qba6yvc9Qaf9f6Yj2XblpLb8q1Wuuu7+u9e1/rWFpfuyr/WuZbjR9pu+2x7q51w649xMxbc57WZto7y3/az+iies5Bmr8P7mn0ZxO1T9O+Tvv4XWdJpdY58zxwlL2m9hbaI+lBps565jWp6rZ4+KBH5Hudt2ifOZ+PzH3V2lHz49/8zd+s1sna8/zO7/zOdLGLXWxVZNdZx/qfTJ3Lax8nfbT+0Xj60Ic+tBpT2mdrTtS41G8mPvgnU/Xfnva0p63WdvrBO/12Su0FD/52fDHRWlF5S2twrcW11pLG29bW62dd2scojyq/ia9ymOrQb6XWx3qmOOez2ffrOWr+rZS7/mTqrv3n+c9//p3e3RVjfd22fn6ith821rUH1z5dY1BrD+2t9IOaOhea/b6eH9fXfOtzvb63bf2gnKDcqzlH/5s/2nfr3Ei5XuNA54/ylfYeOhuVjvqtz/OfTNXZiXKF1gHKpTr7Uy6XJ+R7fV9jTX1XuV0fy3pHbDUu5Hvlp2c961mrczDx0xmafPvHf/zHx3yt8prHtZ7XmkDf0RhUf/Q5jL1lT7Wpfv1gpuYtjYFNc9GmR2ua++Z59Kjrn8PWKfv26SCzXTpuyvXzfzt49qOxJ+/oPPCf/umfVpppraQ5Vefo6/O6NT9b26dy2374Q/5SntWYlO+1/lVZncUrt+pPSmusytc6M5jP7FSn9hI6v5Wf5U+tMbT21DmPPvLMwbXn3N6Dv4VX6yLFlaflVeUgncnqo7yqM1+1R2coGm+aU3R2NNdruRvSvn8ud9icuGsMbTsbWN+Hqv/qx8H7DY0/rbF1f6Nzu/mjOUf91vmz5vrD9o4aL941v2Vd6T2btoytXWcUHu9SFgIQgEDPBHgQ17O69A0CEIBAIQLzgl0bBl1CaPOtgy5dSmjjqc2EPieddNLqJ7x1MKHP/CcgdFCgDZ4eY2ljevvb3351sDD/qT5tXnThdP3rX3918a4NoB6WaOGvyzR9tBnRgYRi6GBQB906wNbmTPXpY73Ymw9/Zzw6hFXfdCCji15tRHVYo/rmgzJdzOhCRptrXURpo6PNqj4HD7J0IKJ+6CBNB4H6aLOpP9eiByI60NRF2y/8wi+svq96D/ZPfVMftaG53OUut+qfNoo6XNIBjS6OxVIbN310oCeuunQ72H9dJGhzrEvJ+U+ozpvfuW/qty5N9bBPl9xqkx42qC595r7r4OM3f/M3j11K6GBX/7faLt2kudp8tatdbfXgRR9tnnWAqsNOfVRObPXAZP6zWnN7f/iHf3h1YKaDHR12zYdamx5q6JJJXOWH5z3veatDqPUHcWrPCSecsHosqAu0+SBXm/j5z/EcPCTWIx89mNPBwLy5lr90cKdDBx006BJSzNV+MdPDMOmjxyK6lNNBnQ55pdFhH+mpQ1v1TYfG63qqXm3e549+k5ce4sizOpxY9/imsaXLex0eyM+3vOUtV4clOgjTQYFi6s+ViI0OrvWRbhrLetyljzyudskfOnS+1a1utfqODg/EVZd8+nc9hNI4kPZ6FKEDQj1+FHPVv2kMzwfQapPGr9og/T2eOegBHT7K/+IgHXQIrwd+qlt5SG3QRzlMh73ioYMxHbLq4Odg/jjoN10sqqz8q0Nh9V0XinOukR8UU4fKYqHcoAcq8t76gzjlFh3gKjdIh03jaVf+0wM6+V3t1fj4h3/4h1Ue0uXItkdIs4fm/C2/6jJC7Tv4WE2+Vw7T5agOrKS7/pt8p1h6HCnP6hJEHlef/+3f/m11OKaDX3HRwxUdzunCXhfE6o8OqufftKkLTnlSFybSS22QTzQfKEbpB3Fqs8amfkuZ2iFelgdx8o3+1KoeH+pRjfqqAzTpLt4amzq0VF3qm6XvhyYEwz/O+unQVA8W5488KR3lPz3sEkO1X7lRftSY1riVh3UIrvGv3K9DVT26ng8+d+VZjbGDh4jrTdbY17yhSw3pu+lPdu/Kewf11zjSHKpLLnlRB5nKK5YxLkZam+jidP6TRmq7/Cld9dEDCuUh5QBd2FjmqoN99j6I27X+kabKo/ro/9WFsC425dn1i3v933oMqxwm3poX5HOtMTwP4rblgl0slFt14aqHV/ODKz3QU66UH+eHKpvWiLp80EMj+VBziHKN2q+xpcsJrZnm/sqTyiEqIz9pjj7sQZzyteYhzSt6sLqerw96XGuX+U+ba37X5+DlkeZ+/XfNTcppmpO1ztXDPX125WLrmlE5UONROurR+vx4Zfau1hSWcSMumgPUJ/02Sz14Fbd5LVbqQdxBTZQTdGGitaPGnDhpvS8va60rnvqfxpx8LN/Ma915LFn75slnu7SzPkTQA095WO3Xeld5SA8PNv0WgcP2Dxonmt80d8z7Fl3i6tHmPF6t+wONFe2bNNZ0sSddNf9rbaHPLp7bppqj7H/0wyJ6mK89itbu+ugBhdaqu9qzPucr54uV1ijzR3Ow1qNaN+m/6//VOJzXeRrzyh/zg9r1fcZheUHjWusajZ95Xaf53qqH1kDaw2oe1RpReU0X+Zp/5FmtofSY++STT15dwqpe5W7ppj2mLkMVV2v8+WGjvneYzkd5EKd8oryg/KXxq/2N2iMG1j4ftn43LGW2FplzlPKY9sezl7S+0bpeOdX6IE57Zf0wmNZnWsdpTtKY07pt24M4y/pi3kdov7lt/tyUa3Vusb6v9+59LWNpfe2qHKZzAMt8a30Qt+8eYvatvq/5V+NcPtQeVeswrfHUfvlQ+s8frV91XqA9hT671lLWPc+udY7qkUb77jU1J+rRjHKj+q6HRBrr83mWdR6SX7U/Vm6c9zIHH/3I29pP6oeXlEfUZp2hKbcoP4nrrrOOTQ/ipIHymuYbraO1ptK5k7w/n6EoDyuHyJua3/RR/tW6XWtunZXov6v9Wt/poz4oR6qczmM0byj36YzlsAdx+u581qW26YxDc7EeiWi+0d5V84l+iEn/3XqmOOez+U8Fz/7RWYh++EJzjs6Edj1WWx/36/tPrct2eXdXjINr1E3nJ7vW1hp3OgPUulC5UWsT/W/+wdyDZ0vb1uHau69/Dls/aF+qsaB98vyRb3S2IC8oV8tb8w8daE2ks0CV3/UgTmcP2udKb+UOeX3TD5N62juv3bX+Fy/N2zpDUvu0D9H+VtpqjtfZmNbq+qiP4qcHM3qgJF+KocaHtD+M/a49lfZNm+qfH33NP5y4fq6z60HcUdc/h61T9u3TQWbW9cSusad9inKmNFVu1Fm39lzax86/cXa9Dkt+trZP5XY9iNO5qjyiXK61s9qs/aA01PynXzqgtab2N8pZ+qg/Gkfz2kJnHMq3+sFWndmu5zSde+gHsHUuqj2E9mmal7S/0bpL54uak1/5yleuzvXmB3HK5VpHae2oNmqtq72Q7jIsd0Pyr8rtmhN3jaFNOUnrWPn+4G9PVTz9b77f0J9/15yk9ZDWwPP9xqyfcof2CdpLqd/b9v3Swrvmt6wrvWfTlrG164zC413KQgACEOiZAA/ielaXvkEAAhAoRGDe9GjToct1bUw2XZDvuiiem6PNlTZV2tzpo4Mg/bf5p4D137T500WaNnn6aDMy/6YfHTzoo4M8Xcbqp3702fdBnP7UpQ49dMmsy31d9M4P2A7+tg898tFHGyodduoySA9A5oMsPXzR4b1+4lKX1Id99H0dZOCz1F0AACAASURBVGiDOfdPP/WqQ4b1z0Gu+kktbYB1gaqPDju10RWDg/3Xb3HS4ZXaND8K0oZ2fhi1qW06nJ4fR2lDOfddG/P50dKslw735ANtMvXRwab6pANtXSqtf3TRr0cTOqAXo1kv9UebfXlBP+E816d/3/RQQ4dlumjSZ9shgzb4+m0NuoiSPvposy8OurBVO+ZDYh2463BEden/f9hHP0kmbec/Mzn/uRBx1eGEYuigbP7o0k6HCvrosFqHd+ufdT0P/rv6qQNF/TS9Lq5mZvOlzqa2zr+pUQfv8rPGrFiI8fwbTsREB3x60KaPDgEUQ2NN+msTr8sn/XYBPeKSLjq8ni+19cBI40QHmdJIl/o6aFJsHS7oYEF+3DSGdZijvug38akfm/7U2tyvbZ456IFteom3Lp3n35ihMSQ/q8/zb8aSH3RYqcPldb/pAF990uHm7KE5lg5BdbmvA/N5DMxjR2XWH8StXzZtGk+H5T+1QV7SJY60mj/y4ec+97nVmDrso74rn+mATIfQutg4+JEXxEuazB/5QI8BdCGgAzblM/XV+mcF5A3lKT3KFXMdSOqh08EDdV12Ko4e2ZV4EKefCJ21mn8KXI9w9dPom37zxabfEKcDQv33+TcN6NBYl/KH/fazdfYH+36oMMZ/3DSvKq9oTtRjAY1t+Xj+bT26YJx/Ml0HpDrg01iYfxpal2cat/PF1q48a2mmDjN14ac5Ubx1wKocqwPeTZ/1vDfrr0trPfDQfKOfFp/n+k11bBrjmoeU9+c/N67vaZyqj/Mjcj38lsb6jVabPpvyzsFy0uOg1w7mBV2A7vpzaOvrn4N1K2dLT+UTabv+AEJrHnlaeXn+6GGp8r31QdxhuWCdxyYW8rcer/3/9u4FeL+tHvz4die5RKVxkJkil5FwJMl1DhMxMjGIQsp9Kl0wNWMQlWtMYoxcQuUyKaFxGeSaEVPJpYRJRiOXJlIk8p/3M//1m93ueb57P9/f95ye8z2vPfObc37f3/Pdz96vvdbaa33WZ689Hmjontf9okB7AeOz+ohNxHUfnK+OW1+iPlX3l3G+TbLOV/gcyZ5NoO1rj3sKvUnRXPa9QnuU8epBk+vdo5q8Gtt88qj7eO1A7dVI3h+f29IWH9NnrLxUb0qkrg5XNksePqbedKzzOl85r98wXtlzUQlxy2syVqYaK0Evy85oE+rX1leqzBzbJizPba09O+vaLe/x43j3rRBXnarf1NY1rxxURuerpo7fP2v80D21+30TV/NxS3XgrPq6b3xQXWwSdH6P7l7eJO2WNvZQO35R45/a1LO2Q23+eKCl5LGu73iIp0nxrk1t+aG+y/IesGyv6sdtaRfmK9jsO4e169H3lpjRGKJk87bqX2PJkhcbHzRJVZ0o2WKUhepq/cnqSPW/duis63w1CXFNYDY2qh5u2fad8zH99y3fMT4z2qgeNGkMWEJPRiVQlbRRX3drQlx9gCZ++70xFh2rCh1KiNt3rMuy1WfW+tL72tp94/rO7Zix7/L49tWlZd+139l6v92SEHc1Y4hRbru+JbG2NUasL1F96DrX9yuxuv5b44RiHP238eehh34O9aXWrtOWfk7X6LxjzZJ5Kn9jZbT62iXQjHq+JeFiXkYqv431+v35VvvR+Gze9tYHry3qd0r6WIt17EuI62HNHp4bK1cWY2pMNB8bjfFTMaaRELd0bexRzKS+VFvxp/Y5X8myB0BKwlhLiBuxrh6mqM9ZPHD+8E1JJfVJi0FsjSnOV7wcx95qmY3vS9wbydlryWrLMcFy/LmvfdkXB62vMK7loX7bofjJWl0fiWiVi33jqn0Jccs+377zOKv/0HUvVtx4pnFh9/HqdGO7+rn1qSoTJdiMB2wa39R+ryXEzcfkxYHbT+Pi+djv2OPd13evf1UZLo7RA1RtlffatO41+7bijCXTjlXt1uzPGlOdtf/GOsXr9sV11hLi2u/WV6au9X/aV7GceX/0vOc0zLb2H9bqXomi9bFqj8cq5ZW7ylgPS5cw9eZOiOv+0MptZ23NPxT/a7zcVp+yOP98zqD7VfMmjcPnW+Perk9tbcnIbY3Tq7vjrRf9rBhxZap+6kiI6/vqu7aNeNgY8x0zN7R2T1ye+7IOnRUbOOuVqcW2s+oBp+4PJZGPWFjfWZy9xO/mpBqL7xv397ll33xLn3/f9bza2HT7PKtubYlRbK1bPkeAAIHLLiAh7rJfYedHgACBCxCYr1BTkKjAZf/tqdUGWCUYtR1KiCv4VWClSbueriuZpuB8Aa22gk0FeJs0GluDlIL3JduMwUjBiJ76GVsTx31/A7eSXM6TEFdyT08NNQhqYNxWEkcDvxJNRoCkY22Cuq0BaMGdgjgFoTr+BpUNThs8Nqk53xo4FVRpwFXCWJ/rT0G9JoHG+ZU00uB9vjXwLHDU5FmBxOw63xwb3PcUb5PAY8JtnizVhHLnV9BmvKagIOdIZuw8Ovb+rfNtsrmga/vqCftx7tmUNDO2fqdJn3Ft+nmB2iYsRpAqr5KxSuJpMJ5B+x6ri/U7Xa8mPwpqloxV0s9825eoUSLCeJ3OoYS4VovoPHu16tg6hiZHGhwXGCi4WuCg42ygvlxavgnqzrN9NEGXe4HmAgNNNrctE+KWiWr5ZNrxFsioDnQ9SwBqMqDvWF7Pcbx9bwG+jq16NrZlGV/WrQKOBcgKLleeR9lsInckTvUEYgGBsdpUA/2CRSWiFJjpPEYSZdem/fWn4H6D7YJJeRU46bxyHHW4cxt1sjqxrMMFFbsWBcC7DvNta5mZl4Hx+x13ky3Vya5TDgW7a6vaaps63/nqA9WPgm+V0bZ5ecujSZrKbUGijAr2VQdLCms1niYjKrPzutN+1hLi9tWns9q/kWy3fBVv51gy5vzVvW8E+v//0rlXp5tgqh5XtkaiR2WwyZNlwldtWBPS2VSf+v1DT19XJkoeLJBdgHHUlVblKAjVuVWelsdfG9gEcu3iRSTE1bY2OdPWNen6dK6VgdqDLSvEFZSsfZ1PGDTR2GRg9aMkvs5lBO/Xzn3f9Tj2Z/vuq7Uptdu1m+NaZliwrWMaW6uD1EbM761NiBcULHlkWe5Hu7yvjq0dd24lbJQA0D0n9+pkx7/W7nXs2VcWS5ZqwmS5banjlYEmUOdb9bFVHmrH6yeM1Qh6irptS7sz31/nMy9r499qF/qz1kYv+z/j95vYLDDbZORIyFwmQNRnqL817wc1GVQC4daEuENtwVaL+mYdaxPZ2XUPb0KmVTtqLw/1EUeAu/tPyR9jy6Pr3n1hnG/3h4L1YxsJcU2Mjzo+d6/M9/lWM+leVxJkEx5jQre2vWPrc+M1evNrOp88qm60r8pL++pP7t3/trTFW/uMY/KzetM9pntj9+xj682yzlfeWwWyvkfbRSXELa/JvoS4ZV+3c+tPD3/U57/ac1trz866dvvaun62LyGufnmrBo+t8jle7T4vN2vjh331tXFLfbtRX7eOD5oEma+eVp0vWXu0BWtt7L72e+34jy3L8+9YO57lPb/+TG1J/cb65/XPug79bPRd6lt2bxr9vPoQtYeNPfaNM+rHrbULy1e6nfd6NK5q7FjiS1ttUe3ceBilvk7laKyg3mdG0t8YS9YOnXWdryYhrj56idO1ofVjKt8jcX7rOZ/Vf1/rH5z17/M2qrarhOD8GtvWf5m/6m0tmai+Q3/m49PRzz0rIW6tfzHa0rPun/va2n3j+mPHvlvq0rLvesz9dktC3NWMIUa5rf0fK/XW/tVfalxR4lZb/Z76fyVp1c+ovWulsdEfX4sljTJ21phnaz+n7zzvWLOkvjGunNfz8TDpWhnud+ZlpLaw5PnlavglFxaLWa7KXKylFdsbu6zFOvYlxNVPKvYwtsZo7av9zrf6RCUdj4S4VvIt1lVCa3WudqU2eryyrn5A+xkPU7SvxojtYy0hbsS6urYdc/3I+da4vwe3SjbfGlNcJsQV52icV7vduYz+45aEuLPGn90b1sru2nd0bzjU/m6p6yXJdG71GerT9mDqodjSoX74sg1f6z/0+ZKperiy2F+xgJJO6lt3/UrOKWG9lf3GVkJicZW1hLjG+CP2PPrlXYN9q9iNfa8d777+Tvfr7uvLcXXHNxKPui7Vz8bj9VXqe/f54k2NRdbszxpTdeyH9t+9pTK7jOv0O+dNiNvaF1jrj573nIbZ1v7Ecjy+jP3UF+j+Nn8AbsSrx73nzZ0Q15h0vE2l825MXCy1+lKZrv2sHe3eOB64KMmreYjxoF+/t6+d7veKfY2304wHgovHNXYYbwro92s7e2Cs+PRIiCu+0Fh6bN1rSnQuDnbM3NDaPXGtDp0VG9iXEDfmN4qPNjYYD9aM+Y1xPt17ilV2fLVV+8b9oz4ty/xan7/fW+tXHhubbp9n1a0tMYqtdcvnCBAgcNkFJMRd9ivs/AgQIHABAvPBYkHqVvIoWFRwuSBWA44CHvsm7gsQ3O1ud9slTDRR2oRAKzIVCBnBvWUgqEMueag/DYLGYGQtIa4g1nhl2jjtBn0FVTu2fZMJBeZ6UnMMEvu9zrFknwZGTVisJVJ0/CVMFIgpYNiEfIPPsRXw60/n06okHVMDuIJtTYoeCl40SVJSTrYl45Us16RkQdAxmdbEQUl5JaMsJ+JL9ing1376/iawR7JAwZqCsgXECma2/waEXaO14Pi+hLgx4TACDAWBCtJ13Rs0NogueaqEsrEaQ8c7kk1KnBiJbsNtX0LcPOnsUEJcK1N1zvOl0cdqDSMgX5C4QXLXuITIyuQIfvb9JVCUmFCAoEmjgncFBZqEHCtyjIS4JpbyO/TK1BGYKsmo65l3QYgmA5bXs+8uGJFVzsvkyvk13le38uy4R3kuMFd5zr9zLYDYuVQGxyqDHV/ltcS2PtOxVQZKWOv8cy5IMgJKJQP1+3n1RP9IiKssd71HQlwTyMs6XPJOwcESAArkzBOPtpaZZeJhk6Yl+dSm5NZ3VKdrlw49bZ1z5bB/LwjatixvJcw0GZNDganqYeW74NRIni3hal532s9aQtwycWWt/RtPOHac88TUvqvr2qtLz9pGu9xEc21Z5baEpZyW9XbsJ5vajxJdChYVsDuUEFfCXCsutdplT+lXvioDlauuf0G66naBqHk723eVmNnxXERCXPeT0Z627/EEZ+dSO9dE8L4geslyXftD7Un7qj5kVhA8l9rRApJr534Bt983ua+WdF1ArLZsTGj3PfuOf1/ZWgv+rq1wtvWcWtUlp9qHtXavY+8p+iZpOq/K+ny10PPW8Y614HL7yqz6UhtZOzdW79jS7szP+VDi//jMWhu97P/0e51v9976EfOVSpd9lhIDmtBqsnNsywSb87YF/d4Wiyas6ut0zCU/FvCdT2gd6iPmXV1vknn5+szahdrXfX20UbbPemVqn2lCtPLWChjz9rq+XPW7e1WTLa32sHy1+XLyqDLT+dXPrU9Z37JAcxNq1fuz2uItq1GeNfl5bL1ZTgaMV692HdrWEuLO029uv/sS4tb6uld7blvas0PXrqSpxhC9rnLer2qSoz7ceG3l2oM18/q1Nn6oramft3yQZ54Qt2Z2aHwwTxIaY4W1vuWybVg7/q3jn/nKNn3HluPZd7+qr1ESVPfZ+jolUORX36V+WAm49TPqx9R/6SGF+rElGxwaZ6y1C8uEuPNej31JLvOytC85cqyy1NirftzaJHaf6zzrQ/cwRNtIhijJYf4Q0Gg3S6YZK0vVTtcG9rn6c92LOq6t53xW/31rv2Df5+ZtVMdXAkJbY/fuSfOyvlaH63M29hgrYLeftYS4Lf2LeVu6ry+9pa2d9xG2jn3PW5fGQ2DH3G/33bvWznvLGOKsRM75CqNdtxJnus8W22gsOlan2RJLGr5njXm29nP23Qe2lJO++9Dk/0h8XSvDHeM8PnLf+953N45aJsRVhirn8/vLMGiFqsb1a7GOfQlx7WOsnD7+v7jTPCmon88T4nrgtXtp7U1JrcUaGj82RhpvU2gc0H5G0nD7KMZQ33wtIW7EunrwonIyxu3z9qR7fMlUa2PqQ/fU+iclMtbXq589trVktX1jgvn4s3HNsXHQff22Q+3vlro+2sHa/tFHLjF6rNa3b4W4EQs81Lav9R8qA8VDuuaNubrXdP8aD7V0L+/hmvMkxM1Xeio+UaJtCfDzceNF9He2jKt7gLj7dx6NjYq7FVecx6pqJw/Zr42pDu1/xKaWcZ3Ou75R8eb5w2Ul/BSvGq8K3ddn2doXWCaTzu/Rff95z+msN2Cs9R3Gv8/rXm3WeLhz/PtIiCs2UXuyrGtb2udj+jtrr0wdq6SOffbQdX2f+jJd++KtxbVrk0a7vDUhrjhmMZXiiLWPbY0Ni72V7Dkefu7nxbZLditWNxLiKrPzlbFbob3z6b5yzNzQ2j1xrQ6dFRtYjoHn8xslERZvLkbccS/btPHK1Mpr5WbfuD+3fX3ztT7/1v7CMna5Fps+q25dbbz4mHLtswQIELixC0iIu7FfQcdPgACBG0Dg0ARwg4eCG61q0p8GFgU95k+WlqRS4ss8OF3QqSDMsQlxTYaM16N22k1sNhk8flaSSitIFIBrK5ml1ws06NuXEDcmygtizJ+U7HcL6DVxVlBjS0JcE0IlIhW8L2GmidSxck+JVAUnxyR2wZImevpzVkJcE7ENOu9973vvJjT6bMkQPYlYUk2TIi2jXjC0wOi+AG4Tzw1mG1wXRByvKvuTP/mT6dprr90FbkdCTYHzBs9bEuI6jvFqk7xKiOncxytTO/eu+1iFp0BViXsFPucJcQU/Gpx3jl2n8XqP9nnehLhDr0wtuN7kUYPb8T09HdZAt8mlVlAbCTs9eVl5HoHbymqBtiZqRkJc59NS/K3QUjJDQYQC+cuVsMZAusBL39sTe2OFnPn17Lga6Bbk6on5+UoSo5rPr/Gybo2Vh/IsoNvWNSgo3VZ57viXCXGV/c638tWEZOfU9Whg3eRkExatCFfi0Cgr43U3XaN+PgLGfW7UyX1JrQXRqp+ZlPjR5MfYjikzBd/G1nl1POM8+3mB3iZKryYhbt7udV0L5ldv8q3uVFZGHRh1p+++6IS4Ar8jIXbUp2Oa/fl5tDpd7VmTBtXZJkwOvTK1ctj1KRmyZKWu875XphZ0LahWu9TW6pXVlb63MlCw+w53uMMuMao6sG+7PhLiamerUz2R3j2ngNv86dASjKvjWxLi5sdc0mXB9yZF1879mOt06LPz69c9oTa8IOV4hff4vS2B+z57QyXE1baWJNwKAGvt3jj22r/anu5BBSbH0/7nrePDpjatfZYQ1z47pmPanfm1OSYhbkv/p4nE7tPVsfov823fK1NL9O4VVmOr3nUf2bpC3Ai+7msLtrTBfW/30h5uKCGu61VfbN+27CPWLrSSzWgrlr9zNQlx833N2+ueoh99ifEqrL5/Pim7L9g99ldwvXakCelW2Fhri682Ie489WY+UX5sQtyx/ebhsi8hbq2ve7XntiUhbl4O5teu/kbXv8ToJv3amqQsSbMxwLEJcVvGD62Y2vVYjlvqQ476umbWca4lSo2xwll9y2Vd23L8W8Y/tfEl8pYoPrYtx7PvftXEYN9Zu9n1yKb+T4aNcaqDrSI1+i49lFF7Xj+sbd8446x2ofFh7VH93rGd93qsTY4demVqCSnVpfHK1LMmmkssKQllvopKScD14Usonq+K1vk0NmksMFZKnlvUj6h+jBVAto5RD/XfD/Vftvx8fk/tntHYqq3rWj97Ptm+VofHK1Pnq743NmhMcGiFuC39i45nrS+9lnw8LMY4bsvY97x1qe869n67lhBXPTzPGGJrQlxtYvW5JKmSlksgGwkuW/pSw3ftOm3p5+yLp2wpJ313MbCcxipm9TdbvWy8MnWtDHce8zLS+KoVbpYJacU66vtV75dxh2GxFuvYkhA3XplaYsl4nftY3XK8MvXJT37yri1t/De2Xj3eqpQjIa563AMKPbAwtpLRW1n6rIS4ktRGrKvyUJyhfnNt7r7tPAlx9U3qf9en7R40386TEDcff1amj42DHmpLDrW/a3V96dQ9tNhgY67lytaH+uHzfWzpPxRvGp+rnFUH8h2rRI5XptbOj9dbd28rgXBthbhjE+K2HO++/s7auHqsaDePb/Sga7GOQ8ldS/tcD42pztp/MZridPva5PbX/WW8haT7aolexX9GQtxF9n+WCXHnPaeLSIib173idse+MnVL+7ylXzM+c2xCXOPMrs1YEbqy28OmJcHNE+Kaa5i/HrV7Zg86jJ/VN2+sUxkpBjffDr0ytftM8zPHJsTN970c96/dE7vvF5M8qw4dapOK23ffqT0Y23J+o/h8/eC+Z54Q1z2nh0pLOF+uPL8cO54nIW5rf+HYhLiz6tbVxouPKdc+S4AAgRu7gIS4G/sVdPwECBC4AQRGYKZJzwLLBd8LnjfI+sIv/MLdZEUBqjH5XTJYTzI1YVrAo9WCeuqoIEjBjlaRasB0bEJcg5ySGxr8NODr/wuS9ve2AvwF6UpOaUDcILhAW08g7kuI67gLGpRo17HOtyYvOvYSuLYmxJV8UzAwiwIRBeZ7CqtBakHtBrI9MVngrSBF+z0rIW6sHpDbWHUp4wZxBRpLNmmQ1j4OvTK2pI+CUk2ilKzY011tJYYVQOtp3laVKPGpCeKSV7YkxPVkZ4kh/bdJxRJOmnhuYqytBLMmjns6sX9v3z3F2fEvE+IKpDQAL9mnclJ5aTtvQlzfV/CgCZCuY5OSHV/XpdVs2kaQuGtSEl+TpAWX+v4s+2yBqFauq6y2n4JcBSNHQlxJa00md459R0G8rm/B04LGY1WZgoCtkNX55dJ1a9KtBMrqVN8/Jkc7jr63ejJ/DUqWy2s8Xhk86lav8SzpsiSnsSLECOT2ZGjluWu7TIgrKaiyVjnrfAuaVc+bmOt4Ov6e8C1A36Rbx9xAv4B0NtXDAjOtUlgS2qiThxLi+nkJC5Xd6l9/P0+ZGfU1/17PW53q+PIoWan/P29CXAGs6k7n3PlUrpvUqA3qunZ9cy7I1GRF9aCgZNtFJ8S1z+p7Zbdj6Unzyngrdda+9OTjWdsysF55q+0pCF5gtsTLJgJqJ7vm/b02quSxEiW7tiV+VdYrY60QWDkqyF8b0FPfBav6vbxKNmlirVUWx7XtPlF57/irA5WTJjnab4m0F5EQ11PyI4m0+lQyX0GuvqfXphX4KqDYBFLJ0k2CVw7PSojr33LpCdPOt893n2kfPbG75dyv9hY9rl/fWaC25PMmusdWALNruRa4H5+/6IS42qsmtbre1YsmG2vrayNqd/rvWrs3P/aCvxmXYFE5aqLkvHV8nHPXuwT0tsrhfIWyLfeq+TXMb17Wxr+VnFFQdz6Rumyjl/2fJgq7b1a26rfMV8zsvJdB4MpjbU5lt3a3etg9vDpdf2rZj1mWvbW2oDZ57b7dPkvC6H5X+z9PjK9PeFYfsftLiX+1I91jS+CprFRfK9drCXFNii4TxXPv3tOxdF3r6/SQQG1YCTL1Red9ia5/E4E9hT9WCpsHu9tXE8zd37ufd9+sD9WkcCugrLXFWxPi6vPUj67edO+qLHQvPm+9Gdf62IS4Y/vN43v2JcSNvm73yvr59Te7vt0nLuLc1hLi1q5dfZfamry7tt2rWi2l+nRsQtyW8UP1v3to7XXjlPoPfVd9+NHnO+/4YD4BOcYKZ/Utl23BluPfMv5pQqprW/+4MUXtf4ltx7T582PrXl2ZqV5UJ8ZkUfeA6l5tXO1sk4bV8ep7CV/7xhld67Pahcay9YdLVqi/3X7Pez3WEuJqo5vkLLGv9qS+ROOSysYoe2uJjzlVl0oqqT9YP6qxVeff8ddP71p0TrXRlbX6w7XVfa6xVf3i+qr1G3vwayQfHTNG3dd/v5p+zvK+1LVsGyutz8v6Wh3uetdOd571y5sgbMzZvaky3yrfy/vMlv5Fx7N2/+xePJ/cPJRoPe8jrI19t9TtQxPux95vtyTE5XDsGGJrQlz7bqycSSsczVc8XOtLLfto8+uwPN4t/Zx9CXFbykllpLrUGL/2qqS+6nx/6ve0rZXhPjP//tqI2qgSyUZ8pM9UTxqzFe9oDFc/Muu+vzFx/Yu1WMeWhLi+qzFjdWkkDlTWi8N1zymGNFam6ThLQCgx4xGPeMTuXjcS4uob9m85Nu7r+hZbqZ9QfGret64e188ujpbbiHU1/q5v1rHUdtUfLv4ykqt6WO3YhLj6AOPB0dqHsdWOdr/ZkhB31vizeMyxcdCzkmv3tb9rdb17eWP3ykuGJco0Hqlu9PdjV4jb0n9ofNJWLLZy0v1vnjg/2uoSoGur6xN1/+33Ljohbsvx7uvvrI2rizVXzxrPVAcbD1WnSsAZyV1r9meNqc7a/0iI29cmF9tsTFVft9hHxzBWhB0JcRfZ/9mXEHdonLjFbGt/YjkeX8Z+Mqp9bIXw6nGx7/pdJSwOh2Vd29I+bz2+PndsQlyxpeZR6lvXn66dG/Ms84S4YnTdG+or1/42xqh9rm9Xe9g9qJjwfIW3+sv1q9pP512crDjvz//8z+/a6/rx9TGPSYhbmxtauyduKQ+HYgPFQRsz1Ib3sEznVzLbfH4jy/rctTe1k5X77OoTF4No9dn2c9a4/zwJcVv7C+dJiDtUtypvazGKY8quzxIgQOAyC0iIu8xX17kRIEDgggTGYLGgVMGKgmAF4lodbqw61Vc10CyY2ROAJYaNV2G0+kITlA08miAvKaGB6bEJcQW5GziNlbwa/JVgNSaRC4qNV0YWGGww0mRfgZh9CXENFttfQaHl1jn2BFUJHE0qzFdfGQHqkUixDJZ17gX9SmAq4Nd5N2AtGNhgrQmLgiZj1be++1DgvCBGAcMCim3ts0Fdn++ppga+Y7WxfQHcjqVEls5/E87zNgAAIABJREFUPG02zrUknwbABSKblG9QW+LHloS4Buf5l6TRawgLbjbQbJKxrX10ngW/CnZ1nUqsmr+eaHm8Y3nxnjRuNY/zJsT1/V2/ympBgpKGSlrqWo4ntudB4j7fxHmmDawLXjQwbnKpoFbBrq5BgYU+MxLiSrYscFGyRedSeeg8K09NODVB1apUJYuUSNe173r2Os/KfkHd6kvXcZSveULEvEyOsrY0m9etghwFb6sHy7pV/as8NyHbOc5fmVoSZOWoa1ZZLZhXXe+8CmRWjyt/TcL17wWvC7B0jk16Vofaf+WyAMOok2clxHVuTZrmWbJU1+Y8Zab9dEwF5As+5lOdz6G6d96EuMp3CSfjtbLza1EAvsBn55p1W+1NgeW26yMhrgTbVgNosqGy2YpF1dnqb+XorG3filbV+SY4KjNNOBQUK/Gr5ODKbGV8HkRrUqd2sCBMCUt9pvakYGOBqtq3gkpNKFdmmriZr3Ty+te/ftdW/MRP/MTOqSSVgm4lTZQUdxEJca1kN7aCiOPJ4CZ920qEGfW15M8Sc6qbZyXENckxJntK/GpCobrS9a/d3XLuV3sbHtevgHP3t+VWMLOJzLXA/fi9i06Iq/51Dyzo2EqwXetWksy28lmbu9buLY+9MlaybG1E51Z9Pk8dn1tVT7qGBULn25Z2Z/75/OZlbfxb7cKLXvSiN1mp9az+zwjy7isj1fl9QeBW9Kkuds+qDnVvm7+W6mraghKZ1u7b7b9jK+GgPtm8/9T1OquP2O/Wf+se2KpZ3Yeq//ULRnJp+12+1qTy0XFVtpZb7rVX/en7uw+1z9qbsYrisi/Rk+j1WbpX1Q7M+19NCBRQLgGu+3KrRpQ4NV4ts9YWb02IawKiwHwJuz2Q0Lk1Ydj3nLfeZHNsQtyx/ebhvy8hrr5g94ImJ3Lq/lKdq4/QpNTVtAl971pC3PzaNaFTMlp9t3HtGrd0X++eV5vyqEc9atc21bYemxC3ZfxQfyvf6kT1tftlbXhGo883zI4dHywnINfa2GW92XL8W8Y/tf/1Yzv+ysRYkXvteA5NEtaXrO9dkld9jDFZNPp5JXs04VVfozrcqnGVr33jjOrCWe1CfZbGMSUYtP/K7Hmvx1pCXP4lidRv7MGtktjrS9ROldTbtiUhrjau8tM+avtKbKgdKUGuvmdtZ2W/tqT7RGOdHmrou+oDVQ4bR9YXqh2uP3+ec17236+mn7O26uq8rG+pw92Hm/Ru/NYDPhk1tq3eNzZf3le3jCE6v7W+9FjR9qwH3drPsWPf89alY++3WxPi2u8xY4hjEuLGamDFA7pfzLe1WNKhPu7yeLf0c/bFU7aUk1FGmpyv/ep3qoONscZDblvK8Pz7aytLfKidG/GRca6NpxpzVbbH6twlC5dgVP9qLdZRX6PrXlvYtvz8/Htql/ts46Da1ZLium/WN2/rZ+MhyMaXjb1GYvN4GDOTVo0r/lX73ViycWHjsHnfujaxeFKOrUI8j3WVDDdW3Czu2MMj9e+LWzT2ODYhrs83Fl1u4zV7WxLi1safa2V37TuW94Z97e9Zfese8Ct+UFyn9r8xcO3/ePX2sQlxW/oP9X+KU4xV4ktgn7+uPu/a6spVSfD1/YsblVx20QlxW453X39ny7i6/m7jiGIz3ZN7ILPrNRLi1uzPGlP1b4f2P0+IW7ZxjcuKU9Q/qi7lXh0vdjQSwS6y/7MvIe7QOPGsczrPCnFrda84dG1VcxPFYWuXKovFhvfd17e0z8f0d45NiKtNa5xQW1ssq/H9iFvME+JK8utYu1f2YGT3iNGOFcctkW651d8dD4ZXTutbdA8pabLyMtr/YxLi1uaGttwT1+rQWatW1pct5thYs3OoLV3Ob9TG1Cds3NC9p3tGZbbPF49cGzueJyHumP7C6DN2vdZembrWXqzFKI4puz5LgACByywgIe4yX13nRoAAAQI3eYEmP5qoaWKgwJSNwCGBJssa9M9fNXSW1lmvmaNMgACBUxEoQFiCZMHgnpq/TFuTiwW4u9ffUNtrX/vaXRJwySslr1/WrUSKElcKpF/fW4H58fqW6/u77J/AqQrUnjXpN19J5lSP9cZ4XCUy9dBIk603la2xTSsrt6p1baztdAVK+Cp5oUTiJvltl1uglfNbRa6HrWyXU6BE8JK2iy21ArXtTQUu45jqMp6Tsnu8wNoDD8fv0W+oW8oAAQIErl5AQtzVG9oDAQIECBA4OYFWG2nio6fEWt2pCQEbgX0CPcVWMkUr8PTkdxMSWzYJcVuUfIYAgTenQKse9tq4Eo5q58Yqpm/OY7qa726Vh1Z36Knm7utjld5WGrq+t1YoafKylRR6rVkrAo7Vja7v774h918CZSvYtUpFr1JpVb7ra2u1k0zzbMWGXg1nI3BTE2h1o1a9aSWXVu5rJT/bxQq0gk0Tab1aunthyb6XcWuVmVZ/aYXIkuBKsOq+3yogttMUqFy2SlgrA/fayhJjbZdPoFWLWgGslaPrX7VyWisotVK87XIJFFvqbRg9UNKDuftW1r5cZ3z82VzGMdVlPKfjr6zfGAIS4i6uLKhbF2dpTwQIEJAQpwwQIECAAIFLKDBefdJrc5po7RViNgL7BApGt5x8r7hs4v+aa67ZBCUhbhOTDxEg8GYU6FVAvSajVzn16qUb+9arb3oNTq+56zWBrbDR685viMS08dqS93qv99pNYo5Xkt7YTZfH32tXSw7vtTGVm32vKr6ocy6psNeZt/VdvabLRuCmJtCkWa856jVGvfqt17rZLlage0cJ1bXbvVKte+Nl3HoFY0mVJf1177/uuut2SdwlkdtOU6DXnJUE16svSwofr7M7zaN1VOcVqH3vQY4SoHuNeq+HK/5gu3wCT3ziE3ercvd2imJL9altbyxwGcdUl/GclNvzC0iIO7/d8jfVrYuztCcCBAhIiFMGCBAgQIAAAQIECBAgQIAAAQIECBAgQIAAAQIECBAgQIAAAQIECBAgQOBSCEiIuxSX0UkQIECAAAECBAgQIECAAAECBAgQIECAAAECBAgQIECAAAECBAgQIECAgIQ4ZYAAAQIECBAgQIAAAQIECBAgQIAAAQIECBAgQIAAAQIECBAgQIAAAQIELoWAhLhLcRmdBAECBAgQIECAAAECBAgQIECAAAECBAgQIECAAAECBAgQIECAAAECBAhIiFMGCBAgQIAAAQIECBAgQIAAAQIECBAgQIAAAQIECBAgQIAAAQIECBAgQOBSCEiIuxSX0UkQIECAAAECBAgQIECAAAECBAhctMA3fdM3Tc94xjOm5z//+Ve164vaz1UdhF8mQIAAAQIECBAgQIAAAQIECBAgcBMRkBB3E7nQTpMAAQIECBAgQIAAAQIECBAgcFMR+OIv/uLpSU960u503+qt3mp6z/d8z+ke97jH9OhHP3q6xS1usZnhPIlsb/EWbzE9/elPn+55z3te+Z7/+I//mF73utdN7/7u7775u4/94I//+I9PD37wg6dXvepVx/7qDfb5933f990dY39sBAgQIECAAAECBAgQIECAAAECBK4vAQlx15es/RIgQIAAAQIECBAgQIAAAQIECLxZBEqIe8UrXjH92I/92PQ///M/01/8xV9M97vf/aaP/diPnZ761KduPqaLSojb/IVX8cFTToj77//+7+lt3/ZtJwlxV3GB/SoBAgQIECBAgAABAgQIECBAgMBmAQlxm6l8kAABAgQIECBAgAABAgQIECBA4MYgUEJcK6X1utOxPfShD51KGvvXf/3XKz/7t3/7t+nhD3/47nP/9V//NV177bXT4x73uOlDP/RDd59ZJsQ997nPnR7xiEdMz3ve86bXv/71053udKfd5z/8wz989/kSvv7u7/7uyv5ve9vbTi996UvfaD+/+qu/On3mZ37m9I//+I/Tu77ru1757AMf+MDpBS94wfTbv/3bu5/9wR/8wfQN3/ANU995y1vecvqsz/qs6TGPecz0ju/4jnsvwTIhbhx7++3/X/nKV073uc99pu///u+fvvu7v3v6nu/5nukNb3jD9KAHPWh65CMfeWWfrXD3Az/wA9Mzn/nM6dnPfvZ0m9vcZvqO7/iO6XM+53OufOaFL3zh7vee85znTDe72c2me93rXrv93fzmN999Zvh/1Ed91PT4xz/+SjLcOLexo//7v//bXY+v+ZqvmX73d393d4y3u93tdsaf//mff+X7PuETPmG64x3vOL3927/99MQnPnG3v6/4iq/YndfYut5f93VfN/3CL/zC1HW9/e1vPz32sY+dPv3TP/1cnjeGcu4YCRAgQIAAAQIECBAgQIAAAQIE9gtIiFMyCBAgQIAAAQIECBAgQIAAAQIELpXAMiHub//2b6fP+IzP2CVflYjWVjJWK8a927u92/SN3/iN07u8y7tMP/RDP7RLmvurv/qr3c+XCXG/+Zu/Ob385S+fPuIjPmK3jxLLfumXfml6yUteMr3TO73T9M///M/TrW99693KdHe/+913r2u91a1u9Ub7+d///d/pmmuumb7t275t+tIv/dLdfsbPvuVbvmX6si/7sqmEs7ve9a7Tox71qN2rXttvSWMl6rXvfdu+hLiOr+P45m/+5ulv/uZvps/+7M+ePvETP3F6//d//+mrv/qrd0l3rZxXYttd7nKX3W5LiOvVriWTfdzHfdz0kz/5k7tEvI7pAz/wA6fXvva10/u93/vtPt9+/+mf/mm6//3vv/tsx9CW/9Oe9rRdEt/Xf/3X76x7bW3H3/k94AEP2H2uZLt/+Id/2K3ad911103v/M7vPP3yL//y9LVf+7XT7//+708l1LWVEFcS4kMe8pDp3ve+9+54+46SCz/5kz95l9j3MR/zMdOrX/3qXYJiSXWtCpj/p37qp57L81JVCCdDgAABAgQIECBAgAABAgQIELiJCUiIu4ldcKdLgAABAgQIECBAgAABAgQIELjsAiVL/dRP/dRuRbGSzVr9ra1VzEq2aiu5rYStErre7u3e7gpJK4u10liJW2uvTG3ft7jFLaanPOUpV1YiK6Hs6U9/+nTPe97zyj6X+2l1tT/7sz+bfuM3fmP3mV/7tV/bJeyVrNf+7nvf+07v8A7vsEvQG9vv/d7vTR//8R8/veY1r9md13LblxD3nd/5nbt9lqzXVnLci1/84l1y3Fu+5VvufvYBH/ABu+SyVqNr6/hbfe0Hf/AHr3xFyW+tgtfKcT/8wz+8S3L7+7//+yur1T3rWc/aHX/Jgu/xHu+x29+v/MqvTC972ct2q7mNbesrU0sCLPnuu77ru3a/WkJc1q0iN7Y73/nO0yd90iftEvfyK/HtL//yL3fJfsvtPJ6XvY44PwIECBAgQIAAAQIECBAgQIDAZRaQEHeZr65zI0CAAAECBAgQIECAAAECBAjcBAVKyGrlsZK6WtGs12y26lurub31W7/1TqRksZLASjybb//5n/85PexhD5u+/du//U0S4kqeazW5kule8YpX7JK02n+vIf2qr/qq3W62JMT90R/90fTRH/3Ru6SyVk77oi/6ounf//3fd4l0bR/8wR88/fVf//X0Nm/zNlcOrVXW+q5WPitZbLntS4j7uZ/7uenP//zPr3y07/mXf/mX3SpsYyvJrhXvShYcx/+kJz1pl5Q3tpIIn//850+/9Vu/tVulrdXa+v+x9YrSXv/aK1FbKW74//qv//obHea+hLgMS2r7mZ/5md01e93rXrf7U7Liz/7sz+5+v4S4TJ7whCdc2V+vnW0lux/90R/dvdK1f5u/rnb+xefxvAlWG6dMgAABAgQIECBAgAABAgQIELg0AhLiLs2ldCIECBAgQIAAAQIECBAgQIAAAQIJLF+Z2s96Vejd7na33WtI20p4e/zjHz89+9nPfhO0krtuectbvklC3Kd92qftXl/aq0Jve9vb7laWK7HtkY985PTgBz94t58tCXF9rpXMWontK7/yK3erqvUq1Hvd6167fZTw1qtAH/jAB77Jsb3P+7zPG626Nj6wLyHuGc94xi6RbWz7XEo2u9Od7jR97/d+75Xj35cQ94IXvGCXCFhy3Pj/sd+REPc7v/M7u9fQ7vuePrsvIa5ktv70/R/yIR+yW3UuyxIXO/625TH2s1bg6zp13l3HVpM7lBB3Hk81iQABAgQIECBAgAABAgQIECBA4MYrICHuxnvtHDkBAgQIECBAgAABAgQIECBAgMAegX0JWSW+9VrNXhfaqmytXtbfW4mtRK192/JVp716tNeG3uc+99l9vBXeSlB73OMedyUhrleEPvWpT72S3Nbn9r16tZ/94i/+4u71o72etVebjlehfsEXfMHu7+OVqlsu8kUmxJWk13mOraS/D/uwDzvqlamvetWrriS0jf2UBPjlX/7l00Mf+tAr++5Vq7e+9a2nH/mRH9n97A1veMMuIbA/WxPiWpmu16ceemXqeTy3mPsMAQIECBAgQIAAAQIECBAgQIDAaQpIiDvN6+KoCBAgQIAAAQIECBAgQIAAAQIEzilwaIWya6+9drrLXe6ye8VpryDt9Z6vfvWrd6vF3eEOd5he/vKXT8961rN2q4/12WUiW0lht7rVrabv+77v273i9OEPf/j0x3/8x9OjH/3oKwlxJX1dd911u1ertoLcLW5xi70JcS95yUt2q8Td8Y53nD7yIz9y91rXsf3pn/7p7ji/5Eu+ZHrAAx6wWzWtZK+S+FoNbd92kQlxrY6XSSvqPfnJT56+9Vu/dXrhC184fdAHfdDuta23v/3tp7ve9a6782rFvPvf//67leE6hrZD/p/yKZ+ye0VtyXbZ9D2tOPe0pz1t+umf/umdVa9u7VWprei3NSGu7+zzvQ623+/4XvSiF+1W67v73e8+ncfznEXPrxEgQIAAAQIECBAgQIAAAQIECJyAgIS4E7gIDoEAAQIECBAgQIAAAQIECBAgQODiBA4lZD3lKU/ZJZm1Ktx7v/d775Lhet1pCVkldt3mNrfZJck95jGP2f37MiHuec973m41t5LDWhmuRLiHPexhu2S48crUVn17yEMeMr30pS+drrnmmt1/960Q19ne+c53np773OfuXkVaQtd86+cd23Oe85xd8t7tbne76XM/93OnRzziEXuhLjIh7glPeMIuGa1XoGby2Mc+dvq8z/u8K9/b+T/oQQ/aHdvNbnaz3Wp4JaLd/OY3333mkP8f/uEf7laIe/GLXzy97nWv253XK1/5yul+97vfbjW89pXvy172sqnXsB6TENd+uhbPfOYzp9e85jW7pLiO+x73uMfumI71vLjSaE8ECBAgQIAAAQIECBAgQIAAAQI3tICEuBta3PcRIECAAAECBAgQIECAAAECBAgQOFGBVlV7+tOfvlslz0aAAAECBAgQIECAAAECBAgQIEDgxiggIe7GeNUcMwECBAgQIECAAAECBAgQIECAAIHrQUBC3PWAapcECBAgQIAAAQIECBAgQIAAAQI3qICEuBuU25cRIECAAAECBAgQIECAAAECBAgQOF0BCXGne20cGQECBAgQIECAAAECBAgQIECAwDYBCXHbnHyKAAECBAgQIECAAAECBAgQIECAAAECBAgQIECAAAECBAgQIECAAAECBE5cQELciV8gh0eAAAECBAgQIECAAAECBAgQIECAAAECBAgQIECAAAECBAgQIECAAAEC2wQkxG1z8ikCBAgQIECAAAECBAgQIECAAAECBAgQIECAAAECBAgQIECAAAECBAgQOHEBCXEnfoEcHgECBAgQIECAAAECBAgQIECAAAECBAgQIECAAAECBAgQIECAAAECBAhsE5AQt83JpwgQIECAAAECBAgQIECAAAECBAgQIECAAAECBAgQIECAAAECBAgQIEDgxAUkxJ34BXJ4BAgQIECAAAECBAgQIECAAAECBAgQIECAAAECBAgQIECAAAECBAgQILBNQELcNiefIkCAAAECBAgQIECAAAECBAgQIECAAAECBAgQIECAAAECBAgQIECAAIETF5AQd+IXyOERIECAAAECBAgQIECAAAECBAgQIECAAAECBAgQIECAAAECBAgQIECAwDYBCXHbnHyKAAECBAgQIECAAAECBAgQIECAAAECBAgQIECAAAECBAgQIECAAAECBE5cQELciV8gh0eAAAECBAgQIECAAAECBAgQIECAAAECBAgQIECAAAECBAgQIECAAAEC2wQkxG1z8ikCBAgQIECAAAECBAgQIECAAAECBAgQIECAAAECBAgQIECAAAECBAgQOHEBCXEnfoEcHgECBAgQIECAAAECBAgQIECAAAECBAgQIECAAAECBAgQIECAAAECBAhsE5AQt83JpwgQIECAAAECBAgQIECAAAECBAgQIECAAAECBAgQIECAAAECBAgQIEDgxAUkxJ34BXJ4BAgQIECAAAECBAgQIECAAAECBAgQIECAAAECBAgQIECAAAECBAgQILBNQELcNiefIkCAAAECBAgQIECAAAECBAgQIECAAAECBAgQIECAAAECBAgQIECAAIETF5AQd+IXyOERIECAAAECBAgQIECAAAECBAgQIECAAAECBAgQIECAAAECBAgQIECAwDYBCXHbnHyKAAECBAgQIECAAAECBAgQIECAAAECBAgQIECAAAECBAgQIECAAAECBE5cQELciV8gh0eAAAECBAgQIECAAAECBAgQIECAAAECBAgQIECAAAECBAgQIECAAAEC2wQkxG1z8ikCBAgQIECAAAECBAgQIECAAAECBAgQIECAAAECBAgQIECAAAECBAgQOHEBCXEnfoEcHgECBAgQIECAAAECBAgQIECAAAECBAgQIECAAAECBAgQIECAAAECBAhsE5AQt83JpwgQIECAAAECBAgQIECAAAECBAgQIECAAAECBAgQIECAAAECBAgQIEDgxAUkxJ34BXJ4BAgQIECAAAECBAgQIECAAAECBAgQIECAAAECBAgQIECAAAECBAgQILBNQELcNiefIkCAAAECBAgQIECAAAECBAgQIECAAAECBAgQIECAAAECBAgQIECAAIETF5AQd+IXyOERIECAAAECBAgQIECAAAECBAgQIECAAAECBAgQIECAAAECBAgQIECAwDYBCXHbnHyKAAECBAgQIECAAAECBAgQIECAAAECBAgQIECAAAECBAgQIECAAAECBE5cQELciV8gh0eAAAECBAgQIECAAAECBAgQIECAAAECBAgQIECAAAECBAgQIECAAAEC2wQkxG1z8ikCBAgQIECAAAECBAgQIECAAAECBAgQIECAAAECBAgQIECAAAECBAgQOHEBCXEnfoEcHgECBAgQIECAAAECBAgQIECAAAECBAgQIECAAAECBAgQIECAAAECBAhsE5AQt83JpwgQIECAAAECBAgQIECAAAECBAgQIECAAAECBAgQIECAAAECBAgQIEDgxAUkxJ34BXJ4BAgQIECAAAECBAgQIECAAAECBAgQIECAAAECBAgQIECAAAECBAgQILBNQELcNiefIkCAAAECBAgQIECAAAECBAgQIECAAAECBAgQIECAAAECBAgQIECAAIETF5AQd+IXyOERIECAAAECBAgQIECAAAECBAgQIECAAAECBAgQIECAAAECBAgQIECAwDYBCXHbnHyKAAECBAgQIECAAAECBAgQIECAAAECBAgQIECAAAECBAgQIECAAAECBE5cQELciV8gh0eAAAECBAgQIECAAAECBAgQIECAAAECBAgQIECAAAECBAgQIECAAAEC2wQkxG1z8ikCBAgQIECAAAECBAgQIECAAAECBAgQIECAAAECBAgQIECAAAECBAgQOHEBCXEnfoEcHgECBAgQIECAAAECBAgQIECAAAECBAgQIECAAAECBAgQIECAAAECBAhsE5AQt83JpwgQIECAAAECBAgQIECAAAECBAgQIECAAAECBAgQIECAAAECBAgQIEDgxAUkxJ34BXJ4BAgQIECAAAECBAgQIECAAAECBAgQIECAAAECBAgQIECAAAECBAgQILBNQELcNiefIkCAAAECBAgQIECAAAECBAgQIECAAAECBAgQIECAAAECBAgQIECAAIETF5AQd+IXyOERIECAAAECBAgQIECAAAECBAgQIECAAAECBAgQIECAAAECBAgQIECAwDYBCXHbnHyKAAECBAgQIECAAAECBAgQIECAAAECBAgQIECAAAECBAgQIECAAAECBE5cQELciV8gh0eAAAECBAgQIECAAAECBAgQIECAAAECBAgQIECAAAECBAgQIECAAAEC2wQkxG1z8ikCBAgQIECAAAECBAgQIECAAAECBAgQIECAAAECBAgQIECAAAECBAgQOHEBCXEnfoEcHgECBAgQIECAAAECBAgQIECAAAECBAgQIECAAAECBAgQIECAAAECBAhsE5AQt83JpwgQIECAAAECBAgQIECAAAECBAgQIECAAAECBAgQIECAAAECBAgQIEDgxAUkxJ34BXJ4BAgQIECAAAECBAgQIECAAAECBAgQIECAAAECBAgQIECAAAECBAgQILBNQELcNiefIkCAAAECBAgQIECAAAECBAgQIECAAAECBAgQIECAAAECBAgQIECAAIETF5AQd+IXyOERIECAAAECBAgQIECAAAECBAgQIECAAAECBAgQIECAAAECBAgQIECAwDYBCXHbnHyKAAECBAgQIECAAAECBAgQIECAAAECBAgQIECAAAECBAgQIECAAAECBE5cQELciV8gh0eAAAECBAgQIECAAAECBAgQIECAAAECBAgQIECAAAECBAgQIECAAAEC2wQkxG1z8ikCBAgQIECAAAECBAgQIECAAAECBAgQIECAAAECBAgQIECAAAECBAgQOHEBCXEnfoEcHgECBAgQIECAAAECBAgQIEBSqVG+AAADAUlEQVSAAAECBAgQIECAAAECBAgQIECAAAECBAhsE5AQt83JpwgQIECAAAECBAgQIECAAAECBAgQIECAAAECBAgQIECAAAECBAgQIEDgxAUkxJ34BXJ4BAgQIECAAAECBAgQIECAAAECBAgQIECAAAECBAgQIECAAAECBAgQILBNQELcNiefIkCAAAECBAgQIECAAAECBAgQIECAAAECBAgQIECAAAECBAgQIECAAIETF5AQd+IXyOERIECAAAECBAgQIECAAAECBAgQIECAAAECBAgQIECAAAECBAgQIECAwDYBCXHbnHyKAAECBAgQIECAAAECBAgQIECAAAECBAgQIECAAAECBAgQIECAAAECBE5cQELciV8gh0eAAAECBAgQIECAAAECBAgQIECAAAECBAgQIECAAAECBAgQIECAAAEC2wQkxG1z8ikCBAgQIECAAAECBAgQIECAAAECBAgQIECAAAECBAgQIECAAAECBAgQOHEBCXEnfoEcHgECBAgQIECAAAECBAgQIECAAAECBAgQIECAAAECBAgQIECAAAECBAhsE5AQt83JpwgQIECAAAECBAgQIECAAAECBAgQIECAAAECBAgQIECAAAECBAgQIEDgxAUkxJ34BXJ4BAgQIECAAAECBAgQIECAAAECBAgQIECAAAECBAgQIECAAAECBAgQILBNQELcNiefIkCAAAECBAgQIECAAAECBAgQIECAAAECBAgQIECAAAECBAgQIECAAIETF5AQd+IXyOERIECAAAECBAgQIECAAAECBAgQIECAAAECBAgQIECAAAECBAgQIECAwDYBCXHbnHyKAAECBAgQIECAAAECBAgQIECAAAECBAgQIECAAAECBAgQIECAAAECBE5cQELciV8gh0eAAAECBAgQIECAAAECBAgQIECAAAECBAgQIECAAAECBAgQIECAAAEC2wQkxG1z8ikCBAgQIECAAAECBAgQIECAAAECBAgQIECAAAECBAgQIECAAAECBAgQOHGB/wefcyGmInYEKwAAAABJRU5ErkJggg==\" width=\"2000\">"
      ],
      "text/plain": [
       "<IPython.core.display.HTML object>"
      ]
     },
     "metadata": {},
     "output_type": "display_data"
    }
   ],
   "source": [
    "from matplotlib.pyplot import figure\n",
    "figure(num=None, figsize=(25, 10), dpi=80, facecolor='w', edgecolor='k')\n",
    "plt.bar(train_data.City,train_data.revenue)\n",
    "plt.show()"
   ]
  },
  {
   "cell_type": "markdown",
   "metadata": {},
   "source": [
    "# Visualisation"
   ]
  },
  {
   "cell_type": "code",
   "execution_count": 378,
   "metadata": {
    "scrolled": true
   },
   "outputs": [
    {
     "name": "stdout",
     "output_type": "stream",
     "text": [
      "Requirement already satisfied: plotly in c:\\users\\91989\\anaconda3\\lib\\site-packages (4.6.0)\n",
      "Requirement already satisfied: retrying>=1.3.3 in c:\\users\\91989\\anaconda3\\lib\\site-packages (from plotly) (1.3.3)\n",
      "Requirement already satisfied: six in c:\\users\\91989\\anaconda3\\lib\\site-packages (from plotly) (1.12.0)\n"
     ]
    }
   ],
   "source": [
    "!pip install plotly"
   ]
  },
  {
   "cell_type": "code",
   "execution_count": 379,
   "metadata": {},
   "outputs": [],
   "source": [
    "import matplotlib.pyplot as plt\n",
    "\n",
    "import pandas as pd  #for dataframe operations-\n",
    "import numpy as np  #for numpy array\n",
    "import seaborn as sns  #plotting\n",
    "\n",
    "import plotly\n",
    "import plotly.offline as pyoff\n",
    "import plotly.figure_factory as ff\n",
    "from plotly.offline import init_notebook_mode, iplot, plot\n",
    "import plotly.graph_objs as go\n",
    "\n",
    "%matplotlib notebook"
   ]
  },
  {
   "cell_type": "code",
   "execution_count": 380,
   "metadata": {},
   "outputs": [
    {
     "name": "stdout",
     "output_type": "stream",
     "text": [
      "Requirement already up-to-date: plotly in c:\\users\\91989\\anaconda3\\lib\\site-packages (4.6.0)\n",
      "Requirement already satisfied, skipping upgrade: retrying>=1.3.3 in c:\\users\\91989\\anaconda3\\lib\\site-packages (from plotly) (1.3.3)\n",
      "Requirement already satisfied, skipping upgrade: six in c:\\users\\91989\\anaconda3\\lib\\site-packages (from plotly) (1.12.0)\n"
     ]
    }
   ],
   "source": [
    "!pip install --upgrade plotly"
   ]
  },
  {
   "cell_type": "code",
   "execution_count": 381,
   "metadata": {},
   "outputs": [
    {
     "data": {
      "text/plain": [
       "'4.6.0'"
      ]
     },
     "execution_count": 381,
     "metadata": {},
     "output_type": "execute_result"
    }
   ],
   "source": [
    "plotly.__version__"
   ]
  },
  {
   "cell_type": "code",
   "execution_count": 25,
   "metadata": {},
   "outputs": [
    {
     "data": {
      "text/html": [
       "        <script type=\"text/javascript\">\n",
       "        window.PlotlyConfig = {MathJaxConfig: 'local'};\n",
       "        if (window.MathJax) {MathJax.Hub.Config({SVG: {font: \"STIX-Web\"}});}\n",
       "        if (typeof require !== 'undefined') {\n",
       "        require.undef(\"plotly\");\n",
       "        requirejs.config({\n",
       "            paths: {\n",
       "                'plotly': ['https://cdn.plot.ly/plotly-latest.min']\n",
       "            }\n",
       "        });\n",
       "        require(['plotly'], function(Plotly) {\n",
       "            window._Plotly = Plotly;\n",
       "        });\n",
       "        }\n",
       "        </script>\n",
       "        "
      ]
     },
     "metadata": {},
     "output_type": "display_data"
    }
   ],
   "source": [
    "init_notebook_mode(connected=True)"
   ]
  },
  {
   "cell_type": "code",
   "execution_count": 26,
   "metadata": {},
   "outputs": [],
   "source": [
    "def generate_layout_bar(col_name):\n",
    "    layout_bar = go.Layout(\n",
    "        autosize=False, # auto size the graph? use False if you are specifying the height and width\n",
    "        width=800, # height of the figure in pixels\n",
    "        height=600, # height of the figure in pixels\n",
    "        title = \"Distribution of {} column\".format(col_name), # title of the figure\n",
    "        # more granular control on the title font \n",
    "        titlefont=dict( \n",
    "            family='Courier New, monospace', # font family\n",
    "            size=14, # size of the font\n",
    "            color='black' # color of the font\n",
    "        ),\n",
    "        # granular control on the axes objects \n",
    "        xaxis=dict( \n",
    "        tickfont=dict(\n",
    "            family='Courier New, monospace', # font family\n",
    "            size=14, # size of ticks displayed on the x axis\n",
    "            color='black'  # color of the font\n",
    "            )\n",
    "        ),\n",
    "        yaxis=dict(\n",
    "            title='Percentage',\n",
    "            titlefont=dict(\n",
    "                size=14,\n",
    "                color='black'\n",
    "            ),\n",
    "        tickfont=dict(\n",
    "            family='Courier New, monospace', # font family\n",
    "            size=14, # size of ticks displayed on the y axis\n",
    "            color='black' # color of the font\n",
    "            )\n",
    "        ),\n",
    "        font = dict(\n",
    "            family='Courier New, monospace', # font family\n",
    "            color = \"white\",# color of the font\n",
    "            size = 12 # size of the font displayed on the bar\n",
    "                )  \n",
    "        )\n",
    "    return layout_bar"
   ]
  },
  {
   "cell_type": "code",
   "execution_count": 27,
   "metadata": {},
   "outputs": [],
   "source": [
    "def plot_bar(col_name):\n",
    "    # create a table with value counts\n",
    "    temp = train_data[col_name].value_counts()\n",
    "    # creating a Bar chart object of plotly\n",
    "    data = [go.Bar(\n",
    "            x=temp.index.astype(str), # x axis values\n",
    "            y=np.round(temp.values.astype(float)/temp.values.sum(),4)*100, # y axis values\n",
    "            text = ['{}%'.format(i) for i in np.round(temp.values.astype(float)/temp.values.sum(),4)*100],\n",
    "        # text to be displayed on the bar, we are doing this to display the '%' symbol along with the number on the bar\n",
    "            textposition = 'auto', # specify at which position on the bar the text should appear\n",
    "        marker = dict(color = '#0047AB'),)] # change color of the bar\n",
    "    # color used here Cobalt Blue\n",
    "     \n",
    "    layout_bar = generate_layout_bar(col_name=col_name)\n",
    "\n",
    "    fig = go.Figure(data=data, layout=layout_bar)\n",
    "    return iplot(fig)\n",
    "    "
   ]
  },
  {
   "cell_type": "code",
   "execution_count": 28,
   "metadata": {},
   "outputs": [
    {
     "data": {
      "text/html": [
       "<div>\n",
       "<style scoped>\n",
       "    .dataframe tbody tr th:only-of-type {\n",
       "        vertical-align: middle;\n",
       "    }\n",
       "\n",
       "    .dataframe tbody tr th {\n",
       "        vertical-align: top;\n",
       "    }\n",
       "\n",
       "    .dataframe thead th {\n",
       "        text-align: right;\n",
       "    }\n",
       "</style>\n",
       "<table border=\"1\" class=\"dataframe\">\n",
       "  <thead>\n",
       "    <tr style=\"text-align: right;\">\n",
       "      <th></th>\n",
       "      <th>Open Date</th>\n",
       "      <th>City</th>\n",
       "      <th>City Group</th>\n",
       "      <th>Type</th>\n",
       "      <th>P1</th>\n",
       "      <th>P2</th>\n",
       "      <th>P3</th>\n",
       "      <th>P4</th>\n",
       "      <th>P5</th>\n",
       "      <th>P6</th>\n",
       "      <th>...</th>\n",
       "      <th>P29</th>\n",
       "      <th>P30</th>\n",
       "      <th>P31</th>\n",
       "      <th>P32</th>\n",
       "      <th>P33</th>\n",
       "      <th>P34</th>\n",
       "      <th>P35</th>\n",
       "      <th>P36</th>\n",
       "      <th>P37</th>\n",
       "      <th>revenue</th>\n",
       "    </tr>\n",
       "  </thead>\n",
       "  <tbody>\n",
       "    <tr>\n",
       "      <th>0</th>\n",
       "      <td>07/17/1999</td>\n",
       "      <td>İstanbul</td>\n",
       "      <td>Big Cities</td>\n",
       "      <td>IL</td>\n",
       "      <td>4</td>\n",
       "      <td>5.0</td>\n",
       "      <td>4.0</td>\n",
       "      <td>4.0</td>\n",
       "      <td>2</td>\n",
       "      <td>2</td>\n",
       "      <td>...</td>\n",
       "      <td>3.0</td>\n",
       "      <td>5</td>\n",
       "      <td>3</td>\n",
       "      <td>4</td>\n",
       "      <td>5</td>\n",
       "      <td>5</td>\n",
       "      <td>4</td>\n",
       "      <td>3</td>\n",
       "      <td>4</td>\n",
       "      <td>5653753.0</td>\n",
       "    </tr>\n",
       "    <tr>\n",
       "      <th>1</th>\n",
       "      <td>02/14/2008</td>\n",
       "      <td>Ankara</td>\n",
       "      <td>Big Cities</td>\n",
       "      <td>FC</td>\n",
       "      <td>4</td>\n",
       "      <td>5.0</td>\n",
       "      <td>4.0</td>\n",
       "      <td>4.0</td>\n",
       "      <td>1</td>\n",
       "      <td>2</td>\n",
       "      <td>...</td>\n",
       "      <td>3.0</td>\n",
       "      <td>0</td>\n",
       "      <td>0</td>\n",
       "      <td>0</td>\n",
       "      <td>0</td>\n",
       "      <td>0</td>\n",
       "      <td>0</td>\n",
       "      <td>0</td>\n",
       "      <td>0</td>\n",
       "      <td>6923131.0</td>\n",
       "    </tr>\n",
       "    <tr>\n",
       "      <th>2</th>\n",
       "      <td>03/09/2013</td>\n",
       "      <td>Diyarbakır</td>\n",
       "      <td>Other</td>\n",
       "      <td>IL</td>\n",
       "      <td>2</td>\n",
       "      <td>4.0</td>\n",
       "      <td>2.0</td>\n",
       "      <td>5.0</td>\n",
       "      <td>2</td>\n",
       "      <td>3</td>\n",
       "      <td>...</td>\n",
       "      <td>3.0</td>\n",
       "      <td>0</td>\n",
       "      <td>0</td>\n",
       "      <td>0</td>\n",
       "      <td>0</td>\n",
       "      <td>0</td>\n",
       "      <td>0</td>\n",
       "      <td>0</td>\n",
       "      <td>0</td>\n",
       "      <td>2055379.0</td>\n",
       "    </tr>\n",
       "    <tr>\n",
       "      <th>3</th>\n",
       "      <td>02/02/2012</td>\n",
       "      <td>Tokat</td>\n",
       "      <td>Other</td>\n",
       "      <td>IL</td>\n",
       "      <td>6</td>\n",
       "      <td>4.5</td>\n",
       "      <td>6.0</td>\n",
       "      <td>6.0</td>\n",
       "      <td>4</td>\n",
       "      <td>4</td>\n",
       "      <td>...</td>\n",
       "      <td>7.5</td>\n",
       "      <td>25</td>\n",
       "      <td>12</td>\n",
       "      <td>10</td>\n",
       "      <td>6</td>\n",
       "      <td>18</td>\n",
       "      <td>12</td>\n",
       "      <td>12</td>\n",
       "      <td>6</td>\n",
       "      <td>2675511.0</td>\n",
       "    </tr>\n",
       "    <tr>\n",
       "      <th>4</th>\n",
       "      <td>05/09/2009</td>\n",
       "      <td>Gaziantep</td>\n",
       "      <td>Other</td>\n",
       "      <td>IL</td>\n",
       "      <td>3</td>\n",
       "      <td>4.0</td>\n",
       "      <td>3.0</td>\n",
       "      <td>4.0</td>\n",
       "      <td>2</td>\n",
       "      <td>2</td>\n",
       "      <td>...</td>\n",
       "      <td>3.0</td>\n",
       "      <td>5</td>\n",
       "      <td>1</td>\n",
       "      <td>3</td>\n",
       "      <td>2</td>\n",
       "      <td>3</td>\n",
       "      <td>4</td>\n",
       "      <td>3</td>\n",
       "      <td>3</td>\n",
       "      <td>4316715.0</td>\n",
       "    </tr>\n",
       "  </tbody>\n",
       "</table>\n",
       "<p>5 rows × 42 columns</p>\n",
       "</div>"
      ],
      "text/plain": [
       "    Open Date        City  City Group Type  P1   P2   P3   P4  P5  P6  ...  \\\n",
       "0  07/17/1999    İstanbul  Big Cities   IL   4  5.0  4.0  4.0   2   2  ...   \n",
       "1  02/14/2008      Ankara  Big Cities   FC   4  5.0  4.0  4.0   1   2  ...   \n",
       "2  03/09/2013  Diyarbakır       Other   IL   2  4.0  2.0  5.0   2   3  ...   \n",
       "3  02/02/2012       Tokat       Other   IL   6  4.5  6.0  6.0   4   4  ...   \n",
       "4  05/09/2009   Gaziantep       Other   IL   3  4.0  3.0  4.0   2   2  ...   \n",
       "\n",
       "   P29  P30  P31  P32  P33  P34  P35  P36  P37    revenue  \n",
       "0  3.0    5    3    4    5    5    4    3    4  5653753.0  \n",
       "1  3.0    0    0    0    0    0    0    0    0  6923131.0  \n",
       "2  3.0    0    0    0    0    0    0    0    0  2055379.0  \n",
       "3  7.5   25   12   10    6   18   12   12    6  2675511.0  \n",
       "4  3.0    5    1    3    2    3    4    3    3  4316715.0  \n",
       "\n",
       "[5 rows x 42 columns]"
      ]
     },
     "execution_count": 28,
     "metadata": {},
     "output_type": "execute_result"
    }
   ],
   "source": [
    "train_data.head()"
   ]
  },
  {
   "cell_type": "code",
   "execution_count": 29,
   "metadata": {},
   "outputs": [
    {
     "data": {
      "application/vnd.plotly.v1+json": {
       "config": {
        "linkText": "Export to plot.ly",
        "plotlyServerURL": "https://plot.ly",
        "showLink": false
       },
       "data": [
        {
         "marker": {
          "color": "#0047AB"
         },
         "text": [
          "1.46%",
          "1.46%",
          "1.46%",
          "0.73%",
          "0.73%",
          "0.73%",
          "0.73%",
          "0.73%",
          "0.73%",
          "0.73%",
          "0.73%",
          "0.73%",
          "0.73%",
          "0.73%",
          "0.73%",
          "0.73%",
          "0.73%",
          "0.73%",
          "0.73%",
          "0.73%",
          "0.73%",
          "0.73%",
          "0.73%",
          "0.73%",
          "0.73%",
          "0.73%",
          "0.73%",
          "0.73%",
          "0.73%",
          "0.73%",
          "0.73%",
          "0.73%",
          "0.73%",
          "0.73%",
          "0.73%",
          "0.73%",
          "0.73%",
          "0.73%",
          "0.73%",
          "0.73%",
          "0.73%",
          "0.73%",
          "0.73%",
          "0.73%",
          "0.73%",
          "0.73%",
          "0.73%",
          "0.73%",
          "0.73%",
          "0.73%",
          "0.73%",
          "0.73%",
          "0.73%",
          "0.73%",
          "0.73%",
          "0.73%",
          "0.73%",
          "0.73%",
          "0.73%",
          "0.73%",
          "0.73%",
          "0.73%",
          "0.73%",
          "0.73%",
          "0.73%",
          "0.73%",
          "0.73%",
          "0.73%",
          "0.73%",
          "0.73%",
          "0.73%",
          "0.73%",
          "0.73%",
          "0.73%",
          "0.73%",
          "0.73%",
          "0.73%",
          "0.73%",
          "0.73%",
          "0.73%",
          "0.73%",
          "0.73%",
          "0.73%",
          "0.73%",
          "0.73%",
          "0.73%",
          "0.73%",
          "0.73%",
          "0.73%",
          "0.73%",
          "0.73%",
          "0.73%",
          "0.73%",
          "0.73%",
          "0.73%",
          "0.73%",
          "0.73%",
          "0.73%",
          "0.73%",
          "0.73%",
          "0.73%",
          "0.73%",
          "0.73%",
          "0.73%",
          "0.73%",
          "0.73%",
          "0.73%",
          "0.73%",
          "0.73%",
          "0.73%",
          "0.73%",
          "0.73%",
          "0.73%",
          "0.73%",
          "0.73%",
          "0.73%",
          "0.73%",
          "0.73%",
          "0.73%",
          "0.73%",
          "0.73%",
          "0.73%",
          "0.73%",
          "0.73%",
          "0.73%",
          "0.73%",
          "0.73%",
          "0.73%",
          "0.73%",
          "0.73%",
          "0.73%",
          "0.73%",
          "0.73%",
          "0.73%"
         ],
         "textposition": "auto",
         "type": "bar",
         "x": [
          "01/07/2000",
          "02/02/2012",
          "02/23/2010",
          "02/14/2008",
          "11/08/2011",
          "02/09/2011",
          "07/09/2012",
          "07/01/2006",
          "07/13/1998",
          "07/26/2011",
          "07/17/1999",
          "12/23/2009",
          "04/21/2012",
          "12/29/2011",
          "05/30/2008",
          "05/09/2009",
          "08/18/2011",
          "08/28/2010",
          "10/12/2006",
          "12/09/2006",
          "10/13/2004",
          "01/03/2014",
          "05/04/2012",
          "03/16/2010",
          "08/30/2011",
          "03/28/2009",
          "05/01/2012",
          "04/23/2013",
          "08/09/2013",
          "06/15/2008",
          "05/22/2012",
          "06/21/2008",
          "08/25/2011",
          "08/05/2009",
          "12/16/2005",
          "11/25/2008",
          "03/16/2013",
          "10/13/2006",
          "07/10/2013",
          "12/27/2005",
          "01/25/2010",
          "12/01/2008",
          "07/08/2006",
          "09/29/2012",
          "10/15/2005",
          "02/28/2013",
          "09/20/2009",
          "08/25/2007",
          "11/12/2013",
          "01/26/2009",
          "10/14/2011",
          "09/27/2011",
          "10/09/2009",
          "09/01/2009",
          "06/05/1999",
          "01/18/2011",
          "10/04/2011",
          "11/15/2010",
          "10/14/2012",
          "12/18/1999",
          "09/24/2009",
          "02/11/2008",
          "10/09/1999",
          "11/01/2002",
          "05/08/1996",
          "08/18/2005",
          "09/07/2007",
          "12/06/2011",
          "10/29/2011",
          "02/12/2010",
          "03/29/2013",
          "03/11/2011",
          "03/01/2011",
          "04/11/2012",
          "12/06/2008",
          "04/10/1997",
          "04/01/2008",
          "06/20/2007",
          "06/01/2009",
          "01/17/2009",
          "03/09/2013",
          "10/11/2010",
          "08/16/2011",
          "08/08/2013",
          "11/05/2011",
          "01/22/2007",
          "11/06/2002",
          "05/01/2011",
          "08/05/2013",
          "11/27/2006",
          "03/21/2012",
          "05/11/2009",
          "12/01/2011",
          "12/21/2013",
          "02/08/2007",
          "08/10/2012",
          "03/14/1998",
          "12/23/2011",
          "09/09/2012",
          "12/06/2006",
          "02/07/2012",
          "06/21/2011",
          "08/08/2011",
          "08/12/1998",
          "06/03/2009",
          "01/09/2010",
          "12/01/2007",
          "11/16/2011",
          "08/12/2008",
          "12/25/2009",
          "10/25/2013",
          "01/25/2014",
          "09/21/2007",
          "09/11/2004",
          "10/29/2010",
          "05/01/2010",
          "01/28/1998",
          "06/25/2008",
          "08/25/2010",
          "11/13/2004",
          "10/16/2009",
          "03/15/2008",
          "11/08/2009",
          "08/23/2010",
          "09/26/2012",
          "11/27/2011",
          "06/08/2012",
          "07/20/2008",
          "10/16/2010",
          "05/09/2008",
          "03/30/2012",
          "09/01/2010",
          "12/31/2012",
          "12/21/2011"
         ],
         "y": [
          1.46,
          1.46,
          1.46,
          0.73,
          0.73,
          0.73,
          0.73,
          0.73,
          0.73,
          0.73,
          0.73,
          0.73,
          0.73,
          0.73,
          0.73,
          0.73,
          0.73,
          0.73,
          0.73,
          0.73,
          0.73,
          0.73,
          0.73,
          0.73,
          0.73,
          0.73,
          0.73,
          0.73,
          0.73,
          0.73,
          0.73,
          0.73,
          0.73,
          0.73,
          0.73,
          0.73,
          0.73,
          0.73,
          0.73,
          0.73,
          0.73,
          0.73,
          0.73,
          0.73,
          0.73,
          0.73,
          0.73,
          0.73,
          0.73,
          0.73,
          0.73,
          0.73,
          0.73,
          0.73,
          0.73,
          0.73,
          0.73,
          0.73,
          0.73,
          0.73,
          0.73,
          0.73,
          0.73,
          0.73,
          0.73,
          0.73,
          0.73,
          0.73,
          0.73,
          0.73,
          0.73,
          0.73,
          0.73,
          0.73,
          0.73,
          0.73,
          0.73,
          0.73,
          0.73,
          0.73,
          0.73,
          0.73,
          0.73,
          0.73,
          0.73,
          0.73,
          0.73,
          0.73,
          0.73,
          0.73,
          0.73,
          0.73,
          0.73,
          0.73,
          0.73,
          0.73,
          0.73,
          0.73,
          0.73,
          0.73,
          0.73,
          0.73,
          0.73,
          0.73,
          0.73,
          0.73,
          0.73,
          0.73,
          0.73,
          0.73,
          0.73,
          0.73,
          0.73,
          0.73,
          0.73,
          0.73,
          0.73,
          0.73,
          0.73,
          0.73,
          0.73,
          0.73,
          0.73,
          0.73,
          0.73,
          0.73,
          0.73,
          0.73,
          0.73,
          0.73,
          0.73,
          0.73,
          0.73,
          0.73
         ]
        }
       ],
       "layout": {
        "autosize": false,
        "font": {
         "color": "white",
         "family": "Courier New, monospace",
         "size": 12
        },
        "height": 600,
        "template": {
         "data": {
          "bar": [
           {
            "error_x": {
             "color": "#2a3f5f"
            },
            "error_y": {
             "color": "#2a3f5f"
            },
            "marker": {
             "line": {
              "color": "#E5ECF6",
              "width": 0.5
             }
            },
            "type": "bar"
           }
          ],
          "barpolar": [
           {
            "marker": {
             "line": {
              "color": "#E5ECF6",
              "width": 0.5
             }
            },
            "type": "barpolar"
           }
          ],
          "carpet": [
           {
            "aaxis": {
             "endlinecolor": "#2a3f5f",
             "gridcolor": "white",
             "linecolor": "white",
             "minorgridcolor": "white",
             "startlinecolor": "#2a3f5f"
            },
            "baxis": {
             "endlinecolor": "#2a3f5f",
             "gridcolor": "white",
             "linecolor": "white",
             "minorgridcolor": "white",
             "startlinecolor": "#2a3f5f"
            },
            "type": "carpet"
           }
          ],
          "choropleth": [
           {
            "colorbar": {
             "outlinewidth": 0,
             "ticks": ""
            },
            "type": "choropleth"
           }
          ],
          "contour": [
           {
            "colorbar": {
             "outlinewidth": 0,
             "ticks": ""
            },
            "colorscale": [
             [
              0,
              "#0d0887"
             ],
             [
              0.1111111111111111,
              "#46039f"
             ],
             [
              0.2222222222222222,
              "#7201a8"
             ],
             [
              0.3333333333333333,
              "#9c179e"
             ],
             [
              0.4444444444444444,
              "#bd3786"
             ],
             [
              0.5555555555555556,
              "#d8576b"
             ],
             [
              0.6666666666666666,
              "#ed7953"
             ],
             [
              0.7777777777777778,
              "#fb9f3a"
             ],
             [
              0.8888888888888888,
              "#fdca26"
             ],
             [
              1,
              "#f0f921"
             ]
            ],
            "type": "contour"
           }
          ],
          "contourcarpet": [
           {
            "colorbar": {
             "outlinewidth": 0,
             "ticks": ""
            },
            "type": "contourcarpet"
           }
          ],
          "heatmap": [
           {
            "colorbar": {
             "outlinewidth": 0,
             "ticks": ""
            },
            "colorscale": [
             [
              0,
              "#0d0887"
             ],
             [
              0.1111111111111111,
              "#46039f"
             ],
             [
              0.2222222222222222,
              "#7201a8"
             ],
             [
              0.3333333333333333,
              "#9c179e"
             ],
             [
              0.4444444444444444,
              "#bd3786"
             ],
             [
              0.5555555555555556,
              "#d8576b"
             ],
             [
              0.6666666666666666,
              "#ed7953"
             ],
             [
              0.7777777777777778,
              "#fb9f3a"
             ],
             [
              0.8888888888888888,
              "#fdca26"
             ],
             [
              1,
              "#f0f921"
             ]
            ],
            "type": "heatmap"
           }
          ],
          "heatmapgl": [
           {
            "colorbar": {
             "outlinewidth": 0,
             "ticks": ""
            },
            "colorscale": [
             [
              0,
              "#0d0887"
             ],
             [
              0.1111111111111111,
              "#46039f"
             ],
             [
              0.2222222222222222,
              "#7201a8"
             ],
             [
              0.3333333333333333,
              "#9c179e"
             ],
             [
              0.4444444444444444,
              "#bd3786"
             ],
             [
              0.5555555555555556,
              "#d8576b"
             ],
             [
              0.6666666666666666,
              "#ed7953"
             ],
             [
              0.7777777777777778,
              "#fb9f3a"
             ],
             [
              0.8888888888888888,
              "#fdca26"
             ],
             [
              1,
              "#f0f921"
             ]
            ],
            "type": "heatmapgl"
           }
          ],
          "histogram": [
           {
            "marker": {
             "colorbar": {
              "outlinewidth": 0,
              "ticks": ""
             }
            },
            "type": "histogram"
           }
          ],
          "histogram2d": [
           {
            "colorbar": {
             "outlinewidth": 0,
             "ticks": ""
            },
            "colorscale": [
             [
              0,
              "#0d0887"
             ],
             [
              0.1111111111111111,
              "#46039f"
             ],
             [
              0.2222222222222222,
              "#7201a8"
             ],
             [
              0.3333333333333333,
              "#9c179e"
             ],
             [
              0.4444444444444444,
              "#bd3786"
             ],
             [
              0.5555555555555556,
              "#d8576b"
             ],
             [
              0.6666666666666666,
              "#ed7953"
             ],
             [
              0.7777777777777778,
              "#fb9f3a"
             ],
             [
              0.8888888888888888,
              "#fdca26"
             ],
             [
              1,
              "#f0f921"
             ]
            ],
            "type": "histogram2d"
           }
          ],
          "histogram2dcontour": [
           {
            "colorbar": {
             "outlinewidth": 0,
             "ticks": ""
            },
            "colorscale": [
             [
              0,
              "#0d0887"
             ],
             [
              0.1111111111111111,
              "#46039f"
             ],
             [
              0.2222222222222222,
              "#7201a8"
             ],
             [
              0.3333333333333333,
              "#9c179e"
             ],
             [
              0.4444444444444444,
              "#bd3786"
             ],
             [
              0.5555555555555556,
              "#d8576b"
             ],
             [
              0.6666666666666666,
              "#ed7953"
             ],
             [
              0.7777777777777778,
              "#fb9f3a"
             ],
             [
              0.8888888888888888,
              "#fdca26"
             ],
             [
              1,
              "#f0f921"
             ]
            ],
            "type": "histogram2dcontour"
           }
          ],
          "mesh3d": [
           {
            "colorbar": {
             "outlinewidth": 0,
             "ticks": ""
            },
            "type": "mesh3d"
           }
          ],
          "parcoords": [
           {
            "line": {
             "colorbar": {
              "outlinewidth": 0,
              "ticks": ""
             }
            },
            "type": "parcoords"
           }
          ],
          "pie": [
           {
            "automargin": true,
            "type": "pie"
           }
          ],
          "scatter": [
           {
            "marker": {
             "colorbar": {
              "outlinewidth": 0,
              "ticks": ""
             }
            },
            "type": "scatter"
           }
          ],
          "scatter3d": [
           {
            "line": {
             "colorbar": {
              "outlinewidth": 0,
              "ticks": ""
             }
            },
            "marker": {
             "colorbar": {
              "outlinewidth": 0,
              "ticks": ""
             }
            },
            "type": "scatter3d"
           }
          ],
          "scattercarpet": [
           {
            "marker": {
             "colorbar": {
              "outlinewidth": 0,
              "ticks": ""
             }
            },
            "type": "scattercarpet"
           }
          ],
          "scattergeo": [
           {
            "marker": {
             "colorbar": {
              "outlinewidth": 0,
              "ticks": ""
             }
            },
            "type": "scattergeo"
           }
          ],
          "scattergl": [
           {
            "marker": {
             "colorbar": {
              "outlinewidth": 0,
              "ticks": ""
             }
            },
            "type": "scattergl"
           }
          ],
          "scattermapbox": [
           {
            "marker": {
             "colorbar": {
              "outlinewidth": 0,
              "ticks": ""
             }
            },
            "type": "scattermapbox"
           }
          ],
          "scatterpolar": [
           {
            "marker": {
             "colorbar": {
              "outlinewidth": 0,
              "ticks": ""
             }
            },
            "type": "scatterpolar"
           }
          ],
          "scatterpolargl": [
           {
            "marker": {
             "colorbar": {
              "outlinewidth": 0,
              "ticks": ""
             }
            },
            "type": "scatterpolargl"
           }
          ],
          "scatterternary": [
           {
            "marker": {
             "colorbar": {
              "outlinewidth": 0,
              "ticks": ""
             }
            },
            "type": "scatterternary"
           }
          ],
          "surface": [
           {
            "colorbar": {
             "outlinewidth": 0,
             "ticks": ""
            },
            "colorscale": [
             [
              0,
              "#0d0887"
             ],
             [
              0.1111111111111111,
              "#46039f"
             ],
             [
              0.2222222222222222,
              "#7201a8"
             ],
             [
              0.3333333333333333,
              "#9c179e"
             ],
             [
              0.4444444444444444,
              "#bd3786"
             ],
             [
              0.5555555555555556,
              "#d8576b"
             ],
             [
              0.6666666666666666,
              "#ed7953"
             ],
             [
              0.7777777777777778,
              "#fb9f3a"
             ],
             [
              0.8888888888888888,
              "#fdca26"
             ],
             [
              1,
              "#f0f921"
             ]
            ],
            "type": "surface"
           }
          ],
          "table": [
           {
            "cells": {
             "fill": {
              "color": "#EBF0F8"
             },
             "line": {
              "color": "white"
             }
            },
            "header": {
             "fill": {
              "color": "#C8D4E3"
             },
             "line": {
              "color": "white"
             }
            },
            "type": "table"
           }
          ]
         },
         "layout": {
          "annotationdefaults": {
           "arrowcolor": "#2a3f5f",
           "arrowhead": 0,
           "arrowwidth": 1
          },
          "coloraxis": {
           "colorbar": {
            "outlinewidth": 0,
            "ticks": ""
           }
          },
          "colorscale": {
           "diverging": [
            [
             0,
             "#8e0152"
            ],
            [
             0.1,
             "#c51b7d"
            ],
            [
             0.2,
             "#de77ae"
            ],
            [
             0.3,
             "#f1b6da"
            ],
            [
             0.4,
             "#fde0ef"
            ],
            [
             0.5,
             "#f7f7f7"
            ],
            [
             0.6,
             "#e6f5d0"
            ],
            [
             0.7,
             "#b8e186"
            ],
            [
             0.8,
             "#7fbc41"
            ],
            [
             0.9,
             "#4d9221"
            ],
            [
             1,
             "#276419"
            ]
           ],
           "sequential": [
            [
             0,
             "#0d0887"
            ],
            [
             0.1111111111111111,
             "#46039f"
            ],
            [
             0.2222222222222222,
             "#7201a8"
            ],
            [
             0.3333333333333333,
             "#9c179e"
            ],
            [
             0.4444444444444444,
             "#bd3786"
            ],
            [
             0.5555555555555556,
             "#d8576b"
            ],
            [
             0.6666666666666666,
             "#ed7953"
            ],
            [
             0.7777777777777778,
             "#fb9f3a"
            ],
            [
             0.8888888888888888,
             "#fdca26"
            ],
            [
             1,
             "#f0f921"
            ]
           ],
           "sequentialminus": [
            [
             0,
             "#0d0887"
            ],
            [
             0.1111111111111111,
             "#46039f"
            ],
            [
             0.2222222222222222,
             "#7201a8"
            ],
            [
             0.3333333333333333,
             "#9c179e"
            ],
            [
             0.4444444444444444,
             "#bd3786"
            ],
            [
             0.5555555555555556,
             "#d8576b"
            ],
            [
             0.6666666666666666,
             "#ed7953"
            ],
            [
             0.7777777777777778,
             "#fb9f3a"
            ],
            [
             0.8888888888888888,
             "#fdca26"
            ],
            [
             1,
             "#f0f921"
            ]
           ]
          },
          "colorway": [
           "#636efa",
           "#EF553B",
           "#00cc96",
           "#ab63fa",
           "#FFA15A",
           "#19d3f3",
           "#FF6692",
           "#B6E880",
           "#FF97FF",
           "#FECB52"
          ],
          "font": {
           "color": "#2a3f5f"
          },
          "geo": {
           "bgcolor": "white",
           "lakecolor": "white",
           "landcolor": "#E5ECF6",
           "showlakes": true,
           "showland": true,
           "subunitcolor": "white"
          },
          "hoverlabel": {
           "align": "left"
          },
          "hovermode": "closest",
          "mapbox": {
           "style": "light"
          },
          "paper_bgcolor": "white",
          "plot_bgcolor": "#E5ECF6",
          "polar": {
           "angularaxis": {
            "gridcolor": "white",
            "linecolor": "white",
            "ticks": ""
           },
           "bgcolor": "#E5ECF6",
           "radialaxis": {
            "gridcolor": "white",
            "linecolor": "white",
            "ticks": ""
           }
          },
          "scene": {
           "xaxis": {
            "backgroundcolor": "#E5ECF6",
            "gridcolor": "white",
            "gridwidth": 2,
            "linecolor": "white",
            "showbackground": true,
            "ticks": "",
            "zerolinecolor": "white"
           },
           "yaxis": {
            "backgroundcolor": "#E5ECF6",
            "gridcolor": "white",
            "gridwidth": 2,
            "linecolor": "white",
            "showbackground": true,
            "ticks": "",
            "zerolinecolor": "white"
           },
           "zaxis": {
            "backgroundcolor": "#E5ECF6",
            "gridcolor": "white",
            "gridwidth": 2,
            "linecolor": "white",
            "showbackground": true,
            "ticks": "",
            "zerolinecolor": "white"
           }
          },
          "shapedefaults": {
           "line": {
            "color": "#2a3f5f"
           }
          },
          "ternary": {
           "aaxis": {
            "gridcolor": "white",
            "linecolor": "white",
            "ticks": ""
           },
           "baxis": {
            "gridcolor": "white",
            "linecolor": "white",
            "ticks": ""
           },
           "bgcolor": "#E5ECF6",
           "caxis": {
            "gridcolor": "white",
            "linecolor": "white",
            "ticks": ""
           }
          },
          "title": {
           "x": 0.05
          },
          "xaxis": {
           "automargin": true,
           "gridcolor": "white",
           "linecolor": "white",
           "ticks": "",
           "title": {
            "standoff": 15
           },
           "zerolinecolor": "white",
           "zerolinewidth": 2
          },
          "yaxis": {
           "automargin": true,
           "gridcolor": "white",
           "linecolor": "white",
           "ticks": "",
           "title": {
            "standoff": 15
           },
           "zerolinecolor": "white",
           "zerolinewidth": 2
          }
         }
        },
        "title": {
         "font": {
          "color": "black",
          "family": "Courier New, monospace",
          "size": 14
         },
         "text": "Distribution of Open Date column"
        },
        "width": 800,
        "xaxis": {
         "tickfont": {
          "color": "black",
          "family": "Courier New, monospace",
          "size": 14
         }
        },
        "yaxis": {
         "tickfont": {
          "color": "black",
          "family": "Courier New, monospace",
          "size": 14
         },
         "title": {
          "font": {
           "color": "black",
           "size": 14
          },
          "text": "Percentage"
         }
        }
       }
      },
      "text/html": [
       "<div>\n",
       "        \n",
       "        \n",
       "            <div id=\"0b470451-bd47-40f2-86b7-4a1171a1f046\" class=\"plotly-graph-div\" style=\"height:600px; width:800px;\"></div>\n",
       "            <script type=\"text/javascript\">\n",
       "                require([\"plotly\"], function(Plotly) {\n",
       "                    window.PLOTLYENV=window.PLOTLYENV || {};\n",
       "                    \n",
       "                if (document.getElementById(\"0b470451-bd47-40f2-86b7-4a1171a1f046\")) {\n",
       "                    Plotly.newPlot(\n",
       "                        '0b470451-bd47-40f2-86b7-4a1171a1f046',\n",
       "                        [{\"marker\": {\"color\": \"#0047AB\"}, \"text\": [\"1.46%\", \"1.46%\", \"1.46%\", \"0.73%\", \"0.73%\", \"0.73%\", \"0.73%\", \"0.73%\", \"0.73%\", \"0.73%\", \"0.73%\", \"0.73%\", \"0.73%\", \"0.73%\", \"0.73%\", \"0.73%\", \"0.73%\", \"0.73%\", \"0.73%\", \"0.73%\", \"0.73%\", \"0.73%\", \"0.73%\", \"0.73%\", \"0.73%\", \"0.73%\", \"0.73%\", \"0.73%\", \"0.73%\", \"0.73%\", \"0.73%\", \"0.73%\", \"0.73%\", \"0.73%\", \"0.73%\", \"0.73%\", \"0.73%\", \"0.73%\", \"0.73%\", \"0.73%\", \"0.73%\", \"0.73%\", \"0.73%\", \"0.73%\", \"0.73%\", \"0.73%\", \"0.73%\", \"0.73%\", \"0.73%\", \"0.73%\", \"0.73%\", \"0.73%\", \"0.73%\", \"0.73%\", \"0.73%\", \"0.73%\", \"0.73%\", \"0.73%\", \"0.73%\", \"0.73%\", \"0.73%\", \"0.73%\", \"0.73%\", \"0.73%\", \"0.73%\", \"0.73%\", \"0.73%\", \"0.73%\", \"0.73%\", \"0.73%\", \"0.73%\", \"0.73%\", \"0.73%\", \"0.73%\", \"0.73%\", \"0.73%\", \"0.73%\", \"0.73%\", \"0.73%\", \"0.73%\", \"0.73%\", \"0.73%\", \"0.73%\", \"0.73%\", \"0.73%\", \"0.73%\", \"0.73%\", \"0.73%\", \"0.73%\", \"0.73%\", \"0.73%\", \"0.73%\", \"0.73%\", \"0.73%\", \"0.73%\", \"0.73%\", \"0.73%\", \"0.73%\", \"0.73%\", \"0.73%\", \"0.73%\", \"0.73%\", \"0.73%\", \"0.73%\", \"0.73%\", \"0.73%\", \"0.73%\", \"0.73%\", \"0.73%\", \"0.73%\", \"0.73%\", \"0.73%\", \"0.73%\", \"0.73%\", \"0.73%\", \"0.73%\", \"0.73%\", \"0.73%\", \"0.73%\", \"0.73%\", \"0.73%\", \"0.73%\", \"0.73%\", \"0.73%\", \"0.73%\", \"0.73%\", \"0.73%\", \"0.73%\", \"0.73%\", \"0.73%\", \"0.73%\", \"0.73%\", \"0.73%\", \"0.73%\"], \"textposition\": \"auto\", \"type\": \"bar\", \"x\": [\"01/07/2000\", \"02/02/2012\", \"02/23/2010\", \"02/14/2008\", \"11/08/2011\", \"02/09/2011\", \"07/09/2012\", \"07/01/2006\", \"07/13/1998\", \"07/26/2011\", \"07/17/1999\", \"12/23/2009\", \"04/21/2012\", \"12/29/2011\", \"05/30/2008\", \"05/09/2009\", \"08/18/2011\", \"08/28/2010\", \"10/12/2006\", \"12/09/2006\", \"10/13/2004\", \"01/03/2014\", \"05/04/2012\", \"03/16/2010\", \"08/30/2011\", \"03/28/2009\", \"05/01/2012\", \"04/23/2013\", \"08/09/2013\", \"06/15/2008\", \"05/22/2012\", \"06/21/2008\", \"08/25/2011\", \"08/05/2009\", \"12/16/2005\", \"11/25/2008\", \"03/16/2013\", \"10/13/2006\", \"07/10/2013\", \"12/27/2005\", \"01/25/2010\", \"12/01/2008\", \"07/08/2006\", \"09/29/2012\", \"10/15/2005\", \"02/28/2013\", \"09/20/2009\", \"08/25/2007\", \"11/12/2013\", \"01/26/2009\", \"10/14/2011\", \"09/27/2011\", \"10/09/2009\", \"09/01/2009\", \"06/05/1999\", \"01/18/2011\", \"10/04/2011\", \"11/15/2010\", \"10/14/2012\", \"12/18/1999\", \"09/24/2009\", \"02/11/2008\", \"10/09/1999\", \"11/01/2002\", \"05/08/1996\", \"08/18/2005\", \"09/07/2007\", \"12/06/2011\", \"10/29/2011\", \"02/12/2010\", \"03/29/2013\", \"03/11/2011\", \"03/01/2011\", \"04/11/2012\", \"12/06/2008\", \"04/10/1997\", \"04/01/2008\", \"06/20/2007\", \"06/01/2009\", \"01/17/2009\", \"03/09/2013\", \"10/11/2010\", \"08/16/2011\", \"08/08/2013\", \"11/05/2011\", \"01/22/2007\", \"11/06/2002\", \"05/01/2011\", \"08/05/2013\", \"11/27/2006\", \"03/21/2012\", \"05/11/2009\", \"12/01/2011\", \"12/21/2013\", \"02/08/2007\", \"08/10/2012\", \"03/14/1998\", \"12/23/2011\", \"09/09/2012\", \"12/06/2006\", \"02/07/2012\", \"06/21/2011\", \"08/08/2011\", \"08/12/1998\", \"06/03/2009\", \"01/09/2010\", \"12/01/2007\", \"11/16/2011\", \"08/12/2008\", \"12/25/2009\", \"10/25/2013\", \"01/25/2014\", \"09/21/2007\", \"09/11/2004\", \"10/29/2010\", \"05/01/2010\", \"01/28/1998\", \"06/25/2008\", \"08/25/2010\", \"11/13/2004\", \"10/16/2009\", \"03/15/2008\", \"11/08/2009\", \"08/23/2010\", \"09/26/2012\", \"11/27/2011\", \"06/08/2012\", \"07/20/2008\", \"10/16/2010\", \"05/09/2008\", \"03/30/2012\", \"09/01/2010\", \"12/31/2012\", \"12/21/2011\"], \"y\": [1.46, 1.46, 1.46, 0.73, 0.73, 0.73, 0.73, 0.73, 0.73, 0.73, 0.73, 0.73, 0.73, 0.73, 0.73, 0.73, 0.73, 0.73, 0.73, 0.73, 0.73, 0.73, 0.73, 0.73, 0.73, 0.73, 0.73, 0.73, 0.73, 0.73, 0.73, 0.73, 0.73, 0.73, 0.73, 0.73, 0.73, 0.73, 0.73, 0.73, 0.73, 0.73, 0.73, 0.73, 0.73, 0.73, 0.73, 0.73, 0.73, 0.73, 0.73, 0.73, 0.73, 0.73, 0.73, 0.73, 0.73, 0.73, 0.73, 0.73, 0.73, 0.73, 0.73, 0.73, 0.73, 0.73, 0.73, 0.73, 0.73, 0.73, 0.73, 0.73, 0.73, 0.73, 0.73, 0.73, 0.73, 0.73, 0.73, 0.73, 0.73, 0.73, 0.73, 0.73, 0.73, 0.73, 0.73, 0.73, 0.73, 0.73, 0.73, 0.73, 0.73, 0.73, 0.73, 0.73, 0.73, 0.73, 0.73, 0.73, 0.73, 0.73, 0.73, 0.73, 0.73, 0.73, 0.73, 0.73, 0.73, 0.73, 0.73, 0.73, 0.73, 0.73, 0.73, 0.73, 0.73, 0.73, 0.73, 0.73, 0.73, 0.73, 0.73, 0.73, 0.73, 0.73, 0.73, 0.73, 0.73, 0.73, 0.73, 0.73, 0.73, 0.73]}],\n",
       "                        {\"autosize\": false, \"font\": {\"color\": \"white\", \"family\": \"Courier New, monospace\", \"size\": 12}, \"height\": 600, \"template\": {\"data\": {\"bar\": [{\"error_x\": {\"color\": \"#2a3f5f\"}, \"error_y\": {\"color\": \"#2a3f5f\"}, \"marker\": {\"line\": {\"color\": \"#E5ECF6\", \"width\": 0.5}}, \"type\": \"bar\"}], \"barpolar\": [{\"marker\": {\"line\": {\"color\": \"#E5ECF6\", \"width\": 0.5}}, \"type\": \"barpolar\"}], \"carpet\": [{\"aaxis\": {\"endlinecolor\": \"#2a3f5f\", \"gridcolor\": \"white\", \"linecolor\": \"white\", \"minorgridcolor\": \"white\", \"startlinecolor\": \"#2a3f5f\"}, \"baxis\": {\"endlinecolor\": \"#2a3f5f\", \"gridcolor\": \"white\", \"linecolor\": \"white\", \"minorgridcolor\": \"white\", \"startlinecolor\": \"#2a3f5f\"}, \"type\": \"carpet\"}], \"choropleth\": [{\"colorbar\": {\"outlinewidth\": 0, \"ticks\": \"\"}, \"type\": \"choropleth\"}], \"contour\": [{\"colorbar\": {\"outlinewidth\": 0, \"ticks\": \"\"}, \"colorscale\": [[0.0, \"#0d0887\"], [0.1111111111111111, \"#46039f\"], [0.2222222222222222, \"#7201a8\"], [0.3333333333333333, \"#9c179e\"], [0.4444444444444444, \"#bd3786\"], [0.5555555555555556, \"#d8576b\"], [0.6666666666666666, \"#ed7953\"], [0.7777777777777778, \"#fb9f3a\"], [0.8888888888888888, \"#fdca26\"], [1.0, \"#f0f921\"]], \"type\": \"contour\"}], \"contourcarpet\": [{\"colorbar\": {\"outlinewidth\": 0, \"ticks\": \"\"}, \"type\": \"contourcarpet\"}], \"heatmap\": [{\"colorbar\": {\"outlinewidth\": 0, \"ticks\": \"\"}, \"colorscale\": [[0.0, \"#0d0887\"], [0.1111111111111111, \"#46039f\"], [0.2222222222222222, \"#7201a8\"], [0.3333333333333333, \"#9c179e\"], [0.4444444444444444, \"#bd3786\"], [0.5555555555555556, \"#d8576b\"], [0.6666666666666666, \"#ed7953\"], [0.7777777777777778, \"#fb9f3a\"], [0.8888888888888888, \"#fdca26\"], [1.0, \"#f0f921\"]], \"type\": \"heatmap\"}], \"heatmapgl\": [{\"colorbar\": {\"outlinewidth\": 0, \"ticks\": \"\"}, \"colorscale\": [[0.0, \"#0d0887\"], [0.1111111111111111, \"#46039f\"], [0.2222222222222222, \"#7201a8\"], [0.3333333333333333, \"#9c179e\"], [0.4444444444444444, \"#bd3786\"], [0.5555555555555556, \"#d8576b\"], [0.6666666666666666, \"#ed7953\"], [0.7777777777777778, \"#fb9f3a\"], [0.8888888888888888, \"#fdca26\"], [1.0, \"#f0f921\"]], \"type\": \"heatmapgl\"}], \"histogram\": [{\"marker\": {\"colorbar\": {\"outlinewidth\": 0, \"ticks\": \"\"}}, \"type\": \"histogram\"}], \"histogram2d\": [{\"colorbar\": {\"outlinewidth\": 0, \"ticks\": \"\"}, \"colorscale\": [[0.0, \"#0d0887\"], [0.1111111111111111, \"#46039f\"], [0.2222222222222222, \"#7201a8\"], [0.3333333333333333, \"#9c179e\"], [0.4444444444444444, \"#bd3786\"], [0.5555555555555556, \"#d8576b\"], [0.6666666666666666, \"#ed7953\"], [0.7777777777777778, \"#fb9f3a\"], [0.8888888888888888, \"#fdca26\"], [1.0, \"#f0f921\"]], \"type\": \"histogram2d\"}], \"histogram2dcontour\": [{\"colorbar\": {\"outlinewidth\": 0, \"ticks\": \"\"}, \"colorscale\": [[0.0, \"#0d0887\"], [0.1111111111111111, \"#46039f\"], [0.2222222222222222, \"#7201a8\"], [0.3333333333333333, \"#9c179e\"], [0.4444444444444444, \"#bd3786\"], [0.5555555555555556, \"#d8576b\"], [0.6666666666666666, \"#ed7953\"], [0.7777777777777778, \"#fb9f3a\"], [0.8888888888888888, \"#fdca26\"], [1.0, \"#f0f921\"]], \"type\": \"histogram2dcontour\"}], \"mesh3d\": [{\"colorbar\": {\"outlinewidth\": 0, \"ticks\": \"\"}, \"type\": \"mesh3d\"}], \"parcoords\": [{\"line\": {\"colorbar\": {\"outlinewidth\": 0, \"ticks\": \"\"}}, \"type\": \"parcoords\"}], \"pie\": [{\"automargin\": true, \"type\": \"pie\"}], \"scatter\": [{\"marker\": {\"colorbar\": {\"outlinewidth\": 0, \"ticks\": \"\"}}, \"type\": \"scatter\"}], \"scatter3d\": [{\"line\": {\"colorbar\": {\"outlinewidth\": 0, \"ticks\": \"\"}}, \"marker\": {\"colorbar\": {\"outlinewidth\": 0, \"ticks\": \"\"}}, \"type\": \"scatter3d\"}], \"scattercarpet\": [{\"marker\": {\"colorbar\": {\"outlinewidth\": 0, \"ticks\": \"\"}}, \"type\": \"scattercarpet\"}], \"scattergeo\": [{\"marker\": {\"colorbar\": {\"outlinewidth\": 0, \"ticks\": \"\"}}, \"type\": \"scattergeo\"}], \"scattergl\": [{\"marker\": {\"colorbar\": {\"outlinewidth\": 0, \"ticks\": \"\"}}, \"type\": \"scattergl\"}], \"scattermapbox\": [{\"marker\": {\"colorbar\": {\"outlinewidth\": 0, \"ticks\": \"\"}}, \"type\": \"scattermapbox\"}], \"scatterpolar\": [{\"marker\": {\"colorbar\": {\"outlinewidth\": 0, \"ticks\": \"\"}}, \"type\": \"scatterpolar\"}], \"scatterpolargl\": [{\"marker\": {\"colorbar\": {\"outlinewidth\": 0, \"ticks\": \"\"}}, \"type\": \"scatterpolargl\"}], \"scatterternary\": [{\"marker\": {\"colorbar\": {\"outlinewidth\": 0, \"ticks\": \"\"}}, \"type\": \"scatterternary\"}], \"surface\": [{\"colorbar\": {\"outlinewidth\": 0, \"ticks\": \"\"}, \"colorscale\": [[0.0, \"#0d0887\"], [0.1111111111111111, \"#46039f\"], [0.2222222222222222, \"#7201a8\"], [0.3333333333333333, \"#9c179e\"], [0.4444444444444444, \"#bd3786\"], [0.5555555555555556, \"#d8576b\"], [0.6666666666666666, \"#ed7953\"], [0.7777777777777778, \"#fb9f3a\"], [0.8888888888888888, \"#fdca26\"], [1.0, \"#f0f921\"]], \"type\": \"surface\"}], \"table\": [{\"cells\": {\"fill\": {\"color\": \"#EBF0F8\"}, \"line\": {\"color\": \"white\"}}, \"header\": {\"fill\": {\"color\": \"#C8D4E3\"}, \"line\": {\"color\": \"white\"}}, \"type\": \"table\"}]}, \"layout\": {\"annotationdefaults\": {\"arrowcolor\": \"#2a3f5f\", \"arrowhead\": 0, \"arrowwidth\": 1}, \"coloraxis\": {\"colorbar\": {\"outlinewidth\": 0, \"ticks\": \"\"}}, \"colorscale\": {\"diverging\": [[0, \"#8e0152\"], [0.1, \"#c51b7d\"], [0.2, \"#de77ae\"], [0.3, \"#f1b6da\"], [0.4, \"#fde0ef\"], [0.5, \"#f7f7f7\"], [0.6, \"#e6f5d0\"], [0.7, \"#b8e186\"], [0.8, \"#7fbc41\"], [0.9, \"#4d9221\"], [1, \"#276419\"]], \"sequential\": [[0.0, \"#0d0887\"], [0.1111111111111111, \"#46039f\"], [0.2222222222222222, \"#7201a8\"], [0.3333333333333333, \"#9c179e\"], [0.4444444444444444, \"#bd3786\"], [0.5555555555555556, \"#d8576b\"], [0.6666666666666666, \"#ed7953\"], [0.7777777777777778, \"#fb9f3a\"], [0.8888888888888888, \"#fdca26\"], [1.0, \"#f0f921\"]], \"sequentialminus\": [[0.0, \"#0d0887\"], [0.1111111111111111, \"#46039f\"], [0.2222222222222222, \"#7201a8\"], [0.3333333333333333, \"#9c179e\"], [0.4444444444444444, \"#bd3786\"], [0.5555555555555556, \"#d8576b\"], [0.6666666666666666, \"#ed7953\"], [0.7777777777777778, \"#fb9f3a\"], [0.8888888888888888, \"#fdca26\"], [1.0, \"#f0f921\"]]}, \"colorway\": [\"#636efa\", \"#EF553B\", \"#00cc96\", \"#ab63fa\", \"#FFA15A\", \"#19d3f3\", \"#FF6692\", \"#B6E880\", \"#FF97FF\", \"#FECB52\"], \"font\": {\"color\": \"#2a3f5f\"}, \"geo\": {\"bgcolor\": \"white\", \"lakecolor\": \"white\", \"landcolor\": \"#E5ECF6\", \"showlakes\": true, \"showland\": true, \"subunitcolor\": \"white\"}, \"hoverlabel\": {\"align\": \"left\"}, \"hovermode\": \"closest\", \"mapbox\": {\"style\": \"light\"}, \"paper_bgcolor\": \"white\", \"plot_bgcolor\": \"#E5ECF6\", \"polar\": {\"angularaxis\": {\"gridcolor\": \"white\", \"linecolor\": \"white\", \"ticks\": \"\"}, \"bgcolor\": \"#E5ECF6\", \"radialaxis\": {\"gridcolor\": \"white\", \"linecolor\": \"white\", \"ticks\": \"\"}}, \"scene\": {\"xaxis\": {\"backgroundcolor\": \"#E5ECF6\", \"gridcolor\": \"white\", \"gridwidth\": 2, \"linecolor\": \"white\", \"showbackground\": true, \"ticks\": \"\", \"zerolinecolor\": \"white\"}, \"yaxis\": {\"backgroundcolor\": \"#E5ECF6\", \"gridcolor\": \"white\", \"gridwidth\": 2, \"linecolor\": \"white\", \"showbackground\": true, \"ticks\": \"\", \"zerolinecolor\": \"white\"}, \"zaxis\": {\"backgroundcolor\": \"#E5ECF6\", \"gridcolor\": \"white\", \"gridwidth\": 2, \"linecolor\": \"white\", \"showbackground\": true, \"ticks\": \"\", \"zerolinecolor\": \"white\"}}, \"shapedefaults\": {\"line\": {\"color\": \"#2a3f5f\"}}, \"ternary\": {\"aaxis\": {\"gridcolor\": \"white\", \"linecolor\": \"white\", \"ticks\": \"\"}, \"baxis\": {\"gridcolor\": \"white\", \"linecolor\": \"white\", \"ticks\": \"\"}, \"bgcolor\": \"#E5ECF6\", \"caxis\": {\"gridcolor\": \"white\", \"linecolor\": \"white\", \"ticks\": \"\"}}, \"title\": {\"x\": 0.05}, \"xaxis\": {\"automargin\": true, \"gridcolor\": \"white\", \"linecolor\": \"white\", \"ticks\": \"\", \"title\": {\"standoff\": 15}, \"zerolinecolor\": \"white\", \"zerolinewidth\": 2}, \"yaxis\": {\"automargin\": true, \"gridcolor\": \"white\", \"linecolor\": \"white\", \"ticks\": \"\", \"title\": {\"standoff\": 15}, \"zerolinecolor\": \"white\", \"zerolinewidth\": 2}}}, \"title\": {\"font\": {\"color\": \"black\", \"family\": \"Courier New, monospace\", \"size\": 14}, \"text\": \"Distribution of Open Date column\"}, \"width\": 800, \"xaxis\": {\"tickfont\": {\"color\": \"black\", \"family\": \"Courier New, monospace\", \"size\": 14}}, \"yaxis\": {\"tickfont\": {\"color\": \"black\", \"family\": \"Courier New, monospace\", \"size\": 14}, \"title\": {\"font\": {\"color\": \"black\", \"size\": 14}, \"text\": \"Percentage\"}}},\n",
       "                        {\"responsive\": true}\n",
       "                    ).then(function(){\n",
       "                            \n",
       "var gd = document.getElementById('0b470451-bd47-40f2-86b7-4a1171a1f046');\n",
       "var x = new MutationObserver(function (mutations, observer) {{\n",
       "        var display = window.getComputedStyle(gd).display;\n",
       "        if (!display || display === 'none') {{\n",
       "            console.log([gd, 'removed!']);\n",
       "            Plotly.purge(gd);\n",
       "            observer.disconnect();\n",
       "        }}\n",
       "}});\n",
       "\n",
       "// Listen for the removal of the full notebook cells\n",
       "var notebookContainer = gd.closest('#notebook-container');\n",
       "if (notebookContainer) {{\n",
       "    x.observe(notebookContainer, {childList: true});\n",
       "}}\n",
       "\n",
       "// Listen for the clearing of the current output cell\n",
       "var outputEl = gd.closest('.output');\n",
       "if (outputEl) {{\n",
       "    x.observe(outputEl, {childList: true});\n",
       "}}\n",
       "\n",
       "                        })\n",
       "                };\n",
       "                });\n",
       "            </script>\n",
       "        </div>"
      ]
     },
     "metadata": {},
     "output_type": "display_data"
    }
   ],
   "source": [
    "plot_bar('Open Date')"
   ]
  },
  {
   "cell_type": "code",
   "execution_count": 31,
   "metadata": {},
   "outputs": [
    {
     "data": {
      "application/vnd.plotly.v1+json": {
       "config": {
        "linkText": "Export to plot.ly",
        "plotlyServerURL": "https://plot.ly",
        "showLink": false
       },
       "data": [
        {
         "marker": {
          "color": "#0047AB"
         },
         "text": [
          "36.5%",
          "13.87%",
          "6.569999999999999%",
          "3.65%",
          "3.65%",
          "2.92%",
          "2.92%",
          "2.19%",
          "2.19%",
          "2.19%",
          "2.19%",
          "2.19%",
          "1.46%",
          "1.46%",
          "1.46%",
          "1.46%",
          "0.73%",
          "0.73%",
          "0.73%",
          "0.73%",
          "0.73%",
          "0.73%",
          "0.73%",
          "0.73%",
          "0.73%",
          "0.73%",
          "0.73%",
          "0.73%",
          "0.73%",
          "0.73%",
          "0.73%",
          "0.73%",
          "0.73%",
          "0.73%"
         ],
         "textposition": "auto",
         "type": "bar",
         "x": [
          "İstanbul",
          "Ankara",
          "İzmir",
          "Bursa",
          "Samsun",
          "Sakarya",
          "Antalya",
          "Diyarbakır",
          "Tekirdağ",
          "Adana",
          "Kayseri",
          "Eskişehir",
          "Muğla",
          "Aydın",
          "Trabzon",
          "Konya",
          "Denizli",
          "Tokat",
          "Şanlıurfa",
          "Elazığ",
          "Karabük",
          "Kocaeli",
          "Osmaniye",
          "Gaziantep",
          "Afyonkarahisar",
          "Kırklareli",
          "Kütahya",
          "Balıkesir",
          "Bolu",
          "Edirne",
          "Isparta",
          "Amasya",
          "Uşak",
          "Kastamonu"
         ],
         "y": [
          36.5,
          13.87,
          6.569999999999999,
          3.65,
          3.65,
          2.92,
          2.92,
          2.19,
          2.19,
          2.19,
          2.19,
          2.19,
          1.46,
          1.46,
          1.46,
          1.46,
          0.73,
          0.73,
          0.73,
          0.73,
          0.73,
          0.73,
          0.73,
          0.73,
          0.73,
          0.73,
          0.73,
          0.73,
          0.73,
          0.73,
          0.73,
          0.73,
          0.73,
          0.73
         ]
        }
       ],
       "layout": {
        "autosize": false,
        "font": {
         "color": "white",
         "family": "Courier New, monospace",
         "size": 12
        },
        "height": 600,
        "template": {
         "data": {
          "bar": [
           {
            "error_x": {
             "color": "#2a3f5f"
            },
            "error_y": {
             "color": "#2a3f5f"
            },
            "marker": {
             "line": {
              "color": "#E5ECF6",
              "width": 0.5
             }
            },
            "type": "bar"
           }
          ],
          "barpolar": [
           {
            "marker": {
             "line": {
              "color": "#E5ECF6",
              "width": 0.5
             }
            },
            "type": "barpolar"
           }
          ],
          "carpet": [
           {
            "aaxis": {
             "endlinecolor": "#2a3f5f",
             "gridcolor": "white",
             "linecolor": "white",
             "minorgridcolor": "white",
             "startlinecolor": "#2a3f5f"
            },
            "baxis": {
             "endlinecolor": "#2a3f5f",
             "gridcolor": "white",
             "linecolor": "white",
             "minorgridcolor": "white",
             "startlinecolor": "#2a3f5f"
            },
            "type": "carpet"
           }
          ],
          "choropleth": [
           {
            "colorbar": {
             "outlinewidth": 0,
             "ticks": ""
            },
            "type": "choropleth"
           }
          ],
          "contour": [
           {
            "colorbar": {
             "outlinewidth": 0,
             "ticks": ""
            },
            "colorscale": [
             [
              0,
              "#0d0887"
             ],
             [
              0.1111111111111111,
              "#46039f"
             ],
             [
              0.2222222222222222,
              "#7201a8"
             ],
             [
              0.3333333333333333,
              "#9c179e"
             ],
             [
              0.4444444444444444,
              "#bd3786"
             ],
             [
              0.5555555555555556,
              "#d8576b"
             ],
             [
              0.6666666666666666,
              "#ed7953"
             ],
             [
              0.7777777777777778,
              "#fb9f3a"
             ],
             [
              0.8888888888888888,
              "#fdca26"
             ],
             [
              1,
              "#f0f921"
             ]
            ],
            "type": "contour"
           }
          ],
          "contourcarpet": [
           {
            "colorbar": {
             "outlinewidth": 0,
             "ticks": ""
            },
            "type": "contourcarpet"
           }
          ],
          "heatmap": [
           {
            "colorbar": {
             "outlinewidth": 0,
             "ticks": ""
            },
            "colorscale": [
             [
              0,
              "#0d0887"
             ],
             [
              0.1111111111111111,
              "#46039f"
             ],
             [
              0.2222222222222222,
              "#7201a8"
             ],
             [
              0.3333333333333333,
              "#9c179e"
             ],
             [
              0.4444444444444444,
              "#bd3786"
             ],
             [
              0.5555555555555556,
              "#d8576b"
             ],
             [
              0.6666666666666666,
              "#ed7953"
             ],
             [
              0.7777777777777778,
              "#fb9f3a"
             ],
             [
              0.8888888888888888,
              "#fdca26"
             ],
             [
              1,
              "#f0f921"
             ]
            ],
            "type": "heatmap"
           }
          ],
          "heatmapgl": [
           {
            "colorbar": {
             "outlinewidth": 0,
             "ticks": ""
            },
            "colorscale": [
             [
              0,
              "#0d0887"
             ],
             [
              0.1111111111111111,
              "#46039f"
             ],
             [
              0.2222222222222222,
              "#7201a8"
             ],
             [
              0.3333333333333333,
              "#9c179e"
             ],
             [
              0.4444444444444444,
              "#bd3786"
             ],
             [
              0.5555555555555556,
              "#d8576b"
             ],
             [
              0.6666666666666666,
              "#ed7953"
             ],
             [
              0.7777777777777778,
              "#fb9f3a"
             ],
             [
              0.8888888888888888,
              "#fdca26"
             ],
             [
              1,
              "#f0f921"
             ]
            ],
            "type": "heatmapgl"
           }
          ],
          "histogram": [
           {
            "marker": {
             "colorbar": {
              "outlinewidth": 0,
              "ticks": ""
             }
            },
            "type": "histogram"
           }
          ],
          "histogram2d": [
           {
            "colorbar": {
             "outlinewidth": 0,
             "ticks": ""
            },
            "colorscale": [
             [
              0,
              "#0d0887"
             ],
             [
              0.1111111111111111,
              "#46039f"
             ],
             [
              0.2222222222222222,
              "#7201a8"
             ],
             [
              0.3333333333333333,
              "#9c179e"
             ],
             [
              0.4444444444444444,
              "#bd3786"
             ],
             [
              0.5555555555555556,
              "#d8576b"
             ],
             [
              0.6666666666666666,
              "#ed7953"
             ],
             [
              0.7777777777777778,
              "#fb9f3a"
             ],
             [
              0.8888888888888888,
              "#fdca26"
             ],
             [
              1,
              "#f0f921"
             ]
            ],
            "type": "histogram2d"
           }
          ],
          "histogram2dcontour": [
           {
            "colorbar": {
             "outlinewidth": 0,
             "ticks": ""
            },
            "colorscale": [
             [
              0,
              "#0d0887"
             ],
             [
              0.1111111111111111,
              "#46039f"
             ],
             [
              0.2222222222222222,
              "#7201a8"
             ],
             [
              0.3333333333333333,
              "#9c179e"
             ],
             [
              0.4444444444444444,
              "#bd3786"
             ],
             [
              0.5555555555555556,
              "#d8576b"
             ],
             [
              0.6666666666666666,
              "#ed7953"
             ],
             [
              0.7777777777777778,
              "#fb9f3a"
             ],
             [
              0.8888888888888888,
              "#fdca26"
             ],
             [
              1,
              "#f0f921"
             ]
            ],
            "type": "histogram2dcontour"
           }
          ],
          "mesh3d": [
           {
            "colorbar": {
             "outlinewidth": 0,
             "ticks": ""
            },
            "type": "mesh3d"
           }
          ],
          "parcoords": [
           {
            "line": {
             "colorbar": {
              "outlinewidth": 0,
              "ticks": ""
             }
            },
            "type": "parcoords"
           }
          ],
          "pie": [
           {
            "automargin": true,
            "type": "pie"
           }
          ],
          "scatter": [
           {
            "marker": {
             "colorbar": {
              "outlinewidth": 0,
              "ticks": ""
             }
            },
            "type": "scatter"
           }
          ],
          "scatter3d": [
           {
            "line": {
             "colorbar": {
              "outlinewidth": 0,
              "ticks": ""
             }
            },
            "marker": {
             "colorbar": {
              "outlinewidth": 0,
              "ticks": ""
             }
            },
            "type": "scatter3d"
           }
          ],
          "scattercarpet": [
           {
            "marker": {
             "colorbar": {
              "outlinewidth": 0,
              "ticks": ""
             }
            },
            "type": "scattercarpet"
           }
          ],
          "scattergeo": [
           {
            "marker": {
             "colorbar": {
              "outlinewidth": 0,
              "ticks": ""
             }
            },
            "type": "scattergeo"
           }
          ],
          "scattergl": [
           {
            "marker": {
             "colorbar": {
              "outlinewidth": 0,
              "ticks": ""
             }
            },
            "type": "scattergl"
           }
          ],
          "scattermapbox": [
           {
            "marker": {
             "colorbar": {
              "outlinewidth": 0,
              "ticks": ""
             }
            },
            "type": "scattermapbox"
           }
          ],
          "scatterpolar": [
           {
            "marker": {
             "colorbar": {
              "outlinewidth": 0,
              "ticks": ""
             }
            },
            "type": "scatterpolar"
           }
          ],
          "scatterpolargl": [
           {
            "marker": {
             "colorbar": {
              "outlinewidth": 0,
              "ticks": ""
             }
            },
            "type": "scatterpolargl"
           }
          ],
          "scatterternary": [
           {
            "marker": {
             "colorbar": {
              "outlinewidth": 0,
              "ticks": ""
             }
            },
            "type": "scatterternary"
           }
          ],
          "surface": [
           {
            "colorbar": {
             "outlinewidth": 0,
             "ticks": ""
            },
            "colorscale": [
             [
              0,
              "#0d0887"
             ],
             [
              0.1111111111111111,
              "#46039f"
             ],
             [
              0.2222222222222222,
              "#7201a8"
             ],
             [
              0.3333333333333333,
              "#9c179e"
             ],
             [
              0.4444444444444444,
              "#bd3786"
             ],
             [
              0.5555555555555556,
              "#d8576b"
             ],
             [
              0.6666666666666666,
              "#ed7953"
             ],
             [
              0.7777777777777778,
              "#fb9f3a"
             ],
             [
              0.8888888888888888,
              "#fdca26"
             ],
             [
              1,
              "#f0f921"
             ]
            ],
            "type": "surface"
           }
          ],
          "table": [
           {
            "cells": {
             "fill": {
              "color": "#EBF0F8"
             },
             "line": {
              "color": "white"
             }
            },
            "header": {
             "fill": {
              "color": "#C8D4E3"
             },
             "line": {
              "color": "white"
             }
            },
            "type": "table"
           }
          ]
         },
         "layout": {
          "annotationdefaults": {
           "arrowcolor": "#2a3f5f",
           "arrowhead": 0,
           "arrowwidth": 1
          },
          "coloraxis": {
           "colorbar": {
            "outlinewidth": 0,
            "ticks": ""
           }
          },
          "colorscale": {
           "diverging": [
            [
             0,
             "#8e0152"
            ],
            [
             0.1,
             "#c51b7d"
            ],
            [
             0.2,
             "#de77ae"
            ],
            [
             0.3,
             "#f1b6da"
            ],
            [
             0.4,
             "#fde0ef"
            ],
            [
             0.5,
             "#f7f7f7"
            ],
            [
             0.6,
             "#e6f5d0"
            ],
            [
             0.7,
             "#b8e186"
            ],
            [
             0.8,
             "#7fbc41"
            ],
            [
             0.9,
             "#4d9221"
            ],
            [
             1,
             "#276419"
            ]
           ],
           "sequential": [
            [
             0,
             "#0d0887"
            ],
            [
             0.1111111111111111,
             "#46039f"
            ],
            [
             0.2222222222222222,
             "#7201a8"
            ],
            [
             0.3333333333333333,
             "#9c179e"
            ],
            [
             0.4444444444444444,
             "#bd3786"
            ],
            [
             0.5555555555555556,
             "#d8576b"
            ],
            [
             0.6666666666666666,
             "#ed7953"
            ],
            [
             0.7777777777777778,
             "#fb9f3a"
            ],
            [
             0.8888888888888888,
             "#fdca26"
            ],
            [
             1,
             "#f0f921"
            ]
           ],
           "sequentialminus": [
            [
             0,
             "#0d0887"
            ],
            [
             0.1111111111111111,
             "#46039f"
            ],
            [
             0.2222222222222222,
             "#7201a8"
            ],
            [
             0.3333333333333333,
             "#9c179e"
            ],
            [
             0.4444444444444444,
             "#bd3786"
            ],
            [
             0.5555555555555556,
             "#d8576b"
            ],
            [
             0.6666666666666666,
             "#ed7953"
            ],
            [
             0.7777777777777778,
             "#fb9f3a"
            ],
            [
             0.8888888888888888,
             "#fdca26"
            ],
            [
             1,
             "#f0f921"
            ]
           ]
          },
          "colorway": [
           "#636efa",
           "#EF553B",
           "#00cc96",
           "#ab63fa",
           "#FFA15A",
           "#19d3f3",
           "#FF6692",
           "#B6E880",
           "#FF97FF",
           "#FECB52"
          ],
          "font": {
           "color": "#2a3f5f"
          },
          "geo": {
           "bgcolor": "white",
           "lakecolor": "white",
           "landcolor": "#E5ECF6",
           "showlakes": true,
           "showland": true,
           "subunitcolor": "white"
          },
          "hoverlabel": {
           "align": "left"
          },
          "hovermode": "closest",
          "mapbox": {
           "style": "light"
          },
          "paper_bgcolor": "white",
          "plot_bgcolor": "#E5ECF6",
          "polar": {
           "angularaxis": {
            "gridcolor": "white",
            "linecolor": "white",
            "ticks": ""
           },
           "bgcolor": "#E5ECF6",
           "radialaxis": {
            "gridcolor": "white",
            "linecolor": "white",
            "ticks": ""
           }
          },
          "scene": {
           "xaxis": {
            "backgroundcolor": "#E5ECF6",
            "gridcolor": "white",
            "gridwidth": 2,
            "linecolor": "white",
            "showbackground": true,
            "ticks": "",
            "zerolinecolor": "white"
           },
           "yaxis": {
            "backgroundcolor": "#E5ECF6",
            "gridcolor": "white",
            "gridwidth": 2,
            "linecolor": "white",
            "showbackground": true,
            "ticks": "",
            "zerolinecolor": "white"
           },
           "zaxis": {
            "backgroundcolor": "#E5ECF6",
            "gridcolor": "white",
            "gridwidth": 2,
            "linecolor": "white",
            "showbackground": true,
            "ticks": "",
            "zerolinecolor": "white"
           }
          },
          "shapedefaults": {
           "line": {
            "color": "#2a3f5f"
           }
          },
          "ternary": {
           "aaxis": {
            "gridcolor": "white",
            "linecolor": "white",
            "ticks": ""
           },
           "baxis": {
            "gridcolor": "white",
            "linecolor": "white",
            "ticks": ""
           },
           "bgcolor": "#E5ECF6",
           "caxis": {
            "gridcolor": "white",
            "linecolor": "white",
            "ticks": ""
           }
          },
          "title": {
           "x": 0.05
          },
          "xaxis": {
           "automargin": true,
           "gridcolor": "white",
           "linecolor": "white",
           "ticks": "",
           "title": {
            "standoff": 15
           },
           "zerolinecolor": "white",
           "zerolinewidth": 2
          },
          "yaxis": {
           "automargin": true,
           "gridcolor": "white",
           "linecolor": "white",
           "ticks": "",
           "title": {
            "standoff": 15
           },
           "zerolinecolor": "white",
           "zerolinewidth": 2
          }
         }
        },
        "title": {
         "font": {
          "color": "black",
          "family": "Courier New, monospace",
          "size": 14
         },
         "text": "Distribution of City column"
        },
        "width": 800,
        "xaxis": {
         "tickfont": {
          "color": "black",
          "family": "Courier New, monospace",
          "size": 14
         }
        },
        "yaxis": {
         "tickfont": {
          "color": "black",
          "family": "Courier New, monospace",
          "size": 14
         },
         "title": {
          "font": {
           "color": "black",
           "size": 14
          },
          "text": "Percentage"
         }
        }
       }
      },
      "text/html": [
       "<div>\n",
       "        \n",
       "        \n",
       "            <div id=\"9b75a8da-1b25-43ad-87ee-ffc5974d5272\" class=\"plotly-graph-div\" style=\"height:600px; width:800px;\"></div>\n",
       "            <script type=\"text/javascript\">\n",
       "                require([\"plotly\"], function(Plotly) {\n",
       "                    window.PLOTLYENV=window.PLOTLYENV || {};\n",
       "                    \n",
       "                if (document.getElementById(\"9b75a8da-1b25-43ad-87ee-ffc5974d5272\")) {\n",
       "                    Plotly.newPlot(\n",
       "                        '9b75a8da-1b25-43ad-87ee-ffc5974d5272',\n",
       "                        [{\"marker\": {\"color\": \"#0047AB\"}, \"text\": [\"36.5%\", \"13.87%\", \"6.569999999999999%\", \"3.65%\", \"3.65%\", \"2.92%\", \"2.92%\", \"2.19%\", \"2.19%\", \"2.19%\", \"2.19%\", \"2.19%\", \"1.46%\", \"1.46%\", \"1.46%\", \"1.46%\", \"0.73%\", \"0.73%\", \"0.73%\", \"0.73%\", \"0.73%\", \"0.73%\", \"0.73%\", \"0.73%\", \"0.73%\", \"0.73%\", \"0.73%\", \"0.73%\", \"0.73%\", \"0.73%\", \"0.73%\", \"0.73%\", \"0.73%\", \"0.73%\"], \"textposition\": \"auto\", \"type\": \"bar\", \"x\": [\"\\u0130stanbul\", \"Ankara\", \"\\u0130zmir\", \"Bursa\", \"Samsun\", \"Sakarya\", \"Antalya\", \"Diyarbak\\u0131r\", \"Tekirda\\u011f\", \"Adana\", \"Kayseri\", \"Eski\\u015fehir\", \"Mu\\u011fla\", \"Ayd\\u0131n\", \"Trabzon\", \"Konya\", \"Denizli\", \"Tokat\", \"\\u015eanl\\u0131urfa\", \"Elaz\\u0131\\u011f\", \"Karab\\u00fck\", \"Kocaeli\", \"Osmaniye\", \"Gaziantep\", \"Afyonkarahisar\", \"K\\u0131rklareli\", \"K\\u00fctahya\", \"Bal\\u0131kesir\", \"Bolu\", \"Edirne\", \"Isparta\", \"Amasya\", \"U\\u015fak\", \"Kastamonu\"], \"y\": [36.5, 13.87, 6.569999999999999, 3.65, 3.65, 2.92, 2.92, 2.19, 2.19, 2.19, 2.19, 2.19, 1.46, 1.46, 1.46, 1.46, 0.73, 0.73, 0.73, 0.73, 0.73, 0.73, 0.73, 0.73, 0.73, 0.73, 0.73, 0.73, 0.73, 0.73, 0.73, 0.73, 0.73, 0.73]}],\n",
       "                        {\"autosize\": false, \"font\": {\"color\": \"white\", \"family\": \"Courier New, monospace\", \"size\": 12}, \"height\": 600, \"template\": {\"data\": {\"bar\": [{\"error_x\": {\"color\": \"#2a3f5f\"}, \"error_y\": {\"color\": \"#2a3f5f\"}, \"marker\": {\"line\": {\"color\": \"#E5ECF6\", \"width\": 0.5}}, \"type\": \"bar\"}], \"barpolar\": [{\"marker\": {\"line\": {\"color\": \"#E5ECF6\", \"width\": 0.5}}, \"type\": \"barpolar\"}], \"carpet\": [{\"aaxis\": {\"endlinecolor\": \"#2a3f5f\", \"gridcolor\": \"white\", \"linecolor\": \"white\", \"minorgridcolor\": \"white\", \"startlinecolor\": \"#2a3f5f\"}, \"baxis\": {\"endlinecolor\": \"#2a3f5f\", \"gridcolor\": \"white\", \"linecolor\": \"white\", \"minorgridcolor\": \"white\", \"startlinecolor\": \"#2a3f5f\"}, \"type\": \"carpet\"}], \"choropleth\": [{\"colorbar\": {\"outlinewidth\": 0, \"ticks\": \"\"}, \"type\": \"choropleth\"}], \"contour\": [{\"colorbar\": {\"outlinewidth\": 0, \"ticks\": \"\"}, \"colorscale\": [[0.0, \"#0d0887\"], [0.1111111111111111, \"#46039f\"], [0.2222222222222222, \"#7201a8\"], [0.3333333333333333, \"#9c179e\"], [0.4444444444444444, \"#bd3786\"], [0.5555555555555556, \"#d8576b\"], [0.6666666666666666, \"#ed7953\"], [0.7777777777777778, \"#fb9f3a\"], [0.8888888888888888, \"#fdca26\"], [1.0, \"#f0f921\"]], \"type\": \"contour\"}], \"contourcarpet\": [{\"colorbar\": {\"outlinewidth\": 0, \"ticks\": \"\"}, \"type\": \"contourcarpet\"}], \"heatmap\": [{\"colorbar\": {\"outlinewidth\": 0, \"ticks\": \"\"}, \"colorscale\": [[0.0, \"#0d0887\"], [0.1111111111111111, \"#46039f\"], [0.2222222222222222, \"#7201a8\"], [0.3333333333333333, \"#9c179e\"], [0.4444444444444444, \"#bd3786\"], [0.5555555555555556, \"#d8576b\"], [0.6666666666666666, \"#ed7953\"], [0.7777777777777778, \"#fb9f3a\"], [0.8888888888888888, \"#fdca26\"], [1.0, \"#f0f921\"]], \"type\": \"heatmap\"}], \"heatmapgl\": [{\"colorbar\": {\"outlinewidth\": 0, \"ticks\": \"\"}, \"colorscale\": [[0.0, \"#0d0887\"], [0.1111111111111111, \"#46039f\"], [0.2222222222222222, \"#7201a8\"], [0.3333333333333333, \"#9c179e\"], [0.4444444444444444, \"#bd3786\"], [0.5555555555555556, \"#d8576b\"], [0.6666666666666666, \"#ed7953\"], [0.7777777777777778, \"#fb9f3a\"], [0.8888888888888888, \"#fdca26\"], [1.0, \"#f0f921\"]], \"type\": \"heatmapgl\"}], \"histogram\": [{\"marker\": {\"colorbar\": {\"outlinewidth\": 0, \"ticks\": \"\"}}, \"type\": \"histogram\"}], \"histogram2d\": [{\"colorbar\": {\"outlinewidth\": 0, \"ticks\": \"\"}, \"colorscale\": [[0.0, \"#0d0887\"], [0.1111111111111111, \"#46039f\"], [0.2222222222222222, \"#7201a8\"], [0.3333333333333333, \"#9c179e\"], [0.4444444444444444, \"#bd3786\"], [0.5555555555555556, \"#d8576b\"], [0.6666666666666666, \"#ed7953\"], [0.7777777777777778, \"#fb9f3a\"], [0.8888888888888888, \"#fdca26\"], [1.0, \"#f0f921\"]], \"type\": \"histogram2d\"}], \"histogram2dcontour\": [{\"colorbar\": {\"outlinewidth\": 0, \"ticks\": \"\"}, \"colorscale\": [[0.0, \"#0d0887\"], [0.1111111111111111, \"#46039f\"], [0.2222222222222222, \"#7201a8\"], [0.3333333333333333, \"#9c179e\"], [0.4444444444444444, \"#bd3786\"], [0.5555555555555556, \"#d8576b\"], [0.6666666666666666, \"#ed7953\"], [0.7777777777777778, \"#fb9f3a\"], [0.8888888888888888, \"#fdca26\"], [1.0, \"#f0f921\"]], \"type\": \"histogram2dcontour\"}], \"mesh3d\": [{\"colorbar\": {\"outlinewidth\": 0, \"ticks\": \"\"}, \"type\": \"mesh3d\"}], \"parcoords\": [{\"line\": {\"colorbar\": {\"outlinewidth\": 0, \"ticks\": \"\"}}, \"type\": \"parcoords\"}], \"pie\": [{\"automargin\": true, \"type\": \"pie\"}], \"scatter\": [{\"marker\": {\"colorbar\": {\"outlinewidth\": 0, \"ticks\": \"\"}}, \"type\": \"scatter\"}], \"scatter3d\": [{\"line\": {\"colorbar\": {\"outlinewidth\": 0, \"ticks\": \"\"}}, \"marker\": {\"colorbar\": {\"outlinewidth\": 0, \"ticks\": \"\"}}, \"type\": \"scatter3d\"}], \"scattercarpet\": [{\"marker\": {\"colorbar\": {\"outlinewidth\": 0, \"ticks\": \"\"}}, \"type\": \"scattercarpet\"}], \"scattergeo\": [{\"marker\": {\"colorbar\": {\"outlinewidth\": 0, \"ticks\": \"\"}}, \"type\": \"scattergeo\"}], \"scattergl\": [{\"marker\": {\"colorbar\": {\"outlinewidth\": 0, \"ticks\": \"\"}}, \"type\": \"scattergl\"}], \"scattermapbox\": [{\"marker\": {\"colorbar\": {\"outlinewidth\": 0, \"ticks\": \"\"}}, \"type\": \"scattermapbox\"}], \"scatterpolar\": [{\"marker\": {\"colorbar\": {\"outlinewidth\": 0, \"ticks\": \"\"}}, \"type\": \"scatterpolar\"}], \"scatterpolargl\": [{\"marker\": {\"colorbar\": {\"outlinewidth\": 0, \"ticks\": \"\"}}, \"type\": \"scatterpolargl\"}], \"scatterternary\": [{\"marker\": {\"colorbar\": {\"outlinewidth\": 0, \"ticks\": \"\"}}, \"type\": \"scatterternary\"}], \"surface\": [{\"colorbar\": {\"outlinewidth\": 0, \"ticks\": \"\"}, \"colorscale\": [[0.0, \"#0d0887\"], [0.1111111111111111, \"#46039f\"], [0.2222222222222222, \"#7201a8\"], [0.3333333333333333, \"#9c179e\"], [0.4444444444444444, \"#bd3786\"], [0.5555555555555556, \"#d8576b\"], [0.6666666666666666, \"#ed7953\"], [0.7777777777777778, \"#fb9f3a\"], [0.8888888888888888, \"#fdca26\"], [1.0, \"#f0f921\"]], \"type\": \"surface\"}], \"table\": [{\"cells\": {\"fill\": {\"color\": \"#EBF0F8\"}, \"line\": {\"color\": \"white\"}}, \"header\": {\"fill\": {\"color\": \"#C8D4E3\"}, \"line\": {\"color\": \"white\"}}, \"type\": \"table\"}]}, \"layout\": {\"annotationdefaults\": {\"arrowcolor\": \"#2a3f5f\", \"arrowhead\": 0, \"arrowwidth\": 1}, \"coloraxis\": {\"colorbar\": {\"outlinewidth\": 0, \"ticks\": \"\"}}, \"colorscale\": {\"diverging\": [[0, \"#8e0152\"], [0.1, \"#c51b7d\"], [0.2, \"#de77ae\"], [0.3, \"#f1b6da\"], [0.4, \"#fde0ef\"], [0.5, \"#f7f7f7\"], [0.6, \"#e6f5d0\"], [0.7, \"#b8e186\"], [0.8, \"#7fbc41\"], [0.9, \"#4d9221\"], [1, \"#276419\"]], \"sequential\": [[0.0, \"#0d0887\"], [0.1111111111111111, \"#46039f\"], [0.2222222222222222, \"#7201a8\"], [0.3333333333333333, \"#9c179e\"], [0.4444444444444444, \"#bd3786\"], [0.5555555555555556, \"#d8576b\"], [0.6666666666666666, \"#ed7953\"], [0.7777777777777778, \"#fb9f3a\"], [0.8888888888888888, \"#fdca26\"], [1.0, \"#f0f921\"]], \"sequentialminus\": [[0.0, \"#0d0887\"], [0.1111111111111111, \"#46039f\"], [0.2222222222222222, \"#7201a8\"], [0.3333333333333333, \"#9c179e\"], [0.4444444444444444, \"#bd3786\"], [0.5555555555555556, \"#d8576b\"], [0.6666666666666666, \"#ed7953\"], [0.7777777777777778, \"#fb9f3a\"], [0.8888888888888888, \"#fdca26\"], [1.0, \"#f0f921\"]]}, \"colorway\": [\"#636efa\", \"#EF553B\", \"#00cc96\", \"#ab63fa\", \"#FFA15A\", \"#19d3f3\", \"#FF6692\", \"#B6E880\", \"#FF97FF\", \"#FECB52\"], \"font\": {\"color\": \"#2a3f5f\"}, \"geo\": {\"bgcolor\": \"white\", \"lakecolor\": \"white\", \"landcolor\": \"#E5ECF6\", \"showlakes\": true, \"showland\": true, \"subunitcolor\": \"white\"}, \"hoverlabel\": {\"align\": \"left\"}, \"hovermode\": \"closest\", \"mapbox\": {\"style\": \"light\"}, \"paper_bgcolor\": \"white\", \"plot_bgcolor\": \"#E5ECF6\", \"polar\": {\"angularaxis\": {\"gridcolor\": \"white\", \"linecolor\": \"white\", \"ticks\": \"\"}, \"bgcolor\": \"#E5ECF6\", \"radialaxis\": {\"gridcolor\": \"white\", \"linecolor\": \"white\", \"ticks\": \"\"}}, \"scene\": {\"xaxis\": {\"backgroundcolor\": \"#E5ECF6\", \"gridcolor\": \"white\", \"gridwidth\": 2, \"linecolor\": \"white\", \"showbackground\": true, \"ticks\": \"\", \"zerolinecolor\": \"white\"}, \"yaxis\": {\"backgroundcolor\": \"#E5ECF6\", \"gridcolor\": \"white\", \"gridwidth\": 2, \"linecolor\": \"white\", \"showbackground\": true, \"ticks\": \"\", \"zerolinecolor\": \"white\"}, \"zaxis\": {\"backgroundcolor\": \"#E5ECF6\", \"gridcolor\": \"white\", \"gridwidth\": 2, \"linecolor\": \"white\", \"showbackground\": true, \"ticks\": \"\", \"zerolinecolor\": \"white\"}}, \"shapedefaults\": {\"line\": {\"color\": \"#2a3f5f\"}}, \"ternary\": {\"aaxis\": {\"gridcolor\": \"white\", \"linecolor\": \"white\", \"ticks\": \"\"}, \"baxis\": {\"gridcolor\": \"white\", \"linecolor\": \"white\", \"ticks\": \"\"}, \"bgcolor\": \"#E5ECF6\", \"caxis\": {\"gridcolor\": \"white\", \"linecolor\": \"white\", \"ticks\": \"\"}}, \"title\": {\"x\": 0.05}, \"xaxis\": {\"automargin\": true, \"gridcolor\": \"white\", \"linecolor\": \"white\", \"ticks\": \"\", \"title\": {\"standoff\": 15}, \"zerolinecolor\": \"white\", \"zerolinewidth\": 2}, \"yaxis\": {\"automargin\": true, \"gridcolor\": \"white\", \"linecolor\": \"white\", \"ticks\": \"\", \"title\": {\"standoff\": 15}, \"zerolinecolor\": \"white\", \"zerolinewidth\": 2}}}, \"title\": {\"font\": {\"color\": \"black\", \"family\": \"Courier New, monospace\", \"size\": 14}, \"text\": \"Distribution of City column\"}, \"width\": 800, \"xaxis\": {\"tickfont\": {\"color\": \"black\", \"family\": \"Courier New, monospace\", \"size\": 14}}, \"yaxis\": {\"tickfont\": {\"color\": \"black\", \"family\": \"Courier New, monospace\", \"size\": 14}, \"title\": {\"font\": {\"color\": \"black\", \"size\": 14}, \"text\": \"Percentage\"}}},\n",
       "                        {\"responsive\": true}\n",
       "                    ).then(function(){\n",
       "                            \n",
       "var gd = document.getElementById('9b75a8da-1b25-43ad-87ee-ffc5974d5272');\n",
       "var x = new MutationObserver(function (mutations, observer) {{\n",
       "        var display = window.getComputedStyle(gd).display;\n",
       "        if (!display || display === 'none') {{\n",
       "            console.log([gd, 'removed!']);\n",
       "            Plotly.purge(gd);\n",
       "            observer.disconnect();\n",
       "        }}\n",
       "}});\n",
       "\n",
       "// Listen for the removal of the full notebook cells\n",
       "var notebookContainer = gd.closest('#notebook-container');\n",
       "if (notebookContainer) {{\n",
       "    x.observe(notebookContainer, {childList: true});\n",
       "}}\n",
       "\n",
       "// Listen for the clearing of the current output cell\n",
       "var outputEl = gd.closest('.output');\n",
       "if (outputEl) {{\n",
       "    x.observe(outputEl, {childList: true});\n",
       "}}\n",
       "\n",
       "                        })\n",
       "                };\n",
       "                });\n",
       "            </script>\n",
       "        </div>"
      ]
     },
     "metadata": {},
     "output_type": "display_data"
    }
   ],
   "source": [
    "plot_bar('City')"
   ]
  },
  {
   "cell_type": "code",
   "execution_count": 33,
   "metadata": {},
   "outputs": [
    {
     "data": {
      "application/vnd.plotly.v1+json": {
       "config": {
        "linkText": "Export to plot.ly",
        "plotlyServerURL": "https://plot.ly",
        "showLink": false
       },
       "data": [
        {
         "marker": {
          "color": "#0047AB"
         },
         "text": [
          "56.93%",
          "43.07%"
         ],
         "textposition": "auto",
         "type": "bar",
         "x": [
          "Big Cities",
          "Other"
         ],
         "y": [
          56.93,
          43.07
         ]
        }
       ],
       "layout": {
        "autosize": false,
        "font": {
         "color": "white",
         "family": "Courier New, monospace",
         "size": 12
        },
        "height": 600,
        "template": {
         "data": {
          "bar": [
           {
            "error_x": {
             "color": "#2a3f5f"
            },
            "error_y": {
             "color": "#2a3f5f"
            },
            "marker": {
             "line": {
              "color": "#E5ECF6",
              "width": 0.5
             }
            },
            "type": "bar"
           }
          ],
          "barpolar": [
           {
            "marker": {
             "line": {
              "color": "#E5ECF6",
              "width": 0.5
             }
            },
            "type": "barpolar"
           }
          ],
          "carpet": [
           {
            "aaxis": {
             "endlinecolor": "#2a3f5f",
             "gridcolor": "white",
             "linecolor": "white",
             "minorgridcolor": "white",
             "startlinecolor": "#2a3f5f"
            },
            "baxis": {
             "endlinecolor": "#2a3f5f",
             "gridcolor": "white",
             "linecolor": "white",
             "minorgridcolor": "white",
             "startlinecolor": "#2a3f5f"
            },
            "type": "carpet"
           }
          ],
          "choropleth": [
           {
            "colorbar": {
             "outlinewidth": 0,
             "ticks": ""
            },
            "type": "choropleth"
           }
          ],
          "contour": [
           {
            "colorbar": {
             "outlinewidth": 0,
             "ticks": ""
            },
            "colorscale": [
             [
              0,
              "#0d0887"
             ],
             [
              0.1111111111111111,
              "#46039f"
             ],
             [
              0.2222222222222222,
              "#7201a8"
             ],
             [
              0.3333333333333333,
              "#9c179e"
             ],
             [
              0.4444444444444444,
              "#bd3786"
             ],
             [
              0.5555555555555556,
              "#d8576b"
             ],
             [
              0.6666666666666666,
              "#ed7953"
             ],
             [
              0.7777777777777778,
              "#fb9f3a"
             ],
             [
              0.8888888888888888,
              "#fdca26"
             ],
             [
              1,
              "#f0f921"
             ]
            ],
            "type": "contour"
           }
          ],
          "contourcarpet": [
           {
            "colorbar": {
             "outlinewidth": 0,
             "ticks": ""
            },
            "type": "contourcarpet"
           }
          ],
          "heatmap": [
           {
            "colorbar": {
             "outlinewidth": 0,
             "ticks": ""
            },
            "colorscale": [
             [
              0,
              "#0d0887"
             ],
             [
              0.1111111111111111,
              "#46039f"
             ],
             [
              0.2222222222222222,
              "#7201a8"
             ],
             [
              0.3333333333333333,
              "#9c179e"
             ],
             [
              0.4444444444444444,
              "#bd3786"
             ],
             [
              0.5555555555555556,
              "#d8576b"
             ],
             [
              0.6666666666666666,
              "#ed7953"
             ],
             [
              0.7777777777777778,
              "#fb9f3a"
             ],
             [
              0.8888888888888888,
              "#fdca26"
             ],
             [
              1,
              "#f0f921"
             ]
            ],
            "type": "heatmap"
           }
          ],
          "heatmapgl": [
           {
            "colorbar": {
             "outlinewidth": 0,
             "ticks": ""
            },
            "colorscale": [
             [
              0,
              "#0d0887"
             ],
             [
              0.1111111111111111,
              "#46039f"
             ],
             [
              0.2222222222222222,
              "#7201a8"
             ],
             [
              0.3333333333333333,
              "#9c179e"
             ],
             [
              0.4444444444444444,
              "#bd3786"
             ],
             [
              0.5555555555555556,
              "#d8576b"
             ],
             [
              0.6666666666666666,
              "#ed7953"
             ],
             [
              0.7777777777777778,
              "#fb9f3a"
             ],
             [
              0.8888888888888888,
              "#fdca26"
             ],
             [
              1,
              "#f0f921"
             ]
            ],
            "type": "heatmapgl"
           }
          ],
          "histogram": [
           {
            "marker": {
             "colorbar": {
              "outlinewidth": 0,
              "ticks": ""
             }
            },
            "type": "histogram"
           }
          ],
          "histogram2d": [
           {
            "colorbar": {
             "outlinewidth": 0,
             "ticks": ""
            },
            "colorscale": [
             [
              0,
              "#0d0887"
             ],
             [
              0.1111111111111111,
              "#46039f"
             ],
             [
              0.2222222222222222,
              "#7201a8"
             ],
             [
              0.3333333333333333,
              "#9c179e"
             ],
             [
              0.4444444444444444,
              "#bd3786"
             ],
             [
              0.5555555555555556,
              "#d8576b"
             ],
             [
              0.6666666666666666,
              "#ed7953"
             ],
             [
              0.7777777777777778,
              "#fb9f3a"
             ],
             [
              0.8888888888888888,
              "#fdca26"
             ],
             [
              1,
              "#f0f921"
             ]
            ],
            "type": "histogram2d"
           }
          ],
          "histogram2dcontour": [
           {
            "colorbar": {
             "outlinewidth": 0,
             "ticks": ""
            },
            "colorscale": [
             [
              0,
              "#0d0887"
             ],
             [
              0.1111111111111111,
              "#46039f"
             ],
             [
              0.2222222222222222,
              "#7201a8"
             ],
             [
              0.3333333333333333,
              "#9c179e"
             ],
             [
              0.4444444444444444,
              "#bd3786"
             ],
             [
              0.5555555555555556,
              "#d8576b"
             ],
             [
              0.6666666666666666,
              "#ed7953"
             ],
             [
              0.7777777777777778,
              "#fb9f3a"
             ],
             [
              0.8888888888888888,
              "#fdca26"
             ],
             [
              1,
              "#f0f921"
             ]
            ],
            "type": "histogram2dcontour"
           }
          ],
          "mesh3d": [
           {
            "colorbar": {
             "outlinewidth": 0,
             "ticks": ""
            },
            "type": "mesh3d"
           }
          ],
          "parcoords": [
           {
            "line": {
             "colorbar": {
              "outlinewidth": 0,
              "ticks": ""
             }
            },
            "type": "parcoords"
           }
          ],
          "pie": [
           {
            "automargin": true,
            "type": "pie"
           }
          ],
          "scatter": [
           {
            "marker": {
             "colorbar": {
              "outlinewidth": 0,
              "ticks": ""
             }
            },
            "type": "scatter"
           }
          ],
          "scatter3d": [
           {
            "line": {
             "colorbar": {
              "outlinewidth": 0,
              "ticks": ""
             }
            },
            "marker": {
             "colorbar": {
              "outlinewidth": 0,
              "ticks": ""
             }
            },
            "type": "scatter3d"
           }
          ],
          "scattercarpet": [
           {
            "marker": {
             "colorbar": {
              "outlinewidth": 0,
              "ticks": ""
             }
            },
            "type": "scattercarpet"
           }
          ],
          "scattergeo": [
           {
            "marker": {
             "colorbar": {
              "outlinewidth": 0,
              "ticks": ""
             }
            },
            "type": "scattergeo"
           }
          ],
          "scattergl": [
           {
            "marker": {
             "colorbar": {
              "outlinewidth": 0,
              "ticks": ""
             }
            },
            "type": "scattergl"
           }
          ],
          "scattermapbox": [
           {
            "marker": {
             "colorbar": {
              "outlinewidth": 0,
              "ticks": ""
             }
            },
            "type": "scattermapbox"
           }
          ],
          "scatterpolar": [
           {
            "marker": {
             "colorbar": {
              "outlinewidth": 0,
              "ticks": ""
             }
            },
            "type": "scatterpolar"
           }
          ],
          "scatterpolargl": [
           {
            "marker": {
             "colorbar": {
              "outlinewidth": 0,
              "ticks": ""
             }
            },
            "type": "scatterpolargl"
           }
          ],
          "scatterternary": [
           {
            "marker": {
             "colorbar": {
              "outlinewidth": 0,
              "ticks": ""
             }
            },
            "type": "scatterternary"
           }
          ],
          "surface": [
           {
            "colorbar": {
             "outlinewidth": 0,
             "ticks": ""
            },
            "colorscale": [
             [
              0,
              "#0d0887"
             ],
             [
              0.1111111111111111,
              "#46039f"
             ],
             [
              0.2222222222222222,
              "#7201a8"
             ],
             [
              0.3333333333333333,
              "#9c179e"
             ],
             [
              0.4444444444444444,
              "#bd3786"
             ],
             [
              0.5555555555555556,
              "#d8576b"
             ],
             [
              0.6666666666666666,
              "#ed7953"
             ],
             [
              0.7777777777777778,
              "#fb9f3a"
             ],
             [
              0.8888888888888888,
              "#fdca26"
             ],
             [
              1,
              "#f0f921"
             ]
            ],
            "type": "surface"
           }
          ],
          "table": [
           {
            "cells": {
             "fill": {
              "color": "#EBF0F8"
             },
             "line": {
              "color": "white"
             }
            },
            "header": {
             "fill": {
              "color": "#C8D4E3"
             },
             "line": {
              "color": "white"
             }
            },
            "type": "table"
           }
          ]
         },
         "layout": {
          "annotationdefaults": {
           "arrowcolor": "#2a3f5f",
           "arrowhead": 0,
           "arrowwidth": 1
          },
          "coloraxis": {
           "colorbar": {
            "outlinewidth": 0,
            "ticks": ""
           }
          },
          "colorscale": {
           "diverging": [
            [
             0,
             "#8e0152"
            ],
            [
             0.1,
             "#c51b7d"
            ],
            [
             0.2,
             "#de77ae"
            ],
            [
             0.3,
             "#f1b6da"
            ],
            [
             0.4,
             "#fde0ef"
            ],
            [
             0.5,
             "#f7f7f7"
            ],
            [
             0.6,
             "#e6f5d0"
            ],
            [
             0.7,
             "#b8e186"
            ],
            [
             0.8,
             "#7fbc41"
            ],
            [
             0.9,
             "#4d9221"
            ],
            [
             1,
             "#276419"
            ]
           ],
           "sequential": [
            [
             0,
             "#0d0887"
            ],
            [
             0.1111111111111111,
             "#46039f"
            ],
            [
             0.2222222222222222,
             "#7201a8"
            ],
            [
             0.3333333333333333,
             "#9c179e"
            ],
            [
             0.4444444444444444,
             "#bd3786"
            ],
            [
             0.5555555555555556,
             "#d8576b"
            ],
            [
             0.6666666666666666,
             "#ed7953"
            ],
            [
             0.7777777777777778,
             "#fb9f3a"
            ],
            [
             0.8888888888888888,
             "#fdca26"
            ],
            [
             1,
             "#f0f921"
            ]
           ],
           "sequentialminus": [
            [
             0,
             "#0d0887"
            ],
            [
             0.1111111111111111,
             "#46039f"
            ],
            [
             0.2222222222222222,
             "#7201a8"
            ],
            [
             0.3333333333333333,
             "#9c179e"
            ],
            [
             0.4444444444444444,
             "#bd3786"
            ],
            [
             0.5555555555555556,
             "#d8576b"
            ],
            [
             0.6666666666666666,
             "#ed7953"
            ],
            [
             0.7777777777777778,
             "#fb9f3a"
            ],
            [
             0.8888888888888888,
             "#fdca26"
            ],
            [
             1,
             "#f0f921"
            ]
           ]
          },
          "colorway": [
           "#636efa",
           "#EF553B",
           "#00cc96",
           "#ab63fa",
           "#FFA15A",
           "#19d3f3",
           "#FF6692",
           "#B6E880",
           "#FF97FF",
           "#FECB52"
          ],
          "font": {
           "color": "#2a3f5f"
          },
          "geo": {
           "bgcolor": "white",
           "lakecolor": "white",
           "landcolor": "#E5ECF6",
           "showlakes": true,
           "showland": true,
           "subunitcolor": "white"
          },
          "hoverlabel": {
           "align": "left"
          },
          "hovermode": "closest",
          "mapbox": {
           "style": "light"
          },
          "paper_bgcolor": "white",
          "plot_bgcolor": "#E5ECF6",
          "polar": {
           "angularaxis": {
            "gridcolor": "white",
            "linecolor": "white",
            "ticks": ""
           },
           "bgcolor": "#E5ECF6",
           "radialaxis": {
            "gridcolor": "white",
            "linecolor": "white",
            "ticks": ""
           }
          },
          "scene": {
           "xaxis": {
            "backgroundcolor": "#E5ECF6",
            "gridcolor": "white",
            "gridwidth": 2,
            "linecolor": "white",
            "showbackground": true,
            "ticks": "",
            "zerolinecolor": "white"
           },
           "yaxis": {
            "backgroundcolor": "#E5ECF6",
            "gridcolor": "white",
            "gridwidth": 2,
            "linecolor": "white",
            "showbackground": true,
            "ticks": "",
            "zerolinecolor": "white"
           },
           "zaxis": {
            "backgroundcolor": "#E5ECF6",
            "gridcolor": "white",
            "gridwidth": 2,
            "linecolor": "white",
            "showbackground": true,
            "ticks": "",
            "zerolinecolor": "white"
           }
          },
          "shapedefaults": {
           "line": {
            "color": "#2a3f5f"
           }
          },
          "ternary": {
           "aaxis": {
            "gridcolor": "white",
            "linecolor": "white",
            "ticks": ""
           },
           "baxis": {
            "gridcolor": "white",
            "linecolor": "white",
            "ticks": ""
           },
           "bgcolor": "#E5ECF6",
           "caxis": {
            "gridcolor": "white",
            "linecolor": "white",
            "ticks": ""
           }
          },
          "title": {
           "x": 0.05
          },
          "xaxis": {
           "automargin": true,
           "gridcolor": "white",
           "linecolor": "white",
           "ticks": "",
           "title": {
            "standoff": 15
           },
           "zerolinecolor": "white",
           "zerolinewidth": 2
          },
          "yaxis": {
           "automargin": true,
           "gridcolor": "white",
           "linecolor": "white",
           "ticks": "",
           "title": {
            "standoff": 15
           },
           "zerolinecolor": "white",
           "zerolinewidth": 2
          }
         }
        },
        "title": {
         "font": {
          "color": "black",
          "family": "Courier New, monospace",
          "size": 14
         },
         "text": "Distribution of City Group column"
        },
        "width": 800,
        "xaxis": {
         "tickfont": {
          "color": "black",
          "family": "Courier New, monospace",
          "size": 14
         }
        },
        "yaxis": {
         "tickfont": {
          "color": "black",
          "family": "Courier New, monospace",
          "size": 14
         },
         "title": {
          "font": {
           "color": "black",
           "size": 14
          },
          "text": "Percentage"
         }
        }
       }
      },
      "text/html": [
       "<div>\n",
       "        \n",
       "        \n",
       "            <div id=\"e962e3f3-cef0-499d-b954-e64188f2b2c9\" class=\"plotly-graph-div\" style=\"height:600px; width:800px;\"></div>\n",
       "            <script type=\"text/javascript\">\n",
       "                require([\"plotly\"], function(Plotly) {\n",
       "                    window.PLOTLYENV=window.PLOTLYENV || {};\n",
       "                    \n",
       "                if (document.getElementById(\"e962e3f3-cef0-499d-b954-e64188f2b2c9\")) {\n",
       "                    Plotly.newPlot(\n",
       "                        'e962e3f3-cef0-499d-b954-e64188f2b2c9',\n",
       "                        [{\"marker\": {\"color\": \"#0047AB\"}, \"text\": [\"56.93%\", \"43.07%\"], \"textposition\": \"auto\", \"type\": \"bar\", \"x\": [\"Big Cities\", \"Other\"], \"y\": [56.93, 43.07]}],\n",
       "                        {\"autosize\": false, \"font\": {\"color\": \"white\", \"family\": \"Courier New, monospace\", \"size\": 12}, \"height\": 600, \"template\": {\"data\": {\"bar\": [{\"error_x\": {\"color\": \"#2a3f5f\"}, \"error_y\": {\"color\": \"#2a3f5f\"}, \"marker\": {\"line\": {\"color\": \"#E5ECF6\", \"width\": 0.5}}, \"type\": \"bar\"}], \"barpolar\": [{\"marker\": {\"line\": {\"color\": \"#E5ECF6\", \"width\": 0.5}}, \"type\": \"barpolar\"}], \"carpet\": [{\"aaxis\": {\"endlinecolor\": \"#2a3f5f\", \"gridcolor\": \"white\", \"linecolor\": \"white\", \"minorgridcolor\": \"white\", \"startlinecolor\": \"#2a3f5f\"}, \"baxis\": {\"endlinecolor\": \"#2a3f5f\", \"gridcolor\": \"white\", \"linecolor\": \"white\", \"minorgridcolor\": \"white\", \"startlinecolor\": \"#2a3f5f\"}, \"type\": \"carpet\"}], \"choropleth\": [{\"colorbar\": {\"outlinewidth\": 0, \"ticks\": \"\"}, \"type\": \"choropleth\"}], \"contour\": [{\"colorbar\": {\"outlinewidth\": 0, \"ticks\": \"\"}, \"colorscale\": [[0.0, \"#0d0887\"], [0.1111111111111111, \"#46039f\"], [0.2222222222222222, \"#7201a8\"], [0.3333333333333333, \"#9c179e\"], [0.4444444444444444, \"#bd3786\"], [0.5555555555555556, \"#d8576b\"], [0.6666666666666666, \"#ed7953\"], [0.7777777777777778, \"#fb9f3a\"], [0.8888888888888888, \"#fdca26\"], [1.0, \"#f0f921\"]], \"type\": \"contour\"}], \"contourcarpet\": [{\"colorbar\": {\"outlinewidth\": 0, \"ticks\": \"\"}, \"type\": \"contourcarpet\"}], \"heatmap\": [{\"colorbar\": {\"outlinewidth\": 0, \"ticks\": \"\"}, \"colorscale\": [[0.0, \"#0d0887\"], [0.1111111111111111, \"#46039f\"], [0.2222222222222222, \"#7201a8\"], [0.3333333333333333, \"#9c179e\"], [0.4444444444444444, \"#bd3786\"], [0.5555555555555556, \"#d8576b\"], [0.6666666666666666, \"#ed7953\"], [0.7777777777777778, \"#fb9f3a\"], [0.8888888888888888, \"#fdca26\"], [1.0, \"#f0f921\"]], \"type\": \"heatmap\"}], \"heatmapgl\": [{\"colorbar\": {\"outlinewidth\": 0, \"ticks\": \"\"}, \"colorscale\": [[0.0, \"#0d0887\"], [0.1111111111111111, \"#46039f\"], [0.2222222222222222, \"#7201a8\"], [0.3333333333333333, \"#9c179e\"], [0.4444444444444444, \"#bd3786\"], [0.5555555555555556, \"#d8576b\"], [0.6666666666666666, \"#ed7953\"], [0.7777777777777778, \"#fb9f3a\"], [0.8888888888888888, \"#fdca26\"], [1.0, \"#f0f921\"]], \"type\": \"heatmapgl\"}], \"histogram\": [{\"marker\": {\"colorbar\": {\"outlinewidth\": 0, \"ticks\": \"\"}}, \"type\": \"histogram\"}], \"histogram2d\": [{\"colorbar\": {\"outlinewidth\": 0, \"ticks\": \"\"}, \"colorscale\": [[0.0, \"#0d0887\"], [0.1111111111111111, \"#46039f\"], [0.2222222222222222, \"#7201a8\"], [0.3333333333333333, \"#9c179e\"], [0.4444444444444444, \"#bd3786\"], [0.5555555555555556, \"#d8576b\"], [0.6666666666666666, \"#ed7953\"], [0.7777777777777778, \"#fb9f3a\"], [0.8888888888888888, \"#fdca26\"], [1.0, \"#f0f921\"]], \"type\": \"histogram2d\"}], \"histogram2dcontour\": [{\"colorbar\": {\"outlinewidth\": 0, \"ticks\": \"\"}, \"colorscale\": [[0.0, \"#0d0887\"], [0.1111111111111111, \"#46039f\"], [0.2222222222222222, \"#7201a8\"], [0.3333333333333333, \"#9c179e\"], [0.4444444444444444, \"#bd3786\"], [0.5555555555555556, \"#d8576b\"], [0.6666666666666666, \"#ed7953\"], [0.7777777777777778, \"#fb9f3a\"], [0.8888888888888888, \"#fdca26\"], [1.0, \"#f0f921\"]], \"type\": \"histogram2dcontour\"}], \"mesh3d\": [{\"colorbar\": {\"outlinewidth\": 0, \"ticks\": \"\"}, \"type\": \"mesh3d\"}], \"parcoords\": [{\"line\": {\"colorbar\": {\"outlinewidth\": 0, \"ticks\": \"\"}}, \"type\": \"parcoords\"}], \"pie\": [{\"automargin\": true, \"type\": \"pie\"}], \"scatter\": [{\"marker\": {\"colorbar\": {\"outlinewidth\": 0, \"ticks\": \"\"}}, \"type\": \"scatter\"}], \"scatter3d\": [{\"line\": {\"colorbar\": {\"outlinewidth\": 0, \"ticks\": \"\"}}, \"marker\": {\"colorbar\": {\"outlinewidth\": 0, \"ticks\": \"\"}}, \"type\": \"scatter3d\"}], \"scattercarpet\": [{\"marker\": {\"colorbar\": {\"outlinewidth\": 0, \"ticks\": \"\"}}, \"type\": \"scattercarpet\"}], \"scattergeo\": [{\"marker\": {\"colorbar\": {\"outlinewidth\": 0, \"ticks\": \"\"}}, \"type\": \"scattergeo\"}], \"scattergl\": [{\"marker\": {\"colorbar\": {\"outlinewidth\": 0, \"ticks\": \"\"}}, \"type\": \"scattergl\"}], \"scattermapbox\": [{\"marker\": {\"colorbar\": {\"outlinewidth\": 0, \"ticks\": \"\"}}, \"type\": \"scattermapbox\"}], \"scatterpolar\": [{\"marker\": {\"colorbar\": {\"outlinewidth\": 0, \"ticks\": \"\"}}, \"type\": \"scatterpolar\"}], \"scatterpolargl\": [{\"marker\": {\"colorbar\": {\"outlinewidth\": 0, \"ticks\": \"\"}}, \"type\": \"scatterpolargl\"}], \"scatterternary\": [{\"marker\": {\"colorbar\": {\"outlinewidth\": 0, \"ticks\": \"\"}}, \"type\": \"scatterternary\"}], \"surface\": [{\"colorbar\": {\"outlinewidth\": 0, \"ticks\": \"\"}, \"colorscale\": [[0.0, \"#0d0887\"], [0.1111111111111111, \"#46039f\"], [0.2222222222222222, \"#7201a8\"], [0.3333333333333333, \"#9c179e\"], [0.4444444444444444, \"#bd3786\"], [0.5555555555555556, \"#d8576b\"], [0.6666666666666666, \"#ed7953\"], [0.7777777777777778, \"#fb9f3a\"], [0.8888888888888888, \"#fdca26\"], [1.0, \"#f0f921\"]], \"type\": \"surface\"}], \"table\": [{\"cells\": {\"fill\": {\"color\": \"#EBF0F8\"}, \"line\": {\"color\": \"white\"}}, \"header\": {\"fill\": {\"color\": \"#C8D4E3\"}, \"line\": {\"color\": \"white\"}}, \"type\": \"table\"}]}, \"layout\": {\"annotationdefaults\": {\"arrowcolor\": \"#2a3f5f\", \"arrowhead\": 0, \"arrowwidth\": 1}, \"coloraxis\": {\"colorbar\": {\"outlinewidth\": 0, \"ticks\": \"\"}}, \"colorscale\": {\"diverging\": [[0, \"#8e0152\"], [0.1, \"#c51b7d\"], [0.2, \"#de77ae\"], [0.3, \"#f1b6da\"], [0.4, \"#fde0ef\"], [0.5, \"#f7f7f7\"], [0.6, \"#e6f5d0\"], [0.7, \"#b8e186\"], [0.8, \"#7fbc41\"], [0.9, \"#4d9221\"], [1, \"#276419\"]], \"sequential\": [[0.0, \"#0d0887\"], [0.1111111111111111, \"#46039f\"], [0.2222222222222222, \"#7201a8\"], [0.3333333333333333, \"#9c179e\"], [0.4444444444444444, \"#bd3786\"], [0.5555555555555556, \"#d8576b\"], [0.6666666666666666, \"#ed7953\"], [0.7777777777777778, \"#fb9f3a\"], [0.8888888888888888, \"#fdca26\"], [1.0, \"#f0f921\"]], \"sequentialminus\": [[0.0, \"#0d0887\"], [0.1111111111111111, \"#46039f\"], [0.2222222222222222, \"#7201a8\"], [0.3333333333333333, \"#9c179e\"], [0.4444444444444444, \"#bd3786\"], [0.5555555555555556, \"#d8576b\"], [0.6666666666666666, \"#ed7953\"], [0.7777777777777778, \"#fb9f3a\"], [0.8888888888888888, \"#fdca26\"], [1.0, \"#f0f921\"]]}, \"colorway\": [\"#636efa\", \"#EF553B\", \"#00cc96\", \"#ab63fa\", \"#FFA15A\", \"#19d3f3\", \"#FF6692\", \"#B6E880\", \"#FF97FF\", \"#FECB52\"], \"font\": {\"color\": \"#2a3f5f\"}, \"geo\": {\"bgcolor\": \"white\", \"lakecolor\": \"white\", \"landcolor\": \"#E5ECF6\", \"showlakes\": true, \"showland\": true, \"subunitcolor\": \"white\"}, \"hoverlabel\": {\"align\": \"left\"}, \"hovermode\": \"closest\", \"mapbox\": {\"style\": \"light\"}, \"paper_bgcolor\": \"white\", \"plot_bgcolor\": \"#E5ECF6\", \"polar\": {\"angularaxis\": {\"gridcolor\": \"white\", \"linecolor\": \"white\", \"ticks\": \"\"}, \"bgcolor\": \"#E5ECF6\", \"radialaxis\": {\"gridcolor\": \"white\", \"linecolor\": \"white\", \"ticks\": \"\"}}, \"scene\": {\"xaxis\": {\"backgroundcolor\": \"#E5ECF6\", \"gridcolor\": \"white\", \"gridwidth\": 2, \"linecolor\": \"white\", \"showbackground\": true, \"ticks\": \"\", \"zerolinecolor\": \"white\"}, \"yaxis\": {\"backgroundcolor\": \"#E5ECF6\", \"gridcolor\": \"white\", \"gridwidth\": 2, \"linecolor\": \"white\", \"showbackground\": true, \"ticks\": \"\", \"zerolinecolor\": \"white\"}, \"zaxis\": {\"backgroundcolor\": \"#E5ECF6\", \"gridcolor\": \"white\", \"gridwidth\": 2, \"linecolor\": \"white\", \"showbackground\": true, \"ticks\": \"\", \"zerolinecolor\": \"white\"}}, \"shapedefaults\": {\"line\": {\"color\": \"#2a3f5f\"}}, \"ternary\": {\"aaxis\": {\"gridcolor\": \"white\", \"linecolor\": \"white\", \"ticks\": \"\"}, \"baxis\": {\"gridcolor\": \"white\", \"linecolor\": \"white\", \"ticks\": \"\"}, \"bgcolor\": \"#E5ECF6\", \"caxis\": {\"gridcolor\": \"white\", \"linecolor\": \"white\", \"ticks\": \"\"}}, \"title\": {\"x\": 0.05}, \"xaxis\": {\"automargin\": true, \"gridcolor\": \"white\", \"linecolor\": \"white\", \"ticks\": \"\", \"title\": {\"standoff\": 15}, \"zerolinecolor\": \"white\", \"zerolinewidth\": 2}, \"yaxis\": {\"automargin\": true, \"gridcolor\": \"white\", \"linecolor\": \"white\", \"ticks\": \"\", \"title\": {\"standoff\": 15}, \"zerolinecolor\": \"white\", \"zerolinewidth\": 2}}}, \"title\": {\"font\": {\"color\": \"black\", \"family\": \"Courier New, monospace\", \"size\": 14}, \"text\": \"Distribution of City Group column\"}, \"width\": 800, \"xaxis\": {\"tickfont\": {\"color\": \"black\", \"family\": \"Courier New, monospace\", \"size\": 14}}, \"yaxis\": {\"tickfont\": {\"color\": \"black\", \"family\": \"Courier New, monospace\", \"size\": 14}, \"title\": {\"font\": {\"color\": \"black\", \"size\": 14}, \"text\": \"Percentage\"}}},\n",
       "                        {\"responsive\": true}\n",
       "                    ).then(function(){\n",
       "                            \n",
       "var gd = document.getElementById('e962e3f3-cef0-499d-b954-e64188f2b2c9');\n",
       "var x = new MutationObserver(function (mutations, observer) {{\n",
       "        var display = window.getComputedStyle(gd).display;\n",
       "        if (!display || display === 'none') {{\n",
       "            console.log([gd, 'removed!']);\n",
       "            Plotly.purge(gd);\n",
       "            observer.disconnect();\n",
       "        }}\n",
       "}});\n",
       "\n",
       "// Listen for the removal of the full notebook cells\n",
       "var notebookContainer = gd.closest('#notebook-container');\n",
       "if (notebookContainer) {{\n",
       "    x.observe(notebookContainer, {childList: true});\n",
       "}}\n",
       "\n",
       "// Listen for the clearing of the current output cell\n",
       "var outputEl = gd.closest('.output');\n",
       "if (outputEl) {{\n",
       "    x.observe(outputEl, {childList: true});\n",
       "}}\n",
       "\n",
       "                        })\n",
       "                };\n",
       "                });\n",
       "            </script>\n",
       "        </div>"
      ]
     },
     "metadata": {},
     "output_type": "display_data"
    }
   ],
   "source": [
    "plot_bar('City Group')"
   ]
  },
  {
   "cell_type": "code",
   "execution_count": 34,
   "metadata": {},
   "outputs": [
    {
     "data": {
      "application/vnd.plotly.v1+json": {
       "config": {
        "linkText": "Export to plot.ly",
        "plotlyServerURL": "https://plot.ly",
        "showLink": false
       },
       "data": [
        {
         "marker": {
          "color": "#0047AB"
         },
         "text": [
          "55.47%",
          "43.8%",
          "0.73%"
         ],
         "textposition": "auto",
         "type": "bar",
         "x": [
          "FC",
          "IL",
          "DT"
         ],
         "y": [
          55.47,
          43.8,
          0.73
         ]
        }
       ],
       "layout": {
        "autosize": false,
        "font": {
         "color": "white",
         "family": "Courier New, monospace",
         "size": 12
        },
        "height": 600,
        "template": {
         "data": {
          "bar": [
           {
            "error_x": {
             "color": "#2a3f5f"
            },
            "error_y": {
             "color": "#2a3f5f"
            },
            "marker": {
             "line": {
              "color": "#E5ECF6",
              "width": 0.5
             }
            },
            "type": "bar"
           }
          ],
          "barpolar": [
           {
            "marker": {
             "line": {
              "color": "#E5ECF6",
              "width": 0.5
             }
            },
            "type": "barpolar"
           }
          ],
          "carpet": [
           {
            "aaxis": {
             "endlinecolor": "#2a3f5f",
             "gridcolor": "white",
             "linecolor": "white",
             "minorgridcolor": "white",
             "startlinecolor": "#2a3f5f"
            },
            "baxis": {
             "endlinecolor": "#2a3f5f",
             "gridcolor": "white",
             "linecolor": "white",
             "minorgridcolor": "white",
             "startlinecolor": "#2a3f5f"
            },
            "type": "carpet"
           }
          ],
          "choropleth": [
           {
            "colorbar": {
             "outlinewidth": 0,
             "ticks": ""
            },
            "type": "choropleth"
           }
          ],
          "contour": [
           {
            "colorbar": {
             "outlinewidth": 0,
             "ticks": ""
            },
            "colorscale": [
             [
              0,
              "#0d0887"
             ],
             [
              0.1111111111111111,
              "#46039f"
             ],
             [
              0.2222222222222222,
              "#7201a8"
             ],
             [
              0.3333333333333333,
              "#9c179e"
             ],
             [
              0.4444444444444444,
              "#bd3786"
             ],
             [
              0.5555555555555556,
              "#d8576b"
             ],
             [
              0.6666666666666666,
              "#ed7953"
             ],
             [
              0.7777777777777778,
              "#fb9f3a"
             ],
             [
              0.8888888888888888,
              "#fdca26"
             ],
             [
              1,
              "#f0f921"
             ]
            ],
            "type": "contour"
           }
          ],
          "contourcarpet": [
           {
            "colorbar": {
             "outlinewidth": 0,
             "ticks": ""
            },
            "type": "contourcarpet"
           }
          ],
          "heatmap": [
           {
            "colorbar": {
             "outlinewidth": 0,
             "ticks": ""
            },
            "colorscale": [
             [
              0,
              "#0d0887"
             ],
             [
              0.1111111111111111,
              "#46039f"
             ],
             [
              0.2222222222222222,
              "#7201a8"
             ],
             [
              0.3333333333333333,
              "#9c179e"
             ],
             [
              0.4444444444444444,
              "#bd3786"
             ],
             [
              0.5555555555555556,
              "#d8576b"
             ],
             [
              0.6666666666666666,
              "#ed7953"
             ],
             [
              0.7777777777777778,
              "#fb9f3a"
             ],
             [
              0.8888888888888888,
              "#fdca26"
             ],
             [
              1,
              "#f0f921"
             ]
            ],
            "type": "heatmap"
           }
          ],
          "heatmapgl": [
           {
            "colorbar": {
             "outlinewidth": 0,
             "ticks": ""
            },
            "colorscale": [
             [
              0,
              "#0d0887"
             ],
             [
              0.1111111111111111,
              "#46039f"
             ],
             [
              0.2222222222222222,
              "#7201a8"
             ],
             [
              0.3333333333333333,
              "#9c179e"
             ],
             [
              0.4444444444444444,
              "#bd3786"
             ],
             [
              0.5555555555555556,
              "#d8576b"
             ],
             [
              0.6666666666666666,
              "#ed7953"
             ],
             [
              0.7777777777777778,
              "#fb9f3a"
             ],
             [
              0.8888888888888888,
              "#fdca26"
             ],
             [
              1,
              "#f0f921"
             ]
            ],
            "type": "heatmapgl"
           }
          ],
          "histogram": [
           {
            "marker": {
             "colorbar": {
              "outlinewidth": 0,
              "ticks": ""
             }
            },
            "type": "histogram"
           }
          ],
          "histogram2d": [
           {
            "colorbar": {
             "outlinewidth": 0,
             "ticks": ""
            },
            "colorscale": [
             [
              0,
              "#0d0887"
             ],
             [
              0.1111111111111111,
              "#46039f"
             ],
             [
              0.2222222222222222,
              "#7201a8"
             ],
             [
              0.3333333333333333,
              "#9c179e"
             ],
             [
              0.4444444444444444,
              "#bd3786"
             ],
             [
              0.5555555555555556,
              "#d8576b"
             ],
             [
              0.6666666666666666,
              "#ed7953"
             ],
             [
              0.7777777777777778,
              "#fb9f3a"
             ],
             [
              0.8888888888888888,
              "#fdca26"
             ],
             [
              1,
              "#f0f921"
             ]
            ],
            "type": "histogram2d"
           }
          ],
          "histogram2dcontour": [
           {
            "colorbar": {
             "outlinewidth": 0,
             "ticks": ""
            },
            "colorscale": [
             [
              0,
              "#0d0887"
             ],
             [
              0.1111111111111111,
              "#46039f"
             ],
             [
              0.2222222222222222,
              "#7201a8"
             ],
             [
              0.3333333333333333,
              "#9c179e"
             ],
             [
              0.4444444444444444,
              "#bd3786"
             ],
             [
              0.5555555555555556,
              "#d8576b"
             ],
             [
              0.6666666666666666,
              "#ed7953"
             ],
             [
              0.7777777777777778,
              "#fb9f3a"
             ],
             [
              0.8888888888888888,
              "#fdca26"
             ],
             [
              1,
              "#f0f921"
             ]
            ],
            "type": "histogram2dcontour"
           }
          ],
          "mesh3d": [
           {
            "colorbar": {
             "outlinewidth": 0,
             "ticks": ""
            },
            "type": "mesh3d"
           }
          ],
          "parcoords": [
           {
            "line": {
             "colorbar": {
              "outlinewidth": 0,
              "ticks": ""
             }
            },
            "type": "parcoords"
           }
          ],
          "pie": [
           {
            "automargin": true,
            "type": "pie"
           }
          ],
          "scatter": [
           {
            "marker": {
             "colorbar": {
              "outlinewidth": 0,
              "ticks": ""
             }
            },
            "type": "scatter"
           }
          ],
          "scatter3d": [
           {
            "line": {
             "colorbar": {
              "outlinewidth": 0,
              "ticks": ""
             }
            },
            "marker": {
             "colorbar": {
              "outlinewidth": 0,
              "ticks": ""
             }
            },
            "type": "scatter3d"
           }
          ],
          "scattercarpet": [
           {
            "marker": {
             "colorbar": {
              "outlinewidth": 0,
              "ticks": ""
             }
            },
            "type": "scattercarpet"
           }
          ],
          "scattergeo": [
           {
            "marker": {
             "colorbar": {
              "outlinewidth": 0,
              "ticks": ""
             }
            },
            "type": "scattergeo"
           }
          ],
          "scattergl": [
           {
            "marker": {
             "colorbar": {
              "outlinewidth": 0,
              "ticks": ""
             }
            },
            "type": "scattergl"
           }
          ],
          "scattermapbox": [
           {
            "marker": {
             "colorbar": {
              "outlinewidth": 0,
              "ticks": ""
             }
            },
            "type": "scattermapbox"
           }
          ],
          "scatterpolar": [
           {
            "marker": {
             "colorbar": {
              "outlinewidth": 0,
              "ticks": ""
             }
            },
            "type": "scatterpolar"
           }
          ],
          "scatterpolargl": [
           {
            "marker": {
             "colorbar": {
              "outlinewidth": 0,
              "ticks": ""
             }
            },
            "type": "scatterpolargl"
           }
          ],
          "scatterternary": [
           {
            "marker": {
             "colorbar": {
              "outlinewidth": 0,
              "ticks": ""
             }
            },
            "type": "scatterternary"
           }
          ],
          "surface": [
           {
            "colorbar": {
             "outlinewidth": 0,
             "ticks": ""
            },
            "colorscale": [
             [
              0,
              "#0d0887"
             ],
             [
              0.1111111111111111,
              "#46039f"
             ],
             [
              0.2222222222222222,
              "#7201a8"
             ],
             [
              0.3333333333333333,
              "#9c179e"
             ],
             [
              0.4444444444444444,
              "#bd3786"
             ],
             [
              0.5555555555555556,
              "#d8576b"
             ],
             [
              0.6666666666666666,
              "#ed7953"
             ],
             [
              0.7777777777777778,
              "#fb9f3a"
             ],
             [
              0.8888888888888888,
              "#fdca26"
             ],
             [
              1,
              "#f0f921"
             ]
            ],
            "type": "surface"
           }
          ],
          "table": [
           {
            "cells": {
             "fill": {
              "color": "#EBF0F8"
             },
             "line": {
              "color": "white"
             }
            },
            "header": {
             "fill": {
              "color": "#C8D4E3"
             },
             "line": {
              "color": "white"
             }
            },
            "type": "table"
           }
          ]
         },
         "layout": {
          "annotationdefaults": {
           "arrowcolor": "#2a3f5f",
           "arrowhead": 0,
           "arrowwidth": 1
          },
          "coloraxis": {
           "colorbar": {
            "outlinewidth": 0,
            "ticks": ""
           }
          },
          "colorscale": {
           "diverging": [
            [
             0,
             "#8e0152"
            ],
            [
             0.1,
             "#c51b7d"
            ],
            [
             0.2,
             "#de77ae"
            ],
            [
             0.3,
             "#f1b6da"
            ],
            [
             0.4,
             "#fde0ef"
            ],
            [
             0.5,
             "#f7f7f7"
            ],
            [
             0.6,
             "#e6f5d0"
            ],
            [
             0.7,
             "#b8e186"
            ],
            [
             0.8,
             "#7fbc41"
            ],
            [
             0.9,
             "#4d9221"
            ],
            [
             1,
             "#276419"
            ]
           ],
           "sequential": [
            [
             0,
             "#0d0887"
            ],
            [
             0.1111111111111111,
             "#46039f"
            ],
            [
             0.2222222222222222,
             "#7201a8"
            ],
            [
             0.3333333333333333,
             "#9c179e"
            ],
            [
             0.4444444444444444,
             "#bd3786"
            ],
            [
             0.5555555555555556,
             "#d8576b"
            ],
            [
             0.6666666666666666,
             "#ed7953"
            ],
            [
             0.7777777777777778,
             "#fb9f3a"
            ],
            [
             0.8888888888888888,
             "#fdca26"
            ],
            [
             1,
             "#f0f921"
            ]
           ],
           "sequentialminus": [
            [
             0,
             "#0d0887"
            ],
            [
             0.1111111111111111,
             "#46039f"
            ],
            [
             0.2222222222222222,
             "#7201a8"
            ],
            [
             0.3333333333333333,
             "#9c179e"
            ],
            [
             0.4444444444444444,
             "#bd3786"
            ],
            [
             0.5555555555555556,
             "#d8576b"
            ],
            [
             0.6666666666666666,
             "#ed7953"
            ],
            [
             0.7777777777777778,
             "#fb9f3a"
            ],
            [
             0.8888888888888888,
             "#fdca26"
            ],
            [
             1,
             "#f0f921"
            ]
           ]
          },
          "colorway": [
           "#636efa",
           "#EF553B",
           "#00cc96",
           "#ab63fa",
           "#FFA15A",
           "#19d3f3",
           "#FF6692",
           "#B6E880",
           "#FF97FF",
           "#FECB52"
          ],
          "font": {
           "color": "#2a3f5f"
          },
          "geo": {
           "bgcolor": "white",
           "lakecolor": "white",
           "landcolor": "#E5ECF6",
           "showlakes": true,
           "showland": true,
           "subunitcolor": "white"
          },
          "hoverlabel": {
           "align": "left"
          },
          "hovermode": "closest",
          "mapbox": {
           "style": "light"
          },
          "paper_bgcolor": "white",
          "plot_bgcolor": "#E5ECF6",
          "polar": {
           "angularaxis": {
            "gridcolor": "white",
            "linecolor": "white",
            "ticks": ""
           },
           "bgcolor": "#E5ECF6",
           "radialaxis": {
            "gridcolor": "white",
            "linecolor": "white",
            "ticks": ""
           }
          },
          "scene": {
           "xaxis": {
            "backgroundcolor": "#E5ECF6",
            "gridcolor": "white",
            "gridwidth": 2,
            "linecolor": "white",
            "showbackground": true,
            "ticks": "",
            "zerolinecolor": "white"
           },
           "yaxis": {
            "backgroundcolor": "#E5ECF6",
            "gridcolor": "white",
            "gridwidth": 2,
            "linecolor": "white",
            "showbackground": true,
            "ticks": "",
            "zerolinecolor": "white"
           },
           "zaxis": {
            "backgroundcolor": "#E5ECF6",
            "gridcolor": "white",
            "gridwidth": 2,
            "linecolor": "white",
            "showbackground": true,
            "ticks": "",
            "zerolinecolor": "white"
           }
          },
          "shapedefaults": {
           "line": {
            "color": "#2a3f5f"
           }
          },
          "ternary": {
           "aaxis": {
            "gridcolor": "white",
            "linecolor": "white",
            "ticks": ""
           },
           "baxis": {
            "gridcolor": "white",
            "linecolor": "white",
            "ticks": ""
           },
           "bgcolor": "#E5ECF6",
           "caxis": {
            "gridcolor": "white",
            "linecolor": "white",
            "ticks": ""
           }
          },
          "title": {
           "x": 0.05
          },
          "xaxis": {
           "automargin": true,
           "gridcolor": "white",
           "linecolor": "white",
           "ticks": "",
           "title": {
            "standoff": 15
           },
           "zerolinecolor": "white",
           "zerolinewidth": 2
          },
          "yaxis": {
           "automargin": true,
           "gridcolor": "white",
           "linecolor": "white",
           "ticks": "",
           "title": {
            "standoff": 15
           },
           "zerolinecolor": "white",
           "zerolinewidth": 2
          }
         }
        },
        "title": {
         "font": {
          "color": "black",
          "family": "Courier New, monospace",
          "size": 14
         },
         "text": "Distribution of Type column"
        },
        "width": 800,
        "xaxis": {
         "tickfont": {
          "color": "black",
          "family": "Courier New, monospace",
          "size": 14
         }
        },
        "yaxis": {
         "tickfont": {
          "color": "black",
          "family": "Courier New, monospace",
          "size": 14
         },
         "title": {
          "font": {
           "color": "black",
           "size": 14
          },
          "text": "Percentage"
         }
        }
       }
      },
      "text/html": [
       "<div>\n",
       "        \n",
       "        \n",
       "            <div id=\"17f9333d-3e1a-4b6a-a39d-c12d9f536c8f\" class=\"plotly-graph-div\" style=\"height:600px; width:800px;\"></div>\n",
       "            <script type=\"text/javascript\">\n",
       "                require([\"plotly\"], function(Plotly) {\n",
       "                    window.PLOTLYENV=window.PLOTLYENV || {};\n",
       "                    \n",
       "                if (document.getElementById(\"17f9333d-3e1a-4b6a-a39d-c12d9f536c8f\")) {\n",
       "                    Plotly.newPlot(\n",
       "                        '17f9333d-3e1a-4b6a-a39d-c12d9f536c8f',\n",
       "                        [{\"marker\": {\"color\": \"#0047AB\"}, \"text\": [\"55.47%\", \"43.8%\", \"0.73%\"], \"textposition\": \"auto\", \"type\": \"bar\", \"x\": [\"FC\", \"IL\", \"DT\"], \"y\": [55.47, 43.8, 0.73]}],\n",
       "                        {\"autosize\": false, \"font\": {\"color\": \"white\", \"family\": \"Courier New, monospace\", \"size\": 12}, \"height\": 600, \"template\": {\"data\": {\"bar\": [{\"error_x\": {\"color\": \"#2a3f5f\"}, \"error_y\": {\"color\": \"#2a3f5f\"}, \"marker\": {\"line\": {\"color\": \"#E5ECF6\", \"width\": 0.5}}, \"type\": \"bar\"}], \"barpolar\": [{\"marker\": {\"line\": {\"color\": \"#E5ECF6\", \"width\": 0.5}}, \"type\": \"barpolar\"}], \"carpet\": [{\"aaxis\": {\"endlinecolor\": \"#2a3f5f\", \"gridcolor\": \"white\", \"linecolor\": \"white\", \"minorgridcolor\": \"white\", \"startlinecolor\": \"#2a3f5f\"}, \"baxis\": {\"endlinecolor\": \"#2a3f5f\", \"gridcolor\": \"white\", \"linecolor\": \"white\", \"minorgridcolor\": \"white\", \"startlinecolor\": \"#2a3f5f\"}, \"type\": \"carpet\"}], \"choropleth\": [{\"colorbar\": {\"outlinewidth\": 0, \"ticks\": \"\"}, \"type\": \"choropleth\"}], \"contour\": [{\"colorbar\": {\"outlinewidth\": 0, \"ticks\": \"\"}, \"colorscale\": [[0.0, \"#0d0887\"], [0.1111111111111111, \"#46039f\"], [0.2222222222222222, \"#7201a8\"], [0.3333333333333333, \"#9c179e\"], [0.4444444444444444, \"#bd3786\"], [0.5555555555555556, \"#d8576b\"], [0.6666666666666666, \"#ed7953\"], [0.7777777777777778, \"#fb9f3a\"], [0.8888888888888888, \"#fdca26\"], [1.0, \"#f0f921\"]], \"type\": \"contour\"}], \"contourcarpet\": [{\"colorbar\": {\"outlinewidth\": 0, \"ticks\": \"\"}, \"type\": \"contourcarpet\"}], \"heatmap\": [{\"colorbar\": {\"outlinewidth\": 0, \"ticks\": \"\"}, \"colorscale\": [[0.0, \"#0d0887\"], [0.1111111111111111, \"#46039f\"], [0.2222222222222222, \"#7201a8\"], [0.3333333333333333, \"#9c179e\"], [0.4444444444444444, \"#bd3786\"], [0.5555555555555556, \"#d8576b\"], [0.6666666666666666, \"#ed7953\"], [0.7777777777777778, \"#fb9f3a\"], [0.8888888888888888, \"#fdca26\"], [1.0, \"#f0f921\"]], \"type\": \"heatmap\"}], \"heatmapgl\": [{\"colorbar\": {\"outlinewidth\": 0, \"ticks\": \"\"}, \"colorscale\": [[0.0, \"#0d0887\"], [0.1111111111111111, \"#46039f\"], [0.2222222222222222, \"#7201a8\"], [0.3333333333333333, \"#9c179e\"], [0.4444444444444444, \"#bd3786\"], [0.5555555555555556, \"#d8576b\"], [0.6666666666666666, \"#ed7953\"], [0.7777777777777778, \"#fb9f3a\"], [0.8888888888888888, \"#fdca26\"], [1.0, \"#f0f921\"]], \"type\": \"heatmapgl\"}], \"histogram\": [{\"marker\": {\"colorbar\": {\"outlinewidth\": 0, \"ticks\": \"\"}}, \"type\": \"histogram\"}], \"histogram2d\": [{\"colorbar\": {\"outlinewidth\": 0, \"ticks\": \"\"}, \"colorscale\": [[0.0, \"#0d0887\"], [0.1111111111111111, \"#46039f\"], [0.2222222222222222, \"#7201a8\"], [0.3333333333333333, \"#9c179e\"], [0.4444444444444444, \"#bd3786\"], [0.5555555555555556, \"#d8576b\"], [0.6666666666666666, \"#ed7953\"], [0.7777777777777778, \"#fb9f3a\"], [0.8888888888888888, \"#fdca26\"], [1.0, \"#f0f921\"]], \"type\": \"histogram2d\"}], \"histogram2dcontour\": [{\"colorbar\": {\"outlinewidth\": 0, \"ticks\": \"\"}, \"colorscale\": [[0.0, \"#0d0887\"], [0.1111111111111111, \"#46039f\"], [0.2222222222222222, \"#7201a8\"], [0.3333333333333333, \"#9c179e\"], [0.4444444444444444, \"#bd3786\"], [0.5555555555555556, \"#d8576b\"], [0.6666666666666666, \"#ed7953\"], [0.7777777777777778, \"#fb9f3a\"], [0.8888888888888888, \"#fdca26\"], [1.0, \"#f0f921\"]], \"type\": \"histogram2dcontour\"}], \"mesh3d\": [{\"colorbar\": {\"outlinewidth\": 0, \"ticks\": \"\"}, \"type\": \"mesh3d\"}], \"parcoords\": [{\"line\": {\"colorbar\": {\"outlinewidth\": 0, \"ticks\": \"\"}}, \"type\": \"parcoords\"}], \"pie\": [{\"automargin\": true, \"type\": \"pie\"}], \"scatter\": [{\"marker\": {\"colorbar\": {\"outlinewidth\": 0, \"ticks\": \"\"}}, \"type\": \"scatter\"}], \"scatter3d\": [{\"line\": {\"colorbar\": {\"outlinewidth\": 0, \"ticks\": \"\"}}, \"marker\": {\"colorbar\": {\"outlinewidth\": 0, \"ticks\": \"\"}}, \"type\": \"scatter3d\"}], \"scattercarpet\": [{\"marker\": {\"colorbar\": {\"outlinewidth\": 0, \"ticks\": \"\"}}, \"type\": \"scattercarpet\"}], \"scattergeo\": [{\"marker\": {\"colorbar\": {\"outlinewidth\": 0, \"ticks\": \"\"}}, \"type\": \"scattergeo\"}], \"scattergl\": [{\"marker\": {\"colorbar\": {\"outlinewidth\": 0, \"ticks\": \"\"}}, \"type\": \"scattergl\"}], \"scattermapbox\": [{\"marker\": {\"colorbar\": {\"outlinewidth\": 0, \"ticks\": \"\"}}, \"type\": \"scattermapbox\"}], \"scatterpolar\": [{\"marker\": {\"colorbar\": {\"outlinewidth\": 0, \"ticks\": \"\"}}, \"type\": \"scatterpolar\"}], \"scatterpolargl\": [{\"marker\": {\"colorbar\": {\"outlinewidth\": 0, \"ticks\": \"\"}}, \"type\": \"scatterpolargl\"}], \"scatterternary\": [{\"marker\": {\"colorbar\": {\"outlinewidth\": 0, \"ticks\": \"\"}}, \"type\": \"scatterternary\"}], \"surface\": [{\"colorbar\": {\"outlinewidth\": 0, \"ticks\": \"\"}, \"colorscale\": [[0.0, \"#0d0887\"], [0.1111111111111111, \"#46039f\"], [0.2222222222222222, \"#7201a8\"], [0.3333333333333333, \"#9c179e\"], [0.4444444444444444, \"#bd3786\"], [0.5555555555555556, \"#d8576b\"], [0.6666666666666666, \"#ed7953\"], [0.7777777777777778, \"#fb9f3a\"], [0.8888888888888888, \"#fdca26\"], [1.0, \"#f0f921\"]], \"type\": \"surface\"}], \"table\": [{\"cells\": {\"fill\": {\"color\": \"#EBF0F8\"}, \"line\": {\"color\": \"white\"}}, \"header\": {\"fill\": {\"color\": \"#C8D4E3\"}, \"line\": {\"color\": \"white\"}}, \"type\": \"table\"}]}, \"layout\": {\"annotationdefaults\": {\"arrowcolor\": \"#2a3f5f\", \"arrowhead\": 0, \"arrowwidth\": 1}, \"coloraxis\": {\"colorbar\": {\"outlinewidth\": 0, \"ticks\": \"\"}}, \"colorscale\": {\"diverging\": [[0, \"#8e0152\"], [0.1, \"#c51b7d\"], [0.2, \"#de77ae\"], [0.3, \"#f1b6da\"], [0.4, \"#fde0ef\"], [0.5, \"#f7f7f7\"], [0.6, \"#e6f5d0\"], [0.7, \"#b8e186\"], [0.8, \"#7fbc41\"], [0.9, \"#4d9221\"], [1, \"#276419\"]], \"sequential\": [[0.0, \"#0d0887\"], [0.1111111111111111, \"#46039f\"], [0.2222222222222222, \"#7201a8\"], [0.3333333333333333, \"#9c179e\"], [0.4444444444444444, \"#bd3786\"], [0.5555555555555556, \"#d8576b\"], [0.6666666666666666, \"#ed7953\"], [0.7777777777777778, \"#fb9f3a\"], [0.8888888888888888, \"#fdca26\"], [1.0, \"#f0f921\"]], \"sequentialminus\": [[0.0, \"#0d0887\"], [0.1111111111111111, \"#46039f\"], [0.2222222222222222, \"#7201a8\"], [0.3333333333333333, \"#9c179e\"], [0.4444444444444444, \"#bd3786\"], [0.5555555555555556, \"#d8576b\"], [0.6666666666666666, \"#ed7953\"], [0.7777777777777778, \"#fb9f3a\"], [0.8888888888888888, \"#fdca26\"], [1.0, \"#f0f921\"]]}, \"colorway\": [\"#636efa\", \"#EF553B\", \"#00cc96\", \"#ab63fa\", \"#FFA15A\", \"#19d3f3\", \"#FF6692\", \"#B6E880\", \"#FF97FF\", \"#FECB52\"], \"font\": {\"color\": \"#2a3f5f\"}, \"geo\": {\"bgcolor\": \"white\", \"lakecolor\": \"white\", \"landcolor\": \"#E5ECF6\", \"showlakes\": true, \"showland\": true, \"subunitcolor\": \"white\"}, \"hoverlabel\": {\"align\": \"left\"}, \"hovermode\": \"closest\", \"mapbox\": {\"style\": \"light\"}, \"paper_bgcolor\": \"white\", \"plot_bgcolor\": \"#E5ECF6\", \"polar\": {\"angularaxis\": {\"gridcolor\": \"white\", \"linecolor\": \"white\", \"ticks\": \"\"}, \"bgcolor\": \"#E5ECF6\", \"radialaxis\": {\"gridcolor\": \"white\", \"linecolor\": \"white\", \"ticks\": \"\"}}, \"scene\": {\"xaxis\": {\"backgroundcolor\": \"#E5ECF6\", \"gridcolor\": \"white\", \"gridwidth\": 2, \"linecolor\": \"white\", \"showbackground\": true, \"ticks\": \"\", \"zerolinecolor\": \"white\"}, \"yaxis\": {\"backgroundcolor\": \"#E5ECF6\", \"gridcolor\": \"white\", \"gridwidth\": 2, \"linecolor\": \"white\", \"showbackground\": true, \"ticks\": \"\", \"zerolinecolor\": \"white\"}, \"zaxis\": {\"backgroundcolor\": \"#E5ECF6\", \"gridcolor\": \"white\", \"gridwidth\": 2, \"linecolor\": \"white\", \"showbackground\": true, \"ticks\": \"\", \"zerolinecolor\": \"white\"}}, \"shapedefaults\": {\"line\": {\"color\": \"#2a3f5f\"}}, \"ternary\": {\"aaxis\": {\"gridcolor\": \"white\", \"linecolor\": \"white\", \"ticks\": \"\"}, \"baxis\": {\"gridcolor\": \"white\", \"linecolor\": \"white\", \"ticks\": \"\"}, \"bgcolor\": \"#E5ECF6\", \"caxis\": {\"gridcolor\": \"white\", \"linecolor\": \"white\", \"ticks\": \"\"}}, \"title\": {\"x\": 0.05}, \"xaxis\": {\"automargin\": true, \"gridcolor\": \"white\", \"linecolor\": \"white\", \"ticks\": \"\", \"title\": {\"standoff\": 15}, \"zerolinecolor\": \"white\", \"zerolinewidth\": 2}, \"yaxis\": {\"automargin\": true, \"gridcolor\": \"white\", \"linecolor\": \"white\", \"ticks\": \"\", \"title\": {\"standoff\": 15}, \"zerolinecolor\": \"white\", \"zerolinewidth\": 2}}}, \"title\": {\"font\": {\"color\": \"black\", \"family\": \"Courier New, monospace\", \"size\": 14}, \"text\": \"Distribution of Type column\"}, \"width\": 800, \"xaxis\": {\"tickfont\": {\"color\": \"black\", \"family\": \"Courier New, monospace\", \"size\": 14}}, \"yaxis\": {\"tickfont\": {\"color\": \"black\", \"family\": \"Courier New, monospace\", \"size\": 14}, \"title\": {\"font\": {\"color\": \"black\", \"size\": 14}, \"text\": \"Percentage\"}}},\n",
       "                        {\"responsive\": true}\n",
       "                    ).then(function(){\n",
       "                            \n",
       "var gd = document.getElementById('17f9333d-3e1a-4b6a-a39d-c12d9f536c8f');\n",
       "var x = new MutationObserver(function (mutations, observer) {{\n",
       "        var display = window.getComputedStyle(gd).display;\n",
       "        if (!display || display === 'none') {{\n",
       "            console.log([gd, 'removed!']);\n",
       "            Plotly.purge(gd);\n",
       "            observer.disconnect();\n",
       "        }}\n",
       "}});\n",
       "\n",
       "// Listen for the removal of the full notebook cells\n",
       "var notebookContainer = gd.closest('#notebook-container');\n",
       "if (notebookContainer) {{\n",
       "    x.observe(notebookContainer, {childList: true});\n",
       "}}\n",
       "\n",
       "// Listen for the clearing of the current output cell\n",
       "var outputEl = gd.closest('.output');\n",
       "if (outputEl) {{\n",
       "    x.observe(outputEl, {childList: true});\n",
       "}}\n",
       "\n",
       "                        })\n",
       "                };\n",
       "                });\n",
       "            </script>\n",
       "        </div>"
      ]
     },
     "metadata": {},
     "output_type": "display_data"
    }
   ],
   "source": [
    "plot_bar('Type')"
   ]
  },
  {
   "cell_type": "code",
   "execution_count": 35,
   "metadata": {},
   "outputs": [
    {
     "data": {
      "application/vnd.plotly.v1+json": {
       "config": {
        "linkText": "Export to plot.ly",
        "plotlyServerURL": "https://plot.ly",
        "showLink": false
       },
       "data": [
        {
         "marker": {
          "color": "#0047AB"
         },
         "text": [
          "0.73%",
          "0.73%",
          "0.73%",
          "0.73%",
          "0.73%",
          "0.73%",
          "0.73%",
          "0.73%",
          "0.73%",
          "0.73%",
          "0.73%",
          "0.73%",
          "0.73%",
          "0.73%",
          "0.73%",
          "0.73%",
          "0.73%",
          "0.73%",
          "0.73%",
          "0.73%",
          "0.73%",
          "0.73%",
          "0.73%",
          "0.73%",
          "0.73%",
          "0.73%",
          "0.73%",
          "0.73%",
          "0.73%",
          "0.73%",
          "0.73%",
          "0.73%",
          "0.73%",
          "0.73%",
          "0.73%",
          "0.73%",
          "0.73%",
          "0.73%",
          "0.73%",
          "0.73%",
          "0.73%",
          "0.73%",
          "0.73%",
          "0.73%",
          "0.73%",
          "0.73%",
          "0.73%",
          "0.73%",
          "0.73%",
          "0.73%",
          "0.73%",
          "0.73%",
          "0.73%",
          "0.73%",
          "0.73%",
          "0.73%",
          "0.73%",
          "0.73%",
          "0.73%",
          "0.73%",
          "0.73%",
          "0.73%",
          "0.73%",
          "0.73%",
          "0.73%",
          "0.73%",
          "0.73%",
          "0.73%",
          "0.73%",
          "0.73%",
          "0.73%",
          "0.73%",
          "0.73%",
          "0.73%",
          "0.73%",
          "0.73%",
          "0.73%",
          "0.73%",
          "0.73%",
          "0.73%",
          "0.73%",
          "0.73%",
          "0.73%",
          "0.73%",
          "0.73%",
          "0.73%",
          "0.73%",
          "0.73%",
          "0.73%",
          "0.73%",
          "0.73%",
          "0.73%",
          "0.73%",
          "0.73%",
          "0.73%",
          "0.73%",
          "0.73%",
          "0.73%",
          "0.73%",
          "0.73%",
          "0.73%",
          "0.73%",
          "0.73%",
          "0.73%",
          "0.73%",
          "0.73%",
          "0.73%",
          "0.73%",
          "0.73%",
          "0.73%",
          "0.73%",
          "0.73%",
          "0.73%",
          "0.73%",
          "0.73%",
          "0.73%",
          "0.73%",
          "0.73%",
          "0.73%",
          "0.73%",
          "0.73%",
          "0.73%",
          "0.73%",
          "0.73%",
          "0.73%",
          "0.73%",
          "0.73%",
          "0.73%",
          "0.73%",
          "0.73%",
          "0.73%",
          "0.73%",
          "0.73%",
          "0.73%",
          "0.73%",
          "0.73%",
          "0.73%"
         ],
         "textposition": "auto",
         "type": "bar",
         "x": [
          "5787594.0",
          "16549064.0",
          "3445076.0",
          "3273041.0",
          "3347767.0",
          "5444227.0",
          "4066618.0",
          "4350573.0",
          "3028267.0",
          "2740687.0",
          "2267425.0",
          "4780607.0",
          "4882985.0",
          "2156098.0",
          "3807496.0",
          "6941173.0",
          "5906596.0",
          "3745135.0",
          "3956086.0",
          "4888774.0",
          "7592272.0",
          "3261924.0",
          "3903884.0",
          "2544857.0",
          "1904842.0",
          "9262754.0",
          "2055379.0",
          "4590423.0",
          "4651866.0",
          "4429512.0",
          "4758476.0",
          "6923131.0",
          "1619683.0",
          "2551252.0",
          "2083447.0",
          "3600467.0",
          "8630682.0",
          "3004429.0",
          "3376145.0",
          "6694797.0",
          "1882131.0",
          "4155435.0",
          "6363241.0",
          "4052733.0",
          "3778621.0",
          "5595267.0",
          "4952255.0",
          "3447890.0",
          "4286645.0",
          "2021934.0",
          "1270499.0",
          "5525735.0",
          "5166635.0",
          "3570392.0",
          "4264176.0",
          "6836483.0",
          "4467728.0",
          "4250553.0",
          "5286212.0",
          "6412623.0",
          "4491607.0",
          "4219263.0",
          "4952497.0",
          "19696939.0",
          "2525375.0",
          "5161370.0",
          "3199619.0",
          "1847826.0",
          "3258837.0",
          "2383840.0",
          "3836721.0",
          "3351383.0",
          "4705945.0",
          "1756069.0",
          "1763231.0",
          "2097022.0",
          "2675511.0",
          "3164972.0",
          "4100886.0",
          "2058644.0",
          "2999068.0",
          "4316715.0",
          "4554237.0",
          "3753720.0",
          "2344689.0",
          "1149870.0",
          "5461700.0",
          "8904084.0",
          "5017319.0",
          "3939804.0",
          "3426169.0",
          "3982767.0",
          "2738052.0",
          "2364478.0",
          "2993069.0",
          "3752885.0",
          "3410878.0",
          "2018785.0",
          "5435276.0",
          "5500818.0",
          "6313221.0",
          "1734634.0",
          "6782425.0",
          "8894598.0",
          "7495092.0",
          "7865428.0",
          "3452382.0",
          "2954086.0",
          "3218918.0",
          "4136425.0",
          "1999097.0",
          "7201784.0",
          "2390534.0",
          "8213524.0",
          "5966193.0",
          "3248660.0",
          "3780019.0",
          "9652350.0",
          "4807746.0",
          "3784230.0",
          "4250758.0",
          "3810007.0",
          "3818055.0",
          "13575224.0",
          "2792031.0",
          "2732645.0",
          "4067566.0",
          "3871344.0",
          "5653753.0",
          "2371202.0",
          "4015749.0",
          "7217634.0",
          "2025297.0",
          "5337526.0",
          "3008199.0",
          "4263629.0",
          "3727364.0"
         ],
         "y": [
          0.73,
          0.73,
          0.73,
          0.73,
          0.73,
          0.73,
          0.73,
          0.73,
          0.73,
          0.73,
          0.73,
          0.73,
          0.73,
          0.73,
          0.73,
          0.73,
          0.73,
          0.73,
          0.73,
          0.73,
          0.73,
          0.73,
          0.73,
          0.73,
          0.73,
          0.73,
          0.73,
          0.73,
          0.73,
          0.73,
          0.73,
          0.73,
          0.73,
          0.73,
          0.73,
          0.73,
          0.73,
          0.73,
          0.73,
          0.73,
          0.73,
          0.73,
          0.73,
          0.73,
          0.73,
          0.73,
          0.73,
          0.73,
          0.73,
          0.73,
          0.73,
          0.73,
          0.73,
          0.73,
          0.73,
          0.73,
          0.73,
          0.73,
          0.73,
          0.73,
          0.73,
          0.73,
          0.73,
          0.73,
          0.73,
          0.73,
          0.73,
          0.73,
          0.73,
          0.73,
          0.73,
          0.73,
          0.73,
          0.73,
          0.73,
          0.73,
          0.73,
          0.73,
          0.73,
          0.73,
          0.73,
          0.73,
          0.73,
          0.73,
          0.73,
          0.73,
          0.73,
          0.73,
          0.73,
          0.73,
          0.73,
          0.73,
          0.73,
          0.73,
          0.73,
          0.73,
          0.73,
          0.73,
          0.73,
          0.73,
          0.73,
          0.73,
          0.73,
          0.73,
          0.73,
          0.73,
          0.73,
          0.73,
          0.73,
          0.73,
          0.73,
          0.73,
          0.73,
          0.73,
          0.73,
          0.73,
          0.73,
          0.73,
          0.73,
          0.73,
          0.73,
          0.73,
          0.73,
          0.73,
          0.73,
          0.73,
          0.73,
          0.73,
          0.73,
          0.73,
          0.73,
          0.73,
          0.73,
          0.73,
          0.73,
          0.73,
          0.73
         ]
        }
       ],
       "layout": {
        "autosize": false,
        "font": {
         "color": "white",
         "family": "Courier New, monospace",
         "size": 12
        },
        "height": 600,
        "template": {
         "data": {
          "bar": [
           {
            "error_x": {
             "color": "#2a3f5f"
            },
            "error_y": {
             "color": "#2a3f5f"
            },
            "marker": {
             "line": {
              "color": "#E5ECF6",
              "width": 0.5
             }
            },
            "type": "bar"
           }
          ],
          "barpolar": [
           {
            "marker": {
             "line": {
              "color": "#E5ECF6",
              "width": 0.5
             }
            },
            "type": "barpolar"
           }
          ],
          "carpet": [
           {
            "aaxis": {
             "endlinecolor": "#2a3f5f",
             "gridcolor": "white",
             "linecolor": "white",
             "minorgridcolor": "white",
             "startlinecolor": "#2a3f5f"
            },
            "baxis": {
             "endlinecolor": "#2a3f5f",
             "gridcolor": "white",
             "linecolor": "white",
             "minorgridcolor": "white",
             "startlinecolor": "#2a3f5f"
            },
            "type": "carpet"
           }
          ],
          "choropleth": [
           {
            "colorbar": {
             "outlinewidth": 0,
             "ticks": ""
            },
            "type": "choropleth"
           }
          ],
          "contour": [
           {
            "colorbar": {
             "outlinewidth": 0,
             "ticks": ""
            },
            "colorscale": [
             [
              0,
              "#0d0887"
             ],
             [
              0.1111111111111111,
              "#46039f"
             ],
             [
              0.2222222222222222,
              "#7201a8"
             ],
             [
              0.3333333333333333,
              "#9c179e"
             ],
             [
              0.4444444444444444,
              "#bd3786"
             ],
             [
              0.5555555555555556,
              "#d8576b"
             ],
             [
              0.6666666666666666,
              "#ed7953"
             ],
             [
              0.7777777777777778,
              "#fb9f3a"
             ],
             [
              0.8888888888888888,
              "#fdca26"
             ],
             [
              1,
              "#f0f921"
             ]
            ],
            "type": "contour"
           }
          ],
          "contourcarpet": [
           {
            "colorbar": {
             "outlinewidth": 0,
             "ticks": ""
            },
            "type": "contourcarpet"
           }
          ],
          "heatmap": [
           {
            "colorbar": {
             "outlinewidth": 0,
             "ticks": ""
            },
            "colorscale": [
             [
              0,
              "#0d0887"
             ],
             [
              0.1111111111111111,
              "#46039f"
             ],
             [
              0.2222222222222222,
              "#7201a8"
             ],
             [
              0.3333333333333333,
              "#9c179e"
             ],
             [
              0.4444444444444444,
              "#bd3786"
             ],
             [
              0.5555555555555556,
              "#d8576b"
             ],
             [
              0.6666666666666666,
              "#ed7953"
             ],
             [
              0.7777777777777778,
              "#fb9f3a"
             ],
             [
              0.8888888888888888,
              "#fdca26"
             ],
             [
              1,
              "#f0f921"
             ]
            ],
            "type": "heatmap"
           }
          ],
          "heatmapgl": [
           {
            "colorbar": {
             "outlinewidth": 0,
             "ticks": ""
            },
            "colorscale": [
             [
              0,
              "#0d0887"
             ],
             [
              0.1111111111111111,
              "#46039f"
             ],
             [
              0.2222222222222222,
              "#7201a8"
             ],
             [
              0.3333333333333333,
              "#9c179e"
             ],
             [
              0.4444444444444444,
              "#bd3786"
             ],
             [
              0.5555555555555556,
              "#d8576b"
             ],
             [
              0.6666666666666666,
              "#ed7953"
             ],
             [
              0.7777777777777778,
              "#fb9f3a"
             ],
             [
              0.8888888888888888,
              "#fdca26"
             ],
             [
              1,
              "#f0f921"
             ]
            ],
            "type": "heatmapgl"
           }
          ],
          "histogram": [
           {
            "marker": {
             "colorbar": {
              "outlinewidth": 0,
              "ticks": ""
             }
            },
            "type": "histogram"
           }
          ],
          "histogram2d": [
           {
            "colorbar": {
             "outlinewidth": 0,
             "ticks": ""
            },
            "colorscale": [
             [
              0,
              "#0d0887"
             ],
             [
              0.1111111111111111,
              "#46039f"
             ],
             [
              0.2222222222222222,
              "#7201a8"
             ],
             [
              0.3333333333333333,
              "#9c179e"
             ],
             [
              0.4444444444444444,
              "#bd3786"
             ],
             [
              0.5555555555555556,
              "#d8576b"
             ],
             [
              0.6666666666666666,
              "#ed7953"
             ],
             [
              0.7777777777777778,
              "#fb9f3a"
             ],
             [
              0.8888888888888888,
              "#fdca26"
             ],
             [
              1,
              "#f0f921"
             ]
            ],
            "type": "histogram2d"
           }
          ],
          "histogram2dcontour": [
           {
            "colorbar": {
             "outlinewidth": 0,
             "ticks": ""
            },
            "colorscale": [
             [
              0,
              "#0d0887"
             ],
             [
              0.1111111111111111,
              "#46039f"
             ],
             [
              0.2222222222222222,
              "#7201a8"
             ],
             [
              0.3333333333333333,
              "#9c179e"
             ],
             [
              0.4444444444444444,
              "#bd3786"
             ],
             [
              0.5555555555555556,
              "#d8576b"
             ],
             [
              0.6666666666666666,
              "#ed7953"
             ],
             [
              0.7777777777777778,
              "#fb9f3a"
             ],
             [
              0.8888888888888888,
              "#fdca26"
             ],
             [
              1,
              "#f0f921"
             ]
            ],
            "type": "histogram2dcontour"
           }
          ],
          "mesh3d": [
           {
            "colorbar": {
             "outlinewidth": 0,
             "ticks": ""
            },
            "type": "mesh3d"
           }
          ],
          "parcoords": [
           {
            "line": {
             "colorbar": {
              "outlinewidth": 0,
              "ticks": ""
             }
            },
            "type": "parcoords"
           }
          ],
          "pie": [
           {
            "automargin": true,
            "type": "pie"
           }
          ],
          "scatter": [
           {
            "marker": {
             "colorbar": {
              "outlinewidth": 0,
              "ticks": ""
             }
            },
            "type": "scatter"
           }
          ],
          "scatter3d": [
           {
            "line": {
             "colorbar": {
              "outlinewidth": 0,
              "ticks": ""
             }
            },
            "marker": {
             "colorbar": {
              "outlinewidth": 0,
              "ticks": ""
             }
            },
            "type": "scatter3d"
           }
          ],
          "scattercarpet": [
           {
            "marker": {
             "colorbar": {
              "outlinewidth": 0,
              "ticks": ""
             }
            },
            "type": "scattercarpet"
           }
          ],
          "scattergeo": [
           {
            "marker": {
             "colorbar": {
              "outlinewidth": 0,
              "ticks": ""
             }
            },
            "type": "scattergeo"
           }
          ],
          "scattergl": [
           {
            "marker": {
             "colorbar": {
              "outlinewidth": 0,
              "ticks": ""
             }
            },
            "type": "scattergl"
           }
          ],
          "scattermapbox": [
           {
            "marker": {
             "colorbar": {
              "outlinewidth": 0,
              "ticks": ""
             }
            },
            "type": "scattermapbox"
           }
          ],
          "scatterpolar": [
           {
            "marker": {
             "colorbar": {
              "outlinewidth": 0,
              "ticks": ""
             }
            },
            "type": "scatterpolar"
           }
          ],
          "scatterpolargl": [
           {
            "marker": {
             "colorbar": {
              "outlinewidth": 0,
              "ticks": ""
             }
            },
            "type": "scatterpolargl"
           }
          ],
          "scatterternary": [
           {
            "marker": {
             "colorbar": {
              "outlinewidth": 0,
              "ticks": ""
             }
            },
            "type": "scatterternary"
           }
          ],
          "surface": [
           {
            "colorbar": {
             "outlinewidth": 0,
             "ticks": ""
            },
            "colorscale": [
             [
              0,
              "#0d0887"
             ],
             [
              0.1111111111111111,
              "#46039f"
             ],
             [
              0.2222222222222222,
              "#7201a8"
             ],
             [
              0.3333333333333333,
              "#9c179e"
             ],
             [
              0.4444444444444444,
              "#bd3786"
             ],
             [
              0.5555555555555556,
              "#d8576b"
             ],
             [
              0.6666666666666666,
              "#ed7953"
             ],
             [
              0.7777777777777778,
              "#fb9f3a"
             ],
             [
              0.8888888888888888,
              "#fdca26"
             ],
             [
              1,
              "#f0f921"
             ]
            ],
            "type": "surface"
           }
          ],
          "table": [
           {
            "cells": {
             "fill": {
              "color": "#EBF0F8"
             },
             "line": {
              "color": "white"
             }
            },
            "header": {
             "fill": {
              "color": "#C8D4E3"
             },
             "line": {
              "color": "white"
             }
            },
            "type": "table"
           }
          ]
         },
         "layout": {
          "annotationdefaults": {
           "arrowcolor": "#2a3f5f",
           "arrowhead": 0,
           "arrowwidth": 1
          },
          "coloraxis": {
           "colorbar": {
            "outlinewidth": 0,
            "ticks": ""
           }
          },
          "colorscale": {
           "diverging": [
            [
             0,
             "#8e0152"
            ],
            [
             0.1,
             "#c51b7d"
            ],
            [
             0.2,
             "#de77ae"
            ],
            [
             0.3,
             "#f1b6da"
            ],
            [
             0.4,
             "#fde0ef"
            ],
            [
             0.5,
             "#f7f7f7"
            ],
            [
             0.6,
             "#e6f5d0"
            ],
            [
             0.7,
             "#b8e186"
            ],
            [
             0.8,
             "#7fbc41"
            ],
            [
             0.9,
             "#4d9221"
            ],
            [
             1,
             "#276419"
            ]
           ],
           "sequential": [
            [
             0,
             "#0d0887"
            ],
            [
             0.1111111111111111,
             "#46039f"
            ],
            [
             0.2222222222222222,
             "#7201a8"
            ],
            [
             0.3333333333333333,
             "#9c179e"
            ],
            [
             0.4444444444444444,
             "#bd3786"
            ],
            [
             0.5555555555555556,
             "#d8576b"
            ],
            [
             0.6666666666666666,
             "#ed7953"
            ],
            [
             0.7777777777777778,
             "#fb9f3a"
            ],
            [
             0.8888888888888888,
             "#fdca26"
            ],
            [
             1,
             "#f0f921"
            ]
           ],
           "sequentialminus": [
            [
             0,
             "#0d0887"
            ],
            [
             0.1111111111111111,
             "#46039f"
            ],
            [
             0.2222222222222222,
             "#7201a8"
            ],
            [
             0.3333333333333333,
             "#9c179e"
            ],
            [
             0.4444444444444444,
             "#bd3786"
            ],
            [
             0.5555555555555556,
             "#d8576b"
            ],
            [
             0.6666666666666666,
             "#ed7953"
            ],
            [
             0.7777777777777778,
             "#fb9f3a"
            ],
            [
             0.8888888888888888,
             "#fdca26"
            ],
            [
             1,
             "#f0f921"
            ]
           ]
          },
          "colorway": [
           "#636efa",
           "#EF553B",
           "#00cc96",
           "#ab63fa",
           "#FFA15A",
           "#19d3f3",
           "#FF6692",
           "#B6E880",
           "#FF97FF",
           "#FECB52"
          ],
          "font": {
           "color": "#2a3f5f"
          },
          "geo": {
           "bgcolor": "white",
           "lakecolor": "white",
           "landcolor": "#E5ECF6",
           "showlakes": true,
           "showland": true,
           "subunitcolor": "white"
          },
          "hoverlabel": {
           "align": "left"
          },
          "hovermode": "closest",
          "mapbox": {
           "style": "light"
          },
          "paper_bgcolor": "white",
          "plot_bgcolor": "#E5ECF6",
          "polar": {
           "angularaxis": {
            "gridcolor": "white",
            "linecolor": "white",
            "ticks": ""
           },
           "bgcolor": "#E5ECF6",
           "radialaxis": {
            "gridcolor": "white",
            "linecolor": "white",
            "ticks": ""
           }
          },
          "scene": {
           "xaxis": {
            "backgroundcolor": "#E5ECF6",
            "gridcolor": "white",
            "gridwidth": 2,
            "linecolor": "white",
            "showbackground": true,
            "ticks": "",
            "zerolinecolor": "white"
           },
           "yaxis": {
            "backgroundcolor": "#E5ECF6",
            "gridcolor": "white",
            "gridwidth": 2,
            "linecolor": "white",
            "showbackground": true,
            "ticks": "",
            "zerolinecolor": "white"
           },
           "zaxis": {
            "backgroundcolor": "#E5ECF6",
            "gridcolor": "white",
            "gridwidth": 2,
            "linecolor": "white",
            "showbackground": true,
            "ticks": "",
            "zerolinecolor": "white"
           }
          },
          "shapedefaults": {
           "line": {
            "color": "#2a3f5f"
           }
          },
          "ternary": {
           "aaxis": {
            "gridcolor": "white",
            "linecolor": "white",
            "ticks": ""
           },
           "baxis": {
            "gridcolor": "white",
            "linecolor": "white",
            "ticks": ""
           },
           "bgcolor": "#E5ECF6",
           "caxis": {
            "gridcolor": "white",
            "linecolor": "white",
            "ticks": ""
           }
          },
          "title": {
           "x": 0.05
          },
          "xaxis": {
           "automargin": true,
           "gridcolor": "white",
           "linecolor": "white",
           "ticks": "",
           "title": {
            "standoff": 15
           },
           "zerolinecolor": "white",
           "zerolinewidth": 2
          },
          "yaxis": {
           "automargin": true,
           "gridcolor": "white",
           "linecolor": "white",
           "ticks": "",
           "title": {
            "standoff": 15
           },
           "zerolinecolor": "white",
           "zerolinewidth": 2
          }
         }
        },
        "title": {
         "font": {
          "color": "black",
          "family": "Courier New, monospace",
          "size": 14
         },
         "text": "Distribution of revenue column"
        },
        "width": 800,
        "xaxis": {
         "tickfont": {
          "color": "black",
          "family": "Courier New, monospace",
          "size": 14
         }
        },
        "yaxis": {
         "tickfont": {
          "color": "black",
          "family": "Courier New, monospace",
          "size": 14
         },
         "title": {
          "font": {
           "color": "black",
           "size": 14
          },
          "text": "Percentage"
         }
        }
       }
      },
      "text/html": [
       "<div>\n",
       "        \n",
       "        \n",
       "            <div id=\"1f22c92e-9a6f-475a-bec5-d3b166a88ecf\" class=\"plotly-graph-div\" style=\"height:600px; width:800px;\"></div>\n",
       "            <script type=\"text/javascript\">\n",
       "                require([\"plotly\"], function(Plotly) {\n",
       "                    window.PLOTLYENV=window.PLOTLYENV || {};\n",
       "                    \n",
       "                if (document.getElementById(\"1f22c92e-9a6f-475a-bec5-d3b166a88ecf\")) {\n",
       "                    Plotly.newPlot(\n",
       "                        '1f22c92e-9a6f-475a-bec5-d3b166a88ecf',\n",
       "                        [{\"marker\": {\"color\": \"#0047AB\"}, \"text\": [\"0.73%\", \"0.73%\", \"0.73%\", \"0.73%\", \"0.73%\", \"0.73%\", \"0.73%\", \"0.73%\", \"0.73%\", \"0.73%\", \"0.73%\", \"0.73%\", \"0.73%\", \"0.73%\", \"0.73%\", \"0.73%\", \"0.73%\", \"0.73%\", \"0.73%\", \"0.73%\", \"0.73%\", \"0.73%\", \"0.73%\", \"0.73%\", \"0.73%\", \"0.73%\", \"0.73%\", \"0.73%\", \"0.73%\", \"0.73%\", \"0.73%\", \"0.73%\", \"0.73%\", \"0.73%\", \"0.73%\", \"0.73%\", \"0.73%\", \"0.73%\", \"0.73%\", \"0.73%\", \"0.73%\", \"0.73%\", \"0.73%\", \"0.73%\", \"0.73%\", \"0.73%\", \"0.73%\", \"0.73%\", \"0.73%\", \"0.73%\", \"0.73%\", \"0.73%\", \"0.73%\", \"0.73%\", \"0.73%\", \"0.73%\", \"0.73%\", \"0.73%\", \"0.73%\", \"0.73%\", \"0.73%\", \"0.73%\", \"0.73%\", \"0.73%\", \"0.73%\", \"0.73%\", \"0.73%\", \"0.73%\", \"0.73%\", \"0.73%\", \"0.73%\", \"0.73%\", \"0.73%\", \"0.73%\", \"0.73%\", \"0.73%\", \"0.73%\", \"0.73%\", \"0.73%\", \"0.73%\", \"0.73%\", \"0.73%\", \"0.73%\", \"0.73%\", \"0.73%\", \"0.73%\", \"0.73%\", \"0.73%\", \"0.73%\", \"0.73%\", \"0.73%\", \"0.73%\", \"0.73%\", \"0.73%\", \"0.73%\", \"0.73%\", \"0.73%\", \"0.73%\", \"0.73%\", \"0.73%\", \"0.73%\", \"0.73%\", \"0.73%\", \"0.73%\", \"0.73%\", \"0.73%\", \"0.73%\", \"0.73%\", \"0.73%\", \"0.73%\", \"0.73%\", \"0.73%\", \"0.73%\", \"0.73%\", \"0.73%\", \"0.73%\", \"0.73%\", \"0.73%\", \"0.73%\", \"0.73%\", \"0.73%\", \"0.73%\", \"0.73%\", \"0.73%\", \"0.73%\", \"0.73%\", \"0.73%\", \"0.73%\", \"0.73%\", \"0.73%\", \"0.73%\", \"0.73%\", \"0.73%\", \"0.73%\", \"0.73%\", \"0.73%\", \"0.73%\"], \"textposition\": \"auto\", \"type\": \"bar\", \"x\": [\"5787594.0\", \"16549064.0\", \"3445076.0\", \"3273041.0\", \"3347767.0\", \"5444227.0\", \"4066618.0\", \"4350573.0\", \"3028267.0\", \"2740687.0\", \"2267425.0\", \"4780607.0\", \"4882985.0\", \"2156098.0\", \"3807496.0\", \"6941173.0\", \"5906596.0\", \"3745135.0\", \"3956086.0\", \"4888774.0\", \"7592272.0\", \"3261924.0\", \"3903884.0\", \"2544857.0\", \"1904842.0\", \"9262754.0\", \"2055379.0\", \"4590423.0\", \"4651866.0\", \"4429512.0\", \"4758476.0\", \"6923131.0\", \"1619683.0\", \"2551252.0\", \"2083447.0\", \"3600467.0\", \"8630682.0\", \"3004429.0\", \"3376145.0\", \"6694797.0\", \"1882131.0\", \"4155435.0\", \"6363241.0\", \"4052733.0\", \"3778621.0\", \"5595267.0\", \"4952255.0\", \"3447890.0\", \"4286645.0\", \"2021934.0\", \"1270499.0\", \"5525735.0\", \"5166635.0\", \"3570392.0\", \"4264176.0\", \"6836483.0\", \"4467728.0\", \"4250553.0\", \"5286212.0\", \"6412623.0\", \"4491607.0\", \"4219263.0\", \"4952497.0\", \"19696939.0\", \"2525375.0\", \"5161370.0\", \"3199619.0\", \"1847826.0\", \"3258837.0\", \"2383840.0\", \"3836721.0\", \"3351383.0\", \"4705945.0\", \"1756069.0\", \"1763231.0\", \"2097022.0\", \"2675511.0\", \"3164972.0\", \"4100886.0\", \"2058644.0\", \"2999068.0\", \"4316715.0\", \"4554237.0\", \"3753720.0\", \"2344689.0\", \"1149870.0\", \"5461700.0\", \"8904084.0\", \"5017319.0\", \"3939804.0\", \"3426169.0\", \"3982767.0\", \"2738052.0\", \"2364478.0\", \"2993069.0\", \"3752885.0\", \"3410878.0\", \"2018785.0\", \"5435276.0\", \"5500818.0\", \"6313221.0\", \"1734634.0\", \"6782425.0\", \"8894598.0\", \"7495092.0\", \"7865428.0\", \"3452382.0\", \"2954086.0\", \"3218918.0\", \"4136425.0\", \"1999097.0\", \"7201784.0\", \"2390534.0\", \"8213524.0\", \"5966193.0\", \"3248660.0\", \"3780019.0\", \"9652350.0\", \"4807746.0\", \"3784230.0\", \"4250758.0\", \"3810007.0\", \"3818055.0\", \"13575224.0\", \"2792031.0\", \"2732645.0\", \"4067566.0\", \"3871344.0\", \"5653753.0\", \"2371202.0\", \"4015749.0\", \"7217634.0\", \"2025297.0\", \"5337526.0\", \"3008199.0\", \"4263629.0\", \"3727364.0\"], \"y\": [0.73, 0.73, 0.73, 0.73, 0.73, 0.73, 0.73, 0.73, 0.73, 0.73, 0.73, 0.73, 0.73, 0.73, 0.73, 0.73, 0.73, 0.73, 0.73, 0.73, 0.73, 0.73, 0.73, 0.73, 0.73, 0.73, 0.73, 0.73, 0.73, 0.73, 0.73, 0.73, 0.73, 0.73, 0.73, 0.73, 0.73, 0.73, 0.73, 0.73, 0.73, 0.73, 0.73, 0.73, 0.73, 0.73, 0.73, 0.73, 0.73, 0.73, 0.73, 0.73, 0.73, 0.73, 0.73, 0.73, 0.73, 0.73, 0.73, 0.73, 0.73, 0.73, 0.73, 0.73, 0.73, 0.73, 0.73, 0.73, 0.73, 0.73, 0.73, 0.73, 0.73, 0.73, 0.73, 0.73, 0.73, 0.73, 0.73, 0.73, 0.73, 0.73, 0.73, 0.73, 0.73, 0.73, 0.73, 0.73, 0.73, 0.73, 0.73, 0.73, 0.73, 0.73, 0.73, 0.73, 0.73, 0.73, 0.73, 0.73, 0.73, 0.73, 0.73, 0.73, 0.73, 0.73, 0.73, 0.73, 0.73, 0.73, 0.73, 0.73, 0.73, 0.73, 0.73, 0.73, 0.73, 0.73, 0.73, 0.73, 0.73, 0.73, 0.73, 0.73, 0.73, 0.73, 0.73, 0.73, 0.73, 0.73, 0.73, 0.73, 0.73, 0.73, 0.73, 0.73, 0.73]}],\n",
       "                        {\"autosize\": false, \"font\": {\"color\": \"white\", \"family\": \"Courier New, monospace\", \"size\": 12}, \"height\": 600, \"template\": {\"data\": {\"bar\": [{\"error_x\": {\"color\": \"#2a3f5f\"}, \"error_y\": {\"color\": \"#2a3f5f\"}, \"marker\": {\"line\": {\"color\": \"#E5ECF6\", \"width\": 0.5}}, \"type\": \"bar\"}], \"barpolar\": [{\"marker\": {\"line\": {\"color\": \"#E5ECF6\", \"width\": 0.5}}, \"type\": \"barpolar\"}], \"carpet\": [{\"aaxis\": {\"endlinecolor\": \"#2a3f5f\", \"gridcolor\": \"white\", \"linecolor\": \"white\", \"minorgridcolor\": \"white\", \"startlinecolor\": \"#2a3f5f\"}, \"baxis\": {\"endlinecolor\": \"#2a3f5f\", \"gridcolor\": \"white\", \"linecolor\": \"white\", \"minorgridcolor\": \"white\", \"startlinecolor\": \"#2a3f5f\"}, \"type\": \"carpet\"}], \"choropleth\": [{\"colorbar\": {\"outlinewidth\": 0, \"ticks\": \"\"}, \"type\": \"choropleth\"}], \"contour\": [{\"colorbar\": {\"outlinewidth\": 0, \"ticks\": \"\"}, \"colorscale\": [[0.0, \"#0d0887\"], [0.1111111111111111, \"#46039f\"], [0.2222222222222222, \"#7201a8\"], [0.3333333333333333, \"#9c179e\"], [0.4444444444444444, \"#bd3786\"], [0.5555555555555556, \"#d8576b\"], [0.6666666666666666, \"#ed7953\"], [0.7777777777777778, \"#fb9f3a\"], [0.8888888888888888, \"#fdca26\"], [1.0, \"#f0f921\"]], \"type\": \"contour\"}], \"contourcarpet\": [{\"colorbar\": {\"outlinewidth\": 0, \"ticks\": \"\"}, \"type\": \"contourcarpet\"}], \"heatmap\": [{\"colorbar\": {\"outlinewidth\": 0, \"ticks\": \"\"}, \"colorscale\": [[0.0, \"#0d0887\"], [0.1111111111111111, \"#46039f\"], [0.2222222222222222, \"#7201a8\"], [0.3333333333333333, \"#9c179e\"], [0.4444444444444444, \"#bd3786\"], [0.5555555555555556, \"#d8576b\"], [0.6666666666666666, \"#ed7953\"], [0.7777777777777778, \"#fb9f3a\"], [0.8888888888888888, \"#fdca26\"], [1.0, \"#f0f921\"]], \"type\": \"heatmap\"}], \"heatmapgl\": [{\"colorbar\": {\"outlinewidth\": 0, \"ticks\": \"\"}, \"colorscale\": [[0.0, \"#0d0887\"], [0.1111111111111111, \"#46039f\"], [0.2222222222222222, \"#7201a8\"], [0.3333333333333333, \"#9c179e\"], [0.4444444444444444, \"#bd3786\"], [0.5555555555555556, \"#d8576b\"], [0.6666666666666666, \"#ed7953\"], [0.7777777777777778, \"#fb9f3a\"], [0.8888888888888888, \"#fdca26\"], [1.0, \"#f0f921\"]], \"type\": \"heatmapgl\"}], \"histogram\": [{\"marker\": {\"colorbar\": {\"outlinewidth\": 0, \"ticks\": \"\"}}, \"type\": \"histogram\"}], \"histogram2d\": [{\"colorbar\": {\"outlinewidth\": 0, \"ticks\": \"\"}, \"colorscale\": [[0.0, \"#0d0887\"], [0.1111111111111111, \"#46039f\"], [0.2222222222222222, \"#7201a8\"], [0.3333333333333333, \"#9c179e\"], [0.4444444444444444, \"#bd3786\"], [0.5555555555555556, \"#d8576b\"], [0.6666666666666666, \"#ed7953\"], [0.7777777777777778, \"#fb9f3a\"], [0.8888888888888888, \"#fdca26\"], [1.0, \"#f0f921\"]], \"type\": \"histogram2d\"}], \"histogram2dcontour\": [{\"colorbar\": {\"outlinewidth\": 0, \"ticks\": \"\"}, \"colorscale\": [[0.0, \"#0d0887\"], [0.1111111111111111, \"#46039f\"], [0.2222222222222222, \"#7201a8\"], [0.3333333333333333, \"#9c179e\"], [0.4444444444444444, \"#bd3786\"], [0.5555555555555556, \"#d8576b\"], [0.6666666666666666, \"#ed7953\"], [0.7777777777777778, \"#fb9f3a\"], [0.8888888888888888, \"#fdca26\"], [1.0, \"#f0f921\"]], \"type\": \"histogram2dcontour\"}], \"mesh3d\": [{\"colorbar\": {\"outlinewidth\": 0, \"ticks\": \"\"}, \"type\": \"mesh3d\"}], \"parcoords\": [{\"line\": {\"colorbar\": {\"outlinewidth\": 0, \"ticks\": \"\"}}, \"type\": \"parcoords\"}], \"pie\": [{\"automargin\": true, \"type\": \"pie\"}], \"scatter\": [{\"marker\": {\"colorbar\": {\"outlinewidth\": 0, \"ticks\": \"\"}}, \"type\": \"scatter\"}], \"scatter3d\": [{\"line\": {\"colorbar\": {\"outlinewidth\": 0, \"ticks\": \"\"}}, \"marker\": {\"colorbar\": {\"outlinewidth\": 0, \"ticks\": \"\"}}, \"type\": \"scatter3d\"}], \"scattercarpet\": [{\"marker\": {\"colorbar\": {\"outlinewidth\": 0, \"ticks\": \"\"}}, \"type\": \"scattercarpet\"}], \"scattergeo\": [{\"marker\": {\"colorbar\": {\"outlinewidth\": 0, \"ticks\": \"\"}}, \"type\": \"scattergeo\"}], \"scattergl\": [{\"marker\": {\"colorbar\": {\"outlinewidth\": 0, \"ticks\": \"\"}}, \"type\": \"scattergl\"}], \"scattermapbox\": [{\"marker\": {\"colorbar\": {\"outlinewidth\": 0, \"ticks\": \"\"}}, \"type\": \"scattermapbox\"}], \"scatterpolar\": [{\"marker\": {\"colorbar\": {\"outlinewidth\": 0, \"ticks\": \"\"}}, \"type\": \"scatterpolar\"}], \"scatterpolargl\": [{\"marker\": {\"colorbar\": {\"outlinewidth\": 0, \"ticks\": \"\"}}, \"type\": \"scatterpolargl\"}], \"scatterternary\": [{\"marker\": {\"colorbar\": {\"outlinewidth\": 0, \"ticks\": \"\"}}, \"type\": \"scatterternary\"}], \"surface\": [{\"colorbar\": {\"outlinewidth\": 0, \"ticks\": \"\"}, \"colorscale\": [[0.0, \"#0d0887\"], [0.1111111111111111, \"#46039f\"], [0.2222222222222222, \"#7201a8\"], [0.3333333333333333, \"#9c179e\"], [0.4444444444444444, \"#bd3786\"], [0.5555555555555556, \"#d8576b\"], [0.6666666666666666, \"#ed7953\"], [0.7777777777777778, \"#fb9f3a\"], [0.8888888888888888, \"#fdca26\"], [1.0, \"#f0f921\"]], \"type\": \"surface\"}], \"table\": [{\"cells\": {\"fill\": {\"color\": \"#EBF0F8\"}, \"line\": {\"color\": \"white\"}}, \"header\": {\"fill\": {\"color\": \"#C8D4E3\"}, \"line\": {\"color\": \"white\"}}, \"type\": \"table\"}]}, \"layout\": {\"annotationdefaults\": {\"arrowcolor\": \"#2a3f5f\", \"arrowhead\": 0, \"arrowwidth\": 1}, \"coloraxis\": {\"colorbar\": {\"outlinewidth\": 0, \"ticks\": \"\"}}, \"colorscale\": {\"diverging\": [[0, \"#8e0152\"], [0.1, \"#c51b7d\"], [0.2, \"#de77ae\"], [0.3, \"#f1b6da\"], [0.4, \"#fde0ef\"], [0.5, \"#f7f7f7\"], [0.6, \"#e6f5d0\"], [0.7, \"#b8e186\"], [0.8, \"#7fbc41\"], [0.9, \"#4d9221\"], [1, \"#276419\"]], \"sequential\": [[0.0, \"#0d0887\"], [0.1111111111111111, \"#46039f\"], [0.2222222222222222, \"#7201a8\"], [0.3333333333333333, \"#9c179e\"], [0.4444444444444444, \"#bd3786\"], [0.5555555555555556, \"#d8576b\"], [0.6666666666666666, \"#ed7953\"], [0.7777777777777778, \"#fb9f3a\"], [0.8888888888888888, \"#fdca26\"], [1.0, \"#f0f921\"]], \"sequentialminus\": [[0.0, \"#0d0887\"], [0.1111111111111111, \"#46039f\"], [0.2222222222222222, \"#7201a8\"], [0.3333333333333333, \"#9c179e\"], [0.4444444444444444, \"#bd3786\"], [0.5555555555555556, \"#d8576b\"], [0.6666666666666666, \"#ed7953\"], [0.7777777777777778, \"#fb9f3a\"], [0.8888888888888888, \"#fdca26\"], [1.0, \"#f0f921\"]]}, \"colorway\": [\"#636efa\", \"#EF553B\", \"#00cc96\", \"#ab63fa\", \"#FFA15A\", \"#19d3f3\", \"#FF6692\", \"#B6E880\", \"#FF97FF\", \"#FECB52\"], \"font\": {\"color\": \"#2a3f5f\"}, \"geo\": {\"bgcolor\": \"white\", \"lakecolor\": \"white\", \"landcolor\": \"#E5ECF6\", \"showlakes\": true, \"showland\": true, \"subunitcolor\": \"white\"}, \"hoverlabel\": {\"align\": \"left\"}, \"hovermode\": \"closest\", \"mapbox\": {\"style\": \"light\"}, \"paper_bgcolor\": \"white\", \"plot_bgcolor\": \"#E5ECF6\", \"polar\": {\"angularaxis\": {\"gridcolor\": \"white\", \"linecolor\": \"white\", \"ticks\": \"\"}, \"bgcolor\": \"#E5ECF6\", \"radialaxis\": {\"gridcolor\": \"white\", \"linecolor\": \"white\", \"ticks\": \"\"}}, \"scene\": {\"xaxis\": {\"backgroundcolor\": \"#E5ECF6\", \"gridcolor\": \"white\", \"gridwidth\": 2, \"linecolor\": \"white\", \"showbackground\": true, \"ticks\": \"\", \"zerolinecolor\": \"white\"}, \"yaxis\": {\"backgroundcolor\": \"#E5ECF6\", \"gridcolor\": \"white\", \"gridwidth\": 2, \"linecolor\": \"white\", \"showbackground\": true, \"ticks\": \"\", \"zerolinecolor\": \"white\"}, \"zaxis\": {\"backgroundcolor\": \"#E5ECF6\", \"gridcolor\": \"white\", \"gridwidth\": 2, \"linecolor\": \"white\", \"showbackground\": true, \"ticks\": \"\", \"zerolinecolor\": \"white\"}}, \"shapedefaults\": {\"line\": {\"color\": \"#2a3f5f\"}}, \"ternary\": {\"aaxis\": {\"gridcolor\": \"white\", \"linecolor\": \"white\", \"ticks\": \"\"}, \"baxis\": {\"gridcolor\": \"white\", \"linecolor\": \"white\", \"ticks\": \"\"}, \"bgcolor\": \"#E5ECF6\", \"caxis\": {\"gridcolor\": \"white\", \"linecolor\": \"white\", \"ticks\": \"\"}}, \"title\": {\"x\": 0.05}, \"xaxis\": {\"automargin\": true, \"gridcolor\": \"white\", \"linecolor\": \"white\", \"ticks\": \"\", \"title\": {\"standoff\": 15}, \"zerolinecolor\": \"white\", \"zerolinewidth\": 2}, \"yaxis\": {\"automargin\": true, \"gridcolor\": \"white\", \"linecolor\": \"white\", \"ticks\": \"\", \"title\": {\"standoff\": 15}, \"zerolinecolor\": \"white\", \"zerolinewidth\": 2}}}, \"title\": {\"font\": {\"color\": \"black\", \"family\": \"Courier New, monospace\", \"size\": 14}, \"text\": \"Distribution of revenue column\"}, \"width\": 800, \"xaxis\": {\"tickfont\": {\"color\": \"black\", \"family\": \"Courier New, monospace\", \"size\": 14}}, \"yaxis\": {\"tickfont\": {\"color\": \"black\", \"family\": \"Courier New, monospace\", \"size\": 14}, \"title\": {\"font\": {\"color\": \"black\", \"size\": 14}, \"text\": \"Percentage\"}}},\n",
       "                        {\"responsive\": true}\n",
       "                    ).then(function(){\n",
       "                            \n",
       "var gd = document.getElementById('1f22c92e-9a6f-475a-bec5-d3b166a88ecf');\n",
       "var x = new MutationObserver(function (mutations, observer) {{\n",
       "        var display = window.getComputedStyle(gd).display;\n",
       "        if (!display || display === 'none') {{\n",
       "            console.log([gd, 'removed!']);\n",
       "            Plotly.purge(gd);\n",
       "            observer.disconnect();\n",
       "        }}\n",
       "}});\n",
       "\n",
       "// Listen for the removal of the full notebook cells\n",
       "var notebookContainer = gd.closest('#notebook-container');\n",
       "if (notebookContainer) {{\n",
       "    x.observe(notebookContainer, {childList: true});\n",
       "}}\n",
       "\n",
       "// Listen for the clearing of the current output cell\n",
       "var outputEl = gd.closest('.output');\n",
       "if (outputEl) {{\n",
       "    x.observe(outputEl, {childList: true});\n",
       "}}\n",
       "\n",
       "                        })\n",
       "                };\n",
       "                });\n",
       "            </script>\n",
       "        </div>"
      ]
     },
     "metadata": {},
     "output_type": "display_data"
    }
   ],
   "source": [
    "plot_bar('revenue')"
   ]
  },
  {
   "cell_type": "code",
   "execution_count": 40,
   "metadata": {},
   "outputs": [
    {
     "name": "stdout",
     "output_type": "stream",
     "text": [
      "<class 'pandas.core.frame.DataFrame'>\n",
      "RangeIndex: 137 entries, 0 to 136\n",
      "Data columns (total 42 columns):\n",
      "Open Date     137 non-null datetime64[ns]\n",
      "City          137 non-null category\n",
      "City Group    137 non-null category\n",
      "Type          137 non-null category\n",
      "P1            137 non-null int64\n",
      "P2            137 non-null float64\n",
      "P3            137 non-null float64\n",
      "P4            137 non-null float64\n",
      "P5            137 non-null int64\n",
      "P6            137 non-null int64\n",
      "P7            137 non-null int64\n",
      "P8            137 non-null int64\n",
      "P9            137 non-null int64\n",
      "P10           137 non-null int64\n",
      "P11           137 non-null int64\n",
      "P12           137 non-null int64\n",
      "P13           137 non-null float64\n",
      "P14           137 non-null int64\n",
      "P15           137 non-null int64\n",
      "P16           137 non-null int64\n",
      "P17           137 non-null int64\n",
      "P18           137 non-null int64\n",
      "P19           137 non-null int64\n",
      "P20           137 non-null int64\n",
      "P21           137 non-null int64\n",
      "P22           137 non-null int64\n",
      "P23           137 non-null int64\n",
      "P24           137 non-null int64\n",
      "P25           137 non-null int64\n",
      "P26           137 non-null float64\n",
      "P27           137 non-null float64\n",
      "P28           137 non-null float64\n",
      "P29           137 non-null float64\n",
      "P30           137 non-null int64\n",
      "P31           137 non-null int64\n",
      "P32           137 non-null int64\n",
      "P33           137 non-null int64\n",
      "P34           137 non-null int64\n",
      "P35           137 non-null int64\n",
      "P36           137 non-null int64\n",
      "P37           137 non-null int64\n",
      "revenue       137 non-null float64\n",
      "dtypes: category(3), datetime64[ns](1), float64(9), int64(29)\n",
      "memory usage: 43.9 KB\n"
     ]
    }
   ],
   "source": [
    "train_data.info()"
   ]
  },
  {
   "cell_type": "markdown",
   "metadata": {},
   "source": [
    "# change variables to required format"
   ]
  },
  {
   "cell_type": "code",
   "execution_count": 571,
   "metadata": {},
   "outputs": [],
   "source": [
    "for col in ['City', 'City Group', 'Type']:\n",
    "    train_data[col] = train_data[col].astype('category')"
   ]
  },
  {
   "cell_type": "code",
   "execution_count": 572,
   "metadata": {},
   "outputs": [],
   "source": [
    "for col in ['City', 'City Group', 'Type']:\n",
    "    test_data[col] = test_data[col].astype('category')"
   ]
  },
  {
   "cell_type": "code",
   "execution_count": 573,
   "metadata": {},
   "outputs": [],
   "source": [
    "train_data[\"Open Date\"]= pd.to_datetime(train_data[\"Open Date\"]) "
   ]
  },
  {
   "cell_type": "code",
   "execution_count": 574,
   "metadata": {},
   "outputs": [],
   "source": [
    "test_data[\"Open Date\"]= pd.to_datetime(test_data[\"Open Date\"]) "
   ]
  },
  {
   "cell_type": "code",
   "execution_count": 575,
   "metadata": {
    "scrolled": true
   },
   "outputs": [
    {
     "data": {
      "text/html": [
       "<div>\n",
       "<style scoped>\n",
       "    .dataframe tbody tr th:only-of-type {\n",
       "        vertical-align: middle;\n",
       "    }\n",
       "\n",
       "    .dataframe tbody tr th {\n",
       "        vertical-align: top;\n",
       "    }\n",
       "\n",
       "    .dataframe thead th {\n",
       "        text-align: right;\n",
       "    }\n",
       "</style>\n",
       "<table border=\"1\" class=\"dataframe\">\n",
       "  <thead>\n",
       "    <tr style=\"text-align: right;\">\n",
       "      <th></th>\n",
       "      <th>Open Date</th>\n",
       "      <th>City</th>\n",
       "      <th>City Group</th>\n",
       "      <th>Type</th>\n",
       "      <th>P1</th>\n",
       "      <th>P2</th>\n",
       "      <th>P3</th>\n",
       "      <th>P4</th>\n",
       "      <th>P5</th>\n",
       "      <th>P6</th>\n",
       "      <th>...</th>\n",
       "      <th>P29</th>\n",
       "      <th>P30</th>\n",
       "      <th>P31</th>\n",
       "      <th>P32</th>\n",
       "      <th>P33</th>\n",
       "      <th>P34</th>\n",
       "      <th>P35</th>\n",
       "      <th>P36</th>\n",
       "      <th>P37</th>\n",
       "      <th>revenue</th>\n",
       "    </tr>\n",
       "  </thead>\n",
       "  <tbody>\n",
       "    <tr>\n",
       "      <th>0</th>\n",
       "      <td>1999-07-17</td>\n",
       "      <td>İstanbul</td>\n",
       "      <td>Big Cities</td>\n",
       "      <td>IL</td>\n",
       "      <td>4</td>\n",
       "      <td>5.0</td>\n",
       "      <td>4.0</td>\n",
       "      <td>4.0</td>\n",
       "      <td>2</td>\n",
       "      <td>2</td>\n",
       "      <td>...</td>\n",
       "      <td>3.0</td>\n",
       "      <td>5</td>\n",
       "      <td>3</td>\n",
       "      <td>4</td>\n",
       "      <td>5</td>\n",
       "      <td>5</td>\n",
       "      <td>4</td>\n",
       "      <td>3</td>\n",
       "      <td>4</td>\n",
       "      <td>5653753.0</td>\n",
       "    </tr>\n",
       "    <tr>\n",
       "      <th>1</th>\n",
       "      <td>2008-02-14</td>\n",
       "      <td>Ankara</td>\n",
       "      <td>Big Cities</td>\n",
       "      <td>FC</td>\n",
       "      <td>4</td>\n",
       "      <td>5.0</td>\n",
       "      <td>4.0</td>\n",
       "      <td>4.0</td>\n",
       "      <td>1</td>\n",
       "      <td>2</td>\n",
       "      <td>...</td>\n",
       "      <td>3.0</td>\n",
       "      <td>0</td>\n",
       "      <td>0</td>\n",
       "      <td>0</td>\n",
       "      <td>0</td>\n",
       "      <td>0</td>\n",
       "      <td>0</td>\n",
       "      <td>0</td>\n",
       "      <td>0</td>\n",
       "      <td>6923131.0</td>\n",
       "    </tr>\n",
       "    <tr>\n",
       "      <th>2</th>\n",
       "      <td>2013-03-09</td>\n",
       "      <td>Diyarbakır</td>\n",
       "      <td>Other</td>\n",
       "      <td>IL</td>\n",
       "      <td>2</td>\n",
       "      <td>4.0</td>\n",
       "      <td>2.0</td>\n",
       "      <td>5.0</td>\n",
       "      <td>2</td>\n",
       "      <td>3</td>\n",
       "      <td>...</td>\n",
       "      <td>3.0</td>\n",
       "      <td>0</td>\n",
       "      <td>0</td>\n",
       "      <td>0</td>\n",
       "      <td>0</td>\n",
       "      <td>0</td>\n",
       "      <td>0</td>\n",
       "      <td>0</td>\n",
       "      <td>0</td>\n",
       "      <td>2055379.0</td>\n",
       "    </tr>\n",
       "    <tr>\n",
       "      <th>3</th>\n",
       "      <td>2012-02-02</td>\n",
       "      <td>Tokat</td>\n",
       "      <td>Other</td>\n",
       "      <td>IL</td>\n",
       "      <td>6</td>\n",
       "      <td>4.5</td>\n",
       "      <td>6.0</td>\n",
       "      <td>6.0</td>\n",
       "      <td>4</td>\n",
       "      <td>4</td>\n",
       "      <td>...</td>\n",
       "      <td>7.5</td>\n",
       "      <td>25</td>\n",
       "      <td>12</td>\n",
       "      <td>10</td>\n",
       "      <td>6</td>\n",
       "      <td>18</td>\n",
       "      <td>12</td>\n",
       "      <td>12</td>\n",
       "      <td>6</td>\n",
       "      <td>2675511.0</td>\n",
       "    </tr>\n",
       "    <tr>\n",
       "      <th>4</th>\n",
       "      <td>2009-05-09</td>\n",
       "      <td>Gaziantep</td>\n",
       "      <td>Other</td>\n",
       "      <td>IL</td>\n",
       "      <td>3</td>\n",
       "      <td>4.0</td>\n",
       "      <td>3.0</td>\n",
       "      <td>4.0</td>\n",
       "      <td>2</td>\n",
       "      <td>2</td>\n",
       "      <td>...</td>\n",
       "      <td>3.0</td>\n",
       "      <td>5</td>\n",
       "      <td>1</td>\n",
       "      <td>3</td>\n",
       "      <td>2</td>\n",
       "      <td>3</td>\n",
       "      <td>4</td>\n",
       "      <td>3</td>\n",
       "      <td>3</td>\n",
       "      <td>4316715.0</td>\n",
       "    </tr>\n",
       "  </tbody>\n",
       "</table>\n",
       "<p>5 rows × 42 columns</p>\n",
       "</div>"
      ],
      "text/plain": [
       "   Open Date        City  City Group Type  P1   P2   P3   P4  P5  P6  ...  \\\n",
       "0 1999-07-17    İstanbul  Big Cities   IL   4  5.0  4.0  4.0   2   2  ...   \n",
       "1 2008-02-14      Ankara  Big Cities   FC   4  5.0  4.0  4.0   1   2  ...   \n",
       "2 2013-03-09  Diyarbakır       Other   IL   2  4.0  2.0  5.0   2   3  ...   \n",
       "3 2012-02-02       Tokat       Other   IL   6  4.5  6.0  6.0   4   4  ...   \n",
       "4 2009-05-09   Gaziantep       Other   IL   3  4.0  3.0  4.0   2   2  ...   \n",
       "\n",
       "   P29  P30  P31  P32  P33  P34  P35  P36  P37    revenue  \n",
       "0  3.0    5    3    4    5    5    4    3    4  5653753.0  \n",
       "1  3.0    0    0    0    0    0    0    0    0  6923131.0  \n",
       "2  3.0    0    0    0    0    0    0    0    0  2055379.0  \n",
       "3  7.5   25   12   10    6   18   12   12    6  2675511.0  \n",
       "4  3.0    5    1    3    2    3    4    3    3  4316715.0  \n",
       "\n",
       "[5 rows x 42 columns]"
      ]
     },
     "execution_count": 575,
     "metadata": {},
     "output_type": "execute_result"
    }
   ],
   "source": [
    "train_data.head()"
   ]
  },
  {
   "cell_type": "markdown",
   "metadata": {},
   "source": [
    "# Feature engineering"
   ]
  },
  {
   "cell_type": "code",
   "execution_count": 576,
   "metadata": {},
   "outputs": [],
   "source": [
    "train_data['current_data']= pd.to_datetime('2020-04-20')"
   ]
  },
  {
   "cell_type": "code",
   "execution_count": 577,
   "metadata": {},
   "outputs": [],
   "source": [
    "train_data[\"total_days\"]=train_data['current_data'].sub(train_data['Open Date'], axis=0)"
   ]
  },
  {
   "cell_type": "code",
   "execution_count": 578,
   "metadata": {},
   "outputs": [],
   "source": [
    "train_data[\"total_days\"] = train_data[\"total_days\"] / np.timedelta64(1, 'D')"
   ]
  },
  {
   "cell_type": "code",
   "execution_count": 579,
   "metadata": {},
   "outputs": [],
   "source": [
    "train_data.drop(\"current_data\",axis=1,inplace=True)\n",
    "train_data.drop(\"Open Date\",axis=1,inplace=True)\n"
   ]
  },
  {
   "cell_type": "code",
   "execution_count": 580,
   "metadata": {},
   "outputs": [],
   "source": [
    "test_data['current_data']= pd.to_datetime('2020-04-20')"
   ]
  },
  {
   "cell_type": "code",
   "execution_count": 581,
   "metadata": {},
   "outputs": [],
   "source": [
    "test_data[\"total_days\"]=test_data['current_data'].sub(test_data['Open Date'], axis=0)"
   ]
  },
  {
   "cell_type": "code",
   "execution_count": 582,
   "metadata": {},
   "outputs": [],
   "source": [
    "test_data[\"total_days\"] = test_data[\"total_days\"] / np.timedelta64(1, 'D')"
   ]
  },
  {
   "cell_type": "code",
   "execution_count": 583,
   "metadata": {},
   "outputs": [],
   "source": [
    "test_data.drop(\"current_data\",axis=1,inplace=True)\n",
    "test_data.drop(\"Open Date\",axis=1,inplace=True)\n"
   ]
  },
  {
   "cell_type": "code",
   "execution_count": null,
   "metadata": {},
   "outputs": [],
   "source": []
  },
  {
   "cell_type": "code",
   "execution_count": 54,
   "metadata": {},
   "outputs": [
    {
     "data": {
      "application/vnd.plotly.v1+json": {
       "config": {
        "linkText": "Export to plot.ly",
        "plotlyServerURL": "https://plot.ly",
        "showLink": false
       },
       "data": [
        {
         "marker": {
          "color": "rgba(17, 157, 255, 0.6)",
          "size": 10
         },
         "mode": "markers",
         "type": "scatter",
         "x": [
          7583,
          4449,
          2599,
          3000,
          3999,
          3720,
          3479,
          3226,
          3523,
          3078,
          2446,
          2890,
          2608,
          3474,
          3035,
          2995,
          7409,
          3816,
          2921,
          3170,
          3526,
          2277,
          5042,
          3974,
          3865,
          3041,
          3709,
          7499,
          8118,
          4938,
          4158,
          2667,
          4111,
          2554,
          2952,
          8748,
          4364,
          3528,
          3380,
          4041,
          3358,
          3976,
          3128,
          3861,
          5668,
          3000,
          3161,
          3771,
          3043,
          4402,
          3642,
          3086,
          2351,
          2579,
          7625,
          4269,
          2592,
          4321,
          2931,
          4524,
          2911,
          4343,
          3444,
          2450,
          7952,
          2312,
          3754,
          3338,
          3688,
          3156,
          4893,
          4884,
          3911,
          3121,
          3063,
          5301,
          4164,
          2369,
          2760,
          3738,
          3839,
          5239,
          3709,
          7922,
          3846,
          7409,
          3191,
          4452,
          2476,
          3997,
          2447,
          4688,
          6380,
          2745,
          3178,
          2873,
          3067,
          4102,
          3328,
          7429,
          4595,
          2780,
          5700,
          3058,
          4837,
          4419,
          4327,
          3277,
          2842,
          4622,
          2763,
          2810,
          8073,
          4881,
          4153,
          2908,
          2943,
          5228,
          3769,
          2299,
          3168,
          5637,
          8411,
          3089,
          5359,
          3519,
          4292,
          4609,
          3111,
          4820,
          3096,
          6375,
          4317,
          4939,
          5035,
          3461,
          3884
         ],
         "y": [
          5653753,
          6923131,
          2055379,
          2675511,
          4316715,
          5017319,
          5166635,
          4491607,
          4952497,
          5444227,
          3745135,
          5161370,
          1734634,
          4807746,
          1999097,
          3218918,
          19696939,
          8213524,
          5337526,
          2021934,
          5525735,
          1149870,
          3956086,
          2999068,
          8904084,
          3778621,
          2267425,
          5435276,
          4705945,
          3447890,
          3008199,
          2058644,
          3261924,
          2371202,
          4100886,
          3903884,
          3028267,
          2740687,
          5461700,
          3818055,
          6836483,
          4554237,
          4952255,
          2732645,
          4264176,
          3752885,
          4250758,
          7865428,
          7201784,
          8630682,
          2156098,
          3273041,
          1763231,
          5595267,
          4651866,
          6941173,
          2390534,
          3258837,
          3004429,
          3600467,
          3164972,
          4350573,
          5286212,
          1619683,
          2551252,
          1756069,
          1882131,
          4052733,
          3836721,
          3452382,
          3982767,
          4136425,
          2525375,
          3347767,
          5500818,
          16549064,
          4590423,
          1904842,
          3871344,
          6313221,
          3727364,
          4066618,
          3807496,
          5966193,
          4250553,
          7495092,
          3351383,
          5906596,
          2025297,
          2364478,
          3426169,
          2083447,
          6782425,
          3410878,
          3753720,
          1270499,
          6412623,
          6694797,
          2344689,
          13575224,
          9652350,
          4758476,
          2738052,
          4429512,
          4467728,
          2792031,
          4888774,
          3248660,
          3570392,
          4219263,
          2954086,
          2993069,
          3784230,
          2097022,
          4155435,
          4882985,
          8894598,
          2018785,
          1847826,
          3780019,
          4067566,
          3445076,
          4286645,
          4263629,
          3810007,
          4780607,
          4015749,
          7592272,
          2383840,
          3939804,
          3376145,
          3199619,
          5787594,
          9262754,
          2544857,
          7217634,
          6363241
         ]
        }
       ],
       "layout": {
        "template": {
         "data": {
          "bar": [
           {
            "error_x": {
             "color": "#2a3f5f"
            },
            "error_y": {
             "color": "#2a3f5f"
            },
            "marker": {
             "line": {
              "color": "#E5ECF6",
              "width": 0.5
             }
            },
            "type": "bar"
           }
          ],
          "barpolar": [
           {
            "marker": {
             "line": {
              "color": "#E5ECF6",
              "width": 0.5
             }
            },
            "type": "barpolar"
           }
          ],
          "carpet": [
           {
            "aaxis": {
             "endlinecolor": "#2a3f5f",
             "gridcolor": "white",
             "linecolor": "white",
             "minorgridcolor": "white",
             "startlinecolor": "#2a3f5f"
            },
            "baxis": {
             "endlinecolor": "#2a3f5f",
             "gridcolor": "white",
             "linecolor": "white",
             "minorgridcolor": "white",
             "startlinecolor": "#2a3f5f"
            },
            "type": "carpet"
           }
          ],
          "choropleth": [
           {
            "colorbar": {
             "outlinewidth": 0,
             "ticks": ""
            },
            "type": "choropleth"
           }
          ],
          "contour": [
           {
            "colorbar": {
             "outlinewidth": 0,
             "ticks": ""
            },
            "colorscale": [
             [
              0,
              "#0d0887"
             ],
             [
              0.1111111111111111,
              "#46039f"
             ],
             [
              0.2222222222222222,
              "#7201a8"
             ],
             [
              0.3333333333333333,
              "#9c179e"
             ],
             [
              0.4444444444444444,
              "#bd3786"
             ],
             [
              0.5555555555555556,
              "#d8576b"
             ],
             [
              0.6666666666666666,
              "#ed7953"
             ],
             [
              0.7777777777777778,
              "#fb9f3a"
             ],
             [
              0.8888888888888888,
              "#fdca26"
             ],
             [
              1,
              "#f0f921"
             ]
            ],
            "type": "contour"
           }
          ],
          "contourcarpet": [
           {
            "colorbar": {
             "outlinewidth": 0,
             "ticks": ""
            },
            "type": "contourcarpet"
           }
          ],
          "heatmap": [
           {
            "colorbar": {
             "outlinewidth": 0,
             "ticks": ""
            },
            "colorscale": [
             [
              0,
              "#0d0887"
             ],
             [
              0.1111111111111111,
              "#46039f"
             ],
             [
              0.2222222222222222,
              "#7201a8"
             ],
             [
              0.3333333333333333,
              "#9c179e"
             ],
             [
              0.4444444444444444,
              "#bd3786"
             ],
             [
              0.5555555555555556,
              "#d8576b"
             ],
             [
              0.6666666666666666,
              "#ed7953"
             ],
             [
              0.7777777777777778,
              "#fb9f3a"
             ],
             [
              0.8888888888888888,
              "#fdca26"
             ],
             [
              1,
              "#f0f921"
             ]
            ],
            "type": "heatmap"
           }
          ],
          "heatmapgl": [
           {
            "colorbar": {
             "outlinewidth": 0,
             "ticks": ""
            },
            "colorscale": [
             [
              0,
              "#0d0887"
             ],
             [
              0.1111111111111111,
              "#46039f"
             ],
             [
              0.2222222222222222,
              "#7201a8"
             ],
             [
              0.3333333333333333,
              "#9c179e"
             ],
             [
              0.4444444444444444,
              "#bd3786"
             ],
             [
              0.5555555555555556,
              "#d8576b"
             ],
             [
              0.6666666666666666,
              "#ed7953"
             ],
             [
              0.7777777777777778,
              "#fb9f3a"
             ],
             [
              0.8888888888888888,
              "#fdca26"
             ],
             [
              1,
              "#f0f921"
             ]
            ],
            "type": "heatmapgl"
           }
          ],
          "histogram": [
           {
            "marker": {
             "colorbar": {
              "outlinewidth": 0,
              "ticks": ""
             }
            },
            "type": "histogram"
           }
          ],
          "histogram2d": [
           {
            "colorbar": {
             "outlinewidth": 0,
             "ticks": ""
            },
            "colorscale": [
             [
              0,
              "#0d0887"
             ],
             [
              0.1111111111111111,
              "#46039f"
             ],
             [
              0.2222222222222222,
              "#7201a8"
             ],
             [
              0.3333333333333333,
              "#9c179e"
             ],
             [
              0.4444444444444444,
              "#bd3786"
             ],
             [
              0.5555555555555556,
              "#d8576b"
             ],
             [
              0.6666666666666666,
              "#ed7953"
             ],
             [
              0.7777777777777778,
              "#fb9f3a"
             ],
             [
              0.8888888888888888,
              "#fdca26"
             ],
             [
              1,
              "#f0f921"
             ]
            ],
            "type": "histogram2d"
           }
          ],
          "histogram2dcontour": [
           {
            "colorbar": {
             "outlinewidth": 0,
             "ticks": ""
            },
            "colorscale": [
             [
              0,
              "#0d0887"
             ],
             [
              0.1111111111111111,
              "#46039f"
             ],
             [
              0.2222222222222222,
              "#7201a8"
             ],
             [
              0.3333333333333333,
              "#9c179e"
             ],
             [
              0.4444444444444444,
              "#bd3786"
             ],
             [
              0.5555555555555556,
              "#d8576b"
             ],
             [
              0.6666666666666666,
              "#ed7953"
             ],
             [
              0.7777777777777778,
              "#fb9f3a"
             ],
             [
              0.8888888888888888,
              "#fdca26"
             ],
             [
              1,
              "#f0f921"
             ]
            ],
            "type": "histogram2dcontour"
           }
          ],
          "mesh3d": [
           {
            "colorbar": {
             "outlinewidth": 0,
             "ticks": ""
            },
            "type": "mesh3d"
           }
          ],
          "parcoords": [
           {
            "line": {
             "colorbar": {
              "outlinewidth": 0,
              "ticks": ""
             }
            },
            "type": "parcoords"
           }
          ],
          "pie": [
           {
            "automargin": true,
            "type": "pie"
           }
          ],
          "scatter": [
           {
            "marker": {
             "colorbar": {
              "outlinewidth": 0,
              "ticks": ""
             }
            },
            "type": "scatter"
           }
          ],
          "scatter3d": [
           {
            "line": {
             "colorbar": {
              "outlinewidth": 0,
              "ticks": ""
             }
            },
            "marker": {
             "colorbar": {
              "outlinewidth": 0,
              "ticks": ""
             }
            },
            "type": "scatter3d"
           }
          ],
          "scattercarpet": [
           {
            "marker": {
             "colorbar": {
              "outlinewidth": 0,
              "ticks": ""
             }
            },
            "type": "scattercarpet"
           }
          ],
          "scattergeo": [
           {
            "marker": {
             "colorbar": {
              "outlinewidth": 0,
              "ticks": ""
             }
            },
            "type": "scattergeo"
           }
          ],
          "scattergl": [
           {
            "marker": {
             "colorbar": {
              "outlinewidth": 0,
              "ticks": ""
             }
            },
            "type": "scattergl"
           }
          ],
          "scattermapbox": [
           {
            "marker": {
             "colorbar": {
              "outlinewidth": 0,
              "ticks": ""
             }
            },
            "type": "scattermapbox"
           }
          ],
          "scatterpolar": [
           {
            "marker": {
             "colorbar": {
              "outlinewidth": 0,
              "ticks": ""
             }
            },
            "type": "scatterpolar"
           }
          ],
          "scatterpolargl": [
           {
            "marker": {
             "colorbar": {
              "outlinewidth": 0,
              "ticks": ""
             }
            },
            "type": "scatterpolargl"
           }
          ],
          "scatterternary": [
           {
            "marker": {
             "colorbar": {
              "outlinewidth": 0,
              "ticks": ""
             }
            },
            "type": "scatterternary"
           }
          ],
          "surface": [
           {
            "colorbar": {
             "outlinewidth": 0,
             "ticks": ""
            },
            "colorscale": [
             [
              0,
              "#0d0887"
             ],
             [
              0.1111111111111111,
              "#46039f"
             ],
             [
              0.2222222222222222,
              "#7201a8"
             ],
             [
              0.3333333333333333,
              "#9c179e"
             ],
             [
              0.4444444444444444,
              "#bd3786"
             ],
             [
              0.5555555555555556,
              "#d8576b"
             ],
             [
              0.6666666666666666,
              "#ed7953"
             ],
             [
              0.7777777777777778,
              "#fb9f3a"
             ],
             [
              0.8888888888888888,
              "#fdca26"
             ],
             [
              1,
              "#f0f921"
             ]
            ],
            "type": "surface"
           }
          ],
          "table": [
           {
            "cells": {
             "fill": {
              "color": "#EBF0F8"
             },
             "line": {
              "color": "white"
             }
            },
            "header": {
             "fill": {
              "color": "#C8D4E3"
             },
             "line": {
              "color": "white"
             }
            },
            "type": "table"
           }
          ]
         },
         "layout": {
          "annotationdefaults": {
           "arrowcolor": "#2a3f5f",
           "arrowhead": 0,
           "arrowwidth": 1
          },
          "coloraxis": {
           "colorbar": {
            "outlinewidth": 0,
            "ticks": ""
           }
          },
          "colorscale": {
           "diverging": [
            [
             0,
             "#8e0152"
            ],
            [
             0.1,
             "#c51b7d"
            ],
            [
             0.2,
             "#de77ae"
            ],
            [
             0.3,
             "#f1b6da"
            ],
            [
             0.4,
             "#fde0ef"
            ],
            [
             0.5,
             "#f7f7f7"
            ],
            [
             0.6,
             "#e6f5d0"
            ],
            [
             0.7,
             "#b8e186"
            ],
            [
             0.8,
             "#7fbc41"
            ],
            [
             0.9,
             "#4d9221"
            ],
            [
             1,
             "#276419"
            ]
           ],
           "sequential": [
            [
             0,
             "#0d0887"
            ],
            [
             0.1111111111111111,
             "#46039f"
            ],
            [
             0.2222222222222222,
             "#7201a8"
            ],
            [
             0.3333333333333333,
             "#9c179e"
            ],
            [
             0.4444444444444444,
             "#bd3786"
            ],
            [
             0.5555555555555556,
             "#d8576b"
            ],
            [
             0.6666666666666666,
             "#ed7953"
            ],
            [
             0.7777777777777778,
             "#fb9f3a"
            ],
            [
             0.8888888888888888,
             "#fdca26"
            ],
            [
             1,
             "#f0f921"
            ]
           ],
           "sequentialminus": [
            [
             0,
             "#0d0887"
            ],
            [
             0.1111111111111111,
             "#46039f"
            ],
            [
             0.2222222222222222,
             "#7201a8"
            ],
            [
             0.3333333333333333,
             "#9c179e"
            ],
            [
             0.4444444444444444,
             "#bd3786"
            ],
            [
             0.5555555555555556,
             "#d8576b"
            ],
            [
             0.6666666666666666,
             "#ed7953"
            ],
            [
             0.7777777777777778,
             "#fb9f3a"
            ],
            [
             0.8888888888888888,
             "#fdca26"
            ],
            [
             1,
             "#f0f921"
            ]
           ]
          },
          "colorway": [
           "#636efa",
           "#EF553B",
           "#00cc96",
           "#ab63fa",
           "#FFA15A",
           "#19d3f3",
           "#FF6692",
           "#B6E880",
           "#FF97FF",
           "#FECB52"
          ],
          "font": {
           "color": "#2a3f5f"
          },
          "geo": {
           "bgcolor": "white",
           "lakecolor": "white",
           "landcolor": "#E5ECF6",
           "showlakes": true,
           "showland": true,
           "subunitcolor": "white"
          },
          "hoverlabel": {
           "align": "left"
          },
          "hovermode": "closest",
          "mapbox": {
           "style": "light"
          },
          "paper_bgcolor": "white",
          "plot_bgcolor": "#E5ECF6",
          "polar": {
           "angularaxis": {
            "gridcolor": "white",
            "linecolor": "white",
            "ticks": ""
           },
           "bgcolor": "#E5ECF6",
           "radialaxis": {
            "gridcolor": "white",
            "linecolor": "white",
            "ticks": ""
           }
          },
          "scene": {
           "xaxis": {
            "backgroundcolor": "#E5ECF6",
            "gridcolor": "white",
            "gridwidth": 2,
            "linecolor": "white",
            "showbackground": true,
            "ticks": "",
            "zerolinecolor": "white"
           },
           "yaxis": {
            "backgroundcolor": "#E5ECF6",
            "gridcolor": "white",
            "gridwidth": 2,
            "linecolor": "white",
            "showbackground": true,
            "ticks": "",
            "zerolinecolor": "white"
           },
           "zaxis": {
            "backgroundcolor": "#E5ECF6",
            "gridcolor": "white",
            "gridwidth": 2,
            "linecolor": "white",
            "showbackground": true,
            "ticks": "",
            "zerolinecolor": "white"
           }
          },
          "shapedefaults": {
           "line": {
            "color": "#2a3f5f"
           }
          },
          "ternary": {
           "aaxis": {
            "gridcolor": "white",
            "linecolor": "white",
            "ticks": ""
           },
           "baxis": {
            "gridcolor": "white",
            "linecolor": "white",
            "ticks": ""
           },
           "bgcolor": "#E5ECF6",
           "caxis": {
            "gridcolor": "white",
            "linecolor": "white",
            "ticks": ""
           }
          },
          "title": {
           "x": 0.05
          },
          "xaxis": {
           "automargin": true,
           "gridcolor": "white",
           "linecolor": "white",
           "ticks": "",
           "title": {
            "standoff": 15
           },
           "zerolinecolor": "white",
           "zerolinewidth": 2
          },
          "yaxis": {
           "automargin": true,
           "gridcolor": "white",
           "linecolor": "white",
           "ticks": "",
           "title": {
            "standoff": 15
           },
           "zerolinecolor": "white",
           "zerolinewidth": 2
          }
         }
        },
        "title": {
         "text": "Scatter plot"
        }
       }
      },
      "text/html": [
       "<div>\n",
       "        \n",
       "        \n",
       "            <div id=\"4c166c14-41e5-4017-8ff8-a58241d9c8eb\" class=\"plotly-graph-div\" style=\"height:525px; width:100%;\"></div>\n",
       "            <script type=\"text/javascript\">\n",
       "                require([\"plotly\"], function(Plotly) {\n",
       "                    window.PLOTLYENV=window.PLOTLYENV || {};\n",
       "                    \n",
       "                if (document.getElementById(\"4c166c14-41e5-4017-8ff8-a58241d9c8eb\")) {\n",
       "                    Plotly.newPlot(\n",
       "                        '4c166c14-41e5-4017-8ff8-a58241d9c8eb',\n",
       "                        [{\"marker\": {\"color\": \"rgba(17, 157, 255, 0.6)\", \"size\": 10}, \"mode\": \"markers\", \"type\": \"scatter\", \"x\": [7583.0, 4449.0, 2599.0, 3000.0, 3999.0, 3720.0, 3479.0, 3226.0, 3523.0, 3078.0, 2446.0, 2890.0, 2608.0, 3474.0, 3035.0, 2995.0, 7409.0, 3816.0, 2921.0, 3170.0, 3526.0, 2277.0, 5042.0, 3974.0, 3865.0, 3041.0, 3709.0, 7499.0, 8118.0, 4938.0, 4158.0, 2667.0, 4111.0, 2554.0, 2952.0, 8748.0, 4364.0, 3528.0, 3380.0, 4041.0, 3358.0, 3976.0, 3128.0, 3861.0, 5668.0, 3000.0, 3161.0, 3771.0, 3043.0, 4402.0, 3642.0, 3086.0, 2351.0, 2579.0, 7625.0, 4269.0, 2592.0, 4321.0, 2931.0, 4524.0, 2911.0, 4343.0, 3444.0, 2450.0, 7952.0, 2312.0, 3754.0, 3338.0, 3688.0, 3156.0, 4893.0, 4884.0, 3911.0, 3121.0, 3063.0, 5301.0, 4164.0, 2369.0, 2760.0, 3738.0, 3839.0, 5239.0, 3709.0, 7922.0, 3846.0, 7409.0, 3191.0, 4452.0, 2476.0, 3997.0, 2447.0, 4688.0, 6380.0, 2745.0, 3178.0, 2873.0, 3067.0, 4102.0, 3328.0, 7429.0, 4595.0, 2780.0, 5700.0, 3058.0, 4837.0, 4419.0, 4327.0, 3277.0, 2842.0, 4622.0, 2763.0, 2810.0, 8073.0, 4881.0, 4153.0, 2908.0, 2943.0, 5228.0, 3769.0, 2299.0, 3168.0, 5637.0, 8411.0, 3089.0, 5359.0, 3519.0, 4292.0, 4609.0, 3111.0, 4820.0, 3096.0, 6375.0, 4317.0, 4939.0, 5035.0, 3461.0, 3884.0], \"y\": [5653753.0, 6923131.0, 2055379.0, 2675511.0, 4316715.0, 5017319.0, 5166635.0, 4491607.0, 4952497.0, 5444227.0, 3745135.0, 5161370.0, 1734634.0, 4807746.0, 1999097.0, 3218918.0, 19696939.0, 8213524.0, 5337526.0, 2021934.0, 5525735.0, 1149870.0, 3956086.0, 2999068.0, 8904084.0, 3778621.0, 2267425.0, 5435276.0, 4705945.0, 3447890.0, 3008199.0, 2058644.0, 3261924.0, 2371202.0, 4100886.0, 3903884.0, 3028267.0, 2740687.0, 5461700.0, 3818055.0, 6836483.0, 4554237.0, 4952255.0, 2732645.0, 4264176.0, 3752885.0, 4250758.0, 7865428.0, 7201784.0, 8630682.0, 2156098.0, 3273041.0, 1763231.0, 5595267.0, 4651866.0, 6941173.0, 2390534.0, 3258837.0, 3004429.0, 3600467.0, 3164972.0, 4350573.0, 5286212.0, 1619683.0, 2551252.0, 1756069.0, 1882131.0, 4052733.0, 3836721.0, 3452382.0, 3982767.0, 4136425.0, 2525375.0, 3347767.0, 5500818.0, 16549064.0, 4590423.0, 1904842.0, 3871344.0, 6313221.0, 3727364.0, 4066618.0, 3807496.0, 5966193.0, 4250553.0, 7495092.0, 3351383.0, 5906596.0, 2025297.0, 2364478.0, 3426169.0, 2083447.0, 6782425.0, 3410878.0, 3753720.0, 1270499.0, 6412623.0, 6694797.0, 2344689.0, 13575224.0, 9652350.0, 4758476.0, 2738052.0, 4429512.0, 4467728.0, 2792031.0, 4888774.0, 3248660.0, 3570392.0, 4219263.0, 2954086.0, 2993069.0, 3784230.0, 2097022.0, 4155435.0, 4882985.0, 8894598.0, 2018785.0, 1847826.0, 3780019.0, 4067566.0, 3445076.0, 4286645.0, 4263629.0, 3810007.0, 4780607.0, 4015749.0, 7592272.0, 2383840.0, 3939804.0, 3376145.0, 3199619.0, 5787594.0, 9262754.0, 2544857.0, 7217634.0, 6363241.0]}],\n",
       "                        {\"template\": {\"data\": {\"bar\": [{\"error_x\": {\"color\": \"#2a3f5f\"}, \"error_y\": {\"color\": \"#2a3f5f\"}, \"marker\": {\"line\": {\"color\": \"#E5ECF6\", \"width\": 0.5}}, \"type\": \"bar\"}], \"barpolar\": [{\"marker\": {\"line\": {\"color\": \"#E5ECF6\", \"width\": 0.5}}, \"type\": \"barpolar\"}], \"carpet\": [{\"aaxis\": {\"endlinecolor\": \"#2a3f5f\", \"gridcolor\": \"white\", \"linecolor\": \"white\", \"minorgridcolor\": \"white\", \"startlinecolor\": \"#2a3f5f\"}, \"baxis\": {\"endlinecolor\": \"#2a3f5f\", \"gridcolor\": \"white\", \"linecolor\": \"white\", \"minorgridcolor\": \"white\", \"startlinecolor\": \"#2a3f5f\"}, \"type\": \"carpet\"}], \"choropleth\": [{\"colorbar\": {\"outlinewidth\": 0, \"ticks\": \"\"}, \"type\": \"choropleth\"}], \"contour\": [{\"colorbar\": {\"outlinewidth\": 0, \"ticks\": \"\"}, \"colorscale\": [[0.0, \"#0d0887\"], [0.1111111111111111, \"#46039f\"], [0.2222222222222222, \"#7201a8\"], [0.3333333333333333, \"#9c179e\"], [0.4444444444444444, \"#bd3786\"], [0.5555555555555556, \"#d8576b\"], [0.6666666666666666, \"#ed7953\"], [0.7777777777777778, \"#fb9f3a\"], [0.8888888888888888, \"#fdca26\"], [1.0, \"#f0f921\"]], \"type\": \"contour\"}], \"contourcarpet\": [{\"colorbar\": {\"outlinewidth\": 0, \"ticks\": \"\"}, \"type\": \"contourcarpet\"}], \"heatmap\": [{\"colorbar\": {\"outlinewidth\": 0, \"ticks\": \"\"}, \"colorscale\": [[0.0, \"#0d0887\"], [0.1111111111111111, \"#46039f\"], [0.2222222222222222, \"#7201a8\"], [0.3333333333333333, \"#9c179e\"], [0.4444444444444444, \"#bd3786\"], [0.5555555555555556, \"#d8576b\"], [0.6666666666666666, \"#ed7953\"], [0.7777777777777778, \"#fb9f3a\"], [0.8888888888888888, \"#fdca26\"], [1.0, \"#f0f921\"]], \"type\": \"heatmap\"}], \"heatmapgl\": [{\"colorbar\": {\"outlinewidth\": 0, \"ticks\": \"\"}, \"colorscale\": [[0.0, \"#0d0887\"], [0.1111111111111111, \"#46039f\"], [0.2222222222222222, \"#7201a8\"], [0.3333333333333333, \"#9c179e\"], [0.4444444444444444, \"#bd3786\"], [0.5555555555555556, \"#d8576b\"], [0.6666666666666666, \"#ed7953\"], [0.7777777777777778, \"#fb9f3a\"], [0.8888888888888888, \"#fdca26\"], [1.0, \"#f0f921\"]], \"type\": \"heatmapgl\"}], \"histogram\": [{\"marker\": {\"colorbar\": {\"outlinewidth\": 0, \"ticks\": \"\"}}, \"type\": \"histogram\"}], \"histogram2d\": [{\"colorbar\": {\"outlinewidth\": 0, \"ticks\": \"\"}, \"colorscale\": [[0.0, \"#0d0887\"], [0.1111111111111111, \"#46039f\"], [0.2222222222222222, \"#7201a8\"], [0.3333333333333333, \"#9c179e\"], [0.4444444444444444, \"#bd3786\"], [0.5555555555555556, \"#d8576b\"], [0.6666666666666666, \"#ed7953\"], [0.7777777777777778, \"#fb9f3a\"], [0.8888888888888888, \"#fdca26\"], [1.0, \"#f0f921\"]], \"type\": \"histogram2d\"}], \"histogram2dcontour\": [{\"colorbar\": {\"outlinewidth\": 0, \"ticks\": \"\"}, \"colorscale\": [[0.0, \"#0d0887\"], [0.1111111111111111, \"#46039f\"], [0.2222222222222222, \"#7201a8\"], [0.3333333333333333, \"#9c179e\"], [0.4444444444444444, \"#bd3786\"], [0.5555555555555556, \"#d8576b\"], [0.6666666666666666, \"#ed7953\"], [0.7777777777777778, \"#fb9f3a\"], [0.8888888888888888, \"#fdca26\"], [1.0, \"#f0f921\"]], \"type\": \"histogram2dcontour\"}], \"mesh3d\": [{\"colorbar\": {\"outlinewidth\": 0, \"ticks\": \"\"}, \"type\": \"mesh3d\"}], \"parcoords\": [{\"line\": {\"colorbar\": {\"outlinewidth\": 0, \"ticks\": \"\"}}, \"type\": \"parcoords\"}], \"pie\": [{\"automargin\": true, \"type\": \"pie\"}], \"scatter\": [{\"marker\": {\"colorbar\": {\"outlinewidth\": 0, \"ticks\": \"\"}}, \"type\": \"scatter\"}], \"scatter3d\": [{\"line\": {\"colorbar\": {\"outlinewidth\": 0, \"ticks\": \"\"}}, \"marker\": {\"colorbar\": {\"outlinewidth\": 0, \"ticks\": \"\"}}, \"type\": \"scatter3d\"}], \"scattercarpet\": [{\"marker\": {\"colorbar\": {\"outlinewidth\": 0, \"ticks\": \"\"}}, \"type\": \"scattercarpet\"}], \"scattergeo\": [{\"marker\": {\"colorbar\": {\"outlinewidth\": 0, \"ticks\": \"\"}}, \"type\": \"scattergeo\"}], \"scattergl\": [{\"marker\": {\"colorbar\": {\"outlinewidth\": 0, \"ticks\": \"\"}}, \"type\": \"scattergl\"}], \"scattermapbox\": [{\"marker\": {\"colorbar\": {\"outlinewidth\": 0, \"ticks\": \"\"}}, \"type\": \"scattermapbox\"}], \"scatterpolar\": [{\"marker\": {\"colorbar\": {\"outlinewidth\": 0, \"ticks\": \"\"}}, \"type\": \"scatterpolar\"}], \"scatterpolargl\": [{\"marker\": {\"colorbar\": {\"outlinewidth\": 0, \"ticks\": \"\"}}, \"type\": \"scatterpolargl\"}], \"scatterternary\": [{\"marker\": {\"colorbar\": {\"outlinewidth\": 0, \"ticks\": \"\"}}, \"type\": \"scatterternary\"}], \"surface\": [{\"colorbar\": {\"outlinewidth\": 0, \"ticks\": \"\"}, \"colorscale\": [[0.0, \"#0d0887\"], [0.1111111111111111, \"#46039f\"], [0.2222222222222222, \"#7201a8\"], [0.3333333333333333, \"#9c179e\"], [0.4444444444444444, \"#bd3786\"], [0.5555555555555556, \"#d8576b\"], [0.6666666666666666, \"#ed7953\"], [0.7777777777777778, \"#fb9f3a\"], [0.8888888888888888, \"#fdca26\"], [1.0, \"#f0f921\"]], \"type\": \"surface\"}], \"table\": [{\"cells\": {\"fill\": {\"color\": \"#EBF0F8\"}, \"line\": {\"color\": \"white\"}}, \"header\": {\"fill\": {\"color\": \"#C8D4E3\"}, \"line\": {\"color\": \"white\"}}, \"type\": \"table\"}]}, \"layout\": {\"annotationdefaults\": {\"arrowcolor\": \"#2a3f5f\", \"arrowhead\": 0, \"arrowwidth\": 1}, \"coloraxis\": {\"colorbar\": {\"outlinewidth\": 0, \"ticks\": \"\"}}, \"colorscale\": {\"diverging\": [[0, \"#8e0152\"], [0.1, \"#c51b7d\"], [0.2, \"#de77ae\"], [0.3, \"#f1b6da\"], [0.4, \"#fde0ef\"], [0.5, \"#f7f7f7\"], [0.6, \"#e6f5d0\"], [0.7, \"#b8e186\"], [0.8, \"#7fbc41\"], [0.9, \"#4d9221\"], [1, \"#276419\"]], \"sequential\": [[0.0, \"#0d0887\"], [0.1111111111111111, \"#46039f\"], [0.2222222222222222, \"#7201a8\"], [0.3333333333333333, \"#9c179e\"], [0.4444444444444444, \"#bd3786\"], [0.5555555555555556, \"#d8576b\"], [0.6666666666666666, \"#ed7953\"], [0.7777777777777778, \"#fb9f3a\"], [0.8888888888888888, \"#fdca26\"], [1.0, \"#f0f921\"]], \"sequentialminus\": [[0.0, \"#0d0887\"], [0.1111111111111111, \"#46039f\"], [0.2222222222222222, \"#7201a8\"], [0.3333333333333333, \"#9c179e\"], [0.4444444444444444, \"#bd3786\"], [0.5555555555555556, \"#d8576b\"], [0.6666666666666666, \"#ed7953\"], [0.7777777777777778, \"#fb9f3a\"], [0.8888888888888888, \"#fdca26\"], [1.0, \"#f0f921\"]]}, \"colorway\": [\"#636efa\", \"#EF553B\", \"#00cc96\", \"#ab63fa\", \"#FFA15A\", \"#19d3f3\", \"#FF6692\", \"#B6E880\", \"#FF97FF\", \"#FECB52\"], \"font\": {\"color\": \"#2a3f5f\"}, \"geo\": {\"bgcolor\": \"white\", \"lakecolor\": \"white\", \"landcolor\": \"#E5ECF6\", \"showlakes\": true, \"showland\": true, \"subunitcolor\": \"white\"}, \"hoverlabel\": {\"align\": \"left\"}, \"hovermode\": \"closest\", \"mapbox\": {\"style\": \"light\"}, \"paper_bgcolor\": \"white\", \"plot_bgcolor\": \"#E5ECF6\", \"polar\": {\"angularaxis\": {\"gridcolor\": \"white\", \"linecolor\": \"white\", \"ticks\": \"\"}, \"bgcolor\": \"#E5ECF6\", \"radialaxis\": {\"gridcolor\": \"white\", \"linecolor\": \"white\", \"ticks\": \"\"}}, \"scene\": {\"xaxis\": {\"backgroundcolor\": \"#E5ECF6\", \"gridcolor\": \"white\", \"gridwidth\": 2, \"linecolor\": \"white\", \"showbackground\": true, \"ticks\": \"\", \"zerolinecolor\": \"white\"}, \"yaxis\": {\"backgroundcolor\": \"#E5ECF6\", \"gridcolor\": \"white\", \"gridwidth\": 2, \"linecolor\": \"white\", \"showbackground\": true, \"ticks\": \"\", \"zerolinecolor\": \"white\"}, \"zaxis\": {\"backgroundcolor\": \"#E5ECF6\", \"gridcolor\": \"white\", \"gridwidth\": 2, \"linecolor\": \"white\", \"showbackground\": true, \"ticks\": \"\", \"zerolinecolor\": \"white\"}}, \"shapedefaults\": {\"line\": {\"color\": \"#2a3f5f\"}}, \"ternary\": {\"aaxis\": {\"gridcolor\": \"white\", \"linecolor\": \"white\", \"ticks\": \"\"}, \"baxis\": {\"gridcolor\": \"white\", \"linecolor\": \"white\", \"ticks\": \"\"}, \"bgcolor\": \"#E5ECF6\", \"caxis\": {\"gridcolor\": \"white\", \"linecolor\": \"white\", \"ticks\": \"\"}}, \"title\": {\"x\": 0.05}, \"xaxis\": {\"automargin\": true, \"gridcolor\": \"white\", \"linecolor\": \"white\", \"ticks\": \"\", \"title\": {\"standoff\": 15}, \"zerolinecolor\": \"white\", \"zerolinewidth\": 2}, \"yaxis\": {\"automargin\": true, \"gridcolor\": \"white\", \"linecolor\": \"white\", \"ticks\": \"\", \"title\": {\"standoff\": 15}, \"zerolinecolor\": \"white\", \"zerolinewidth\": 2}}}, \"title\": {\"text\": \"Scatter plot\"}},\n",
       "                        {\"responsive\": true}\n",
       "                    ).then(function(){\n",
       "                            \n",
       "var gd = document.getElementById('4c166c14-41e5-4017-8ff8-a58241d9c8eb');\n",
       "var x = new MutationObserver(function (mutations, observer) {{\n",
       "        var display = window.getComputedStyle(gd).display;\n",
       "        if (!display || display === 'none') {{\n",
       "            console.log([gd, 'removed!']);\n",
       "            Plotly.purge(gd);\n",
       "            observer.disconnect();\n",
       "        }}\n",
       "}});\n",
       "\n",
       "// Listen for the removal of the full notebook cells\n",
       "var notebookContainer = gd.closest('#notebook-container');\n",
       "if (notebookContainer) {{\n",
       "    x.observe(notebookContainer, {childList: true});\n",
       "}}\n",
       "\n",
       "// Listen for the clearing of the current output cell\n",
       "var outputEl = gd.closest('.output');\n",
       "if (outputEl) {{\n",
       "    x.observe(outputEl, {childList: true});\n",
       "}}\n",
       "\n",
       "                        })\n",
       "                };\n",
       "                });\n",
       "            </script>\n",
       "        </div>"
      ]
     },
     "metadata": {},
     "output_type": "display_data"
    }
   ],
   "source": [
    "data = [go.Scatter(x=train_data.total_days,      # can see positive relation between revenue and restaurant's age\n",
    "                   y=train_data.revenue,\n",
    "                   \n",
    "                   marker = dict(color = 'rgba(17, 157, 255, 0.6)', size = 10),\n",
    "                   \n",
    "                   mode = 'markers')]\n",
    "\n",
    "layout = go.Layout(title = 'Scatter plot')\n",
    "fig = go.Figure(data= data,layout=layout)\n",
    "iplot(fig)"
   ]
  },
  {
   "cell_type": "code",
   "execution_count": null,
   "metadata": {},
   "outputs": [],
   "source": []
  },
  {
   "cell_type": "markdown",
   "metadata": {},
   "source": [
    "# check multicollinearity and outliers"
   ]
  },
  {
   "cell_type": "code",
   "execution_count": 584,
   "metadata": {},
   "outputs": [],
   "source": [
    "cat_attr=list(train_data.select_dtypes(\"category\").columns)\n",
    "\n",
    "num_attr=list(train_data.columns.difference(cat_attr))\n"
   ]
  },
  {
   "cell_type": "code",
   "execution_count": 396,
   "metadata": {},
   "outputs": [],
   "source": [
    "cat_attr_test=list(test_data.select_dtypes(\"category\").columns)"
   ]
  },
  {
   "cell_type": "code",
   "execution_count": 397,
   "metadata": {},
   "outputs": [],
   "source": [
    "from statsmodels.tools.tools import add_constant\n",
    "X = add_constant(train_data)"
   ]
  },
  {
   "cell_type": "code",
   "execution_count": 398,
   "metadata": {},
   "outputs": [],
   "source": [
    "num_attr_vif=num_attr\n",
    "num_attr_vif.insert(0, \"const\")"
   ]
  },
  {
   "cell_type": "code",
   "execution_count": 399,
   "metadata": {},
   "outputs": [
    {
     "data": {
      "text/plain": [
       "list"
      ]
     },
     "execution_count": 399,
     "metadata": {},
     "output_type": "execute_result"
    }
   ],
   "source": [
    "type(num_attr_vif)"
   ]
  },
  {
   "cell_type": "code",
   "execution_count": 400,
   "metadata": {
    "scrolled": true
   },
   "outputs": [
    {
     "data": {
      "text/html": [
       "<div>\n",
       "<style scoped>\n",
       "    .dataframe tbody tr th:only-of-type {\n",
       "        vertical-align: middle;\n",
       "    }\n",
       "\n",
       "    .dataframe tbody tr th {\n",
       "        vertical-align: top;\n",
       "    }\n",
       "\n",
       "    .dataframe thead th {\n",
       "        text-align: right;\n",
       "    }\n",
       "</style>\n",
       "<table border=\"1\" class=\"dataframe\">\n",
       "  <thead>\n",
       "    <tr style=\"text-align: right;\">\n",
       "      <th></th>\n",
       "      <th>const</th>\n",
       "      <th>City</th>\n",
       "      <th>City Group</th>\n",
       "      <th>Type</th>\n",
       "      <th>P1</th>\n",
       "      <th>P2</th>\n",
       "      <th>P3</th>\n",
       "      <th>P4</th>\n",
       "      <th>P5</th>\n",
       "      <th>P6</th>\n",
       "      <th>...</th>\n",
       "      <th>P30</th>\n",
       "      <th>P31</th>\n",
       "      <th>P32</th>\n",
       "      <th>P33</th>\n",
       "      <th>P34</th>\n",
       "      <th>P35</th>\n",
       "      <th>P36</th>\n",
       "      <th>P37</th>\n",
       "      <th>revenue</th>\n",
       "      <th>total_days</th>\n",
       "    </tr>\n",
       "  </thead>\n",
       "  <tbody>\n",
       "    <tr>\n",
       "      <th>0</th>\n",
       "      <td>1.0</td>\n",
       "      <td>İstanbul</td>\n",
       "      <td>Big Cities</td>\n",
       "      <td>IL</td>\n",
       "      <td>4</td>\n",
       "      <td>5.0</td>\n",
       "      <td>4.0</td>\n",
       "      <td>4.0</td>\n",
       "      <td>2</td>\n",
       "      <td>2</td>\n",
       "      <td>...</td>\n",
       "      <td>5</td>\n",
       "      <td>3</td>\n",
       "      <td>4</td>\n",
       "      <td>5</td>\n",
       "      <td>5</td>\n",
       "      <td>4</td>\n",
       "      <td>3</td>\n",
       "      <td>4</td>\n",
       "      <td>5653753.0</td>\n",
       "      <td>7583.0</td>\n",
       "    </tr>\n",
       "    <tr>\n",
       "      <th>1</th>\n",
       "      <td>1.0</td>\n",
       "      <td>Ankara</td>\n",
       "      <td>Big Cities</td>\n",
       "      <td>FC</td>\n",
       "      <td>4</td>\n",
       "      <td>5.0</td>\n",
       "      <td>4.0</td>\n",
       "      <td>4.0</td>\n",
       "      <td>1</td>\n",
       "      <td>2</td>\n",
       "      <td>...</td>\n",
       "      <td>0</td>\n",
       "      <td>0</td>\n",
       "      <td>0</td>\n",
       "      <td>0</td>\n",
       "      <td>0</td>\n",
       "      <td>0</td>\n",
       "      <td>0</td>\n",
       "      <td>0</td>\n",
       "      <td>6923131.0</td>\n",
       "      <td>4449.0</td>\n",
       "    </tr>\n",
       "    <tr>\n",
       "      <th>2</th>\n",
       "      <td>1.0</td>\n",
       "      <td>Diyarbakır</td>\n",
       "      <td>Other</td>\n",
       "      <td>IL</td>\n",
       "      <td>2</td>\n",
       "      <td>4.0</td>\n",
       "      <td>2.0</td>\n",
       "      <td>5.0</td>\n",
       "      <td>2</td>\n",
       "      <td>3</td>\n",
       "      <td>...</td>\n",
       "      <td>0</td>\n",
       "      <td>0</td>\n",
       "      <td>0</td>\n",
       "      <td>0</td>\n",
       "      <td>0</td>\n",
       "      <td>0</td>\n",
       "      <td>0</td>\n",
       "      <td>0</td>\n",
       "      <td>2055379.0</td>\n",
       "      <td>2599.0</td>\n",
       "    </tr>\n",
       "    <tr>\n",
       "      <th>3</th>\n",
       "      <td>1.0</td>\n",
       "      <td>Tokat</td>\n",
       "      <td>Other</td>\n",
       "      <td>IL</td>\n",
       "      <td>6</td>\n",
       "      <td>4.5</td>\n",
       "      <td>6.0</td>\n",
       "      <td>6.0</td>\n",
       "      <td>4</td>\n",
       "      <td>4</td>\n",
       "      <td>...</td>\n",
       "      <td>25</td>\n",
       "      <td>12</td>\n",
       "      <td>10</td>\n",
       "      <td>6</td>\n",
       "      <td>18</td>\n",
       "      <td>12</td>\n",
       "      <td>12</td>\n",
       "      <td>6</td>\n",
       "      <td>2675511.0</td>\n",
       "      <td>3000.0</td>\n",
       "    </tr>\n",
       "    <tr>\n",
       "      <th>4</th>\n",
       "      <td>1.0</td>\n",
       "      <td>Gaziantep</td>\n",
       "      <td>Other</td>\n",
       "      <td>IL</td>\n",
       "      <td>3</td>\n",
       "      <td>4.0</td>\n",
       "      <td>3.0</td>\n",
       "      <td>4.0</td>\n",
       "      <td>2</td>\n",
       "      <td>2</td>\n",
       "      <td>...</td>\n",
       "      <td>5</td>\n",
       "      <td>1</td>\n",
       "      <td>3</td>\n",
       "      <td>2</td>\n",
       "      <td>3</td>\n",
       "      <td>4</td>\n",
       "      <td>3</td>\n",
       "      <td>3</td>\n",
       "      <td>4316715.0</td>\n",
       "      <td>3999.0</td>\n",
       "    </tr>\n",
       "  </tbody>\n",
       "</table>\n",
       "<p>5 rows × 43 columns</p>\n",
       "</div>"
      ],
      "text/plain": [
       "   const        City  City Group Type  P1   P2   P3   P4  P5  P6  ...  P30  \\\n",
       "0    1.0    İstanbul  Big Cities   IL   4  5.0  4.0  4.0   2   2  ...    5   \n",
       "1    1.0      Ankara  Big Cities   FC   4  5.0  4.0  4.0   1   2  ...    0   \n",
       "2    1.0  Diyarbakır       Other   IL   2  4.0  2.0  5.0   2   3  ...    0   \n",
       "3    1.0       Tokat       Other   IL   6  4.5  6.0  6.0   4   4  ...   25   \n",
       "4    1.0   Gaziantep       Other   IL   3  4.0  3.0  4.0   2   2  ...    5   \n",
       "\n",
       "   P31  P32  P33  P34  P35  P36  P37    revenue  total_days  \n",
       "0    3    4    5    5    4    3    4  5653753.0      7583.0  \n",
       "1    0    0    0    0    0    0    0  6923131.0      4449.0  \n",
       "2    0    0    0    0    0    0    0  2055379.0      2599.0  \n",
       "3   12   10    6   18   12   12    6  2675511.0      3000.0  \n",
       "4    1    3    2    3    4    3    3  4316715.0      3999.0  \n",
       "\n",
       "[5 rows x 43 columns]"
      ]
     },
     "execution_count": 400,
     "metadata": {},
     "output_type": "execute_result"
    }
   ],
   "source": [
    "X.head()"
   ]
  },
  {
   "cell_type": "code",
   "execution_count": 401,
   "metadata": {},
   "outputs": [],
   "source": [
    "from statsmodels.stats.outliers_influence import variance_inflation_factor\n",
    "vif = pd.DataFrame()\n",
    "vif[\"VIF_Factor\"] = [variance_inflation_factor(X[num_attr_vif].values, i) for i in range(X[num_attr_vif].shape[1])]\n",
    "vif[\"features\"] = X[num_attr_vif].columns"
   ]
  },
  {
   "cell_type": "code",
   "execution_count": 402,
   "metadata": {
    "scrolled": true
   },
   "outputs": [
    {
     "data": {
      "text/html": [
       "<div>\n",
       "<style scoped>\n",
       "    .dataframe tbody tr th:only-of-type {\n",
       "        vertical-align: middle;\n",
       "    }\n",
       "\n",
       "    .dataframe tbody tr th {\n",
       "        vertical-align: top;\n",
       "    }\n",
       "\n",
       "    .dataframe thead th {\n",
       "        text-align: right;\n",
       "    }\n",
       "</style>\n",
       "<table border=\"1\" class=\"dataframe\">\n",
       "  <thead>\n",
       "    <tr style=\"text-align: right;\">\n",
       "      <th></th>\n",
       "      <th>VIF_Factor</th>\n",
       "      <th>features</th>\n",
       "    </tr>\n",
       "  </thead>\n",
       "  <tbody>\n",
       "    <tr>\n",
       "      <th>0</th>\n",
       "      <td>447.960065</td>\n",
       "      <td>const</td>\n",
       "    </tr>\n",
       "    <tr>\n",
       "      <th>1</th>\n",
       "      <td>23.117726</td>\n",
       "      <td>P1</td>\n",
       "    </tr>\n",
       "    <tr>\n",
       "      <th>2</th>\n",
       "      <td>193.812093</td>\n",
       "      <td>P10</td>\n",
       "    </tr>\n",
       "    <tr>\n",
       "      <th>3</th>\n",
       "      <td>6.868811</td>\n",
       "      <td>P11</td>\n",
       "    </tr>\n",
       "    <tr>\n",
       "      <th>4</th>\n",
       "      <td>36.036426</td>\n",
       "      <td>P12</td>\n",
       "    </tr>\n",
       "  </tbody>\n",
       "</table>\n",
       "</div>"
      ],
      "text/plain": [
       "   VIF_Factor features\n",
       "0  447.960065    const\n",
       "1   23.117726       P1\n",
       "2  193.812093      P10\n",
       "3    6.868811      P11\n",
       "4   36.036426      P12"
      ]
     },
     "execution_count": 402,
     "metadata": {},
     "output_type": "execute_result"
    }
   ],
   "source": [
    "vif.head()"
   ]
  },
  {
   "cell_type": "code",
   "execution_count": 234,
   "metadata": {},
   "outputs": [],
   "source": [
    " def calculate_vif(X, thresh):\n",
    "        # Taken from https://stats.stackexchange.com/a/253620/53565 and modified\n",
    "        dropped=True\n",
    "        while dropped:\n",
    "            variables = X.columns\n",
    "            dropped = False\n",
    "            vif = [variance_inflation_factor(X[variables].values, X.columns.get_loc(var)) for var in X.columns]\n",
    "            \n",
    "            max_vif = max(vif)\n",
    "            if max_vif > thresh:\n",
    "                maxloc = vif.index(max_vif)\n",
    "                print(f'Dropping {X.columns[maxloc]} with vif={max_vif}')\n",
    "                X = X.drop([X.columns.tolist()[maxloc]], axis=1)\n",
    "                dropped=True\n",
    "        return X.columns"
   ]
  },
  {
   "cell_type": "code",
   "execution_count": 235,
   "metadata": {
    "scrolled": true
   },
   "outputs": [
    {
     "name": "stdout",
     "output_type": "stream",
     "text": [
      "Dropping const with vif=447.9600646975288\n",
      "Dropping P10 with vif=953.579820593244\n",
      "Dropping P9 with vif=593.5598604771649\n",
      "Dropping P36 with vif=237.51119859446837\n",
      "Dropping P13 with vif=139.01667951685207\n",
      "Dropping P8 with vif=135.65785643715074\n",
      "Dropping P16 with vif=95.6019321698677\n",
      "Dropping P4 with vif=78.03050150246982\n",
      "Dropping P26 with vif=65.45605159057419\n",
      "Dropping P1 with vif=58.16503578988896\n",
      "Dropping P7 with vif=48.87594940839767\n",
      "Dropping P12 with vif=44.50637750369515\n",
      "Dropping P34 with vif=42.54036082626277\n",
      "Dropping P18 with vif=33.80590747239877\n",
      "Dropping P25 with vif=26.177487532326754\n",
      "Dropping P2 with vif=26.063522115148597\n",
      "Dropping P3 with vif=24.52243979942918\n",
      "Dropping P28 with vif=22.673496852045712\n",
      "Dropping P32 with vif=18.633915536463064\n",
      "Dropping P20 with vif=17.076575525661003\n",
      "Dropping P35 with vif=13.855105729425329\n",
      "Dropping P14 with vif=12.91147403315784\n"
     ]
    },
    {
     "data": {
      "text/plain": [
       "Index(['P11', 'P15', 'P17', 'P19', 'P21', 'P22', 'P23', 'P24', 'P27', 'P29',\n",
       "       'P30', 'P31', 'P33', 'P37', 'P5', 'P6', 'revenue', 'total_days'],\n",
       "      dtype='object')"
      ]
     },
     "execution_count": 235,
     "metadata": {},
     "output_type": "execute_result"
    }
   ],
   "source": [
    "calculate_vif(X[num_attr_vif],10)"
   ]
  },
  {
   "cell_type": "code",
   "execution_count": 638,
   "metadata": {},
   "outputs": [],
   "source": [
    "train_data = train_data[['City','City Group','Type','P11', 'P15', 'P17', 'P19', 'P21', 'P22', 'P23', 'P24', 'P27', 'P29',\n",
    "       'P30', 'P31', 'P33', 'P37', 'P5', 'P6', 'revenue', 'total_days']].copy()"
   ]
  },
  {
   "cell_type": "code",
   "execution_count": 639,
   "metadata": {},
   "outputs": [
    {
     "data": {
      "text/html": [
       "<div>\n",
       "<style scoped>\n",
       "    .dataframe tbody tr th:only-of-type {\n",
       "        vertical-align: middle;\n",
       "    }\n",
       "\n",
       "    .dataframe tbody tr th {\n",
       "        vertical-align: top;\n",
       "    }\n",
       "\n",
       "    .dataframe thead th {\n",
       "        text-align: right;\n",
       "    }\n",
       "</style>\n",
       "<table border=\"1\" class=\"dataframe\">\n",
       "  <thead>\n",
       "    <tr style=\"text-align: right;\">\n",
       "      <th></th>\n",
       "      <th>City</th>\n",
       "      <th>City Group</th>\n",
       "      <th>Type</th>\n",
       "      <th>P11</th>\n",
       "      <th>P15</th>\n",
       "      <th>P17</th>\n",
       "      <th>P19</th>\n",
       "      <th>P21</th>\n",
       "      <th>P22</th>\n",
       "      <th>P23</th>\n",
       "      <th>...</th>\n",
       "      <th>P27</th>\n",
       "      <th>P29</th>\n",
       "      <th>P30</th>\n",
       "      <th>P31</th>\n",
       "      <th>P33</th>\n",
       "      <th>P37</th>\n",
       "      <th>P5</th>\n",
       "      <th>P6</th>\n",
       "      <th>revenue</th>\n",
       "      <th>total_days</th>\n",
       "    </tr>\n",
       "  </thead>\n",
       "  <tbody>\n",
       "    <tr>\n",
       "      <th>0</th>\n",
       "      <td>İstanbul</td>\n",
       "      <td>Big Cities</td>\n",
       "      <td>IL</td>\n",
       "      <td>3</td>\n",
       "      <td>2</td>\n",
       "      <td>2</td>\n",
       "      <td>5</td>\n",
       "      <td>1</td>\n",
       "      <td>3</td>\n",
       "      <td>3</td>\n",
       "      <td>...</td>\n",
       "      <td>4.0</td>\n",
       "      <td>3.0</td>\n",
       "      <td>5</td>\n",
       "      <td>3</td>\n",
       "      <td>5</td>\n",
       "      <td>4</td>\n",
       "      <td>2</td>\n",
       "      <td>2</td>\n",
       "      <td>5653753.0</td>\n",
       "      <td>7583.0</td>\n",
       "    </tr>\n",
       "    <tr>\n",
       "      <th>1</th>\n",
       "      <td>Ankara</td>\n",
       "      <td>Big Cities</td>\n",
       "      <td>FC</td>\n",
       "      <td>1</td>\n",
       "      <td>0</td>\n",
       "      <td>0</td>\n",
       "      <td>3</td>\n",
       "      <td>1</td>\n",
       "      <td>3</td>\n",
       "      <td>2</td>\n",
       "      <td>...</td>\n",
       "      <td>0.0</td>\n",
       "      <td>3.0</td>\n",
       "      <td>0</td>\n",
       "      <td>0</td>\n",
       "      <td>0</td>\n",
       "      <td>0</td>\n",
       "      <td>1</td>\n",
       "      <td>2</td>\n",
       "      <td>6923131.0</td>\n",
       "      <td>4449.0</td>\n",
       "    </tr>\n",
       "    <tr>\n",
       "      <th>2</th>\n",
       "      <td>Diyarbakır</td>\n",
       "      <td>Other</td>\n",
       "      <td>IL</td>\n",
       "      <td>2</td>\n",
       "      <td>0</td>\n",
       "      <td>0</td>\n",
       "      <td>1</td>\n",
       "      <td>1</td>\n",
       "      <td>1</td>\n",
       "      <td>1</td>\n",
       "      <td>...</td>\n",
       "      <td>0.0</td>\n",
       "      <td>3.0</td>\n",
       "      <td>0</td>\n",
       "      <td>0</td>\n",
       "      <td>0</td>\n",
       "      <td>0</td>\n",
       "      <td>2</td>\n",
       "      <td>3</td>\n",
       "      <td>2055379.0</td>\n",
       "      <td>2599.0</td>\n",
       "    </tr>\n",
       "    <tr>\n",
       "      <th>3</th>\n",
       "      <td>Tokat</td>\n",
       "      <td>Other</td>\n",
       "      <td>IL</td>\n",
       "      <td>8</td>\n",
       "      <td>4</td>\n",
       "      <td>3</td>\n",
       "      <td>20</td>\n",
       "      <td>6</td>\n",
       "      <td>1</td>\n",
       "      <td>10</td>\n",
       "      <td>...</td>\n",
       "      <td>2.5</td>\n",
       "      <td>7.5</td>\n",
       "      <td>25</td>\n",
       "      <td>12</td>\n",
       "      <td>6</td>\n",
       "      <td>6</td>\n",
       "      <td>4</td>\n",
       "      <td>4</td>\n",
       "      <td>2675511.0</td>\n",
       "      <td>3000.0</td>\n",
       "    </tr>\n",
       "    <tr>\n",
       "      <th>4</th>\n",
       "      <td>Gaziantep</td>\n",
       "      <td>Other</td>\n",
       "      <td>IL</td>\n",
       "      <td>2</td>\n",
       "      <td>1</td>\n",
       "      <td>1</td>\n",
       "      <td>2</td>\n",
       "      <td>1</td>\n",
       "      <td>2</td>\n",
       "      <td>1</td>\n",
       "      <td>...</td>\n",
       "      <td>5.0</td>\n",
       "      <td>3.0</td>\n",
       "      <td>5</td>\n",
       "      <td>1</td>\n",
       "      <td>2</td>\n",
       "      <td>3</td>\n",
       "      <td>2</td>\n",
       "      <td>2</td>\n",
       "      <td>4316715.0</td>\n",
       "      <td>3999.0</td>\n",
       "    </tr>\n",
       "  </tbody>\n",
       "</table>\n",
       "<p>5 rows × 21 columns</p>\n",
       "</div>"
      ],
      "text/plain": [
       "         City  City Group Type  P11  P15  P17  P19  P21  P22  P23  ...  P27  \\\n",
       "0    İstanbul  Big Cities   IL    3    2    2    5    1    3    3  ...  4.0   \n",
       "1      Ankara  Big Cities   FC    1    0    0    3    1    3    2  ...  0.0   \n",
       "2  Diyarbakır       Other   IL    2    0    0    1    1    1    1  ...  0.0   \n",
       "3       Tokat       Other   IL    8    4    3   20    6    1   10  ...  2.5   \n",
       "4   Gaziantep       Other   IL    2    1    1    2    1    2    1  ...  5.0   \n",
       "\n",
       "   P29  P30  P31  P33  P37  P5  P6    revenue  total_days  \n",
       "0  3.0    5    3    5    4   2   2  5653753.0      7583.0  \n",
       "1  3.0    0    0    0    0   1   2  6923131.0      4449.0  \n",
       "2  3.0    0    0    0    0   2   3  2055379.0      2599.0  \n",
       "3  7.5   25   12    6    6   4   4  2675511.0      3000.0  \n",
       "4  3.0    5    1    2    3   2   2  4316715.0      3999.0  \n",
       "\n",
       "[5 rows x 21 columns]"
      ]
     },
     "execution_count": 639,
     "metadata": {},
     "output_type": "execute_result"
    }
   ],
   "source": [
    "train_data.head()"
   ]
  },
  {
   "cell_type": "code",
   "execution_count": 640,
   "metadata": {},
   "outputs": [],
   "source": [
    "median = train_data['revenue'].median()\n",
    "std = train_data['revenue'].std()\n",
    "outliers = (train_data['revenue'] - median).abs() > 3*std\n"
   ]
  },
  {
   "cell_type": "code",
   "execution_count": 641,
   "metadata": {},
   "outputs": [],
   "source": [
    "train_data.loc[outliers,'revenue'] = np.nan"
   ]
  },
  {
   "cell_type": "code",
   "execution_count": 642,
   "metadata": {
    "scrolled": true
   },
   "outputs": [
    {
     "data": {
      "text/plain": [
       "City          0\n",
       "City Group    0\n",
       "Type          0\n",
       "P11           0\n",
       "P15           0\n",
       "P17           0\n",
       "P19           0\n",
       "P21           0\n",
       "P22           0\n",
       "P23           0\n",
       "P24           0\n",
       "P27           0\n",
       "P29           0\n",
       "P30           0\n",
       "P31           0\n",
       "P33           0\n",
       "P37           0\n",
       "P5            0\n",
       "P6            0\n",
       "revenue       3\n",
       "total_days    0\n",
       "dtype: int64"
      ]
     },
     "execution_count": 642,
     "metadata": {},
     "output_type": "execute_result"
    }
   ],
   "source": [
    "train_data.isnull().sum()"
   ]
  },
  {
   "cell_type": "code",
   "execution_count": 643,
   "metadata": {},
   "outputs": [],
   "source": [
    "train_data['revenue'].fillna(median, inplace=True)"
   ]
  },
  {
   "cell_type": "code",
   "execution_count": 644,
   "metadata": {
    "scrolled": true
   },
   "outputs": [
    {
     "data": {
      "text/plain": [
       "City          0\n",
       "City Group    0\n",
       "Type          0\n",
       "P11           0\n",
       "P15           0\n",
       "P17           0\n",
       "P19           0\n",
       "P21           0\n",
       "P22           0\n",
       "P23           0\n",
       "P24           0\n",
       "P27           0\n",
       "P29           0\n",
       "P30           0\n",
       "P31           0\n",
       "P33           0\n",
       "P37           0\n",
       "P5            0\n",
       "P6            0\n",
       "revenue       0\n",
       "total_days    0\n",
       "dtype: int64"
      ]
     },
     "execution_count": 644,
     "metadata": {},
     "output_type": "execute_result"
    }
   ],
   "source": [
    "train_data.isnull().sum()"
   ]
  },
  {
   "cell_type": "code",
   "execution_count": null,
   "metadata": {},
   "outputs": [],
   "source": []
  },
  {
   "cell_type": "markdown",
   "metadata": {},
   "source": [
    "# dummification and onehot encoding"
   ]
  },
  {
   "cell_type": "code",
   "execution_count": 645,
   "metadata": {},
   "outputs": [
    {
     "data": {
      "text/html": [
       "<div>\n",
       "<style scoped>\n",
       "    .dataframe tbody tr th:only-of-type {\n",
       "        vertical-align: middle;\n",
       "    }\n",
       "\n",
       "    .dataframe tbody tr th {\n",
       "        vertical-align: top;\n",
       "    }\n",
       "\n",
       "    .dataframe thead th {\n",
       "        text-align: right;\n",
       "    }\n",
       "</style>\n",
       "<table border=\"1\" class=\"dataframe\">\n",
       "  <thead>\n",
       "    <tr style=\"text-align: right;\">\n",
       "      <th></th>\n",
       "      <th>City</th>\n",
       "      <th>City Group</th>\n",
       "      <th>Type</th>\n",
       "      <th>P11</th>\n",
       "      <th>P15</th>\n",
       "      <th>P17</th>\n",
       "      <th>P19</th>\n",
       "      <th>P21</th>\n",
       "      <th>P22</th>\n",
       "      <th>P23</th>\n",
       "      <th>...</th>\n",
       "      <th>P27</th>\n",
       "      <th>P29</th>\n",
       "      <th>P30</th>\n",
       "      <th>P31</th>\n",
       "      <th>P33</th>\n",
       "      <th>P37</th>\n",
       "      <th>P5</th>\n",
       "      <th>P6</th>\n",
       "      <th>revenue</th>\n",
       "      <th>total_days</th>\n",
       "    </tr>\n",
       "  </thead>\n",
       "  <tbody>\n",
       "    <tr>\n",
       "      <th>0</th>\n",
       "      <td>İstanbul</td>\n",
       "      <td>Big Cities</td>\n",
       "      <td>IL</td>\n",
       "      <td>3</td>\n",
       "      <td>2</td>\n",
       "      <td>2</td>\n",
       "      <td>5</td>\n",
       "      <td>1</td>\n",
       "      <td>3</td>\n",
       "      <td>3</td>\n",
       "      <td>...</td>\n",
       "      <td>4.0</td>\n",
       "      <td>3.0</td>\n",
       "      <td>5</td>\n",
       "      <td>3</td>\n",
       "      <td>5</td>\n",
       "      <td>4</td>\n",
       "      <td>2</td>\n",
       "      <td>2</td>\n",
       "      <td>5653753.0</td>\n",
       "      <td>7583.0</td>\n",
       "    </tr>\n",
       "  </tbody>\n",
       "</table>\n",
       "<p>1 rows × 21 columns</p>\n",
       "</div>"
      ],
      "text/plain": [
       "       City  City Group Type  P11  P15  P17  P19  P21  P22  P23  ...  P27  \\\n",
       "0  İstanbul  Big Cities   IL    3    2    2    5    1    3    3  ...  4.0   \n",
       "\n",
       "   P29  P30  P31  P33  P37  P5  P6    revenue  total_days  \n",
       "0  3.0    5    3    5    4   2   2  5653753.0      7583.0  \n",
       "\n",
       "[1 rows x 21 columns]"
      ]
     },
     "execution_count": 645,
     "metadata": {},
     "output_type": "execute_result"
    }
   ],
   "source": [
    "train_data.head(1)"
   ]
  },
  {
   "cell_type": "code",
   "execution_count": 646,
   "metadata": {},
   "outputs": [],
   "source": [
    "# generate binary values using get_dummies\n",
    "#train_data_dummies = pd.get_dummies(train_data, columns=cat_attr,prefix=[\"City\",\"CG\",\"Type\"])"
   ]
  },
  {
   "cell_type": "code",
   "execution_count": 647,
   "metadata": {},
   "outputs": [],
   "source": [
    "test_data = test_data[['City','City Group','Type','P11', 'P15', 'P17', 'P19', 'P21', 'P22', 'P23', 'P24', 'P27', 'P29',\n",
    "       'P30', 'P31', 'P33', 'P37', 'P5', 'P6', 'total_days']].copy()"
   ]
  },
  {
   "cell_type": "code",
   "execution_count": 648,
   "metadata": {},
   "outputs": [],
   "source": [
    "# generate binary values using get_dummies\n",
    "#test_data_dummies = pd.get_dummies(test_data, columns=cat_attr_test,prefix=[\"City\",\"CG\",\"Type\"])"
   ]
  },
  {
   "cell_type": "code",
   "execution_count": 649,
   "metadata": {
    "scrolled": true
   },
   "outputs": [],
   "source": [
    "#train_data_dummies.head()"
   ]
  },
  {
   "cell_type": "code",
   "execution_count": 650,
   "metadata": {},
   "outputs": [],
   "source": [
    "# creating instance of one-hot-encoder\n",
    "#enc = OneHotEncoder(handle_unknown='ignore')\n",
    "# passing bridge-types-cat column (label encoded values of bridge_types)\n",
    "#enc_df = pd.DataFrame(enc.fit_transform(train_data[cat_attr]).toarray())\n"
   ]
  },
  {
   "cell_type": "code",
   "execution_count": 651,
   "metadata": {},
   "outputs": [],
   "source": [
    "# creating instance of one-hot-encoder\n",
    "enc = OneHotEncoder(handle_unknown='ignore')\n",
    "# passing bridge-types-cat column (label encoded values of bridge_types)\n",
    "enc_df = enc.fit(train_data[cat_attr])\n"
   ]
  },
  {
   "cell_type": "code",
   "execution_count": 652,
   "metadata": {},
   "outputs": [],
   "source": [
    "enc_df_trans=pd.DataFrame(enc_df.transform(train_data[cat_attr]).toarray())"
   ]
  },
  {
   "cell_type": "code",
   "execution_count": 653,
   "metadata": {},
   "outputs": [],
   "source": [
    "test_data_enc=pd.DataFrame(enc_df.transform(test_data[cat_attr]).toarray())"
   ]
  },
  {
   "cell_type": "code",
   "execution_count": 654,
   "metadata": {},
   "outputs": [],
   "source": [
    "# merge with main df bridge_df on key values\n",
    "#train_data_enc = train_data.join(enc_df)\n",
    "#train_data_enc.head()"
   ]
  },
  {
   "cell_type": "code",
   "execution_count": 655,
   "metadata": {},
   "outputs": [
    {
     "data": {
      "text/html": [
       "<div>\n",
       "<style scoped>\n",
       "    .dataframe tbody tr th:only-of-type {\n",
       "        vertical-align: middle;\n",
       "    }\n",
       "\n",
       "    .dataframe tbody tr th {\n",
       "        vertical-align: top;\n",
       "    }\n",
       "\n",
       "    .dataframe thead th {\n",
       "        text-align: right;\n",
       "    }\n",
       "</style>\n",
       "<table border=\"1\" class=\"dataframe\">\n",
       "  <thead>\n",
       "    <tr style=\"text-align: right;\">\n",
       "      <th></th>\n",
       "      <th>City</th>\n",
       "      <th>City Group</th>\n",
       "      <th>Type</th>\n",
       "      <th>P11</th>\n",
       "      <th>P15</th>\n",
       "      <th>P17</th>\n",
       "      <th>P19</th>\n",
       "      <th>P21</th>\n",
       "      <th>P22</th>\n",
       "      <th>P23</th>\n",
       "      <th>...</th>\n",
       "      <th>29</th>\n",
       "      <th>30</th>\n",
       "      <th>31</th>\n",
       "      <th>32</th>\n",
       "      <th>33</th>\n",
       "      <th>34</th>\n",
       "      <th>35</th>\n",
       "      <th>36</th>\n",
       "      <th>37</th>\n",
       "      <th>38</th>\n",
       "    </tr>\n",
       "  </thead>\n",
       "  <tbody>\n",
       "    <tr>\n",
       "      <th>0</th>\n",
       "      <td>İstanbul</td>\n",
       "      <td>Big Cities</td>\n",
       "      <td>IL</td>\n",
       "      <td>3</td>\n",
       "      <td>2</td>\n",
       "      <td>2</td>\n",
       "      <td>5</td>\n",
       "      <td>1</td>\n",
       "      <td>3</td>\n",
       "      <td>3</td>\n",
       "      <td>...</td>\n",
       "      <td>0.0</td>\n",
       "      <td>0.0</td>\n",
       "      <td>1.0</td>\n",
       "      <td>0.0</td>\n",
       "      <td>0.0</td>\n",
       "      <td>1.0</td>\n",
       "      <td>0.0</td>\n",
       "      <td>0.0</td>\n",
       "      <td>0.0</td>\n",
       "      <td>1.0</td>\n",
       "    </tr>\n",
       "    <tr>\n",
       "      <th>1</th>\n",
       "      <td>Ankara</td>\n",
       "      <td>Big Cities</td>\n",
       "      <td>FC</td>\n",
       "      <td>1</td>\n",
       "      <td>0</td>\n",
       "      <td>0</td>\n",
       "      <td>3</td>\n",
       "      <td>1</td>\n",
       "      <td>3</td>\n",
       "      <td>2</td>\n",
       "      <td>...</td>\n",
       "      <td>0.0</td>\n",
       "      <td>0.0</td>\n",
       "      <td>0.0</td>\n",
       "      <td>0.0</td>\n",
       "      <td>0.0</td>\n",
       "      <td>1.0</td>\n",
       "      <td>0.0</td>\n",
       "      <td>0.0</td>\n",
       "      <td>1.0</td>\n",
       "      <td>0.0</td>\n",
       "    </tr>\n",
       "    <tr>\n",
       "      <th>2</th>\n",
       "      <td>Diyarbakır</td>\n",
       "      <td>Other</td>\n",
       "      <td>IL</td>\n",
       "      <td>2</td>\n",
       "      <td>0</td>\n",
       "      <td>0</td>\n",
       "      <td>1</td>\n",
       "      <td>1</td>\n",
       "      <td>1</td>\n",
       "      <td>1</td>\n",
       "      <td>...</td>\n",
       "      <td>0.0</td>\n",
       "      <td>0.0</td>\n",
       "      <td>0.0</td>\n",
       "      <td>0.0</td>\n",
       "      <td>0.0</td>\n",
       "      <td>0.0</td>\n",
       "      <td>1.0</td>\n",
       "      <td>0.0</td>\n",
       "      <td>0.0</td>\n",
       "      <td>1.0</td>\n",
       "    </tr>\n",
       "    <tr>\n",
       "      <th>3</th>\n",
       "      <td>Tokat</td>\n",
       "      <td>Other</td>\n",
       "      <td>IL</td>\n",
       "      <td>8</td>\n",
       "      <td>4</td>\n",
       "      <td>3</td>\n",
       "      <td>20</td>\n",
       "      <td>6</td>\n",
       "      <td>1</td>\n",
       "      <td>10</td>\n",
       "      <td>...</td>\n",
       "      <td>0.0</td>\n",
       "      <td>0.0</td>\n",
       "      <td>0.0</td>\n",
       "      <td>0.0</td>\n",
       "      <td>0.0</td>\n",
       "      <td>0.0</td>\n",
       "      <td>1.0</td>\n",
       "      <td>0.0</td>\n",
       "      <td>0.0</td>\n",
       "      <td>1.0</td>\n",
       "    </tr>\n",
       "    <tr>\n",
       "      <th>4</th>\n",
       "      <td>Gaziantep</td>\n",
       "      <td>Other</td>\n",
       "      <td>IL</td>\n",
       "      <td>2</td>\n",
       "      <td>1</td>\n",
       "      <td>1</td>\n",
       "      <td>2</td>\n",
       "      <td>1</td>\n",
       "      <td>2</td>\n",
       "      <td>1</td>\n",
       "      <td>...</td>\n",
       "      <td>0.0</td>\n",
       "      <td>0.0</td>\n",
       "      <td>0.0</td>\n",
       "      <td>0.0</td>\n",
       "      <td>0.0</td>\n",
       "      <td>0.0</td>\n",
       "      <td>1.0</td>\n",
       "      <td>0.0</td>\n",
       "      <td>0.0</td>\n",
       "      <td>1.0</td>\n",
       "    </tr>\n",
       "  </tbody>\n",
       "</table>\n",
       "<p>5 rows × 60 columns</p>\n",
       "</div>"
      ],
      "text/plain": [
       "         City  City Group Type  P11  P15  P17  P19  P21  P22  P23  ...   29  \\\n",
       "0    İstanbul  Big Cities   IL    3    2    2    5    1    3    3  ...  0.0   \n",
       "1      Ankara  Big Cities   FC    1    0    0    3    1    3    2  ...  0.0   \n",
       "2  Diyarbakır       Other   IL    2    0    0    1    1    1    1  ...  0.0   \n",
       "3       Tokat       Other   IL    8    4    3   20    6    1   10  ...  0.0   \n",
       "4   Gaziantep       Other   IL    2    1    1    2    1    2    1  ...  0.0   \n",
       "\n",
       "    30   31   32   33   34   35   36   37   38  \n",
       "0  0.0  1.0  0.0  0.0  1.0  0.0  0.0  0.0  1.0  \n",
       "1  0.0  0.0  0.0  0.0  1.0  0.0  0.0  1.0  0.0  \n",
       "2  0.0  0.0  0.0  0.0  0.0  1.0  0.0  0.0  1.0  \n",
       "3  0.0  0.0  0.0  0.0  0.0  1.0  0.0  0.0  1.0  \n",
       "4  0.0  0.0  0.0  0.0  0.0  1.0  0.0  0.0  1.0  \n",
       "\n",
       "[5 rows x 60 columns]"
      ]
     },
     "execution_count": 655,
     "metadata": {},
     "output_type": "execute_result"
    }
   ],
   "source": [
    "# merge with main df bridge_df on key values\n",
    "train_data_enc = train_data.join(enc_df_trans)\n",
    "train_data_enc.head()"
   ]
  },
  {
   "cell_type": "code",
   "execution_count": 656,
   "metadata": {},
   "outputs": [
    {
     "data": {
      "text/html": [
       "<div>\n",
       "<style scoped>\n",
       "    .dataframe tbody tr th:only-of-type {\n",
       "        vertical-align: middle;\n",
       "    }\n",
       "\n",
       "    .dataframe tbody tr th {\n",
       "        vertical-align: top;\n",
       "    }\n",
       "\n",
       "    .dataframe thead th {\n",
       "        text-align: right;\n",
       "    }\n",
       "</style>\n",
       "<table border=\"1\" class=\"dataframe\">\n",
       "  <thead>\n",
       "    <tr style=\"text-align: right;\">\n",
       "      <th></th>\n",
       "      <th>City</th>\n",
       "      <th>City Group</th>\n",
       "      <th>Type</th>\n",
       "      <th>P11</th>\n",
       "      <th>P15</th>\n",
       "      <th>P17</th>\n",
       "      <th>P19</th>\n",
       "      <th>P21</th>\n",
       "      <th>P22</th>\n",
       "      <th>P23</th>\n",
       "      <th>...</th>\n",
       "      <th>29</th>\n",
       "      <th>30</th>\n",
       "      <th>31</th>\n",
       "      <th>32</th>\n",
       "      <th>33</th>\n",
       "      <th>34</th>\n",
       "      <th>35</th>\n",
       "      <th>36</th>\n",
       "      <th>37</th>\n",
       "      <th>38</th>\n",
       "    </tr>\n",
       "  </thead>\n",
       "  <tbody>\n",
       "    <tr>\n",
       "      <th>0</th>\n",
       "      <td>Niğde</td>\n",
       "      <td>Other</td>\n",
       "      <td>FC</td>\n",
       "      <td>5</td>\n",
       "      <td>0</td>\n",
       "      <td>2</td>\n",
       "      <td>5</td>\n",
       "      <td>3</td>\n",
       "      <td>1</td>\n",
       "      <td>4</td>\n",
       "      <td>...</td>\n",
       "      <td>0.0</td>\n",
       "      <td>0.0</td>\n",
       "      <td>0.0</td>\n",
       "      <td>0.0</td>\n",
       "      <td>0.0</td>\n",
       "      <td>0.0</td>\n",
       "      <td>1.0</td>\n",
       "      <td>0.0</td>\n",
       "      <td>1.0</td>\n",
       "      <td>0.0</td>\n",
       "    </tr>\n",
       "    <tr>\n",
       "      <th>1</th>\n",
       "      <td>Konya</td>\n",
       "      <td>Other</td>\n",
       "      <td>IL</td>\n",
       "      <td>2</td>\n",
       "      <td>0</td>\n",
       "      <td>0</td>\n",
       "      <td>5</td>\n",
       "      <td>3</td>\n",
       "      <td>2</td>\n",
       "      <td>1</td>\n",
       "      <td>...</td>\n",
       "      <td>0.0</td>\n",
       "      <td>0.0</td>\n",
       "      <td>0.0</td>\n",
       "      <td>0.0</td>\n",
       "      <td>0.0</td>\n",
       "      <td>0.0</td>\n",
       "      <td>1.0</td>\n",
       "      <td>0.0</td>\n",
       "      <td>0.0</td>\n",
       "      <td>1.0</td>\n",
       "    </tr>\n",
       "    <tr>\n",
       "      <th>2</th>\n",
       "      <td>Ankara</td>\n",
       "      <td>Big Cities</td>\n",
       "      <td>FC</td>\n",
       "      <td>4</td>\n",
       "      <td>0</td>\n",
       "      <td>0</td>\n",
       "      <td>5</td>\n",
       "      <td>5</td>\n",
       "      <td>5</td>\n",
       "      <td>5</td>\n",
       "      <td>...</td>\n",
       "      <td>0.0</td>\n",
       "      <td>0.0</td>\n",
       "      <td>0.0</td>\n",
       "      <td>0.0</td>\n",
       "      <td>0.0</td>\n",
       "      <td>1.0</td>\n",
       "      <td>0.0</td>\n",
       "      <td>0.0</td>\n",
       "      <td>1.0</td>\n",
       "      <td>0.0</td>\n",
       "    </tr>\n",
       "    <tr>\n",
       "      <th>3</th>\n",
       "      <td>Kocaeli</td>\n",
       "      <td>Other</td>\n",
       "      <td>IL</td>\n",
       "      <td>3</td>\n",
       "      <td>0</td>\n",
       "      <td>0</td>\n",
       "      <td>4</td>\n",
       "      <td>3</td>\n",
       "      <td>2</td>\n",
       "      <td>2</td>\n",
       "      <td>...</td>\n",
       "      <td>0.0</td>\n",
       "      <td>0.0</td>\n",
       "      <td>0.0</td>\n",
       "      <td>0.0</td>\n",
       "      <td>0.0</td>\n",
       "      <td>0.0</td>\n",
       "      <td>1.0</td>\n",
       "      <td>0.0</td>\n",
       "      <td>0.0</td>\n",
       "      <td>1.0</td>\n",
       "    </tr>\n",
       "    <tr>\n",
       "      <th>4</th>\n",
       "      <td>Afyonkarahisar</td>\n",
       "      <td>Other</td>\n",
       "      <td>FC</td>\n",
       "      <td>3</td>\n",
       "      <td>0</td>\n",
       "      <td>0</td>\n",
       "      <td>1</td>\n",
       "      <td>3</td>\n",
       "      <td>1</td>\n",
       "      <td>1</td>\n",
       "      <td>...</td>\n",
       "      <td>0.0</td>\n",
       "      <td>0.0</td>\n",
       "      <td>0.0</td>\n",
       "      <td>0.0</td>\n",
       "      <td>0.0</td>\n",
       "      <td>0.0</td>\n",
       "      <td>1.0</td>\n",
       "      <td>0.0</td>\n",
       "      <td>1.0</td>\n",
       "      <td>0.0</td>\n",
       "    </tr>\n",
       "  </tbody>\n",
       "</table>\n",
       "<p>5 rows × 59 columns</p>\n",
       "</div>"
      ],
      "text/plain": [
       "             City  City Group Type  P11  P15  P17  P19  P21  P22  P23  ...  \\\n",
       "0           Niğde       Other   FC    5    0    2    5    3    1    4  ...   \n",
       "1           Konya       Other   IL    2    0    0    5    3    2    1  ...   \n",
       "2          Ankara  Big Cities   FC    4    0    0    5    5    5    5  ...   \n",
       "3         Kocaeli       Other   IL    3    0    0    4    3    2    2  ...   \n",
       "4  Afyonkarahisar       Other   FC    3    0    0    1    3    1    1  ...   \n",
       "\n",
       "    29   30   31   32   33   34   35   36   37   38  \n",
       "0  0.0  0.0  0.0  0.0  0.0  0.0  1.0  0.0  1.0  0.0  \n",
       "1  0.0  0.0  0.0  0.0  0.0  0.0  1.0  0.0  0.0  1.0  \n",
       "2  0.0  0.0  0.0  0.0  0.0  1.0  0.0  0.0  1.0  0.0  \n",
       "3  0.0  0.0  0.0  0.0  0.0  0.0  1.0  0.0  0.0  1.0  \n",
       "4  0.0  0.0  0.0  0.0  0.0  0.0  1.0  0.0  1.0  0.0  \n",
       "\n",
       "[5 rows x 59 columns]"
      ]
     },
     "execution_count": 656,
     "metadata": {},
     "output_type": "execute_result"
    }
   ],
   "source": [
    "# merge with main df bridge_df on key values\n",
    "test_data_enc = test_data.join(test_data_enc)\n",
    "test_data_enc.head()"
   ]
  },
  {
   "cell_type": "code",
   "execution_count": 657,
   "metadata": {},
   "outputs": [],
   "source": [
    "train_data_enc.drop(\"City\",axis=1,inplace=True)\n",
    "train_data_enc.drop(\"City Group\",axis=1,inplace=True)\n",
    "train_data_enc.drop(\"Type\",axis=1,inplace=True)"
   ]
  },
  {
   "cell_type": "code",
   "execution_count": 658,
   "metadata": {},
   "outputs": [],
   "source": [
    "test_data_enc.drop(\"City\",axis=1,inplace=True)\n",
    "test_data_enc.drop(\"City Group\",axis=1,inplace=True)\n",
    "test_data_enc.drop(\"Type\",axis=1,inplace=True)"
   ]
  },
  {
   "cell_type": "code",
   "execution_count": 659,
   "metadata": {},
   "outputs": [
    {
     "data": {
      "text/html": [
       "<div>\n",
       "<style scoped>\n",
       "    .dataframe tbody tr th:only-of-type {\n",
       "        vertical-align: middle;\n",
       "    }\n",
       "\n",
       "    .dataframe tbody tr th {\n",
       "        vertical-align: top;\n",
       "    }\n",
       "\n",
       "    .dataframe thead th {\n",
       "        text-align: right;\n",
       "    }\n",
       "</style>\n",
       "<table border=\"1\" class=\"dataframe\">\n",
       "  <thead>\n",
       "    <tr style=\"text-align: right;\">\n",
       "      <th></th>\n",
       "      <th>P11</th>\n",
       "      <th>P15</th>\n",
       "      <th>P17</th>\n",
       "      <th>P19</th>\n",
       "      <th>P21</th>\n",
       "      <th>P22</th>\n",
       "      <th>P23</th>\n",
       "      <th>P24</th>\n",
       "      <th>P27</th>\n",
       "      <th>P29</th>\n",
       "      <th>...</th>\n",
       "      <th>29</th>\n",
       "      <th>30</th>\n",
       "      <th>31</th>\n",
       "      <th>32</th>\n",
       "      <th>33</th>\n",
       "      <th>34</th>\n",
       "      <th>35</th>\n",
       "      <th>36</th>\n",
       "      <th>37</th>\n",
       "      <th>38</th>\n",
       "    </tr>\n",
       "  </thead>\n",
       "  <tbody>\n",
       "    <tr>\n",
       "      <th>0</th>\n",
       "      <td>3</td>\n",
       "      <td>2</td>\n",
       "      <td>2</td>\n",
       "      <td>5</td>\n",
       "      <td>1</td>\n",
       "      <td>3</td>\n",
       "      <td>3</td>\n",
       "      <td>1</td>\n",
       "      <td>4.0</td>\n",
       "      <td>3.0</td>\n",
       "      <td>...</td>\n",
       "      <td>0.0</td>\n",
       "      <td>0.0</td>\n",
       "      <td>1.0</td>\n",
       "      <td>0.0</td>\n",
       "      <td>0.0</td>\n",
       "      <td>1.0</td>\n",
       "      <td>0.0</td>\n",
       "      <td>0.0</td>\n",
       "      <td>0.0</td>\n",
       "      <td>1.0</td>\n",
       "    </tr>\n",
       "    <tr>\n",
       "      <th>1</th>\n",
       "      <td>1</td>\n",
       "      <td>0</td>\n",
       "      <td>0</td>\n",
       "      <td>3</td>\n",
       "      <td>1</td>\n",
       "      <td>3</td>\n",
       "      <td>2</td>\n",
       "      <td>0</td>\n",
       "      <td>0.0</td>\n",
       "      <td>3.0</td>\n",
       "      <td>...</td>\n",
       "      <td>0.0</td>\n",
       "      <td>0.0</td>\n",
       "      <td>0.0</td>\n",
       "      <td>0.0</td>\n",
       "      <td>0.0</td>\n",
       "      <td>1.0</td>\n",
       "      <td>0.0</td>\n",
       "      <td>0.0</td>\n",
       "      <td>1.0</td>\n",
       "      <td>0.0</td>\n",
       "    </tr>\n",
       "    <tr>\n",
       "      <th>2</th>\n",
       "      <td>2</td>\n",
       "      <td>0</td>\n",
       "      <td>0</td>\n",
       "      <td>1</td>\n",
       "      <td>1</td>\n",
       "      <td>1</td>\n",
       "      <td>1</td>\n",
       "      <td>0</td>\n",
       "      <td>0.0</td>\n",
       "      <td>3.0</td>\n",
       "      <td>...</td>\n",
       "      <td>0.0</td>\n",
       "      <td>0.0</td>\n",
       "      <td>0.0</td>\n",
       "      <td>0.0</td>\n",
       "      <td>0.0</td>\n",
       "      <td>0.0</td>\n",
       "      <td>1.0</td>\n",
       "      <td>0.0</td>\n",
       "      <td>0.0</td>\n",
       "      <td>1.0</td>\n",
       "    </tr>\n",
       "    <tr>\n",
       "      <th>3</th>\n",
       "      <td>8</td>\n",
       "      <td>4</td>\n",
       "      <td>3</td>\n",
       "      <td>20</td>\n",
       "      <td>6</td>\n",
       "      <td>1</td>\n",
       "      <td>10</td>\n",
       "      <td>2</td>\n",
       "      <td>2.5</td>\n",
       "      <td>7.5</td>\n",
       "      <td>...</td>\n",
       "      <td>0.0</td>\n",
       "      <td>0.0</td>\n",
       "      <td>0.0</td>\n",
       "      <td>0.0</td>\n",
       "      <td>0.0</td>\n",
       "      <td>0.0</td>\n",
       "      <td>1.0</td>\n",
       "      <td>0.0</td>\n",
       "      <td>0.0</td>\n",
       "      <td>1.0</td>\n",
       "    </tr>\n",
       "    <tr>\n",
       "      <th>4</th>\n",
       "      <td>2</td>\n",
       "      <td>1</td>\n",
       "      <td>1</td>\n",
       "      <td>2</td>\n",
       "      <td>1</td>\n",
       "      <td>2</td>\n",
       "      <td>1</td>\n",
       "      <td>2</td>\n",
       "      <td>5.0</td>\n",
       "      <td>3.0</td>\n",
       "      <td>...</td>\n",
       "      <td>0.0</td>\n",
       "      <td>0.0</td>\n",
       "      <td>0.0</td>\n",
       "      <td>0.0</td>\n",
       "      <td>0.0</td>\n",
       "      <td>0.0</td>\n",
       "      <td>1.0</td>\n",
       "      <td>0.0</td>\n",
       "      <td>0.0</td>\n",
       "      <td>1.0</td>\n",
       "    </tr>\n",
       "  </tbody>\n",
       "</table>\n",
       "<p>5 rows × 57 columns</p>\n",
       "</div>"
      ],
      "text/plain": [
       "   P11  P15  P17  P19  P21  P22  P23  P24  P27  P29  ...   29   30   31   32  \\\n",
       "0    3    2    2    5    1    3    3    1  4.0  3.0  ...  0.0  0.0  1.0  0.0   \n",
       "1    1    0    0    3    1    3    2    0  0.0  3.0  ...  0.0  0.0  0.0  0.0   \n",
       "2    2    0    0    1    1    1    1    0  0.0  3.0  ...  0.0  0.0  0.0  0.0   \n",
       "3    8    4    3   20    6    1   10    2  2.5  7.5  ...  0.0  0.0  0.0  0.0   \n",
       "4    2    1    1    2    1    2    1    2  5.0  3.0  ...  0.0  0.0  0.0  0.0   \n",
       "\n",
       "    33   34   35   36   37   38  \n",
       "0  0.0  1.0  0.0  0.0  0.0  1.0  \n",
       "1  0.0  1.0  0.0  0.0  1.0  0.0  \n",
       "2  0.0  0.0  1.0  0.0  0.0  1.0  \n",
       "3  0.0  0.0  1.0  0.0  0.0  1.0  \n",
       "4  0.0  0.0  1.0  0.0  0.0  1.0  \n",
       "\n",
       "[5 rows x 57 columns]"
      ]
     },
     "execution_count": 659,
     "metadata": {},
     "output_type": "execute_result"
    }
   ],
   "source": [
    "train_data_enc.head()"
   ]
  },
  {
   "cell_type": "code",
   "execution_count": 660,
   "metadata": {},
   "outputs": [
    {
     "data": {
      "text/html": [
       "<div>\n",
       "<style scoped>\n",
       "    .dataframe tbody tr th:only-of-type {\n",
       "        vertical-align: middle;\n",
       "    }\n",
       "\n",
       "    .dataframe tbody tr th {\n",
       "        vertical-align: top;\n",
       "    }\n",
       "\n",
       "    .dataframe thead th {\n",
       "        text-align: right;\n",
       "    }\n",
       "</style>\n",
       "<table border=\"1\" class=\"dataframe\">\n",
       "  <thead>\n",
       "    <tr style=\"text-align: right;\">\n",
       "      <th></th>\n",
       "      <th>P11</th>\n",
       "      <th>P15</th>\n",
       "      <th>P17</th>\n",
       "      <th>P19</th>\n",
       "      <th>P21</th>\n",
       "      <th>P22</th>\n",
       "      <th>P23</th>\n",
       "      <th>P24</th>\n",
       "      <th>P27</th>\n",
       "      <th>P29</th>\n",
       "      <th>...</th>\n",
       "      <th>29</th>\n",
       "      <th>30</th>\n",
       "      <th>31</th>\n",
       "      <th>32</th>\n",
       "      <th>33</th>\n",
       "      <th>34</th>\n",
       "      <th>35</th>\n",
       "      <th>36</th>\n",
       "      <th>37</th>\n",
       "      <th>38</th>\n",
       "    </tr>\n",
       "  </thead>\n",
       "  <tbody>\n",
       "    <tr>\n",
       "      <th>0</th>\n",
       "      <td>5</td>\n",
       "      <td>0</td>\n",
       "      <td>2</td>\n",
       "      <td>5</td>\n",
       "      <td>3</td>\n",
       "      <td>1</td>\n",
       "      <td>4</td>\n",
       "      <td>0</td>\n",
       "      <td>0.0</td>\n",
       "      <td>3.0</td>\n",
       "      <td>...</td>\n",
       "      <td>0.0</td>\n",
       "      <td>0.0</td>\n",
       "      <td>0.0</td>\n",
       "      <td>0.0</td>\n",
       "      <td>0.0</td>\n",
       "      <td>0.0</td>\n",
       "      <td>1.0</td>\n",
       "      <td>0.0</td>\n",
       "      <td>1.0</td>\n",
       "      <td>0.0</td>\n",
       "    </tr>\n",
       "    <tr>\n",
       "      <th>1</th>\n",
       "      <td>2</td>\n",
       "      <td>0</td>\n",
       "      <td>0</td>\n",
       "      <td>5</td>\n",
       "      <td>3</td>\n",
       "      <td>2</td>\n",
       "      <td>1</td>\n",
       "      <td>0</td>\n",
       "      <td>0.0</td>\n",
       "      <td>3.0</td>\n",
       "      <td>...</td>\n",
       "      <td>0.0</td>\n",
       "      <td>0.0</td>\n",
       "      <td>0.0</td>\n",
       "      <td>0.0</td>\n",
       "      <td>0.0</td>\n",
       "      <td>0.0</td>\n",
       "      <td>1.0</td>\n",
       "      <td>0.0</td>\n",
       "      <td>0.0</td>\n",
       "      <td>1.0</td>\n",
       "    </tr>\n",
       "    <tr>\n",
       "      <th>2</th>\n",
       "      <td>4</td>\n",
       "      <td>0</td>\n",
       "      <td>0</td>\n",
       "      <td>5</td>\n",
       "      <td>5</td>\n",
       "      <td>5</td>\n",
       "      <td>5</td>\n",
       "      <td>0</td>\n",
       "      <td>0.0</td>\n",
       "      <td>3.0</td>\n",
       "      <td>...</td>\n",
       "      <td>0.0</td>\n",
       "      <td>0.0</td>\n",
       "      <td>0.0</td>\n",
       "      <td>0.0</td>\n",
       "      <td>0.0</td>\n",
       "      <td>1.0</td>\n",
       "      <td>0.0</td>\n",
       "      <td>0.0</td>\n",
       "      <td>1.0</td>\n",
       "      <td>0.0</td>\n",
       "    </tr>\n",
       "    <tr>\n",
       "      <th>3</th>\n",
       "      <td>3</td>\n",
       "      <td>0</td>\n",
       "      <td>0</td>\n",
       "      <td>4</td>\n",
       "      <td>3</td>\n",
       "      <td>2</td>\n",
       "      <td>2</td>\n",
       "      <td>0</td>\n",
       "      <td>0.0</td>\n",
       "      <td>3.0</td>\n",
       "      <td>...</td>\n",
       "      <td>0.0</td>\n",
       "      <td>0.0</td>\n",
       "      <td>0.0</td>\n",
       "      <td>0.0</td>\n",
       "      <td>0.0</td>\n",
       "      <td>0.0</td>\n",
       "      <td>1.0</td>\n",
       "      <td>0.0</td>\n",
       "      <td>0.0</td>\n",
       "      <td>1.0</td>\n",
       "    </tr>\n",
       "    <tr>\n",
       "      <th>4</th>\n",
       "      <td>3</td>\n",
       "      <td>0</td>\n",
       "      <td>0</td>\n",
       "      <td>1</td>\n",
       "      <td>3</td>\n",
       "      <td>1</td>\n",
       "      <td>1</td>\n",
       "      <td>0</td>\n",
       "      <td>0.0</td>\n",
       "      <td>3.0</td>\n",
       "      <td>...</td>\n",
       "      <td>0.0</td>\n",
       "      <td>0.0</td>\n",
       "      <td>0.0</td>\n",
       "      <td>0.0</td>\n",
       "      <td>0.0</td>\n",
       "      <td>0.0</td>\n",
       "      <td>1.0</td>\n",
       "      <td>0.0</td>\n",
       "      <td>1.0</td>\n",
       "      <td>0.0</td>\n",
       "    </tr>\n",
       "  </tbody>\n",
       "</table>\n",
       "<p>5 rows × 56 columns</p>\n",
       "</div>"
      ],
      "text/plain": [
       "   P11  P15  P17  P19  P21  P22  P23  P24  P27  P29  ...   29   30   31   32  \\\n",
       "0    5    0    2    5    3    1    4    0  0.0  3.0  ...  0.0  0.0  0.0  0.0   \n",
       "1    2    0    0    5    3    2    1    0  0.0  3.0  ...  0.0  0.0  0.0  0.0   \n",
       "2    4    0    0    5    5    5    5    0  0.0  3.0  ...  0.0  0.0  0.0  0.0   \n",
       "3    3    0    0    4    3    2    2    0  0.0  3.0  ...  0.0  0.0  0.0  0.0   \n",
       "4    3    0    0    1    3    1    1    0  0.0  3.0  ...  0.0  0.0  0.0  0.0   \n",
       "\n",
       "    33   34   35   36   37   38  \n",
       "0  0.0  0.0  1.0  0.0  1.0  0.0  \n",
       "1  0.0  0.0  1.0  0.0  0.0  1.0  \n",
       "2  0.0  1.0  0.0  0.0  1.0  0.0  \n",
       "3  0.0  0.0  1.0  0.0  0.0  1.0  \n",
       "4  0.0  0.0  1.0  0.0  1.0  0.0  \n",
       "\n",
       "[5 rows x 56 columns]"
      ]
     },
     "execution_count": 660,
     "metadata": {},
     "output_type": "execute_result"
    }
   ],
   "source": [
    "test_data_enc.head()"
   ]
  },
  {
   "cell_type": "code",
   "execution_count": 661,
   "metadata": {},
   "outputs": [],
   "source": [
    "train_data_new=train_data_enc.sample(frac=0.7,random_state=200) #random state is a seed value\n",
    "val_data=train_data_enc.drop(train_data_new.index)\n"
   ]
  },
  {
   "cell_type": "code",
   "execution_count": 662,
   "metadata": {},
   "outputs": [],
   "source": [
    "train_data_new_dummies=train_data_dummies.sample(frac=0.7,random_state=200) #random state is a seed value\n",
    "val_data_dummies=train_data_dummies.drop(train_data_new_dummies.index)\n"
   ]
  },
  {
   "cell_type": "code",
   "execution_count": 663,
   "metadata": {},
   "outputs": [
    {
     "data": {
      "text/plain": [
       "(96, 57)"
      ]
     },
     "execution_count": 663,
     "metadata": {},
     "output_type": "execute_result"
    }
   ],
   "source": [
    "train_data_new.shape"
   ]
  },
  {
   "cell_type": "code",
   "execution_count": 664,
   "metadata": {},
   "outputs": [],
   "source": [
    "#Performing train val split on the data\n",
    "X_train, y_train = train_data_new.loc[:,train_data_new.columns!='revenue'], train_data_new.loc[:,'revenue']\n",
    "\n",
    "X_val, y_val = val_data.loc[:,val_data.columns!='revenue'], val_data.loc[:,'revenue']"
   ]
  },
  {
   "cell_type": "code",
   "execution_count": 665,
   "metadata": {},
   "outputs": [],
   "source": [
    "#Performing train val split on the data\n",
    "X_train_dummies, y_train_dummies = train_data_new_dummies.loc[:,train_data_new_dummies.columns!='revenue'], train_data_new_dummies.loc[:,'revenue']\n",
    "\n",
    "X_val_dummmies, y_val_dummies = val_data_dummies.loc[:,val_data_dummies.columns!='revenue'], val_data_dummies.loc[:,'revenue']"
   ]
  },
  {
   "cell_type": "code",
   "execution_count": 666,
   "metadata": {},
   "outputs": [
    {
     "data": {
      "text/html": [
       "<div>\n",
       "<style scoped>\n",
       "    .dataframe tbody tr th:only-of-type {\n",
       "        vertical-align: middle;\n",
       "    }\n",
       "\n",
       "    .dataframe tbody tr th {\n",
       "        vertical-align: top;\n",
       "    }\n",
       "\n",
       "    .dataframe thead th {\n",
       "        text-align: right;\n",
       "    }\n",
       "</style>\n",
       "<table border=\"1\" class=\"dataframe\">\n",
       "  <thead>\n",
       "    <tr style=\"text-align: right;\">\n",
       "      <th></th>\n",
       "      <th>P11</th>\n",
       "      <th>P15</th>\n",
       "      <th>P17</th>\n",
       "      <th>P19</th>\n",
       "      <th>P21</th>\n",
       "      <th>P22</th>\n",
       "      <th>P23</th>\n",
       "      <th>P24</th>\n",
       "      <th>P27</th>\n",
       "      <th>P29</th>\n",
       "      <th>...</th>\n",
       "      <th>29</th>\n",
       "      <th>30</th>\n",
       "      <th>31</th>\n",
       "      <th>32</th>\n",
       "      <th>33</th>\n",
       "      <th>34</th>\n",
       "      <th>35</th>\n",
       "      <th>36</th>\n",
       "      <th>37</th>\n",
       "      <th>38</th>\n",
       "    </tr>\n",
       "  </thead>\n",
       "  <tbody>\n",
       "    <tr>\n",
       "      <th>19</th>\n",
       "      <td>1</td>\n",
       "      <td>0</td>\n",
       "      <td>0</td>\n",
       "      <td>2</td>\n",
       "      <td>1</td>\n",
       "      <td>1</td>\n",
       "      <td>1</td>\n",
       "      <td>0</td>\n",
       "      <td>0.0</td>\n",
       "      <td>3.0</td>\n",
       "      <td>...</td>\n",
       "      <td>0.0</td>\n",
       "      <td>0.0</td>\n",
       "      <td>0.0</td>\n",
       "      <td>0.0</td>\n",
       "      <td>0.0</td>\n",
       "      <td>0.0</td>\n",
       "      <td>1.0</td>\n",
       "      <td>0.0</td>\n",
       "      <td>0.0</td>\n",
       "      <td>1.0</td>\n",
       "    </tr>\n",
       "    <tr>\n",
       "      <th>2</th>\n",
       "      <td>2</td>\n",
       "      <td>0</td>\n",
       "      <td>0</td>\n",
       "      <td>1</td>\n",
       "      <td>1</td>\n",
       "      <td>1</td>\n",
       "      <td>1</td>\n",
       "      <td>0</td>\n",
       "      <td>0.0</td>\n",
       "      <td>3.0</td>\n",
       "      <td>...</td>\n",
       "      <td>0.0</td>\n",
       "      <td>0.0</td>\n",
       "      <td>0.0</td>\n",
       "      <td>0.0</td>\n",
       "      <td>0.0</td>\n",
       "      <td>0.0</td>\n",
       "      <td>1.0</td>\n",
       "      <td>0.0</td>\n",
       "      <td>0.0</td>\n",
       "      <td>1.0</td>\n",
       "    </tr>\n",
       "    <tr>\n",
       "      <th>128</th>\n",
       "      <td>1</td>\n",
       "      <td>0</td>\n",
       "      <td>0</td>\n",
       "      <td>1</td>\n",
       "      <td>1</td>\n",
       "      <td>1</td>\n",
       "      <td>1</td>\n",
       "      <td>0</td>\n",
       "      <td>0.0</td>\n",
       "      <td>2.0</td>\n",
       "      <td>...</td>\n",
       "      <td>0.0</td>\n",
       "      <td>0.0</td>\n",
       "      <td>0.0</td>\n",
       "      <td>0.0</td>\n",
       "      <td>0.0</td>\n",
       "      <td>1.0</td>\n",
       "      <td>0.0</td>\n",
       "      <td>0.0</td>\n",
       "      <td>1.0</td>\n",
       "      <td>0.0</td>\n",
       "    </tr>\n",
       "    <tr>\n",
       "      <th>90</th>\n",
       "      <td>4</td>\n",
       "      <td>0</td>\n",
       "      <td>0</td>\n",
       "      <td>15</td>\n",
       "      <td>3</td>\n",
       "      <td>3</td>\n",
       "      <td>5</td>\n",
       "      <td>0</td>\n",
       "      <td>0.0</td>\n",
       "      <td>7.5</td>\n",
       "      <td>...</td>\n",
       "      <td>0.0</td>\n",
       "      <td>0.0</td>\n",
       "      <td>1.0</td>\n",
       "      <td>0.0</td>\n",
       "      <td>0.0</td>\n",
       "      <td>1.0</td>\n",
       "      <td>0.0</td>\n",
       "      <td>0.0</td>\n",
       "      <td>1.0</td>\n",
       "      <td>0.0</td>\n",
       "    </tr>\n",
       "    <tr>\n",
       "      <th>124</th>\n",
       "      <td>2</td>\n",
       "      <td>0</td>\n",
       "      <td>0</td>\n",
       "      <td>1</td>\n",
       "      <td>2</td>\n",
       "      <td>1</td>\n",
       "      <td>2</td>\n",
       "      <td>0</td>\n",
       "      <td>0.0</td>\n",
       "      <td>3.0</td>\n",
       "      <td>...</td>\n",
       "      <td>0.0</td>\n",
       "      <td>0.0</td>\n",
       "      <td>0.0</td>\n",
       "      <td>0.0</td>\n",
       "      <td>0.0</td>\n",
       "      <td>1.0</td>\n",
       "      <td>0.0</td>\n",
       "      <td>1.0</td>\n",
       "      <td>0.0</td>\n",
       "      <td>0.0</td>\n",
       "    </tr>\n",
       "  </tbody>\n",
       "</table>\n",
       "<p>5 rows × 56 columns</p>\n",
       "</div>"
      ],
      "text/plain": [
       "     P11  P15  P17  P19  P21  P22  P23  P24  P27  P29  ...   29   30   31  \\\n",
       "19     1    0    0    2    1    1    1    0  0.0  3.0  ...  0.0  0.0  0.0   \n",
       "2      2    0    0    1    1    1    1    0  0.0  3.0  ...  0.0  0.0  0.0   \n",
       "128    1    0    0    1    1    1    1    0  0.0  2.0  ...  0.0  0.0  0.0   \n",
       "90     4    0    0   15    3    3    5    0  0.0  7.5  ...  0.0  0.0  1.0   \n",
       "124    2    0    0    1    2    1    2    0  0.0  3.0  ...  0.0  0.0  0.0   \n",
       "\n",
       "      32   33   34   35   36   37   38  \n",
       "19   0.0  0.0  0.0  1.0  0.0  0.0  1.0  \n",
       "2    0.0  0.0  0.0  1.0  0.0  0.0  1.0  \n",
       "128  0.0  0.0  1.0  0.0  0.0  1.0  0.0  \n",
       "90   0.0  0.0  1.0  0.0  0.0  1.0  0.0  \n",
       "124  0.0  0.0  1.0  0.0  1.0  0.0  0.0  \n",
       "\n",
       "[5 rows x 56 columns]"
      ]
     },
     "execution_count": 666,
     "metadata": {},
     "output_type": "execute_result"
    }
   ],
   "source": [
    "X_train.head()"
   ]
  },
  {
   "cell_type": "code",
   "execution_count": 517,
   "metadata": {
    "scrolled": true
   },
   "outputs": [
    {
     "data": {
      "text/html": [
       "<table class=\"simpletable\">\n",
       "<caption>OLS Regression Results</caption>\n",
       "<tr>\n",
       "  <th>Dep. Variable:</th>         <td>revenue</td>     <th>  R-squared:         </th> <td>   0.446</td>\n",
       "</tr>\n",
       "<tr>\n",
       "  <th>Model:</th>                   <td>OLS</td>       <th>  Adj. R-squared:    </th> <td>  -0.097</td>\n",
       "</tr>\n",
       "<tr>\n",
       "  <th>Method:</th>             <td>Least Squares</td>  <th>  F-statistic:       </th> <td>  0.8217</td>\n",
       "</tr>\n",
       "<tr>\n",
       "  <th>Date:</th>             <td>Wed, 29 Apr 2020</td> <th>  Prob (F-statistic):</th>  <td> 0.749</td> \n",
       "</tr>\n",
       "<tr>\n",
       "  <th>Time:</th>                 <td>02:04:22</td>     <th>  Log-Likelihood:    </th> <td> -1489.6</td>\n",
       "</tr>\n",
       "<tr>\n",
       "  <th>No. Observations:</th>      <td>    96</td>      <th>  AIC:               </th> <td>   3075.</td>\n",
       "</tr>\n",
       "<tr>\n",
       "  <th>Df Residuals:</th>          <td>    48</td>      <th>  BIC:               </th> <td>   3198.</td>\n",
       "</tr>\n",
       "<tr>\n",
       "  <th>Df Model:</th>              <td>    47</td>      <th>                     </th>     <td> </td>   \n",
       "</tr>\n",
       "<tr>\n",
       "  <th>Covariance Type:</th>      <td>nonrobust</td>    <th>                     </th>     <td> </td>   \n",
       "</tr>\n",
       "</table>\n",
       "<table class=\"simpletable\">\n",
       "<tr>\n",
       "       <td></td>         <th>coef</th>     <th>std err</th>      <th>t</th>      <th>P>|t|</th>  <th>[0.025</th>    <th>0.975]</th>  \n",
       "</tr>\n",
       "<tr>\n",
       "  <th>P11</th>        <td> 2.944e+04</td> <td> 2.17e+05</td> <td>    0.136</td> <td> 0.892</td> <td>-4.06e+05</td> <td> 4.65e+05</td>\n",
       "</tr>\n",
       "<tr>\n",
       "  <th>P15</th>        <td>-2.237e+05</td> <td> 3.59e+05</td> <td>   -0.622</td> <td> 0.537</td> <td>-9.46e+05</td> <td> 4.99e+05</td>\n",
       "</tr>\n",
       "<tr>\n",
       "  <th>P17</th>        <td> 1.792e+05</td> <td> 2.86e+05</td> <td>    0.627</td> <td> 0.533</td> <td>-3.95e+05</td> <td> 7.53e+05</td>\n",
       "</tr>\n",
       "<tr>\n",
       "  <th>P19</th>        <td>-4.506e+04</td> <td>  1.3e+05</td> <td>   -0.346</td> <td> 0.731</td> <td>-3.07e+05</td> <td> 2.17e+05</td>\n",
       "</tr>\n",
       "<tr>\n",
       "  <th>P21</th>        <td> 6.528e+04</td> <td> 3.47e+05</td> <td>    0.188</td> <td> 0.851</td> <td>-6.32e+05</td> <td> 7.63e+05</td>\n",
       "</tr>\n",
       "<tr>\n",
       "  <th>P22</th>        <td>-2.962e+05</td> <td>  2.5e+05</td> <td>   -1.183</td> <td> 0.243</td> <td>   -8e+05</td> <td> 2.07e+05</td>\n",
       "</tr>\n",
       "<tr>\n",
       "  <th>P23</th>        <td> 1.361e+05</td> <td> 1.13e+05</td> <td>    1.205</td> <td> 0.234</td> <td> -9.1e+04</td> <td> 3.63e+05</td>\n",
       "</tr>\n",
       "<tr>\n",
       "  <th>P24</th>        <td>-9.865e+04</td> <td> 2.78e+05</td> <td>   -0.355</td> <td> 0.724</td> <td>-6.57e+05</td> <td>  4.6e+05</td>\n",
       "</tr>\n",
       "<tr>\n",
       "  <th>P27</th>        <td>-1.199e+05</td> <td> 2.82e+05</td> <td>   -0.425</td> <td> 0.672</td> <td>-6.86e+05</td> <td> 4.47e+05</td>\n",
       "</tr>\n",
       "<tr>\n",
       "  <th>P29</th>        <td> 2.719e+04</td> <td> 2.26e+05</td> <td>    0.120</td> <td> 0.905</td> <td>-4.28e+05</td> <td> 4.82e+05</td>\n",
       "</tr>\n",
       "<tr>\n",
       "  <th>P30</th>        <td>-1.022e+05</td> <td> 1.12e+05</td> <td>   -0.909</td> <td> 0.368</td> <td>-3.28e+05</td> <td> 1.24e+05</td>\n",
       "</tr>\n",
       "<tr>\n",
       "  <th>P31</th>        <td> -4.17e+04</td> <td> 2.04e+05</td> <td>   -0.204</td> <td> 0.839</td> <td>-4.53e+05</td> <td> 3.69e+05</td>\n",
       "</tr>\n",
       "<tr>\n",
       "  <th>P33</th>        <td> 4.815e+05</td> <td> 3.95e+05</td> <td>    1.219</td> <td> 0.229</td> <td>-3.13e+05</td> <td> 1.28e+06</td>\n",
       "</tr>\n",
       "<tr>\n",
       "  <th>P37</th>        <td> 2.031e+05</td> <td> 3.94e+05</td> <td>    0.515</td> <td> 0.609</td> <td> -5.9e+05</td> <td> 9.96e+05</td>\n",
       "</tr>\n",
       "<tr>\n",
       "  <th>P5</th>         <td> 2.313e+05</td> <td>  2.9e+05</td> <td>    0.799</td> <td> 0.428</td> <td>-3.51e+05</td> <td> 8.14e+05</td>\n",
       "</tr>\n",
       "<tr>\n",
       "  <th>P6</th>         <td>-1.096e+04</td> <td> 1.96e+05</td> <td>   -0.056</td> <td> 0.956</td> <td>-4.04e+05</td> <td> 3.83e+05</td>\n",
       "</tr>\n",
       "<tr>\n",
       "  <th>total_days</th> <td>   44.5214</td> <td>  182.399</td> <td>    0.244</td> <td> 0.808</td> <td> -322.217</td> <td>  411.259</td>\n",
       "</tr>\n",
       "<tr>\n",
       "  <th>0</th>          <td> 1.417e+06</td> <td> 2.09e+06</td> <td>    0.679</td> <td> 0.500</td> <td>-2.78e+06</td> <td> 5.61e+06</td>\n",
       "</tr>\n",
       "<tr>\n",
       "  <th>1</th>          <td>  9.91e+05</td> <td> 2.28e+06</td> <td>    0.435</td> <td> 0.666</td> <td>-3.59e+06</td> <td> 5.58e+06</td>\n",
       "</tr>\n",
       "<tr>\n",
       "  <th>2</th>          <td> 7.248e-09</td> <td> 7.17e-09</td> <td>    1.011</td> <td> 0.317</td> <td>-7.17e-09</td> <td> 2.17e-08</td>\n",
       "</tr>\n",
       "<tr>\n",
       "  <th>3</th>          <td>-1.018e+06</td> <td> 6.03e+05</td> <td>   -1.687</td> <td> 0.098</td> <td>-2.23e+06</td> <td> 1.95e+05</td>\n",
       "</tr>\n",
       "<tr>\n",
       "  <th>4</th>          <td> -7.69e+05</td> <td> 1.41e+06</td> <td>   -0.546</td> <td> 0.587</td> <td> -3.6e+06</td> <td> 2.06e+06</td>\n",
       "</tr>\n",
       "<tr>\n",
       "  <th>5</th>          <td> 4.891e-10</td> <td> 4.98e-09</td> <td>    0.098</td> <td> 0.922</td> <td>-9.53e-09</td> <td> 1.05e-08</td>\n",
       "</tr>\n",
       "<tr>\n",
       "  <th>6</th>          <td>-9.924e+05</td> <td> 2.62e+06</td> <td>   -0.378</td> <td> 0.707</td> <td>-6.27e+06</td> <td> 4.29e+06</td>\n",
       "</tr>\n",
       "<tr>\n",
       "  <th>7</th>          <td> 7.266e+05</td> <td> 1.89e+06</td> <td>    0.384</td> <td> 0.703</td> <td>-3.08e+06</td> <td> 4.53e+06</td>\n",
       "</tr>\n",
       "<tr>\n",
       "  <th>8</th>          <td> 2.174e+06</td> <td> 1.44e+06</td> <td>    1.507</td> <td> 0.138</td> <td>-7.26e+05</td> <td> 5.07e+06</td>\n",
       "</tr>\n",
       "<tr>\n",
       "  <th>9</th>          <td>-5.684e+05</td> <td> 2.09e+06</td> <td>   -0.272</td> <td> 0.787</td> <td>-4.77e+06</td> <td> 3.63e+06</td>\n",
       "</tr>\n",
       "<tr>\n",
       "  <th>10</th>         <td>   2.9e+05</td> <td> 1.21e+06</td> <td>    0.241</td> <td> 0.811</td> <td>-2.13e+06</td> <td> 2.71e+06</td>\n",
       "</tr>\n",
       "<tr>\n",
       "  <th>11</th>         <td> 1.242e+06</td> <td> 3.02e+06</td> <td>    0.411</td> <td> 0.683</td> <td>-4.83e+06</td> <td> 7.31e+06</td>\n",
       "</tr>\n",
       "<tr>\n",
       "  <th>12</th>         <td>-5.597e-11</td> <td> 3.96e-09</td> <td>   -0.014</td> <td> 0.989</td> <td>-8.02e-09</td> <td>  7.9e-09</td>\n",
       "</tr>\n",
       "<tr>\n",
       "  <th>13</th>         <td> 1.259e+06</td> <td> 1.42e+06</td> <td>    0.884</td> <td> 0.381</td> <td> -1.6e+06</td> <td> 4.12e+06</td>\n",
       "</tr>\n",
       "<tr>\n",
       "  <th>14</th>         <td>   1.4e+06</td> <td> 2.07e+06</td> <td>    0.676</td> <td> 0.502</td> <td>-2.76e+06</td> <td> 5.56e+06</td>\n",
       "</tr>\n",
       "<tr>\n",
       "  <th>15</th>         <td> 2.833e+05</td> <td> 2.11e+06</td> <td>    0.134</td> <td> 0.894</td> <td>-3.96e+06</td> <td> 4.52e+06</td>\n",
       "</tr>\n",
       "<tr>\n",
       "  <th>16</th>         <td> 2.277e+05</td> <td> 1.96e+06</td> <td>    0.116</td> <td> 0.908</td> <td>-3.71e+06</td> <td> 4.16e+06</td>\n",
       "</tr>\n",
       "<tr>\n",
       "  <th>17</th>         <td>-4.876e-10</td> <td> 9.48e-10</td> <td>   -0.514</td> <td> 0.609</td> <td>-2.39e-09</td> <td> 1.42e-09</td>\n",
       "</tr>\n",
       "<tr>\n",
       "  <th>18</th>         <td> 3.515e+06</td> <td> 1.89e+06</td> <td>    1.859</td> <td> 0.069</td> <td>-2.87e+05</td> <td> 7.32e+06</td>\n",
       "</tr>\n",
       "<tr>\n",
       "  <th>19</th>         <td>-2.384e+06</td> <td> 3.65e+06</td> <td>   -0.654</td> <td> 0.516</td> <td>-9.72e+06</td> <td> 4.95e+06</td>\n",
       "</tr>\n",
       "<tr>\n",
       "  <th>20</th>         <td> -6.61e+05</td> <td> 1.42e+06</td> <td>   -0.466</td> <td> 0.643</td> <td>-3.51e+06</td> <td> 2.19e+06</td>\n",
       "</tr>\n",
       "<tr>\n",
       "  <th>21</th>         <td> -7.04e+05</td> <td> 1.89e+06</td> <td>   -0.373</td> <td> 0.711</td> <td> -4.5e+06</td> <td> 3.09e+06</td>\n",
       "</tr>\n",
       "<tr>\n",
       "  <th>22</th>         <td>-2.277e+06</td> <td>  1.9e+06</td> <td>   -1.200</td> <td> 0.236</td> <td>-6.09e+06</td> <td> 1.54e+06</td>\n",
       "</tr>\n",
       "<tr>\n",
       "  <th>23</th>         <td> 8.473e+04</td> <td> 1.88e+06</td> <td>    0.045</td> <td> 0.964</td> <td> -3.7e+06</td> <td> 3.87e+06</td>\n",
       "</tr>\n",
       "<tr>\n",
       "  <th>24</th>         <td>-2.729e+05</td> <td> 1.88e+06</td> <td>   -0.145</td> <td> 0.885</td> <td>-4.06e+06</td> <td> 3.51e+06</td>\n",
       "</tr>\n",
       "<tr>\n",
       "  <th>25</th>         <td>-1.798e+05</td> <td> 1.22e+06</td> <td>   -0.148</td> <td> 0.883</td> <td>-2.62e+06</td> <td> 2.27e+06</td>\n",
       "</tr>\n",
       "<tr>\n",
       "  <th>26</th>         <td>-2.946e+05</td> <td> 9.62e+05</td> <td>   -0.306</td> <td> 0.761</td> <td>-2.23e+06</td> <td> 1.64e+06</td>\n",
       "</tr>\n",
       "<tr>\n",
       "  <th>27</th>         <td> 2.776e+05</td> <td> 1.22e+06</td> <td>    0.227</td> <td> 0.821</td> <td>-2.18e+06</td> <td> 2.74e+06</td>\n",
       "</tr>\n",
       "<tr>\n",
       "  <th>28</th>         <td>-1.993e+06</td> <td> 2.93e+06</td> <td>   -0.679</td> <td> 0.500</td> <td>-7.89e+06</td> <td>  3.9e+06</td>\n",
       "</tr>\n",
       "<tr>\n",
       "  <th>29</th>         <td> 7.615e+05</td> <td> 3.62e+06</td> <td>    0.211</td> <td> 0.834</td> <td>-6.51e+06</td> <td> 8.03e+06</td>\n",
       "</tr>\n",
       "<tr>\n",
       "  <th>30</th>         <td>-1.972e+06</td> <td> 1.87e+06</td> <td>   -1.055</td> <td> 0.297</td> <td>-5.73e+06</td> <td> 1.79e+06</td>\n",
       "</tr>\n",
       "<tr>\n",
       "  <th>31</th>         <td>   1.3e+06</td> <td> 4.97e+05</td> <td>    2.618</td> <td> 0.012</td> <td> 3.02e+05</td> <td>  2.3e+06</td>\n",
       "</tr>\n",
       "<tr>\n",
       "  <th>32</th>         <td> 1.793e+06</td> <td> 6.06e+05</td> <td>    2.958</td> <td> 0.005</td> <td> 5.74e+05</td> <td> 3.01e+06</td>\n",
       "</tr>\n",
       "<tr>\n",
       "  <th>33</th>         <td>         0</td> <td>        0</td> <td>      nan</td> <td>   nan</td> <td>        0</td> <td>        0</td>\n",
       "</tr>\n",
       "<tr>\n",
       "  <th>34</th>         <td> 2.076e+06</td> <td> 7.55e+05</td> <td>    2.748</td> <td> 0.008</td> <td> 5.57e+05</td> <td>  3.6e+06</td>\n",
       "</tr>\n",
       "<tr>\n",
       "  <th>35</th>         <td> 1.581e+06</td> <td> 1.03e+06</td> <td>    1.539</td> <td> 0.130</td> <td>-4.84e+05</td> <td> 3.65e+06</td>\n",
       "</tr>\n",
       "<tr>\n",
       "  <th>36</th>         <td> 1.209e+06</td> <td> 1.86e+06</td> <td>    0.651</td> <td> 0.518</td> <td>-2.52e+06</td> <td> 4.94e+06</td>\n",
       "</tr>\n",
       "<tr>\n",
       "  <th>37</th>         <td> 1.568e+06</td> <td> 6.57e+05</td> <td>    2.389</td> <td> 0.021</td> <td> 2.48e+05</td> <td> 2.89e+06</td>\n",
       "</tr>\n",
       "<tr>\n",
       "  <th>38</th>         <td> 8.796e+05</td> <td> 7.95e+05</td> <td>    1.107</td> <td> 0.274</td> <td>-7.18e+05</td> <td> 2.48e+06</td>\n",
       "</tr>\n",
       "</table>\n",
       "<table class=\"simpletable\">\n",
       "<tr>\n",
       "  <th>Omnibus:</th>       <td> 5.035</td> <th>  Durbin-Watson:     </th> <td>   1.693</td>\n",
       "</tr>\n",
       "<tr>\n",
       "  <th>Prob(Omnibus):</th> <td> 0.081</td> <th>  Jarque-Bera (JB):  </th> <td>   6.456</td>\n",
       "</tr>\n",
       "<tr>\n",
       "  <th>Skew:</th>          <td> 0.163</td> <th>  Prob(JB):          </th> <td>  0.0396</td>\n",
       "</tr>\n",
       "<tr>\n",
       "  <th>Kurtosis:</th>      <td> 4.228</td> <th>  Cond. No.          </th> <td>6.90e+19</td>\n",
       "</tr>\n",
       "</table><br/><br/>Warnings:<br/>[1] Standard Errors assume that the covariance matrix of the errors is correctly specified.<br/>[2] The smallest eigenvalue is 3.61e-31. This might indicate that there are<br/>strong multicollinearity problems or that the design matrix is singular."
      ],
      "text/plain": [
       "<class 'statsmodels.iolib.summary.Summary'>\n",
       "\"\"\"\n",
       "                            OLS Regression Results                            \n",
       "==============================================================================\n",
       "Dep. Variable:                revenue   R-squared:                       0.446\n",
       "Model:                            OLS   Adj. R-squared:                 -0.097\n",
       "Method:                 Least Squares   F-statistic:                    0.8217\n",
       "Date:                Wed, 29 Apr 2020   Prob (F-statistic):              0.749\n",
       "Time:                        02:04:22   Log-Likelihood:                -1489.6\n",
       "No. Observations:                  96   AIC:                             3075.\n",
       "Df Residuals:                      48   BIC:                             3198.\n",
       "Df Model:                          47                                         \n",
       "Covariance Type:            nonrobust                                         \n",
       "==============================================================================\n",
       "                 coef    std err          t      P>|t|      [0.025      0.975]\n",
       "------------------------------------------------------------------------------\n",
       "P11         2.944e+04   2.17e+05      0.136      0.892   -4.06e+05    4.65e+05\n",
       "P15        -2.237e+05   3.59e+05     -0.622      0.537   -9.46e+05    4.99e+05\n",
       "P17         1.792e+05   2.86e+05      0.627      0.533   -3.95e+05    7.53e+05\n",
       "P19        -4.506e+04    1.3e+05     -0.346      0.731   -3.07e+05    2.17e+05\n",
       "P21         6.528e+04   3.47e+05      0.188      0.851   -6.32e+05    7.63e+05\n",
       "P22        -2.962e+05    2.5e+05     -1.183      0.243      -8e+05    2.07e+05\n",
       "P23         1.361e+05   1.13e+05      1.205      0.234    -9.1e+04    3.63e+05\n",
       "P24        -9.865e+04   2.78e+05     -0.355      0.724   -6.57e+05     4.6e+05\n",
       "P27        -1.199e+05   2.82e+05     -0.425      0.672   -6.86e+05    4.47e+05\n",
       "P29         2.719e+04   2.26e+05      0.120      0.905   -4.28e+05    4.82e+05\n",
       "P30        -1.022e+05   1.12e+05     -0.909      0.368   -3.28e+05    1.24e+05\n",
       "P31         -4.17e+04   2.04e+05     -0.204      0.839   -4.53e+05    3.69e+05\n",
       "P33         4.815e+05   3.95e+05      1.219      0.229   -3.13e+05    1.28e+06\n",
       "P37         2.031e+05   3.94e+05      0.515      0.609    -5.9e+05    9.96e+05\n",
       "P5          2.313e+05    2.9e+05      0.799      0.428   -3.51e+05    8.14e+05\n",
       "P6         -1.096e+04   1.96e+05     -0.056      0.956   -4.04e+05    3.83e+05\n",
       "total_days    44.5214    182.399      0.244      0.808    -322.217     411.259\n",
       "0           1.417e+06   2.09e+06      0.679      0.500   -2.78e+06    5.61e+06\n",
       "1            9.91e+05   2.28e+06      0.435      0.666   -3.59e+06    5.58e+06\n",
       "2           7.248e-09   7.17e-09      1.011      0.317   -7.17e-09    2.17e-08\n",
       "3          -1.018e+06   6.03e+05     -1.687      0.098   -2.23e+06    1.95e+05\n",
       "4           -7.69e+05   1.41e+06     -0.546      0.587    -3.6e+06    2.06e+06\n",
       "5           4.891e-10   4.98e-09      0.098      0.922   -9.53e-09    1.05e-08\n",
       "6          -9.924e+05   2.62e+06     -0.378      0.707   -6.27e+06    4.29e+06\n",
       "7           7.266e+05   1.89e+06      0.384      0.703   -3.08e+06    4.53e+06\n",
       "8           2.174e+06   1.44e+06      1.507      0.138   -7.26e+05    5.07e+06\n",
       "9          -5.684e+05   2.09e+06     -0.272      0.787   -4.77e+06    3.63e+06\n",
       "10            2.9e+05   1.21e+06      0.241      0.811   -2.13e+06    2.71e+06\n",
       "11          1.242e+06   3.02e+06      0.411      0.683   -4.83e+06    7.31e+06\n",
       "12         -5.597e-11   3.96e-09     -0.014      0.989   -8.02e-09     7.9e-09\n",
       "13          1.259e+06   1.42e+06      0.884      0.381    -1.6e+06    4.12e+06\n",
       "14            1.4e+06   2.07e+06      0.676      0.502   -2.76e+06    5.56e+06\n",
       "15          2.833e+05   2.11e+06      0.134      0.894   -3.96e+06    4.52e+06\n",
       "16          2.277e+05   1.96e+06      0.116      0.908   -3.71e+06    4.16e+06\n",
       "17         -4.876e-10   9.48e-10     -0.514      0.609   -2.39e-09    1.42e-09\n",
       "18          3.515e+06   1.89e+06      1.859      0.069   -2.87e+05    7.32e+06\n",
       "19         -2.384e+06   3.65e+06     -0.654      0.516   -9.72e+06    4.95e+06\n",
       "20          -6.61e+05   1.42e+06     -0.466      0.643   -3.51e+06    2.19e+06\n",
       "21          -7.04e+05   1.89e+06     -0.373      0.711    -4.5e+06    3.09e+06\n",
       "22         -2.277e+06    1.9e+06     -1.200      0.236   -6.09e+06    1.54e+06\n",
       "23          8.473e+04   1.88e+06      0.045      0.964    -3.7e+06    3.87e+06\n",
       "24         -2.729e+05   1.88e+06     -0.145      0.885   -4.06e+06    3.51e+06\n",
       "25         -1.798e+05   1.22e+06     -0.148      0.883   -2.62e+06    2.27e+06\n",
       "26         -2.946e+05   9.62e+05     -0.306      0.761   -2.23e+06    1.64e+06\n",
       "27          2.776e+05   1.22e+06      0.227      0.821   -2.18e+06    2.74e+06\n",
       "28         -1.993e+06   2.93e+06     -0.679      0.500   -7.89e+06     3.9e+06\n",
       "29          7.615e+05   3.62e+06      0.211      0.834   -6.51e+06    8.03e+06\n",
       "30         -1.972e+06   1.87e+06     -1.055      0.297   -5.73e+06    1.79e+06\n",
       "31            1.3e+06   4.97e+05      2.618      0.012    3.02e+05     2.3e+06\n",
       "32          1.793e+06   6.06e+05      2.958      0.005    5.74e+05    3.01e+06\n",
       "33                  0          0        nan        nan           0           0\n",
       "34          2.076e+06   7.55e+05      2.748      0.008    5.57e+05     3.6e+06\n",
       "35          1.581e+06   1.03e+06      1.539      0.130   -4.84e+05    3.65e+06\n",
       "36          1.209e+06   1.86e+06      0.651      0.518   -2.52e+06    4.94e+06\n",
       "37          1.568e+06   6.57e+05      2.389      0.021    2.48e+05    2.89e+06\n",
       "38          8.796e+05   7.95e+05      1.107      0.274   -7.18e+05    2.48e+06\n",
       "==============================================================================\n",
       "Omnibus:                        5.035   Durbin-Watson:                   1.693\n",
       "Prob(Omnibus):                  0.081   Jarque-Bera (JB):                6.456\n",
       "Skew:                           0.163   Prob(JB):                       0.0396\n",
       "Kurtosis:                       4.228   Cond. No.                     6.90e+19\n",
       "==============================================================================\n",
       "\n",
       "Warnings:\n",
       "[1] Standard Errors assume that the covariance matrix of the errors is correctly specified.\n",
       "[2] The smallest eigenvalue is 3.61e-31. This might indicate that there are\n",
       "strong multicollinearity problems or that the design matrix is singular.\n",
       "\"\"\""
      ]
     },
     "execution_count": 517,
     "metadata": {},
     "output_type": "execute_result"
    }
   ],
   "source": [
    "import statsmodels.api as sm\n",
    "# Note the difference in argument order\n",
    "linear_model = sm.OLS(y_train, X_train).fit()\n",
    "## make the predictions by the model\n",
    "\n",
    "linear_model.summary()"
   ]
  },
  {
   "cell_type": "code",
   "execution_count": 518,
   "metadata": {},
   "outputs": [],
   "source": [
    "pred_train = linear_model.predict(X_train) "
   ]
  },
  {
   "cell_type": "code",
   "execution_count": 519,
   "metadata": {},
   "outputs": [],
   "source": [
    "pred_val = linear_model.predict(X_val) "
   ]
  },
  {
   "cell_type": "code",
   "execution_count": 520,
   "metadata": {},
   "outputs": [],
   "source": [
    "pred_test = linear_model.predict(test_data_enc) "
   ]
  },
  {
   "cell_type": "code",
   "execution_count": 521,
   "metadata": {},
   "outputs": [
    {
     "data": {
      "text/plain": [
       "(100000,)"
      ]
     },
     "execution_count": 521,
     "metadata": {},
     "output_type": "execute_result"
    }
   ],
   "source": [
    "pred_test.shape"
   ]
  },
  {
   "cell_type": "code",
   "execution_count": 522,
   "metadata": {},
   "outputs": [],
   "source": [
    "df = pd.DataFrame(pred_test)\n",
    "df.to_csv(r'C:\\Users\\91989\\Documents\\PYTHON\\INSOFE_Internship\\TASK2\\restaurantrevenue\\lr2.csv')"
   ]
  },
  {
   "cell_type": "code",
   "execution_count": 523,
   "metadata": {},
   "outputs": [
    {
     "name": "stdout",
     "output_type": "stream",
     "text": [
      "RMSE: 1326532.596160\n"
     ]
    }
   ],
   "source": [
    "from sklearn.metrics import mean_squared_error\n",
    "from math import sqrt\n",
    "mse = mean_squared_error(y_train, pred_train)\n",
    "rmse = sqrt(mse)\n",
    "print('RMSE: %f' % rmse)"
   ]
  },
  {
   "cell_type": "code",
   "execution_count": 524,
   "metadata": {},
   "outputs": [
    {
     "name": "stdout",
     "output_type": "stream",
     "text": [
      "RMSE: 1870919.095195\n"
     ]
    }
   ],
   "source": [
    "from sklearn.metrics import mean_squared_error\n",
    "from math import sqrt\n",
    "mse = mean_squared_error(y_val, pred_val)\n",
    "rmse = sqrt(mse)\n",
    "print('RMSE: %f' % rmse)"
   ]
  },
  {
   "cell_type": "code",
   "execution_count": 525,
   "metadata": {},
   "outputs": [],
   "source": [
    "import numpy as np\n",
    "\n",
    "def mean_absolute_percentage_error(y_true, y_pred): \n",
    "    y_true, y_pred = np.array(y_true), np.array(y_pred)\n",
    "    return np.mean(np.abs((y_true - y_pred) / y_true)) * 100"
   ]
  },
  {
   "cell_type": "code",
   "execution_count": 526,
   "metadata": {},
   "outputs": [
    {
     "data": {
      "text/plain": [
       "26.908303246306886"
      ]
     },
     "execution_count": 526,
     "metadata": {},
     "output_type": "execute_result"
    }
   ],
   "source": [
    "mean_absolute_percentage_error(y_train, pred_train)"
   ]
  },
  {
   "cell_type": "code",
   "execution_count": 527,
   "metadata": {},
   "outputs": [
    {
     "data": {
      "text/plain": [
       "42.63306651901612"
      ]
     },
     "execution_count": 527,
     "metadata": {},
     "output_type": "execute_result"
    }
   ],
   "source": [
    "mean_absolute_percentage_error(y_val, pred_val)"
   ]
  },
  {
   "cell_type": "code",
   "execution_count": 65,
   "metadata": {
    "scrolled": true
   },
   "outputs": [
    {
     "data": {
      "text/html": [
       "<table class=\"simpletable\">\n",
       "<caption>OLS Regression Results</caption>\n",
       "<tr>\n",
       "  <th>Dep. Variable:</th>         <td>revenue</td>     <th>  R-squared:         </th> <td>   0.758</td>\n",
       "</tr>\n",
       "<tr>\n",
       "  <th>Model:</th>                   <td>OLS</td>       <th>  Adj. R-squared:    </th> <td>   0.149</td>\n",
       "</tr>\n",
       "<tr>\n",
       "  <th>Method:</th>             <td>Least Squares</td>  <th>  F-statistic:       </th> <td>   1.245</td>\n",
       "</tr>\n",
       "<tr>\n",
       "  <th>Date:</th>             <td>Tue, 28 Apr 2020</td> <th>  Prob (F-statistic):</th>  <td> 0.268</td> \n",
       "</tr>\n",
       "<tr>\n",
       "  <th>Time:</th>                 <td>23:00:37</td>     <th>  Log-Likelihood:    </th> <td> -1449.8</td>\n",
       "</tr>\n",
       "<tr>\n",
       "  <th>No. Observations:</th>      <td>    96</td>      <th>  AIC:               </th> <td>   3038.</td>\n",
       "</tr>\n",
       "<tr>\n",
       "  <th>Df Residuals:</th>          <td>    27</td>      <th>  BIC:               </th> <td>   3215.</td>\n",
       "</tr>\n",
       "<tr>\n",
       "  <th>Df Model:</th>              <td>    68</td>      <th>                     </th>     <td> </td>   \n",
       "</tr>\n",
       "<tr>\n",
       "  <th>Covariance Type:</th>      <td>nonrobust</td>    <th>                     </th>     <td> </td>   \n",
       "</tr>\n",
       "</table>\n",
       "<table class=\"simpletable\">\n",
       "<tr>\n",
       "           <td></td>              <th>coef</th>     <th>std err</th>      <th>t</th>      <th>P>|t|</th>  <th>[0.025</th>    <th>0.975]</th>  \n",
       "</tr>\n",
       "<tr>\n",
       "  <th>P1</th>                  <td> 2.255e+04</td> <td> 4.58e+05</td> <td>    0.049</td> <td> 0.961</td> <td>-9.18e+05</td> <td> 9.63e+05</td>\n",
       "</tr>\n",
       "<tr>\n",
       "  <th>P2</th>                  <td> -3.77e+05</td> <td> 4.95e+05</td> <td>   -0.762</td> <td> 0.453</td> <td>-1.39e+06</td> <td> 6.38e+05</td>\n",
       "</tr>\n",
       "<tr>\n",
       "  <th>P3</th>                  <td> 2.146e+06</td> <td> 9.43e+05</td> <td>    2.276</td> <td> 0.031</td> <td> 2.11e+05</td> <td> 4.08e+06</td>\n",
       "</tr>\n",
       "<tr>\n",
       "  <th>P4</th>                  <td>-1.389e+05</td> <td> 7.13e+05</td> <td>   -0.195</td> <td> 0.847</td> <td> -1.6e+06</td> <td> 1.32e+06</td>\n",
       "</tr>\n",
       "<tr>\n",
       "  <th>P5</th>                  <td> 4.344e+05</td> <td> 5.74e+05</td> <td>    0.757</td> <td> 0.455</td> <td>-7.42e+05</td> <td> 1.61e+06</td>\n",
       "</tr>\n",
       "<tr>\n",
       "  <th>P6</th>                  <td>-6.317e+04</td> <td> 3.14e+05</td> <td>   -0.201</td> <td> 0.842</td> <td>-7.08e+05</td> <td> 5.82e+05</td>\n",
       "</tr>\n",
       "<tr>\n",
       "  <th>P7</th>                  <td>-2.855e+05</td> <td> 5.25e+05</td> <td>   -0.544</td> <td> 0.591</td> <td>-1.36e+06</td> <td> 7.92e+05</td>\n",
       "</tr>\n",
       "<tr>\n",
       "  <th>P8</th>                  <td>-1.146e+06</td> <td> 7.31e+05</td> <td>   -1.567</td> <td> 0.129</td> <td>-2.65e+06</td> <td> 3.54e+05</td>\n",
       "</tr>\n",
       "<tr>\n",
       "  <th>P9</th>                  <td>-2.493e+06</td> <td> 1.45e+06</td> <td>   -1.721</td> <td> 0.097</td> <td>-5.46e+06</td> <td> 4.79e+05</td>\n",
       "</tr>\n",
       "<tr>\n",
       "  <th>P10</th>                 <td> 2.101e+06</td> <td> 3.27e+06</td> <td>    0.643</td> <td> 0.526</td> <td> -4.6e+06</td> <td> 8.81e+06</td>\n",
       "</tr>\n",
       "<tr>\n",
       "  <th>P11</th>                 <td>-1.058e+05</td> <td> 4.46e+05</td> <td>   -0.237</td> <td> 0.814</td> <td>-1.02e+06</td> <td>  8.1e+05</td>\n",
       "</tr>\n",
       "<tr>\n",
       "  <th>P12</th>                 <td> 2.244e+06</td> <td> 9.13e+05</td> <td>    2.459</td> <td> 0.021</td> <td> 3.72e+05</td> <td> 4.12e+06</td>\n",
       "</tr>\n",
       "<tr>\n",
       "  <th>P13</th>                 <td>-2.442e+06</td> <td> 3.39e+06</td> <td>   -0.721</td> <td> 0.477</td> <td>-9.39e+06</td> <td> 4.51e+06</td>\n",
       "</tr>\n",
       "<tr>\n",
       "  <th>P14</th>                 <td>-1.764e+05</td> <td> 5.44e+05</td> <td>   -0.325</td> <td> 0.748</td> <td>-1.29e+06</td> <td> 9.39e+05</td>\n",
       "</tr>\n",
       "<tr>\n",
       "  <th>P15</th>                 <td> 1.749e+05</td> <td> 7.45e+05</td> <td>    0.235</td> <td> 0.816</td> <td>-1.35e+06</td> <td>  1.7e+06</td>\n",
       "</tr>\n",
       "<tr>\n",
       "  <th>P16</th>                 <td>-9.081e+04</td> <td> 7.22e+05</td> <td>   -0.126</td> <td> 0.901</td> <td>-1.57e+06</td> <td> 1.39e+06</td>\n",
       "</tr>\n",
       "<tr>\n",
       "  <th>P17</th>                 <td>-1.554e+05</td> <td> 4.09e+05</td> <td>   -0.380</td> <td> 0.707</td> <td>-9.95e+05</td> <td> 6.84e+05</td>\n",
       "</tr>\n",
       "<tr>\n",
       "  <th>P18</th>                 <td>-3.036e+05</td> <td> 6.14e+05</td> <td>   -0.495</td> <td> 0.625</td> <td>-1.56e+06</td> <td> 9.56e+05</td>\n",
       "</tr>\n",
       "<tr>\n",
       "  <th>P19</th>                 <td> 7.402e+04</td> <td> 2.35e+05</td> <td>    0.315</td> <td> 0.755</td> <td>-4.08e+05</td> <td> 5.56e+05</td>\n",
       "</tr>\n",
       "<tr>\n",
       "  <th>P20</th>                 <td>-6.319e+05</td> <td> 2.56e+05</td> <td>   -2.468</td> <td> 0.020</td> <td>-1.16e+06</td> <td>-1.07e+05</td>\n",
       "</tr>\n",
       "<tr>\n",
       "  <th>P21</th>                 <td> 3.629e+05</td> <td> 5.09e+05</td> <td>    0.713</td> <td> 0.482</td> <td>-6.82e+05</td> <td> 1.41e+06</td>\n",
       "</tr>\n",
       "<tr>\n",
       "  <th>P22</th>                 <td>-5.907e+05</td> <td>  3.6e+05</td> <td>   -1.640</td> <td> 0.113</td> <td>-1.33e+06</td> <td> 1.48e+05</td>\n",
       "</tr>\n",
       "<tr>\n",
       "  <th>P23</th>                 <td>-2.038e+05</td> <td> 1.77e+05</td> <td>   -1.149</td> <td> 0.261</td> <td>-5.68e+05</td> <td>  1.6e+05</td>\n",
       "</tr>\n",
       "<tr>\n",
       "  <th>P24</th>                 <td> 1.073e+06</td> <td> 9.33e+05</td> <td>    1.150</td> <td> 0.260</td> <td>-8.42e+05</td> <td> 2.99e+06</td>\n",
       "</tr>\n",
       "<tr>\n",
       "  <th>P25</th>                 <td> 1.767e+06</td> <td> 7.71e+05</td> <td>    2.290</td> <td> 0.030</td> <td> 1.84e+05</td> <td> 3.35e+06</td>\n",
       "</tr>\n",
       "<tr>\n",
       "  <th>P26</th>                 <td>-2.985e+06</td> <td> 1.17e+06</td> <td>   -2.543</td> <td> 0.017</td> <td>-5.39e+06</td> <td>-5.77e+05</td>\n",
       "</tr>\n",
       "<tr>\n",
       "  <th>P27</th>                 <td> 1.633e+05</td> <td> 3.35e+05</td> <td>    0.488</td> <td> 0.629</td> <td>-5.23e+05</td> <td>  8.5e+05</td>\n",
       "</tr>\n",
       "<tr>\n",
       "  <th>P28</th>                 <td> 1.003e+06</td> <td> 3.48e+05</td> <td>    2.882</td> <td> 0.008</td> <td> 2.89e+05</td> <td> 1.72e+06</td>\n",
       "</tr>\n",
       "<tr>\n",
       "  <th>P29</th>                 <td> 4.209e+04</td> <td> 5.34e+05</td> <td>    0.079</td> <td> 0.938</td> <td>-1.05e+06</td> <td> 1.14e+06</td>\n",
       "</tr>\n",
       "<tr>\n",
       "  <th>P30</th>                 <td>-1.397e+05</td> <td> 2.77e+05</td> <td>   -0.505</td> <td> 0.617</td> <td>-7.07e+05</td> <td> 4.28e+05</td>\n",
       "</tr>\n",
       "<tr>\n",
       "  <th>P31</th>                 <td>-8.637e+04</td> <td> 5.71e+05</td> <td>   -0.151</td> <td> 0.881</td> <td>-1.26e+06</td> <td> 1.09e+06</td>\n",
       "</tr>\n",
       "<tr>\n",
       "  <th>P32</th>                 <td> 6.615e+05</td> <td> 5.53e+05</td> <td>    1.195</td> <td> 0.242</td> <td>-4.74e+05</td> <td>  1.8e+06</td>\n",
       "</tr>\n",
       "<tr>\n",
       "  <th>P33</th>                 <td> 8.739e+05</td> <td> 7.39e+05</td> <td>    1.183</td> <td> 0.247</td> <td>-6.42e+05</td> <td> 2.39e+06</td>\n",
       "</tr>\n",
       "<tr>\n",
       "  <th>P34</th>                 <td>-5.135e+05</td> <td> 6.34e+05</td> <td>   -0.810</td> <td> 0.425</td> <td>-1.81e+06</td> <td> 7.88e+05</td>\n",
       "</tr>\n",
       "<tr>\n",
       "  <th>P35</th>                 <td> 3.818e+05</td> <td> 6.71e+05</td> <td>    0.569</td> <td> 0.574</td> <td>-9.95e+05</td> <td> 1.76e+06</td>\n",
       "</tr>\n",
       "<tr>\n",
       "  <th>P36</th>                 <td> 5.833e+05</td> <td> 1.13e+06</td> <td>    0.517</td> <td> 0.609</td> <td>-1.73e+06</td> <td>  2.9e+06</td>\n",
       "</tr>\n",
       "<tr>\n",
       "  <th>P37</th>                 <td>-8.805e+05</td> <td> 5.32e+05</td> <td>   -1.654</td> <td> 0.110</td> <td>-1.97e+06</td> <td> 2.11e+05</td>\n",
       "</tr>\n",
       "<tr>\n",
       "  <th>total_days</th>          <td>  124.6610</td> <td>  243.989</td> <td>    0.511</td> <td> 0.614</td> <td> -375.964</td> <td>  625.286</td>\n",
       "</tr>\n",
       "<tr>\n",
       "  <th>City_Adana</th>          <td> 1.326e+07</td> <td> 4.57e+06</td> <td>    2.903</td> <td> 0.007</td> <td> 3.89e+06</td> <td> 2.26e+07</td>\n",
       "</tr>\n",
       "<tr>\n",
       "  <th>City_Afyonkarahisar</th> <td>-1.131e+06</td> <td> 3.84e+06</td> <td>   -0.295</td> <td> 0.770</td> <td>-9.01e+06</td> <td> 6.74e+06</td>\n",
       "</tr>\n",
       "<tr>\n",
       "  <th>City_Amasya</th>         <td> 5.942e-08</td> <td> 2.15e-08</td> <td>    2.761</td> <td> 0.010</td> <td> 1.53e-08</td> <td> 1.04e-07</td>\n",
       "</tr>\n",
       "<tr>\n",
       "  <th>City_Ankara</th>         <td>-5.435e+04</td> <td>  1.4e+06</td> <td>   -0.039</td> <td> 0.969</td> <td>-2.92e+06</td> <td> 2.81e+06</td>\n",
       "</tr>\n",
       "<tr>\n",
       "  <th>City_Antalya</th>        <td>-5.032e+06</td> <td> 2.76e+06</td> <td>   -1.826</td> <td> 0.079</td> <td>-1.07e+07</td> <td> 6.22e+05</td>\n",
       "</tr>\n",
       "<tr>\n",
       "  <th>City_Aydın</th>          <td>-2.482e-08</td> <td> 1.38e-08</td> <td>   -1.801</td> <td> 0.083</td> <td>-5.31e-08</td> <td> 3.45e-09</td>\n",
       "</tr>\n",
       "<tr>\n",
       "  <th>City_Balıkesir</th>      <td> -1.97e+06</td> <td> 3.42e+06</td> <td>   -0.576</td> <td> 0.569</td> <td>-8.99e+06</td> <td> 5.05e+06</td>\n",
       "</tr>\n",
       "<tr>\n",
       "  <th>City_Bolu</th>           <td>-2.922e+06</td> <td> 2.14e+06</td> <td>   -1.363</td> <td> 0.184</td> <td>-7.32e+06</td> <td> 1.48e+06</td>\n",
       "</tr>\n",
       "<tr>\n",
       "  <th>City_Bursa</th>          <td> 2.377e+06</td> <td> 1.73e+06</td> <td>    1.374</td> <td> 0.181</td> <td>-1.17e+06</td> <td> 5.93e+06</td>\n",
       "</tr>\n",
       "<tr>\n",
       "  <th>City_Denizli</th>        <td> -1.21e+06</td> <td>  2.7e+06</td> <td>   -0.447</td> <td> 0.658</td> <td>-6.76e+06</td> <td> 4.34e+06</td>\n",
       "</tr>\n",
       "<tr>\n",
       "  <th>City_Diyarbakır</th>     <td>  5.44e+06</td> <td> 2.47e+06</td> <td>    2.204</td> <td> 0.036</td> <td> 3.76e+05</td> <td> 1.05e+07</td>\n",
       "</tr>\n",
       "<tr>\n",
       "  <th>City_Edirne</th>         <td>-1.449e+06</td> <td> 4.51e+06</td> <td>   -0.321</td> <td> 0.751</td> <td>-1.07e+07</td> <td> 7.81e+06</td>\n",
       "</tr>\n",
       "<tr>\n",
       "  <th>City_Elazığ</th>         <td> 3.484e-10</td> <td> 2.57e-09</td> <td>    0.136</td> <td> 0.893</td> <td>-4.92e-09</td> <td> 5.62e-09</td>\n",
       "</tr>\n",
       "<tr>\n",
       "  <th>City_Eskişehir</th>      <td>-2.441e+06</td> <td> 2.11e+06</td> <td>   -1.156</td> <td> 0.258</td> <td>-6.77e+06</td> <td> 1.89e+06</td>\n",
       "</tr>\n",
       "<tr>\n",
       "  <th>City_Gaziantep</th>      <td> 5.667e+06</td> <td> 3.14e+06</td> <td>    1.803</td> <td> 0.083</td> <td>-7.81e+05</td> <td> 1.21e+07</td>\n",
       "</tr>\n",
       "<tr>\n",
       "  <th>City_Isparta</th>        <td>-3.528e+06</td> <td> 3.51e+06</td> <td>   -1.005</td> <td> 0.324</td> <td>-1.07e+07</td> <td> 3.67e+06</td>\n",
       "</tr>\n",
       "<tr>\n",
       "  <th>City_Karabük</th>        <td>-1.507e+05</td> <td> 2.61e+06</td> <td>   -0.058</td> <td> 0.954</td> <td>-5.51e+06</td> <td> 5.21e+06</td>\n",
       "</tr>\n",
       "<tr>\n",
       "  <th>City_Kastamonu</th>      <td>-8.253e-10</td> <td> 1.27e-09</td> <td>   -0.648</td> <td> 0.522</td> <td>-3.44e-09</td> <td> 1.79e-09</td>\n",
       "</tr>\n",
       "<tr>\n",
       "  <th>City_Kayseri</th>        <td> 3.725e+06</td> <td> 1.99e+06</td> <td>    1.870</td> <td> 0.072</td> <td>-3.63e+05</td> <td> 7.81e+06</td>\n",
       "</tr>\n",
       "<tr>\n",
       "  <th>City_Kocaeli</th>        <td>-3.073e+06</td> <td> 5.41e+06</td> <td>   -0.568</td> <td> 0.575</td> <td>-1.42e+07</td> <td> 8.03e+06</td>\n",
       "</tr>\n",
       "<tr>\n",
       "  <th>City_Konya</th>          <td>-2.339e+06</td> <td> 1.73e+06</td> <td>   -1.349</td> <td> 0.189</td> <td> -5.9e+06</td> <td> 1.22e+06</td>\n",
       "</tr>\n",
       "<tr>\n",
       "  <th>City_Kütahya</th>        <td>-1.646e+06</td> <td> 1.87e+06</td> <td>   -0.879</td> <td> 0.387</td> <td>-5.49e+06</td> <td>  2.2e+06</td>\n",
       "</tr>\n",
       "<tr>\n",
       "  <th>City_Kırklareli</th>     <td>-3.036e+06</td> <td> 2.06e+06</td> <td>   -1.471</td> <td> 0.153</td> <td>-7.27e+06</td> <td>  1.2e+06</td>\n",
       "</tr>\n",
       "<tr>\n",
       "  <th>City_Muğla</th>          <td>-7.144e+06</td> <td> 4.97e+06</td> <td>   -1.438</td> <td> 0.162</td> <td>-1.73e+07</td> <td> 3.05e+06</td>\n",
       "</tr>\n",
       "<tr>\n",
       "  <th>City_Osmaniye</th>       <td>  1.16e+06</td> <td> 2.04e+06</td> <td>    0.570</td> <td> 0.574</td> <td>-3.02e+06</td> <td> 5.34e+06</td>\n",
       "</tr>\n",
       "<tr>\n",
       "  <th>City_Sakarya</th>        <td> 8.067e+05</td> <td> 1.67e+06</td> <td>    0.484</td> <td> 0.632</td> <td>-2.61e+06</td> <td> 4.23e+06</td>\n",
       "</tr>\n",
       "<tr>\n",
       "  <th>City_Samsun</th>         <td>-4.523e+05</td> <td> 1.14e+06</td> <td>   -0.396</td> <td> 0.695</td> <td>-2.79e+06</td> <td> 1.89e+06</td>\n",
       "</tr>\n",
       "<tr>\n",
       "  <th>City_Tekirdağ</th>       <td> 8.928e+05</td> <td> 1.59e+06</td> <td>    0.562</td> <td> 0.579</td> <td>-2.37e+06</td> <td> 4.15e+06</td>\n",
       "</tr>\n",
       "<tr>\n",
       "  <th>City_Tokat</th>          <td> 4.334e+06</td> <td> 7.79e+06</td> <td>    0.556</td> <td> 0.583</td> <td>-1.16e+07</td> <td> 2.03e+07</td>\n",
       "</tr>\n",
       "<tr>\n",
       "  <th>City_Trabzon</th>        <td> 8.569e+06</td> <td> 8.41e+06</td> <td>    1.019</td> <td> 0.317</td> <td>-8.69e+06</td> <td> 2.58e+07</td>\n",
       "</tr>\n",
       "<tr>\n",
       "  <th>City_Uşak</th>           <td>-4.141e+06</td> <td> 2.47e+06</td> <td>   -1.675</td> <td> 0.105</td> <td>-9.21e+06</td> <td> 9.32e+05</td>\n",
       "</tr>\n",
       "<tr>\n",
       "  <th>City_İstanbul</th>       <td> 2.583e+06</td> <td> 1.37e+06</td> <td>    1.889</td> <td> 0.070</td> <td>-2.23e+05</td> <td> 5.39e+06</td>\n",
       "</tr>\n",
       "<tr>\n",
       "  <th>City_İzmir</th>          <td> 1.595e+06</td> <td> 1.39e+06</td> <td>    1.146</td> <td> 0.262</td> <td>-1.26e+06</td> <td> 4.45e+06</td>\n",
       "</tr>\n",
       "<tr>\n",
       "  <th>City_Şanlıurfa</th>      <td>         0</td> <td>        0</td> <td>      nan</td> <td>   nan</td> <td>        0</td> <td>        0</td>\n",
       "</tr>\n",
       "<tr>\n",
       "  <th>CG_Big Cities</th>       <td> 4.124e+06</td> <td> 3.64e+06</td> <td>    1.132</td> <td> 0.268</td> <td>-3.35e+06</td> <td> 1.16e+07</td>\n",
       "</tr>\n",
       "<tr>\n",
       "  <th>CG_Other</th>            <td> 4.565e+06</td> <td> 4.53e+06</td> <td>    1.007</td> <td> 0.323</td> <td>-4.74e+06</td> <td> 1.39e+07</td>\n",
       "</tr>\n",
       "<tr>\n",
       "  <th>Type_DT</th>             <td> 7.529e+06</td> <td> 3.93e+06</td> <td>    1.914</td> <td> 0.066</td> <td>-5.44e+05</td> <td> 1.56e+07</td>\n",
       "</tr>\n",
       "<tr>\n",
       "  <th>Type_FC</th>             <td> 1.049e+06</td> <td> 2.97e+06</td> <td>    0.354</td> <td> 0.726</td> <td>-5.04e+06</td> <td> 7.13e+06</td>\n",
       "</tr>\n",
       "<tr>\n",
       "  <th>Type_IL</th>             <td> 1.101e+05</td> <td> 3.32e+06</td> <td>    0.033</td> <td> 0.974</td> <td>-6.71e+06</td> <td> 6.93e+06</td>\n",
       "</tr>\n",
       "</table>\n",
       "<table class=\"simpletable\">\n",
       "<tr>\n",
       "  <th>Omnibus:</th>       <td> 7.737</td> <th>  Durbin-Watson:     </th> <td>   1.700</td>\n",
       "</tr>\n",
       "<tr>\n",
       "  <th>Prob(Omnibus):</th> <td> 0.021</td> <th>  Jarque-Bera (JB):  </th> <td>   9.079</td>\n",
       "</tr>\n",
       "<tr>\n",
       "  <th>Skew:</th>          <td> 0.430</td> <th>  Prob(JB):          </th> <td>  0.0107</td>\n",
       "</tr>\n",
       "<tr>\n",
       "  <th>Kurtosis:</th>      <td> 4.238</td> <th>  Cond. No.          </th> <td>1.27e+16</td>\n",
       "</tr>\n",
       "</table><br/><br/>Warnings:<br/>[1] Standard Errors assume that the covariance matrix of the errors is correctly specified.<br/>[2] The smallest eigenvalue is 1.07e-23. This might indicate that there are<br/>strong multicollinearity problems or that the design matrix is singular."
      ],
      "text/plain": [
       "<class 'statsmodels.iolib.summary.Summary'>\n",
       "\"\"\"\n",
       "                            OLS Regression Results                            \n",
       "==============================================================================\n",
       "Dep. Variable:                revenue   R-squared:                       0.758\n",
       "Model:                            OLS   Adj. R-squared:                  0.149\n",
       "Method:                 Least Squares   F-statistic:                     1.245\n",
       "Date:                Tue, 28 Apr 2020   Prob (F-statistic):              0.268\n",
       "Time:                        23:00:37   Log-Likelihood:                -1449.8\n",
       "No. Observations:                  96   AIC:                             3038.\n",
       "Df Residuals:                      27   BIC:                             3215.\n",
       "Df Model:                          68                                         \n",
       "Covariance Type:            nonrobust                                         \n",
       "=======================================================================================\n",
       "                          coef    std err          t      P>|t|      [0.025      0.975]\n",
       "---------------------------------------------------------------------------------------\n",
       "P1                   2.255e+04   4.58e+05      0.049      0.961   -9.18e+05    9.63e+05\n",
       "P2                   -3.77e+05   4.95e+05     -0.762      0.453   -1.39e+06    6.38e+05\n",
       "P3                   2.146e+06   9.43e+05      2.276      0.031    2.11e+05    4.08e+06\n",
       "P4                  -1.389e+05   7.13e+05     -0.195      0.847    -1.6e+06    1.32e+06\n",
       "P5                   4.344e+05   5.74e+05      0.757      0.455   -7.42e+05    1.61e+06\n",
       "P6                  -6.317e+04   3.14e+05     -0.201      0.842   -7.08e+05    5.82e+05\n",
       "P7                  -2.855e+05   5.25e+05     -0.544      0.591   -1.36e+06    7.92e+05\n",
       "P8                  -1.146e+06   7.31e+05     -1.567      0.129   -2.65e+06    3.54e+05\n",
       "P9                  -2.493e+06   1.45e+06     -1.721      0.097   -5.46e+06    4.79e+05\n",
       "P10                  2.101e+06   3.27e+06      0.643      0.526    -4.6e+06    8.81e+06\n",
       "P11                 -1.058e+05   4.46e+05     -0.237      0.814   -1.02e+06     8.1e+05\n",
       "P12                  2.244e+06   9.13e+05      2.459      0.021    3.72e+05    4.12e+06\n",
       "P13                 -2.442e+06   3.39e+06     -0.721      0.477   -9.39e+06    4.51e+06\n",
       "P14                 -1.764e+05   5.44e+05     -0.325      0.748   -1.29e+06    9.39e+05\n",
       "P15                  1.749e+05   7.45e+05      0.235      0.816   -1.35e+06     1.7e+06\n",
       "P16                 -9.081e+04   7.22e+05     -0.126      0.901   -1.57e+06    1.39e+06\n",
       "P17                 -1.554e+05   4.09e+05     -0.380      0.707   -9.95e+05    6.84e+05\n",
       "P18                 -3.036e+05   6.14e+05     -0.495      0.625   -1.56e+06    9.56e+05\n",
       "P19                  7.402e+04   2.35e+05      0.315      0.755   -4.08e+05    5.56e+05\n",
       "P20                 -6.319e+05   2.56e+05     -2.468      0.020   -1.16e+06   -1.07e+05\n",
       "P21                  3.629e+05   5.09e+05      0.713      0.482   -6.82e+05    1.41e+06\n",
       "P22                 -5.907e+05    3.6e+05     -1.640      0.113   -1.33e+06    1.48e+05\n",
       "P23                 -2.038e+05   1.77e+05     -1.149      0.261   -5.68e+05     1.6e+05\n",
       "P24                  1.073e+06   9.33e+05      1.150      0.260   -8.42e+05    2.99e+06\n",
       "P25                  1.767e+06   7.71e+05      2.290      0.030    1.84e+05    3.35e+06\n",
       "P26                 -2.985e+06   1.17e+06     -2.543      0.017   -5.39e+06   -5.77e+05\n",
       "P27                  1.633e+05   3.35e+05      0.488      0.629   -5.23e+05     8.5e+05\n",
       "P28                  1.003e+06   3.48e+05      2.882      0.008    2.89e+05    1.72e+06\n",
       "P29                  4.209e+04   5.34e+05      0.079      0.938   -1.05e+06    1.14e+06\n",
       "P30                 -1.397e+05   2.77e+05     -0.505      0.617   -7.07e+05    4.28e+05\n",
       "P31                 -8.637e+04   5.71e+05     -0.151      0.881   -1.26e+06    1.09e+06\n",
       "P32                  6.615e+05   5.53e+05      1.195      0.242   -4.74e+05     1.8e+06\n",
       "P33                  8.739e+05   7.39e+05      1.183      0.247   -6.42e+05    2.39e+06\n",
       "P34                 -5.135e+05   6.34e+05     -0.810      0.425   -1.81e+06    7.88e+05\n",
       "P35                  3.818e+05   6.71e+05      0.569      0.574   -9.95e+05    1.76e+06\n",
       "P36                  5.833e+05   1.13e+06      0.517      0.609   -1.73e+06     2.9e+06\n",
       "P37                 -8.805e+05   5.32e+05     -1.654      0.110   -1.97e+06    2.11e+05\n",
       "total_days            124.6610    243.989      0.511      0.614    -375.964     625.286\n",
       "City_Adana           1.326e+07   4.57e+06      2.903      0.007    3.89e+06    2.26e+07\n",
       "City_Afyonkarahisar -1.131e+06   3.84e+06     -0.295      0.770   -9.01e+06    6.74e+06\n",
       "City_Amasya          5.942e-08   2.15e-08      2.761      0.010    1.53e-08    1.04e-07\n",
       "City_Ankara         -5.435e+04    1.4e+06     -0.039      0.969   -2.92e+06    2.81e+06\n",
       "City_Antalya        -5.032e+06   2.76e+06     -1.826      0.079   -1.07e+07    6.22e+05\n",
       "City_Aydın          -2.482e-08   1.38e-08     -1.801      0.083   -5.31e-08    3.45e-09\n",
       "City_Balıkesir       -1.97e+06   3.42e+06     -0.576      0.569   -8.99e+06    5.05e+06\n",
       "City_Bolu           -2.922e+06   2.14e+06     -1.363      0.184   -7.32e+06    1.48e+06\n",
       "City_Bursa           2.377e+06   1.73e+06      1.374      0.181   -1.17e+06    5.93e+06\n",
       "City_Denizli         -1.21e+06    2.7e+06     -0.447      0.658   -6.76e+06    4.34e+06\n",
       "City_Diyarbakır       5.44e+06   2.47e+06      2.204      0.036    3.76e+05    1.05e+07\n",
       "City_Edirne         -1.449e+06   4.51e+06     -0.321      0.751   -1.07e+07    7.81e+06\n",
       "City_Elazığ          3.484e-10   2.57e-09      0.136      0.893   -4.92e-09    5.62e-09\n",
       "City_Eskişehir      -2.441e+06   2.11e+06     -1.156      0.258   -6.77e+06    1.89e+06\n",
       "City_Gaziantep       5.667e+06   3.14e+06      1.803      0.083   -7.81e+05    1.21e+07\n",
       "City_Isparta        -3.528e+06   3.51e+06     -1.005      0.324   -1.07e+07    3.67e+06\n",
       "City_Karabük        -1.507e+05   2.61e+06     -0.058      0.954   -5.51e+06    5.21e+06\n",
       "City_Kastamonu      -8.253e-10   1.27e-09     -0.648      0.522   -3.44e-09    1.79e-09\n",
       "City_Kayseri         3.725e+06   1.99e+06      1.870      0.072   -3.63e+05    7.81e+06\n",
       "City_Kocaeli        -3.073e+06   5.41e+06     -0.568      0.575   -1.42e+07    8.03e+06\n",
       "City_Konya          -2.339e+06   1.73e+06     -1.349      0.189    -5.9e+06    1.22e+06\n",
       "City_Kütahya        -1.646e+06   1.87e+06     -0.879      0.387   -5.49e+06     2.2e+06\n",
       "City_Kırklareli     -3.036e+06   2.06e+06     -1.471      0.153   -7.27e+06     1.2e+06\n",
       "City_Muğla          -7.144e+06   4.97e+06     -1.438      0.162   -1.73e+07    3.05e+06\n",
       "City_Osmaniye         1.16e+06   2.04e+06      0.570      0.574   -3.02e+06    5.34e+06\n",
       "City_Sakarya         8.067e+05   1.67e+06      0.484      0.632   -2.61e+06    4.23e+06\n",
       "City_Samsun         -4.523e+05   1.14e+06     -0.396      0.695   -2.79e+06    1.89e+06\n",
       "City_Tekirdağ        8.928e+05   1.59e+06      0.562      0.579   -2.37e+06    4.15e+06\n",
       "City_Tokat           4.334e+06   7.79e+06      0.556      0.583   -1.16e+07    2.03e+07\n",
       "City_Trabzon         8.569e+06   8.41e+06      1.019      0.317   -8.69e+06    2.58e+07\n",
       "City_Uşak           -4.141e+06   2.47e+06     -1.675      0.105   -9.21e+06    9.32e+05\n",
       "City_İstanbul        2.583e+06   1.37e+06      1.889      0.070   -2.23e+05    5.39e+06\n",
       "City_İzmir           1.595e+06   1.39e+06      1.146      0.262   -1.26e+06    4.45e+06\n",
       "City_Şanlıurfa               0          0        nan        nan           0           0\n",
       "CG_Big Cities        4.124e+06   3.64e+06      1.132      0.268   -3.35e+06    1.16e+07\n",
       "CG_Other             4.565e+06   4.53e+06      1.007      0.323   -4.74e+06    1.39e+07\n",
       "Type_DT              7.529e+06   3.93e+06      1.914      0.066   -5.44e+05    1.56e+07\n",
       "Type_FC              1.049e+06   2.97e+06      0.354      0.726   -5.04e+06    7.13e+06\n",
       "Type_IL              1.101e+05   3.32e+06      0.033      0.974   -6.71e+06    6.93e+06\n",
       "==============================================================================\n",
       "Omnibus:                        7.737   Durbin-Watson:                   1.700\n",
       "Prob(Omnibus):                  0.021   Jarque-Bera (JB):                9.079\n",
       "Skew:                           0.430   Prob(JB):                       0.0107\n",
       "Kurtosis:                       4.238   Cond. No.                     1.27e+16\n",
       "==============================================================================\n",
       "\n",
       "Warnings:\n",
       "[1] Standard Errors assume that the covariance matrix of the errors is correctly specified.\n",
       "[2] The smallest eigenvalue is 1.07e-23. This might indicate that there are\n",
       "strong multicollinearity problems or that the design matrix is singular.\n",
       "\"\"\""
      ]
     },
     "execution_count": 65,
     "metadata": {},
     "output_type": "execute_result"
    }
   ],
   "source": [
    "import statsmodels.api as sm\n",
    "# Note the difference in argument order\n",
    "linear_model_dummies = sm.OLS(y_train_dummies, X_train_dummies).fit()\n",
    "## make the predictions by the model\n",
    "\n",
    "linear_model_dummies.summary()"
   ]
  },
  {
   "cell_type": "code",
   "execution_count": 327,
   "metadata": {},
   "outputs": [],
   "source": [
    "pred_train_dummies = linear_model_dummies.predict(X_train_dummies) "
   ]
  },
  {
   "cell_type": "code",
   "execution_count": 328,
   "metadata": {},
   "outputs": [],
   "source": [
    "pred_val_dummies = linear_model.predict(X_val_dummmies) "
   ]
  },
  {
   "cell_type": "code",
   "execution_count": 329,
   "metadata": {},
   "outputs": [
    {
     "name": "stdout",
     "output_type": "stream",
     "text": [
      "RMSE: 979133.186755\n"
     ]
    }
   ],
   "source": [
    "from sklearn.metrics import mean_squared_error\n",
    "from math import sqrt\n",
    "mse = mean_squared_error(y_train, pred_train_dummies)\n",
    "rmse = sqrt(mse)\n",
    "print('RMSE: %f' % rmse)"
   ]
  },
  {
   "cell_type": "code",
   "execution_count": 330,
   "metadata": {},
   "outputs": [
    {
     "name": "stdout",
     "output_type": "stream",
     "text": [
      "RMSE: 8026144.223772\n"
     ]
    }
   ],
   "source": [
    "from sklearn.metrics import mean_squared_error\n",
    "from math import sqrt\n",
    "mse = mean_squared_error(y_val, pred_val_dummies)\n",
    "rmse = sqrt(mse)\n",
    "print('RMSE: %f' % rmse)"
   ]
  },
  {
   "cell_type": "code",
   "execution_count": 312,
   "metadata": {},
   "outputs": [],
   "source": [
    "import numpy as np\n",
    "\n",
    "def mean_absolute_percentage_error(y_true, y_pred): \n",
    "    y_true, y_pred = np.array(y_true), np.array(y_pred)\n",
    "    return np.mean(np.abs((y_true - y_pred) / y_true)) * 100"
   ]
  },
  {
   "cell_type": "code",
   "execution_count": 313,
   "metadata": {},
   "outputs": [
    {
     "data": {
      "text/plain": [
       "18.137065904605496"
      ]
     },
     "execution_count": 313,
     "metadata": {},
     "output_type": "execute_result"
    }
   ],
   "source": [
    "mean_absolute_percentage_error(y_train, pred_train_dummies)"
   ]
  },
  {
   "cell_type": "code",
   "execution_count": 331,
   "metadata": {},
   "outputs": [
    {
     "data": {
      "text/plain": [
       "136.18297309173107"
      ]
     },
     "execution_count": 331,
     "metadata": {},
     "output_type": "execute_result"
    }
   ],
   "source": [
    "mean_absolute_percentage_error(y_val, pred_val_dummies)"
   ]
  },
  {
   "cell_type": "markdown",
   "metadata": {},
   "source": [
    "# Ridge   #because we saw multicollinearity"
   ]
  },
  {
   "cell_type": "code",
   "execution_count": 528,
   "metadata": {},
   "outputs": [],
   "source": [
    "from sklearn.linear_model import LinearRegression\n",
    "from sklearn.linear_model import Lasso\n",
    "from sklearn.linear_model import Ridge\n",
    "from sklearn.linear_model import ElasticNet\n",
    "from sklearn.linear_model import RidgeCV"
   ]
  },
  {
   "cell_type": "code",
   "execution_count": 529,
   "metadata": {},
   "outputs": [],
   "source": [
    "#### TYPE\n",
    "ridgeCV_model=RidgeCV(alphas=[0.1, 1.0, 10.0])"
   ]
  },
  {
   "cell_type": "code",
   "execution_count": 530,
   "metadata": {},
   "outputs": [
    {
     "data": {
      "text/plain": [
       "RidgeCV(alphas=array([ 0.1,  1. , 10. ]), cv=None, fit_intercept=True,\n",
       "        gcv_mode=None, normalize=False, scoring=None, store_cv_values=False)"
      ]
     },
     "execution_count": 530,
     "metadata": {},
     "output_type": "execute_result"
    }
   ],
   "source": [
    "ridgeCV_model.fit(X_train,y_train)"
   ]
  },
  {
   "cell_type": "code",
   "execution_count": 531,
   "metadata": {},
   "outputs": [
    {
     "data": {
      "text/plain": [
       "10.0"
      ]
     },
     "execution_count": 531,
     "metadata": {},
     "output_type": "execute_result"
    }
   ],
   "source": [
    "ridgeCV_model.alpha_"
   ]
  },
  {
   "cell_type": "code",
   "execution_count": 532,
   "metadata": {},
   "outputs": [
    {
     "data": {
      "text/plain": [
       "29.12"
      ]
     },
     "execution_count": 532,
     "metadata": {},
     "output_type": "execute_result"
    }
   ],
   "source": [
    "np.round(ridgeCV_model.score(X_train,y_train)*100,2)  #r square"
   ]
  },
  {
   "cell_type": "code",
   "execution_count": 533,
   "metadata": {},
   "outputs": [],
   "source": [
    "train_preds=ridgeCV_model.predict(X_train)"
   ]
  },
  {
   "cell_type": "code",
   "execution_count": 534,
   "metadata": {},
   "outputs": [],
   "source": [
    "val_preds=ridgeCV_model.predict(X_val)"
   ]
  },
  {
   "cell_type": "code",
   "execution_count": 535,
   "metadata": {},
   "outputs": [
    {
     "name": "stdout",
     "output_type": "stream",
     "text": [
      "RMSE: 1500260.229647\n"
     ]
    }
   ],
   "source": [
    "from sklearn.metrics import mean_squared_error\n",
    "from math import sqrt\n",
    "mse = mean_squared_error(y_train, train_preds)\n",
    "rmse = sqrt(mse)\n",
    "print('RMSE: %f' % rmse)"
   ]
  },
  {
   "cell_type": "code",
   "execution_count": 536,
   "metadata": {},
   "outputs": [
    {
     "name": "stdout",
     "output_type": "stream",
     "text": [
      "RMSE: 1446535.527110\n"
     ]
    }
   ],
   "source": [
    "from sklearn.metrics import mean_squared_error\n",
    "from math import sqrt\n",
    "mse = mean_squared_error(y_val, val_preds)\n",
    "rmse = sqrt(mse)\n",
    "print('RMSE: %f' % rmse)"
   ]
  },
  {
   "cell_type": "markdown",
   "metadata": {},
   "source": [
    "# Best model --saving it as pkl file"
   ]
  },
  {
   "cell_type": "code",
   "execution_count": null,
   "metadata": {},
   "outputs": [],
   "source": [
    "# save the model to disk\n",
    "filename = 'ridgeCV_model.sav'\n",
    "pickle.dump(model, open(ridgeCV_model, 'wb'))"
   ]
  },
  {
   "cell_type": "code",
   "execution_count": 537,
   "metadata": {},
   "outputs": [],
   "source": [
    "import numpy as np\n",
    "\n",
    "def mean_absolute_percentage_error(y_true, y_pred): \n",
    "    y_true, y_pred = np.array(y_true), np.array(y_pred)\n",
    "    return np.mean(np.abs((y_true - y_pred) / y_true)) * 100"
   ]
  },
  {
   "cell_type": "code",
   "execution_count": 538,
   "metadata": {},
   "outputs": [
    {
     "data": {
      "text/plain": [
       "34.13496405421774"
      ]
     },
     "execution_count": 538,
     "metadata": {},
     "output_type": "execute_result"
    }
   ],
   "source": [
    "mean_absolute_percentage_error(y_train, train_preds)"
   ]
  },
  {
   "cell_type": "code",
   "execution_count": 539,
   "metadata": {
    "scrolled": true
   },
   "outputs": [
    {
     "data": {
      "text/plain": [
       "32.95645230049059"
      ]
     },
     "execution_count": 539,
     "metadata": {},
     "output_type": "execute_result"
    }
   ],
   "source": [
    "mean_absolute_percentage_error(y_val, val_preds)"
   ]
  },
  {
   "cell_type": "code",
   "execution_count": 540,
   "metadata": {},
   "outputs": [],
   "source": [
    "test_preds=ridgeCV_model.predict(test_data_enc) "
   ]
  },
  {
   "cell_type": "code",
   "execution_count": 541,
   "metadata": {},
   "outputs": [],
   "source": [
    "df = pd.DataFrame(test_preds)   #without multicollinearity columns\n",
    "df.to_csv(r'C:\\Users\\91989\\Documents\\PYTHON\\INSOFE_Internship\\TASK2\\restaurantrevenue\\ridge3.csv')"
   ]
  },
  {
   "cell_type": "markdown",
   "metadata": {},
   "source": [
    "# Lasso for variable selection\n"
   ]
  },
  {
   "cell_type": "code",
   "execution_count": 542,
   "metadata": {},
   "outputs": [],
   "source": [
    "from sklearn.linear_model import LassoCV"
   ]
  },
  {
   "cell_type": "code",
   "execution_count": 543,
   "metadata": {},
   "outputs": [],
   "source": [
    "#### TYPE\n",
    "LassoCV_model=LassoCV()"
   ]
  },
  {
   "cell_type": "code",
   "execution_count": 545,
   "metadata": {},
   "outputs": [
    {
     "data": {
      "text/plain": [
       "LassoCV(alphas=None, copy_X=True, cv=None, eps=0.001, fit_intercept=True,\n",
       "        max_iter=1000, n_alphas=100, n_jobs=None, normalize=False,\n",
       "        positive=False, precompute='auto', random_state=None,\n",
       "        selection='cyclic', tol=0.0001, verbose=False)"
      ]
     },
     "execution_count": 545,
     "metadata": {},
     "output_type": "execute_result"
    }
   ],
   "source": [
    "LassoCV_model.fit(X_train,y_train)    #important feature does not make difference bcz lasso already do varialbe selection"
   ]
  },
  {
   "cell_type": "code",
   "execution_count": 546,
   "metadata": {},
   "outputs": [
    {
     "data": {
      "text/plain": [
       "400282.89271202293"
      ]
     },
     "execution_count": 546,
     "metadata": {},
     "output_type": "execute_result"
    }
   ],
   "source": [
    "LassoCV_model.alpha_"
   ]
  },
  {
   "cell_type": "code",
   "execution_count": 548,
   "metadata": {},
   "outputs": [
    {
     "data": {
      "text/plain": [
       "6.65"
      ]
     },
     "execution_count": 548,
     "metadata": {},
     "output_type": "execute_result"
    }
   ],
   "source": [
    "np.round(LassoCV_model.score(X_train,y_train)*100,2)  #r square"
   ]
  },
  {
   "cell_type": "code",
   "execution_count": 549,
   "metadata": {},
   "outputs": [],
   "source": [
    "train_preds=LassoCV_model.predict(X_train)"
   ]
  },
  {
   "cell_type": "code",
   "execution_count": 550,
   "metadata": {},
   "outputs": [],
   "source": [
    "val_preds=LassoCV_model.predict(X_val)"
   ]
  },
  {
   "cell_type": "code",
   "execution_count": 551,
   "metadata": {},
   "outputs": [
    {
     "name": "stdout",
     "output_type": "stream",
     "text": [
      "RMSE: 1721747.871328\n"
     ]
    }
   ],
   "source": [
    "from sklearn.metrics import mean_squared_error\n",
    "from math import sqrt\n",
    "mse = mean_squared_error(y_train, train_preds)\n",
    "rmse = sqrt(mse)\n",
    "print('RMSE: %f' % rmse)"
   ]
  },
  {
   "cell_type": "code",
   "execution_count": 552,
   "metadata": {},
   "outputs": [
    {
     "name": "stdout",
     "output_type": "stream",
     "text": [
      "RMSE: 1483591.225153\n"
     ]
    }
   ],
   "source": [
    "from sklearn.metrics import mean_squared_error\n",
    "from math import sqrt\n",
    "mse = mean_squared_error(y_val, val_preds)\n",
    "rmse = sqrt(mse)\n",
    "print('RMSE: %f' % rmse)"
   ]
  },
  {
   "cell_type": "code",
   "execution_count": 133,
   "metadata": {},
   "outputs": [],
   "source": [
    "import numpy as np\n",
    "\n",
    "def mean_absolute_percentage_error(y_true, y_pred): \n",
    "    y_true, y_pred = np.array(y_true), np.array(y_pred)\n",
    "    return np.mean(np.abs((y_true - y_pred) / y_true)) * 100"
   ]
  },
  {
   "cell_type": "code",
   "execution_count": 315,
   "metadata": {},
   "outputs": [
    {
     "data": {
      "text/plain": [
       "39.896258994178275"
      ]
     },
     "execution_count": 315,
     "metadata": {},
     "output_type": "execute_result"
    }
   ],
   "source": [
    "mean_absolute_percentage_error(y_train, train_preds)"
   ]
  },
  {
   "cell_type": "code",
   "execution_count": 316,
   "metadata": {
    "scrolled": true
   },
   "outputs": [
    {
     "data": {
      "text/plain": [
       "34.66862337991402"
      ]
     },
     "execution_count": 316,
     "metadata": {},
     "output_type": "execute_result"
    }
   ],
   "source": [
    "mean_absolute_percentage_error(y_val, val_preds)"
   ]
  },
  {
   "cell_type": "code",
   "execution_count": 553,
   "metadata": {},
   "outputs": [],
   "source": [
    "test_preds=LassoCV_model.predict(test_data_enc)"
   ]
  },
  {
   "cell_type": "code",
   "execution_count": 554,
   "metadata": {},
   "outputs": [],
   "source": [
    "df = pd.DataFrame(test_preds)\n",
    "df.to_csv(r'C:\\Users\\91989\\Documents\\PYTHON\\INSOFE_Internship\\TASK2\\restaurantrevenue\\lasso2.csv')"
   ]
  },
  {
   "cell_type": "markdown",
   "metadata": {},
   "source": [
    "# Decision tree for variable selection"
   ]
  },
  {
   "cell_type": "code",
   "execution_count": 431,
   "metadata": {},
   "outputs": [],
   "source": [
    "from sklearn.tree import DecisionTreeRegressor"
   ]
  },
  {
   "cell_type": "code",
   "execution_count": 679,
   "metadata": {},
   "outputs": [],
   "source": [
    "#### TYPE\n",
    "dt_model=DecisionTreeRegressor()"
   ]
  },
  {
   "cell_type": "code",
   "execution_count": 680,
   "metadata": {},
   "outputs": [
    {
     "data": {
      "text/plain": [
       "DecisionTreeRegressor(ccp_alpha=0.0, criterion='mse', max_depth=None,\n",
       "                      max_features=None, max_leaf_nodes=None,\n",
       "                      min_impurity_decrease=0.0, min_impurity_split=None,\n",
       "                      min_samples_leaf=1, min_samples_split=2,\n",
       "                      min_weight_fraction_leaf=0.0, presort='deprecated',\n",
       "                      random_state=None, splitter='best')"
      ]
     },
     "execution_count": 680,
     "metadata": {},
     "output_type": "execute_result"
    }
   ],
   "source": [
    "dt_model.fit(X_train,y_train)"
   ]
  },
  {
   "cell_type": "code",
   "execution_count": 681,
   "metadata": {},
   "outputs": [],
   "source": [
    "train_preds=dt_model.predict(X_train)"
   ]
  },
  {
   "cell_type": "code",
   "execution_count": 682,
   "metadata": {},
   "outputs": [],
   "source": [
    "val_preds=dt_model.predict(X_val)"
   ]
  },
  {
   "cell_type": "code",
   "execution_count": 683,
   "metadata": {},
   "outputs": [
    {
     "name": "stdout",
     "output_type": "stream",
     "text": [
      "RMSE: 0.000000\n"
     ]
    }
   ],
   "source": [
    "from sklearn.metrics import mean_squared_error\n",
    "from math import sqrt\n",
    "mse = mean_squared_error(y_train, train_preds)\n",
    "rmse = sqrt(mse)\n",
    "print('RMSE: %f' % rmse)"
   ]
  },
  {
   "cell_type": "code",
   "execution_count": 684,
   "metadata": {},
   "outputs": [
    {
     "name": "stdout",
     "output_type": "stream",
     "text": [
      "RMSE: 2384801.766346\n"
     ]
    }
   ],
   "source": [
    "from sklearn.metrics import mean_squared_error\n",
    "from math import sqrt\n",
    "mse = mean_squared_error(y_val, val_preds)\n",
    "rmse = sqrt(mse)\n",
    "print('RMSE: %f' % rmse)"
   ]
  },
  {
   "cell_type": "code",
   "execution_count": 685,
   "metadata": {},
   "outputs": [],
   "source": [
    "import numpy as np\n",
    "\n",
    "def mean_absolute_percentage_error(y_true, y_pred): \n",
    "    y_true, y_pred = np.array(y_true), np.array(y_pred)\n",
    "    return np.mean(np.abs((y_true - y_pred) / y_true)) * 100"
   ]
  },
  {
   "cell_type": "code",
   "execution_count": 686,
   "metadata": {},
   "outputs": [
    {
     "data": {
      "text/plain": [
       "0.0"
      ]
     },
     "execution_count": 686,
     "metadata": {},
     "output_type": "execute_result"
    }
   ],
   "source": [
    "mean_absolute_percentage_error(y_train, train_preds)"
   ]
  },
  {
   "cell_type": "code",
   "execution_count": 687,
   "metadata": {
    "scrolled": true
   },
   "outputs": [
    {
     "data": {
      "text/plain": [
       "52.26731605139492"
      ]
     },
     "execution_count": 687,
     "metadata": {},
     "output_type": "execute_result"
    }
   ],
   "source": [
    "mean_absolute_percentage_error(y_val, val_preds)"
   ]
  },
  {
   "cell_type": "code",
   "execution_count": 688,
   "metadata": {},
   "outputs": [],
   "source": [
    "test_preds=dt_model.predict(test_data_enc)"
   ]
  },
  {
   "cell_type": "code",
   "execution_count": 342,
   "metadata": {},
   "outputs": [],
   "source": [
    "df = pd.DataFrame(test_preds)\n",
    "df.to_csv(r'C:\\Users\\91989\\Documents\\PYTHON\\INSOFE_Internship\\TASK2\\restaurantrevenue\\dt1.csv')"
   ]
  },
  {
   "cell_type": "markdown",
   "metadata": {},
   "source": [
    "# important features"
   ]
  },
  {
   "cell_type": "code",
   "execution_count": 689,
   "metadata": {},
   "outputs": [
    {
     "data": {
      "text/html": [
       "<div>\n",
       "<style scoped>\n",
       "    .dataframe tbody tr th:only-of-type {\n",
       "        vertical-align: middle;\n",
       "    }\n",
       "\n",
       "    .dataframe tbody tr th {\n",
       "        vertical-align: top;\n",
       "    }\n",
       "\n",
       "    .dataframe thead th {\n",
       "        text-align: right;\n",
       "    }\n",
       "</style>\n",
       "<table border=\"1\" class=\"dataframe\">\n",
       "  <thead>\n",
       "    <tr style=\"text-align: right;\">\n",
       "      <th></th>\n",
       "      <th>0</th>\n",
       "      <th>1</th>\n",
       "      <th>2</th>\n",
       "      <th>3</th>\n",
       "      <th>4</th>\n",
       "      <th>5</th>\n",
       "      <th>6</th>\n",
       "      <th>7</th>\n",
       "      <th>8</th>\n",
       "      <th>9</th>\n",
       "      <th>...</th>\n",
       "      <th>46</th>\n",
       "      <th>47</th>\n",
       "      <th>48</th>\n",
       "      <th>49</th>\n",
       "      <th>50</th>\n",
       "      <th>51</th>\n",
       "      <th>52</th>\n",
       "      <th>53</th>\n",
       "      <th>54</th>\n",
       "      <th>55</th>\n",
       "    </tr>\n",
       "  </thead>\n",
       "  <tbody>\n",
       "    <tr>\n",
       "      <th>0</th>\n",
       "      <td>total_days</td>\n",
       "      <td>P22</td>\n",
       "      <td>P19</td>\n",
       "      <td>3.000000</td>\n",
       "      <td>34.000000</td>\n",
       "      <td>P21</td>\n",
       "      <td>P24</td>\n",
       "      <td>P5</td>\n",
       "      <td>18.00000</td>\n",
       "      <td>P27</td>\n",
       "      <td>...</td>\n",
       "      <td>5.0</td>\n",
       "      <td>6.0</td>\n",
       "      <td>7.0</td>\n",
       "      <td>20.0</td>\n",
       "      <td>11.0</td>\n",
       "      <td>12.0</td>\n",
       "      <td>14.0</td>\n",
       "      <td>15.0</td>\n",
       "      <td>16.0</td>\n",
       "      <td>0.0</td>\n",
       "    </tr>\n",
       "    <tr>\n",
       "      <th>1</th>\n",
       "      <td>0.281737</td>\n",
       "      <td>0.128715</td>\n",
       "      <td>0.0809225</td>\n",
       "      <td>0.078211</td>\n",
       "      <td>0.070419</td>\n",
       "      <td>0.0596666</td>\n",
       "      <td>0.0464977</td>\n",
       "      <td>0.0456204</td>\n",
       "      <td>0.03353</td>\n",
       "      <td>0.0274273</td>\n",
       "      <td>...</td>\n",
       "      <td>0.0</td>\n",
       "      <td>0.0</td>\n",
       "      <td>0.0</td>\n",
       "      <td>0.0</td>\n",
       "      <td>0.0</td>\n",
       "      <td>0.0</td>\n",
       "      <td>0.0</td>\n",
       "      <td>0.0</td>\n",
       "      <td>0.0</td>\n",
       "      <td>0.0</td>\n",
       "    </tr>\n",
       "  </tbody>\n",
       "</table>\n",
       "<p>2 rows × 56 columns</p>\n",
       "</div>"
      ],
      "text/plain": [
       "           0         1          2         3          4          5          6   \\\n",
       "0  total_days       P22        P19  3.000000  34.000000        P21        P24   \n",
       "1    0.281737  0.128715  0.0809225  0.078211   0.070419  0.0596666  0.0464977   \n",
       "\n",
       "          7         8          9   ...   46   47   48    49    50    51    52  \\\n",
       "0         P5  18.00000        P27  ...  5.0  6.0  7.0  20.0  11.0  12.0  14.0   \n",
       "1  0.0456204   0.03353  0.0274273  ...  0.0  0.0  0.0   0.0   0.0   0.0   0.0   \n",
       "\n",
       "     53    54   55  \n",
       "0  15.0  16.0  0.0  \n",
       "1   0.0   0.0  0.0  \n",
       "\n",
       "[2 rows x 56 columns]"
      ]
     },
     "execution_count": 689,
     "metadata": {},
     "output_type": "execute_result"
    }
   ],
   "source": [
    "features = X_train.columns\n",
    "importances = dt_model.feature_importances_\n",
    "indices = np.argsort(importances)[::-1]\n",
    "pd.DataFrame([X_train.columns[indices],np.sort(importances)[::-1]])"
   ]
  },
  {
   "cell_type": "code",
   "execution_count": 690,
   "metadata": {},
   "outputs": [],
   "source": [
    "plt.title('Feature Importances')\n",
    "plt.barh(range(len(indices)), importances[indices], color='black')\n",
    "plt.yticks(range(len(indices)), [features[i] for i in indices])\n",
    "plt.xlabel('Relative Importance')\n",
    "plt.show()"
   ]
  },
  {
   "cell_type": "code",
   "execution_count": 692,
   "metadata": {},
   "outputs": [
    {
     "data": {
      "text/plain": [
       "array([16,  5,  3, 20, 51,  4,  7, 14, 35,  8, 49, 27, 25,  2, 15,  9, 10,\n",
       "       13, 11,  0,  1, 26,  6], dtype=int64)"
      ]
     },
     "execution_count": 692,
     "metadata": {},
     "output_type": "execute_result"
    }
   ],
   "source": [
    "select = indices[0:23]\n",
    "select"
   ]
  },
  {
   "cell_type": "code",
   "execution_count": 470,
   "metadata": {},
   "outputs": [
    {
     "data": {
      "text/plain": [
       "DecisionTreeRegressor(ccp_alpha=0.0, criterion='mse', max_depth=None,\n",
       "                      max_features=None, max_leaf_nodes=None,\n",
       "                      min_impurity_decrease=0.0, min_impurity_split=None,\n",
       "                      min_samples_leaf=1, min_samples_split=2,\n",
       "                      min_weight_fraction_leaf=0.0, presort='deprecated',\n",
       "                      random_state=None, splitter='best')"
      ]
     },
     "execution_count": 470,
     "metadata": {},
     "output_type": "execute_result"
    }
   ],
   "source": [
    "dt_model.fit(X_train.iloc[:,select],y_train)"
   ]
  },
  {
   "cell_type": "code",
   "execution_count": 471,
   "metadata": {},
   "outputs": [],
   "source": [
    "train_preds=dt_model.predict(X_train.iloc[:,select])"
   ]
  },
  {
   "cell_type": "code",
   "execution_count": 472,
   "metadata": {},
   "outputs": [],
   "source": [
    "val_preds=dt_model.predict(X_val.iloc[:,select])"
   ]
  },
  {
   "cell_type": "code",
   "execution_count": 473,
   "metadata": {},
   "outputs": [
    {
     "name": "stdout",
     "output_type": "stream",
     "text": [
      "RMSE: 0.000000\n"
     ]
    }
   ],
   "source": [
    "from sklearn.metrics import mean_squared_error\n",
    "from math import sqrt\n",
    "mse = mean_squared_error(y_train, train_preds)\n",
    "rmse = sqrt(mse)\n",
    "print('RMSE: %f' % rmse)"
   ]
  },
  {
   "cell_type": "code",
   "execution_count": 474,
   "metadata": {},
   "outputs": [
    {
     "name": "stdout",
     "output_type": "stream",
     "text": [
      "RMSE: 2354297.794463\n"
     ]
    }
   ],
   "source": [
    "from sklearn.metrics import mean_squared_error\n",
    "from math import sqrt\n",
    "mse = mean_squared_error(y_val, val_preds)\n",
    "rmse = sqrt(mse)\n",
    "print('RMSE: %f' % rmse)"
   ]
  },
  {
   "cell_type": "code",
   "execution_count": 475,
   "metadata": {},
   "outputs": [],
   "source": [
    "import numpy as np\n",
    "\n",
    "def mean_absolute_percentage_error(y_true, y_pred): \n",
    "    y_true, y_pred = np.array(y_true), np.array(y_pred)\n",
    "    return np.mean(np.abs((y_true - y_pred) / y_true)) * 100"
   ]
  },
  {
   "cell_type": "code",
   "execution_count": 364,
   "metadata": {},
   "outputs": [
    {
     "data": {
      "text/plain": [
       "0.0"
      ]
     },
     "execution_count": 364,
     "metadata": {},
     "output_type": "execute_result"
    }
   ],
   "source": [
    "mean_absolute_percentage_error(y_train, train_preds)"
   ]
  },
  {
   "cell_type": "code",
   "execution_count": 339,
   "metadata": {
    "scrolled": true
   },
   "outputs": [
    {
     "data": {
      "text/plain": [
       "56.12869142807643"
      ]
     },
     "execution_count": 339,
     "metadata": {},
     "output_type": "execute_result"
    }
   ],
   "source": [
    "mean_absolute_percentage_error(y_val, val_preds)"
   ]
  },
  {
   "cell_type": "code",
   "execution_count": 341,
   "metadata": {},
   "outputs": [],
   "source": [
    "test_preds=dt_model.predict(test_data_enc)"
   ]
  },
  {
   "cell_type": "code",
   "execution_count": 342,
   "metadata": {},
   "outputs": [],
   "source": [
    "df = pd.DataFrame(test_preds)\n",
    "df.to_csv(r'C:\\Users\\91989\\Documents\\PYTHON\\INSOFE_Internship\\TASK2\\restaurantrevenue\\dt1.csv')"
   ]
  },
  {
   "cell_type": "markdown",
   "metadata": {},
   "source": [
    "# Random Forest with normal data"
   ]
  },
  {
   "cell_type": "code",
   "execution_count": 600,
   "metadata": {},
   "outputs": [],
   "source": [
    "from sklearn.ensemble import RandomForestRegressor"
   ]
  },
  {
   "cell_type": "code",
   "execution_count": 632,
   "metadata": {},
   "outputs": [],
   "source": [
    "#### TYPE\n",
    "rf_model=RandomForestRegressor(n_estimators=10)\n"
   ]
  },
  {
   "cell_type": "code",
   "execution_count": 633,
   "metadata": {},
   "outputs": [
    {
     "data": {
      "text/plain": [
       "RandomForestRegressor(bootstrap=True, ccp_alpha=0.0, criterion='mse',\n",
       "                      max_depth=None, max_features='auto', max_leaf_nodes=None,\n",
       "                      max_samples=None, min_impurity_decrease=0.0,\n",
       "                      min_impurity_split=None, min_samples_leaf=1,\n",
       "                      min_samples_split=2, min_weight_fraction_leaf=0.0,\n",
       "                      n_estimators=10, n_jobs=None, oob_score=False,\n",
       "                      random_state=None, verbose=0, warm_start=False)"
      ]
     },
     "execution_count": 633,
     "metadata": {},
     "output_type": "execute_result"
    }
   ],
   "source": [
    "rf_model.fit(X_train,y_train)"
   ]
  },
  {
   "cell_type": "code",
   "execution_count": 634,
   "metadata": {},
   "outputs": [],
   "source": [
    "train_preds=rf_model.predict(X_train)"
   ]
  },
  {
   "cell_type": "code",
   "execution_count": 635,
   "metadata": {},
   "outputs": [],
   "source": [
    "val_preds=rf_model.predict(X_val)"
   ]
  },
  {
   "cell_type": "code",
   "execution_count": 636,
   "metadata": {},
   "outputs": [
    {
     "name": "stdout",
     "output_type": "stream",
     "text": [
      "RMSE: 984384.618837\n"
     ]
    }
   ],
   "source": [
    "from sklearn.metrics import mean_squared_error\n",
    "from math import sqrt\n",
    "mse = mean_squared_error(y_train, train_preds)\n",
    "rmse = sqrt(mse)\n",
    "print('RMSE: %f' % rmse)"
   ]
  },
  {
   "cell_type": "code",
   "execution_count": 637,
   "metadata": {},
   "outputs": [
    {
     "name": "stdout",
     "output_type": "stream",
     "text": [
      "RMSE: 3170017.169136\n"
     ]
    }
   ],
   "source": [
    "from sklearn.metrics import mean_squared_error\n",
    "from math import sqrt\n",
    "mse = mean_squared_error(y_val, val_preds)\n",
    "rmse = sqrt(mse)\n",
    "print('RMSE: %f' % rmse)"
   ]
  },
  {
   "cell_type": "markdown",
   "metadata": {},
   "source": [
    "# rf after removing multicollinearity"
   ]
  },
  {
   "cell_type": "code",
   "execution_count": 673,
   "metadata": {},
   "outputs": [],
   "source": [
    "#### TYPE\n",
    "rf_model=RandomForestRegressor(n_estimators=20)\n"
   ]
  },
  {
   "cell_type": "code",
   "execution_count": 674,
   "metadata": {},
   "outputs": [
    {
     "data": {
      "text/plain": [
       "RandomForestRegressor(bootstrap=True, ccp_alpha=0.0, criterion='mse',\n",
       "                      max_depth=None, max_features='auto', max_leaf_nodes=None,\n",
       "                      max_samples=None, min_impurity_decrease=0.0,\n",
       "                      min_impurity_split=None, min_samples_leaf=1,\n",
       "                      min_samples_split=2, min_weight_fraction_leaf=0.0,\n",
       "                      n_estimators=20, n_jobs=None, oob_score=False,\n",
       "                      random_state=None, verbose=0, warm_start=False)"
      ]
     },
     "execution_count": 674,
     "metadata": {},
     "output_type": "execute_result"
    }
   ],
   "source": [
    "rf_model.fit(X_train,y_train)"
   ]
  },
  {
   "cell_type": "code",
   "execution_count": 675,
   "metadata": {},
   "outputs": [],
   "source": [
    "train_preds=rf_model.predict(X_train)"
   ]
  },
  {
   "cell_type": "code",
   "execution_count": 676,
   "metadata": {},
   "outputs": [],
   "source": [
    "val_preds=rf_model.predict(X_val)"
   ]
  },
  {
   "cell_type": "code",
   "execution_count": 677,
   "metadata": {},
   "outputs": [
    {
     "name": "stdout",
     "output_type": "stream",
     "text": [
      "RMSE: 648354.749991\n"
     ]
    }
   ],
   "source": [
    "from sklearn.metrics import mean_squared_error\n",
    "from math import sqrt\n",
    "mse = mean_squared_error(y_train, train_preds)\n",
    "rmse = sqrt(mse)\n",
    "print('RMSE: %f' % rmse)"
   ]
  },
  {
   "cell_type": "code",
   "execution_count": 678,
   "metadata": {},
   "outputs": [
    {
     "name": "stdout",
     "output_type": "stream",
     "text": [
      "RMSE: 1759580.836907\n"
     ]
    }
   ],
   "source": [
    "from sklearn.metrics import mean_squared_error\n",
    "from math import sqrt\n",
    "mse = mean_squared_error(y_val, val_preds)\n",
    "rmse = sqrt(mse)\n",
    "print('RMSE: %f' % rmse)"
   ]
  },
  {
   "cell_type": "code",
   "execution_count": 699,
   "metadata": {},
   "outputs": [],
   "source": [
    "test_preds=dt_model.predict(test_data_enc)"
   ]
  },
  {
   "cell_type": "code",
   "execution_count": 700,
   "metadata": {},
   "outputs": [],
   "source": [
    "df = pd.DataFrame(test_preds)\n",
    "df.to_csv(r'C:\\Users\\91989\\Documents\\PYTHON\\INSOFE_Internship\\TASK2\\restaurantrevenue\\rf1.csv')"
   ]
  },
  {
   "cell_type": "code",
   "execution_count": null,
   "metadata": {},
   "outputs": [],
   "source": []
  },
  {
   "cell_type": "markdown",
   "metadata": {},
   "source": [
    "# rf after removing multicollinearity and with imp features"
   ]
  },
  {
   "cell_type": "code",
   "execution_count": 673,
   "metadata": {},
   "outputs": [],
   "source": [
    "#### TYPE\n",
    "rf_model=RandomForestRegressor(n_estimators=20)\n"
   ]
  },
  {
   "cell_type": "code",
   "execution_count": 693,
   "metadata": {},
   "outputs": [
    {
     "data": {
      "text/plain": [
       "RandomForestRegressor(bootstrap=True, ccp_alpha=0.0, criterion='mse',\n",
       "                      max_depth=None, max_features='auto', max_leaf_nodes=None,\n",
       "                      max_samples=None, min_impurity_decrease=0.0,\n",
       "                      min_impurity_split=None, min_samples_leaf=1,\n",
       "                      min_samples_split=2, min_weight_fraction_leaf=0.0,\n",
       "                      n_estimators=20, n_jobs=None, oob_score=False,\n",
       "                      random_state=None, verbose=0, warm_start=False)"
      ]
     },
     "execution_count": 693,
     "metadata": {},
     "output_type": "execute_result"
    }
   ],
   "source": [
    "rf_model.fit(X_train.iloc[:,select],y_train)"
   ]
  },
  {
   "cell_type": "code",
   "execution_count": 695,
   "metadata": {},
   "outputs": [],
   "source": [
    "train_preds=rf_model.predict(X_train.iloc[:,select])"
   ]
  },
  {
   "cell_type": "code",
   "execution_count": 696,
   "metadata": {},
   "outputs": [],
   "source": [
    "val_preds=rf_model.predict(X_val.iloc[:,select])"
   ]
  },
  {
   "cell_type": "code",
   "execution_count": 697,
   "metadata": {},
   "outputs": [
    {
     "name": "stdout",
     "output_type": "stream",
     "text": [
      "RMSE: 695108.649199\n"
     ]
    }
   ],
   "source": [
    "from sklearn.metrics import mean_squared_error\n",
    "from math import sqrt\n",
    "mse = mean_squared_error(y_train, train_preds)\n",
    "rmse = sqrt(mse)\n",
    "print('RMSE: %f' % rmse)"
   ]
  },
  {
   "cell_type": "code",
   "execution_count": 698,
   "metadata": {},
   "outputs": [
    {
     "name": "stdout",
     "output_type": "stream",
     "text": [
      "RMSE: 1735166.312907\n"
     ]
    }
   ],
   "source": [
    "from sklearn.metrics import mean_squared_error\n",
    "from math import sqrt\n",
    "mse = mean_squared_error(y_val, val_preds)\n",
    "rmse = sqrt(mse)\n",
    "print('RMSE: %f' % rmse)"
   ]
  },
  {
   "cell_type": "markdown",
   "metadata": {},
   "source": [
    "# meta classifier(Stacking)"
   ]
  },
  {
   "cell_type": "code",
   "execution_count": 3,
   "metadata": {},
   "outputs": [],
   "source": [
    "pred1=pd.read_csv('lasso1.csv')\n",
    "pred2=pd.read_csv('lasso2.csv')\n",
    "pred3=pd.read_csv('ridge1.csv')\n",
    "pred4=pd.read_csv('ridge2.csv')\n",
    "pred5=pd.read_csv('ridge3.csv')"
   ]
  },
  {
   "cell_type": "code",
   "execution_count": 4,
   "metadata": {},
   "outputs": [],
   "source": [
    "frames = [pred1,pred2,pred3,pred4,pred5]\n",
    "full_data = pd.concat(frames,axis=1)"
   ]
  },
  {
   "cell_type": "code",
   "execution_count": 5,
   "metadata": {},
   "outputs": [
    {
     "data": {
      "text/html": [
       "<div>\n",
       "<style scoped>\n",
       "    .dataframe tbody tr th:only-of-type {\n",
       "        vertical-align: middle;\n",
       "    }\n",
       "\n",
       "    .dataframe tbody tr th {\n",
       "        vertical-align: top;\n",
       "    }\n",
       "\n",
       "    .dataframe thead th {\n",
       "        text-align: right;\n",
       "    }\n",
       "</style>\n",
       "<table border=\"1\" class=\"dataframe\">\n",
       "  <thead>\n",
       "    <tr style=\"text-align: right;\">\n",
       "      <th></th>\n",
       "      <th>Id</th>\n",
       "      <th>Prediction</th>\n",
       "      <th>Id</th>\n",
       "      <th>Prediction</th>\n",
       "      <th>Id</th>\n",
       "      <th>Prediction</th>\n",
       "      <th>Id</th>\n",
       "      <th>Prediction</th>\n",
       "      <th>Id</th>\n",
       "      <th>Prediction</th>\n",
       "    </tr>\n",
       "  </thead>\n",
       "  <tbody>\n",
       "    <tr>\n",
       "      <th>0</th>\n",
       "      <td>0</td>\n",
       "      <td>4075868.325</td>\n",
       "      <td>0</td>\n",
       "      <td>4199414.207</td>\n",
       "      <td>0</td>\n",
       "      <td>3642989.645</td>\n",
       "      <td>0</td>\n",
       "      <td>4313880.458</td>\n",
       "      <td>0</td>\n",
       "      <td>4313880.458</td>\n",
       "    </tr>\n",
       "    <tr>\n",
       "      <th>1</th>\n",
       "      <td>1</td>\n",
       "      <td>3876920.438</td>\n",
       "      <td>1</td>\n",
       "      <td>4028701.604</td>\n",
       "      <td>1</td>\n",
       "      <td>2335815.097</td>\n",
       "      <td>1</td>\n",
       "      <td>2955305.486</td>\n",
       "      <td>1</td>\n",
       "      <td>2955305.486</td>\n",
       "    </tr>\n",
       "    <tr>\n",
       "      <th>2</th>\n",
       "      <td>2</td>\n",
       "      <td>3912336.152</td>\n",
       "      <td>2</td>\n",
       "      <td>4041397.856</td>\n",
       "      <td>2</td>\n",
       "      <td>2870332.804</td>\n",
       "      <td>2</td>\n",
       "      <td>3150406.685</td>\n",
       "      <td>2</td>\n",
       "      <td>3150406.685</td>\n",
       "    </tr>\n",
       "    <tr>\n",
       "      <th>3</th>\n",
       "      <td>3</td>\n",
       "      <td>3871931.729</td>\n",
       "      <td>3</td>\n",
       "      <td>3918431.657</td>\n",
       "      <td>3</td>\n",
       "      <td>3347146.337</td>\n",
       "      <td>3</td>\n",
       "      <td>3002839.922</td>\n",
       "      <td>3</td>\n",
       "      <td>3002839.922</td>\n",
       "    </tr>\n",
       "    <tr>\n",
       "      <th>4</th>\n",
       "      <td>4</td>\n",
       "      <td>4118568.233</td>\n",
       "      <td>4</td>\n",
       "      <td>3845470.975</td>\n",
       "      <td>4</td>\n",
       "      <td>4527001.337</td>\n",
       "      <td>4</td>\n",
       "      <td>3585829.711</td>\n",
       "      <td>4</td>\n",
       "      <td>3585829.711</td>\n",
       "    </tr>\n",
       "  </tbody>\n",
       "</table>\n",
       "</div>"
      ],
      "text/plain": [
       "   Id   Prediction  Id   Prediction  Id   Prediction  Id   Prediction  Id  \\\n",
       "0   0  4075868.325   0  4199414.207   0  3642989.645   0  4313880.458   0   \n",
       "1   1  3876920.438   1  4028701.604   1  2335815.097   1  2955305.486   1   \n",
       "2   2  3912336.152   2  4041397.856   2  2870332.804   2  3150406.685   2   \n",
       "3   3  3871931.729   3  3918431.657   3  3347146.337   3  3002839.922   3   \n",
       "4   4  4118568.233   4  3845470.975   4  4527001.337   4  3585829.711   4   \n",
       "\n",
       "    Prediction  \n",
       "0  4313880.458  \n",
       "1  2955305.486  \n",
       "2  3150406.685  \n",
       "3  3002839.922  \n",
       "4  3585829.711  "
      ]
     },
     "execution_count": 5,
     "metadata": {},
     "output_type": "execute_result"
    }
   ],
   "source": [
    "full_data.head()"
   ]
  },
  {
   "cell_type": "code",
   "execution_count": 7,
   "metadata": {},
   "outputs": [],
   "source": [
    "full_data.drop(\"Id\",axis=1,inplace=True)"
   ]
  },
  {
   "cell_type": "code",
   "execution_count": 8,
   "metadata": {},
   "outputs": [
    {
     "data": {
      "text/html": [
       "<div>\n",
       "<style scoped>\n",
       "    .dataframe tbody tr th:only-of-type {\n",
       "        vertical-align: middle;\n",
       "    }\n",
       "\n",
       "    .dataframe tbody tr th {\n",
       "        vertical-align: top;\n",
       "    }\n",
       "\n",
       "    .dataframe thead th {\n",
       "        text-align: right;\n",
       "    }\n",
       "</style>\n",
       "<table border=\"1\" class=\"dataframe\">\n",
       "  <thead>\n",
       "    <tr style=\"text-align: right;\">\n",
       "      <th></th>\n",
       "      <th>Prediction</th>\n",
       "      <th>Prediction</th>\n",
       "      <th>Prediction</th>\n",
       "      <th>Prediction</th>\n",
       "      <th>Prediction</th>\n",
       "    </tr>\n",
       "  </thead>\n",
       "  <tbody>\n",
       "    <tr>\n",
       "      <th>0</th>\n",
       "      <td>4075868.325</td>\n",
       "      <td>4199414.207</td>\n",
       "      <td>3642989.645</td>\n",
       "      <td>4313880.458</td>\n",
       "      <td>4313880.458</td>\n",
       "    </tr>\n",
       "    <tr>\n",
       "      <th>1</th>\n",
       "      <td>3876920.438</td>\n",
       "      <td>4028701.604</td>\n",
       "      <td>2335815.097</td>\n",
       "      <td>2955305.486</td>\n",
       "      <td>2955305.486</td>\n",
       "    </tr>\n",
       "    <tr>\n",
       "      <th>2</th>\n",
       "      <td>3912336.152</td>\n",
       "      <td>4041397.856</td>\n",
       "      <td>2870332.804</td>\n",
       "      <td>3150406.685</td>\n",
       "      <td>3150406.685</td>\n",
       "    </tr>\n",
       "    <tr>\n",
       "      <th>3</th>\n",
       "      <td>3871931.729</td>\n",
       "      <td>3918431.657</td>\n",
       "      <td>3347146.337</td>\n",
       "      <td>3002839.922</td>\n",
       "      <td>3002839.922</td>\n",
       "    </tr>\n",
       "    <tr>\n",
       "      <th>4</th>\n",
       "      <td>4118568.233</td>\n",
       "      <td>3845470.975</td>\n",
       "      <td>4527001.337</td>\n",
       "      <td>3585829.711</td>\n",
       "      <td>3585829.711</td>\n",
       "    </tr>\n",
       "  </tbody>\n",
       "</table>\n",
       "</div>"
      ],
      "text/plain": [
       "    Prediction   Prediction   Prediction   Prediction   Prediction\n",
       "0  4075868.325  4199414.207  3642989.645  4313880.458  4313880.458\n",
       "1  3876920.438  4028701.604  2335815.097  2955305.486  2955305.486\n",
       "2  3912336.152  4041397.856  2870332.804  3150406.685  3150406.685\n",
       "3  3871931.729  3918431.657  3347146.337  3002839.922  3002839.922\n",
       "4  4118568.233  3845470.975  4527001.337  3585829.711  3585829.711"
      ]
     },
     "execution_count": 8,
     "metadata": {},
     "output_type": "execute_result"
    }
   ],
   "source": [
    "full_data.head()"
   ]
  },
  {
   "cell_type": "code",
   "execution_count": 9,
   "metadata": {},
   "outputs": [],
   "source": [
    "full_data.columns=['Prediction1','Prediction2','Prediction3','Prediction4','Prediction5']"
   ]
  },
  {
   "cell_type": "code",
   "execution_count": 10,
   "metadata": {},
   "outputs": [],
   "source": [
    "full_data1=full_data.mean(axis=1)"
   ]
  },
  {
   "cell_type": "code",
   "execution_count": 11,
   "metadata": {
    "scrolled": true
   },
   "outputs": [
    {
     "data": {
      "text/plain": [
       "0    4.109207e+06\n",
       "1    3.230410e+06\n",
       "2    3.424976e+06\n",
       "3    3.428638e+06\n",
       "4    3.932540e+06\n",
       "dtype: float64"
      ]
     },
     "execution_count": 11,
     "metadata": {},
     "output_type": "execute_result"
    }
   ],
   "source": [
    "full_data1.head()"
   ]
  },
  {
   "cell_type": "code",
   "execution_count": 12,
   "metadata": {},
   "outputs": [
    {
     "data": {
      "text/plain": [
       "(100000,)"
      ]
     },
     "execution_count": 12,
     "metadata": {},
     "output_type": "execute_result"
    }
   ],
   "source": [
    "full_data1.shape"
   ]
  },
  {
   "cell_type": "code",
   "execution_count": 13,
   "metadata": {},
   "outputs": [
    {
     "name": "stderr",
     "output_type": "stream",
     "text": [
      "C:\\Users\\91989\\Anaconda3\\lib\\site-packages\\ipykernel_launcher.py:1: FutureWarning: The signature of `Series.to_csv` was aligned to that of `DataFrame.to_csv`, and argument 'header' will change its default value from False to True: please pass an explicit value to suppress this warning.\n",
      "  \"\"\"Entry point for launching an IPython kernel.\n"
     ]
    }
   ],
   "source": [
    "\n",
    "full_data1.to_csv(r'C:\\Users\\91989\\Documents\\PYTHON\\INSOFE_Internship\\TASK2\\restaurantrevenue\\full_data.csv')"
   ]
  },
  {
   "cell_type": "code",
   "execution_count": null,
   "metadata": {},
   "outputs": [],
   "source": []
  },
  {
   "cell_type": "code",
   "execution_count": null,
   "metadata": {},
   "outputs": [],
   "source": []
  },
  {
   "cell_type": "code",
   "execution_count": null,
   "metadata": {},
   "outputs": [],
   "source": []
  }
 ],
 "metadata": {
  "kernelspec": {
   "display_name": "Python 3",
   "language": "python",
   "name": "python3"
  },
  "language_info": {
   "codemirror_mode": {
    "name": "ipython",
    "version": 3
   },
   "file_extension": ".py",
   "mimetype": "text/x-python",
   "name": "python",
   "nbconvert_exporter": "python",
   "pygments_lexer": "ipython3",
   "version": "3.7.4"
  }
 },
 "nbformat": 4,
 "nbformat_minor": 2
}
